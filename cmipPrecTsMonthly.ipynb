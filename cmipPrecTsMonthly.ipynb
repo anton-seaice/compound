{
 "cells": [
  {
   "cell_type": "markdown",
   "id": "cee716c2",
   "metadata": {},
   "source": [
    "# cesm Rainfall Anomalies"
   ]
  },
  {
   "cell_type": "code",
   "execution_count": null,
   "id": "138ba671",
   "metadata": {
    "tags": []
   },
   "outputs": [],
   "source": [
    "#import my functions\n",
    "import helpers.fileHandler as fh\n",
    "import utils._modelDefinitions as _model\n",
    "import utils._indexDefinitions as _index\n",
    "import utils.timePeriod as tp"
   ]
  },
  {
   "cell_type": "code",
   "execution_count": null,
   "id": "52a51239",
   "metadata": {},
   "outputs": [],
   "source": [
    "import xarray\n",
    "import numpy\n",
    "import cftime\n",
    "import cartopy.crs as ccrs\n",
    "import cartopy.feature as cfeature\n",
    "import matplotlib.pyplot as plt\n",
    "import matplotlib.patches as mpatches\n",
    "from matplotlib.offsetbox import AnchoredText\n",
    "import cartopy.io.shapereader as shpr\n",
    "\n",
    "%matplotlib inline"
   ]
  },
  {
   "cell_type": "code",
   "execution_count": null,
   "id": "1a88b012-3e55-4206-8b18-812e681c246c",
   "metadata": {},
   "outputs": [],
   "source": [
    "import warnings\n",
    "warnings.filterwarnings('ignore')"
   ]
  },
  {
   "cell_type": "code",
   "execution_count": null,
   "id": "ede5a002",
   "metadata": {},
   "outputs": [],
   "source": [
    "secondsPerDay = 60*60*24\n",
    "secondsToTimeP = secondsPerDay*1000 #seconds per day, convert m to mm\n",
    "#secondsToTimeP = secondsPerDay*_index.nDaysOfInterest[\"precAnom\"]*1000/7 #seconds per month"
   ]
  },
  {
   "cell_type": "markdown",
   "id": "2012dd46",
   "metadata": {},
   "source": [
    "# Carve out an area of interest, and calculate anomalies"
   ]
  },
  {
   "cell_type": "code",
   "execution_count": null,
   "id": "f5bc2718-ac0a-4a27-9437-6964506855da",
   "metadata": {},
   "outputs": [],
   "source": [
    "_model.scenarioMip[:,1]"
   ]
  },
  {
   "cell_type": "code",
   "execution_count": null,
   "id": "061ee400-a894-41c3-a365-56d9297cd68e",
   "metadata": {},
   "outputs": [],
   "source": [
    "#model='ACCESS-CM2'\n",
    "for model in _model.scenarioMip[18:]:\n",
    "    #Calculate a climatology\n",
    "    #Based on the control run, calculate monthly anomalies\n",
    "    print(model)\n",
    "    xr = xarray.merge([\n",
    "        fh.loadModelData(model[1], 'pr_Amon', 'piControl', model[2]),\n",
    "        fh.loadModelData(model[1], 'tas_Amon', 'piControl', model[2])\n",
    "    ], compat='override')\n",
    "    monMeansDa=xr.groupby('time.month').mean(dim='time')\n",
    "    monMeansDa.where(\n",
    "            (monMeansDa.lat>-50) & (monMeansDa.lat<0) & (monMeansDa.lon>100) & (monMeansDa.lon<170),\n",
    "            drop=True\n",
    "        ).load()\n",
    "    monMeansDa.to_netcdf('results/cmipMonthlyPrTs/monMeans'+model[1]+experiment.capitalize()+'.nc')\n",
    "\n",
    "    \n",
    "    #anom for piControl\n",
    "    anomDa=xr.groupby('time.month')-monMeansDa\n",
    "    anomDa['model']=model[1]\n",
    "\n",
    "    #grab area around Australia\n",
    "    domainDa=anomDa.where(\n",
    "        (anomDa.lat>-50) & (anomDa.lat<0) & (anomDa.lon>100) & (anomDa.lon<170),\n",
    "        drop=True\n",
    "    )\n",
    "\n",
    "    domainDa.to_netcdf(\n",
    "        'results/cmipMonthlyPrTs/'+model[1]+'PiControl.nc')\n",
    "    domainDa.close()\n",
    "    \n",
    "    monMeansDa=xarray.open_Dataset(\n",
    "        'results/cmipMonthlyPrTs/monMeans'+model[1]+experiment.capitalize()+'.nc')\n",
    "    \n",
    "    #calculate anomalies for all scenarios\n",
    "    for experiment in _model.scenarioSet:\n",
    "        \n",
    "        try: \n",
    "            #load it\n",
    "            xr = xarray.merge([\n",
    "                fh.loadModelData(model[1], 'pr_Amon', experiment, model[3]),\n",
    "                fh.loadModelData(model[1], 'tas_Amon', experiment, model[3])\n",
    "            ], compat='override')\n",
    "\n",
    "            #anom\n",
    "            anomDa=xr.groupby('time.month')-monMeansDa\n",
    "            anomDa['model']=model[1]\n",
    "\n",
    "            #grab area around Australia\n",
    "            domainDa=anomDa.where(\n",
    "                (anomDa.lat>-50) & (anomDa.lat<0) & (anomDa.lon>100) & (anomDa.lon<170),\n",
    "                drop=True\n",
    "            )\n",
    "\n",
    "            domainDa.to_netcdf(\n",
    "                'results/cmipMonthlyPrTs/'+model[1]+'_'+experiment+'.nc')\n",
    "        except Exception as e:\n",
    "            print(model[1] + \" did not calculate\")\n",
    "            print(e)"
   ]
  },
  {
   "cell_type": "markdown",
   "id": "eb78ada6",
   "metadata": {},
   "source": [
    "# Time averaging for the anomalies"
   ]
  },
  {
   "cell_type": "code",
   "execution_count": null,
   "id": "8a7b2429-e4d7-493d-a310-eaff3cdd9566",
   "metadata": {},
   "outputs": [],
   "source": [
    "for experiment in _model.experimentSet:\n",
    "    monthlyAnomDa=xarray.concat([\n",
    "        xarray.open_dataset(\n",
    "            'results/cmipMonthlyPrTs/'+model+'_'+experiment+'.nc') for model in _model.scenarioMip],\n",
    "    'model')\n",
    "    \n",
    "\n",
    "    monthlyAnomDa=monthlyAnomDa.assign({'model':_model.scenarioMip})\n",
    "    warmSeasonAnomDa=xarray.DataArray()\n",
    "    \n",
    "    warmSeasonAnomDa['pr']=secondsToTimeP*tp.averageForTimePeriod(monthlyAnomDa.pr)\n",
    "    warmSeasonAnomDa['ts']=tp.averageForTimePeriod(monthlyAnomDa.ts)\n",
    "    warmSeasonAnomDa = warmSeasonAnomDa.assign_attrs([*warmSeasonAnomDa.attrs, ('units','mm/month'), ('timePeriod','Warm Season')])\n",
    "\n",
    "    warmSeasonAnomDa.to_netcdf('results/cmip'+experiment.capitalize()+'PrecAnoms.nc')"
   ]
  },
  {
   "cell_type": "code",
   "execution_count": null,
   "id": "a93c0444",
   "metadata": {},
   "outputs": [],
   "source": []
  }
 ],
 "metadata": {
  "kernelspec": {
   "display_name": "Python 3",
   "language": "python",
   "name": "python3"
  },
  "language_info": {
   "codemirror_mode": {
    "name": "ipython",
    "version": 3
   },
   "file_extension": ".py",
   "mimetype": "text/x-python",
   "name": "python",
   "nbconvert_exporter": "python",
   "pygments_lexer": "ipython3",
   "version": "3.8.8"
  }
 },
 "nbformat": 4,
 "nbformat_minor": 5
}
