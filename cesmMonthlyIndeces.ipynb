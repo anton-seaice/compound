{
 "cells": [
  {
   "cell_type": "markdown",
   "metadata": {},
   "source": [
    "# Calculate CESM Indeces"
   ]
  },
  {
   "cell_type": "markdown",
   "metadata": {},
   "source": [
    "This file just calculates all the indeces for all months for all cesmFullForcingFiles.\n",
    "\n",
    "Could be generalised if desired."
   ]
  },
  {
   "cell_type": "code",
   "execution_count": 1,
   "metadata": {},
   "outputs": [],
   "source": [
    "#import my functions\n",
    "import helpers.fileHandler as fh\n",
    "import utils._modelDefinitions as _model\n",
    "import utils.sstIndex as sst\n",
    "import utils.pslIndex as psl\n"
   ]
  },
  {
   "cell_type": "code",
   "execution_count": 2,
   "metadata": {},
   "outputs": [],
   "source": [
    "import xarray"
   ]
  },
  {
   "cell_type": "code",
   "execution_count": 3,
   "metadata": {},
   "outputs": [],
   "source": [
    "import warnings\n",
    "warnings.filterwarnings('ignore')"
   ]
  },
  {
   "cell_type": "markdown",
   "metadata": {},
   "source": [
    "Data for climatology"
   ]
  },
  {
   "cell_type": "code",
   "execution_count": null,
   "metadata": {},
   "outputs": [
    {
     "name": "stdout",
     "output_type": "stream",
     "text": [
      "Files imported: \n",
      " ['/Users/ajs/CMIP5-PMIP3/CESM-LME/mon/SST/b.e11.B1850C5CN.f19_g16.0850cntl.001.pop.h.SST.120001-129912.nc', '/Users/ajs/CMIP5-PMIP3/CESM-LME/mon/SST/b.e11.B1850C5CN.f19_g16.0850cntl.001.pop.h.SST.170001-179912.nc', '/Users/ajs/CMIP5-PMIP3/CESM-LME/mon/SST/b.e11.B1850C5CN.f19_g16.0850cntl.001.pop.h.SST.090001-099912.nc', '/Users/ajs/CMIP5-PMIP3/CESM-LME/mon/SST/b.e11.B1850C5CN.f19_g16.0850cntl.001.pop.h.SST.160001-169912.nc', '/Users/ajs/CMIP5-PMIP3/CESM-LME/mon/SST/b.e11.B1850C5CN.f19_g16.0850cntl.001.pop.h.SST.185001-200512.nc', '/Users/ajs/CMIP5-PMIP3/CESM-LME/mon/SST/b.e11.B1850C5CN.f19_g16.0850cntl.001.pop.h.SST.130001-139912.nc', '/Users/ajs/CMIP5-PMIP3/CESM-LME/mon/SST/b.e11.B1850C5CN.f19_g16.0850cntl.001.pop.h.SST.180001-184912.nc', '/Users/ajs/CMIP5-PMIP3/CESM-LME/mon/SST/b.e11.B1850C5CN.f19_g16.0850cntl.001.pop.h.SST.140001-149912.nc', '/Users/ajs/CMIP5-PMIP3/CESM-LME/mon/SST/b.e11.B1850C5CN.f19_g16.0850cntl.001.pop.h.SST.110001-119912.nc', '/Users/ajs/CMIP5-PMIP3/CESM-LME/mon/SST/b.e11.B1850C5CN.f19_g16.0850cntl.001.pop.h.SST.085001-089912.nc', '/Users/ajs/CMIP5-PMIP3/CESM-LME/mon/SST/b.e11.B1850C5CN.f19_g16.0850cntl.001.pop.h.SST.100001-109912.nc', '/Users/ajs/CMIP5-PMIP3/CESM-LME/mon/SST/b.e11.B1850C5CN.f19_g16.0850cntl.001.pop.h.SST.150001-159912.nc']\n",
      "Files imported: \n",
      " ['/Volumes/Untitled/CMIP5-PMIP3/CESM-LME/mon/PSL/b.e11.B1850C5CN.f19_g16.0850cntl.001.cam.h0.PSL.085001-184912.nc', '/Volumes/Untitled/CMIP5-PMIP3/CESM-LME/mon/PSL/b.e11.B1850C5CN.f19_g16.0850cntl.001.cam.h0.PSL.185001-200512.nc']\n"
     ]
    }
   ],
   "source": [
    "sstClimatDs=fh.loadModelData('CESM-LME', 'SST', '0850cntl.001')\n",
    "pslClimatDs=fh.loadModelData('CESM-LME', 'PSL', '0850cntl.001')\n",
    "\n",
    "sstClimat=sst.calculateClimatology(sstClimatDs, 850, 2005)\n",
    "pslClimat=psl.calculateClimatology(pslClimatDs, 850, 2005)\n",
    "\n",
    "#loading both those things\n",
    "for keys in sstClimat:\n",
    "    sstClimat[keys].load()\n",
    "    \n",
    "pslClimat.load()"
   ]
  },
  {
   "cell_type": "code",
   "execution_count": null,
   "metadata": {},
   "outputs": [],
   "source": [
    "sstClimatDs.close()\n",
    "pslClimatDs.close()"
   ]
  },
  {
   "cell_type": "markdown",
   "metadata": {},
   "source": [
    "For each experiment in Full Forcings, calculate all the indeces"
   ]
  },
  {
   "cell_type": "code",
   "execution_count": null,
   "metadata": {},
   "outputs": [],
   "source": [
    "for experiment in _model.cesmFullForcings:\n",
    "    print(experiment)\n",
    "    sstDs = fh.loadModelData('CESM-LME', 'SST', experiment)\n",
    "    pslDs = fh.loadModelData('CESM-LME', 'PSL', experiment)\n",
    "    pslIndex = psl.calculateSamIndex(pslDs, pslClimat)\n",
    "    sstIndex = sst.calculateIndex(sstDs, sstClimat)\n",
    "    indeces = xarray.merge([pslIndex, sstIndex])\n",
    "    indeces.assign_attrs(climatology='calculated based on 850-2005 climatology from the control run')\n",
    "    indeces.to_netcdf('results/cesmMonthlyIndeces/' + experiment + '.nc')\n"
   ]
  },
  {
   "cell_type": "code",
   "execution_count": null,
   "metadata": {},
   "outputs": [],
   "source": [
    "# RCP8.5 extensions are a special case\n",
    "\n",
    "\n",
    "for experiment in ['002'] #, '003', '008', '009']:\n",
    "    \n",
    "    pre2005Ds = xarray.load_dataset('results/cesmMonthlyIndeces/' + experiment + '.nc'\n",
    "                                    \n",
    "    print('LME.'+experiment)\n",
    "    sstDs = fh.loadModelData('CESM-LME', 'SST', 'LME.'+experiment)\n",
    "    \n",
    "    sstIndex = xarray.concat(\n",
    "        (pre2005Ds,sst.calculateIndex(sstDs, sstClimatDs)),\n",
    "        'time'\n",
    "    )\n",
    "        \n",
    "    \n",
    "    pslDs = fh.loadModelData('CESM-LME', 'PSL', 'LME.'+experiment)\n",
    "        \n",
    "    pslIndex=xarray.concat(\n",
    "        (pre2005Ds, xarray('CESM-LME', 'PSL', experiment)),\n",
    "        'time'\n",
    "    )\n",
    "\n",
    "    \n",
    "    \n",
    "    pslIndex = psl.calculateSamIndex(pslDs, pslClimatDs)\n",
    "\n",
    "    indeces = xarray.merge([pslIndex, sstIndex])\n",
    "    indeces.assign_attrs(climatology='calculated based on 850-1850 climatology')\n",
    "    indeces.to_netcdf('results/cesmMonthlyIndeces/LME.' + experiment + '.nc')\n"
   ]
  },
  {
   "cell_type": "code",
   "execution_count": null,
   "metadata": {},
   "outputs": [],
   "source": []
  }
 ],
 "metadata": {
  "kernelspec": {
   "display_name": "Python 3",
   "language": "python",
   "name": "python3"
  },
  "language_info": {
   "codemirror_mode": {
    "name": "ipython",
    "version": 3
   },
   "file_extension": ".py",
   "mimetype": "text/x-python",
   "name": "python",
   "nbconvert_exporter": "python",
   "pygments_lexer": "ipython3",
   "version": "3.8.8"
  }
 },
 "nbformat": 4,
 "nbformat_minor": 4
}
