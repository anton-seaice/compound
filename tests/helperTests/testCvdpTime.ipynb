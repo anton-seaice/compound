{
 "cells": [
  {
   "cell_type": "markdown",
   "metadata": {},
   "source": [
    "# Test Cvdp Time Handling"
   ]
  },
  {
   "cell_type": "markdown",
   "metadata": {},
   "source": [
    "Currently this workbook only shows that it produces a useable array of time objects. There is no limit testing etc."
   ]
  },
  {
   "cell_type": "code",
   "execution_count": null,
   "metadata": {},
   "outputs": [],
   "source": [
    "import sys\n",
    "sys.path.append(sys.path[0]+'/../..')\n",
    "\n",
    "import helpers.cvdpTime as cvdpTime\n",
    "\n",
    "import xarray\n"
   ]
  },
  {
   "cell_type": "markdown",
   "metadata": {},
   "source": [
    "First load up the cvdp and figure out which indexes we want to calculate"
   ]
  },
  {
   "cell_type": "code",
   "execution_count": null,
   "metadata": {},
   "outputs": [],
   "source": [
    "cvdp = xarray.open_dataset(\n",
    "    'E:/CMIP5-PMIP3/CESM-LME/cesm1.lm.cvdp_data/b.e11.BLMTRC5CN.f19_g16.001.cvdp_data.850-2005.nc',\n",
    "                           decode_times=False\n",
    ")"
   ]
  },
  {
   "cell_type": "code",
   "execution_count": null,
   "metadata": {},
   "outputs": [],
   "source": [
    "iodCvdp = cvdp.indian_ocean_dipole\n",
    "del cvdp\n",
    "\n",
    "#just plot something for sanity\n",
    "iodCvdp.plot()"
   ]
  },
  {
   "cell_type": "code",
   "execution_count": null,
   "metadata": {},
   "outputs": [],
   "source": [
    "iodCvdp"
   ]
  },
  {
   "cell_type": "code",
   "execution_count": null,
   "metadata": {},
   "outputs": [],
   "source": [
    "len(iodCvdp.time)"
   ]
  },
  {
   "cell_type": "code",
   "execution_count": null,
   "metadata": {},
   "outputs": [],
   "source": [
    "iodCvdp = cvdpTime.decodeTime(iodCvdp)\n",
    "iodCvdp"
   ]
  },
  {
   "cell_type": "code",
   "execution_count": null,
   "metadata": {},
   "outputs": [],
   "source": [
    "iodCvdp.plot.line()"
   ]
  },
  {
   "cell_type": "code",
   "execution_count": null,
   "metadata": {},
   "outputs": [],
   "source": [
    "# should be jan 850\n",
    "startTime = iodCvdp.time.values[0]\n",
    "\n",
    "try:\n",
    "    if (startTime.year!=850 or startTime.month!=1):\n",
    "        raise 'start time appears wrong'\n",
    "except:\n",
    "    print('start time appears wrong')\n",
    "    print(startTime)   \n"
   ]
  },
  {
   "cell_type": "code",
   "execution_count": null,
   "metadata": {},
   "outputs": [],
   "source": [
    "# should be jan 850\n",
    "startTime = iodCvdp.time.values[-1]\n",
    "\n",
    "try:\n",
    "    if (startTime.year!=2005 or startTime.month!=12):\n",
    "        raise 'start time appears wrong'\n",
    "except:\n",
    "    print('start time appears wrong')\n",
    "    print(startTime)   \n",
    "# should be dec 2005"
   ]
  },
  {
   "cell_type": "code",
   "execution_count": null,
   "metadata": {},
   "outputs": [],
   "source": []
  }
 ],
 "metadata": {
  "kernelspec": {
   "display_name": "Python 3",
   "language": "python",
   "name": "python3"
  },
  "language_info": {
   "codemirror_mode": {
    "name": "ipython",
    "version": 3
   },
   "file_extension": ".py",
   "mimetype": "text/x-python",
   "name": "python",
   "nbconvert_exporter": "python",
   "pygments_lexer": "ipython3",
   "version": "3.8.8"
  }
 },
 "nbformat": 4,
 "nbformat_minor": 4
}
