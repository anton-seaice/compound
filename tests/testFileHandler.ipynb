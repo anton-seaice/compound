{
 "cells": [
  {
   "cell_type": "markdown",
   "metadata": {},
   "source": [
    "# Test file import"
   ]
  },
  {
   "cell_type": "markdown",
   "metadata": {},
   "source": [
    "This workbook is to test the fileHandler.\n",
    "\n",
    "This tests find the relevant netCDF files in a directory.\n",
    "\n",
    "It then does tests the big picture - loading a variable dataset from a CESM run number, (in future, also from a CMIP5 Model output)."
   ]
  },
  {
   "cell_type": "code",
   "execution_count": 1,
   "metadata": {},
   "outputs": [],
   "source": [
    "import sys\n",
    "sys.path.append('../')\n",
    "import helpers.fileHandler as fh"
   ]
  },
  {
   "cell_type": "markdown",
   "metadata": {},
   "source": [
    "<b>Test File Lists</b>\n",
    "\n",
    "This code block tests if lists of files are returned correctly from the directory and filter arguments provided."
   ]
  },
  {
   "cell_type": "code",
   "execution_count": 2,
   "metadata": {},
   "outputs": [
    {
     "name": "stdout",
     "output_type": "stream",
     "text": [
      "['/Volumes/Untitled/CMIP5-PMIP3/CESM-LME/mon/SSTb.e11.BLMTRC5CN.f19_g16.001.pop.h.SST.085001-089912.nc', '/Volumes/Untitled/CMIP5-PMIP3/CESM-LME/mon/SSTb.e11.BLMTRC5CN.f19_g16.001.pop.h.SST.090001-099912.nc', '/Volumes/Untitled/CMIP5-PMIP3/CESM-LME/mon/SSTb.e11.BLMTRC5CN.f19_g16.001.pop.h.SST.100001-109912.nc', '/Volumes/Untitled/CMIP5-PMIP3/CESM-LME/mon/SSTb.e11.BLMTRC5CN.f19_g16.001.pop.h.SST.110001-119912.nc', '/Volumes/Untitled/CMIP5-PMIP3/CESM-LME/mon/SSTb.e11.BLMTRC5CN.f19_g16.001.pop.h.SST.120001-129912.nc', '/Volumes/Untitled/CMIP5-PMIP3/CESM-LME/mon/SSTb.e11.BLMTRC5CN.f19_g16.001.pop.h.SST.130001-139912.nc', '/Volumes/Untitled/CMIP5-PMIP3/CESM-LME/mon/SSTb.e11.BLMTRC5CN.f19_g16.001.pop.h.SST.140001-149912.nc', '/Volumes/Untitled/CMIP5-PMIP3/CESM-LME/mon/SSTb.e11.BLMTRC5CN.f19_g16.001.pop.h.SST.150001-159912.nc', '/Volumes/Untitled/CMIP5-PMIP3/CESM-LME/mon/SSTb.e11.BLMTRC5CN.f19_g16.001.pop.h.SST.160001-169912.nc', '/Volumes/Untitled/CMIP5-PMIP3/CESM-LME/mon/SSTb.e11.BLMTRC5CN.f19_g16.001.pop.h.SST.170001-179912.nc', '/Volumes/Untitled/CMIP5-PMIP3/CESM-LME/mon/SSTb.e11.BLMTRC5CN.f19_g16.001.pop.h.SST.180001-184912.nc', '/Volumes/Untitled/CMIP5-PMIP3/CESM-LME/mon/SSTb.e11.BLMTRC5CN.f19_g16.001.pop.h.SST.185001-200512.nc']\n",
      "\n",
      "\n",
      " Please visually check outputs look ok.\n"
     ]
    }
   ],
   "source": [
    "#Default use case\n",
    "fileList1 = fh.getFilePaths('CESM-LME/mon/SST', 'b\\.e11\\.BLMTRC5CN\\.f19_g16.001\\.pop\\.h\\.SST\\..+\\.nc')\n",
    "\n",
    "print(fileList1)\n",
    "\n",
    "#Second use case, all .nc files returned\n",
    "fileList2 = fh.getFilePaths('CESM-LME/mon/Ts/v7')\n",
    "#print(fileList2)\n",
    "\n",
    "print(\"\\n\\n Please file paths look ok.\")"
   ]
  },
  {
   "cell_type": "code",
   "execution_count": 3,
   "metadata": {},
   "outputs": [
    {
     "name": "stdout",
     "output_type": "stream",
     "text": [
      "Test passed - Negative case 1 correctly rejected\n",
      "Test passed - Negative case 2 correctly rejected\n",
      "Test passed - Case 3 correctly rejected\n"
     ]
    }
   ],
   "source": [
    "#Negative cases\n",
    "try:\n",
    "    #too many arguments given\n",
    "    fh.getFilePaths('CESM-LME/mon/Ts/v7', 'andrew', 'jones')\n",
    "except:\n",
    "    print(\"Test passed - Negative case 1 correctly rejected\")\n",
    "else:\n",
    "    raise RuntimeError(\"Test failed, function accepted too many arguments\")\n",
    "\n",
    "try:\n",
    "    #too many arguments again, but they are valid\n",
    "    fh.getFilePaths('CESM-LME/mon/SST', 'b\\.e11\\.BLMTRC5CN\\.f19_g16.001\\.pop\\.h\\.SST\\..+\\.nc', 'b\\.e11\\.BLMTRC5CN\\.f19_g16.001\\.pop\\.h\\.SST\\..+\\.nc')\n",
    "except:\n",
    "    print(\"Test passed - Negative case 2 correctly rejected\")\n",
    "else:\n",
    "    raise RuntimeError(\"Test failed, function accepted too many arguments\")\n",
    "\n",
    "try:\n",
    "    #No arguments given\n",
    "    fh.getFilePaths()\n",
    "    #    except:\n",
    "except:\n",
    "    print(\"Test passed - Case 3 correctly rejected\")\n",
    "else:\n",
    "    raise RuntimeError(\"Test failed, function accepted 0 arguments\")\n",
    "            \n"
   ]
  },
  {
   "cell_type": "markdown",
   "metadata": {},
   "source": [
    "<b>Test finding directory paths:</b>"
   ]
  },
  {
   "cell_type": "code",
   "execution_count": 4,
   "metadata": {},
   "outputs": [
    {
     "name": "stdout",
     "output_type": "stream",
     "text": [
      "Test passed - wrong model name correctly rejected\n",
      "Test passed - wrong output name correctly rejected\n",
      "Test passed - wrong number of arguments correctly rejected\n"
     ]
    }
   ],
   "source": [
    "#Negative case, check it throws an error\n",
    "try:\n",
    "    fh.constructDirectoryPath('CESM','MON')\n",
    "except:\n",
    "    print(\"Test passed - wrong model name correctly rejected\")\n",
    "else:\n",
    "    raise RuntimeError(\"Test failed, functioned accepted wrong model name\")\n",
    "    \n",
    "#Negative case, check it throws an error\n",
    "try:\n",
    "    fh.constructDirectoryPath('CESM-LME','mon')\n",
    "except:\n",
    "    print(\"Test passed - wrong output name correctly rejected\")\n",
    "else:\n",
    "    raise RuntimeError(\"Test failed, functioned accepted output model name\")\n",
    "    \n",
    "#Negative case, check it throws an error\n",
    "try:\n",
    "    fh.constructDirectoryPath('CESM-LME','MON')\n",
    "except:\n",
    "    print(\"Test passed - wrong number of arguments correctly rejected\")\n",
    "else:\n",
    "    raise RuntimeError(\"Test failed, functioned accepted wrong number of argument\")"
   ]
  },
  {
   "cell_type": "code",
   "execution_count": 5,
   "metadata": {},
   "outputs": [
    {
     "name": "stdout",
     "output_type": "stream",
     "text": [
      "CESM-LME/mon/SST/\n",
      "CESM-LME/day/PRECT/\n"
     ]
    }
   ],
   "source": [
    "#Some positive cases\n",
    "\n",
    "#Note there is no range checking of the last field in the function.\n",
    "\n",
    "print(fh.constructDirectoryPath('CESM-LME','MON','SST'))\n",
    "print(fh.constructDirectoryPath('CESM-LME','DAY','PRECT'))"
   ]
  },
  {
   "cell_type": "code",
   "execution_count": null,
   "metadata": {},
   "outputs": [],
   "source": []
  }
 ],
 "metadata": {
  "kernelspec": {
   "display_name": "Python 3",
   "language": "python",
   "name": "python3"
  },
  "language_info": {
   "codemirror_mode": {
    "name": "ipython",
    "version": 3
   },
   "file_extension": ".py",
   "mimetype": "text/x-python",
   "name": "python",
   "nbconvert_exporter": "python",
   "pygments_lexer": "ipython3",
   "version": "3.8.5"
  }
 },
 "nbformat": 4,
 "nbformat_minor": 4
}
