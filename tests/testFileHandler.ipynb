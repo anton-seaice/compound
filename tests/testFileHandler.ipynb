{
 "cells": [
  {
   "cell_type": "markdown",
   "metadata": {},
   "source": [
    "Test file import"
   ]
  },
  {
   "cell_type": "code",
   "execution_count": 6,
   "metadata": {},
   "outputs": [
    {
     "data": {
      "text/plain": [
       "['E:/CMIP5-PMIP3/CESM-LME/mon/SSTb.e11.BLMTRC5CN.f19_g16.001.pop.h.SST.085001-089912.nc',\n",
       " 'E:/CMIP5-PMIP3/CESM-LME/mon/SSTb.e11.BLMTRC5CN.f19_g16.001.pop.h.SST.090001-099912.nc',\n",
       " 'E:/CMIP5-PMIP3/CESM-LME/mon/SSTb.e11.BLMTRC5CN.f19_g16.001.pop.h.SST.100001-109912.nc',\n",
       " 'E:/CMIP5-PMIP3/CESM-LME/mon/SSTb.e11.BLMTRC5CN.f19_g16.001.pop.h.SST.110001-119912.nc',\n",
       " 'E:/CMIP5-PMIP3/CESM-LME/mon/SSTb.e11.BLMTRC5CN.f19_g16.001.pop.h.SST.120001-129912.nc',\n",
       " 'E:/CMIP5-PMIP3/CESM-LME/mon/SSTb.e11.BLMTRC5CN.f19_g16.001.pop.h.SST.130001-139912.nc',\n",
       " 'E:/CMIP5-PMIP3/CESM-LME/mon/SSTb.e11.BLMTRC5CN.f19_g16.001.pop.h.SST.140001-149912.nc',\n",
       " 'E:/CMIP5-PMIP3/CESM-LME/mon/SSTb.e11.BLMTRC5CN.f19_g16.001.pop.h.SST.150001-159912.nc',\n",
       " 'E:/CMIP5-PMIP3/CESM-LME/mon/SSTb.e11.BLMTRC5CN.f19_g16.001.pop.h.SST.160001-169912.nc',\n",
       " 'E:/CMIP5-PMIP3/CESM-LME/mon/SSTb.e11.BLMTRC5CN.f19_g16.001.pop.h.SST.170001-179912.nc',\n",
       " 'E:/CMIP5-PMIP3/CESM-LME/mon/SSTb.e11.BLMTRC5CN.f19_g16.001.pop.h.SST.180001-184912.nc',\n",
       " 'E:/CMIP5-PMIP3/CESM-LME/mon/SSTb.e11.BLMTRC5CN.f19_g16.001.pop.h.SST.185001-200512.nc']"
      ]
     },
     "execution_count": 6,
     "metadata": {},
     "output_type": "execute_result"
    }
   ],
   "source": [
    "import sys\n",
    "\n",
    "sys.path.append('../')\n",
    "import helpers.fileHandler as fh\n",
    "\n",
    "fileList1 = fh.getFilePaths('CESM-LME/mon/SST', 'b\\.e11\\.BLMTRC5CN\\.f19_g16.001\\.pop\\.h\\.SST\\..+\\.nc')\n",
    "\n",
    "fileList2 = fh.getFilePaths('CESM-LME/mon/Ts/v7')\n",
    "\n",
    "fileList1\n",
    "\n",
    "\n",
    "#add negative case test"
   ]
  },
  {
   "cell_type": "code",
   "execution_count": null,
   "metadata": {},
   "outputs": [],
   "source": []
  }
 ],
 "metadata": {
  "kernelspec": {
   "display_name": "Python 3",
   "language": "python",
   "name": "python3"
  },
  "language_info": {
   "codemirror_mode": {
    "name": "ipython",
    "version": 3
   },
   "file_extension": ".py",
   "mimetype": "text/x-python",
   "name": "python",
   "nbconvert_exporter": "python",
   "pygments_lexer": "ipython3",
   "version": "3.8.5"
  }
 },
 "nbformat": 4,
 "nbformat_minor": 4
}
