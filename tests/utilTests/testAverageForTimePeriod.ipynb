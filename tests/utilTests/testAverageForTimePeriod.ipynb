{
 "cells": [
  {
   "cell_type": "markdown",
   "metadata": {},
   "source": [
    "# Test monthly average"
   ]
  },
  {
   "cell_type": "markdown",
   "metadata": {},
   "source": [
    "First make up some data and calculate the averages, then try using my function, and see you get the same answer."
   ]
  },
  {
   "cell_type": "code",
   "execution_count": 1,
   "metadata": {},
   "outputs": [],
   "source": [
    "#import my functions\n",
    "import sys\n",
    "sys.path.append(sys.path[0]+'/../..')\n",
    "\n",
    "\n",
    "import helpers.fileHandler as fh\n",
    "import utils.sstIndex as sst\n",
    "import utils.pslIndex as psl\n",
    "import utils._indexDefinitions as _index\n",
    "from utils.timePeriod import averageForTimePeriod"
   ]
  },
  {
   "cell_type": "code",
   "execution_count": 2,
   "metadata": {},
   "outputs": [],
   "source": [
    "import xarray\n",
    "import numpy\n",
    "import cftime\n",
    "import pandas"
   ]
  },
  {
   "cell_type": "markdown",
   "metadata": {},
   "source": [
    "I am going to make up some data, and put it in a pandas array first"
   ]
  },
  {
   "cell_type": "code",
   "execution_count": 3,
   "metadata": {},
   "outputs": [],
   "source": [
    "#first make up some time period\n",
    "dateRange=xarray.cftime_range(\n",
    "    start=cftime.DatetimeNoLeap(1995,1,1),\n",
    "    end=cftime.DatetimeNoLeap(1999,12,1),\n",
    "    freq='M')"
   ]
  },
  {
   "cell_type": "code",
   "execution_count": 4,
   "metadata": {},
   "outputs": [],
   "source": [
    "#put it into a pd Dataframe\n",
    "testPd=pandas.DataFrame(index=dateRange)\n",
    "\n",
    "testPd.index.name='time'"
   ]
  },
  {
   "cell_type": "code",
   "execution_count": 12,
   "metadata": {},
   "outputs": [],
   "source": [
    "#add some rando data\n",
    "for keys in _index.monthsOfInterest:\n",
    "    testPd[keys]=5*numpy.random.rand(len(dateRange),1)"
   ]
  },
  {
   "cell_type": "markdown",
   "metadata": {},
   "source": [
    "I am now going to calculate the averages in a really easy to understand way"
   ]
  },
  {
   "cell_type": "code",
   "execution_count": 13,
   "metadata": {},
   "outputs": [
    {
     "data": {
      "text/html": [
       "<div>\n",
       "<style scoped>\n",
       "    .dataframe tbody tr th:only-of-type {\n",
       "        vertical-align: middle;\n",
       "    }\n",
       "\n",
       "    .dataframe tbody tr th {\n",
       "        vertical-align: top;\n",
       "    }\n",
       "\n",
       "    .dataframe thead th {\n",
       "        text-align: right;\n",
       "    }\n",
       "</style>\n",
       "<table border=\"1\" class=\"dataframe\">\n",
       "  <thead>\n",
       "    <tr style=\"text-align: right;\">\n",
       "      <th></th>\n",
       "      <th>nino34NoDetrend</th>\n",
       "      <th>nino4NoDetrend</th>\n",
       "      <th>westIONoDetrend</th>\n",
       "      <th>eastIONoDetrend</th>\n",
       "      <th>dmi</th>\n",
       "      <th>nino34</th>\n",
       "      <th>nino4</th>\n",
       "      <th>westIO</th>\n",
       "      <th>eastIO</th>\n",
       "      <th>sam</th>\n",
       "    </tr>\n",
       "    <tr>\n",
       "      <th>year</th>\n",
       "      <th></th>\n",
       "      <th></th>\n",
       "      <th></th>\n",
       "      <th></th>\n",
       "      <th></th>\n",
       "      <th></th>\n",
       "      <th></th>\n",
       "      <th></th>\n",
       "      <th></th>\n",
       "      <th></th>\n",
       "    </tr>\n",
       "  </thead>\n",
       "  <tbody>\n",
       "    <tr>\n",
       "      <th>1995</th>\n",
       "      <td>2.44497</td>\n",
       "      <td>2.36956</td>\n",
       "      <td>1.96825</td>\n",
       "      <td>2.69948</td>\n",
       "      <td>2.09695</td>\n",
       "      <td>1.84111</td>\n",
       "      <td>2.62889</td>\n",
       "      <td>3.11660</td>\n",
       "      <td>2.81387</td>\n",
       "      <td>2.83194</td>\n",
       "    </tr>\n",
       "    <tr>\n",
       "      <th>1996</th>\n",
       "      <td>2.86742</td>\n",
       "      <td>2.45421</td>\n",
       "      <td>2.62511</td>\n",
       "      <td>3.22929</td>\n",
       "      <td>1.53736</td>\n",
       "      <td>2.00400</td>\n",
       "      <td>3.05116</td>\n",
       "      <td>2.45358</td>\n",
       "      <td>2.05932</td>\n",
       "      <td>2.46055</td>\n",
       "    </tr>\n",
       "    <tr>\n",
       "      <th>1997</th>\n",
       "      <td>3.24651</td>\n",
       "      <td>2.14931</td>\n",
       "      <td>3.34173</td>\n",
       "      <td>1.96905</td>\n",
       "      <td>2.93158</td>\n",
       "      <td>2.44532</td>\n",
       "      <td>2.56553</td>\n",
       "      <td>2.26143</td>\n",
       "      <td>1.87801</td>\n",
       "      <td>1.85157</td>\n",
       "    </tr>\n",
       "    <tr>\n",
       "      <th>1998</th>\n",
       "      <td>1.86576</td>\n",
       "      <td>3.09986</td>\n",
       "      <td>2.34779</td>\n",
       "      <td>2.46384</td>\n",
       "      <td>2.08002</td>\n",
       "      <td>2.47089</td>\n",
       "      <td>2.64109</td>\n",
       "      <td>2.27982</td>\n",
       "      <td>2.61062</td>\n",
       "      <td>3.10332</td>\n",
       "    </tr>\n",
       "  </tbody>\n",
       "</table>\n",
       "</div>"
      ],
      "text/plain": [
       "      nino34NoDetrend  nino4NoDetrend  westIONoDetrend  eastIONoDetrend  \\\n",
       "year                                                                      \n",
       "1995          2.44497         2.36956          1.96825          2.69948   \n",
       "1996          2.86742         2.45421          2.62511          3.22929   \n",
       "1997          3.24651         2.14931          3.34173          1.96905   \n",
       "1998          1.86576         3.09986          2.34779          2.46384   \n",
       "\n",
       "          dmi   nino34    nino4   westIO   eastIO      sam  \n",
       "year                                                        \n",
       "1995  2.09695  1.84111  2.62889  3.11660  2.81387  2.83194  \n",
       "1996  1.53736  2.00400  3.05116  2.45358  2.05932  2.46055  \n",
       "1997  2.93158  2.44532  2.56553  2.26143  1.87801  1.85157  \n",
       "1998  2.08002  2.47089  2.64109  2.27982  2.61062  3.10332  "
      ]
     },
     "execution_count": 13,
     "metadata": {},
     "output_type": "execute_result"
    }
   ],
   "source": [
    "#years of interest\n",
    "expectedAv=pandas.DataFrame(index=[1995,1996,1997,1998])\n",
    "expectedAv.index.name='year'\n",
    "\n",
    "#for every index defined in the index file\n",
    "for keys in _index.monthsOfInterest:\n",
    "    answer = list()\n",
    "    \n",
    "    #grab the time period defined in the index file\n",
    "    #this line is a bit lazy, i really should define these indeces some other way incase of systematic errors\n",
    "    monthPeriod=_index.monthsOfInterest[keys].copy()\n",
    "\n",
    "    #select the data for this index\n",
    "    indexArray = testPd[keys]\n",
    "    \n",
    "    temp = 0\n",
    "    #for every month in the data\n",
    "    for monthIter in numpy.arange(0,len(indexArray),1):\n",
    "        # a month in the time period of interest:\n",
    "        if ((monthIter+1)>=monthPeriod[0] and (monthIter+1)<=monthPeriod[1]):\n",
    "            temp += indexArray.values[monthIter]\n",
    "        else:\n",
    "        # not a month in the time period of interest\n",
    "            if temp!=0:\n",
    "                answer.append(temp/(monthPeriod[1]-monthPeriod[0]+1))\n",
    "                temp = 0\n",
    "                monthPeriod[0]+=12\n",
    "                monthPeriod[1]+=12\n",
    "    #save output for this index and move to the next one\n",
    "    expectedAv[keys]=answer\n",
    "\n",
    "\n",
    "expectedAv.round(5)"
   ]
  },
  {
   "cell_type": "markdown",
   "metadata": {},
   "source": [
    "Calculate it using the function"
   ]
  },
  {
   "cell_type": "code",
   "execution_count": 14,
   "metadata": {},
   "outputs": [
    {
     "data": {
      "text/html": [
       "<div>\n",
       "<style scoped>\n",
       "    .dataframe tbody tr th:only-of-type {\n",
       "        vertical-align: middle;\n",
       "    }\n",
       "\n",
       "    .dataframe tbody tr th {\n",
       "        vertical-align: top;\n",
       "    }\n",
       "\n",
       "    .dataframe thead th {\n",
       "        text-align: right;\n",
       "    }\n",
       "</style>\n",
       "<table border=\"1\" class=\"dataframe\">\n",
       "  <thead>\n",
       "    <tr style=\"text-align: right;\">\n",
       "      <th></th>\n",
       "      <th>nino34NoDetrend</th>\n",
       "      <th>nino4NoDetrend</th>\n",
       "      <th>westIONoDetrend</th>\n",
       "      <th>eastIONoDetrend</th>\n",
       "      <th>dmi</th>\n",
       "      <th>nino34</th>\n",
       "      <th>nino4</th>\n",
       "      <th>westIO</th>\n",
       "      <th>eastIO</th>\n",
       "      <th>sam</th>\n",
       "    </tr>\n",
       "    <tr>\n",
       "      <th>year</th>\n",
       "      <th></th>\n",
       "      <th></th>\n",
       "      <th></th>\n",
       "      <th></th>\n",
       "      <th></th>\n",
       "      <th></th>\n",
       "      <th></th>\n",
       "      <th></th>\n",
       "      <th></th>\n",
       "      <th></th>\n",
       "    </tr>\n",
       "  </thead>\n",
       "  <tbody>\n",
       "    <tr>\n",
       "      <th>1995</th>\n",
       "      <td>2.44497</td>\n",
       "      <td>2.36956</td>\n",
       "      <td>1.96825</td>\n",
       "      <td>2.69948</td>\n",
       "      <td>2.09695</td>\n",
       "      <td>1.84111</td>\n",
       "      <td>2.62889</td>\n",
       "      <td>3.11660</td>\n",
       "      <td>2.81387</td>\n",
       "      <td>2.83194</td>\n",
       "    </tr>\n",
       "    <tr>\n",
       "      <th>1996</th>\n",
       "      <td>2.86742</td>\n",
       "      <td>2.45421</td>\n",
       "      <td>2.62511</td>\n",
       "      <td>3.22929</td>\n",
       "      <td>1.53736</td>\n",
       "      <td>2.00400</td>\n",
       "      <td>3.05116</td>\n",
       "      <td>2.45358</td>\n",
       "      <td>2.05932</td>\n",
       "      <td>2.46055</td>\n",
       "    </tr>\n",
       "    <tr>\n",
       "      <th>1997</th>\n",
       "      <td>3.24651</td>\n",
       "      <td>2.14931</td>\n",
       "      <td>3.34173</td>\n",
       "      <td>1.96905</td>\n",
       "      <td>2.93158</td>\n",
       "      <td>2.44532</td>\n",
       "      <td>2.56553</td>\n",
       "      <td>2.26143</td>\n",
       "      <td>1.87801</td>\n",
       "      <td>1.85157</td>\n",
       "    </tr>\n",
       "    <tr>\n",
       "      <th>1998</th>\n",
       "      <td>1.86576</td>\n",
       "      <td>3.09986</td>\n",
       "      <td>2.34779</td>\n",
       "      <td>2.46384</td>\n",
       "      <td>2.08002</td>\n",
       "      <td>2.47089</td>\n",
       "      <td>2.64109</td>\n",
       "      <td>2.27982</td>\n",
       "      <td>2.61062</td>\n",
       "      <td>3.10332</td>\n",
       "    </tr>\n",
       "  </tbody>\n",
       "</table>\n",
       "</div>"
      ],
      "text/plain": [
       "      nino34NoDetrend  nino4NoDetrend  westIONoDetrend  eastIONoDetrend  \\\n",
       "year                                                                      \n",
       "1995          2.44497         2.36956          1.96825          2.69948   \n",
       "1996          2.86742         2.45421          2.62511          3.22929   \n",
       "1997          3.24651         2.14931          3.34173          1.96905   \n",
       "1998          1.86576         3.09986          2.34779          2.46384   \n",
       "\n",
       "          dmi   nino34    nino4   westIO   eastIO      sam  \n",
       "year                                                        \n",
       "1995  2.09695  1.84111  2.62889  3.11660  2.81387  2.83194  \n",
       "1996  1.53736  2.00400  3.05116  2.45358  2.05932  2.46055  \n",
       "1997  2.93158  2.44532  2.56553  2.26143  1.87801  1.85157  \n",
       "1998  2.08002  2.47089  2.64109  2.27982  2.61062  3.10332  "
      ]
     },
     "execution_count": 14,
     "metadata": {},
     "output_type": "execute_result"
    }
   ],
   "source": [
    "#first cast it into an xarray\n",
    "testXr = xarray.Dataset(testPd)\n",
    "\n",
    "# do the calculation\n",
    "calculatedAvs=averageForTimePeriod(testXr)\n",
    "\n",
    "calculatedAvs.round(5)"
   ]
  },
  {
   "cell_type": "code",
   "execution_count": 15,
   "metadata": {},
   "outputs": [
    {
     "data": {
      "text/plain": [
       "array([[ True,  True,  True,  True,  True,  True,  True,  True,  True,\n",
       "         True],\n",
       "       [ True,  True,  True,  True,  True,  True,  True,  True,  True,\n",
       "         True],\n",
       "       [ True,  True,  True,  True,  True,  True,  True,  True,  True,\n",
       "         True],\n",
       "       [ True,  True,  True,  True,  True,  True,  True,  True,  True,\n",
       "         True]])"
      ]
     },
     "execution_count": 15,
     "metadata": {},
     "output_type": "execute_result"
    }
   ],
   "source": [
    "numpy.isclose(calculatedAvs, expectedAv)"
   ]
  },
  {
   "cell_type": "code",
   "execution_count": null,
   "metadata": {},
   "outputs": [],
   "source": []
  }
 ],
 "metadata": {
  "kernelspec": {
   "display_name": "Python 3",
   "language": "python",
   "name": "python3"
  },
  "language_info": {
   "codemirror_mode": {
    "name": "ipython",
    "version": 3
   },
   "file_extension": ".py",
   "mimetype": "text/x-python",
   "name": "python",
   "nbconvert_exporter": "python",
   "pygments_lexer": "ipython3",
   "version": "3.8.8"
  }
 },
 "nbformat": 4,
 "nbformat_minor": 4
}
