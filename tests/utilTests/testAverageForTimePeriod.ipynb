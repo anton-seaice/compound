{
 "cells": [
  {
   "cell_type": "markdown",
   "metadata": {},
   "source": [
    "# Test monthly average"
   ]
  },
  {
   "cell_type": "markdown",
   "metadata": {},
   "source": [
    "First make up some data and calculate the averages, then try using my function, and see you get the same answer."
   ]
  },
  {
   "cell_type": "code",
   "execution_count": 1,
   "metadata": {},
   "outputs": [],
   "source": [
    "#import my functions\n",
    "import sys\n",
    "sys.path.append(sys.path[0]+'/../..')\n",
    "\n",
    "\n",
    "import helpers.fileHandler as fh\n",
    "import utils.sstIndex as sst\n",
    "import utils.pslIndex as psl\n",
    "import utils._indexDefinitions as _index\n",
    "from utils.timePeriod import averageForTimePeriod"
   ]
  },
  {
   "cell_type": "code",
   "execution_count": 2,
   "metadata": {},
   "outputs": [],
   "source": [
    "import xarray\n",
    "import numpy\n",
    "import cftime\n",
    "import pandas"
   ]
  },
  {
   "cell_type": "markdown",
   "metadata": {},
   "source": [
    "I am going to make up some data, and put it in a pandas array first"
   ]
  },
  {
   "cell_type": "code",
   "execution_count": 3,
   "metadata": {},
   "outputs": [],
   "source": [
    "#first make up some time period\n",
    "dateRange=xarray.cftime_range(\n",
    "    start=cftime.DatetimeNoLeap(1995,1,1),\n",
    "    end=cftime.DatetimeNoLeap(1999,12,1),\n",
    "    freq='M')"
   ]
  },
  {
   "cell_type": "code",
   "execution_count": 4,
   "metadata": {},
   "outputs": [],
   "source": [
    "#put it into a pd Dataframe\n",
    "testPd=pandas.DataFrame(index=dateRange)\n",
    "\n",
    "testPd.index.name='time'"
   ]
  },
  {
   "cell_type": "code",
   "execution_count": 5,
   "metadata": {},
   "outputs": [],
   "source": [
    "#add some rando data\n",
    "for keys in _index.monthsOfInterest:\n",
    "    testPd[keys]=5*numpy.random.rand(len(dateRange),1)"
   ]
  },
  {
   "cell_type": "markdown",
   "metadata": {},
   "source": [
    "I am now going to calculate the averages in a really easy to understand way"
   ]
  },
  {
   "cell_type": "code",
   "execution_count": 6,
   "metadata": {},
   "outputs": [
    {
     "data": {
      "text/html": [
       "<div>\n",
       "<style scoped>\n",
       "    .dataframe tbody tr th:only-of-type {\n",
       "        vertical-align: middle;\n",
       "    }\n",
       "\n",
       "    .dataframe tbody tr th {\n",
       "        vertical-align: top;\n",
       "    }\n",
       "\n",
       "    .dataframe thead th {\n",
       "        text-align: right;\n",
       "    }\n",
       "</style>\n",
       "<table border=\"1\" class=\"dataframe\">\n",
       "  <thead>\n",
       "    <tr style=\"text-align: right;\">\n",
       "      <th></th>\n",
       "      <th>nino34NoDetrend</th>\n",
       "      <th>nino4NoDetrend</th>\n",
       "      <th>eastIONoDetrend</th>\n",
       "      <th>dmi</th>\n",
       "      <th>nino34</th>\n",
       "      <th>nino4</th>\n",
       "      <th>eastIO</th>\n",
       "      <th>sam</th>\n",
       "      <th>lat1</th>\n",
       "      <th>lat2</th>\n",
       "    </tr>\n",
       "    <tr>\n",
       "      <th>year</th>\n",
       "      <th></th>\n",
       "      <th></th>\n",
       "      <th></th>\n",
       "      <th></th>\n",
       "      <th></th>\n",
       "      <th></th>\n",
       "      <th></th>\n",
       "      <th></th>\n",
       "      <th></th>\n",
       "      <th></th>\n",
       "    </tr>\n",
       "  </thead>\n",
       "  <tbody>\n",
       "    <tr>\n",
       "      <th>1995</th>\n",
       "      <td>2.28502</td>\n",
       "      <td>2.44189</td>\n",
       "      <td>2.85653</td>\n",
       "      <td>2.90004</td>\n",
       "      <td>2.22618</td>\n",
       "      <td>2.69166</td>\n",
       "      <td>3.03808</td>\n",
       "      <td>3.02550</td>\n",
       "      <td>3.40336</td>\n",
       "      <td>3.63989</td>\n",
       "    </tr>\n",
       "    <tr>\n",
       "      <th>1996</th>\n",
       "      <td>1.98380</td>\n",
       "      <td>2.17850</td>\n",
       "      <td>1.82776</td>\n",
       "      <td>3.05633</td>\n",
       "      <td>2.32933</td>\n",
       "      <td>3.52185</td>\n",
       "      <td>3.71663</td>\n",
       "      <td>1.95863</td>\n",
       "      <td>2.50440</td>\n",
       "      <td>2.47077</td>\n",
       "    </tr>\n",
       "    <tr>\n",
       "      <th>1997</th>\n",
       "      <td>1.91970</td>\n",
       "      <td>2.09714</td>\n",
       "      <td>2.19129</td>\n",
       "      <td>1.77596</td>\n",
       "      <td>2.89654</td>\n",
       "      <td>1.41045</td>\n",
       "      <td>2.29716</td>\n",
       "      <td>2.45682</td>\n",
       "      <td>2.88724</td>\n",
       "      <td>2.15456</td>\n",
       "    </tr>\n",
       "    <tr>\n",
       "      <th>1998</th>\n",
       "      <td>1.76502</td>\n",
       "      <td>3.30321</td>\n",
       "      <td>2.64186</td>\n",
       "      <td>3.07833</td>\n",
       "      <td>3.49750</td>\n",
       "      <td>2.31967</td>\n",
       "      <td>1.67788</td>\n",
       "      <td>1.82896</td>\n",
       "      <td>2.63465</td>\n",
       "      <td>1.54948</td>\n",
       "    </tr>\n",
       "  </tbody>\n",
       "</table>\n",
       "</div>"
      ],
      "text/plain": [
       "      nino34NoDetrend  nino4NoDetrend  eastIONoDetrend      dmi   nino34  \\\n",
       "year                                                                       \n",
       "1995          2.28502         2.44189          2.85653  2.90004  2.22618   \n",
       "1996          1.98380         2.17850          1.82776  3.05633  2.32933   \n",
       "1997          1.91970         2.09714          2.19129  1.77596  2.89654   \n",
       "1998          1.76502         3.30321          2.64186  3.07833  3.49750   \n",
       "\n",
       "        nino4   eastIO      sam     lat1     lat2  \n",
       "year                                               \n",
       "1995  2.69166  3.03808  3.02550  3.40336  3.63989  \n",
       "1996  3.52185  3.71663  1.95863  2.50440  2.47077  \n",
       "1997  1.41045  2.29716  2.45682  2.88724  2.15456  \n",
       "1998  2.31967  1.67788  1.82896  2.63465  1.54948  "
      ]
     },
     "execution_count": 6,
     "metadata": {},
     "output_type": "execute_result"
    }
   ],
   "source": [
    "#years of interest\n",
    "expectedAv=pandas.DataFrame(index=[1995,1996,1997,1998])\n",
    "expectedAv.index.name='year'\n",
    "\n",
    "#for every index defined in the index file\n",
    "for keys in _index.monthsOfInterest:\n",
    "    answer = list()\n",
    "    \n",
    "    #grab the time period defined in the index file\n",
    "    #this line is a bit lazy, i really should define these indeces some other way incase of systematic errors\n",
    "    monthPeriod=_index.monthsOfInterest[keys].copy()\n",
    "\n",
    "    #select the data for this index\n",
    "    indexArray = testPd[keys]\n",
    "    \n",
    "    temp = 0\n",
    "    #for every month in the data\n",
    "    for monthIter in numpy.arange(0,len(indexArray),1):\n",
    "        # a month in the time period of interest:\n",
    "        if ((monthIter+1)>=monthPeriod[0] and (monthIter+1)<=monthPeriod[1]):\n",
    "            temp += indexArray.values[monthIter]\n",
    "        else:\n",
    "        # not a month in the time period of interest\n",
    "            if temp!=0:\n",
    "                answer.append(temp/(monthPeriod[1]-monthPeriod[0]+1))\n",
    "                temp = 0\n",
    "                monthPeriod[0]+=12\n",
    "                monthPeriod[1]+=12\n",
    "    #save output for this index and move to the next one\n",
    "    expectedAv[keys]=answer\n",
    "\n",
    "\n",
    "expectedAv.round(5)"
   ]
  },
  {
   "cell_type": "markdown",
   "metadata": {},
   "source": [
    "Calculate it using the function"
   ]
  },
  {
   "cell_type": "code",
   "execution_count": 7,
   "metadata": {},
   "outputs": [
    {
     "name": "stdout",
     "output_type": "stream",
     "text": [
      "['eastIONoDetrend', 'lat2', 'nino4NoDetrend', 'eastIO', 'nino34NoDetrend', 'dmi', 'nino34', 'sam', 'lat1', 'nino4']\n"
     ]
    },
    {
     "data": {
      "text/html": [
       "<div>\n",
       "<style scoped>\n",
       "    .dataframe tbody tr th:only-of-type {\n",
       "        vertical-align: middle;\n",
       "    }\n",
       "\n",
       "    .dataframe tbody tr th {\n",
       "        vertical-align: top;\n",
       "    }\n",
       "\n",
       "    .dataframe thead th {\n",
       "        text-align: right;\n",
       "    }\n",
       "</style>\n",
       "<table border=\"1\" class=\"dataframe\">\n",
       "  <thead>\n",
       "    <tr style=\"text-align: right;\">\n",
       "      <th></th>\n",
       "      <th>eastIONoDetrend</th>\n",
       "      <th>lat2</th>\n",
       "      <th>nino4NoDetrend</th>\n",
       "      <th>eastIO</th>\n",
       "      <th>nino34NoDetrend</th>\n",
       "      <th>dmi</th>\n",
       "      <th>nino34</th>\n",
       "      <th>sam</th>\n",
       "      <th>lat1</th>\n",
       "      <th>nino4</th>\n",
       "    </tr>\n",
       "    <tr>\n",
       "      <th>year</th>\n",
       "      <th></th>\n",
       "      <th></th>\n",
       "      <th></th>\n",
       "      <th></th>\n",
       "      <th></th>\n",
       "      <th></th>\n",
       "      <th></th>\n",
       "      <th></th>\n",
       "      <th></th>\n",
       "      <th></th>\n",
       "    </tr>\n",
       "  </thead>\n",
       "  <tbody>\n",
       "    <tr>\n",
       "      <th>1995</th>\n",
       "      <td>2.85653</td>\n",
       "      <td>3.63989</td>\n",
       "      <td>2.44189</td>\n",
       "      <td>3.03808</td>\n",
       "      <td>2.28502</td>\n",
       "      <td>2.90004</td>\n",
       "      <td>2.22618</td>\n",
       "      <td>3.02550</td>\n",
       "      <td>3.40336</td>\n",
       "      <td>2.85653</td>\n",
       "    </tr>\n",
       "    <tr>\n",
       "      <th>1996</th>\n",
       "      <td>1.82776</td>\n",
       "      <td>2.47077</td>\n",
       "      <td>2.17850</td>\n",
       "      <td>3.71663</td>\n",
       "      <td>1.98380</td>\n",
       "      <td>3.05633</td>\n",
       "      <td>2.32933</td>\n",
       "      <td>1.95863</td>\n",
       "      <td>2.50440</td>\n",
       "      <td>1.82776</td>\n",
       "    </tr>\n",
       "    <tr>\n",
       "      <th>1997</th>\n",
       "      <td>2.19129</td>\n",
       "      <td>2.15456</td>\n",
       "      <td>2.09714</td>\n",
       "      <td>2.29716</td>\n",
       "      <td>1.91970</td>\n",
       "      <td>1.77596</td>\n",
       "      <td>2.89654</td>\n",
       "      <td>2.45682</td>\n",
       "      <td>2.88724</td>\n",
       "      <td>2.19129</td>\n",
       "    </tr>\n",
       "    <tr>\n",
       "      <th>1998</th>\n",
       "      <td>2.64186</td>\n",
       "      <td>1.54948</td>\n",
       "      <td>3.30321</td>\n",
       "      <td>1.67788</td>\n",
       "      <td>1.76502</td>\n",
       "      <td>3.07833</td>\n",
       "      <td>3.49750</td>\n",
       "      <td>1.82896</td>\n",
       "      <td>2.63465</td>\n",
       "      <td>2.64186</td>\n",
       "    </tr>\n",
       "  </tbody>\n",
       "</table>\n",
       "</div>"
      ],
      "text/plain": [
       "      eastIONoDetrend     lat2  nino4NoDetrend   eastIO  nino34NoDetrend  \\\n",
       "year                                                                       \n",
       "1995          2.85653  3.63989         2.44189  3.03808          2.28502   \n",
       "1996          1.82776  2.47077         2.17850  3.71663          1.98380   \n",
       "1997          2.19129  2.15456         2.09714  2.29716          1.91970   \n",
       "1998          2.64186  1.54948         3.30321  1.67788          1.76502   \n",
       "\n",
       "          dmi   nino34      sam     lat1    nino4  \n",
       "year                                               \n",
       "1995  2.90004  2.22618  3.02550  3.40336  2.85653  \n",
       "1996  3.05633  2.32933  1.95863  2.50440  1.82776  \n",
       "1997  1.77596  2.89654  2.45682  2.88724  2.19129  \n",
       "1998  3.07833  3.49750  1.82896  2.63465  2.64186  "
      ]
     },
     "execution_count": 7,
     "metadata": {},
     "output_type": "execute_result"
    }
   ],
   "source": [
    "#first cast it into an xarray\n",
    "testXr = xarray.Dataset(testPd)\n",
    "\n",
    "# do the calculation\n",
    "calculatedAvs=averageForTimePeriod(testXr)\n",
    "\n",
    "calculatedAvs.round(5)"
   ]
  },
  {
   "cell_type": "code",
   "execution_count": 8,
   "metadata": {},
   "outputs": [
    {
     "data": {
      "text/plain": [
       "array([ True,  True,  True,  True])"
      ]
     },
     "execution_count": 8,
     "metadata": {},
     "output_type": "execute_result"
    }
   ],
   "source": [
    "numpy.isclose(calculatedAvs.sam, expectedAv.sam)"
   ]
  },
  {
   "cell_type": "code",
   "execution_count": null,
   "metadata": {},
   "outputs": [],
   "source": []
  }
 ],
 "metadata": {
  "kernelspec": {
   "display_name": "Python 3",
   "language": "python",
   "name": "python3"
  },
  "language_info": {
   "codemirror_mode": {
    "name": "ipython",
    "version": 3
   },
   "file_extension": ".py",
   "mimetype": "text/x-python",
   "name": "python",
   "nbconvert_exporter": "python",
   "pygments_lexer": "ipython3",
   "version": "3.8.8"
  }
 },
 "nbformat": 4,
 "nbformat_minor": 4
}
