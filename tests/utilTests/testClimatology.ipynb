{
 "cells": [
  {
   "cell_type": "code",
   "execution_count": 1,
   "id": "fa7d1fac-47cd-4ab4-b510-492bc42c1c31",
   "metadata": {},
   "outputs": [],
   "source": [
    "import sys\n",
    "sys.path.append(sys.path[0]+'/../..')\n",
    "\n",
    "import utils.climatology"
   ]
  },
  {
   "cell_type": "code",
   "execution_count": 2,
   "id": "ded94455-04f8-41bf-b603-9c247a58909e",
   "metadata": {},
   "outputs": [],
   "source": [
    "import xarray\n",
    "import numpy\n",
    "import pandas"
   ]
  },
  {
   "cell_type": "markdown",
   "id": "804b1316-50c9-4c7a-b6db-265e0c3444b8",
   "metadata": {},
   "source": [
    "# Make up some test data"
   ]
  },
  {
   "cell_type": "code",
   "execution_count": 3,
   "id": "b5aab87e-408b-4262-bdec-9afba60edded",
   "metadata": {},
   "outputs": [],
   "source": [
    " # Create an xarray of cftime.datetime objects\n",
    "testTime = xarray.cftime_range(start=\"0850-01-15\", periods=1000, freq=\"M\", calendar=\"noleap\")\n",
    "startYear=855\n",
    "finishYear=872"
   ]
  },
  {
   "cell_type": "code",
   "execution_count": 4,
   "id": "e7215182-f894-499a-af52-19f4cea43cf7",
   "metadata": {
    "tags": []
   },
   "outputs": [],
   "source": [
    "testData = 1000+10*numpy.random.randn(1000,1)\n",
    "\n",
    "testDa = xarray.DataArray(testData, dims=('time', 'index'), coords = {'time':testTime})"
   ]
  },
  {
   "cell_type": "markdown",
   "id": "7f1c2e8d-e006-411b-8053-48e55caf3034",
   "metadata": {},
   "source": [
    "# Test date interval"
   ]
  },
  {
   "cell_type": "code",
   "execution_count": 5,
   "id": "41f6060b-8e41-4468-b833-383523ce2dd8",
   "metadata": {
    "tags": []
   },
   "outputs": [],
   "source": [
    "expClimat=testData[(startYear-850)*12:(finishYear-850+1)*12].copy()"
   ]
  },
  {
   "cell_type": "code",
   "execution_count": 6,
   "id": "20fef649-91a1-46ad-a9a4-916ca8c1701c",
   "metadata": {},
   "outputs": [
    {
     "data": {
      "text/plain": [
       "873.0"
      ]
     },
     "execution_count": 6,
     "metadata": {},
     "output_type": "execute_result"
    }
   ],
   "source": [
    "len(expClimat)/12+855"
   ]
  },
  {
   "cell_type": "code",
   "execution_count": 7,
   "id": "e8e57b13-8040-4bd5-98b8-b31a272c2a17",
   "metadata": {
    "tags": []
   },
   "outputs": [
    {
     "name": "stdout",
     "output_type": "stream",
     "text": [
      "Success, utils.climatology.dateInterval works\n"
     ]
    }
   ],
   "source": [
    "#This is a efficient but unconvincing (due to obfuscation) way of testing it\n",
    "\n",
    "if numpy.alltrue(\n",
    "    numpy.equal(expClimat, \n",
    "                utils.climatology.dateInterval(testDa, startYear, finishYear).values\n",
    "               )\n",
    "):\n",
    "    print('Success, utils.climatology.dateInterval works')   \n",
    "else:\n",
    "    raise RuntimeError('Error found. testClimatology of dateInterval failed')\n",
    "    "
   ]
  },
  {
   "cell_type": "code",
   "execution_count": 8,
   "id": "329afaa0-d884-40ca-9777-e6e03254c36e",
   "metadata": {},
   "outputs": [],
   "source": [
    "# the harder way to stuff up of testing that\n",
    "\n",
    "calculatedClimat=utils.climatology.dateInterval(testDa, startYear, finishYear)\n",
    "\n",
    "for i in range(0,len(expClimat)):\n",
    "    if calculatedClimat[i]!=expClimat[i]:\n",
    "        raise RuntimeError('Error found. testClimatology of dateInterval failed')\n",
    "        "
   ]
  },
  {
   "cell_type": "markdown",
   "id": "520dd245-def0-4a34-847e-a7dd3e3e6aec",
   "metadata": {},
   "source": [
    "# Test normalise"
   ]
  },
  {
   "cell_type": "code",
   "execution_count": 9,
   "id": "6cf24de4-e858-4c39-9b33-36815627cbfc",
   "metadata": {},
   "outputs": [],
   "source": [
    "# For my climatology, calculate mean and std dev\n",
    "\n",
    "expMean = list()\n",
    "expStd = list()\n",
    "expNormalised = list()\n",
    "\n",
    "for iMonth in range(0,12):\n",
    "    monthsC=numpy.arange(iMonth, 12*(finishYear-startYear), 12)\n",
    "    monthClimat=(expClimat[monthsC])\n",
    "    expMean=(numpy.mean(monthClimat))\n",
    "    expStd=(numpy.std(monthClimat))\n",
    "    monthsT=numpy.arange(iMonth, len(testData), 12)\n",
    "    expNormalised.append([(testData[monthsT]-expMean)/expStd])\n"
   ]
  },
  {
   "cell_type": "code",
   "execution_count": 10,
   "id": "2de1464f-fea7-44e1-9db1-466fb1feac09",
   "metadata": {},
   "outputs": [],
   "source": [
    "calculatedNormalised=utils.climatology.normalise(testDa, calculatedClimat)"
   ]
  },
  {
   "cell_type": "code",
   "execution_count": 11,
   "id": "faa0929a-e83f-42df-9752-ebe2aeb86d36",
   "metadata": {},
   "outputs": [
    {
     "ename": "NameError",
     "evalue": "name 'expNormalise' is not defined",
     "output_type": "error",
     "traceback": [
      "\u001b[0;31m---------------------------------------------------------------------------\u001b[0m",
      "\u001b[0;31mNameError\u001b[0m                                 Traceback (most recent call last)",
      "\u001b[0;32m<ipython-input-11-14a693494eaa>\u001b[0m in \u001b[0;36m<module>\u001b[0;34m\u001b[0m\n\u001b[1;32m      2\u001b[0m     \u001b[0mcalcNorm\u001b[0m\u001b[0;34m=\u001b[0m\u001b[0mcalculatedNormalised\u001b[0m\u001b[0;34m.\u001b[0m\u001b[0mwhere\u001b[0m\u001b[0;34m(\u001b[0m\u001b[0mcalculatedNormalised\u001b[0m\u001b[0;34m.\u001b[0m\u001b[0mmonth\u001b[0m\u001b[0;34m==\u001b[0m\u001b[0miMonth\u001b[0m\u001b[0;34m+\u001b[0m\u001b[0;36m1\u001b[0m\u001b[0;34m,\u001b[0m \u001b[0mdrop\u001b[0m\u001b[0;34m=\u001b[0m\u001b[0;32mTrue\u001b[0m\u001b[0;34m)\u001b[0m\u001b[0;34m.\u001b[0m\u001b[0mvalues\u001b[0m\u001b[0;34m\u001b[0m\u001b[0;34m\u001b[0m\u001b[0m\n\u001b[1;32m      3\u001b[0m     \u001b[0;32mfor\u001b[0m \u001b[0mi\u001b[0m \u001b[0;32min\u001b[0m \u001b[0mrange\u001b[0m\u001b[0;34m(\u001b[0m\u001b[0;36m0\u001b[0m\u001b[0;34m,\u001b[0m\u001b[0mlen\u001b[0m\u001b[0;34m(\u001b[0m\u001b[0mexpNormalised\u001b[0m\u001b[0;34m)\u001b[0m\u001b[0;34m)\u001b[0m\u001b[0;34m:\u001b[0m\u001b[0;34m\u001b[0m\u001b[0;34m\u001b[0m\u001b[0m\n\u001b[0;32m----> 4\u001b[0;31m         \u001b[0;32mif\u001b[0m \u001b[0mcalcNorm\u001b[0m\u001b[0;34m[\u001b[0m\u001b[0mi\u001b[0m\u001b[0;34m]\u001b[0m\u001b[0;34m!=\u001b[0m\u001b[0mexpNormalise\u001b[0m\u001b[0;34m[\u001b[0m\u001b[0miMonth\u001b[0m\u001b[0;34m]\u001b[0m\u001b[0;34m[\u001b[0m\u001b[0;36m0\u001b[0m\u001b[0;34m]\u001b[0m\u001b[0;34m[\u001b[0m\u001b[0mi\u001b[0m\u001b[0;34m]\u001b[0m\u001b[0;34m:\u001b[0m\u001b[0;34m\u001b[0m\u001b[0;34m\u001b[0m\u001b[0m\n\u001b[0m\u001b[1;32m      5\u001b[0m             \u001b[0;32mraise\u001b[0m \u001b[0mRuntimeError\u001b[0m\u001b[0;34m(\u001b[0m\u001b[0;34m'Error found. testClimatology of dateInterval failed'\u001b[0m\u001b[0;34m)\u001b[0m\u001b[0;34m\u001b[0m\u001b[0;34m\u001b[0m\u001b[0m\n\u001b[1;32m      6\u001b[0m \u001b[0;34m\u001b[0m\u001b[0m\n",
      "\u001b[0;31mNameError\u001b[0m: name 'expNormalise' is not defined"
     ]
    }
   ],
   "source": [
    "for iMonth in range(0,12):\n",
    "    calcNorm=calculatedNormalised.where(calculatedNormalised.month==iMonth+1, drop=True).values\n",
    "    for i in range(0,len(expNormalised)):\n",
    "        if calcNorm[i]!=expNormalise[iMonth][0][i]:\n",
    "            raise RuntimeError('Error found. testClimatology of dateInterval failed')\n",
    "    "
   ]
  },
  {
   "cell_type": "code",
   "execution_count": null,
   "id": "13952885-b1cf-420c-88d8-05f3b39d2d7d",
   "metadata": {},
   "outputs": [],
   "source": [
    "expNormalise[3][0][0]"
   ]
  },
  {
   "cell_type": "code",
   "execution_count": null,
   "id": "708584a0-02c4-4506-bf21-ffc1e5f1dccd",
   "metadata": {},
   "outputs": [],
   "source": [
    "calculatedNormalised.where(calculatedNormalised.month==1, drop=True)"
   ]
  },
  {
   "cell_type": "code",
   "execution_count": null,
   "id": "2b4721a8-efb0-49a1-b67f-80e6d9a17370",
   "metadata": {},
   "outputs": [],
   "source": []
  }
 ],
 "metadata": {
  "kernelspec": {
   "display_name": "Python 3",
   "language": "python",
   "name": "python3"
  },
  "language_info": {
   "codemirror_mode": {
    "name": "ipython",
    "version": 3
   },
   "file_extension": ".py",
   "mimetype": "text/x-python",
   "name": "python",
   "nbconvert_exporter": "python",
   "pygments_lexer": "ipython3",
   "version": "3.8.8"
  }
 },
 "nbformat": 4,
 "nbformat_minor": 5
}
