{
 "cells": [
  {
   "cell_type": "code",
   "execution_count": 12,
   "metadata": {},
   "outputs": [],
   "source": [
    "import sys\n",
    "sys.path.append(sys.path[0]+'/../..')\n",
    "\n",
    "import utils.climatology"
   ]
  },
  {
   "cell_type": "code",
   "execution_count": 13,
   "metadata": {},
   "outputs": [],
   "source": [
    "import xarray\n",
    "import numpy\n",
    "import pandas"
   ]
  },
  {
   "cell_type": "markdown",
   "metadata": {},
   "source": [
    "# Make up some test data"
   ]
  },
  {
   "cell_type": "code",
   "execution_count": 26,
   "metadata": {},
   "outputs": [],
   "source": [
    " # Create an xarray of cftime.datetime objects\n",
    "testTime = xarray.cftime_range(start=\"1200-01-15\", periods=1000, freq=\"M\", calendar=\"noleap\")\n",
    "startYear=1208\n",
    "finishYear=1225"
   ]
  },
  {
   "cell_type": "code",
   "execution_count": 27,
   "metadata": {
    "tags": []
   },
   "outputs": [],
   "source": [
    "testData = 1000+10*numpy.random.randn(1000,1)\n",
    "\n",
    "testDa = xarray.DataArray(\n",
    "    testData, \n",
    "    dims=('time', 'index'), \n",
    "    coords = {'time':testTime}\n",
    ")"
   ]
  },
  {
   "cell_type": "markdown",
   "metadata": {},
   "source": [
    "# Test date interval"
   ]
  },
  {
   "cell_type": "code",
   "execution_count": 28,
   "metadata": {
    "tags": []
   },
   "outputs": [],
   "source": [
    "expClimat=testData[(startYear-1200)*12:(finishYear-1200+1)*12].copy()"
   ]
  },
  {
   "cell_type": "code",
   "execution_count": 29,
   "metadata": {
    "tags": []
   },
   "outputs": [
    {
     "name": "stdout",
     "output_type": "stream",
     "text": [
      "Success, utils.climatology.dateInterval works\n"
     ]
    }
   ],
   "source": [
    "#This is a efficient but unconvincing (due to obfuscation) way of testing it\n",
    "\n",
    "if numpy.alltrue(\n",
    "    numpy.equal(expClimat, \n",
    "                utils.climatology.dateInterval(testDa, startYear, finishYear).values\n",
    "               )\n",
    "):\n",
    "    print('Success, utils.climatology.dateInterval works')   \n",
    "else:\n",
    "    raise RuntimeError('Error found. testClimatology of dateInterval failed')\n",
    "    "
   ]
  },
  {
   "cell_type": "code",
   "execution_count": 30,
   "metadata": {},
   "outputs": [],
   "source": [
    "# the harder way to stuff up of testing that\n",
    "\n",
    "calculatedClimat=utils.climatology.dateInterval(testDa, startYear, finishYear)\n",
    "\n",
    "for i in range(0,len(expClimat)):\n",
    "    if calculatedClimat[i]!=expClimat[i]:\n",
    "        raise RuntimeError('Error found. testClimatology of dateInterval failed')\n",
    "        "
   ]
  },
  {
   "cell_type": "markdown",
   "metadata": {},
   "source": [
    "# Test normalise"
   ]
  },
  {
   "cell_type": "code",
   "execution_count": 31,
   "metadata": {},
   "outputs": [],
   "source": [
    "# For my climatology, calculate mean and std dev\n",
    "\n",
    "expMean = list()\n",
    "expStd = list()\n",
    "expNormalised = list()\n",
    "\n",
    "for iMonth in range(0,12):\n",
    "    monthsC=numpy.arange(iMonth, 12*(finishYear-startYear+1), 12)\n",
    "    monthClimat=(expClimat[monthsC])\n",
    "    expMean=(numpy.mean(monthClimat))\n",
    "    expStd=(numpy.std(monthClimat))\n",
    "    monthsT=numpy.arange(iMonth, len(testData), 12)\n",
    "    expNormalised.append([(testData[monthsT]-expMean)/expStd])\n"
   ]
  },
  {
   "cell_type": "code",
   "execution_count": 32,
   "metadata": {},
   "outputs": [],
   "source": [
    "calculatedNormalised=utils.climatology.normalise(testDa, calculatedClimat)"
   ]
  },
  {
   "cell_type": "code",
   "execution_count": 33,
   "metadata": {},
   "outputs": [],
   "source": [
    "for iMonth in range(0,12):\n",
    "    calcNorm=calculatedNormalised.where(calculatedNormalised.month==iMonth+1, drop=True).values\n",
    "    for i in range(0,len(expNormalised)):\n",
    "        if not numpy.isclose(calcNorm[i],expNormalised[iMonth][0][i]):\n",
    "            raise RuntimeError('Error found. testClimatology of dateInterval failed')\n",
    "    "
   ]
  },
  {
   "cell_type": "code",
   "execution_count": null,
   "metadata": {},
   "outputs": [],
   "source": []
  }
 ],
 "metadata": {
  "kernelspec": {
   "display_name": "Python 3",
   "language": "python",
   "name": "python3"
  },
  "language_info": {
   "codemirror_mode": {
    "name": "ipython",
    "version": 3
   },
   "file_extension": ".py",
   "mimetype": "text/x-python",
   "name": "python",
   "nbconvert_exporter": "python",
   "pygments_lexer": "ipython3",
   "version": "3.8.5"
  }
 },
 "nbformat": 4,
 "nbformat_minor": 5
}
