{
 "cells": [
  {
   "cell_type": "markdown",
   "metadata": {},
   "source": [
    "# Calculate the same SST Indices but instead use a different climatology"
   ]
  },
  {
   "cell_type": "code",
   "execution_count": null,
   "metadata": {},
   "outputs": [],
   "source": [
    "import sys\n",
    "sys.path.append(sys.path[0]+'/../..')\n",
    "\n",
    "\n",
    "import helpers.fileHandler as fh\n",
    "import utils.sstIndex as sst\n",
    "import utils._indexDefinitions as _index"
   ]
  },
  {
   "cell_type": "code",
   "execution_count": null,
   "metadata": {},
   "outputs": [],
   "source": [
    "import matplotlib.pyplot as plt\n",
    "import cartopy.crs as ccrs\n",
    "import numpy\n",
    "import cftime\n",
    "import xarray"
   ]
  },
  {
   "cell_type": "code",
   "execution_count": null,
   "metadata": {},
   "outputs": [],
   "source": [
    "indexNames = list(_index.sstIndex.keys())\n",
    "indexNames.append('dmi')"
   ]
  },
  {
   "cell_type": "markdown",
   "metadata": {},
   "source": [
    "Load the model outputs, but drop all the variables we don't care about"
   ]
  },
  {
   "cell_type": "markdown",
   "metadata": {},
   "source": [
    "First load up the cvdp and figure out the details of the index we want to calculate"
   ]
  },
  {
   "cell_type": "code",
   "execution_count": null,
   "metadata": {},
   "outputs": [],
   "source": [
    "cvdp = fh.loadModelData('CESM-LME', 'cvdp_data', '005')\n",
    "\n",
    "cvdp = cvdp.rename_vars({'indian_ocean_dipole':'dmi'})\n"
   ]
  },
  {
   "cell_type": "code",
   "execution_count": null,
   "metadata": {
    "jupyter": {
     "source_hidden": true
    },
    "tags": []
   },
   "outputs": [],
   "source": [
    "experimentDs = fh.loadModelData('CESM-LME', 'SST', '005',drop_variables=('ANGLE','ANGLET', 'DXT', 'DXU', 'DYT', 'DYU', 'HT', 'HTE', 'HTN',\n",
    "              'HU', 'HUS', 'HUW', 'KMT', 'KMU', 'REGION_MASK', 'T0_Kelvin',\n",
    "              'UAREA', 'cp_air', 'cp_sw', 'days_in_norm_year', 'dz', 'dzw', 'fwflux_factor', \n",
    "              'grav', 'heat_to_PW', 'hflux_factor', 'latent_heat_fusion', 'latent_heat_vapor',\n",
    "              'mass_to_Sv', 'moc_components', 'momentum_factor','nsurface_t', 'nsurface_u', \n",
    "              'ocn_ref_salinity', 'omega', 'ppt_to_salt', 'radius', 'rho_air', 'rho_fw', 'rho_sw',\n",
    "              'salinity_factor', 'salt_to_Svppt', 'salt_to_mmday', 'salt_to_ppt', 'sea_ice_salinity',\n",
    "              'sflux_factor', 'sound', 'stefan_boltzmann', 'transport_components', 'transport_regions',\n",
    "              'vonkar','z_t_150m', 'z_w', 'z_w_bot', 'z_w_top', 'moc_z', 'lat_aux_grid', 'time_bound','z_t', 'ULAT', 'ULONG') )"
   ]
  },
  {
   "cell_type": "markdown",
   "metadata": {},
   "source": [
    "Load the ds to use for climatology"
   ]
  },
  {
   "cell_type": "code",
   "execution_count": null,
   "metadata": {},
   "outputs": [],
   "source": [
    "controlDs = fh.loadModelData('CESM-LME', 'SST', '0850cntl.001',drop_variables=('ANGLE','ANGLET', 'DXT', 'DXU', 'DYT', 'DYU', 'HT', 'HTE', 'HTN',\n",
    "              'HU', 'HUS', 'HUW', 'KMT', 'KMU', 'REGION_MASK', 'T0_Kelvin',\n",
    "              'UAREA', 'cp_air', 'cp_sw', 'days_in_norm_year', 'dz', 'dzw', 'fwflux_factor', \n",
    "              'grav', 'heat_to_PW', 'hflux_factor', 'latent_heat_fusion', 'latent_heat_vapor',\n",
    "              'mass_to_Sv', 'moc_components', 'momentum_factor','nsurface_t', 'nsurface_u', \n",
    "              'ocn_ref_salinity', 'omega', 'ppt_to_salt', 'radius', 'rho_air', 'rho_fw', 'rho_sw',\n",
    "              'salinity_factor', 'salt_to_Svppt', 'salt_to_mmday', 'salt_to_ppt', 'sea_ice_salinity',\n",
    "              'sflux_factor', 'sound', 'stefan_boltzmann', 'transport_components', 'transport_regions',\n",
    "              'vonkar','z_t_150m', 'z_w', 'z_w_bot', 'z_w_top', 'moc_z', 'lat_aux_grid', 'time_bound','z_t', 'ULAT', 'ULONG') )"
   ]
  },
  {
   "cell_type": "markdown",
   "metadata": {},
   "source": [
    "Calculate the indeces from the model outputs"
   ]
  },
  {
   "cell_type": "code",
   "execution_count": null,
   "metadata": {},
   "outputs": [],
   "source": [
    "climatDs = sst.calculateClimatology(controlDs, 850, 2005)\n"
   ]
  },
  {
   "cell_type": "code",
   "execution_count": null,
   "metadata": {},
   "outputs": [],
   "source": [
    "climatDs"
   ]
  },
  {
   "cell_type": "code",
   "execution_count": null,
   "metadata": {},
   "outputs": [],
   "source": [
    "%time\n",
    "\n",
    "\n",
    "indexDs = sst.calculateIndex(experimentDs, climatDs) #based on 850 to 2005 climatology per CVDP"
   ]
  },
  {
   "cell_type": "markdown",
   "metadata": {},
   "source": [
    "Do a comparison plot. Between calculated indexes and cvdp"
   ]
  },
  {
   "cell_type": "code",
   "execution_count": null,
   "metadata": {},
   "outputs": [],
   "source": [
    "%time\n",
    "\n",
    "\n",
    "\n",
    "for keys in indexNames:\n",
    "    \n",
    "    try:\n",
    "        #test if this is an index in cvdp\n",
    "        cvdp[keys]\n",
    "\n",
    "    except:\n",
    "        print (keys, \" not defined in Cvdp\")        \n",
    "        \n",
    "    else:\n",
    "        #plot\n",
    "        \n",
    "        #load into memory so it doesn't get loaded twice if we want to use it later\n",
    "        #indexDs[keys].load()\n",
    "        \n",
    "        # set-up plot\n",
    "        fig = plt.figure(figsize=(15,6))\n",
    "        ax = fig.add_subplot(1, 1, 1)\n",
    "        \n",
    "        #plot the cvdp\n",
    "        cvdp[keys].plot(color='green' ,label='from CVDP')\n",
    "                \n",
    "        #plot the calculated one\n",
    "        indexDs[keys].plot(color='orange',label='calculated')\n",
    "        \n",
    "        #set the horizontal axis to something nice\n",
    "        plt.xlim(cftime.DatetimeNoLeap(1750,1,1), cftime.DatetimeNoLeap(2050,1,1))\n",
    "\n",
    "        #add axis names and title\n",
    "        plt.title(keys)\n",
    "        plt.ylabel(\"index\", fontsize=16)  \n",
    "        plt.xlabel(\"Year\", fontsize=16)\n",
    "\n",
    "        #make it neat\n",
    "        plt.tick_params(which = 'minor', labelsize=13, length=4)\n",
    "        plt.tick_params(which = 'major', labelsize=13, length=7)\n",
    "        ax.grid(which='major', alpha=0.3, linestyle='dashed')\n",
    "\n",
    "        #show the legend based on the 'labels' set above\n",
    "        plt.legend()\n",
    "\n",
    "        #make it so\n",
    "        plt.show()\n",
    "\n",
    "        print(keys, \" standard deviation of difference: \", (indexDs[keys]-cvdp[keys]).std().values)\n"
   ]
  },
  {
   "cell_type": "code",
   "execution_count": null,
   "metadata": {},
   "outputs": [],
   "source": [
    "#Compare calulcate nino to the cvdp version\n",
    "(indexDs.nino34-cvdp.nino34).plot()"
   ]
  },
  {
   "cell_type": "code",
   "execution_count": null,
   "metadata": {},
   "outputs": [],
   "source": [
    "#save the answer, in case we want it later\n",
    "indexDs.to_netcdf(\"../results/monthlySstIndicesCalculatedDiffClimatology.nc\")"
   ]
  },
  {
   "cell_type": "code",
   "execution_count": null,
   "metadata": {},
   "outputs": [],
   "source": [
    "indexDsStandClimat = xarray.open_dataset('../results/monthlySstIndicesCalculated.nc')"
   ]
  },
  {
   "cell_type": "code",
   "execution_count": null,
   "metadata": {
    "tags": []
   },
   "outputs": [],
   "source": [
    "# set-up plot\n",
    "fig = plt.figure(figsize=(15,6))\n",
    "ax = fig.add_subplot(1, 1, 1)\n",
    "#plot the calculated one\n",
    "indexDs['nino34'].plot(color='orange',label='calculated')\n",
    "indexDsStandClimat['nino34'].plot(color='green',label='calculated')\n",
    "   #set the horizontal axis to something nice\n",
    "plt.xlim(cftime.DatetimeNoLeap(1750,1,1), cftime.DatetimeNoLeap(2050,1,1))\n"
   ]
  },
  {
   "cell_type": "code",
   "execution_count": null,
   "metadata": {},
   "outputs": [],
   "source": []
  }
 ],
 "metadata": {
  "kernelspec": {
   "display_name": "Python 3",
   "language": "python",
   "name": "python3"
  },
  "language_info": {
   "codemirror_mode": {
    "name": "ipython",
    "version": 3
   },
   "file_extension": ".py",
   "mimetype": "text/x-python",
   "name": "python",
   "nbconvert_exporter": "python",
   "pygments_lexer": "ipython3",
   "version": "3.8.8"
  }
 },
 "nbformat": 4,
 "nbformat_minor": 4
}
