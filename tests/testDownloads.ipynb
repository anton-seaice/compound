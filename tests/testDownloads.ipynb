{
 "cells": [
  {
   "cell_type": "markdown",
   "metadata": {},
   "source": [
    "# Test that file handler can download things and use the downloaded copy before downloading again"
   ]
  },
  {
   "cell_type": "code",
   "execution_count": 2,
   "metadata": {},
   "outputs": [],
   "source": [
    "import sys\n",
    "sys.path.append('../')\n",
    "\n",
    "import helpers.fileHandler as fh\n",
    "import helpers.esgfClient as esgfClient"
   ]
  },
  {
   "cell_type": "code",
   "execution_count": null,
   "metadata": {},
   "outputs": [],
   "source": [
    "esgfClient.esgfDownloader('NorESM2-LM', 'psl_Amon', 'piControl', 'r1i1p1f1')"
   ]
  },
  {
   "cell_type": "code",
   "execution_count": null,
   "metadata": {},
   "outputs": [],
   "source": [
    "esgfClient.esgfDownloader('GFDL-ESM4','ts_Amon', 'piControl','r1i1p1f1')"
   ]
  },
  {
   "cell_type": "code",
   "execution_count": null,
   "metadata": {},
   "outputs": [],
   "source": [
    "esgfClient.esgfDownloader('INM-CM4-8','ts_Amon', 'piControl','r1i1p1f1')"
   ]
  },
  {
   "cell_type": "code",
   "execution_count": 6,
   "metadata": {},
   "outputs": [
    {
     "name": "stdout",
     "output_type": "stream",
     "text": [
      "CMIP6.CMIP.MPI-M.MPI-ESM1-2-HR.piControl.r1i1p1f1.Amon.psl.gn.v20190710|esgf-data1.llnl.gov downloading\n",
      "CMIP6.CMIP.MPI-M.MPI-ESM1-2-HR.piControl.r1i1p1f1.Amon.psl.gn.v20190710|esgf-data3.diasjp.net downloading\n",
      "CMIP6.CMIP.MPI-M.MPI-ESM1-2-HR.piControl.r1i1p1f1.Amon.psl.gn.v20190710|esgf3.dkrz.de downloading\n",
      "CMIP6.CMIP.MPI-M.MPI-ESM1-2-HR.piControl.r1i1p1f1.Amon.psl.gn.v20190710|esgf.nci.org.au downloading\n",
      "CMIP6.CMIP.MPI-M.MPI-ESM1-2-HR.piControl.r1i1p1f1.Amon.psl.gn.v20190710|esgf-data3.ceda.ac.uk downloading\n"
     ]
    },
    {
     "data": {
      "text/plain": [
       "True"
      ]
     },
     "execution_count": 6,
     "metadata": {},
     "output_type": "execute_result"
    }
   ],
   "source": [
    "esgfClient.esgfDownloader('MPI-ESM1-2-HR','psl_Amon', 'piControl','r1i1p1f1')"
   ]
  },
  {
   "cell_type": "code",
   "execution_count": null,
   "metadata": {},
   "outputs": [
    {
     "name": "stdout",
     "output_type": "stream",
     "text": [
      "CMIP6.CMIP.EC-Earth-Consortium.EC-Earth3-Veg-LR.piControl.r1i1p1f1.Amon.pr.gr.v20200213|esgf-data3.diasjp.net downloading\n"
     ]
    }
   ],
   "source": [
    "esgfClient.esgfDownloader('EC-Earth3-Veg-LR','pr_Amon', 'piControl','r1i1p1f1')"
   ]
  },
  {
   "cell_type": "code",
   "execution_count": null,
   "metadata": {},
   "outputs": [],
   "source": [
    "fh.loadModelData('GISS-E2-1-G', 'ts_Amon', 'piControl', 'r1i1p1f2')"
   ]
  },
  {
   "cell_type": "markdown",
   "metadata": {},
   "source": [
    "# Prototyping for reference / sandbox"
   ]
  },
  {
   "cell_type": "code",
   "execution_count": null,
   "metadata": {},
   "outputs": [],
   "source": [
    "from pyesgf.search import SearchConnection\n",
    "\n",
    "conn = SearchConnection('https://esgf-node.llnl.gov/esg-search')\n",
    "#conn = SearchConnection('https://esgf-data.dkrz.de/esg-search')\n",
    "#conn = SearchConnection('https://esgf.nci.org.au/esg-search')\n",
    "\n",
    "ctx = conn.new_context(\n",
    "    project='CMIP6', \n",
    "    source_id='EC-Earth3-CC', \n",
    "    experiment_id='ssp585', \n",
    "    variable='ts_Amon'.split('_')[0], \n",
    "    frequency='mon', \n",
    "    variant_label='r1i1p1f1',\n",
    "    data_node='esgf-data1.llnl.gov'\n",
    ")\n",
    "ctx.hit_count"
   ]
  },
  {
   "cell_type": "code",
   "execution_count": null,
   "metadata": {},
   "outputs": [],
   "source": [
    "results = ctx.search()\n",
    "[result.dataset_id for result in results]"
   ]
  },
  {
   "cell_type": "code",
   "execution_count": null,
   "metadata": {},
   "outputs": [],
   "source": [
    "len(results)"
   ]
  },
  {
   "cell_type": "code",
   "execution_count": null,
   "metadata": {},
   "outputs": [],
   "source": [
    "results[0].urls"
   ]
  },
  {
   "cell_type": "code",
   "execution_count": null,
   "metadata": {},
   "outputs": [],
   "source": [
    "%%writefile dl.sh\n",
    "results[0].file_context().get_download_script()"
   ]
  },
  {
   "cell_type": "code",
   "execution_count": null,
   "metadata": {},
   "outputs": [],
   "source": [
    "import subprocess\n",
    "subprocess.check_output('bash dl.sh')"
   ]
  },
  {
   "cell_type": "code",
   "execution_count": null,
   "metadata": {},
   "outputs": [],
   "source": [
    "from pyesgf.logon import LogonManager\n",
    "lm = LogonManager()\n",
    "lm.logoff()\n",
    "lm.is_logged_on()"
   ]
  },
  {
   "cell_type": "code",
   "execution_count": null,
   "metadata": {},
   "outputs": [],
   "source": [
    "myproxy_host = 'esgf-data.dkrz.de'\n",
    "lm.logon(username=None, password=None, hostname=myproxy_host)\n",
    "lm.is_logged_on()"
   ]
  }
 ],
 "metadata": {
  "kernelspec": {
   "display_name": "Python 3",
   "language": "python",
   "name": "python3"
  },
  "language_info": {
   "codemirror_mode": {
    "name": "ipython",
    "version": 3
   },
   "file_extension": ".py",
   "mimetype": "text/x-python",
   "name": "python",
   "nbconvert_exporter": "python",
   "pygments_lexer": "ipython3",
   "version": "3.9.5"
  }
 },
 "nbformat": 4,
 "nbformat_minor": 4
}
