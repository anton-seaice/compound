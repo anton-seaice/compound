{
 "cells": [
  {
   "cell_type": "markdown",
   "id": "87672558-a362-46e1-a44c-4eb3fa291d82",
   "metadata": {},
   "source": [
    "# Test CMIP6 Download"
   ]
  },
  {
   "cell_type": "markdown",
   "id": "8af9f476-ad32-4dcf-a564-302a242976b6",
   "metadata": {},
   "source": [
    "1. Confirm all four variables have been downloaded for all experiments\n",
    "2. Confirm downloaded variables all cover the same time ranges for all experiments\n",
    "3. Confirm calculated indices cover the same time range"
   ]
  },
  {
   "cell_type": "code",
   "execution_count": null,
   "id": "2277b615-01e3-468b-acd7-7edb63b2a6ff",
   "metadata": {},
   "outputs": [],
   "source": [
    "%run ./testCmip6Dates.py"
   ]
  },
  {
   "cell_type": "markdown",
   "id": "2de722d0-adf3-4963-bf4b-84d0d049eed8",
   "metadata": {},
   "source": [
    "Those errors all look ok:\n",
    "\n",
    "3: BCC - the source file has both a latitude and lat, so it gives this warning but is ok.\n",
    "\n",
    "5: Not really sure why times are different between the two, but there you go.\n"
   ]
  },
  {
   "cell_type": "code",
   "execution_count": null,
   "id": "3e4915f5-41af-487b-ac3c-e3d4fb114c18",
   "metadata": {},
   "outputs": [],
   "source": []
  }
 ],
 "metadata": {
  "kernelspec": {
   "display_name": "Python 3",
   "language": "python",
   "name": "python3"
  },
  "language_info": {
   "codemirror_mode": {
    "name": "ipython",
    "version": 3
   },
   "file_extension": ".py",
   "mimetype": "text/x-python",
   "name": "python",
   "nbconvert_exporter": "python",
   "pygments_lexer": "ipython3",
   "version": "3.8.10"
  }
 },
 "nbformat": 4,
 "nbformat_minor": 5
}
