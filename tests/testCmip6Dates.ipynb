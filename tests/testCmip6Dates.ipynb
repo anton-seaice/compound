{
 "cells": [
  {
   "cell_type": "code",
   "execution_count": 1,
   "id": "2eb59dec-df71-401d-859f-63ff529b43ac",
   "metadata": {},
   "outputs": [],
   "source": [
    "import sys\n",
    "sys.path.append('../')"
   ]
  },
  {
   "cell_type": "code",
   "execution_count": 2,
   "id": "61ca623c-8dd5-4d23-8b0b-118b31ee3f2d",
   "metadata": {
    "tags": []
   },
   "outputs": [],
   "source": [
    "#import my functions\n",
    "import helpers.fileHandler as fh\n",
    "import utils._modelDefinitions as _model\n"
   ]
  },
  {
   "cell_type": "code",
   "execution_count": 3,
   "id": "6a105bc2-91b1-4d3b-9eab-22a223878896",
   "metadata": {
    "tags": []
   },
   "outputs": [],
   "source": [
    "import xarray\n",
    "import numpy\n",
    "import matplotlib.pyplot as plt"
   ]
  },
  {
   "cell_type": "code",
   "execution_count": 7,
   "id": "8018dc52-07fe-4c89-adf5-08d2b5ab276e",
   "metadata": {},
   "outputs": [],
   "source": [
    "import warnings\n",
    "warnings.filterwarnings('ignore')"
   ]
  },
  {
   "cell_type": "code",
   "execution_count": 8,
   "id": "b06d28f3-08e7-462f-88fc-799662df1c89",
   "metadata": {},
   "outputs": [],
   "source": [
    "deckSet=['piControl','historical']\n",
    "scenarioSet=['ssp126', 'ssp245', 'ssp370','ssp585']\n",
    "experimentSet=[*deckSet, *scenarioSet]"
   ]
  },
  {
   "cell_type": "code",
   "execution_count": 9,
   "id": "19ff8de8-255e-445c-91fd-ae76357c3e25",
   "metadata": {},
   "outputs": [],
   "source": [
    "modelSet=_model.scenarioMip"
   ]
  },
  {
   "cell_type": "code",
   "execution_count": null,
   "id": "88772243-39f6-421f-af92-965cf2e54992",
   "metadata": {},
   "outputs": [
    {
     "name": "stdout",
     "output_type": "stream",
     "text": [
      "0['CSIRO-ARCCSS' 'ACCESS-CM2' 'r1i1p1f1' 'r1i1p1f1']\n",
      "1['CSIRO' 'ACCESS-ESM1-5' 'r1i1p1f1' 'r1i1p1f1']\n",
      "2['AWI' 'AWI-CM-1-1-MR' 'r1i1p1f1' 'r1i1p1f1']\n",
      "3['BCC' 'BCC-CSM2-MR' 'r1i1p1f1' 'r1i1p1f1']\n",
      "4['CAMS' 'CAMS-CSM1-0' 'r1i1p1f1' 'r1i1p1f1']\n",
      "5['CAS' 'CAS-ESM2-0' 'r1i1p1f1' 'r1i1p1f1']\n",
      "6['NCAR' 'CESM2' 'r1i1p1f1' 'r10i1p1f1']\n",
      "7['NCAR' 'CESM2-WACCM' 'r1i1p1f1' 'r1i1p1f1']\n",
      "8['THU' 'CIESM' 'r1i1p1f1' 'r1i1p1f1']\n",
      "[Errno 2] No such file or directory: b'/home/steketea/compound/results/cmipWarmSeasonIndeces/CIESM_ssp370.nc'\n",
      "9['CMCC' 'CMCC-CM2-SR5' 'r1i1p1f1' 'r1i1p1f1']\n",
      "10['CMCC' 'CMCC-ESM2' 'r1i1p1f1' 'r1i1p1f1']\n",
      "11['CNRM-CERFACS' 'CNRM-CM6-1' 'r1i1p1f2' 'r1i1p1f2']\n",
      "12['CNRM-CERFACS' 'CNRM-ESM2-1' 'r1i1p1f2' 'r1i1p1f2']\n",
      "13['CCCma' 'CanESM5' 'r1i1p1f1' 'r1i1p1f1']\n",
      "14['CCCma' 'CanESM5-CanOE' 'r1i1p2f1' 'r1i1p2f1']\n",
      "15['EC-Earth-Consortium' 'EC-Earth3' 'r1i1p1f1' 'r1i1p1f1']\n",
      "16['EC-Earth-Consortium' 'EC-Earth3-CC' 'r1i1p1f1' 'r1i1p1f1']\n",
      "[Errno 2] No such file or directory: b'/home/steketea/compound/results/cmipWarmSeasonIndeces/EC-Earth3-CC_ssp126.nc'\n",
      "[Errno 2] No such file or directory: b'/home/steketea/compound/results/cmipWarmSeasonIndeces/EC-Earth3-CC_ssp370.nc'\n",
      "17['EC-Earth-Consortium' 'EC-Earth3-Veg' 'r1i1p1f1' 'r1i1p1f1']\n",
      "noMatchhistoricalts_Amon\n",
      "[1850, 2014, 1851, 2014]\n",
      "18['EC-Earth-Consortium' 'EC-Earth3-Veg-LR' 'r1i1p1f1' 'r1i1p1f1']\n",
      "19['FIO-QLNM' 'FIO-ESM-2-0' 'r1i1p1f1' 'r1i1p1f1']\n",
      "[Errno 2] No such file or directory: b'/home/steketea/compound/results/cmipWarmSeasonIndeces/FIO-ESM-2-0_ssp370.nc'\n",
      "20['NOAA-GFDL' 'GFDL-CM4' 'r1i1p1f1' 'r1i1p1f1']\n",
      "[Errno 2] No such file or directory: b'/home/steketea/compound/results/cmipWarmSeasonIndeces/GFDL-CM4_ssp126.nc'\n",
      "[Errno 2] No such file or directory: b'/home/steketea/compound/results/cmipWarmSeasonIndeces/GFDL-CM4_ssp370.nc'\n",
      "21['NOAA-GFDL' 'GFDL-ESM4' 'r1i1p1f1' 'r1i1p1f1']\n",
      "22['NASA-GISS' 'GISS-E2-1-G' 'r1i1p1f2' 'r1i1p1f2']\n",
      "piControl too short\n",
      "[7550, 7894, 7550, 7894]\n",
      "piControl too short\n",
      "[7550, 7894, 7550, 7894]\n",
      "23['MOHC' 'HadGEM3-GC31-LL' 'r1i1p1f1' 'r1i1p1f3']\n",
      "[Errno 2] No such file or directory: b'/home/steketea/compound/results/cmipWarmSeasonIndeces/HadGEM3-GC31-LL_ssp370.nc'\n",
      "24['MOHC' 'HadGEM3-GC31-MM' 'r1i1p1f1' 'r1i1p1f3']\n",
      "[Errno 2] No such file or directory: b'/home/steketea/compound/results/cmipWarmSeasonIndeces/HadGEM3-GC31-MM_ssp245.nc'\n",
      "[Errno 2] No such file or directory: b'/home/steketea/compound/results/cmipWarmSeasonIndeces/HadGEM3-GC31-MM_ssp370.nc'\n",
      "25['INM' 'INM-CM4-8' 'r1i1p1f1' 'r1i1p1f1']\n",
      "26['INM' 'INM-CM5-0' 'r1i1p1f1' 'r1i1p1f1']\n",
      "27['IPSL' 'IPSL-CM6A-LR' 'r1i1p1f1' 'r1i1p1f1']\n",
      "28['NIMS-KMA' 'KACE-1-0-G' 'r1i1p1f1' 'r1i1p1f1']\n",
      "29['KIOST' 'KIOST-ESM' 'r1i1p1f1' 'r1i1p1f1']\n"
     ]
    }
   ],
   "source": [
    "for i in range(0,len(modelSet)):\n",
    "  # everyone loves nested for loops  \n",
    "    iModel=modelSet[i]\n",
    "    print(str(i) + str(iModel))\n",
    "    \n",
    "    for experiment in experimentSet: \n",
    "        \n",
    "        if experiment=='piControl':\n",
    "            variant = iModel[2]\n",
    "        else:\n",
    "            variant = iModel[3]\n",
    "\n",
    "        try:\n",
    "            indecesDs = xarray.open_dataset('../results/cmipWarmSeasonIndeces/' + iModel[1] +'_'+ experiment + '.nc')\n",
    "\n",
    "            calc=[\n",
    "                indecesDs.year.values[0], \n",
    "                indecesDs.year.values[-1]+1\n",
    "            ]\n",
    "            \n",
    "\n",
    "            for variable in ['ts_Amon', 'psl_Amon']:#, 'pr_Amon', 'tas_Amon']:\n",
    "                \n",
    "                sourceXr = fh.loadModelData(iModel[1], variable, experiment, variant)\n",
    "                \n",
    "                if experiment=='piControl':\n",
    "                    source=[sourceXr.time.dt.year.values[0],\n",
    "                        sourceXr.time.dt.year.values[-1]]\n",
    "                elif experiment=='historical':\n",
    "                    histStart=sourceXr.time.dt.year.values[0]\n",
    "                    source=[histStart,\n",
    "                        sourceXr.time.dt.year.values[-1]]\n",
    "                else:\n",
    "                    source=[histStart,\n",
    "                        sourceXr.time.dt.year.values[-1]]\n",
    "                \n",
    "                if not(numpy.array_equal(source,calc)):\n",
    "                    print('noMatch' + experiment + variable)\n",
    "                    print([*calc, *source])\n",
    "                if all(\n",
    "                [calc[1]-calc[0]<400, \n",
    "                 experiment=='piControl']\n",
    "                ):\n",
    "                    print('piControl too short')\n",
    "                    print([*calc, *source])\n",
    "        \n",
    "        \n",
    "        except Exception as e:\n",
    "            print(e)\n",
    "        \n",
    "        "
   ]
  },
  {
   "cell_type": "code",
   "execution_count": null,
   "id": "191ab868-6e74-43c0-a164-943472e075d1",
   "metadata": {},
   "outputs": [],
   "source": []
  }
 ],
 "metadata": {
  "kernelspec": {
   "display_name": "Python 3",
   "language": "python",
   "name": "python3"
  },
  "language_info": {
   "codemirror_mode": {
    "name": "ipython",
    "version": 3
   },
   "file_extension": ".py",
   "mimetype": "text/x-python",
   "name": "python",
   "nbconvert_exporter": "python",
   "pygments_lexer": "ipython3",
   "version": "3.9.5"
  }
 },
 "nbformat": 4,
 "nbformat_minor": 5
}
