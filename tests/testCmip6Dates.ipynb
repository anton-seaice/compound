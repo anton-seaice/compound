{
 "cells": [
  {
   "cell_type": "markdown",
   "id": "87672558-a362-46e1-a44c-4eb3fa291d82",
   "metadata": {},
   "source": [
    "# Test CMIP6 Download"
   ]
  },
  {
   "cell_type": "markdown",
   "id": "8af9f476-ad32-4dcf-a564-302a242976b6",
   "metadata": {},
   "source": [
    "1. Confirm all four variables have been downloaded for all experiments\n",
    "2. Confirm downloaded variables all cover the same time ranges for all experiments\n",
    "3. Confirm calculated indices cover the same time range"
   ]
  },
  {
   "cell_type": "code",
   "execution_count": 1,
   "id": "ee5236cc-7428-45d9-a928-f15ebd312d0f",
   "metadata": {
    "tags": []
   },
   "outputs": [],
   "source": [
    "import sys\n",
    "sys.path.append('../')\n",
    "\n",
    "#import my functions\n",
    "import helpers.fileHandler as fh\n",
    "import utils._modelDefinitions as _model\n"
   ]
  },
  {
   "cell_type": "code",
   "execution_count": 2,
   "id": "6a105bc2-91b1-4d3b-9eab-22a223878896",
   "metadata": {
    "tags": []
   },
   "outputs": [],
   "source": [
    "import xarray\n",
    "import numpy\n",
    "import matplotlib.pyplot as plt"
   ]
  },
  {
   "cell_type": "code",
   "execution_count": 3,
   "id": "8018dc52-07fe-4c89-adf5-08d2b5ab276e",
   "metadata": {},
   "outputs": [],
   "source": [
    "import warnings\n",
    "warnings.filterwarnings('ignore')"
   ]
  },
  {
   "cell_type": "markdown",
   "id": "86515f1a-37a5-4f39-8aa2-73de0aa59f2d",
   "metadata": {},
   "source": [
    "These are the experiments"
   ]
  },
  {
   "cell_type": "code",
   "execution_count": 4,
   "id": "b06d28f3-08e7-462f-88fc-799662df1c89",
   "metadata": {},
   "outputs": [],
   "source": [
    "deckSet=['piControl','historical']\n",
    "scenarioSet=['ssp126', 'ssp245', 'ssp370','ssp585']\n",
    "experimentSet=[*deckSet, *scenarioSet]"
   ]
  },
  {
   "cell_type": "markdown",
   "id": "ed730162-35cd-4094-b6ea-d69eda5403fc",
   "metadata": {},
   "source": [
    "These are the models"
   ]
  },
  {
   "cell_type": "code",
   "execution_count": 5,
   "id": "19ff8de8-255e-445c-91fd-ae76357c3e25",
   "metadata": {},
   "outputs": [],
   "source": [
    "modelSet=_model.scenarioMip"
   ]
  },
  {
   "cell_type": "code",
   "execution_count": null,
   "id": "88772243-39f6-421f-af92-965cf2e54992",
   "metadata": {},
   "outputs": [
    {
     "name": "stdout",
     "output_type": "stream",
     "text": [
      "0['CSIRO-ARCCSS' 'ACCESS-CM2' 'r1i1p1f1' 'r1i1p1f1']\n",
      "CMIP6.CMIP.CSIRO-ARCCSS.ACCESS-CM2.piControl.r1i1p1f1.Omon.tos.gn.v20191112|esgf-data3.diasjp.net downloading\n",
      "CMIP6.CMIP.CSIRO-ARCCSS.ACCESS-CM2.piControl.r1i1p1f1.Omon.tos.gn.v20191112|esgf-data1.llnl.gov downloading\n",
      "CMIP6.CMIP.CSIRO-ARCCSS.ACCESS-CM2.piControl.r1i1p1f1.Omon.tos.gn.v20191112|esgf3.dkrz.de downloading\n",
      "CMIP6.CMIP.CSIRO-ARCCSS.ACCESS-CM2.piControl.r1i1p1f1.Omon.tos.gn.v20191112|esgf.nci.org.au downloading\n",
      "CMIP6.CMIP.CSIRO-ARCCSS.ACCESS-CM2.piControl.r1i1p1f1.Omon.tos.gn.v20191112|esgf-data3.ceda.ac.uk downloading\n",
      "CMIP6.ScenarioMIP.CSIRO-ARCCSS.ACCESS-CM2.ssp126.r1i1p1f1.Omon.tos.gn.v20210317|esgf-data1.llnl.gov downloading\n",
      "CMIP6.ScenarioMIP.CSIRO-ARCCSS.ACCESS-CM2.ssp126.r1i1p1f1.Omon.tos.gn.v20210317|esgf-data3.diasjp.net downloading\n",
      "CMIP6.ScenarioMIP.CSIRO-ARCCSS.ACCESS-CM2.ssp126.r1i1p1f1.Omon.tos.gn.v20210317|esgf.nci.org.au downloading\n",
      "CMIP6.ScenarioMIP.CSIRO-ARCCSS.ACCESS-CM2.ssp126.r1i1p1f1.Omon.tos.gn.v20210317|esgf-data3.ceda.ac.uk downloading\n",
      "CMIP6.ScenarioMIP.CSIRO-ARCCSS.ACCESS-CM2.ssp245.r1i1p1f1.Omon.tos.gn.v20191108|esgf-data3.diasjp.net downloading\n",
      "CMIP6.ScenarioMIP.CSIRO-ARCCSS.ACCESS-CM2.ssp245.r1i1p1f1.Omon.tos.gn.v20191108|esgf-data1.llnl.gov downloading\n",
      "CMIP6.ScenarioMIP.CSIRO-ARCCSS.ACCESS-CM2.ssp245.r1i1p1f1.Omon.tos.gn.v20191108|esgf3.dkrz.de downloading\n",
      "CMIP6.ScenarioMIP.CSIRO-ARCCSS.ACCESS-CM2.ssp245.r1i1p1f1.Omon.tos.gn.v20191108|esgf.nci.org.au downloading\n",
      "CMIP6.ScenarioMIP.CSIRO-ARCCSS.ACCESS-CM2.ssp245.r1i1p1f1.Omon.tos.gn.v20191108|esgf-data3.ceda.ac.uk downloading\n",
      "CMIP6.ScenarioMIP.CSIRO-ARCCSS.ACCESS-CM2.ssp370.r1i1p1f1.Omon.tos.gn.v20191108|esgf-data3.diasjp.net downloading\n",
      "CMIP6.ScenarioMIP.CSIRO-ARCCSS.ACCESS-CM2.ssp370.r1i1p1f1.Omon.tos.gn.v20191108|esgf-data1.llnl.gov downloading\n",
      "CMIP6.ScenarioMIP.CSIRO-ARCCSS.ACCESS-CM2.ssp370.r1i1p1f1.Omon.tos.gn.v20191108|esgf3.dkrz.de downloading\n",
      "CMIP6.ScenarioMIP.CSIRO-ARCCSS.ACCESS-CM2.ssp370.r1i1p1f1.Omon.tos.gn.v20191108|esgf.nci.org.au downloading\n",
      "CMIP6.ScenarioMIP.CSIRO-ARCCSS.ACCESS-CM2.ssp370.r1i1p1f1.Omon.tos.gn.v20191108|esgf-data3.ceda.ac.uk downloading\n",
      "1['CSIRO' 'ACCESS-ESM1-5' 'r1i1p1f1' 'r1i1p1f1']\n",
      "CMIP6.CMIP.CSIRO.ACCESS-ESM1-5.piControl.r1i1p1f1.Omon.tos.gn.v20210316|esgf-data1.llnl.gov downloading\n",
      "CMIP6.CMIP.CSIRO.ACCESS-ESM1-5.piControl.r1i1p1f1.Omon.tos.gn.v20210316|esgf-data3.diasjp.net downloading\n",
      "CMIP6.CMIP.CSIRO.ACCESS-ESM1-5.piControl.r1i1p1f1.Omon.tos.gn.v20210316|esgf.nci.org.au downloading\n",
      "CMIP6.CMIP.CSIRO.ACCESS-ESM1-5.piControl.r1i1p1f1.Omon.tos.gn.v20191214|esgf-data3.ceda.ac.uk downloading\n",
      "CMIP6.ScenarioMIP.CSIRO.ACCESS-ESM1-5.ssp126.r1i1p1f1.Omon.tos.gn.v20210318|esgf-data1.llnl.gov downloading\n",
      "Error loading available shards\n",
      "CMIP6.ScenarioMIP.CSIRO.ACCESS-ESM1-5.ssp245.r1i1p1f1.Omon.tos.gn.v20191115|esgf-data3.diasjp.net downloading\n",
      "Error loading available shards\n",
      "CMIP6.ScenarioMIP.CSIRO.ACCESS-ESM1-5.ssp370.r1i1p1f1.Omon.tos.gn.v20191115|esgf-data3.diasjp.net downloading\n",
      "Error loading available shards\n",
      "2['AWI' 'AWI-CM-1-1-MR' 'r1i1p1f1' 'r1i1p1f1']\n",
      "CMIP6.CMIP.AWI.AWI-CM-1-1-MR.piControl.r1i1p1f1.Omon.tos.gn.v20181218|aims3.llnl.gov downloading\n",
      "CMIP6.CMIP.AWI.AWI-CM-1-1-MR.piControl.r1i1p1f1.Omon.tos.gn.v20181218|esgf-data3.diasjp.net downloading\n",
      "CMIP6.CMIP.AWI.AWI-CM-1-1-MR.piControl.r1i1p1f1.Omon.tos.gn.v20181218|esgf3.dkrz.de downloading\n",
      "CMIP6.CMIP.AWI.AWI-CM-1-1-MR.piControl.r1i1p1f1.Omon.tos.gn.v20181218|esgf-data3.ceda.ac.uk downloading\n",
      "CMIP6.ScenarioMIP.AWI.AWI-CM-1-1-MR.ssp126.r1i1p1f1.Omon.tos.gn.v20181218|esgf-data3.diasjp.net downloading\n",
      "CMIP6.ScenarioMIP.AWI.AWI-CM-1-1-MR.ssp126.r1i1p1f1.Omon.tos.gn.v20181218|esgf-data1.llnl.gov downloading\n",
      "CMIP6.ScenarioMIP.AWI.AWI-CM-1-1-MR.ssp126.r1i1p1f1.Omon.tos.gn.v20181218|esgf3.dkrz.de downloading\n",
      "CMIP6.ScenarioMIP.AWI.AWI-CM-1-1-MR.ssp126.r1i1p1f1.Omon.tos.gn.v20181218|esgf.nci.org.au downloading\n",
      "CMIP6.ScenarioMIP.AWI.AWI-CM-1-1-MR.ssp126.r1i1p1f1.Omon.tos.gn.v20181218|esgf-data3.ceda.ac.uk downloading\n",
      "CMIP6.ScenarioMIP.AWI.AWI-CM-1-1-MR.ssp245.r1i1p1f1.Omon.tos.gn.v20181218|esgf-data3.diasjp.net downloading\n",
      "CMIP6.ScenarioMIP.AWI.AWI-CM-1-1-MR.ssp245.r1i1p1f1.Omon.tos.gn.v20181218|esgf-data1.llnl.gov downloading\n",
      "CMIP6.ScenarioMIP.AWI.AWI-CM-1-1-MR.ssp245.r1i1p1f1.Omon.tos.gn.v20181218|esgf3.dkrz.de downloading\n",
      "CMIP6.ScenarioMIP.AWI.AWI-CM-1-1-MR.ssp245.r1i1p1f1.Omon.tos.gn.v20181218|esgf.nci.org.au downloading\n",
      "CMIP6.ScenarioMIP.AWI.AWI-CM-1-1-MR.ssp245.r1i1p1f1.Omon.tos.gn.v20181218|esgf-data3.ceda.ac.uk downloading\n",
      "CMIP6.ScenarioMIP.AWI.AWI-CM-1-1-MR.ssp370.r1i1p1f1.Omon.tos.gn.v20181218|esgf-data3.diasjp.net downloading\n",
      "CMIP6.ScenarioMIP.AWI.AWI-CM-1-1-MR.ssp370.r1i1p1f1.Omon.tos.gn.v20181218|esgf-data1.llnl.gov downloading\n",
      "CMIP6.ScenarioMIP.AWI.AWI-CM-1-1-MR.ssp370.r1i1p1f1.Omon.tos.gn.v20181218|esgf3.dkrz.de downloading\n",
      "CMIP6.ScenarioMIP.AWI.AWI-CM-1-1-MR.ssp370.r1i1p1f1.Omon.tos.gn.v20181218|esgf.nci.org.au downloading\n",
      "CMIP6.ScenarioMIP.AWI.AWI-CM-1-1-MR.ssp370.r1i1p1f1.Omon.tos.gn.v20181218|esgf-data3.ceda.ac.uk downloading\n",
      "3['BCC' 'BCC-CSM2-MR' 'r1i1p1f1' 'r1i1p1f1']\n",
      "the new name 'lat' conflicts\n",
      "the new name 'lat' conflicts\n",
      "the new name 'lat' conflicts\n",
      "the new name 'lat' conflicts\n",
      "the new name 'lat' conflicts\n",
      "the new name 'lat' conflicts\n",
      "4['CAMS' 'CAMS-CSM1-0' 'r1i1p1f1' 'r1i1p1f1']\n",
      "5['CAS' 'CAS-ESM2-0' 'r1i1p1f1' 'r1i1p1f1']\n",
      "[Errno -51] NetCDF: Unknown file format: b'/mnt/e/CMIP5-PMIP3/CMIP6/tos_Omon_CAS-ESM2-0_piControl_r1i1p1f1_gn_000101-009912.nc'\n",
      "6['NCAR' 'CESM2' 'r1i1p1f1' 'r10i1p1f1']\n",
      "7['NCAR' 'CESM2-WACCM' 'r1i1p1f1' 'r1i1p1f1']\n",
      "8['THU' 'CIESM' 'r1i1p1f1' 'r1i1p1f1']\n",
      "[Errno 2] No such file or directory: b'/home/steketea/compound/results/cmipWarmSeasonIndeces/CIESM_ssp370.nc'\n",
      "9['CMCC' 'CMCC-CM2-SR5' 'r1i1p1f1' 'r1i1p1f1']\n",
      "10['CMCC' 'CMCC-ESM2' 'r1i1p1f1' 'r1i1p1f1']\n",
      "11['CNRM-CERFACS' 'CNRM-CM6-1' 'r1i1p1f2_gn' 'r1i1p1f2_gn']\n",
      "CNRM-CM6-1ts_AmonpiControlr1i1p1f2_gn file not found on ESGF\n",
      "Files (filter term: ts_Amon_.*?CNRM-CM6-1_piControl_r1i1p1f2_gn_.* ) not found, possibly test name is wrong\n",
      "CNRM-CM6-1ts_Amonhistoricalr1i1p1f2_gn file not found on ESGF\n",
      "Files (filter term: ts_Amon_.*?CNRM-CM6-1_historical_r1i1p1f2_gn_.* ) not found, possibly test name is wrong\n",
      "CNRM-CM6-1ts_Amonssp126r1i1p1f2_gn file not found on ESGF\n",
      "Files (filter term: ts_Amon_.*?CNRM-CM6-1_ssp126_r1i1p1f2_gn_.* ) not found, possibly test name is wrong\n",
      "CNRM-CM6-1ts_Amonssp245r1i1p1f2_gn file not found on ESGF\n",
      "Files (filter term: ts_Amon_.*?CNRM-CM6-1_ssp245_r1i1p1f2_gn_.* ) not found, possibly test name is wrong\n",
      "CNRM-CM6-1ts_Amonssp370r1i1p1f2_gn file not found on ESGF\n",
      "Files (filter term: ts_Amon_.*?CNRM-CM6-1_ssp370_r1i1p1f2_gn_.* ) not found, possibly test name is wrong\n",
      "CNRM-CM6-1ts_Amonssp585r1i1p1f2_gn file not found on ESGF\n",
      "Files (filter term: ts_Amon_.*?CNRM-CM6-1_ssp585_r1i1p1f2_gn_.* ) not found, possibly test name is wrong\n",
      "12['CNRM-CERFACS' 'CNRM-ESM2-1' 'r1i1p1f2' 'r1i1p1f2']\n"
     ]
    }
   ],
   "source": [
    "# for all models ....\n",
    "for i in range(0,len(modelSet)):\n",
    "  # everyone loves nested for loops  \n",
    "    iModel=modelSet[i]\n",
    "    print(str(i) + str(iModel))\n",
    "    \n",
    "    #for all experiments in that model ...\n",
    "    for experiment in experimentSet: \n",
    "        \n",
    "        #choose the right variant field\n",
    "        if experiment=='piControl':\n",
    "            variant = iModel[2]\n",
    "        else:\n",
    "            variant = iModel[3]\n",
    "\n",
    "        try:\n",
    "            #calculated indeces\n",
    "            indecesDs = xarray.open_dataset(\n",
    "                '../results/cmipWarmSeasonIndeces/' + iModel[1] +'_'+ experiment + '.nc')\n",
    "\n",
    "            calc=[indecesDs.year.values[0], #start year\n",
    "                indecesDs.year.values[-1]+1] #end year\n",
    "            \n",
    "            #for all four variables\n",
    "            for variable in ['ts_Amon', 'psl_Amon','pr_Amon', 'tas_Amon', 'tos_Omon']:\n",
    "                \n",
    "                #open the files\n",
    "                sourceXr = fh.loadModelData(iModel[1], variable, experiment, variant)\n",
    "                \n",
    "                #start year, end year for each experiment\n",
    "                if experiment=='piControl':\n",
    "                    source=[sourceXr.time.dt.year.values[0],\n",
    "                        sourceXr.time.dt.year.values[-1]]\n",
    "                elif experiment=='historical':\n",
    "                    histStart=sourceXr.time.dt.year.values[0]\n",
    "                    source=[histStart,\n",
    "                        sourceXr.time.dt.year.values[-1]]\n",
    "                else:\n",
    "                    #the remaining experiments are the scenarios,\n",
    "                    #where indices start in the historical dataset \n",
    "                    #and move to the scenario part way through\n",
    "                    source=[histStart,\n",
    "                        sourceXr.time.dt.year.values[-1]]\n",
    "                \n",
    "                #compare start year and end year for this variable to the indeces calculated\n",
    "                if not(numpy.array_equal(source,calc)):\n",
    "                    print('noMatch' + experiment + variable)\n",
    "                    print([*calc, *source])\n",
    "            \n",
    "            #check how long the piControl is\n",
    "            #(should be 500 years per CMIP specs, \n",
    "            #but some models appear not to have recalculated for all variants)\n",
    "            if all(\n",
    "            [calc[1]-calc[0]<400, \n",
    "             experiment=='piControl']\n",
    "            ):\n",
    "                print('piControl too short')\n",
    "                print([*calc, *source])\n",
    "        \n",
    "        \n",
    "        except Exception as e:\n",
    "            print(e)\n",
    "        \n",
    "        "
   ]
  },
  {
   "cell_type": "code",
   "execution_count": null,
   "id": "191ab868-6e74-43c0-a164-943472e075d1",
   "metadata": {},
   "outputs": [],
   "source": []
  }
 ],
 "metadata": {
  "kernelspec": {
   "display_name": "Python 3",
   "language": "python",
   "name": "python3"
  },
  "language_info": {
   "codemirror_mode": {
    "name": "ipython",
    "version": 3
   },
   "file_extension": ".py",
   "mimetype": "text/x-python",
   "name": "python",
   "nbconvert_exporter": "python",
   "pygments_lexer": "ipython3",
   "version": "3.9.5"
  }
 },
 "nbformat": 4,
 "nbformat_minor": 5
}
