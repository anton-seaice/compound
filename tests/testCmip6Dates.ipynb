{
 "cells": [
  {
   "cell_type": "markdown",
   "id": "87672558-a362-46e1-a44c-4eb3fa291d82",
   "metadata": {},
   "source": [
    "# Test CMIP6 Download"
   ]
  },
  {
   "cell_type": "markdown",
   "id": "8af9f476-ad32-4dcf-a564-302a242976b6",
   "metadata": {},
   "source": [
    "1. Confirm all four variables have been downloaded for all experiments\n",
    "2. Confirm downloaded variables all cover the same time ranges for all experiments\n",
    "3. Confirm calculated indices cover the same time range"
   ]
  },
  {
   "cell_type": "code",
   "execution_count": 1,
   "id": "ee5236cc-7428-45d9-a928-f15ebd312d0f",
   "metadata": {
    "tags": []
   },
   "outputs": [],
   "source": [
    "import sys\n",
    "sys.path.append('../')\n",
    "\n",
    "#import my functions\n",
    "import helpers.fileHandler as fh\n",
    "import utils._modelDefinitions as _model\n"
   ]
  },
  {
   "cell_type": "code",
   "execution_count": 2,
   "id": "6a105bc2-91b1-4d3b-9eab-22a223878896",
   "metadata": {
    "tags": []
   },
   "outputs": [],
   "source": [
    "import xarray\n",
    "import numpy\n",
    "import matplotlib.pyplot as plt"
   ]
  },
  {
   "cell_type": "code",
   "execution_count": 3,
   "id": "8018dc52-07fe-4c89-adf5-08d2b5ab276e",
   "metadata": {},
   "outputs": [],
   "source": [
    "import warnings\n",
    "warnings.filterwarnings('ignore')"
   ]
  },
  {
   "cell_type": "markdown",
   "id": "86515f1a-37a5-4f39-8aa2-73de0aa59f2d",
   "metadata": {},
   "source": [
    "These are the experiments"
   ]
  },
  {
   "cell_type": "code",
   "execution_count": 4,
   "id": "b06d28f3-08e7-462f-88fc-799662df1c89",
   "metadata": {},
   "outputs": [],
   "source": [
    "deckSet=['piControl','historical']\n",
    "scenarioSet=['ssp126', 'ssp245', 'ssp370','ssp585']\n",
    "experimentSet=[*deckSet, *scenarioSet]"
   ]
  },
  {
   "cell_type": "markdown",
   "id": "ed730162-35cd-4094-b6ea-d69eda5403fc",
   "metadata": {},
   "source": [
    "These are the models"
   ]
  },
  {
   "cell_type": "code",
   "execution_count": 5,
   "id": "19ff8de8-255e-445c-91fd-ae76357c3e25",
   "metadata": {},
   "outputs": [],
   "source": [
    "modelSet=_model.scenarioMip"
   ]
  },
  {
   "cell_type": "code",
   "execution_count": 6,
   "id": "88772243-39f6-421f-af92-965cf2e54992",
   "metadata": {},
   "outputs": [
    {
     "name": "stdout",
     "output_type": "stream",
     "text": [
      "0['CSIRO-ARCCSS' 'ACCESS-CM2' 'r1i1p1f1' 'r1i1p1f1']\n",
      "1['CSIRO' 'ACCESS-ESM1-5' 'r1i1p1f1' 'r1i1p1f1']\n",
      "2['AWI' 'AWI-CM-1-1-MR' 'r1i1p1f1' 'r1i1p1f1']\n",
      "3['BCC' 'BCC-CSM2-MR' 'r1i1p1f1' 'r1i1p1f1']\n",
      "4['CAMS' 'CAMS-CSM1-0' 'r1i1p1f1' 'r1i1p1f1']\n",
      "5['CAS' 'CAS-ESM2-0' 'r1i1p1f1' 'r1i1p1f1']\n",
      "6['NCAR' 'CESM2' 'r1i1p1f1' 'r10i1p1f1']\n",
      "7['NCAR' 'CESM2-WACCM' 'r1i1p1f1' 'r1i1p1f1']\n",
      "8['THU' 'CIESM' 'r1i1p1f1' 'r1i1p1f1']\n",
      "[Errno 2] No such file or directory: b'/home/steketea/compound/results/cmipWarmSeasonIndeces/CIESM_ssp370.nc'\n",
      "9['CMCC' 'CMCC-CM2-SR5' 'r1i1p1f1' 'r1i1p1f1']\n",
      "10['CMCC' 'CMCC-ESM2' 'r1i1p1f1' 'r1i1p1f1']\n",
      "11['CNRM-CERFACS' 'CNRM-CM6-1' 'r1i1p1f2' 'r1i1p1f2']\n",
      "12['CNRM-CERFACS' 'CNRM-ESM2-1' 'r1i1p1f2' 'r1i1p1f2']\n",
      "13['CCCma' 'CanESM5' 'r1i1p1f1' 'r1i1p1f1']\n",
      "14['CCCma' 'CanESM5-CanOE' 'r1i1p2f1' 'r1i1p2f1']\n",
      "15['EC-Earth-Consortium' 'EC-Earth3' 'r1i1p1f1' 'r1i1p1f1']\n",
      "16['EC-Earth-Consortium' 'EC-Earth3-CC' 'r1i1p1f1' 'r1i1p1f1']\n",
      "noMatchhistoricaltas_Amon\n",
      "[1850, 2014, 1850, 1859]\n",
      "[Errno 2] No such file or directory: b'/home/steketea/compound/results/cmipWarmSeasonIndeces/EC-Earth3-CC_ssp126.nc'\n",
      "[Errno 2] No such file or directory: b'/home/steketea/compound/results/cmipWarmSeasonIndeces/EC-Earth3-CC_ssp370.nc'\n",
      "17['EC-Earth-Consortium' 'EC-Earth3-Veg' 'r1i1p1f1' 'r1i1p1f1']\n",
      "noMatchhistoricalts_Amon\n",
      "[1850, 2014, 1851, 2014]\n",
      "18['EC-Earth-Consortium' 'EC-Earth3-Veg-LR' 'r1i1p1f1' 'r1i1p1f1']\n",
      "19['NOAA-GFDL' 'GFDL-CM4' 'r1i1p1f1' 'r1i1p1f1']\n",
      "GFDL-CM4pr_AmonpiControlr1i1p1f1 file not found on ESGF\n",
      "Files (filter term: pr_Amon_.*?GFDL-CM4_piControl_r1i1p1f1_.*?\\.nc ) not found, possibly test name is wrong\n",
      "GFDL-CM4pr_Amonhistoricalr1i1p1f1 file not found on ESGF\n",
      "Files (filter term: pr_Amon_.*?GFDL-CM4_historical_r1i1p1f1_.*?\\.nc ) not found, possibly test name is wrong\n",
      "[Errno 2] No such file or directory: b'/home/steketea/compound/results/cmipWarmSeasonIndeces/GFDL-CM4_ssp126.nc'\n",
      "GFDL-CM4pr_Amonssp245r1i1p1f1 file not found on ESGF\n",
      "Files (filter term: pr_Amon_.*?GFDL-CM4_ssp245_r1i1p1f1_.*?\\.nc ) not found, possibly test name is wrong\n",
      "[Errno 2] No such file or directory: b'/home/steketea/compound/results/cmipWarmSeasonIndeces/GFDL-CM4_ssp370.nc'\n",
      "GFDL-CM4pr_Amonssp585r1i1p1f1 file not found on ESGF\n",
      "Files (filter term: pr_Amon_.*?GFDL-CM4_ssp585_r1i1p1f1_.*?\\.nc ) not found, possibly test name is wrong\n",
      "20['NOAA-GFDL' 'GFDL-ESM4' 'r1i1p1f1' 'r1i1p1f1']\n",
      "GFDL-ESM4pr_AmonpiControlr1i1p1f1 file not found on ESGF\n",
      "Files (filter term: pr_Amon_.*?GFDL-ESM4_piControl_r1i1p1f1_.*?\\.nc ) not found, possibly test name is wrong\n",
      "21['NASA-GISS' 'GISS-E2-1-G' 'r1i1p1f2' 'r1i1p1f2']\n",
      "piControl too short\n",
      "[7550, 7894, 7550, 7894]\n",
      "noMatchssp126pr_Amon\n",
      "[1850, 2100, 1850, 2500]\n",
      "noMatchssp126tas_Amon\n",
      "[1850, 2100, 1850, 2500]\n",
      "22['MOHC' 'HadGEM3-GC31-LL' 'r1i1p1f1' 'r1i1p1f3']\n",
      "[Errno 2] No such file or directory: b'/home/steketea/compound/results/cmipWarmSeasonIndeces/HadGEM3-GC31-LL_ssp370.nc'\n",
      "23['MOHC' 'HadGEM3-GC31-MM' 'r1i1p1f1' 'r1i1p1f3']\n",
      "[Errno 2] No such file or directory: b'/home/steketea/compound/results/cmipWarmSeasonIndeces/HadGEM3-GC31-MM_ssp245.nc'\n",
      "[Errno 2] No such file or directory: b'/home/steketea/compound/results/cmipWarmSeasonIndeces/HadGEM3-GC31-MM_ssp370.nc'\n",
      "24['INM' 'INM-CM4-8' 'r1i1p1f1' 'r1i1p1f1']\n",
      "25['INM' 'INM-CM5-0' 'r1i1p1f1' 'r1i1p1f1']\n",
      "26['IPSL' 'IPSL-CM6A-LR' 'r1i1p1f1' 'r1i1p1f1']\n",
      "27['NIMS-KMA' 'KACE-1-0-G' 'r1i1p1f1' 'r1i1p1f1']\n",
      "28['KIOST' 'KIOST-ESM' 'r1i1p1f1' 'r1i1p1f1']\n",
      "KIOST-ESMpr_AmonpiControlr1i1p1f1 file not found on ESGF\n",
      "Files (filter term: pr_Amon_.*?KIOST-ESM_piControl_r1i1p1f1_.*?\\.nc ) not found, possibly test name is wrong\n",
      "KIOST-ESMpr_Amonhistoricalr1i1p1f1 file not found on ESGF\n",
      "Files (filter term: pr_Amon_.*?KIOST-ESM_historical_r1i1p1f1_.*?\\.nc ) not found, possibly test name is wrong\n",
      "KIOST-ESMpr_Amonssp126r1i1p1f1 file not found on ESGF\n",
      "Files (filter term: pr_Amon_.*?KIOST-ESM_ssp126_r1i1p1f1_.*?\\.nc ) not found, possibly test name is wrong\n",
      "KIOST-ESMpr_Amonssp245r1i1p1f1 file not found on ESGF\n",
      "Files (filter term: pr_Amon_.*?KIOST-ESM_ssp245_r1i1p1f1_.*?\\.nc ) not found, possibly test name is wrong\n",
      "[Errno 2] No such file or directory: b'/home/steketea/compound/results/cmipWarmSeasonIndeces/KIOST-ESM_ssp370.nc'\n",
      "KIOST-ESMpr_Amonssp585r1i1p1f1 file not found on ESGF\n",
      "Files (filter term: pr_Amon_.*?KIOST-ESM_ssp585_r1i1p1f1_.*?\\.nc ) not found, possibly test name is wrong\n",
      "29['UA' 'MCM-UA-1-0' 'r1i1p1f1' 'r1i1p1f2']\n",
      "30['MIROC' 'MIROC-ES2L' 'r1i1p1f2' 'r1i1p1f2']\n",
      "31['MIROC' 'MIROC6' 'r1i1p1f1' 'r1i1p1f1']\n",
      "32['MPI-M' 'MPI-ESM1-2-HR' 'r1i1p1f1' 'r1i1p1f1']\n",
      "noMatchpiControlpr_Amon\n",
      "[1850, 2349, 2340, 2349]\n",
      "33['MPI-M' 'MPI-ESM1-2-LR' 'r1i1p1f1' 'r1i1p1f1']\n",
      "noMatchpiControlpr_Amon\n",
      "[1850, 2849, 2790, 2849]\n",
      "noMatchpiControltas_Amon\n",
      "[1850, 2849, 2830, 2849]\n",
      "34['MRI' 'MRI-ESM2-0' 'r1i1p1f1' 'r1i1p1f1']\n",
      "noMatchssp126tas_Amon\n",
      "[1850, 2300, 1850, 2100]\n",
      "35['NUIST' 'NESM3' 'r1i1p1f1' 'r1i1p1f1']\n",
      "[Errno 2] No such file or directory: b'/home/steketea/compound/results/cmipWarmSeasonIndeces/NESM3_ssp370.nc'\n",
      "36['NCC' 'NorESM2-LM' 'r1i1p1f1' 'r1i1p1f1']\n",
      "Resulting object does not have monotonic global indexes along dimension time\n",
      "37['NCC' 'NorESM2-MM' 'r1i1p1f1' 'r1i1p1f1']\n",
      "38['MOHC' 'UKESM1-0-LL' 'r1i1p1f2' 'r1i1p1f2']\n"
     ]
    }
   ],
   "source": [
    "# for all models ....\n",
    "for i in range(0,len(modelSet)):\n",
    "  # everyone loves nested for loops  \n",
    "    iModel=modelSet[i]\n",
    "    print(str(i) + str(iModel))\n",
    "    \n",
    "    #for all experiments in that model ...\n",
    "    for experiment in experimentSet: \n",
    "        \n",
    "        #choose the right variant field\n",
    "        if experiment=='piControl':\n",
    "            variant = iModel[2]\n",
    "        else:\n",
    "            variant = iModel[3]\n",
    "\n",
    "        try:\n",
    "            #calculated indeces\n",
    "            indecesDs = xarray.open_dataset(\n",
    "                '../results/cmipWarmSeasonIndeces/' + iModel[1] +'_'+ experiment + '.nc')\n",
    "\n",
    "            calc=[indecesDs.year.values[0], #start year\n",
    "                indecesDs.year.values[-1]+1] #end year\n",
    "            \n",
    "            #for all four variables\n",
    "            for variable in ['ts_Amon', 'psl_Amon','pr_Amon', 'tas_Amon']:\n",
    "                \n",
    "                #open the files\n",
    "                sourceXr = fh.loadModelData(iModel[1], variable, experiment, variant)\n",
    "                \n",
    "                #start year, end year for each experiment\n",
    "                if experiment=='piControl':\n",
    "                    source=[sourceXr.time.dt.year.values[0],\n",
    "                        sourceXr.time.dt.year.values[-1]]\n",
    "                elif experiment=='historical':\n",
    "                    histStart=sourceXr.time.dt.year.values[0]\n",
    "                    source=[histStart,\n",
    "                        sourceXr.time.dt.year.values[-1]]\n",
    "                else:\n",
    "                    #the remaining experiments are the scenarios,\n",
    "                    #where indices start in the historical dataset \n",
    "                    #and move to the scenario part way through\n",
    "                    source=[histStart,\n",
    "                        sourceXr.time.dt.year.values[-1]]\n",
    "                \n",
    "                #compare start year and end year for this variable to the indeces calculated\n",
    "                if not(numpy.array_equal(source,calc)):\n",
    "                    print('noMatch' + experiment + variable)\n",
    "                    print([*calc, *source])\n",
    "            \n",
    "            #check how long the piControl is\n",
    "            #(should be 500 years per CMIP specs, \n",
    "            #but some models appear not to have recalculated for all variants)\n",
    "            if all(\n",
    "            [calc[1]-calc[0]<400, \n",
    "             experiment=='piControl']\n",
    "            ):\n",
    "                print('piControl too short')\n",
    "                print([*calc, *source])\n",
    "        \n",
    "        \n",
    "        except Exception as e:\n",
    "            print(e)\n",
    "        \n",
    "        "
   ]
  },
  {
   "cell_type": "code",
   "execution_count": null,
   "id": "191ab868-6e74-43c0-a164-943472e075d1",
   "metadata": {},
   "outputs": [],
   "source": []
  }
 ],
 "metadata": {
  "kernelspec": {
   "display_name": "Python 3",
   "language": "python",
   "name": "python3"
  },
  "language_info": {
   "codemirror_mode": {
    "name": "ipython",
    "version": 3
   },
   "file_extension": ".py",
   "mimetype": "text/x-python",
   "name": "python",
   "nbconvert_exporter": "python",
   "pygments_lexer": "ipython3",
   "version": "3.9.5"
  }
 },
 "nbformat": 4,
 "nbformat_minor": 5
}
