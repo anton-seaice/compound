{
 "cells": [
  {
   "cell_type": "markdown",
   "id": "87672558-a362-46e1-a44c-4eb3fa291d82",
   "metadata": {},
   "source": [
    "# Test CMIP6 Download"
   ]
  },
  {
   "cell_type": "markdown",
   "id": "8af9f476-ad32-4dcf-a564-302a242976b6",
   "metadata": {},
   "source": [
    "1. Confirm all four variables have been downloaded for all experiments\n",
    "2. Confirm downloaded variables all cover the same time ranges for all experiments\n",
    "3. Confirm calculated indices cover the same time range"
   ]
  },
  {
   "cell_type": "code",
   "execution_count": null,
   "id": "ee5236cc-7428-45d9-a928-f15ebd312d0f",
   "metadata": {
    "tags": []
   },
   "outputs": [],
   "source": [
    "import sys\n",
    "sys.path.append('../')\n",
    "\n",
    "#import my functions\n",
    "import helpers.fileHandler as fh\n",
    "import utils._modelDefinitions as _model\n"
   ]
  },
  {
   "cell_type": "code",
   "execution_count": null,
   "id": "6a105bc2-91b1-4d3b-9eab-22a223878896",
   "metadata": {
    "tags": []
   },
   "outputs": [],
   "source": [
    "import xarray\n",
    "import numpy\n",
    "import matplotlib.pyplot as plt"
   ]
  },
  {
   "cell_type": "code",
   "execution_count": null,
   "id": "8018dc52-07fe-4c89-adf5-08d2b5ab276e",
   "metadata": {},
   "outputs": [],
   "source": [
    "import warnings\n",
    "warnings.filterwarnings('ignore')"
   ]
  },
  {
   "cell_type": "markdown",
   "id": "86515f1a-37a5-4f39-8aa2-73de0aa59f2d",
   "metadata": {},
   "source": [
    "These are the experiments"
   ]
  },
  {
   "cell_type": "code",
   "execution_count": null,
   "id": "b06d28f3-08e7-462f-88fc-799662df1c89",
   "metadata": {},
   "outputs": [],
   "source": [
    "deckSet=['piControl','historical']\n",
    "scenarioSet=[#'ssp126', 'ssp245', 'ssp370',\n",
    "    'ssp585']\n",
    "experimentSet=[*deckSet, *scenarioSet]"
   ]
  },
  {
   "cell_type": "markdown",
   "id": "ed730162-35cd-4094-b6ea-d69eda5403fc",
   "metadata": {},
   "source": [
    "These are the models"
   ]
  },
  {
   "cell_type": "code",
   "execution_count": null,
   "id": "19ff8de8-255e-445c-91fd-ae76357c3e25",
   "metadata": {},
   "outputs": [],
   "source": [
    "modelSet=_model.scenarioMip"
   ]
  },
  {
   "cell_type": "code",
   "execution_count": null,
   "id": "88772243-39f6-421f-af92-965cf2e54992",
   "metadata": {},
   "outputs": [],
   "source": [
    "# for all models ....\n",
    "for i in range(0,len(modelSet)):\n",
    "  # everyone loves nested for loops  \n",
    "    iModel=modelSet[i]\n",
    "    print(str(i) + str(iModel))\n",
    "    \n",
    "    #for all experiments in that model ...\n",
    "    for experiment in experimentSet: \n",
    "        \n",
    "        #choose the right variant field\n",
    "        if experiment=='piControl':\n",
    "            variant = iModel[2]\n",
    "        else:\n",
    "            variant = iModel[3]\n",
    "\n",
    "        try:\n",
    "            #calculated indeces\n",
    "            indecesDs = xarray.open_dataset(\n",
    "                '../results/cmipWarmSeasonIndeces/' + iModel[1] +'_'+ experiment + '.nc')\n",
    "\n",
    "            calc=[indecesDs.year.values[0], #start year\n",
    "                indecesDs.year.values[-1]+1] #end year\n",
    "            \n",
    "            #for all four variables\n",
    "            for variable in ['ts_Amon', 'psl_Amon','pr_Amon', 'tas_Amon', 'tos_Omon']:\n",
    "                \n",
    "                #open the files\n",
    "                sourceXr = fh.loadModelData(iModel[1], variable, experiment, variant)\n",
    "                \n",
    "                #start year, end year for each experiment\n",
    "                if experiment=='piControl':\n",
    "                    source=[sourceXr.time.dt.year.values[0],\n",
    "                        sourceXr.time.dt.year.values[-1]]\n",
    "                elif experiment=='historical':\n",
    "                    histStart=sourceXr.time.dt.year.values[0]\n",
    "                    source=[histStart,\n",
    "                        sourceXr.time.dt.year.values[-1]]\n",
    "                else:\n",
    "                    #the remaining experiments are the scenarios,\n",
    "                    #where indices start in the historical dataset \n",
    "                    #and move to the scenario part way through\n",
    "                    source=[histStart,\n",
    "                        sourceXr.time.dt.year.values[-1]]\n",
    "                \n",
    "                #compare start year and end year for this variable to the indeces calculated\n",
    "                if not(numpy.array_equal(source,calc)):\n",
    "                    print('noMatch' + experiment + variable)\n",
    "                    print([*calc, *source])\n",
    "            \n",
    "            #check how long the piControl is\n",
    "            #(should be 500 years per CMIP specs, \n",
    "            #but some models appear not to have recalculated for all variants)\n",
    "            if all(\n",
    "            [calc[1]-calc[0]<400, \n",
    "             experiment=='piControl']\n",
    "            ):\n",
    "                print('piControl too short')\n",
    "                print([*calc, *source])\n",
    "        \n",
    "        \n",
    "        except Exception as e:\n",
    "            print(e)\n",
    "        \n",
    "        "
   ]
  },
  {
   "cell_type": "code",
   "execution_count": null,
   "id": "191ab868-6e74-43c0-a164-943472e075d1",
   "metadata": {},
   "outputs": [],
   "source": []
  }
 ],
 "metadata": {
  "kernelspec": {
   "display_name": "Python 3",
   "language": "python",
   "name": "python3"
  },
  "language_info": {
   "codemirror_mode": {
    "name": "ipython",
    "version": 3
   },
   "file_extension": ".py",
   "mimetype": "text/x-python",
   "name": "python",
   "nbconvert_exporter": "python",
   "pygments_lexer": "ipython3",
   "version": "3.9.5"
  }
 },
 "nbformat": 4,
 "nbformat_minor": 5
}
