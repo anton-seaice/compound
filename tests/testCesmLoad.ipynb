{
 "cells": [
  {
   "cell_type": "markdown",
   "metadata": {},
   "source": [
    "<b>Load some CESM Models</b>"
   ]
  },
  {
   "cell_type": "code",
   "execution_count": null,
   "metadata": {},
   "outputs": [],
   "source": [
    "import sys\n",
    "sys.path.append('../')\n",
    "import helpers.fileHandler as fh"
   ]
  },
  {
   "cell_type": "code",
   "execution_count": null,
   "metadata": {},
   "outputs": [],
   "source": [
    "#Negative Case. Try bad model names\n",
    "try:\n",
    "    fh.loadModelData('CESM-LM','SST', '001')\n",
    "except:\n",
    "    print(\"Test passed - bad model name rejected\")\n",
    "else:\n",
    "    raise RuntimeError (\"Test failed, function accepted bad model name\")\n",
    "    \n",
    "try:\n",
    "    fh.loadModelData('CESM-LMEF','SST', '001')\n",
    "except:\n",
    "    print(\"Test passed - bad model name rejected\")\n",
    "else:\n",
    "    raise RuntimeError (\"Test failed, function accepted bad model name\")\n"
   ]
  },
  {
   "cell_type": "code",
   "execution_count": null,
   "metadata": {},
   "outputs": [],
   "source": [
    "#Negative Case. Try bad variable names\n",
    "try:\n",
    "    fh.loadModelData('CESM-LME','SS', '001')\n",
    "except:\n",
    "    print(\"Test passed - bad variable name rejected\")\n",
    "else:\n",
    "    raise RuntimeError (\"Test failed, function accepted bad variable name\")\n",
    "    \n",
    "try:\n",
    "    fh.loadModelData('CESM-LME','SSTF', '001')\n",
    "except:\n",
    "    print(\"Test passed - bad variable name rejected\")\n",
    "else:\n",
    "    raise RuntimeError (\"Test failed, function accepted bad variable name\")"
   ]
  },
  {
   "cell_type": "code",
   "execution_count": null,
   "metadata": {},
   "outputs": [],
   "source": [
    "#Negative Case. Try bad test names\n",
    "try:\n",
    "    fh.loadModelData('CESM-LME','SST', '014')\n",
    "except:\n",
    "    print(\"Test passed - bad test name rejected\")\n",
    "else:\n",
    "    raise RuntimeError (\"Test failed, function accepted bad test name\")\n",
    "    \n",
    "try:\n",
    "    fh.loadModelData('CESM-LME','SST', '0')\n",
    "except:\n",
    "    print(\"Test passed - bad test name rejected\")\n",
    "else:\n",
    "    raise RuntimeError (\"Test failed, function accepted bad test name\")"
   ]
  },
  {
   "cell_type": "code",
   "execution_count": null,
   "metadata": {},
   "outputs": [],
   "source": [
    "#Try some things that should work\n",
    "fh.loadModelData('CESM-LME','SST', '013')"
   ]
  },
  {
   "cell_type": "code",
   "execution_count": null,
   "metadata": {},
   "outputs": [],
   "source": [
    "testData=fh.loadModelData('CESM-LME','SST', '850forcing.003')\n",
    "testData"
   ]
  },
  {
   "cell_type": "code",
   "execution_count": null,
   "metadata": {},
   "outputs": [],
   "source": [
    "testData.vonkar.plot()"
   ]
  },
  {
   "cell_type": "code",
   "execution_count": null,
   "metadata": {},
   "outputs": [],
   "source": [
    "testData=fh.loadModelData('CESM-LME','cvdp_data', 'ORBITAL\\.003', decode_times=False)\n",
    "testData"
   ]
  },
  {
   "cell_type": "code",
   "execution_count": null,
   "metadata": {},
   "outputs": [],
   "source": [
    "testData.plot.scatter('time', 'atlantic_nino')"
   ]
  },
  {
   "cell_type": "code",
   "execution_count": null,
   "metadata": {},
   "outputs": [],
   "source": []
  }
 ],
 "metadata": {
  "kernelspec": {
   "display_name": "Python 3",
   "language": "python",
   "name": "python3"
  },
  "language_info": {
   "codemirror_mode": {
    "name": "ipython",
    "version": 3
   },
   "file_extension": ".py",
   "mimetype": "text/x-python",
   "name": "python",
   "nbconvert_exporter": "python",
   "pygments_lexer": "ipython3",
   "version": "3.8.5"
  }
 },
 "nbformat": 4,
 "nbformat_minor": 4
}
