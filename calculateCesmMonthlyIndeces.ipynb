{
 "cells": [
  {
   "cell_type": "markdown",
   "metadata": {},
   "source": [
    "# Calculate CESM Indeces"
   ]
  },
  {
   "cell_type": "markdown",
   "metadata": {},
   "source": [
    "This file just calculates all the indeces for all months for all cesmFullForcingFiles.\n",
    "\n",
    "Could be generalised if desired."
   ]
  },
  {
   "cell_type": "code",
   "execution_count": 1,
   "metadata": {},
   "outputs": [],
   "source": [
    "#import my functions\n",
    "import helpers.fileHandler as fh\n",
    "import utils._modelDefinitions as _model\n",
    "import utils.sstIndex as sst\n",
    "import utils.pslIndex as psl\n"
   ]
  },
  {
   "cell_type": "code",
   "execution_count": 2,
   "metadata": {},
   "outputs": [],
   "source": [
    "import xarray"
   ]
  },
  {
   "cell_type": "code",
   "execution_count": 3,
   "metadata": {},
   "outputs": [],
   "source": [
    "import warnings\n",
    "warnings.filterwarnings('ignore')"
   ]
  },
  {
   "cell_type": "code",
   "execution_count": null,
   "metadata": {},
   "outputs": [],
   "source": [
    "for experiment in _model.cesmCntl:\n",
    "    print(experiment)\n",
    "    sstDs = fh.loadModelData('CESM-LME', 'SST', experiment)\n",
    "    pslDs = fh.loadModelData('CESM-LME', 'PSL', experiment)\n",
    "    pslIndex = psl.calculateSamIndex(pslDs, 850, 1850)\n",
    "    sstIndex = sst.calculateIndex(sstDs, 850, 1850)\n",
    "    indeces = xarray.merge([pslIndex, sstIndex])\n",
    "    indeces.assign_attrs(climatology='calculated based on 850-1850 climatology')\n",
    "    indeces.to_netcdf('results/cesmFullForcingMonthlyIndeces/' + experiment + '.nc')\n"
   ]
  },
  {
   "cell_type": "code",
   "execution_count": 8,
   "metadata": {},
   "outputs": [
    {
     "name": "stdout",
     "output_type": "stream",
     "text": [
      "002\n",
      "Files imported: \n",
      " ['E:/CMIP5-PMIP3/CESM-LME/mon/SST/b.e11.BLMTRC5CN.f19_g16.002.pop.h.SST.085001-089912.nc', 'E:/CMIP5-PMIP3/CESM-LME/mon/SST/b.e11.BLMTRC5CN.f19_g16.002.pop.h.SST.090001-099912.nc', 'E:/CMIP5-PMIP3/CESM-LME/mon/SST/b.e11.BLMTRC5CN.f19_g16.002.pop.h.SST.100001-109912.nc', 'E:/CMIP5-PMIP3/CESM-LME/mon/SST/b.e11.BLMTRC5CN.f19_g16.002.pop.h.SST.110001-119912.nc', 'E:/CMIP5-PMIP3/CESM-LME/mon/SST/b.e11.BLMTRC5CN.f19_g16.002.pop.h.SST.120001-129912.nc', 'E:/CMIP5-PMIP3/CESM-LME/mon/SST/b.e11.BLMTRC5CN.f19_g16.002.pop.h.SST.130001-139912.nc', 'E:/CMIP5-PMIP3/CESM-LME/mon/SST/b.e11.BLMTRC5CN.f19_g16.002.pop.h.SST.140001-149912.nc', 'E:/CMIP5-PMIP3/CESM-LME/mon/SST/b.e11.BLMTRC5CN.f19_g16.002.pop.h.SST.150001-159912.nc', 'E:/CMIP5-PMIP3/CESM-LME/mon/SST/b.e11.BLMTRC5CN.f19_g16.002.pop.h.SST.160001-169912.nc', 'E:/CMIP5-PMIP3/CESM-LME/mon/SST/b.e11.BLMTRC5CN.f19_g16.002.pop.h.SST.170001-179912.nc', 'E:/CMIP5-PMIP3/CESM-LME/mon/SST/b.e11.BLMTRC5CN.f19_g16.002.pop.h.SST.180001-184912.nc', 'E:/CMIP5-PMIP3/CESM-LME/mon/SST/b.e11.BLMTRC5CN.f19_g16.002.pop.h.SST.185001-200512.nc']\n",
      "Files imported: \n",
      " ['E:/CMIP5-PMIP3/CESM-LME/mon/SST/b.e11.BRCP85C5CN.f19_g16.LME.002.pop.h.SST.200601-210012.nc']\n",
      "Files imported: \n",
      " ['E:/CMIP5-PMIP3/CESM-LME/mon/PSL/b.e11.BLMTRC5CN.f19_g16.002.cam.h0.PSL.085001-184912.nc', 'E:/CMIP5-PMIP3/CESM-LME/mon/PSL/b.e11.BLMTRC5CN.f19_g16.002.cam.h0.PSL.185001-200512.nc']\n",
      "Files imported: \n",
      " ['E:/CMIP5-PMIP3/CESM-LME/mon/PSL/b.e11.BRCP85C5CN.f19_g16.LME.002.cam.h0.PSL.200601-210012.nc']\n",
      "003\n",
      "Files imported: \n",
      " ['E:/CMIP5-PMIP3/CESM-LME/mon/SST/b.e11.BLMTRC5CN.f19_g16.003.pop.h.SST.085001-089912.nc', 'E:/CMIP5-PMIP3/CESM-LME/mon/SST/b.e11.BLMTRC5CN.f19_g16.003.pop.h.SST.090001-099912.nc', 'E:/CMIP5-PMIP3/CESM-LME/mon/SST/b.e11.BLMTRC5CN.f19_g16.003.pop.h.SST.100001-109912.nc', 'E:/CMIP5-PMIP3/CESM-LME/mon/SST/b.e11.BLMTRC5CN.f19_g16.003.pop.h.SST.110001-119912.nc', 'E:/CMIP5-PMIP3/CESM-LME/mon/SST/b.e11.BLMTRC5CN.f19_g16.003.pop.h.SST.120001-129912.nc', 'E:/CMIP5-PMIP3/CESM-LME/mon/SST/b.e11.BLMTRC5CN.f19_g16.003.pop.h.SST.130001-139912.nc', 'E:/CMIP5-PMIP3/CESM-LME/mon/SST/b.e11.BLMTRC5CN.f19_g16.003.pop.h.SST.140001-149912.nc', 'E:/CMIP5-PMIP3/CESM-LME/mon/SST/b.e11.BLMTRC5CN.f19_g16.003.pop.h.SST.150001-159912.nc', 'E:/CMIP5-PMIP3/CESM-LME/mon/SST/b.e11.BLMTRC5CN.f19_g16.003.pop.h.SST.160001-169912.nc', 'E:/CMIP5-PMIP3/CESM-LME/mon/SST/b.e11.BLMTRC5CN.f19_g16.003.pop.h.SST.170001-179912.nc', 'E:/CMIP5-PMIP3/CESM-LME/mon/SST/b.e11.BLMTRC5CN.f19_g16.003.pop.h.SST.180001-184912.nc', 'E:/CMIP5-PMIP3/CESM-LME/mon/SST/b.e11.BLMTRC5CN.f19_g16.003.pop.h.SST.185001-200512.nc']\n",
      "Files imported: \n",
      " ['E:/CMIP5-PMIP3/CESM-LME/mon/SST/b.e11.BRCP85C5CN.f19_g16.LME.003.pop.h.SST.200601-210012.nc']\n",
      "Files imported: \n",
      " ['E:/CMIP5-PMIP3/CESM-LME/mon/PSL/b.e11.BLMTRC5CN.f19_g16.003.cam.h0.PSL.085001-184912.nc', 'E:/CMIP5-PMIP3/CESM-LME/mon/PSL/b.e11.BLMTRC5CN.f19_g16.003.cam.h0.PSL.185001-200512.nc']\n",
      "Files imported: \n",
      " ['E:/CMIP5-PMIP3/CESM-LME/mon/PSL/b.e11.BRCP85C5CN.f19_g16.LME.003.cam.h0.PSL.200601-210012.nc']\n",
      "008\n",
      "Files imported: \n",
      " ['E:/CMIP5-PMIP3/CESM-LME/mon/SST/b.e11.BLMTRC5CN.f19_g16.008.pop.h.SST.085001-089912.nc', 'E:/CMIP5-PMIP3/CESM-LME/mon/SST/b.e11.BLMTRC5CN.f19_g16.008.pop.h.SST.090001-099912.nc', 'E:/CMIP5-PMIP3/CESM-LME/mon/SST/b.e11.BLMTRC5CN.f19_g16.008.pop.h.SST.100001-109912.nc', 'E:/CMIP5-PMIP3/CESM-LME/mon/SST/b.e11.BLMTRC5CN.f19_g16.008.pop.h.SST.110001-119912.nc', 'E:/CMIP5-PMIP3/CESM-LME/mon/SST/b.e11.BLMTRC5CN.f19_g16.008.pop.h.SST.120001-129912.nc', 'E:/CMIP5-PMIP3/CESM-LME/mon/SST/b.e11.BLMTRC5CN.f19_g16.008.pop.h.SST.130001-139912.nc', 'E:/CMIP5-PMIP3/CESM-LME/mon/SST/b.e11.BLMTRC5CN.f19_g16.008.pop.h.SST.140001-149912.nc', 'E:/CMIP5-PMIP3/CESM-LME/mon/SST/b.e11.BLMTRC5CN.f19_g16.008.pop.h.SST.150001-159912.nc', 'E:/CMIP5-PMIP3/CESM-LME/mon/SST/b.e11.BLMTRC5CN.f19_g16.008.pop.h.SST.160001-169912.nc', 'E:/CMIP5-PMIP3/CESM-LME/mon/SST/b.e11.BLMTRC5CN.f19_g16.008.pop.h.SST.170001-179912.nc', 'E:/CMIP5-PMIP3/CESM-LME/mon/SST/b.e11.BLMTRC5CN.f19_g16.008.pop.h.SST.180001-184912.nc', 'E:/CMIP5-PMIP3/CESM-LME/mon/SST/b.e11.BLMTRC5CN.f19_g16.008.pop.h.SST.185001-200512.nc']\n",
      "Files imported: \n",
      " ['E:/CMIP5-PMIP3/CESM-LME/mon/SST/b.e11.BRCP85C5CN.f19_g16.LME.008.pop.h.SST.200601-210012.nc']\n",
      "Files imported: \n",
      " ['E:/CMIP5-PMIP3/CESM-LME/mon/PSL/b.e11.BLMTRC5CN.f19_g16.008.cam.h0.PSL.085001-184912.nc', 'E:/CMIP5-PMIP3/CESM-LME/mon/PSL/b.e11.BLMTRC5CN.f19_g16.008.cam.h0.PSL.185001-200512.nc']\n",
      "Files imported: \n",
      " ['E:/CMIP5-PMIP3/CESM-LME/mon/PSL/b.e11.BRCP85C5CN.f19_g16.LME.008.cam.h0.PSL.200601-210012.nc']\n",
      "009\n",
      "Files imported: \n",
      " ['E:/CMIP5-PMIP3/CESM-LME/mon/SST/b.e11.BLMTRC5CN.f19_g16.009.pop.h.SST.085001-089912.nc', 'E:/CMIP5-PMIP3/CESM-LME/mon/SST/b.e11.BLMTRC5CN.f19_g16.009.pop.h.SST.090001-099912.nc', 'E:/CMIP5-PMIP3/CESM-LME/mon/SST/b.e11.BLMTRC5CN.f19_g16.009.pop.h.SST.100001-109912.nc', 'E:/CMIP5-PMIP3/CESM-LME/mon/SST/b.e11.BLMTRC5CN.f19_g16.009.pop.h.SST.110001-119912.nc', 'E:/CMIP5-PMIP3/CESM-LME/mon/SST/b.e11.BLMTRC5CN.f19_g16.009.pop.h.SST.120001-129912.nc', 'E:/CMIP5-PMIP3/CESM-LME/mon/SST/b.e11.BLMTRC5CN.f19_g16.009.pop.h.SST.130001-139912.nc', 'E:/CMIP5-PMIP3/CESM-LME/mon/SST/b.e11.BLMTRC5CN.f19_g16.009.pop.h.SST.140001-149912.nc', 'E:/CMIP5-PMIP3/CESM-LME/mon/SST/b.e11.BLMTRC5CN.f19_g16.009.pop.h.SST.150001-159912.nc', 'E:/CMIP5-PMIP3/CESM-LME/mon/SST/b.e11.BLMTRC5CN.f19_g16.009.pop.h.SST.160001-169912.nc', 'E:/CMIP5-PMIP3/CESM-LME/mon/SST/b.e11.BLMTRC5CN.f19_g16.009.pop.h.SST.170001-179912.nc', 'E:/CMIP5-PMIP3/CESM-LME/mon/SST/b.e11.BLMTRC5CN.f19_g16.009.pop.h.SST.180001-184912.nc', 'E:/CMIP5-PMIP3/CESM-LME/mon/SST/b.e11.BLMTRC5CN.f19_g16.009.pop.h.SST.185001-200512.nc']\n",
      "Files imported: \n",
      " ['E:/CMIP5-PMIP3/CESM-LME/mon/SST/b.e11.BRCP85C5CN.f19_g16.LME.009.pop.h.SST.200601-210012.nc']\n",
      "Files imported: \n",
      " ['E:/CMIP5-PMIP3/CESM-LME/mon/PSL/b.e11.BLMTRC5CN.f19_g16.009.cam.h0.PSL.085001-184912.nc', 'E:/CMIP5-PMIP3/CESM-LME/mon/PSL/b.e11.BLMTRC5CN.f19_g16.009.cam.h0.PSL.185001-200512.nc']\n",
      "Files imported: \n",
      " ['E:/CMIP5-PMIP3/CESM-LME/mon/PSL/b.e11.BRCP85C5CN.f19_g16.LME.009.cam.h0.PSL.200601-210012.nc']\n"
     ]
    }
   ],
   "source": [
    "# RCP8.5 extensions are a special case\n",
    "\n",
    "\n",
    "for experiment in ['002', '003', '008', '009']:\n",
    "    print(experiment)\n",
    "    sstDs = xarray.concat(\n",
    "        (\n",
    "            fh.loadModelData('CESM-LME', 'SST', experiment), \n",
    "            fh.loadModelData('CESM-LME', 'SST', 'LME.'+experiment)\n",
    "        ),\n",
    "        'time'\n",
    "    )\n",
    "    \n",
    "    sstIndex = sst.calculateIndex(sstDs, 850, 1850)\n",
    "    sstIndex.load()\n",
    "    del(sstDs)\n",
    "    \n",
    "    pslDs = xarray.concat(\n",
    "        (\n",
    "            fh.loadModelData('CESM-LME', 'PSL', experiment),\n",
    "            fh.loadModelData('CESM-LME', 'PSL', 'LME.'+experiment)\n",
    "        ),\n",
    "        'time'\n",
    "    )\n",
    "\n",
    "    \n",
    "    \n",
    "    pslIndex = psl.calculateSamIndex(pslDs, 850, 1850) #is this a good interval???\n",
    "    pslIndex.load()\n",
    "    del(pslDs)    \n",
    "\n",
    "    indeces = xarray.merge([pslIndex, sstIndex])\n",
    "    indeces.assign_attrs(climatology='calculated based on 850-1850 climatology')\n",
    "    indeces.to_netcdf('results/cesmFullForcingMonthlyIndeces/LME.' + experiment + '.nc')\n"
   ]
  },
  {
   "cell_type": "code",
   "execution_count": null,
   "metadata": {},
   "outputs": [],
   "source": []
  }
 ],
 "metadata": {
  "kernelspec": {
   "display_name": "Python 3",
   "language": "python",
   "name": "python3"
  },
  "language_info": {
   "codemirror_mode": {
    "name": "ipython",
    "version": 3
   },
   "file_extension": ".py",
   "mimetype": "text/x-python",
   "name": "python",
   "nbconvert_exporter": "python",
   "pygments_lexer": "ipython3",
   "version": "3.8.5"
  }
 },
 "nbformat": 4,
 "nbformat_minor": 4
}
