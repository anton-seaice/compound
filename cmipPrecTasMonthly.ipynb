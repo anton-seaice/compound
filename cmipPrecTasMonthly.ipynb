{
 "cells": [
  {
   "cell_type": "markdown",
   "id": "cee716c2",
   "metadata": {},
   "source": [
    "# cesm Rainfall Anomalies"
   ]
  },
  {
   "cell_type": "code",
   "execution_count": 1,
   "id": "138ba671",
   "metadata": {
    "tags": []
   },
   "outputs": [],
   "source": [
    "#import my functions\n",
    "import helpers.fileHandler as fh\n",
    "import utils._modelDefinitions as _model\n",
    "import utils._indexDefinitions as _index\n",
    "import utils.timePeriod as tp"
   ]
  },
  {
   "cell_type": "code",
   "execution_count": 2,
   "id": "52a51239",
   "metadata": {},
   "outputs": [],
   "source": [
    "import xarray\n",
    "import numpy\n",
    "import cftime\n",
    "import cartopy.crs as ccrs\n",
    "import cartopy.feature as cfeature\n",
    "import matplotlib.pyplot as plt\n",
    "\n",
    "%matplotlib inline"
   ]
  },
  {
   "cell_type": "code",
   "execution_count": 3,
   "id": "1a88b012-3e55-4206-8b18-812e681c246c",
   "metadata": {},
   "outputs": [],
   "source": [
    "import warnings\n",
    "warnings.filterwarnings('ignore')"
   ]
  },
  {
   "cell_type": "code",
   "execution_count": 4,
   "id": "ede5a002",
   "metadata": {},
   "outputs": [],
   "source": [
    "secondsPerDay = 60*60*24\n",
    "secondsToTimeP = secondsPerDay*1000 #seconds per day, convert m to mm\n",
    "#secondsToTimeP = secondsPerDay*_index.nDaysOfInterest[\"precAnom\"]*1000/7 #seconds per month"
   ]
  },
  {
   "cell_type": "markdown",
   "id": "2012dd46",
   "metadata": {},
   "source": [
    "# Carve out an area of interest, and calculate anomalies"
   ]
  },
  {
   "cell_type": "code",
   "execution_count": 6,
   "id": "061ee400-a894-41c3-a365-56d9297cd68e",
   "metadata": {},
   "outputs": [
    {
     "name": "stdout",
     "output_type": "stream",
     "text": [
      "['CSIRO-ARCCSS' 'ACCESS-CM2' 'r1i1p1f1' 'r1i1p1f1']\n",
      "['CSIRO' 'ACCESS-ESM1-5' 'r1i1p1f1' 'r1i1p1f1']\n",
      "['AWI' 'AWI-CM-1-1-MR' 'r1i1p1f1' 'r1i1p1f1']\n",
      "['BCC' 'BCC-CSM2-MR' 'r1i1p1f1' 'r1i1p1f1']\n",
      "['CAMS' 'CAMS-CSM1-0' 'r1i1p1f1' 'r1i1p1f1']\n",
      "['CAS' 'CAS-ESM2-0' 'r1i1p1f1' 'r1i1p1f1']\n",
      "['NCAR' 'CESM2' 'r1i1p1f1' 'r10i1p1f1']\n",
      "['NCAR' 'CESM2-WACCM' 'r1i1p1f1' 'r1i1p1f1']\n",
      "['THU' 'CIESM' 'r1i1p1f1' 'r1i1p1f1']\n",
      "CIESMpr_Amonssp370r1i1p1f1 file not found on ESGF\n",
      "CIESMssp370 did not calculate\n",
      "Files (filter term: pr_Amon_.*?CIESM_ssp370_r1i1p1f1_.*?\\.nc ) not found, possibly test name is wrong\n",
      "['CMCC' 'CMCC-CM2-SR5' 'r1i1p1f1' 'r1i1p1f1']\n",
      "['CMCC' 'CMCC-ESM2' 'r1i1p1f1' 'r1i1p1f1']\n",
      "['CNRM-CERFACS' 'CNRM-CM6-1' 'r1i1p1f2' 'r1i1p1f2']\n",
      "['CNRM-CERFACS' 'CNRM-ESM2-1' 'r1i1p1f2' 'r1i1p1f2']\n",
      "['CCCma' 'CanESM5' 'r1i1p1f1' 'r1i1p1f1']\n",
      "['CCCma' 'CanESM5-CanOE' 'r1i1p2f1' 'r1i1p2f1']\n",
      "['EC-Earth-Consortium' 'EC-Earth3' 'r1i1p1f1' 'r1i1p1f1']\n",
      "['EC-Earth-Consortium' 'EC-Earth3-CC' 'r1i1p1f1' 'r1i1p1f1']\n",
      "EC-Earth3-CCpr_Amonssp126r1i1p1f1 file not found on ESGF\n",
      "EC-Earth3-CCssp126 did not calculate\n",
      "Files (filter term: pr_Amon_.*?EC-Earth3-CC_ssp126_r1i1p1f1_.*?\\.nc ) not found, possibly test name is wrong\n",
      "EC-Earth3-CCpr_Amonssp370r1i1p1f1 file not found on ESGF\n",
      "EC-Earth3-CCssp370 did not calculate\n",
      "Files (filter term: pr_Amon_.*?EC-Earth3-CC_ssp370_r1i1p1f1_.*?\\.nc ) not found, possibly test name is wrong\n",
      "['EC-Earth-Consortium' 'EC-Earth3-Veg' 'r1i1p1f1' 'r1i1p1f1']\n",
      "['EC-Earth-Consortium' 'EC-Earth3-Veg-LR' 'r1i1p1f1' 'r1i1p1f1']\n",
      "['NOAA-GFDL' 'GFDL-CM4' 'r1i1p1f1' 'r1i1p1f1']\n",
      "GFDL-CM4tas_AmonpiControlr1i1p1f1 file not found on ESGF\n"
     ]
    },
    {
     "ename": "OSError",
     "evalue": "Files (filter term: tas_Amon_.*?GFDL-CM4_piControl_r1i1p1f1_.*?\\.nc ) not found, possibly test name is wrong",
     "output_type": "error",
     "traceback": [
      "\u001b[0;31m---------------------------------------------------------------------------\u001b[0m",
      "\u001b[0;31mOSError\u001b[0m                                   Traceback (most recent call last)",
      "\u001b[0;32m<ipython-input-6-09acf62feec6>\u001b[0m in \u001b[0;36m<module>\u001b[0;34m\u001b[0m\n\u001b[1;32m      6\u001b[0m     xr = xarray.merge([\n\u001b[1;32m      7\u001b[0m         \u001b[0mfh\u001b[0m\u001b[0;34m.\u001b[0m\u001b[0mloadModelData\u001b[0m\u001b[0;34m(\u001b[0m\u001b[0mmodel\u001b[0m\u001b[0;34m[\u001b[0m\u001b[0;36m1\u001b[0m\u001b[0;34m]\u001b[0m\u001b[0;34m,\u001b[0m \u001b[0;34m'pr_Amon'\u001b[0m\u001b[0;34m,\u001b[0m \u001b[0;34m'piControl'\u001b[0m\u001b[0;34m,\u001b[0m \u001b[0mmodel\u001b[0m\u001b[0;34m[\u001b[0m\u001b[0;36m2\u001b[0m\u001b[0;34m]\u001b[0m\u001b[0;34m)\u001b[0m\u001b[0;34m,\u001b[0m\u001b[0;34m\u001b[0m\u001b[0;34m\u001b[0m\u001b[0m\n\u001b[0;32m----> 8\u001b[0;31m         \u001b[0mfh\u001b[0m\u001b[0;34m.\u001b[0m\u001b[0mloadModelData\u001b[0m\u001b[0;34m(\u001b[0m\u001b[0mmodel\u001b[0m\u001b[0;34m[\u001b[0m\u001b[0;36m1\u001b[0m\u001b[0;34m]\u001b[0m\u001b[0;34m,\u001b[0m \u001b[0;34m'tas_Amon'\u001b[0m\u001b[0;34m,\u001b[0m \u001b[0;34m'piControl'\u001b[0m\u001b[0;34m,\u001b[0m \u001b[0mmodel\u001b[0m\u001b[0;34m[\u001b[0m\u001b[0;36m2\u001b[0m\u001b[0;34m]\u001b[0m\u001b[0;34m)\u001b[0m\u001b[0;34m\u001b[0m\u001b[0;34m\u001b[0m\u001b[0m\n\u001b[0m\u001b[1;32m      9\u001b[0m     ], compat='override')\n\u001b[1;32m     10\u001b[0m     \u001b[0mmonMeansDa\u001b[0m\u001b[0;34m=\u001b[0m\u001b[0mxr\u001b[0m\u001b[0;34m.\u001b[0m\u001b[0mgroupby\u001b[0m\u001b[0;34m(\u001b[0m\u001b[0;34m'time.month'\u001b[0m\u001b[0;34m)\u001b[0m\u001b[0;34m.\u001b[0m\u001b[0mmean\u001b[0m\u001b[0;34m(\u001b[0m\u001b[0mdim\u001b[0m\u001b[0;34m=\u001b[0m\u001b[0;34m'time'\u001b[0m\u001b[0;34m)\u001b[0m\u001b[0;34m\u001b[0m\u001b[0;34m\u001b[0m\u001b[0m\n",
      "\u001b[0;32m~/compound/helpers/fileHandler.py\u001b[0m in \u001b[0;36mloadModelData\u001b[0;34m(model, variable, test, *args, **kargs)\u001b[0m\n\u001b[1;32m    164\u001b[0m     \u001b[0;31m# throw an error if we still didn't find any files\u001b[0m\u001b[0;34m\u001b[0m\u001b[0;34m\u001b[0m\u001b[0;34m\u001b[0m\u001b[0m\n\u001b[1;32m    165\u001b[0m     \u001b[0;32mif\u001b[0m \u001b[0mlen\u001b[0m\u001b[0;34m(\u001b[0m\u001b[0mpaths\u001b[0m\u001b[0;34m)\u001b[0m\u001b[0;34m==\u001b[0m\u001b[0;36m0\u001b[0m\u001b[0;34m:\u001b[0m\u001b[0;34m\u001b[0m\u001b[0;34m\u001b[0m\u001b[0m\n\u001b[0;32m--> 166\u001b[0;31m         \u001b[0;32mraise\u001b[0m \u001b[0mEnvironmentError\u001b[0m\u001b[0;34m(\u001b[0m\u001b[0;34m\"Files (filter term: \"\u001b[0m \u001b[0;34m+\u001b[0m \u001b[0mfilterTerm\u001b[0m \u001b[0;34m+\u001b[0m \u001b[0;34m\" ) not found, possibly test name is wrong\"\u001b[0m\u001b[0;34m)\u001b[0m\u001b[0;34m\u001b[0m\u001b[0;34m\u001b[0m\u001b[0m\n\u001b[0m\u001b[1;32m    167\u001b[0m \u001b[0;34m\u001b[0m\u001b[0m\n\u001b[1;32m    168\u001b[0m    \u001b[0;31m# print(paths)\u001b[0m\u001b[0;34m\u001b[0m\u001b[0;34m\u001b[0m\u001b[0;34m\u001b[0m\u001b[0m\n",
      "\u001b[0;31mOSError\u001b[0m: Files (filter term: tas_Amon_.*?GFDL-CM4_piControl_r1i1p1f1_.*?\\.nc ) not found, possibly test name is wrong"
     ]
    }
   ],
   "source": [
    "#model='ACCESS-CM2'\n",
    "for model in _model.scenarioMip:\n",
    "    #Calculate a climatology\n",
    "    #Based on the control run, calculate monthly anomalies\n",
    "    print(model)\n",
    "    xr = xarray.merge([\n",
    "        fh.loadModelData(model[1], 'pr_Amon', 'piControl', model[2]),\n",
    "        fh.loadModelData(model[1], 'tas_Amon', 'piControl', model[2])\n",
    "    ], compat='override')\n",
    "    monMeansDa=xr.groupby('time.month').mean(dim='time')\n",
    "    monMeansDa=monMeansDa.where(\n",
    "            (monMeansDa.lat>-50) & (monMeansDa.lat<0) & (monMeansDa.lon>100) & (monMeansDa.lon<170),\n",
    "            drop=True\n",
    "        )\n",
    "    monMeansDa.to_netcdf('results/cmipMonthlyPrTs/monMeans'+model[1]+'.nc')\n",
    "\n",
    "    \n",
    "    \n",
    "    monMeansDa=xarray.open_dataset(\n",
    "        'results/cmipMonthlyPrTs/monMeans'+model[1]+'.nc')\n",
    "    \n",
    "    #grab area around Australia\n",
    "    domainDa=xr.where(\n",
    "        (xr.lat>-50) & (xr.lat<0) & (xr.lon>100) & (xr.lon<170),\n",
    "        drop=True\n",
    "    )\n",
    "    \n",
    "     #anom for piControl\n",
    "    anomDa=domainDa.groupby('time.month')-monMeansDa\n",
    "    anomDa['model']=model[1]\n",
    "\n",
    "    anomDa.to_netcdf(\n",
    "        'results/cmipMonthlyPrTs/'+model[1]+'PiControl.nc')\n",
    "    anomDa.close()\n",
    "    \n",
    "\n",
    "    \n",
    "    #calculate anomalies for all scenarios\n",
    "    for experiment in _model.scenarioSet:\n",
    "        \n",
    "        try: \n",
    "            #load it\n",
    "            xr = xarray.merge([\n",
    "                fh.loadModelData(model[1], 'pr_Amon', experiment, model[3]),\n",
    "                fh.loadModelData(model[1], 'tas_Amon', experiment, model[3])\n",
    "            ], compat='override')\n",
    "\n",
    "                    #grab area around Australia\n",
    "            domainDa=xr.where(\n",
    "                (xr.lat>-50) & (xr.lat<0) & (xr.lon>100) & (xr.lon<170),\n",
    "                drop=True\n",
    "            )\n",
    "\n",
    "             #anom for piControl\n",
    "            anomDa=domainDa.groupby('time.month')-monMeansDa\n",
    "            anomDa['model']=model[1]\n",
    "    \n",
    "            anomDa.to_netcdf(\n",
    "                'results/cmipMonthlyPrTs/'+model[1]+'_'+experiment+'.nc')\n",
    "        except Exception as e:\n",
    "            print(model[1] + experiment + \" did not calculate\")\n",
    "            print(e)"
   ]
  },
  {
   "cell_type": "markdown",
   "id": "eb78ada6",
   "metadata": {},
   "source": [
    "# Time averaging for the anomalies"
   ]
  },
  {
   "cell_type": "code",
   "execution_count": null,
   "id": "8a7b2429-e4d7-493d-a310-eaff3cdd9566",
   "metadata": {},
   "outputs": [],
   "source": [
    "for experiment in _model.experimentSet:\n",
    "    monthlyAnomDa=xarray.concat([\n",
    "        xarray.open_dataset(\n",
    "            'results/cmipMonthlyPrTs/'+model+'_'+experiment+'.nc') for model in _model.scenarioMip],\n",
    "    'model')\n",
    "    \n",
    "\n",
    "    monthlyAnomDa=monthlyAnomDa.assign({'model':_model.scenarioMip})\n",
    "    warmSeasonAnomDa=xarray.DataArray()\n",
    "    \n",
    "    warmSeasonAnomDa['pr']=secondsToTimeP*tp.averageForTimePeriod(monthlyAnomDa.pr)\n",
    "    warmSeasonAnomDa['ts']=tp.averageForTimePeriod(monthlyAnomDa.ts)\n",
    "    warmSeasonAnomDa = warmSeasonAnomDa.assign_attrs([*warmSeasonAnomDa.attrs, ('units','mm/month'), ('timePeriod','Warm Season')])\n",
    "\n",
    "    warmSeasonAnomDa.to_netcdf('results/cmip'+experiment.capitalize()+'PrecAnoms.nc')"
   ]
  },
  {
   "cell_type": "code",
   "execution_count": null,
   "id": "a93c0444",
   "metadata": {},
   "outputs": [],
   "source": []
  }
 ],
 "metadata": {
  "kernelspec": {
   "display_name": "Python 3",
   "language": "python",
   "name": "python3"
  },
  "language_info": {
   "codemirror_mode": {
    "name": "ipython",
    "version": 3
   },
   "file_extension": ".py",
   "mimetype": "text/x-python",
   "name": "python",
   "nbconvert_exporter": "python",
   "pygments_lexer": "ipython3",
   "version": "3.8.10"
  }
 },
 "nbformat": 4,
 "nbformat_minor": 5
}
