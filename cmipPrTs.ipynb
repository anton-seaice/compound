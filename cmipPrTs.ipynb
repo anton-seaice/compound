{
 "cells": [
  {
   "cell_type": "markdown",
   "id": "cee716c2",
   "metadata": {},
   "source": [
    "# cmip Temp and Rainfall Anomalies"
   ]
  },
  {
   "cell_type": "code",
   "execution_count": null,
   "id": "138ba671",
   "metadata": {
    "tags": []
   },
   "outputs": [],
   "source": [
    "#import my functions\n",
    "import helpers.fileHandler as fh\n",
    "import utils._modelDefinitions as _model\n",
    "import utils._indexDefinitions as _index\n",
    "import utils.timePeriod as tp"
   ]
  },
  {
   "cell_type": "code",
   "execution_count": null,
   "id": "52a51239",
   "metadata": {},
   "outputs": [],
   "source": [
    "import xarray\n",
    "import numpy\n",
    "\n",
    "%matplotlib inline"
   ]
  },
  {
   "cell_type": "code",
   "execution_count": null,
   "id": "1a88b012-3e55-4206-8b18-812e681c246c",
   "metadata": {},
   "outputs": [],
   "source": [
    "import warnings\n",
    "warnings.filterwarnings('ignore')"
   ]
  },
  {
   "cell_type": "raw",
   "id": "888a9cad-cfa7-4a77-8142-dc1a36e0b524",
   "metadata": {},
   "source": [
    "#the grid we are going to use for all models\n",
    "regridXr=xarray.Dataset({'lat': (['lat'], numpy.arange(-50, 0, 1.5)),\n",
    "                     'lon': (['lon'], numpy.arange(100, 170, 1.5)),\n",
    "                    }\n",
    "                   )\n",
    "regridXr\n"
   ]
  },
  {
   "cell_type": "markdown",
   "id": "2012dd46",
   "metadata": {},
   "source": [
    "# Carve out an area of interest, and calculate anomalies"
   ]
  },
  {
   "cell_type": "raw",
   "id": "47a31a07-cbdb-4eaf-bc7d-9aebd1d623ca",
   "metadata": {},
   "source": [
    "%run cmipPrTsMonthly.py"
   ]
  },
  {
   "cell_type": "code",
   "execution_count": null,
   "id": "9dde0ac4-aedb-4f9f-a034-f6e538e7d64f",
   "metadata": {},
   "outputs": [],
   "source": []
  }
 ],
 "metadata": {
  "kernelspec": {
   "display_name": "Python 3",
   "language": "python",
   "name": "python3"
  },
  "language_info": {
   "codemirror_mode": {
    "name": "ipython",
    "version": 3
   },
   "file_extension": ".py",
   "mimetype": "text/x-python",
   "name": "python",
   "nbconvert_exporter": "python",
   "pygments_lexer": "ipython3",
   "version": "3.8.10"
  }
 },
 "nbformat": 4,
 "nbformat_minor": 5
}
