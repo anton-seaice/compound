{
 "cells": [
  {
   "cell_type": "markdown",
   "metadata": {},
   "source": [
    "# Calculate CESM Indeces"
   ]
  },
  {
   "cell_type": "markdown",
   "metadata": {},
   "source": [
    "This file grabs the monthly CESM indeces, and calculates the averages for the time periods of interest (aka the warm season), as set in the _indexDefitionions file\n",
    "\n",
    "You need to run 'calculateCesmMonthlyIndeces.ipnyb' first\n",
    "\n",
    "Theres a few examples of output at the bottom to sanity check this is meaningful"
   ]
  },
  {
   "cell_type": "code",
   "execution_count": 1,
   "metadata": {},
   "outputs": [],
   "source": [
    "#import my functions\n",
    "import utils._modelDefinitions as _model\n",
    "import utils._indexDefinitions as _index\n",
    "from utils.timePeriod import averageForTimePeriod"
   ]
  },
  {
   "cell_type": "code",
   "execution_count": 2,
   "metadata": {},
   "outputs": [],
   "source": [
    "import xarray\n",
    "import matplotlib.pyplot as plt"
   ]
  },
  {
   "cell_type": "markdown",
   "metadata": {},
   "source": [
    "The indeces for each month have already been calculated. So loading up the saves versions, and putting them into a dict of pandas arrays."
   ]
  },
  {
   "cell_type": "code",
   "execution_count": null,
   "metadata": {},
   "outputs": [
    {
     "name": "stdout",
     "output_type": "stream",
     "text": [
      "0850cntl.001\n",
      "LME.002\n",
      "LME.003\n",
      "LME.008\n",
      "LME.009\n",
      "001\n",
      "002\n",
      "003\n",
      "004\n",
      "005\n",
      "006\n",
      "007\n",
      "008\n",
      "009\n",
      "010\n",
      "011\n",
      "012\n"
     ]
    }
   ],
   "source": [
    "timePIndeces=dict()\n",
    "\n",
    "for experiment in _model.cesmAll:\n",
    "    print(experiment)\n",
    "    indeces = xarray.load_dataset('results/cesmMonthlyIndeces/' + experiment + '.nc')\n",
    "\n",
    "    timePIndeces[experiment] = averageForTimePeriod(indeces)\n",
    "\n"
   ]
  },
  {
   "cell_type": "markdown",
   "metadata": {},
   "source": [
    "To make this all easier to deal with, convert the result into an xarray and add some extra relevant information as attributes.\n",
    "\n",
    "This allows for filtering by index, year or experiment "
   ]
  },
  {
   "cell_type": "code",
   "execution_count": null,
   "metadata": {},
   "outputs": [],
   "source": [
    "# so i've just written the results into a dict of pandas array. This is kinda funky because I can't slice one index across multiple models\n",
    "# instead, put the whole thing into an xarray with a dimension for the experiment\n",
    "results=xarray.concat(\n",
    "    [\n",
    "        xarray.DataArray(timePIndeces[experiment], \n",
    "                         dims=['year','index'], \n",
    "                         coords={\n",
    "                             'year':timePIndeces[experiment].index,\n",
    "                             'index':timePIndeces[experiment].columns,\n",
    "                             'experiment': experiment})\n",
    "    for experiment in _model.cesmAll \n",
    "    ],\n",
    "    dim='experiment'\n",
    ")\n",
    "\n",
    "results.assign_attrs(indeces.attrs)\n",
    "results.assign_attrs(_index.monthsOfInterest)\n",
    "\n"
   ]
  },
  {
   "cell_type": "markdown",
   "metadata": {},
   "source": [
    "Save the result for use later"
   ]
  },
  {
   "cell_type": "code",
   "execution_count": null,
   "metadata": {},
   "outputs": [],
   "source": [
    "results.to_netcdf('results/cesmTradIndeces.nc')"
   ]
  },
  {
   "cell_type": "markdown",
   "metadata": {},
   "source": [
    "Some sanity checks to see if it looks ok:\n"
   ]
  },
  {
   "cell_type": "code",
   "execution_count": null,
   "metadata": {},
   "outputs": [],
   "source": [
    "# plotSomething\n",
    "fig = plt.figure(figsize=(12,8))\n",
    "ax = fig.add_subplot(1,1,1)\n",
    "\n",
    "results.sel(experiment='001', index='nino34').plot(label='001')\n",
    "results.sel(experiment='LME.002', index='nino34').plot(label='LME.002')\n",
    "\n",
    "#Tidy up a bit\n",
    "plt.title(\"CESM Full Forcing Nino34 Ensemble\")\n",
    "plt.ylim(-4,4)\n",
    "plt.minorticks_on()\n",
    "plt.legend()"
   ]
  },
  {
   "cell_type": "code",
   "execution_count": null,
   "metadata": {},
   "outputs": [],
   "source": [
    "# A multi-experiment mean?\n",
    "\n",
    "mean = results.sel(index='nino34').mean(dim='experiment')\n",
    "std = results.sel(index='nino34').std(dim='experiment')"
   ]
  },
  {
   "cell_type": "code",
   "execution_count": null,
   "metadata": {},
   "outputs": [],
   "source": [
    "plt.figure()\n",
    "mean.plot()\n",
    "std.plot()"
   ]
  },
  {
   "cell_type": "code",
   "execution_count": null,
   "metadata": {},
   "outputs": [],
   "source": [
    "# why limit yourself to one index?\n",
    "\n",
    "mean = results.sel(experiment=_model.cesmFullForcings).mean(dim='experiment')\n",
    "std = results.sel(experiment=_model.cesmFullForcings).std(dim='experiment')"
   ]
  },
  {
   "cell_type": "code",
   "execution_count": null,
   "metadata": {},
   "outputs": [],
   "source": [
    "std"
   ]
  },
  {
   "cell_type": "code",
   "execution_count": null,
   "metadata": {},
   "outputs": [],
   "source": []
  }
 ],
 "metadata": {
  "kernelspec": {
   "display_name": "Python 3",
   "language": "python",
   "name": "python3"
  },
  "language_info": {
   "codemirror_mode": {
    "name": "ipython",
    "version": 3
   },
   "file_extension": ".py",
   "mimetype": "text/x-python",
   "name": "python",
   "nbconvert_exporter": "python",
   "pygments_lexer": "ipython3",
   "version": "3.8.5"
  }
 },
 "nbformat": 4,
 "nbformat_minor": 4
}
