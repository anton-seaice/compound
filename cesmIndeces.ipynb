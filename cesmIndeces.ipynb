{
 "cells": [
  {
   "cell_type": "markdown",
   "metadata": {},
   "source": [
    "# Calculate CESM Indeces"
   ]
  },
  {
   "cell_type": "markdown",
   "metadata": {},
   "source": [
    "This file just calculates all the indeces for all months for all cesmFullForcingFiles.\n",
    "\n",
    "Could be generalised if desired."
   ]
  },
  {
   "cell_type": "code",
   "execution_count": 1,
   "metadata": {},
   "outputs": [],
   "source": [
    "#import my functions\n",
    "import helpers.fileHandler as fh\n",
    "import utils._modelDefinitions as _model\n",
    "import utils.sstIndex as sst\n",
    "import utils.pslIndex as psl\n"
   ]
  },
  {
   "cell_type": "code",
   "execution_count": 2,
   "metadata": {},
   "outputs": [],
   "source": [
    "import xarray\n",
    "import matplotlib.pyplot as plt"
   ]
  },
  {
   "cell_type": "code",
   "execution_count": 3,
   "metadata": {},
   "outputs": [],
   "source": [
    "import warnings\n",
    "warnings.filterwarnings('ignore')"
   ]
  },
  {
   "cell_type": "markdown",
   "metadata": {},
   "source": [
    "Data for climatology"
   ]
  },
  {
   "cell_type": "code",
   "execution_count": null,
   "metadata": {},
   "outputs": [],
   "source": [
    "sstClimatDs=fh.loadModelData('CESM-LME', 'SST', '0850cntl.001')\n",
    "pslClimatDs=fh.loadModelData('CESM-LME', 'PSL', '0850cntl.001')\n",
    "\n",
    "sstClimat=sst.calculateClimatology(sstClimatDs, 850, 2005)\n",
    "pslClimat=psl.calculateClimatology(pslClimatDs, 850, 2005)\n",
    "\n",
    "#loading both those things\n",
    "for keys in sstClimat:\n",
    "    sstClimat[keys].load()\n",
    "    \n",
    "pslClimat.load()"
   ]
  },
  {
   "cell_type": "code",
   "execution_count": null,
   "metadata": {},
   "outputs": [],
   "source": [
    "sstClimatDs.close()\n",
    "pslClimatDs.close()"
   ]
  },
  {
   "cell_type": "markdown",
   "metadata": {},
   "source": [
    "For each experiment in Full Forcings, calculate all the indeces"
   ]
  },
  {
   "cell_type": "code",
   "execution_count": null,
   "metadata": {},
   "outputs": [],
   "source": [
    "timePIndeces=dict()\n",
    "\n",
    "for experiment in _model.cesmFullForcings:\n",
    "    print(experiment)\n",
    "    sstDs = fh.loadModelData('CESM-LME', 'SST', experiment)\n",
    "    pslDs = fh.loadModelData('CESM-LME', 'PSL', experiment)\n",
    "    pslIndex = psl.calculateSamIndex(pslDs, pslClimat)\n",
    "    sstIndex = sst.calculateIndex(sstDs, sstClimat) #(reducing the model set at this step could save time?)\n",
    "    indeces = xarray.merge([pslIndex, sstIndex])\n",
    "    indeces.assign_attrs(climatology='calculated based on 850-2005 climatology from the control run')\n",
    "    #indeces.to_netcdf('results/cesmMonthlyIndeces/' + experiment + '.nc')\n",
    "\n",
    "    \n",
    "    timePIndeces[experiment] = averageForTimePeriod(indeces)\n",
    "\n",
    "# RCP8.5 extensions are a special case\n",
    "\n",
    "    if experiment in ['002','003', '008', '009']:\n",
    "\n",
    "        #pre2005Ds = xarray.load_dataset('results/cesmMonthlyIndeces/' + experiment + '.nc')\n",
    "\n",
    "        print('LME.'+experiment)\n",
    "\n",
    "        sstDs = fh.loadModelData('CESM-LME', 'SST', 'LME\\.'+experiment)\n",
    "\n",
    "        extensionIndex=sst.calculateIndex(sstDs, sstClimat)\n",
    "\n",
    "        sstIndex = xarray.concat(\n",
    "            #(pre2005Ds[[keys for keys in extensionIndex.data_vars]],\n",
    "            (sstIndex,\n",
    "             extensionIndex),\n",
    "            'time'\n",
    "        )\n",
    "\n",
    "\n",
    "        pslDs = fh.loadModelData('CESM-LME', 'PSL', 'LME.'+experiment)\n",
    "\n",
    "        extensionIndex=psl.calculateSamIndex(pslDs, pslClimat)\n",
    "\n",
    "        pslIndex=xarray.concat(\n",
    "            #(pre2005Ds[[keys for keys in extensionIndex.data_vars]],\n",
    "            (pslIndex,\n",
    "             extensionIndex),\n",
    "            'time'\n",
    "        )\n",
    "\n",
    "        indeces = xarray.merge([pslIndex, sstIndex])\n",
    "        indeces.assign_attrs(climatology='calculated based on 850-1850 climatology')\n",
    "        #indeces.to_netcdf('results/cesmMonthlyIndeces/LME.' + experiment + '.nc')\n",
    "\n",
    "    \n",
    "    timePIndeces['LME.'+experiment] = averageForTimePeriod(indeces)"
   ]
  },
  {
   "cell_type": "code",
   "execution_count": null,
   "metadata": {},
   "outputs": [],
   "source": [
    "#loading both those things\n",
    "for keys in sstClimat:\n",
    "    sstClimat[keys].close()\n",
    "    \n",
    "pslClimat.close()"
   ]
  },
  {
   "cell_type": "markdown",
   "metadata": {},
   "source": [
    "# Calculate CESM Indeces"
   ]
  },
  {
   "cell_type": "markdown",
   "metadata": {},
   "source": [
    "This grabs the monthly CESM indeces, and calculates the averages for the time periods of interest (aka the warm season), as set in the _indexDefitionions file\n",
    "\n",
    "You need to run 'calculateCesmMonthlyIndeces.ipnyb' first\n",
    "\n",
    "Theres a few examples of output at the bottom to sanity check this is meaningful"
   ]
  },
  {
   "cell_type": "code",
   "execution_count": null,
   "metadata": {},
   "outputs": [],
   "source": [
    "#experimentSet = ['LME.002']\n",
    "experimentSet = _model.cesmAll"
   ]
  },
  {
   "cell_type": "markdown",
   "metadata": {},
   "source": [
    "The indeces for each month have already been calculated. So loading up the saves versions, and putting them into a dict of pandas arrays."
   ]
  },
  {
   "cell_type": "raw",
   "metadata": {},
   "source": [
    "timePIndeces=dict()\n",
    "\n",
    "for experiment in experimentSet:\n",
    "    print(experiment)\n",
    "    indeces = xarray.load_dataset('results/cesmMonthlyIndeces/' + experiment + '.nc')\n",
    "\n",
    "    timePIndeces[experiment] = averageForTimePeriod(indeces)\n",
    "\n"
   ]
  },
  {
   "cell_type": "markdown",
   "metadata": {},
   "source": [
    "To make this all easier to deal with, convert the result into an xarray and add some extra relevant information as attributes.\n",
    "\n",
    "This allows for filtering by index, year or experiment "
   ]
  },
  {
   "cell_type": "code",
   "execution_count": null,
   "metadata": {},
   "outputs": [],
   "source": [
    "# so i've just written the results into a dict of pandas array. This is kinda funky because I can't slice one index across multiple models\n",
    "# instead, put the whole thing into an xarray with a dimension for the experiment\n",
    "results=xarray.concat(\n",
    "    [\n",
    "        xarray.DataArray(timePIndeces[experiment], \n",
    "                         dims=['year','index'], \n",
    "                         coords={\n",
    "                             'year':timePIndeces[experiment].index,\n",
    "                             'index':timePIndeces[experiment].columns,\n",
    "                             'experiment': experiment})\n",
    "    for experiment in experimentSet \n",
    "    ],\n",
    "    dim='experiment'\n",
    ")\n",
    "\n",
    "results.assign_attrs(indeces.attrs)\n",
    "results.assign_attrs(_index.monthsOfInterest)\n",
    "\n"
   ]
  },
  {
   "cell_type": "markdown",
   "metadata": {},
   "source": [
    "Save the result for use later"
   ]
  },
  {
   "cell_type": "code",
   "execution_count": null,
   "metadata": {},
   "outputs": [],
   "source": [
    "results.to_netcdf('results/cesmTradIndeces2.nc')"
   ]
  },
  {
   "cell_type": "markdown",
   "metadata": {},
   "source": [
    "# Some sanity checks to see if it looks ok:\n"
   ]
  },
  {
   "cell_type": "code",
   "execution_count": null,
   "metadata": {},
   "outputs": [],
   "source": [
    "# plotSomething\n",
    "fig = plt.figure(figsize=(12,8))\n",
    "ax = fig.add_subplot(1,1,1)\n",
    "\n",
    "#results.sel(experiment='001', index='nino34').plot(label='001')\n",
    "results.sel(experiment='LME.002', index='nino34NoDetrend').plot(label='LME.001')\n",
    "results.sel(experiment='LME.002', index='nino34').plot(label='LME.001')\n",
    "\n",
    "#Tidy up a bit\n",
    "plt.title(\"CESM Full Forcing Nino34 Ensemble\")\n",
    "plt.ylim(-4,4)\n",
    "plt.minorticks_on()\n",
    "plt.legend()"
   ]
  },
  {
   "cell_type": "code",
   "execution_count": null,
   "metadata": {},
   "outputs": [],
   "source": [
    "# A multi-experiment mean?\n",
    "\n",
    "mean = results.sel(index='sam').mean(dim='experiment')\n",
    "std = results.sel(index='sam').std(dim='experiment')"
   ]
  },
  {
   "cell_type": "code",
   "execution_count": null,
   "metadata": {},
   "outputs": [],
   "source": [
    "plt.figure()\n",
    "mean.plot()\n",
    "std.plot()"
   ]
  },
  {
   "cell_type": "code",
   "execution_count": null,
   "metadata": {},
   "outputs": [],
   "source": [
    "# why limit yourself to one index?\n",
    "\n",
    "mean = results.sel(experiment=_model.cesmFullForcings).mean(dim='experiment')\n",
    "std = results.sel(experiment=_model.cesmFullForcings).std(dim='experiment')"
   ]
  },
  {
   "cell_type": "code",
   "execution_count": null,
   "metadata": {},
   "outputs": [],
   "source": [
    "std"
   ]
  },
  {
   "cell_type": "code",
   "execution_count": null,
   "metadata": {},
   "outputs": [],
   "source": []
  }
 ],
 "metadata": {
  "kernelspec": {
   "display_name": "Python 3",
   "language": "python",
   "name": "python3"
  },
  "language_info": {
   "codemirror_mode": {
    "name": "ipython",
    "version": 3
   },
   "file_extension": ".py",
   "mimetype": "text/x-python",
   "name": "python",
   "nbconvert_exporter": "python",
   "pygments_lexer": "ipython3",
   "version": "3.8.8"
  }
 },
 "nbformat": 4,
 "nbformat_minor": 4
}
