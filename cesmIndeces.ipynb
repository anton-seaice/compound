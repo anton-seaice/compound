{
 "cells": [
  {
   "cell_type": "markdown",
   "metadata": {},
   "source": [
    "# Calculate CESM Indeces"
   ]
  },
  {
   "cell_type": "markdown",
   "metadata": {},
   "source": [
    "This file just calculates all the indeces for all months for all cesmFullForcingFiles.\n",
    "\n",
    "Could be generalised if desired."
   ]
  },
  {
   "cell_type": "code",
   "execution_count": 8,
   "metadata": {
    "tags": []
   },
   "outputs": [],
   "source": [
    "#import my functions\n",
    "import helpers.fileHandler as fh\n",
    "import utils._modelDefinitions as _model\n",
    "import utils.sstIndex as sst\n",
    "import utils.pslIndex as psl\n",
    "import utils.timePeriod as tp\n",
    "\n",
    "%run \"utils/compound.ipynb\""
   ]
  },
  {
   "cell_type": "code",
   "execution_count": 3,
   "metadata": {},
   "outputs": [],
   "source": [
    "import xarray\n",
    "import matplotlib.pyplot as plt"
   ]
  },
  {
   "cell_type": "code",
   "execution_count": 4,
   "metadata": {},
   "outputs": [],
   "source": [
    "import warnings\n",
    "warnings.filterwarnings('ignore')"
   ]
  },
  {
   "cell_type": "markdown",
   "metadata": {},
   "source": [
    "Data for climatology"
   ]
  },
  {
   "cell_type": "code",
   "execution_count": 4,
   "metadata": {},
   "outputs": [
    {
     "name": "stdout",
     "output_type": "stream",
     "text": [
      "E:/CMIP5-PMIP3/CESM-LME/mon/SST/\n",
      "Files imported: \n",
      " ['E:/CMIP5-PMIP3/CESM-LME/mon/SST/b.e11.B1850C5CN.f19_g16.0850cntl.001.pop.h.SST.085001-089912.nc', 'E:/CMIP5-PMIP3/CESM-LME/mon/SST/b.e11.B1850C5CN.f19_g16.0850cntl.001.pop.h.SST.090001-099912.nc', 'E:/CMIP5-PMIP3/CESM-LME/mon/SST/b.e11.B1850C5CN.f19_g16.0850cntl.001.pop.h.SST.100001-109912.nc', 'E:/CMIP5-PMIP3/CESM-LME/mon/SST/b.e11.B1850C5CN.f19_g16.0850cntl.001.pop.h.SST.110001-119912.nc', 'E:/CMIP5-PMIP3/CESM-LME/mon/SST/b.e11.B1850C5CN.f19_g16.0850cntl.001.pop.h.SST.120001-129912.nc', 'E:/CMIP5-PMIP3/CESM-LME/mon/SST/b.e11.B1850C5CN.f19_g16.0850cntl.001.pop.h.SST.130001-139912.nc', 'E:/CMIP5-PMIP3/CESM-LME/mon/SST/b.e11.B1850C5CN.f19_g16.0850cntl.001.pop.h.SST.140001-149912.nc', 'E:/CMIP5-PMIP3/CESM-LME/mon/SST/b.e11.B1850C5CN.f19_g16.0850cntl.001.pop.h.SST.150001-159912.nc', 'E:/CMIP5-PMIP3/CESM-LME/mon/SST/b.e11.B1850C5CN.f19_g16.0850cntl.001.pop.h.SST.160001-169912.nc', 'E:/CMIP5-PMIP3/CESM-LME/mon/SST/b.e11.B1850C5CN.f19_g16.0850cntl.001.pop.h.SST.170001-179912.nc', 'E:/CMIP5-PMIP3/CESM-LME/mon/SST/b.e11.B1850C5CN.f19_g16.0850cntl.001.pop.h.SST.180001-184912.nc', 'E:/CMIP5-PMIP3/CESM-LME/mon/SST/b.e11.B1850C5CN.f19_g16.0850cntl.001.pop.h.SST.185001-200512.nc']\n",
      "E:/CMIP5-PMIP3/CESM-LME/mon/PSL/\n",
      "Files imported: \n",
      " ['E:/CMIP5-PMIP3/CESM-LME/mon/PSL/b.e11.B1850C5CN.f19_g16.0850cntl.001.cam.h0.PSL.085001-184912.nc', 'E:/CMIP5-PMIP3/CESM-LME/mon/PSL/b.e11.B1850C5CN.f19_g16.0850cntl.001.cam.h0.PSL.185001-200512.nc']\n"
     ]
    },
    {
     "data": {
      "text/html": [
       "<div><svg style=\"position: absolute; width: 0; height: 0; overflow: hidden\">\n",
       "<defs>\n",
       "<symbol id=\"icon-database\" viewBox=\"0 0 32 32\">\n",
       "<path d=\"M16 0c-8.837 0-16 2.239-16 5v4c0 2.761 7.163 5 16 5s16-2.239 16-5v-4c0-2.761-7.163-5-16-5z\"></path>\n",
       "<path d=\"M16 17c-8.837 0-16-2.239-16-5v6c0 2.761 7.163 5 16 5s16-2.239 16-5v-6c0 2.761-7.163 5-16 5z\"></path>\n",
       "<path d=\"M16 26c-8.837 0-16-2.239-16-5v6c0 2.761 7.163 5 16 5s16-2.239 16-5v-6c0 2.761-7.163 5-16 5z\"></path>\n",
       "</symbol>\n",
       "<symbol id=\"icon-file-text2\" viewBox=\"0 0 32 32\">\n",
       "<path d=\"M28.681 7.159c-0.694-0.947-1.662-2.053-2.724-3.116s-2.169-2.030-3.116-2.724c-1.612-1.182-2.393-1.319-2.841-1.319h-15.5c-1.378 0-2.5 1.121-2.5 2.5v27c0 1.378 1.122 2.5 2.5 2.5h23c1.378 0 2.5-1.122 2.5-2.5v-19.5c0-0.448-0.137-1.23-1.319-2.841zM24.543 5.457c0.959 0.959 1.712 1.825 2.268 2.543h-4.811v-4.811c0.718 0.556 1.584 1.309 2.543 2.268zM28 29.5c0 0.271-0.229 0.5-0.5 0.5h-23c-0.271 0-0.5-0.229-0.5-0.5v-27c0-0.271 0.229-0.5 0.5-0.5 0 0 15.499-0 15.5 0v7c0 0.552 0.448 1 1 1h7v19.5z\"></path>\n",
       "<path d=\"M23 26h-14c-0.552 0-1-0.448-1-1s0.448-1 1-1h14c0.552 0 1 0.448 1 1s-0.448 1-1 1z\"></path>\n",
       "<path d=\"M23 22h-14c-0.552 0-1-0.448-1-1s0.448-1 1-1h14c0.552 0 1 0.448 1 1s-0.448 1-1 1z\"></path>\n",
       "<path d=\"M23 18h-14c-0.552 0-1-0.448-1-1s0.448-1 1-1h14c0.552 0 1 0.448 1 1s-0.448 1-1 1z\"></path>\n",
       "</symbol>\n",
       "</defs>\n",
       "</svg>\n",
       "<style>/* CSS stylesheet for displaying xarray objects in jupyterlab.\n",
       " *\n",
       " */\n",
       "\n",
       ":root {\n",
       "  --xr-font-color0: var(--jp-content-font-color0, rgba(0, 0, 0, 1));\n",
       "  --xr-font-color2: var(--jp-content-font-color2, rgba(0, 0, 0, 0.54));\n",
       "  --xr-font-color3: var(--jp-content-font-color3, rgba(0, 0, 0, 0.38));\n",
       "  --xr-border-color: var(--jp-border-color2, #e0e0e0);\n",
       "  --xr-disabled-color: var(--jp-layout-color3, #bdbdbd);\n",
       "  --xr-background-color: var(--jp-layout-color0, white);\n",
       "  --xr-background-color-row-even: var(--jp-layout-color1, white);\n",
       "  --xr-background-color-row-odd: var(--jp-layout-color2, #eeeeee);\n",
       "}\n",
       "\n",
       "html[theme=dark],\n",
       "body.vscode-dark {\n",
       "  --xr-font-color0: rgba(255, 255, 255, 1);\n",
       "  --xr-font-color2: rgba(255, 255, 255, 0.54);\n",
       "  --xr-font-color3: rgba(255, 255, 255, 0.38);\n",
       "  --xr-border-color: #1F1F1F;\n",
       "  --xr-disabled-color: #515151;\n",
       "  --xr-background-color: #111111;\n",
       "  --xr-background-color-row-even: #111111;\n",
       "  --xr-background-color-row-odd: #313131;\n",
       "}\n",
       "\n",
       ".xr-wrap {\n",
       "  display: block;\n",
       "  min-width: 300px;\n",
       "  max-width: 700px;\n",
       "}\n",
       "\n",
       ".xr-text-repr-fallback {\n",
       "  /* fallback to plain text repr when CSS is not injected (untrusted notebook) */\n",
       "  display: none;\n",
       "}\n",
       "\n",
       ".xr-header {\n",
       "  padding-top: 6px;\n",
       "  padding-bottom: 6px;\n",
       "  margin-bottom: 4px;\n",
       "  border-bottom: solid 1px var(--xr-border-color);\n",
       "}\n",
       "\n",
       ".xr-header > div,\n",
       ".xr-header > ul {\n",
       "  display: inline;\n",
       "  margin-top: 0;\n",
       "  margin-bottom: 0;\n",
       "}\n",
       "\n",
       ".xr-obj-type,\n",
       ".xr-array-name {\n",
       "  margin-left: 2px;\n",
       "  margin-right: 10px;\n",
       "}\n",
       "\n",
       ".xr-obj-type {\n",
       "  color: var(--xr-font-color2);\n",
       "}\n",
       "\n",
       ".xr-sections {\n",
       "  padding-left: 0 !important;\n",
       "  display: grid;\n",
       "  grid-template-columns: 150px auto auto 1fr 20px 20px;\n",
       "}\n",
       "\n",
       ".xr-section-item {\n",
       "  display: contents;\n",
       "}\n",
       "\n",
       ".xr-section-item input {\n",
       "  display: none;\n",
       "}\n",
       "\n",
       ".xr-section-item input + label {\n",
       "  color: var(--xr-disabled-color);\n",
       "}\n",
       "\n",
       ".xr-section-item input:enabled + label {\n",
       "  cursor: pointer;\n",
       "  color: var(--xr-font-color2);\n",
       "}\n",
       "\n",
       ".xr-section-item input:enabled + label:hover {\n",
       "  color: var(--xr-font-color0);\n",
       "}\n",
       "\n",
       ".xr-section-summary {\n",
       "  grid-column: 1;\n",
       "  color: var(--xr-font-color2);\n",
       "  font-weight: 500;\n",
       "}\n",
       "\n",
       ".xr-section-summary > span {\n",
       "  display: inline-block;\n",
       "  padding-left: 0.5em;\n",
       "}\n",
       "\n",
       ".xr-section-summary-in:disabled + label {\n",
       "  color: var(--xr-font-color2);\n",
       "}\n",
       "\n",
       ".xr-section-summary-in + label:before {\n",
       "  display: inline-block;\n",
       "  content: '►';\n",
       "  font-size: 11px;\n",
       "  width: 15px;\n",
       "  text-align: center;\n",
       "}\n",
       "\n",
       ".xr-section-summary-in:disabled + label:before {\n",
       "  color: var(--xr-disabled-color);\n",
       "}\n",
       "\n",
       ".xr-section-summary-in:checked + label:before {\n",
       "  content: '▼';\n",
       "}\n",
       "\n",
       ".xr-section-summary-in:checked + label > span {\n",
       "  display: none;\n",
       "}\n",
       "\n",
       ".xr-section-summary,\n",
       ".xr-section-inline-details {\n",
       "  padding-top: 4px;\n",
       "  padding-bottom: 4px;\n",
       "}\n",
       "\n",
       ".xr-section-inline-details {\n",
       "  grid-column: 2 / -1;\n",
       "}\n",
       "\n",
       ".xr-section-details {\n",
       "  display: none;\n",
       "  grid-column: 1 / -1;\n",
       "  margin-bottom: 5px;\n",
       "}\n",
       "\n",
       ".xr-section-summary-in:checked ~ .xr-section-details {\n",
       "  display: contents;\n",
       "}\n",
       "\n",
       ".xr-array-wrap {\n",
       "  grid-column: 1 / -1;\n",
       "  display: grid;\n",
       "  grid-template-columns: 20px auto;\n",
       "}\n",
       "\n",
       ".xr-array-wrap > label {\n",
       "  grid-column: 1;\n",
       "  vertical-align: top;\n",
       "}\n",
       "\n",
       ".xr-preview {\n",
       "  color: var(--xr-font-color3);\n",
       "}\n",
       "\n",
       ".xr-array-preview,\n",
       ".xr-array-data {\n",
       "  padding: 0 5px !important;\n",
       "  grid-column: 2;\n",
       "}\n",
       "\n",
       ".xr-array-data,\n",
       ".xr-array-in:checked ~ .xr-array-preview {\n",
       "  display: none;\n",
       "}\n",
       "\n",
       ".xr-array-in:checked ~ .xr-array-data,\n",
       ".xr-array-preview {\n",
       "  display: inline-block;\n",
       "}\n",
       "\n",
       ".xr-dim-list {\n",
       "  display: inline-block !important;\n",
       "  list-style: none;\n",
       "  padding: 0 !important;\n",
       "  margin: 0;\n",
       "}\n",
       "\n",
       ".xr-dim-list li {\n",
       "  display: inline-block;\n",
       "  padding: 0;\n",
       "  margin: 0;\n",
       "}\n",
       "\n",
       ".xr-dim-list:before {\n",
       "  content: '(';\n",
       "}\n",
       "\n",
       ".xr-dim-list:after {\n",
       "  content: ')';\n",
       "}\n",
       "\n",
       ".xr-dim-list li:not(:last-child):after {\n",
       "  content: ',';\n",
       "  padding-right: 5px;\n",
       "}\n",
       "\n",
       ".xr-has-index {\n",
       "  font-weight: bold;\n",
       "}\n",
       "\n",
       ".xr-var-list,\n",
       ".xr-var-item {\n",
       "  display: contents;\n",
       "}\n",
       "\n",
       ".xr-var-item > div,\n",
       ".xr-var-item label,\n",
       ".xr-var-item > .xr-var-name span {\n",
       "  background-color: var(--xr-background-color-row-even);\n",
       "  margin-bottom: 0;\n",
       "}\n",
       "\n",
       ".xr-var-item > .xr-var-name:hover span {\n",
       "  padding-right: 5px;\n",
       "}\n",
       "\n",
       ".xr-var-list > li:nth-child(odd) > div,\n",
       ".xr-var-list > li:nth-child(odd) > label,\n",
       ".xr-var-list > li:nth-child(odd) > .xr-var-name span {\n",
       "  background-color: var(--xr-background-color-row-odd);\n",
       "}\n",
       "\n",
       ".xr-var-name {\n",
       "  grid-column: 1;\n",
       "}\n",
       "\n",
       ".xr-var-dims {\n",
       "  grid-column: 2;\n",
       "}\n",
       "\n",
       ".xr-var-dtype {\n",
       "  grid-column: 3;\n",
       "  text-align: right;\n",
       "  color: var(--xr-font-color2);\n",
       "}\n",
       "\n",
       ".xr-var-preview {\n",
       "  grid-column: 4;\n",
       "}\n",
       "\n",
       ".xr-var-name,\n",
       ".xr-var-dims,\n",
       ".xr-var-dtype,\n",
       ".xr-preview,\n",
       ".xr-attrs dt {\n",
       "  white-space: nowrap;\n",
       "  overflow: hidden;\n",
       "  text-overflow: ellipsis;\n",
       "  padding-right: 10px;\n",
       "}\n",
       "\n",
       ".xr-var-name:hover,\n",
       ".xr-var-dims:hover,\n",
       ".xr-var-dtype:hover,\n",
       ".xr-attrs dt:hover {\n",
       "  overflow: visible;\n",
       "  width: auto;\n",
       "  z-index: 1;\n",
       "}\n",
       "\n",
       ".xr-var-attrs,\n",
       ".xr-var-data {\n",
       "  display: none;\n",
       "  background-color: var(--xr-background-color) !important;\n",
       "  padding-bottom: 5px !important;\n",
       "}\n",
       "\n",
       ".xr-var-attrs-in:checked ~ .xr-var-attrs,\n",
       ".xr-var-data-in:checked ~ .xr-var-data {\n",
       "  display: block;\n",
       "}\n",
       "\n",
       ".xr-var-data > table {\n",
       "  float: right;\n",
       "}\n",
       "\n",
       ".xr-var-name span,\n",
       ".xr-var-data,\n",
       ".xr-attrs {\n",
       "  padding-left: 25px !important;\n",
       "}\n",
       "\n",
       ".xr-attrs,\n",
       ".xr-var-attrs,\n",
       ".xr-var-data {\n",
       "  grid-column: 1 / -1;\n",
       "}\n",
       "\n",
       "dl.xr-attrs {\n",
       "  padding: 0;\n",
       "  margin: 0;\n",
       "  display: grid;\n",
       "  grid-template-columns: 125px auto;\n",
       "}\n",
       "\n",
       ".xr-attrs dt,\n",
       ".xr-attrs dd {\n",
       "  padding: 0;\n",
       "  margin: 0;\n",
       "  float: left;\n",
       "  padding-right: 10px;\n",
       "  width: auto;\n",
       "}\n",
       "\n",
       ".xr-attrs dt {\n",
       "  font-weight: normal;\n",
       "  grid-column: 1;\n",
       "}\n",
       "\n",
       ".xr-attrs dt:hover span {\n",
       "  display: inline-block;\n",
       "  background: var(--xr-background-color);\n",
       "  padding-right: 10px;\n",
       "}\n",
       "\n",
       ".xr-attrs dd {\n",
       "  grid-column: 2;\n",
       "  white-space: pre-wrap;\n",
       "  word-break: break-all;\n",
       "}\n",
       "\n",
       ".xr-icon-database,\n",
       ".xr-icon-file-text2 {\n",
       "  display: inline-block;\n",
       "  vertical-align: middle;\n",
       "  width: 1em;\n",
       "  height: 1.5em !important;\n",
       "  stroke-width: 0;\n",
       "  stroke: currentColor;\n",
       "  fill: currentColor;\n",
       "}\n",
       "</style><pre class='xr-text-repr-fallback'>&lt;xarray.Dataset&gt;\n",
       "Dimensions:  (time: 13872)\n",
       "Coordinates:\n",
       "  * time     (time) object 0850-01-31 00:00:00 ... 2005-12-31 00:00:00\n",
       "Data variables:\n",
       "    lat1     (time) float32 1.015e+05 1.018e+05 ... 1.018e+05 1.016e+05\n",
       "    lat2     (time) float32 9.869e+04 9.825e+04 ... 9.766e+04 9.842e+04</pre><div class='xr-wrap' hidden><div class='xr-header'><div class='xr-obj-type'>xarray.Dataset</div></div><ul class='xr-sections'><li class='xr-section-item'><input id='section-7cd7dc4a-079e-40f9-bc46-2ff434d6f50b' class='xr-section-summary-in' type='checkbox' disabled ><label for='section-7cd7dc4a-079e-40f9-bc46-2ff434d6f50b' class='xr-section-summary'  title='Expand/collapse section'>Dimensions:</label><div class='xr-section-inline-details'><ul class='xr-dim-list'><li><span class='xr-has-index'>time</span>: 13872</li></ul></div><div class='xr-section-details'></div></li><li class='xr-section-item'><input id='section-92f5c847-50d4-4242-b2f5-4e85e2030ac0' class='xr-section-summary-in' type='checkbox'  checked><label for='section-92f5c847-50d4-4242-b2f5-4e85e2030ac0' class='xr-section-summary' >Coordinates: <span>(1)</span></label><div class='xr-section-inline-details'></div><div class='xr-section-details'><ul class='xr-var-list'><li class='xr-var-item'><div class='xr-var-name'><span class='xr-has-index'>time</span></div><div class='xr-var-dims'>(time)</div><div class='xr-var-dtype'>object</div><div class='xr-var-preview xr-preview'>0850-01-31 00:00:00 ... 2005-12-...</div><input id='attrs-b8601103-c62b-490e-a853-d38c4e56d28c' class='xr-var-attrs-in' type='checkbox' disabled><label for='attrs-b8601103-c62b-490e-a853-d38c4e56d28c' title='Show/Hide attributes'><svg class='icon xr-icon-file-text2'><use xlink:href='#icon-file-text2'></use></svg></label><input id='data-02d9d8f3-c276-4ca3-9940-71685ab1ec3a' class='xr-var-data-in' type='checkbox'><label for='data-02d9d8f3-c276-4ca3-9940-71685ab1ec3a' title='Show/Hide data repr'><svg class='icon xr-icon-database'><use xlink:href='#icon-database'></use></svg></label><div class='xr-var-attrs'><dl class='xr-attrs'></dl></div><div class='xr-var-data'><pre>array([cftime.DatetimeNoLeap(850, 1, 31, 0, 0, 0, 0),\n",
       "       cftime.DatetimeNoLeap(850, 2, 28, 0, 0, 0, 0),\n",
       "       cftime.DatetimeNoLeap(850, 3, 31, 0, 0, 0, 0), ...,\n",
       "       cftime.DatetimeNoLeap(2005, 10, 31, 0, 0, 0, 0),\n",
       "       cftime.DatetimeNoLeap(2005, 11, 30, 0, 0, 0, 0),\n",
       "       cftime.DatetimeNoLeap(2005, 12, 31, 0, 0, 0, 0)], dtype=object)</pre></div></li></ul></div></li><li class='xr-section-item'><input id='section-bc45cd54-d70b-469d-8afd-938ea1aaee0c' class='xr-section-summary-in' type='checkbox'  checked><label for='section-bc45cd54-d70b-469d-8afd-938ea1aaee0c' class='xr-section-summary' >Data variables: <span>(2)</span></label><div class='xr-section-inline-details'></div><div class='xr-section-details'><ul class='xr-var-list'><li class='xr-var-item'><div class='xr-var-name'><span>lat1</span></div><div class='xr-var-dims'>(time)</div><div class='xr-var-dtype'>float32</div><div class='xr-var-preview xr-preview'>1.015e+05 1.018e+05 ... 1.016e+05</div><input id='attrs-2060dfb1-bc33-4caa-a904-c8991a7c41ba' class='xr-var-attrs-in' type='checkbox' disabled><label for='attrs-2060dfb1-bc33-4caa-a904-c8991a7c41ba' title='Show/Hide attributes'><svg class='icon xr-icon-file-text2'><use xlink:href='#icon-file-text2'></use></svg></label><input id='data-58c3f9a7-5a0d-4bd7-9c43-eabef8b69d9e' class='xr-var-data-in' type='checkbox'><label for='data-58c3f9a7-5a0d-4bd7-9c43-eabef8b69d9e' title='Show/Hide data repr'><svg class='icon xr-icon-database'><use xlink:href='#icon-database'></use></svg></label><div class='xr-var-attrs'><dl class='xr-attrs'></dl></div><div class='xr-var-data'><pre>array([101466.984, 101816.836, 101657.14 , ..., 101754.29 , 101799.22 ,\n",
       "       101612.28 ], dtype=float32)</pre></div></li><li class='xr-var-item'><div class='xr-var-name'><span>lat2</span></div><div class='xr-var-dims'>(time)</div><div class='xr-var-dtype'>float32</div><div class='xr-var-preview xr-preview'>9.869e+04 9.825e+04 ... 9.842e+04</div><input id='attrs-2d9cffaa-c2c4-4ddc-af53-761f1b18500e' class='xr-var-attrs-in' type='checkbox' disabled><label for='attrs-2d9cffaa-c2c4-4ddc-af53-761f1b18500e' title='Show/Hide attributes'><svg class='icon xr-icon-file-text2'><use xlink:href='#icon-file-text2'></use></svg></label><input id='data-c954e513-e8fa-4a59-b0e6-f698b8e9d370' class='xr-var-data-in' type='checkbox'><label for='data-c954e513-e8fa-4a59-b0e6-f698b8e9d370' title='Show/Hide data repr'><svg class='icon xr-icon-database'><use xlink:href='#icon-database'></use></svg></label><div class='xr-var-attrs'><dl class='xr-attrs'></dl></div><div class='xr-var-data'><pre>array([98691.16 , 98253.59 , 98866.266, ..., 97382.016, 97664.39 ,\n",
       "       98420.125], dtype=float32)</pre></div></li></ul></div></li><li class='xr-section-item'><input id='section-b20be42a-d9ca-414a-ac5e-8b491d9ba69b' class='xr-section-summary-in' type='checkbox' disabled ><label for='section-b20be42a-d9ca-414a-ac5e-8b491d9ba69b' class='xr-section-summary'  title='Expand/collapse section'>Attributes: <span>(0)</span></label><div class='xr-section-inline-details'></div><div class='xr-section-details'><dl class='xr-attrs'></dl></div></li></ul></div></div>"
      ],
      "text/plain": [
       "<xarray.Dataset>\n",
       "Dimensions:  (time: 13872)\n",
       "Coordinates:\n",
       "  * time     (time) object 0850-01-31 00:00:00 ... 2005-12-31 00:00:00\n",
       "Data variables:\n",
       "    lat1     (time) float32 1.015e+05 1.018e+05 ... 1.018e+05 1.016e+05\n",
       "    lat2     (time) float32 9.869e+04 9.825e+04 ... 9.766e+04 9.842e+04"
      ]
     },
     "execution_count": 4,
     "metadata": {},
     "output_type": "execute_result"
    }
   ],
   "source": [
    "sstClimatDs=fh.loadModelData('CESM-LME', 'SST', '0850cntl.001')\n",
    "pslClimatDs=fh.loadModelData('CESM-LME', 'PSL', '0850cntl.001')\n",
    "\n",
    "sstClimat=sst.calculateClimatology(sstClimatDs, 850, 2005)\n",
    "pslClimat=psl.calculateClimatology(pslClimatDs, 850, 2005)\n",
    "\n",
    "#loading both those things\n",
    "for keys in sstClimat:\n",
    "    sstClimat[keys].load()\n",
    "    \n",
    "pslClimat.load()"
   ]
  },
  {
   "cell_type": "code",
   "execution_count": 5,
   "metadata": {},
   "outputs": [],
   "source": [
    "sstClimatDs.close()\n",
    "pslClimatDs.close()"
   ]
  },
  {
   "cell_type": "markdown",
   "metadata": {},
   "source": [
    "For each experiment in Full Forcings, calculate all the indeces"
   ]
  },
  {
   "cell_type": "code",
   "execution_count": null,
   "metadata": {},
   "outputs": [
    {
     "name": "stdout",
     "output_type": "stream",
     "text": [
      "001\n",
      "E:/CMIP5-PMIP3/CESM-LME/mon/SST/\n",
      "Files imported: \n",
      " ['E:/CMIP5-PMIP3/CESM-LME/mon/SST/b.e11.BLMTRC5CN.f19_g16.001.pop.h.SST.085001-089912.nc', 'E:/CMIP5-PMIP3/CESM-LME/mon/SST/b.e11.BLMTRC5CN.f19_g16.001.pop.h.SST.090001-099912.nc', 'E:/CMIP5-PMIP3/CESM-LME/mon/SST/b.e11.BLMTRC5CN.f19_g16.001.pop.h.SST.100001-109912.nc', 'E:/CMIP5-PMIP3/CESM-LME/mon/SST/b.e11.BLMTRC5CN.f19_g16.001.pop.h.SST.110001-119912.nc', 'E:/CMIP5-PMIP3/CESM-LME/mon/SST/b.e11.BLMTRC5CN.f19_g16.001.pop.h.SST.120001-129912.nc', 'E:/CMIP5-PMIP3/CESM-LME/mon/SST/b.e11.BLMTRC5CN.f19_g16.001.pop.h.SST.130001-139912.nc', 'E:/CMIP5-PMIP3/CESM-LME/mon/SST/b.e11.BLMTRC5CN.f19_g16.001.pop.h.SST.140001-149912.nc', 'E:/CMIP5-PMIP3/CESM-LME/mon/SST/b.e11.BLMTRC5CN.f19_g16.001.pop.h.SST.150001-159912.nc', 'E:/CMIP5-PMIP3/CESM-LME/mon/SST/b.e11.BLMTRC5CN.f19_g16.001.pop.h.SST.160001-169912.nc', 'E:/CMIP5-PMIP3/CESM-LME/mon/SST/b.e11.BLMTRC5CN.f19_g16.001.pop.h.SST.170001-179912.nc', 'E:/CMIP5-PMIP3/CESM-LME/mon/SST/b.e11.BLMTRC5CN.f19_g16.001.pop.h.SST.180001-184912.nc', 'E:/CMIP5-PMIP3/CESM-LME/mon/SST/b.e11.BLMTRC5CN.f19_g16.001.pop.h.SST.185001-200512.nc']\n",
      "E:/CMIP5-PMIP3/CESM-LME/mon/PSL/\n",
      "Files imported: \n",
      " ['E:/CMIP5-PMIP3/CESM-LME/mon/PSL/b.e11.BLMTRC5CN.f19_g16.001.cam.h0.PSL.085001-184912.nc', 'E:/CMIP5-PMIP3/CESM-LME/mon/PSL/b.e11.BLMTRC5CN.f19_g16.001.cam.h0.PSL.185001-200512.nc']\n",
      "['nino4', 'sam', 'nino4NoDetrend', 'eastIONoDetrend', 'nino34NoDetrend', 'nino34', 'eastIO', 'dmi']\n"
     ]
    }
   ],
   "source": [
    "timePIndeces=dict()\n",
    "\n",
    "for experiment in _model.cesmFullForcings:\n",
    "    print(experiment)\n",
    "    sstDs = fh.loadModelData('CESM-LME', 'SST', experiment)\n",
    "    pslDs = fh.loadModelData('CESM-LME', 'PSL', experiment)\n",
    "    pslIndex, junk = psl.calculateSamIndex(pslDs, pslClimat)\n",
    "    sstIndex = sst.calculateIndex(sstDs, sstClimat) #(reducing the model set at this step could save time?)\n",
    "    indeces = xarray.merge([pslIndex, sstIndex])\n",
    "    indeces.assign_attrs(climatology='calculated based on 850-2005 climatology from the control run')\n",
    "    #indeces.to_netcdf('results/cesmMonthlyIndeces/' + experiment + '.nc')\n",
    "\n",
    "    \n",
    "    timePIndeces[experiment] = tp.averageForTimePeriod(indeces)\n",
    "\n",
    "# RCP8.5 extensions are a special case\n",
    "\n",
    "    if experiment in ['002','003', '008', '009']:\n",
    "\n",
    "        #pre2005Ds = xarray.load_dataset('results/cesmMonthlyIndeces/' + experiment + '.nc')\n",
    "\n",
    "        print('LME.'+experiment)\n",
    "\n",
    "        sstDs = fh.loadModelData('CESM-LME', 'SST', 'LME\\.'+experiment)\n",
    "\n",
    "        extensionIndex=sst.calculateIndex(sstDs, sstClimat)\n",
    "\n",
    "        sstIndex = xarray.concat(\n",
    "            #(pre2005Ds[[keys for keys in extensionIndex.data_vars]],\n",
    "            (sstIndex,\n",
    "             extensionIndex),\n",
    "            'time'\n",
    "        )\n",
    "\n",
    "\n",
    "        pslDs = fh.loadModelData('CESM-LME', 'PSL', 'LME.'+experiment)\n",
    "\n",
    "        extensionIndex=psl.calculateSamIndex(pslDs, pslClimat)\n",
    "\n",
    "        pslIndex=xarray.concat(\n",
    "            #(pre2005Ds[[keys for keys in extensionIndex.data_vars]],\n",
    "            (pslIndex,\n",
    "             extensionIndex),\n",
    "            'time'\n",
    "        )\n",
    "\n",
    "        indeces = xarray.merge([pslIndex, sstIndex])\n",
    "        indeces.assign_attrs(climatology='calculated based on 850-1850 climatology')\n",
    "        #indeces.to_netcdf('results/cesmMonthlyIndeces/LME.' + experiment + '.nc')\n",
    "\n",
    "    \n",
    "        timePIndeces['LME.'+experiment] = tp.averageForTimePeriod(indeces)"
   ]
  },
  {
   "cell_type": "code",
   "execution_count": null,
   "metadata": {},
   "outputs": [],
   "source": [
    "#loading both those things\n",
    "for keys in sstClimat:\n",
    "    sstClimat[keys].close()\n",
    "    \n",
    "pslClimat.close()"
   ]
  },
  {
   "cell_type": "markdown",
   "metadata": {},
   "source": [
    "# Calculate CESM Indeces"
   ]
  },
  {
   "cell_type": "markdown",
   "metadata": {},
   "source": [
    "This grabs the monthly CESM indeces, and calculates the averages for the time periods of interest (aka the warm season), as set in the _indexDefitionions file\n",
    "\n",
    "Theres a few examples of output at the bottom to sanity check this is meaningful"
   ]
  },
  {
   "cell_type": "code",
   "execution_count": null,
   "metadata": {},
   "outputs": [],
   "source": [
    "#experimentSet = ['LME.002']\n",
    "experimentSet = _model.cesmAll"
   ]
  },
  {
   "cell_type": "markdown",
   "metadata": {},
   "source": [
    "The indeces for each month have already been calculated. So loading up the saves versions, and putting them into a dict of pandas arrays."
   ]
  },
  {
   "cell_type": "raw",
   "metadata": {},
   "source": [
    "timePIndeces=dict()\n",
    "\n",
    "for experiment in experimentSet:\n",
    "    print(experiment)\n",
    "    indeces = xarray.load_dataset('results/cesmMonthlyIndeces/' + experiment + '.nc')\n",
    "\n",
    "    timePIndeces[experiment] = averageForTimePeriod(indeces)\n",
    "\n"
   ]
  },
  {
   "cell_type": "markdown",
   "metadata": {},
   "source": [
    "To make this all easier to deal with, convert the result into an xarray and add some extra relevant information as attributes.\n",
    "\n",
    "This allows for filtering by index, year or experiment "
   ]
  },
  {
   "cell_type": "code",
   "execution_count": null,
   "metadata": {},
   "outputs": [],
   "source": [
    "# so i've just written the results into a dict of pandas array. This is kinda funky because I can't slice one index across multiple models\n",
    "# instead, put the whole thing into an xarray with a dimension for the experiment\n",
    "results=xarray.concat(\n",
    "    [\n",
    "        xarray.DataArray(timePIndeces[experiment], \n",
    "                         dims=['year','index'], \n",
    "                         coords={\n",
    "                             'year':timePIndeces[experiment].index,\n",
    "                             'index':timePIndeces[experiment].columns,\n",
    "                             'experiment': experiment})\n",
    "    for experiment in experimentSet \n",
    "    ],\n",
    "    dim='experiment'\n",
    ")\n",
    "\n",
    "results.assign_attrs({indeces.attrs,_index.monthsOfInterest})\n",
    "\n"
   ]
  },
  {
   "cell_type": "markdown",
   "metadata": {},
   "source": [
    "Save the result for use later"
   ]
  },
  {
   "cell_type": "code",
   "execution_count": null,
   "metadata": {},
   "outputs": [],
   "source": [
    "results.to_netcdf('results/cesmTradIndeces.nc')"
   ]
  },
  {
   "cell_type": "markdown",
   "metadata": {},
   "source": [
    "# Some sanity checks to see if it looks ok:\n"
   ]
  },
  {
   "cell_type": "code",
   "execution_count": null,
   "metadata": {},
   "outputs": [],
   "source": [
    "# plotSomething\n",
    "fig = plt.figure(figsize=(12,8))\n",
    "ax = fig.add_subplot(1,1,1)\n",
    "\n",
    "#results.sel(experiment='001', index='nino34').plot(label='001')\n",
    "results.sel(experiment='LME.002', index='nino34NoDetrend').plot(label='LME.001')\n",
    "results.sel(experiment='LME.002', index='nino34').plot(label='LME.001')\n",
    "\n",
    "#Tidy up a bit\n",
    "plt.title(\"CESM Full Forcing Nino34 Ensemble\")\n",
    "plt.ylim(-4,4)\n",
    "plt.minorticks_on()\n",
    "plt.legend()"
   ]
  },
  {
   "cell_type": "code",
   "execution_count": null,
   "metadata": {},
   "outputs": [],
   "source": [
    "# A multi-experiment mean?\n",
    "\n",
    "mean = results.sel(index='sam').mean(dim='experiment')\n",
    "std = results.sel(index='sam').std(dim='experiment')"
   ]
  },
  {
   "cell_type": "code",
   "execution_count": null,
   "metadata": {},
   "outputs": [],
   "source": [
    "plt.figure()\n",
    "mean.plot()\n",
    "std.plot()"
   ]
  },
  {
   "cell_type": "code",
   "execution_count": null,
   "metadata": {},
   "outputs": [],
   "source": [
    "# why limit yourself to one index?\n",
    "\n",
    "mean = results.sel(experiment=_model.cesmFullForcings).mean(dim='experiment')\n",
    "std = results.sel(experiment=_model.cesmFullForcings).std(dim='experiment')"
   ]
  },
  {
   "cell_type": "code",
   "execution_count": null,
   "metadata": {},
   "outputs": [],
   "source": [
    "std"
   ]
  },
  {
   "cell_type": "markdown",
   "metadata": {},
   "source": [
    "# Calculate Compound Years for CESM"
   ]
  },
  {
   "cell_type": "code",
   "execution_count": 5,
   "metadata": {},
   "outputs": [
    {
     "data": {
      "text/plain": [
       "array(['LME.002', 'LME.003', 'LME.008', 'LME.009', '001', '002', '003',\n",
       "       '004', '005', '006', '007', '008', '009', '010', '011', '012',\n",
       "       '013'], dtype=object)"
      ]
     },
     "execution_count": 5,
     "metadata": {},
     "output_type": "execute_result"
    }
   ],
   "source": [
    "# Here is the data\n",
    "indecesDa = xarray.open_dataarray('results/cesmTradIndeces.nc')\n",
    "\n",
    "indecesDa.experiment.values"
   ]
  },
  {
   "cell_type": "markdown",
   "metadata": {},
   "source": [
    "# Define a criteria to determine events"
   ]
  },
  {
   "cell_type": "markdown",
   "metadata": {},
   "source": [
    "So we are going to define events as follows:\n",
    "- For SST indeces (aka Enso and Iod), this is 1 sigma above/below mean\n",
    "- For PSL indeces (aka Sam) this is 0.5 sigma above/below mean\n",
    "\n",
    "For now, using a 850-1850 climatology"
   ]
  },
  {
   "cell_type": "code",
   "execution_count": 6,
   "metadata": {},
   "outputs": [],
   "source": [
    "# This should calculate stds for all experiments and all indeces\n",
    "stdDa = indecesDa.std(dim='year')\n",
    "\n",
    "# define some criteria that we want to use to identifiy it thats an event\n",
    "criteriaDa = xarray.concat(\n",
    "    (stdDa.sel(index=['nino34','dmi']), stdDa.sel(index='sam')/2),\n",
    "    'index'\n",
    ")"
   ]
  },
  {
   "cell_type": "markdown",
   "metadata": {},
   "source": [
    "# Calculate the compounding years and plot an example"
   ]
  },
  {
   "cell_type": "code",
   "execution_count": 9,
   "metadata": {},
   "outputs": [],
   "source": [
    "firePos, fireNeg = applyCriteria(indecesDa, criteriaDa)\n",
    "\n",
    "firePos=compound(firePos)\n",
    "\n",
    "fireNeg=compound(fireNeg)\n",
    "\n",
    "firePos.to_netcdf('results/cesmFirePos.nc')\n",
    "\n",
    "fireNeg.to_netcdf('results/cesmFireNeg.nc')"
   ]
  },
  {
   "cell_type": "code",
   "execution_count": 11,
   "metadata": {},
   "outputs": [
    {
     "data": {
      "text/plain": [
       "Text(0.5, 1.0, 'LME.002: Pairs and all-three compounds for individal years')"
      ]
     },
     "execution_count": 11,
     "metadata": {},
     "output_type": "execute_result"
    },
    {
     "data": {
      "image/png": "[encoded data removed]",
      "text/plain": [
       "<Figure size 864x864 with 1 Axes>"
      ]
     },
     "metadata": {
      "needs_background": "light"
     },
     "output_type": "display_data"
    }
   ],
   "source": [
    "expToPlot = 'LME.002'\n",
    "\n",
    "toPlot=3*firePos.sel(experiment=expToPlot, index='all3')\n",
    "\n",
    "plt.figure(figsize=(12,12))\n",
    "\n",
    "plt.vlines(\n",
    "    x=firePos.year, \n",
    "    ymin=0,\n",
    "    ymax=toPlot,\n",
    "    label='all3'\n",
    ")\n",
    "\n",
    "colors=['orange', 'purple', 'green']\n",
    "iCol = 0\n",
    "\n",
    "for iPair in firePos.attrs['pairs']:\n",
    "    plt.vlines(\n",
    "        x=firePos.year, \n",
    "        ymin=0,\n",
    "        ymax=2*firePos.sel(experiment=expToPlot, index=iPair),\n",
    "        color=colors[iCol],\n",
    "        label=iPair\n",
    "    )\n",
    "    iCol+=1\n",
    "plt.legend()\n",
    "plt.xlim(1700,2100)\n",
    "plt.title(expToPlot+': Pairs and all-three compounds for individal years')"
   ]
  },
  {
   "cell_type": "code",
   "execution_count": null,
   "metadata": {},
   "outputs": [],
   "source": []
  }
 ],
 "metadata": {
  "kernelspec": {
   "display_name": "Python 3",
   "language": "python",
   "name": "python3"
  },
  "language_info": {
   "codemirror_mode": {
    "name": "ipython",
    "version": 3
   },
   "file_extension": ".py",
   "mimetype": "text/x-python",
   "name": "python",
   "nbconvert_exporter": "python",
   "pygments_lexer": "ipython3",
   "version": "3.8.8"
  }
 },
 "nbformat": 4,
 "nbformat_minor": 4
}
