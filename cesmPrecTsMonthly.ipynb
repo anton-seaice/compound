{
 "cells": [
  {
   "cell_type": "markdown",
   "id": "d57682e4-50ec-4aa2-8f47-5c9242f2d3ea",
   "metadata": {},
   "source": [
    "# cesm Rainfall Anomalies"
   ]
  },
  {
   "cell_type": "code",
   "execution_count": 1,
   "id": "34c944c4-8237-429c-b8c4-08a3d70a6434",
   "metadata": {
    "tags": []
   },
   "outputs": [],
   "source": [
    "#import my functions\n",
    "import helpers.fileHandler as fh\n",
    "import utils._modelDefinitions as _model\n",
    "import utils._indexDefinitions as _index\n",
    "import utils.timePeriod as tp"
   ]
  },
  {
   "cell_type": "code",
   "execution_count": 2,
   "id": "01befd55-6b9d-4103-abe0-1f1bf265235f",
   "metadata": {},
   "outputs": [],
   "source": [
    "import xarray\n",
    "import numpy\n",
    "import cftime\n",
    "import cartopy.crs as ccrs\n",
    "import matplotlib.pyplot as plt"
   ]
  },
  {
   "cell_type": "code",
   "execution_count": 3,
   "id": "54eba285-8f3f-4653-9e14-6b7f3c94171f",
   "metadata": {},
   "outputs": [],
   "source": [
    "secondsPerDay = 60*60*24\n",
    "secondsToTimeP = secondsPerDay*_index.nDaysOfInterest[\"precAnom\"]*1000/7 #seconds per month"
   ]
  },
  {
   "cell_type": "markdown",
   "id": "18364334-6c75-4955-a5cb-aea46edd7951",
   "metadata": {},
   "source": [
    "# Calculate a climatology\n",
    "\n",
    "Based on the control run, calculate monthly anomalies"
   ]
  },
  {
   "cell_type": "code",
   "execution_count": 4,
   "id": "a48dca87-9740-4704-b03f-03e5d3dc79fd",
   "metadata": {
    "tags": []
   },
   "outputs": [
    {
     "name": "stdout",
     "output_type": "stream",
     "text": [
      "/Volumes/Untitled/CMIP5-PMIP3/CESM-LME/mon/PRECL/\n"
     ]
    },
    {
     "ename": "OSError",
     "evalue": "Requested files /Volumes/Untitled/CMIP5-PMIP3/CESM-LME/mon/PRECL/ not found. Is the harddrive plugged in and does this test case exist?",
     "output_type": "error",
     "traceback": [
      "\u001b[0;31m---------------------------------------------------------------------------\u001b[0m",
      "\u001b[0;31mFileNotFoundError\u001b[0m                         Traceback (most recent call last)",
      "\u001b[0;32m~/compound/helpers/fileHandler.py\u001b[0m in \u001b[0;36mgetFilePaths\u001b[0;34m(directory, *args)\u001b[0m\n\u001b[1;32m     63\u001b[0m         \u001b[0mprint\u001b[0m\u001b[0;34m(\u001b[0m\u001b[0mdirectory\u001b[0m\u001b[0;34m)\u001b[0m\u001b[0;34m\u001b[0m\u001b[0;34m\u001b[0m\u001b[0m\n\u001b[0;32m---> 64\u001b[0;31m         \u001b[0mfileList\u001b[0m \u001b[0;34m=\u001b[0m \u001b[0mlistdir\u001b[0m\u001b[0;34m(\u001b[0m\u001b[0mdirectory\u001b[0m\u001b[0;34m)\u001b[0m\u001b[0;34m\u001b[0m\u001b[0;34m\u001b[0m\u001b[0m\n\u001b[0m\u001b[1;32m     65\u001b[0m     \u001b[0;32mexcept\u001b[0m\u001b[0;34m:\u001b[0m\u001b[0;34m\u001b[0m\u001b[0;34m\u001b[0m\u001b[0m\n",
      "\u001b[0;31mFileNotFoundError\u001b[0m: [Errno 2] No such file or directory: '/Volumes/Untitled/CMIP5-PMIP3/CESM-LME/mon/PRECL/'",
      "\nDuring handling of the above exception, another exception occurred:\n",
      "\u001b[0;31mOSError\u001b[0m                                   Traceback (most recent call last)",
      "\u001b[0;32m<ipython-input-4-155f7aca5c33>\u001b[0m in \u001b[0;36m<module>\u001b[0;34m\u001b[0m\n\u001b[0;32m----> 1\u001b[0;31m \u001b[0mpreclDa\u001b[0m \u001b[0;34m=\u001b[0m \u001b[0mfh\u001b[0m\u001b[0;34m.\u001b[0m\u001b[0mloadModelData\u001b[0m\u001b[0;34m(\u001b[0m\u001b[0;34m'CESM-LME'\u001b[0m\u001b[0;34m,\u001b[0m \u001b[0;34m'PRECL'\u001b[0m\u001b[0;34m,\u001b[0m \u001b[0m_model\u001b[0m\u001b[0;34m.\u001b[0m\u001b[0mcesmCntl\u001b[0m\u001b[0;34m)\u001b[0m\u001b[0;34m\u001b[0m\u001b[0;34m\u001b[0m\u001b[0m\n\u001b[0m\u001b[1;32m      2\u001b[0m \u001b[0mpreccDa\u001b[0m \u001b[0;34m=\u001b[0m \u001b[0mfh\u001b[0m\u001b[0;34m.\u001b[0m\u001b[0mloadModelData\u001b[0m\u001b[0;34m(\u001b[0m\u001b[0;34m'CESM-LME'\u001b[0m\u001b[0;34m,\u001b[0m \u001b[0;34m'PRECC'\u001b[0m\u001b[0;34m,\u001b[0m \u001b[0m_model\u001b[0m\u001b[0;34m.\u001b[0m\u001b[0mcesmCntl\u001b[0m\u001b[0;34m)\u001b[0m\u001b[0;34m\u001b[0m\u001b[0;34m\u001b[0m\u001b[0m\n",
      "\u001b[0;32m~/compound/helpers/fileHandler.py\u001b[0m in \u001b[0;36mloadModelData\u001b[0;34m(model, variable, test, **kargs)\u001b[0m\n\u001b[1;32m    155\u001b[0m \u001b[0;34m\u001b[0m\u001b[0m\n\u001b[1;32m    156\u001b[0m \u001b[0;31m#Second get an list of paths for that filer term and directory\u001b[0m\u001b[0;34m\u001b[0m\u001b[0;34m\u001b[0m\u001b[0;34m\u001b[0m\u001b[0m\n\u001b[0;32m--> 157\u001b[0;31m     \u001b[0mpaths\u001b[0m \u001b[0;34m=\u001b[0m \u001b[0mgetFilePaths\u001b[0m\u001b[0;34m(\u001b[0m\u001b[0mdirectory\u001b[0m\u001b[0;34m,\u001b[0m \u001b[0mfilterTerm\u001b[0m\u001b[0;34m)\u001b[0m\u001b[0;34m\u001b[0m\u001b[0;34m\u001b[0m\u001b[0m\n\u001b[0m\u001b[1;32m    158\u001b[0m \u001b[0;34m\u001b[0m\u001b[0m\n\u001b[1;32m    159\u001b[0m     \u001b[0;31m# throw an error if we didn't find any files\u001b[0m\u001b[0;34m\u001b[0m\u001b[0;34m\u001b[0m\u001b[0;34m\u001b[0m\u001b[0m\n",
      "\u001b[0;32m~/compound/helpers/fileHandler.py\u001b[0m in \u001b[0;36mgetFilePaths\u001b[0;34m(directory, *args)\u001b[0m\n\u001b[1;32m     64\u001b[0m         \u001b[0mfileList\u001b[0m \u001b[0;34m=\u001b[0m \u001b[0mlistdir\u001b[0m\u001b[0;34m(\u001b[0m\u001b[0mdirectory\u001b[0m\u001b[0;34m)\u001b[0m\u001b[0;34m\u001b[0m\u001b[0;34m\u001b[0m\u001b[0m\n\u001b[1;32m     65\u001b[0m     \u001b[0;32mexcept\u001b[0m\u001b[0;34m:\u001b[0m\u001b[0;34m\u001b[0m\u001b[0;34m\u001b[0m\u001b[0m\n\u001b[0;32m---> 66\u001b[0;31m         \u001b[0;32mraise\u001b[0m \u001b[0mEnvironmentError\u001b[0m\u001b[0;34m(\u001b[0m\u001b[0;34m\"Requested files \"\u001b[0m \u001b[0;34m+\u001b[0m \u001b[0mdirectory\u001b[0m \u001b[0;34m+\u001b[0m \u001b[0;34m\" not found. Is the harddrive plugged in and does this test case exist?\"\u001b[0m\u001b[0;34m)\u001b[0m\u001b[0;34m\u001b[0m\u001b[0;34m\u001b[0m\u001b[0m\n\u001b[0m\u001b[1;32m     67\u001b[0m \u001b[0;34m\u001b[0m\u001b[0m\n\u001b[1;32m     68\u001b[0m     \u001b[0;31m# Get list of files from model run of interest accoding to the filter term\u001b[0m\u001b[0;34m\u001b[0m\u001b[0;34m\u001b[0m\u001b[0;34m\u001b[0m\u001b[0m\n",
      "\u001b[0;31mOSError\u001b[0m: Requested files /Volumes/Untitled/CMIP5-PMIP3/CESM-LME/mon/PRECL/ not found. Is the harddrive plugged in and does this test case exist?"
     ]
    }
   ],
   "source": [
    "preclDa = fh.loadModelData('CESM-LME', 'PRECL', _model.cesmCntl)\n",
    "preccDa = fh.loadModelData('CESM-LME', 'PRECC', _model.cesmCntl)\n"
   ]
  },
  {
   "cell_type": "code",
   "execution_count": null,
   "id": "4e71976b-8769-4ff5-ba55-8007b076fc43",
   "metadata": {},
   "outputs": [],
   "source": [
    "prectDa = (preclDa.PRECL+preccDa.PRECC)\n",
    "prectDa.name='prect'"
   ]
  },
  {
   "cell_type": "code",
   "execution_count": null,
   "id": "4cd616ca-c7f7-4899-93f1-1d534ca3c8b7",
   "metadata": {},
   "outputs": [],
   "source": [
    "monMeansDa=prectDa.groupby('time.month').mean(dim='time')"
   ]
  },
  {
   "cell_type": "code",
   "execution_count": null,
   "id": "8e4b28b6-2931-49f3-b586-2c55b933a244",
   "metadata": {},
   "outputs": [],
   "source": [
    "monMeansDa.where(\n",
    "        (monMeansDa.lat>-50) & (monMeansDa.lat<0) & (monMeansDa.lon>100) & (monMeansDa.lon<170),\n",
    "        drop=True\n",
    "    ).load()"
   ]
  },
  {
   "cell_type": "markdown",
   "id": "3812e01f-18e1-4cdc-a396-897a5dbbabb4",
   "metadata": {},
   "source": [
    "# Carve out an area of interest, and calculate anomalies"
   ]
  },
  {
   "cell_type": "code",
   "execution_count": null,
   "id": "cb030338-619d-4723-bd2b-9a555f758617",
   "metadata": {},
   "outputs": [],
   "source": [
    "\n",
    "for experiment in _model.cesmFullForcings:\n",
    "    \n",
    "    #load it\n",
    "    preclDa = fh.loadModelData('CESM-LME', 'PRECL', experiment)\n",
    "    preccDa = fh.loadModelData('CESM-LME', 'PRECC', experiment)\n",
    "    prectDa = (preclDa.PRECL+preccDa.PRECC)\n",
    "    prectDa.name='prect'\n",
    "    \n",
    "    #anom\n",
    "    anomDa=prectDa.groupby('time.month')-monMeansDa\n",
    "    anomDa.name='precAnom'\n",
    "        \n",
    "    #grab area around Australia\n",
    "    domainDa=anomDa.where(\n",
    "        (anomDa.lat>-50) & (anomDa.lat<0) & (anomDa.lon>100) & (anomDa.lon<170),\n",
    "        drop=True\n",
    "    )\n",
    "    \n",
    "    # convert to mm/year and store\n",
    "    domainDa.to_netcdf('results/cesmMonthlyPrec/'+experiment+'.nc')\n",
    "    \n",
    "     #rcp85 extensions\n",
    "    if experiment in ['002','003', '008', '009']: \n",
    "        \n",
    "        #extensions\n",
    "        preclDa = fh.loadModelData('CESM-LME', 'PRECL', 'LME.'+experiment)\n",
    "        preccDa = fh.loadModelData('CESM-LME', 'PRECC', 'LME.'+experiment)\n",
    "        extPrectDa = (preclDa.PRECL+preccDa.PRECC)\n",
    "        extPrectDa.name='prect'\n",
    "        \n",
    "        prectDa = xarray.concat([prectDa, extPrectDa], 'time')\n",
    "\n",
    "\n",
    "        #anom\n",
    "        anomDa=prectDa.groupby('time.month')-monMeansDa\n",
    "        anomDa.name='precAnom'\n",
    "\n",
    "        #grab area around Australia\n",
    "        domainDa=anomDa.where(\n",
    "            (anomDa.lat>-50) & (anomDa.lat<0) & (anomDa.lon>100) & (anomDa.lon<170),\n",
    "            drop=True\n",
    "        )\n",
    "\n",
    "        #  store\n",
    "        domainDa.to_netcdf('results/cesmMonthlyPrec/LME.'+experiment+'.nc')\n",
    "        \n",
    "    \n",
    "    "
   ]
  },
  {
   "cell_type": "markdown",
   "id": "c21f784d-eff3-4b9b-84e2-800f83343815",
   "metadata": {},
   "source": [
    "# Time averaging for the anomalies"
   ]
  },
  {
   "cell_type": "code",
   "execution_count": 5,
   "id": "706658e3-970a-4d28-8bc6-3d47aee6255f",
   "metadata": {},
   "outputs": [],
   "source": [
    "monthlyAnomDa=xarray.concat([\n",
    "    xarray.open_dataset('results/cesmMonthlyPrec/'+iExp+'.nc') for iExp in _model.cesmAll],\n",
    "    'experiment')\n",
    "    \n",
    "\n",
    "monthlyAnomDa=monthlyAnomDa.assign({'experiment':_model.cesmAll})\n",
    "\n",
    "\n",
    "warmSeasonAnomDa=secondsToTimeP*tp.averageForTimePeriod(monthlyAnomDa)\n",
    "warmSeasonAnomDa = warmSeasonAnomDa.assign_attrs([*warmSeasonAnomDa.attrs, ('units','mm/month'), ('timePeriod','Warm Season')])"
   ]
  },
  {
   "cell_type": "code",
   "execution_count": 6,
   "id": "665ea1d2-dde1-4c72-80d0-d82a01dd25ab",
   "metadata": {},
   "outputs": [],
   "source": [
    "warmSeasonAnomDa.to_netcdf('results/cesmPrecAnoms.nc')"
   ]
  },
  {
   "cell_type": "markdown",
   "id": "de603d2f-b848-418d-855d-6762c002721c",
   "metadata": {},
   "source": [
    "# Do that all again for Ts"
   ]
  },
  {
   "cell_type": "code",
   "execution_count": null,
   "id": "c9b3bca1-9436-4e85-b60b-38224411096b",
   "metadata": {
    "tags": []
   },
   "outputs": [],
   "source": [
    "tsDa = fh.loadModelData('CESM-LME', 'TS', _model.cesmCntl)\n",
    "\n",
    "monMeansDa=tsDa.TS.groupby('time.month').mean(dim='time')\n",
    "\n",
    "monMeansDa.where(\n",
    "        (monMeansDa.lat>-50) & (monMeansDa.lat<0) & (monMeansDa.lon>100) & (monMeansDa.lon<170),\n",
    "        drop=True\n",
    "    ).load()"
   ]
  },
  {
   "cell_type": "markdown",
   "id": "9518d353-cd07-4df1-9da0-7799b08e694d",
   "metadata": {},
   "source": [
    "# Carve out an area of interest, and calculate anomalies"
   ]
  },
  {
   "cell_type": "code",
   "execution_count": null,
   "id": "4c0469dd-6eb2-42a2-8ad9-bd5ae92ff5b7",
   "metadata": {},
   "outputs": [],
   "source": [
    "\n",
    "for experiment in _model.cesmFullForcings:\n",
    "    \n",
    "    #load it\n",
    "    tsDa = fh.loadModelData('CESM-LME', 'TS', experiment).TS\n",
    "    \n",
    "    #anom\n",
    "    anomDa=tsDa.groupby('time.month')-monMeansDa\n",
    "    anomDa.name='tsAnom'\n",
    "        \n",
    "    #grab area around Australia\n",
    "    domainDa=anomDa.where(\n",
    "        (anomDa.lat>-50) & (anomDa.lat<0) & (anomDa.lon>100) & (anomDa.lon<170),\n",
    "        drop=True\n",
    "    )\n",
    "    \n",
    "    # convert to mm/year and store\n",
    "    domainDa.to_netcdf('results/cesmMonthlyTs/'+experiment+'.nc')\n",
    "    \n",
    "     #rcp85 extensions\n",
    "    if experiment in ['002','003', '008', '009']: \n",
    "        \n",
    "        #extensions\n",
    "        extTsDa = fh.loadModelData('CESM-LME', 'TS', 'LME.'+experiment)\n",
    "        tsDa=xarray.concat([tsDa, extTsDa.TS], 'time')\n",
    "\n",
    "        #anom\n",
    "        anomDa=tsDa.groupby('time.month')-monMeansDa\n",
    "        anomDa.name='tsAnom'\n",
    "\n",
    "        #grab area around Australia\n",
    "        domainDa=anomDa.where(\n",
    "            (anomDa.lat>-50) & (anomDa.lat<0) & (anomDa.lon>100) & (anomDa.lon<170),\n",
    "            drop=True\n",
    "        )\n",
    "\n",
    "        domainDa.to_netcdf('results/cesmMonthlyTs/LME.'+experiment+'.nc')\n",
    "        \n",
    "    \n",
    "    "
   ]
  },
  {
   "cell_type": "markdown",
   "id": "bdd3ab43-c893-4240-9ff3-f066aacce9e2",
   "metadata": {},
   "source": [
    "# Time averaging for the anomalies"
   ]
  },
  {
   "cell_type": "code",
   "execution_count": null,
   "id": "16dd9fb3-7f1f-4a4c-9bf0-50ae73a9eed2",
   "metadata": {},
   "outputs": [],
   "source": [
    "monthlyAnomDa=xarray.concat([\n",
    "    xarray.open_dataset('results/cesmMonthlyTs/'+iExp+'.nc') for iExp in _model.cesmAll],\n",
    "    'experiment')\n",
    "    \n",
    "\n",
    "monthlyAnomDa=monthlyAnomDa.assign({'experiment':_model.cesmAll})\n",
    "\n",
    "warmSeasonAnomDa=tp.averageForTimePeriod(monthlyAnomDa)\n",
    "\n",
    "warmSeasonAnomDa.to_netcdf('results/cesmTsAnoms.nc')"
   ]
  },
  {
   "cell_type": "code",
   "execution_count": null,
   "id": "a716deeb-a8bb-4d6e-b97d-1af985974330",
   "metadata": {},
   "outputs": [],
   "source": []
  }
 ],
 "metadata": {
  "kernelspec": {
   "display_name": "Python 3",
   "language": "python",
   "name": "python3"
  },
  "language_info": {
   "codemirror_mode": {
    "name": "ipython",
    "version": 3
   },
   "file_extension": ".py",
   "mimetype": "text/x-python",
   "name": "python",
   "nbconvert_exporter": "python",
   "pygments_lexer": "ipython3",
   "version": "3.8.8"
  }
 },
 "nbformat": 4,
 "nbformat_minor": 5
}
