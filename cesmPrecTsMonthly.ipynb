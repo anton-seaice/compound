{
 "cells": [
  {
   "cell_type": "markdown",
   "id": "cee716c2",
   "metadata": {},
   "source": [
    "# cesm Rainfall Anomalies"
   ]
  },
  {
   "cell_type": "code",
   "execution_count": 1,
   "id": "138ba671",
   "metadata": {
    "tags": []
   },
   "outputs": [],
   "source": [
    "#import my functions\n",
    "import helpers.fileHandler as fh\n",
    "import utils._modelDefinitions as _model\n",
    "import utils._indexDefinitions as _index\n",
    "import utils.timePeriod as tp"
   ]
  },
  {
   "cell_type": "code",
   "execution_count": 2,
   "id": "52a51239",
   "metadata": {},
   "outputs": [
    {
     "ename": "ModuleNotFoundError",
     "evalue": "No module named 'cartopy'",
     "output_type": "error",
     "traceback": [
      "\u001b[0;31m---------------------------------------------------------------------------\u001b[0m",
      "\u001b[0;31mModuleNotFoundError\u001b[0m                       Traceback (most recent call last)",
      "\u001b[0;32m<ipython-input-2-24781c6ff74b>\u001b[0m in \u001b[0;36m<module>\u001b[0;34m\u001b[0m\n\u001b[1;32m      2\u001b[0m \u001b[0;32mimport\u001b[0m \u001b[0mnumpy\u001b[0m\u001b[0;34m\u001b[0m\u001b[0;34m\u001b[0m\u001b[0m\n\u001b[1;32m      3\u001b[0m \u001b[0;32mimport\u001b[0m \u001b[0mcftime\u001b[0m\u001b[0;34m\u001b[0m\u001b[0;34m\u001b[0m\u001b[0m\n\u001b[0;32m----> 4\u001b[0;31m \u001b[0;32mimport\u001b[0m \u001b[0mcartopy\u001b[0m\u001b[0;34m.\u001b[0m\u001b[0mcrs\u001b[0m \u001b[0;32mas\u001b[0m \u001b[0mccrs\u001b[0m\u001b[0;34m\u001b[0m\u001b[0;34m\u001b[0m\u001b[0m\n\u001b[0m\u001b[1;32m      5\u001b[0m \u001b[0;32mimport\u001b[0m \u001b[0mcartopy\u001b[0m\u001b[0;34m.\u001b[0m\u001b[0mfeature\u001b[0m \u001b[0;32mas\u001b[0m \u001b[0mcfeature\u001b[0m\u001b[0;34m\u001b[0m\u001b[0;34m\u001b[0m\u001b[0m\n\u001b[1;32m      6\u001b[0m \u001b[0;32mimport\u001b[0m \u001b[0mmatplotlib\u001b[0m\u001b[0;34m.\u001b[0m\u001b[0mpyplot\u001b[0m \u001b[0;32mas\u001b[0m \u001b[0mplt\u001b[0m\u001b[0;34m\u001b[0m\u001b[0;34m\u001b[0m\u001b[0m\n",
      "\u001b[0;31mModuleNotFoundError\u001b[0m: No module named 'cartopy'"
     ]
    }
   ],
   "source": [
    "import xarray\n",
    "import numpy\n",
    "import cftime\n",
    "import cartopy.crs as ccrs\n",
    "import cartopy.feature as cfeature\n",
    "import matplotlib.pyplot as plt\n",
    "import matplotlib.patches as mpatches\n",
    "from matplotlib.offsetbox import AnchoredText\n",
    "import cartopy.io.shapereader as shpr\n",
    "\n",
    "%matplotlib inline"
   ]
  },
  {
   "cell_type": "code",
   "execution_count": null,
   "id": "ede5a002",
   "metadata": {},
   "outputs": [],
   "source": [
    "secondsPerDay = 60*60*24\n",
    "secondsToTimeP = secondsPerDay*1000 #seconds per day, convert m to mm\n",
    "#secondsToTimeP = secondsPerDay*_index.nDaysOfInterest[\"precAnom\"]*1000/7 #seconds per month"
   ]
  },
  {
   "cell_type": "markdown",
   "id": "ce234e5f",
   "metadata": {},
   "source": [
    "# Calculate a climatology\n",
    "\n",
    "Based on the control run, calculate monthly anomalies"
   ]
  },
  {
   "cell_type": "code",
   "execution_count": null,
   "id": "ac1fe187-25c8-45c0-9e0f-222dff0b972d",
   "metadata": {},
   "outputs": [],
   "source": [
    "fh.loadModelData"
   ]
  },
  {
   "cell_type": "code",
   "execution_count": null,
   "id": "5d46d136",
   "metadata": {
    "tags": []
   },
   "outputs": [],
   "source": [
    "preclDa = fh.loadModelData('CESM-LME', 'PRECL', _model.cesmCntl)\n",
    "preccDa = fh.loadModelData('CESM-LME', 'PRECC', _model.cesmCntl)\n",
    "\n",
    "\n",
    "prectDa = (preclDa.PRECL+preccDa.PRECC)\n",
    "prectDa.name='prect'"
   ]
  },
  {
   "cell_type": "code",
   "execution_count": null,
   "id": "a84891f1",
   "metadata": {},
   "outputs": [],
   "source": [
    "monMeansDa=prectDa.groupby('time.month').mean(dim='time')\n",
    "\n",
    "monMeansDa.where(\n",
    "        (monMeansDa.lat>-50) & (monMeansDa.lat<0) & (monMeansDa.lon>100) & (monMeansDa.lon<170),\n",
    "        drop=True\n",
    "    ).load()"
   ]
  },
  {
   "cell_type": "markdown",
   "id": "2012dd46",
   "metadata": {},
   "source": [
    "# Carve out an area of interest, and calculate anomalies"
   ]
  },
  {
   "cell_type": "code",
   "execution_count": null,
   "id": "bf1edfa2",
   "metadata": {},
   "outputs": [],
   "source": [
    "\n",
    "for experiment in [*_model.cesmFullForcings, _model.cesmCntl]:\n",
    "    \n",
    "    #load it\n",
    "    preclDa = fh.loadModelData('CESM-LME', 'PRECL', experiment)\n",
    "    preccDa = fh.loadModelData('CESM-LME', 'PRECC', experiment)\n",
    "    prectDa = (preclDa.PRECL+preccDa.PRECC)\n",
    "    prectDa.name='prect'\n",
    "    \n",
    "    #anom\n",
    "    anomDa=prectDa.groupby('time.month')-monMeansDa\n",
    "    anomDa.name='precAnom'\n",
    "        \n",
    "    #grab area around Australia\n",
    "    domainDa=anomDa.where(\n",
    "        (anomDa.lat>-50) & (anomDa.lat<0) & (anomDa.lon>100) & (anomDa.lon<170),\n",
    "        drop=True\n",
    "    )\n",
    "    \n",
    "    # convert to mm/year and store\n",
    "    domainDa.to_netcdf('results/cesmMonthlyPrec/'+experiment+'.nc')\n",
    "    \n",
    "     #rcp85 extensions\n",
    "    if experiment in ['002','003', '008', '009']: \n",
    "        \n",
    "        #extensions\n",
    "        preclDa = fh.loadModelData('CESM-LME', 'PRECL', 'LME.'+experiment)\n",
    "        preccDa = fh.loadModelData('CESM-LME', 'PRECC', 'LME.'+experiment)\n",
    "        extPrectDa = (preclDa.PRECL+preccDa.PRECC)\n",
    "        extPrectDa.name='prect'\n",
    "        \n",
    "        prectDa = xarray.concat([prectDa, extPrectDa], 'time')\n",
    "\n",
    "\n",
    "        #anom\n",
    "        anomDa=prectDa.groupby('time.month')-monMeansDa\n",
    "        anomDa.name='precAnom'\n",
    "\n",
    "        #grab area around Australia\n",
    "        domainDa=anomDa.where(\n",
    "            (anomDa.lat>-50) & (anomDa.lat<0) & (anomDa.lon>100) & (anomDa.lon<170),\n",
    "            drop=True\n",
    "        )\n",
    "\n",
    "        #  store\n",
    "        domainDa.to_netcdf('results/cesmMonthlyPrec/LME.'+experiment+'.nc')\n",
    "        \n",
    "    \n",
    "    "
   ]
  },
  {
   "cell_type": "markdown",
   "id": "eb78ada6",
   "metadata": {},
   "source": [
    "# Time averaging for the anomalies"
   ]
  },
  {
   "cell_type": "code",
   "execution_count": null,
   "id": "9900bff8",
   "metadata": {},
   "outputs": [],
   "source": [
    "monthlyAnomDa=xarray.concat([\n",
    "    xarray.open_dataset('results/cesmMonthlyPrec/'+iExp+'.nc') for iExp in _model.cesmAll],\n",
    "    'experiment')\n",
    "    \n",
    "\n",
    "monthlyAnomDa=monthlyAnomDa.assign({'experiment':_model.cesmAll})\n",
    "\n",
    "\n",
    "warmSeasonAnomDa=secondsToTimeP*tp.averageForTimePeriod(monthlyAnomDa)\n",
    "warmSeasonAnomDa = warmSeasonAnomDa.assign_attrs([*warmSeasonAnomDa.attrs, ('units','mm/month'), ('timePeriod','Warm Season')])"
   ]
  },
  {
   "cell_type": "code",
   "execution_count": null,
   "id": "59c02d22",
   "metadata": {},
   "outputs": [],
   "source": [
    "warmSeasonAnomDa.to_netcdf('results/cesmPrecAnoms.nc')"
   ]
  },
  {
   "cell_type": "markdown",
   "id": "2a38ed70",
   "metadata": {},
   "source": [
    "# Do that all again for Ts"
   ]
  },
  {
   "cell_type": "code",
   "execution_count": null,
   "id": "f0a41fb4",
   "metadata": {
    "tags": []
   },
   "outputs": [],
   "source": [
    "tsDa = fh.loadModelData('CESM-LME', 'TS', _model.cesmCntl)\n",
    "\n",
    "monMeansDa=tsDa.TS.groupby('time.month').mean(dim='time')\n",
    "\n",
    "monMeansDa.where(\n",
    "        (monMeansDa.lat>-50) & (monMeansDa.lat<0) & (monMeansDa.lon>100) & (monMeansDa.lon<170),\n",
    "        drop=True\n",
    "    ).load()"
   ]
  },
  {
   "cell_type": "markdown",
   "id": "11ed1f54",
   "metadata": {},
   "source": [
    "# Carve out an area of interest, and calculate anomalies"
   ]
  },
  {
   "cell_type": "code",
   "execution_count": null,
   "id": "874bfc8c",
   "metadata": {},
   "outputs": [],
   "source": [
    "\n",
    "for experiment in [*_model.cesmFullForcings, _model.cesmCntl]: #\n",
    "    \n",
    "    #load it\n",
    "    tsDa = fh.loadModelData('CESM-LME', 'TS', experiment).TS\n",
    "    \n",
    "    #anom\n",
    "    anomDa=tsDa.groupby('time.month')-monMeansDa\n",
    "    anomDa.name='tsAnom'\n",
    "        \n",
    "    #grab area around Australia\n",
    "    domainDa=anomDa.where(\n",
    "        (anomDa.lat>-50) & (anomDa.lat<0) & (anomDa.lon>100) & (anomDa.lon<170),\n",
    "        drop=True\n",
    "    )\n",
    "    \n",
    "    # convert to mm/year and store\n",
    "    domainDa.to_netcdf('results/cesmMonthlyTs/'+experiment+'.nc')\n",
    "    \n",
    "     #rcp85 extensions\n",
    "    if experiment in ['002','003', '008', '009']: \n",
    "        \n",
    "        #extensions\n",
    "        extTsDa = fh.loadModelData('CESM-LME', 'TS', 'LME.'+experiment)\n",
    "        tsDa=xarray.concat([tsDa, extTsDa.TS], 'time')\n",
    "\n",
    "        #anom\n",
    "        anomDa=tsDa.groupby('time.month')-monMeansDa\n",
    "        anomDa.name='tsAnom'\n",
    "\n",
    "        #grab area around Australia\n",
    "        domainDa=anomDa.where(\n",
    "            (anomDa.lat>-50) & (anomDa.lat<0) & (anomDa.lon>100) & (anomDa.lon<170),\n",
    "            drop=True\n",
    "        )\n",
    "\n",
    "        domainDa.to_netcdf('results/cesmMonthlyTs/LME.'+experiment+'.nc')\n",
    "        \n",
    "    \n",
    "    "
   ]
  },
  {
   "cell_type": "markdown",
   "id": "2a4d58fd",
   "metadata": {},
   "source": [
    "# Time averaging for the anomalies"
   ]
  },
  {
   "cell_type": "code",
   "execution_count": null,
   "id": "0652657d",
   "metadata": {},
   "outputs": [],
   "source": [
    "monthlyAnomDa=xarray.concat([\n",
    "    xarray.open_dataset('results/cesmMonthlyTs/'+iExp+'.nc') for iExp in _model.cesmAll],\n",
    "    'experiment')\n",
    "    \n",
    "\n",
    "monthlyAnomDa=monthlyAnomDa.assign({'experiment':_model.cesmAll})\n",
    "\n",
    "warmSeasonAnomDa=tp.averageForTimePeriod(monthlyAnomDa)\n",
    "\n",
    "warmSeasonAnomDa.to_netcdf('results/cesmTsAnoms.nc')"
   ]
  },
  {
   "cell_type": "code",
   "execution_count": null,
   "id": "a93c0444",
   "metadata": {},
   "outputs": [],
   "source": []
  }
 ],
 "metadata": {
  "kernelspec": {
   "display_name": "Python 3",
   "language": "python",
   "name": "python3"
  },
  "language_info": {
   "codemirror_mode": {
    "name": "ipython",
    "version": 3
   },
   "file_extension": ".py",
   "mimetype": "text/x-python",
   "name": "python",
   "nbconvert_exporter": "python",
   "pygments_lexer": "ipython3",
   "version": "3.9.5"
  }
 },
 "nbformat": 4,
 "nbformat_minor": 5
}
