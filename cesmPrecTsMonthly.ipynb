{
 "cells": [
  {
   "cell_type": "markdown",
   "metadata": {},
   "source": [
    "# cesm Rainfall Anomalies"
   ]
  },
  {
   "cell_type": "code",
   "execution_count": 1,
   "metadata": {
    "tags": []
   },
   "outputs": [],
   "source": [
    "#import my functions\n",
    "import helpers.fileHandler as fh\n",
    "import utils._modelDefinitions as _model\n",
    "import utils._indexDefinitions as _index\n",
    "import utils.timePeriod as tp"
   ]
  },
  {
   "cell_type": "code",
   "execution_count": 2,
   "metadata": {},
   "outputs": [],
   "source": [
    "import xarray\n",
    "import numpy\n",
    "import cftime\n",
    "import cartopy.crs as ccrs\n",
    "import cartopy.feature as cfeature\n",
    "import matplotlib.pyplot as plt\n",
    "import matplotlib.patches as mpatches\n",
    "from matplotlib.offsetbox import AnchoredText\n",
    "import cartopy.io.shapereader as shpr\n",
    "\n",
    "%matplotlib inline"
   ]
  },
  {
   "cell_type": "code",
   "execution_count": 3,
   "metadata": {},
   "outputs": [],
   "source": [
    "secondsPerDay = 60*60*24\n",
    "secondsToTimeP = secondsPerDay*1000 #seconds per day, convert m to mm\n",
    "#secondsToTimeP = secondsPerDay*_index.nDaysOfInterest[\"precAnom\"]*1000/7 #seconds per month"
   ]
  },
  {
   "cell_type": "markdown",
   "metadata": {},
   "source": [
    "# Calculate a climatology\n",
    "\n",
    "Based on the control run, calculate monthly anomalies"
   ]
  },
  {
   "cell_type": "code",
   "execution_count": null,
   "metadata": {
    "tags": []
   },
   "outputs": [],
   "source": [
    "preclDa = fh.loadModelData('CESM-LME', 'PRECL', _model.cesmCntl)\n",
    "preccDa = fh.loadModelData('CESM-LME', 'PRECC', _model.cesmCntl)\n",
    "\n",
    "\n",
    "prectDa = (preclDa.PRECL+preccDa.PRECC)\n",
    "prectDa.name='prect'"
   ]
  },
  {
   "cell_type": "code",
   "execution_count": null,
   "metadata": {},
   "outputs": [],
   "source": [
    "monMeansDa=prectDa.groupby('time.month').mean(dim='time')\n",
    "\n",
    "monMeansDa.where(\n",
    "        (monMeansDa.lat>-50) & (monMeansDa.lat<0) & (monMeansDa.lon>100) & (monMeansDa.lon<170),\n",
    "        drop=True\n",
    "    ).load()"
   ]
  },
  {
   "cell_type": "markdown",
   "metadata": {},
   "source": [
    "# Carve out an area of interest, and calculate anomalies"
   ]
  },
  {
   "cell_type": "code",
   "execution_count": null,
   "metadata": {},
   "outputs": [],
   "source": [
    "\n",
    "for experiment in [*_model.cesmFullForcings, _model.cesmCntl]:\n",
    "    \n",
    "    #load it\n",
    "    preclDa = fh.loadModelData('CESM-LME', 'PRECL', experiment)\n",
    "    preccDa = fh.loadModelData('CESM-LME', 'PRECC', experiment)\n",
    "    prectDa = (preclDa.PRECL+preccDa.PRECC)\n",
    "    prectDa.name='prect'\n",
    "    \n",
    "    #anom\n",
    "    anomDa=prectDa.groupby('time.month')-monMeansDa\n",
    "    anomDa.name='precAnom'\n",
    "        \n",
    "    #grab area around Australia\n",
    "    domainDa=anomDa.where(\n",
    "        (anomDa.lat>-50) & (anomDa.lat<0) & (anomDa.lon>100) & (anomDa.lon<170),\n",
    "        drop=True\n",
    "    )\n",
    "    \n",
    "    # convert to mm/year and store\n",
    "    domainDa.to_netcdf('results/cesmMonthlyPrec/'+experiment+'.nc')\n",
    "    \n",
    "     #rcp85 extensions\n",
    "    if experiment in ['002','003', '008', '009']: \n",
    "        \n",
    "        #extensions\n",
    "        preclDa = fh.loadModelData('CESM-LME', 'PRECL', 'LME.'+experiment)\n",
    "        preccDa = fh.loadModelData('CESM-LME', 'PRECC', 'LME.'+experiment)\n",
    "        extPrectDa = (preclDa.PRECL+preccDa.PRECC)\n",
    "        extPrectDa.name='prect'\n",
    "        \n",
    "        prectDa = xarray.concat([prectDa, extPrectDa], 'time')\n",
    "\n",
    "\n",
    "        #anom\n",
    "        anomDa=prectDa.groupby('time.month')-monMeansDa\n",
    "        anomDa.name='precAnom'\n",
    "\n",
    "        #grab area around Australia\n",
    "        domainDa=anomDa.where(\n",
    "            (anomDa.lat>-50) & (anomDa.lat<0) & (anomDa.lon>100) & (anomDa.lon<170),\n",
    "            drop=True\n",
    "        )\n",
    "\n",
    "        #  store\n",
    "        domainDa.to_netcdf('results/cesmMonthlyPrec/LME.'+experiment+'.nc')\n",
    "        \n",
    "    \n",
    "    "
   ]
  },
  {
   "cell_type": "markdown",
   "metadata": {},
   "source": [
    "# Time averaging for the anomalies"
   ]
  },
  {
   "cell_type": "code",
   "execution_count": null,
   "metadata": {},
   "outputs": [],
   "source": [
    "monthlyAnomDa=xarray.concat([\n",
    "    xarray.open_dataset('results/cesmMonthlyPrec/'+iExp+'.nc') for iExp in _model.cesmAll],\n",
    "    'experiment')\n",
    "    \n",
    "\n",
    "monthlyAnomDa=monthlyAnomDa.assign({'experiment':_model.cesmAll})\n",
    "\n",
    "\n",
    "warmSeasonAnomDa=secondsToTimeP*tp.averageForTimePeriod(monthlyAnomDa)\n",
    "warmSeasonAnomDa = warmSeasonAnomDa.assign_attrs([*warmSeasonAnomDa.attrs, ('units','mm/month'), ('timePeriod','Warm Season')])"
   ]
  },
  {
   "cell_type": "code",
   "execution_count": null,
   "metadata": {},
   "outputs": [],
   "source": [
    "warmSeasonAnomDa.to_netcdf('results/cesmPrecAnoms.nc')"
   ]
  },
  {
   "cell_type": "markdown",
   "metadata": {},
   "source": [
    "# Do that all again for Ts"
   ]
  },
  {
   "cell_type": "code",
   "execution_count": null,
   "metadata": {
    "tags": []
   },
   "outputs": [],
   "source": [
    "tsDa = fh.loadModelData('CESM-LME', 'TS', _model.cesmCntl)\n",
    "\n",
    "monMeansDa=tsDa.TS.groupby('time.month').mean(dim='time')\n",
    "\n",
    "monMeansDa.where(\n",
    "        (monMeansDa.lat>-50) & (monMeansDa.lat<0) & (monMeansDa.lon>100) & (monMeansDa.lon<170),\n",
    "        drop=True\n",
    "    ).load()"
   ]
  },
  {
   "cell_type": "markdown",
   "metadata": {},
   "source": [
    "# Carve out an area of interest, and calculate anomalies"
   ]
  },
  {
   "cell_type": "code",
   "execution_count": null,
   "metadata": {},
   "outputs": [],
   "source": [
    "\n",
    "for experiment in [*_model.cesmFullForcings, _model.cesmCntl]: #\n",
    "    \n",
    "    #load it\n",
    "    tsDa = fh.loadModelData('CESM-LME', 'TS', experiment).TS\n",
    "    \n",
    "    #anom\n",
    "    anomDa=tsDa.groupby('time.month')-monMeansDa\n",
    "    anomDa.name='tsAnom'\n",
    "        \n",
    "    #grab area around Australia\n",
    "    domainDa=anomDa.where(\n",
    "        (anomDa.lat>-50) & (anomDa.lat<0) & (anomDa.lon>100) & (anomDa.lon<170),\n",
    "        drop=True\n",
    "    )\n",
    "    \n",
    "    # convert to mm/year and store\n",
    "    domainDa.to_netcdf('results/cesmMonthlyTs/'+experiment+'.nc')\n",
    "    \n",
    "     #rcp85 extensions\n",
    "    if experiment in ['002','003', '008', '009']: \n",
    "        \n",
    "        #extensions\n",
    "        extTsDa = fh.loadModelData('CESM-LME', 'TS', 'LME.'+experiment)\n",
    "        tsDa=xarray.concat([tsDa, extTsDa.TS], 'time')\n",
    "\n",
    "        #anom\n",
    "        anomDa=tsDa.groupby('time.month')-monMeansDa\n",
    "        anomDa.name='tsAnom'\n",
    "\n",
    "        #grab area around Australia\n",
    "        domainDa=anomDa.where(\n",
    "            (anomDa.lat>-50) & (anomDa.lat<0) & (anomDa.lon>100) & (anomDa.lon<170),\n",
    "            drop=True\n",
    "        )\n",
    "\n",
    "        domainDa.to_netcdf('results/cesmMonthlyTs/LME.'+experiment+'.nc')\n",
    "        \n",
    "    \n",
    "    "
   ]
  },
  {
   "cell_type": "markdown",
   "metadata": {},
   "source": [
    "# Time averaging for the anomalies"
   ]
  },
  {
   "cell_type": "code",
   "execution_count": null,
   "metadata": {},
   "outputs": [],
   "source": [
    "monthlyAnomDa=xarray.concat([\n",
    "    xarray.open_dataset('results/cesmMonthlyTs/'+iExp+'.nc') for iExp in _model.cesmAll],\n",
    "    'experiment')\n",
    "    \n",
    "\n",
    "monthlyAnomDa=monthlyAnomDa.assign({'experiment':_model.cesmAll})\n",
    "\n",
    "warmSeasonAnomDa=tp.averageForTimePeriod(monthlyAnomDa)\n",
    "\n",
    "warmSeasonAnomDa.to_netcdf('results/cesmTsAnoms.nc')"
   ]
  },
  {
   "cell_type": "code",
   "execution_count": null,
   "metadata": {},
   "outputs": [],
   "source": []
  }
 ],
 "metadata": {
  "kernelspec": {
   "display_name": "Python 3",
   "language": "python",
   "name": "python3"
  },
  "language_info": {
   "codemirror_mode": {
    "name": "ipython",
    "version": 3
   },
   "file_extension": ".py",
   "mimetype": "text/x-python",
   "name": "python",
   "nbconvert_exporter": "python",
   "pygments_lexer": "ipython3",
   "version": "3.8.5"
  }
 },
 "nbformat": 4,
 "nbformat_minor": 5
}
