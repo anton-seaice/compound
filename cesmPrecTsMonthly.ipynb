{
 "cells": [
  {
   "cell_type": "markdown",
   "id": "d57682e4-50ec-4aa2-8f47-5c9242f2d3ea",
   "metadata": {},
   "source": [
    "# cesm Rainfall Anomalies"
   ]
  },
  {
   "cell_type": "code",
   "execution_count": 1,
   "id": "34c944c4-8237-429c-b8c4-08a3d70a6434",
   "metadata": {
    "tags": []
   },
   "outputs": [],
   "source": [
    "#import my functions\n",
    "import helpers.fileHandler as fh\n",
    "import utils._modelDefinitions as _model\n",
    "import utils.timePeriod as tp"
   ]
  },
  {
   "cell_type": "code",
   "execution_count": 2,
   "id": "01befd55-6b9d-4103-abe0-1f1bf265235f",
   "metadata": {},
   "outputs": [],
   "source": [
    "import xarray\n",
    "import numpy\n",
    "import cftime\n",
    "import cartopy.crs as ccrs\n",
    "import matplotlib.pyplot as plt"
   ]
  },
  {
   "cell_type": "code",
   "execution_count": 3,
   "id": "54eba285-8f3f-4653-9e14-6b7f3c94171f",
   "metadata": {},
   "outputs": [],
   "source": [
    "secondsPerYear = 60*60*24*265\n"
   ]
  },
  {
   "cell_type": "markdown",
   "id": "18364334-6c75-4955-a5cb-aea46edd7951",
   "metadata": {},
   "source": [
    "# Calculate a climatology\n",
    "\n",
    "Based on the control run, calculate monthly anomalies"
   ]
  },
  {
   "cell_type": "code",
   "execution_count": 4,
   "id": "a48dca87-9740-4704-b03f-03e5d3dc79fd",
   "metadata": {
    "tags": []
   },
   "outputs": [
    {
     "name": "stdout",
     "output_type": "stream",
     "text": [
      "/Volumes/Untitled/CMIP5-PMIP3/CESM-LME/mon/PRECL/\n",
      "Files imported: \n",
      " ['/Volumes/Untitled/CMIP5-PMIP3/CESM-LME/mon/PRECL/b.e11.B1850C5CN.f19_g16.0850cntl.001.cam.h0.PRECL.085001-184912.nc', '/Volumes/Untitled/CMIP5-PMIP3/CESM-LME/mon/PRECL/b.e11.B1850C5CN.f19_g16.0850cntl.001.cam.h0.PRECL.185001-200512.nc']\n",
      "/Volumes/Untitled/CMIP5-PMIP3/CESM-LME/mon/PRECC/\n",
      "Files imported: \n",
      " ['/Volumes/Untitled/CMIP5-PMIP3/CESM-LME/mon/PRECC/b.e11.B1850C5CN.f19_g16.0850cntl.001.cam.h0.PRECC.085001-184912.nc', '/Volumes/Untitled/CMIP5-PMIP3/CESM-LME/mon/PRECC/b.e11.B1850C5CN.f19_g16.0850cntl.001.cam.h0.PRECC.185001-200512.nc']\n"
     ]
    }
   ],
   "source": [
    "preclDa = fh.loadModelData('CESM-LME', 'PRECL', _model.cesmCntl)\n",
    "preccDa = fh.loadModelData('CESM-LME', 'PRECC', _model.cesmCntl)\n"
   ]
  },
  {
   "cell_type": "code",
   "execution_count": 5,
   "id": "4e71976b-8769-4ff5-ba55-8007b076fc43",
   "metadata": {},
   "outputs": [],
   "source": [
    "prectDa = secondsPerYear*1000*(preclDa.PRECL+preccDa.PRECC)\n",
    "prectDa.name='prect'"
   ]
  },
  {
   "cell_type": "code",
   "execution_count": 6,
   "id": "4cd616ca-c7f7-4899-93f1-1d534ca3c8b7",
   "metadata": {},
   "outputs": [],
   "source": [
    "monMeansDa=prectDa.groupby('time.month').mean(dim='time')"
   ]
  },
  {
   "cell_type": "code",
   "execution_count": 7,
   "id": "8e4b28b6-2931-49f3-b586-2c55b933a244",
   "metadata": {},
   "outputs": [
    {
     "data": {
      "text/html": [
       "<div><svg style=\"position: absolute; width: 0; height: 0; overflow: hidden\">\n",
       "<defs>\n",
       "<symbol id=\"icon-database\" viewBox=\"0 0 32 32\">\n",
       "<path d=\"M16 0c-8.837 0-16 2.239-16 5v4c0 2.761 7.163 5 16 5s16-2.239 16-5v-4c0-2.761-7.163-5-16-5z\"></path>\n",
       "<path d=\"M16 17c-8.837 0-16-2.239-16-5v6c0 2.761 7.163 5 16 5s16-2.239 16-5v-6c0 2.761-7.163 5-16 5z\"></path>\n",
       "<path d=\"M16 26c-8.837 0-16-2.239-16-5v6c0 2.761 7.163 5 16 5s16-2.239 16-5v-6c0 2.761-7.163 5-16 5z\"></path>\n",
       "</symbol>\n",
       "<symbol id=\"icon-file-text2\" viewBox=\"0 0 32 32\">\n",
       "<path d=\"M28.681 7.159c-0.694-0.947-1.662-2.053-2.724-3.116s-2.169-2.030-3.116-2.724c-1.612-1.182-2.393-1.319-2.841-1.319h-15.5c-1.378 0-2.5 1.121-2.5 2.5v27c0 1.378 1.122 2.5 2.5 2.5h23c1.378 0 2.5-1.122 2.5-2.5v-19.5c0-0.448-0.137-1.23-1.319-2.841zM24.543 5.457c0.959 0.959 1.712 1.825 2.268 2.543h-4.811v-4.811c0.718 0.556 1.584 1.309 2.543 2.268zM28 29.5c0 0.271-0.229 0.5-0.5 0.5h-23c-0.271 0-0.5-0.229-0.5-0.5v-27c0-0.271 0.229-0.5 0.5-0.5 0 0 15.499-0 15.5 0v7c0 0.552 0.448 1 1 1h7v19.5z\"></path>\n",
       "<path d=\"M23 26h-14c-0.552 0-1-0.448-1-1s0.448-1 1-1h14c0.552 0 1 0.448 1 1s-0.448 1-1 1z\"></path>\n",
       "<path d=\"M23 22h-14c-0.552 0-1-0.448-1-1s0.448-1 1-1h14c0.552 0 1 0.448 1 1s-0.448 1-1 1z\"></path>\n",
       "<path d=\"M23 18h-14c-0.552 0-1-0.448-1-1s0.448-1 1-1h14c0.552 0 1 0.448 1 1s-0.448 1-1 1z\"></path>\n",
       "</symbol>\n",
       "</defs>\n",
       "</svg>\n",
       "<style>/* CSS stylesheet for displaying xarray objects in jupyterlab.\n",
       " *\n",
       " */\n",
       "\n",
       ":root {\n",
       "  --xr-font-color0: var(--jp-content-font-color0, rgba(0, 0, 0, 1));\n",
       "  --xr-font-color2: var(--jp-content-font-color2, rgba(0, 0, 0, 0.54));\n",
       "  --xr-font-color3: var(--jp-content-font-color3, rgba(0, 0, 0, 0.38));\n",
       "  --xr-border-color: var(--jp-border-color2, #e0e0e0);\n",
       "  --xr-disabled-color: var(--jp-layout-color3, #bdbdbd);\n",
       "  --xr-background-color: var(--jp-layout-color0, white);\n",
       "  --xr-background-color-row-even: var(--jp-layout-color1, white);\n",
       "  --xr-background-color-row-odd: var(--jp-layout-color2, #eeeeee);\n",
       "}\n",
       "\n",
       "html[theme=dark],\n",
       "body.vscode-dark {\n",
       "  --xr-font-color0: rgba(255, 255, 255, 1);\n",
       "  --xr-font-color2: rgba(255, 255, 255, 0.54);\n",
       "  --xr-font-color3: rgba(255, 255, 255, 0.38);\n",
       "  --xr-border-color: #1F1F1F;\n",
       "  --xr-disabled-color: #515151;\n",
       "  --xr-background-color: #111111;\n",
       "  --xr-background-color-row-even: #111111;\n",
       "  --xr-background-color-row-odd: #313131;\n",
       "}\n",
       "\n",
       ".xr-wrap {\n",
       "  display: block;\n",
       "  min-width: 300px;\n",
       "  max-width: 700px;\n",
       "}\n",
       "\n",
       ".xr-text-repr-fallback {\n",
       "  /* fallback to plain text repr when CSS is not injected (untrusted notebook) */\n",
       "  display: none;\n",
       "}\n",
       "\n",
       ".xr-header {\n",
       "  padding-top: 6px;\n",
       "  padding-bottom: 6px;\n",
       "  margin-bottom: 4px;\n",
       "  border-bottom: solid 1px var(--xr-border-color);\n",
       "}\n",
       "\n",
       ".xr-header > div,\n",
       ".xr-header > ul {\n",
       "  display: inline;\n",
       "  margin-top: 0;\n",
       "  margin-bottom: 0;\n",
       "}\n",
       "\n",
       ".xr-obj-type,\n",
       ".xr-array-name {\n",
       "  margin-left: 2px;\n",
       "  margin-right: 10px;\n",
       "}\n",
       "\n",
       ".xr-obj-type {\n",
       "  color: var(--xr-font-color2);\n",
       "}\n",
       "\n",
       ".xr-sections {\n",
       "  padding-left: 0 !important;\n",
       "  display: grid;\n",
       "  grid-template-columns: 150px auto auto 1fr 20px 20px;\n",
       "}\n",
       "\n",
       ".xr-section-item {\n",
       "  display: contents;\n",
       "}\n",
       "\n",
       ".xr-section-item input {\n",
       "  display: none;\n",
       "}\n",
       "\n",
       ".xr-section-item input + label {\n",
       "  color: var(--xr-disabled-color);\n",
       "}\n",
       "\n",
       ".xr-section-item input:enabled + label {\n",
       "  cursor: pointer;\n",
       "  color: var(--xr-font-color2);\n",
       "}\n",
       "\n",
       ".xr-section-item input:enabled + label:hover {\n",
       "  color: var(--xr-font-color0);\n",
       "}\n",
       "\n",
       ".xr-section-summary {\n",
       "  grid-column: 1;\n",
       "  color: var(--xr-font-color2);\n",
       "  font-weight: 500;\n",
       "}\n",
       "\n",
       ".xr-section-summary > span {\n",
       "  display: inline-block;\n",
       "  padding-left: 0.5em;\n",
       "}\n",
       "\n",
       ".xr-section-summary-in:disabled + label {\n",
       "  color: var(--xr-font-color2);\n",
       "}\n",
       "\n",
       ".xr-section-summary-in + label:before {\n",
       "  display: inline-block;\n",
       "  content: '►';\n",
       "  font-size: 11px;\n",
       "  width: 15px;\n",
       "  text-align: center;\n",
       "}\n",
       "\n",
       ".xr-section-summary-in:disabled + label:before {\n",
       "  color: var(--xr-disabled-color);\n",
       "}\n",
       "\n",
       ".xr-section-summary-in:checked + label:before {\n",
       "  content: '▼';\n",
       "}\n",
       "\n",
       ".xr-section-summary-in:checked + label > span {\n",
       "  display: none;\n",
       "}\n",
       "\n",
       ".xr-section-summary,\n",
       ".xr-section-inline-details {\n",
       "  padding-top: 4px;\n",
       "  padding-bottom: 4px;\n",
       "}\n",
       "\n",
       ".xr-section-inline-details {\n",
       "  grid-column: 2 / -1;\n",
       "}\n",
       "\n",
       ".xr-section-details {\n",
       "  display: none;\n",
       "  grid-column: 1 / -1;\n",
       "  margin-bottom: 5px;\n",
       "}\n",
       "\n",
       ".xr-section-summary-in:checked ~ .xr-section-details {\n",
       "  display: contents;\n",
       "}\n",
       "\n",
       ".xr-array-wrap {\n",
       "  grid-column: 1 / -1;\n",
       "  display: grid;\n",
       "  grid-template-columns: 20px auto;\n",
       "}\n",
       "\n",
       ".xr-array-wrap > label {\n",
       "  grid-column: 1;\n",
       "  vertical-align: top;\n",
       "}\n",
       "\n",
       ".xr-preview {\n",
       "  color: var(--xr-font-color3);\n",
       "}\n",
       "\n",
       ".xr-array-preview,\n",
       ".xr-array-data {\n",
       "  padding: 0 5px !important;\n",
       "  grid-column: 2;\n",
       "}\n",
       "\n",
       ".xr-array-data,\n",
       ".xr-array-in:checked ~ .xr-array-preview {\n",
       "  display: none;\n",
       "}\n",
       "\n",
       ".xr-array-in:checked ~ .xr-array-data,\n",
       ".xr-array-preview {\n",
       "  display: inline-block;\n",
       "}\n",
       "\n",
       ".xr-dim-list {\n",
       "  display: inline-block !important;\n",
       "  list-style: none;\n",
       "  padding: 0 !important;\n",
       "  margin: 0;\n",
       "}\n",
       "\n",
       ".xr-dim-list li {\n",
       "  display: inline-block;\n",
       "  padding: 0;\n",
       "  margin: 0;\n",
       "}\n",
       "\n",
       ".xr-dim-list:before {\n",
       "  content: '(';\n",
       "}\n",
       "\n",
       ".xr-dim-list:after {\n",
       "  content: ')';\n",
       "}\n",
       "\n",
       ".xr-dim-list li:not(:last-child):after {\n",
       "  content: ',';\n",
       "  padding-right: 5px;\n",
       "}\n",
       "\n",
       ".xr-has-index {\n",
       "  font-weight: bold;\n",
       "}\n",
       "\n",
       ".xr-var-list,\n",
       ".xr-var-item {\n",
       "  display: contents;\n",
       "}\n",
       "\n",
       ".xr-var-item > div,\n",
       ".xr-var-item label,\n",
       ".xr-var-item > .xr-var-name span {\n",
       "  background-color: var(--xr-background-color-row-even);\n",
       "  margin-bottom: 0;\n",
       "}\n",
       "\n",
       ".xr-var-item > .xr-var-name:hover span {\n",
       "  padding-right: 5px;\n",
       "}\n",
       "\n",
       ".xr-var-list > li:nth-child(odd) > div,\n",
       ".xr-var-list > li:nth-child(odd) > label,\n",
       ".xr-var-list > li:nth-child(odd) > .xr-var-name span {\n",
       "  background-color: var(--xr-background-color-row-odd);\n",
       "}\n",
       "\n",
       ".xr-var-name {\n",
       "  grid-column: 1;\n",
       "}\n",
       "\n",
       ".xr-var-dims {\n",
       "  grid-column: 2;\n",
       "}\n",
       "\n",
       ".xr-var-dtype {\n",
       "  grid-column: 3;\n",
       "  text-align: right;\n",
       "  color: var(--xr-font-color2);\n",
       "}\n",
       "\n",
       ".xr-var-preview {\n",
       "  grid-column: 4;\n",
       "}\n",
       "\n",
       ".xr-var-name,\n",
       ".xr-var-dims,\n",
       ".xr-var-dtype,\n",
       ".xr-preview,\n",
       ".xr-attrs dt {\n",
       "  white-space: nowrap;\n",
       "  overflow: hidden;\n",
       "  text-overflow: ellipsis;\n",
       "  padding-right: 10px;\n",
       "}\n",
       "\n",
       ".xr-var-name:hover,\n",
       ".xr-var-dims:hover,\n",
       ".xr-var-dtype:hover,\n",
       ".xr-attrs dt:hover {\n",
       "  overflow: visible;\n",
       "  width: auto;\n",
       "  z-index: 1;\n",
       "}\n",
       "\n",
       ".xr-var-attrs,\n",
       ".xr-var-data {\n",
       "  display: none;\n",
       "  background-color: var(--xr-background-color) !important;\n",
       "  padding-bottom: 5px !important;\n",
       "}\n",
       "\n",
       ".xr-var-attrs-in:checked ~ .xr-var-attrs,\n",
       ".xr-var-data-in:checked ~ .xr-var-data {\n",
       "  display: block;\n",
       "}\n",
       "\n",
       ".xr-var-data > table {\n",
       "  float: right;\n",
       "}\n",
       "\n",
       ".xr-var-name span,\n",
       ".xr-var-data,\n",
       ".xr-attrs {\n",
       "  padding-left: 25px !important;\n",
       "}\n",
       "\n",
       ".xr-attrs,\n",
       ".xr-var-attrs,\n",
       ".xr-var-data {\n",
       "  grid-column: 1 / -1;\n",
       "}\n",
       "\n",
       "dl.xr-attrs {\n",
       "  padding: 0;\n",
       "  margin: 0;\n",
       "  display: grid;\n",
       "  grid-template-columns: 125px auto;\n",
       "}\n",
       "\n",
       ".xr-attrs dt,\n",
       ".xr-attrs dd {\n",
       "  padding: 0;\n",
       "  margin: 0;\n",
       "  float: left;\n",
       "  padding-right: 10px;\n",
       "  width: auto;\n",
       "}\n",
       "\n",
       ".xr-attrs dt {\n",
       "  font-weight: normal;\n",
       "  grid-column: 1;\n",
       "}\n",
       "\n",
       ".xr-attrs dt:hover span {\n",
       "  display: inline-block;\n",
       "  background: var(--xr-background-color);\n",
       "  padding-right: 10px;\n",
       "}\n",
       "\n",
       ".xr-attrs dd {\n",
       "  grid-column: 2;\n",
       "  white-space: pre-wrap;\n",
       "  word-break: break-all;\n",
       "}\n",
       "\n",
       ".xr-icon-database,\n",
       ".xr-icon-file-text2 {\n",
       "  display: inline-block;\n",
       "  vertical-align: middle;\n",
       "  width: 1em;\n",
       "  height: 1.5em !important;\n",
       "  stroke-width: 0;\n",
       "  stroke: currentColor;\n",
       "  fill: currentColor;\n",
       "}\n",
       "</style><pre class='xr-text-repr-fallback'>&lt;xarray.DataArray &#x27;prect&#x27; (month: 12, lat: 26, lon: 27)&gt;\n",
       "array([[[ 763.69805156,  757.75534318,  751.47624798, ...,\n",
       "          885.25836442,  958.89796877,  889.5726255 ],\n",
       "        [ 688.31789072,  675.6742535 ,  662.53451572, ...,\n",
       "          866.44817055, 1027.83254365, 1044.94286848],\n",
       "        [ 561.20867606,  540.20319927,  516.95852929, ...,\n",
       "          805.82914213,  981.15950034, 1288.15417009],\n",
       "        ...,\n",
       "        [2861.6862604 , 2435.61184833, 2773.40120587, ...,\n",
       "         1309.69478306, 1233.65941629, 1147.78878939],\n",
       "        [2031.83800408, 1927.15172378, 2975.43715116, ...,\n",
       "          923.26527926,  855.87297929,  785.68181271],\n",
       "        [1823.60347603, 2817.30335115, 3094.85197986, ...,\n",
       "          841.63462923,  781.48285288,  719.6440953 ]],\n",
       "\n",
       "       [[ 781.18947878,  777.86764137,  775.88703932, ...,\n",
       "          912.47195855,  989.3705431 ,  912.68660719],\n",
       "        [ 670.12317429,  662.6142966 ,  657.23456494, ...,\n",
       "          878.56376618, 1041.07527277, 1037.24311717],\n",
       "        [ 534.73394347,  520.82015688,  504.4625048 , ...,\n",
       "          808.61879906,  973.54823952, 1253.93449071],\n",
       "...\n",
       "        [2443.09180607, 2273.7430156 , 2248.62140411, ...,\n",
       "         1204.10264652, 1143.59849667, 1083.13364176],\n",
       "        [2188.30650996, 1876.10816905, 2466.68649598, ...,\n",
       "          798.93587833,  736.17153084,  678.48953568],\n",
       "        [1801.70642082, 2384.45331944, 2432.77487951, ...,\n",
       "          624.89586268,  572.32863621,  520.27233451]],\n",
       "\n",
       "       [[ 705.43318423,  695.22166309,  686.55058045, ...,\n",
       "          822.62372035,  898.53537974,  837.71939166],\n",
       "        [ 652.68828103,  637.23513959,  619.57863555, ...,\n",
       "          825.27465101,  987.79656827,  984.51896041],\n",
       "        [ 553.76785018,  529.23397362,  503.46063954, ...,\n",
       "          793.67832023,  971.76363378, 1260.24188962],\n",
       "        ...,\n",
       "        [2632.50842435, 2336.91084747, 2641.30651775, ...,\n",
       "         1114.66428148, 1072.03335499, 1023.57898123],\n",
       "        [2090.66344273, 1820.1882523 , 2779.44246193, ...,\n",
       "          751.91288186,  705.11663274,  657.49068273],\n",
       "        [1786.56492944, 2609.5332498 , 2812.36629296, ...,\n",
       "          640.88952357,  594.229914  ,  545.29371632]]])\n",
       "Coordinates:\n",
       "  * lat      (lat) float64 -48.32 -46.42 -44.53 -42.63 ... -4.737 -2.842 -0.9474\n",
       "  * lon      (lon) float64 102.5 105.0 107.5 110.0 ... 160.0 162.5 165.0 167.5\n",
       "  * month    (month) int64 1 2 3 4 5 6 7 8 9 10 11 12</pre><div class='xr-wrap' hidden><div class='xr-header'><div class='xr-obj-type'>xarray.DataArray</div><div class='xr-array-name'>'prect'</div><ul class='xr-dim-list'><li><span class='xr-has-index'>month</span>: 12</li><li><span class='xr-has-index'>lat</span>: 26</li><li><span class='xr-has-index'>lon</span>: 27</li></ul></div><ul class='xr-sections'><li class='xr-section-item'><div class='xr-array-wrap'><input id='section-89db25db-4683-4a74-ad24-6d31923ef459' class='xr-array-in' type='checkbox' checked><label for='section-89db25db-4683-4a74-ad24-6d31923ef459' title='Show/hide data repr'><svg class='icon xr-icon-database'><use xlink:href='#icon-database'></use></svg></label><div class='xr-array-preview xr-preview'><span>763.7 757.8 751.5 746.0 742.2 733.9 ... 714.1 680.7 640.9 594.2 545.3</span></div><div class='xr-array-data'><pre>array([[[ 763.69805156,  757.75534318,  751.47624798, ...,\n",
       "          885.25836442,  958.89796877,  889.5726255 ],\n",
       "        [ 688.31789072,  675.6742535 ,  662.53451572, ...,\n",
       "          866.44817055, 1027.83254365, 1044.94286848],\n",
       "        [ 561.20867606,  540.20319927,  516.95852929, ...,\n",
       "          805.82914213,  981.15950034, 1288.15417009],\n",
       "        ...,\n",
       "        [2861.6862604 , 2435.61184833, 2773.40120587, ...,\n",
       "         1309.69478306, 1233.65941629, 1147.78878939],\n",
       "        [2031.83800408, 1927.15172378, 2975.43715116, ...,\n",
       "          923.26527926,  855.87297929,  785.68181271],\n",
       "        [1823.60347603, 2817.30335115, 3094.85197986, ...,\n",
       "          841.63462923,  781.48285288,  719.6440953 ]],\n",
       "\n",
       "       [[ 781.18947878,  777.86764137,  775.88703932, ...,\n",
       "          912.47195855,  989.3705431 ,  912.68660719],\n",
       "        [ 670.12317429,  662.6142966 ,  657.23456494, ...,\n",
       "          878.56376618, 1041.07527277, 1037.24311717],\n",
       "        [ 534.73394347,  520.82015688,  504.4625048 , ...,\n",
       "          808.61879906,  973.54823952, 1253.93449071],\n",
       "...\n",
       "        [2443.09180607, 2273.7430156 , 2248.62140411, ...,\n",
       "         1204.10264652, 1143.59849667, 1083.13364176],\n",
       "        [2188.30650996, 1876.10816905, 2466.68649598, ...,\n",
       "          798.93587833,  736.17153084,  678.48953568],\n",
       "        [1801.70642082, 2384.45331944, 2432.77487951, ...,\n",
       "          624.89586268,  572.32863621,  520.27233451]],\n",
       "\n",
       "       [[ 705.43318423,  695.22166309,  686.55058045, ...,\n",
       "          822.62372035,  898.53537974,  837.71939166],\n",
       "        [ 652.68828103,  637.23513959,  619.57863555, ...,\n",
       "          825.27465101,  987.79656827,  984.51896041],\n",
       "        [ 553.76785018,  529.23397362,  503.46063954, ...,\n",
       "          793.67832023,  971.76363378, 1260.24188962],\n",
       "        ...,\n",
       "        [2632.50842435, 2336.91084747, 2641.30651775, ...,\n",
       "         1114.66428148, 1072.03335499, 1023.57898123],\n",
       "        [2090.66344273, 1820.1882523 , 2779.44246193, ...,\n",
       "          751.91288186,  705.11663274,  657.49068273],\n",
       "        [1786.56492944, 2609.5332498 , 2812.36629296, ...,\n",
       "          640.88952357,  594.229914  ,  545.29371632]]])</pre></div></div></li><li class='xr-section-item'><input id='section-faef37d6-3a42-4218-96a7-3692f76f2764' class='xr-section-summary-in' type='checkbox'  checked><label for='section-faef37d6-3a42-4218-96a7-3692f76f2764' class='xr-section-summary' >Coordinates: <span>(3)</span></label><div class='xr-section-inline-details'></div><div class='xr-section-details'><ul class='xr-var-list'><li class='xr-var-item'><div class='xr-var-name'><span class='xr-has-index'>lat</span></div><div class='xr-var-dims'>(lat)</div><div class='xr-var-dtype'>float64</div><div class='xr-var-preview xr-preview'>-48.32 -46.42 ... -2.842 -0.9474</div><input id='attrs-53051e6a-831f-44af-a2db-620ca718218d' class='xr-var-attrs-in' type='checkbox' ><label for='attrs-53051e6a-831f-44af-a2db-620ca718218d' title='Show/Hide attributes'><svg class='icon xr-icon-file-text2'><use xlink:href='#icon-file-text2'></use></svg></label><input id='data-97281c30-1292-473c-9e6d-345bd7bef8d0' class='xr-var-data-in' type='checkbox'><label for='data-97281c30-1292-473c-9e6d-345bd7bef8d0' title='Show/Hide data repr'><svg class='icon xr-icon-database'><use xlink:href='#icon-database'></use></svg></label><div class='xr-var-attrs'><dl class='xr-attrs'><dt><span>long_name :</span></dt><dd>latitude</dd><dt><span>units :</span></dt><dd>degrees_north</dd></dl></div><div class='xr-var-data'><pre>array([-48.315789, -46.421053, -44.526316, -42.631579, -40.736842, -38.842105,\n",
       "       -36.947368, -35.052632, -33.157895, -31.263158, -29.368421, -27.473684,\n",
       "       -25.578947, -23.684211, -21.789474, -19.894737, -18.      , -16.105263,\n",
       "       -14.210526, -12.315789, -10.421053,  -8.526316,  -6.631579,  -4.736842,\n",
       "        -2.842105,  -0.947368])</pre></div></li><li class='xr-var-item'><div class='xr-var-name'><span class='xr-has-index'>lon</span></div><div class='xr-var-dims'>(lon)</div><div class='xr-var-dtype'>float64</div><div class='xr-var-preview xr-preview'>102.5 105.0 107.5 ... 165.0 167.5</div><input id='attrs-f1d8f6de-915c-447a-b305-2b747caa3ff2' class='xr-var-attrs-in' type='checkbox' ><label for='attrs-f1d8f6de-915c-447a-b305-2b747caa3ff2' title='Show/Hide attributes'><svg class='icon xr-icon-file-text2'><use xlink:href='#icon-file-text2'></use></svg></label><input id='data-aeb35c64-71b5-4ae7-a7b8-d261ae92eeb5' class='xr-var-data-in' type='checkbox'><label for='data-aeb35c64-71b5-4ae7-a7b8-d261ae92eeb5' title='Show/Hide data repr'><svg class='icon xr-icon-database'><use xlink:href='#icon-database'></use></svg></label><div class='xr-var-attrs'><dl class='xr-attrs'><dt><span>long_name :</span></dt><dd>longitude</dd><dt><span>units :</span></dt><dd>degrees_east</dd></dl></div><div class='xr-var-data'><pre>array([102.5, 105. , 107.5, 110. , 112.5, 115. , 117.5, 120. , 122.5, 125. ,\n",
       "       127.5, 130. , 132.5, 135. , 137.5, 140. , 142.5, 145. , 147.5, 150. ,\n",
       "       152.5, 155. , 157.5, 160. , 162.5, 165. , 167.5])</pre></div></li><li class='xr-var-item'><div class='xr-var-name'><span class='xr-has-index'>month</span></div><div class='xr-var-dims'>(month)</div><div class='xr-var-dtype'>int64</div><div class='xr-var-preview xr-preview'>1 2 3 4 5 6 7 8 9 10 11 12</div><input id='attrs-b484443a-6688-402a-8288-9be33658ec87' class='xr-var-attrs-in' type='checkbox' disabled><label for='attrs-b484443a-6688-402a-8288-9be33658ec87' title='Show/Hide attributes'><svg class='icon xr-icon-file-text2'><use xlink:href='#icon-file-text2'></use></svg></label><input id='data-06d17704-8160-467a-aa52-4f7bb0863de4' class='xr-var-data-in' type='checkbox'><label for='data-06d17704-8160-467a-aa52-4f7bb0863de4' title='Show/Hide data repr'><svg class='icon xr-icon-database'><use xlink:href='#icon-database'></use></svg></label><div class='xr-var-attrs'><dl class='xr-attrs'></dl></div><div class='xr-var-data'><pre>array([ 1,  2,  3,  4,  5,  6,  7,  8,  9, 10, 11, 12])</pre></div></li></ul></div></li><li class='xr-section-item'><input id='section-a8850a47-b881-4a4d-beb2-30a99093f242' class='xr-section-summary-in' type='checkbox' disabled ><label for='section-a8850a47-b881-4a4d-beb2-30a99093f242' class='xr-section-summary'  title='Expand/collapse section'>Attributes: <span>(0)</span></label><div class='xr-section-inline-details'></div><div class='xr-section-details'><dl class='xr-attrs'></dl></div></li></ul></div></div>"
      ],
      "text/plain": [
       "<xarray.DataArray 'prect' (month: 12, lat: 26, lon: 27)>\n",
       "array([[[ 763.69805156,  757.75534318,  751.47624798, ...,\n",
       "          885.25836442,  958.89796877,  889.5726255 ],\n",
       "        [ 688.31789072,  675.6742535 ,  662.53451572, ...,\n",
       "          866.44817055, 1027.83254365, 1044.94286848],\n",
       "        [ 561.20867606,  540.20319927,  516.95852929, ...,\n",
       "          805.82914213,  981.15950034, 1288.15417009],\n",
       "        ...,\n",
       "        [2861.6862604 , 2435.61184833, 2773.40120587, ...,\n",
       "         1309.69478306, 1233.65941629, 1147.78878939],\n",
       "        [2031.83800408, 1927.15172378, 2975.43715116, ...,\n",
       "          923.26527926,  855.87297929,  785.68181271],\n",
       "        [1823.60347603, 2817.30335115, 3094.85197986, ...,\n",
       "          841.63462923,  781.48285288,  719.6440953 ]],\n",
       "\n",
       "       [[ 781.18947878,  777.86764137,  775.88703932, ...,\n",
       "          912.47195855,  989.3705431 ,  912.68660719],\n",
       "        [ 670.12317429,  662.6142966 ,  657.23456494, ...,\n",
       "          878.56376618, 1041.07527277, 1037.24311717],\n",
       "        [ 534.73394347,  520.82015688,  504.4625048 , ...,\n",
       "          808.61879906,  973.54823952, 1253.93449071],\n",
       "...\n",
       "        [2443.09180607, 2273.7430156 , 2248.62140411, ...,\n",
       "         1204.10264652, 1143.59849667, 1083.13364176],\n",
       "        [2188.30650996, 1876.10816905, 2466.68649598, ...,\n",
       "          798.93587833,  736.17153084,  678.48953568],\n",
       "        [1801.70642082, 2384.45331944, 2432.77487951, ...,\n",
       "          624.89586268,  572.32863621,  520.27233451]],\n",
       "\n",
       "       [[ 705.43318423,  695.22166309,  686.55058045, ...,\n",
       "          822.62372035,  898.53537974,  837.71939166],\n",
       "        [ 652.68828103,  637.23513959,  619.57863555, ...,\n",
       "          825.27465101,  987.79656827,  984.51896041],\n",
       "        [ 553.76785018,  529.23397362,  503.46063954, ...,\n",
       "          793.67832023,  971.76363378, 1260.24188962],\n",
       "        ...,\n",
       "        [2632.50842435, 2336.91084747, 2641.30651775, ...,\n",
       "         1114.66428148, 1072.03335499, 1023.57898123],\n",
       "        [2090.66344273, 1820.1882523 , 2779.44246193, ...,\n",
       "          751.91288186,  705.11663274,  657.49068273],\n",
       "        [1786.56492944, 2609.5332498 , 2812.36629296, ...,\n",
       "          640.88952357,  594.229914  ,  545.29371632]]])\n",
       "Coordinates:\n",
       "  * lat      (lat) float64 -48.32 -46.42 -44.53 -42.63 ... -4.737 -2.842 -0.9474\n",
       "  * lon      (lon) float64 102.5 105.0 107.5 110.0 ... 160.0 162.5 165.0 167.5\n",
       "  * month    (month) int64 1 2 3 4 5 6 7 8 9 10 11 12"
      ]
     },
     "execution_count": 7,
     "metadata": {},
     "output_type": "execute_result"
    }
   ],
   "source": [
    "monMeansDa.where(\n",
    "        (monMeansDa.lat>-50) & (monMeansDa.lat<0) & (monMeansDa.lon>100) & (monMeansDa.lon<170),\n",
    "        drop=True\n",
    "    ).load()"
   ]
  },
  {
   "cell_type": "markdown",
   "id": "3812e01f-18e1-4cdc-a396-897a5dbbabb4",
   "metadata": {},
   "source": [
    "# Carve out an area of interest, and calculate anomalies"
   ]
  },
  {
   "cell_type": "code",
   "execution_count": 9,
   "id": "cb030338-619d-4723-bd2b-9a555f758617",
   "metadata": {},
   "outputs": [
    {
     "name": "stdout",
     "output_type": "stream",
     "text": [
      "/Volumes/Untitled/CMIP5-PMIP3/CESM-LME/mon/PRECL/\n",
      "Files imported: \n",
      " ['/Volumes/Untitled/CMIP5-PMIP3/CESM-LME/mon/PRECL/b.e11.BLMTRC5CN.f19_g16.001.cam.h0.PRECL.085001-184912.nc', '/Volumes/Untitled/CMIP5-PMIP3/CESM-LME/mon/PRECL/b.e11.BLMTRC5CN.f19_g16.001.cam.h0.PRECL.185001-200512.nc']\n",
      "/Volumes/Untitled/CMIP5-PMIP3/CESM-LME/mon/PRECC/\n",
      "Files imported: \n",
      " ['/Volumes/Untitled/CMIP5-PMIP3/CESM-LME/mon/PRECC/b.e11.BLMTRC5CN.f19_g16.001.cam.h0.PRECC.085001-184912.nc', '/Volumes/Untitled/CMIP5-PMIP3/CESM-LME/mon/PRECC/b.e11.BLMTRC5CN.f19_g16.001.cam.h0.PRECC.185001-200512.nc']\n"
     ]
    },
    {
     "name": "stderr",
     "output_type": "stream",
     "text": [
      "/Users/ajs/opt/anaconda3/lib/python3.8/site-packages/xarray/core/indexing.py:1369: PerformanceWarning: Slicing with an out-of-order index is generating 578 times more chunks\n",
      "  return self.array[key]\n"
     ]
    },
    {
     "name": "stdout",
     "output_type": "stream",
     "text": [
      "/Volumes/Untitled/CMIP5-PMIP3/CESM-LME/mon/PRECL/\n",
      "Files imported: \n",
      " ['/Volumes/Untitled/CMIP5-PMIP3/CESM-LME/mon/PRECL/b.e11.BLMTRC5CN.f19_g16.002.cam.h0.PRECL.085001-184912.nc', '/Volumes/Untitled/CMIP5-PMIP3/CESM-LME/mon/PRECL/b.e11.BLMTRC5CN.f19_g16.002.cam.h0.PRECL.185001-200512.nc']\n",
      "/Volumes/Untitled/CMIP5-PMIP3/CESM-LME/mon/PRECC/\n",
      "Files imported: \n",
      " ['/Volumes/Untitled/CMIP5-PMIP3/CESM-LME/mon/PRECC/b.e11.BLMTRC5CN.f19_g16.002.cam.h0.PRECC.085001-184912.nc', '/Volumes/Untitled/CMIP5-PMIP3/CESM-LME/mon/PRECC/b.e11.BLMTRC5CN.f19_g16.002.cam.h0.PRECC.185001-200512.nc']\n"
     ]
    },
    {
     "name": "stderr",
     "output_type": "stream",
     "text": [
      "/Users/ajs/opt/anaconda3/lib/python3.8/site-packages/xarray/core/indexing.py:1369: PerformanceWarning: Slicing with an out-of-order index is generating 578 times more chunks\n",
      "  return self.array[key]\n"
     ]
    },
    {
     "name": "stdout",
     "output_type": "stream",
     "text": [
      "/Volumes/Untitled/CMIP5-PMIP3/CESM-LME/mon/PRECL/\n",
      "Files imported: \n",
      " ['/Volumes/Untitled/CMIP5-PMIP3/CESM-LME/mon/PRECL/b.e11.BRCP85C5CN.f19_g16.LME.002.cam.h0.PRECL.200601-210012.nc']\n",
      "/Volumes/Untitled/CMIP5-PMIP3/CESM-LME/mon/PRECC/\n",
      "Files imported: \n",
      " ['/Volumes/Untitled/CMIP5-PMIP3/CESM-LME/mon/PRECC/b.e11.BRCP85C5CN.f19_g16.LME.002.cam.h0.PRECC.200601-210012.nc']\n"
     ]
    },
    {
     "name": "stderr",
     "output_type": "stream",
     "text": [
      "/Users/ajs/opt/anaconda3/lib/python3.8/site-packages/xarray/core/indexing.py:1369: PerformanceWarning: Slicing with an out-of-order index is generating 417 times more chunks\n",
      "  return self.array[key]\n"
     ]
    },
    {
     "name": "stdout",
     "output_type": "stream",
     "text": [
      "/Volumes/Untitled/CMIP5-PMIP3/CESM-LME/mon/PRECL/\n",
      "Files imported: \n",
      " ['/Volumes/Untitled/CMIP5-PMIP3/CESM-LME/mon/PRECL/b.e11.BLMTRC5CN.f19_g16.003.cam.h0.PRECL.085001-184912.nc', '/Volumes/Untitled/CMIP5-PMIP3/CESM-LME/mon/PRECL/b.e11.BLMTRC5CN.f19_g16.003.cam.h0.PRECL.185001-200512.nc']\n",
      "/Volumes/Untitled/CMIP5-PMIP3/CESM-LME/mon/PRECC/\n",
      "Files imported: \n",
      " ['/Volumes/Untitled/CMIP5-PMIP3/CESM-LME/mon/PRECC/b.e11.BLMTRC5CN.f19_g16.003.cam.h0.PRECC.085001-184912.nc', '/Volumes/Untitled/CMIP5-PMIP3/CESM-LME/mon/PRECC/b.e11.BLMTRC5CN.f19_g16.003.cam.h0.PRECC.185001-200512.nc']\n"
     ]
    },
    {
     "name": "stderr",
     "output_type": "stream",
     "text": [
      "/Users/ajs/opt/anaconda3/lib/python3.8/site-packages/xarray/core/indexing.py:1369: PerformanceWarning: Slicing with an out-of-order index is generating 578 times more chunks\n",
      "  return self.array[key]\n"
     ]
    },
    {
     "name": "stdout",
     "output_type": "stream",
     "text": [
      "/Volumes/Untitled/CMIP5-PMIP3/CESM-LME/mon/PRECL/\n",
      "Files imported: \n",
      " ['/Volumes/Untitled/CMIP5-PMIP3/CESM-LME/mon/PRECL/b.e11.BRCP85C5CN.f19_g16.LME.003.cam.h0.PRECL.200601-210012.nc']\n",
      "/Volumes/Untitled/CMIP5-PMIP3/CESM-LME/mon/PRECC/\n",
      "Files imported: \n",
      " ['/Volumes/Untitled/CMIP5-PMIP3/CESM-LME/mon/PRECC/b.e11.BRCP85C5CN.f19_g16.LME.003.cam.h0.PRECC.200601-210012.nc']\n"
     ]
    },
    {
     "name": "stderr",
     "output_type": "stream",
     "text": [
      "/Users/ajs/opt/anaconda3/lib/python3.8/site-packages/xarray/core/indexing.py:1369: PerformanceWarning: Slicing with an out-of-order index is generating 417 times more chunks\n",
      "  return self.array[key]\n"
     ]
    },
    {
     "name": "stdout",
     "output_type": "stream",
     "text": [
      "/Volumes/Untitled/CMIP5-PMIP3/CESM-LME/mon/PRECL/\n",
      "Files imported: \n",
      " ['/Volumes/Untitled/CMIP5-PMIP3/CESM-LME/mon/PRECL/b.e11.BLMTRC5CN.f19_g16.004.cam.h0.PRECL.085001-184912.nc', '/Volumes/Untitled/CMIP5-PMIP3/CESM-LME/mon/PRECL/b.e11.BLMTRC5CN.f19_g16.004.cam.h0.PRECL.185001-200512.nc']\n",
      "/Volumes/Untitled/CMIP5-PMIP3/CESM-LME/mon/PRECC/\n",
      "Files imported: \n",
      " ['/Volumes/Untitled/CMIP5-PMIP3/CESM-LME/mon/PRECC/b.e11.BLMTRC5CN.f19_g16.004.cam.h0.PRECC.085001-184912.nc', '/Volumes/Untitled/CMIP5-PMIP3/CESM-LME/mon/PRECC/b.e11.BLMTRC5CN.f19_g16.004.cam.h0.PRECC.185001-200512.nc']\n"
     ]
    },
    {
     "name": "stderr",
     "output_type": "stream",
     "text": [
      "/Users/ajs/opt/anaconda3/lib/python3.8/site-packages/xarray/core/indexing.py:1369: PerformanceWarning: Slicing with an out-of-order index is generating 578 times more chunks\n",
      "  return self.array[key]\n"
     ]
    },
    {
     "name": "stdout",
     "output_type": "stream",
     "text": [
      "/Volumes/Untitled/CMIP5-PMIP3/CESM-LME/mon/PRECL/\n",
      "Files imported: \n",
      " ['/Volumes/Untitled/CMIP5-PMIP3/CESM-LME/mon/PRECL/b.e11.BLMTRC5CN.f19_g16.005.cam.h0.PRECL.085001-184912.nc', '/Volumes/Untitled/CMIP5-PMIP3/CESM-LME/mon/PRECL/b.e11.BLMTRC5CN.f19_g16.005.cam.h0.PRECL.185001-200512.nc']\n",
      "/Volumes/Untitled/CMIP5-PMIP3/CESM-LME/mon/PRECC/\n",
      "Files imported: \n",
      " ['/Volumes/Untitled/CMIP5-PMIP3/CESM-LME/mon/PRECC/b.e11.BLMTRC5CN.f19_g16.005.cam.h0.PRECC.085001-184912.nc', '/Volumes/Untitled/CMIP5-PMIP3/CESM-LME/mon/PRECC/b.e11.BLMTRC5CN.f19_g16.005.cam.h0.PRECC.185001-200512.nc']\n"
     ]
    },
    {
     "name": "stderr",
     "output_type": "stream",
     "text": [
      "/Users/ajs/opt/anaconda3/lib/python3.8/site-packages/xarray/core/indexing.py:1369: PerformanceWarning: Slicing with an out-of-order index is generating 578 times more chunks\n",
      "  return self.array[key]\n"
     ]
    },
    {
     "name": "stdout",
     "output_type": "stream",
     "text": [
      "/Volumes/Untitled/CMIP5-PMIP3/CESM-LME/mon/PRECL/\n",
      "Files imported: \n",
      " ['/Volumes/Untitled/CMIP5-PMIP3/CESM-LME/mon/PRECL/b.e11.BLMTRC5CN.f19_g16.006.cam.h0.PRECL.085001-184912.nc', '/Volumes/Untitled/CMIP5-PMIP3/CESM-LME/mon/PRECL/b.e11.BLMTRC5CN.f19_g16.006.cam.h0.PRECL.185001-200512.nc']\n",
      "/Volumes/Untitled/CMIP5-PMIP3/CESM-LME/mon/PRECC/\n",
      "Files imported: \n",
      " ['/Volumes/Untitled/CMIP5-PMIP3/CESM-LME/mon/PRECC/b.e11.BLMTRC5CN.f19_g16.006.cam.h0.PRECC.085001-184912.nc', '/Volumes/Untitled/CMIP5-PMIP3/CESM-LME/mon/PRECC/b.e11.BLMTRC5CN.f19_g16.006.cam.h0.PRECC.185001-200512.nc']\n"
     ]
    },
    {
     "name": "stderr",
     "output_type": "stream",
     "text": [
      "/Users/ajs/opt/anaconda3/lib/python3.8/site-packages/xarray/core/indexing.py:1369: PerformanceWarning: Slicing with an out-of-order index is generating 578 times more chunks\n",
      "  return self.array[key]\n"
     ]
    },
    {
     "name": "stdout",
     "output_type": "stream",
     "text": [
      "/Volumes/Untitled/CMIP5-PMIP3/CESM-LME/mon/PRECL/\n",
      "Files imported: \n",
      " ['/Volumes/Untitled/CMIP5-PMIP3/CESM-LME/mon/PRECL/b.e11.BLMTRC5CN.f19_g16.007.cam.h0.PRECL.085001-184912.nc', '/Volumes/Untitled/CMIP5-PMIP3/CESM-LME/mon/PRECL/b.e11.BLMTRC5CN.f19_g16.007.cam.h0.PRECL.185001-200512.nc']\n",
      "/Volumes/Untitled/CMIP5-PMIP3/CESM-LME/mon/PRECC/\n",
      "Files imported: \n",
      " ['/Volumes/Untitled/CMIP5-PMIP3/CESM-LME/mon/PRECC/b.e11.BLMTRC5CN.f19_g16.007.cam.h0.PRECC.085001-184912.nc', '/Volumes/Untitled/CMIP5-PMIP3/CESM-LME/mon/PRECC/b.e11.BLMTRC5CN.f19_g16.007.cam.h0.PRECC.185001-200512.nc']\n"
     ]
    },
    {
     "name": "stderr",
     "output_type": "stream",
     "text": [
      "/Users/ajs/opt/anaconda3/lib/python3.8/site-packages/xarray/core/indexing.py:1369: PerformanceWarning: Slicing with an out-of-order index is generating 578 times more chunks\n",
      "  return self.array[key]\n"
     ]
    },
    {
     "name": "stdout",
     "output_type": "stream",
     "text": [
      "/Volumes/Untitled/CMIP5-PMIP3/CESM-LME/mon/PRECL/\n",
      "Files imported: \n",
      " ['/Volumes/Untitled/CMIP5-PMIP3/CESM-LME/mon/PRECL/b.e11.BLMTRC5CN.f19_g16.008.cam.h0.PRECL.085001-184912.nc', '/Volumes/Untitled/CMIP5-PMIP3/CESM-LME/mon/PRECL/b.e11.BLMTRC5CN.f19_g16.008.cam.h0.PRECL.185001-200512.nc']\n",
      "/Volumes/Untitled/CMIP5-PMIP3/CESM-LME/mon/PRECC/\n",
      "Files imported: \n",
      " ['/Volumes/Untitled/CMIP5-PMIP3/CESM-LME/mon/PRECC/b.e11.BLMTRC5CN.f19_g16.008.cam.h0.PRECC.085001-184912.nc', '/Volumes/Untitled/CMIP5-PMIP3/CESM-LME/mon/PRECC/b.e11.BLMTRC5CN.f19_g16.008.cam.h0.PRECC.185001-200512.nc']\n"
     ]
    },
    {
     "name": "stderr",
     "output_type": "stream",
     "text": [
      "/Users/ajs/opt/anaconda3/lib/python3.8/site-packages/xarray/core/indexing.py:1369: PerformanceWarning: Slicing with an out-of-order index is generating 578 times more chunks\n",
      "  return self.array[key]\n"
     ]
    },
    {
     "name": "stdout",
     "output_type": "stream",
     "text": [
      "/Volumes/Untitled/CMIP5-PMIP3/CESM-LME/mon/PRECL/\n",
      "Files imported: \n",
      " ['/Volumes/Untitled/CMIP5-PMIP3/CESM-LME/mon/PRECL/b.e11.BRCP85C5CN.f19_g16.LME.008.cam.h0.PRECL.200601-210012.nc']\n",
      "/Volumes/Untitled/CMIP5-PMIP3/CESM-LME/mon/PRECC/\n",
      "Files imported: \n",
      " ['/Volumes/Untitled/CMIP5-PMIP3/CESM-LME/mon/PRECC/b.e11.BRCP85C5CN.f19_g16.LME.008.cam.h0.PRECC.200601-210012.nc']\n"
     ]
    },
    {
     "name": "stderr",
     "output_type": "stream",
     "text": [
      "/Users/ajs/opt/anaconda3/lib/python3.8/site-packages/xarray/core/indexing.py:1369: PerformanceWarning: Slicing with an out-of-order index is generating 417 times more chunks\n",
      "  return self.array[key]\n"
     ]
    },
    {
     "name": "stdout",
     "output_type": "stream",
     "text": [
      "/Volumes/Untitled/CMIP5-PMIP3/CESM-LME/mon/PRECL/\n",
      "Files imported: \n",
      " ['/Volumes/Untitled/CMIP5-PMIP3/CESM-LME/mon/PRECL/b.e11.BLMTRC5CN.f19_g16.009.cam.h0.PRECL.085001-184912.nc', '/Volumes/Untitled/CMIP5-PMIP3/CESM-LME/mon/PRECL/b.e11.BLMTRC5CN.f19_g16.009.cam.h0.PRECL.185001-200512.nc']\n",
      "/Volumes/Untitled/CMIP5-PMIP3/CESM-LME/mon/PRECC/\n",
      "Files imported: \n",
      " ['/Volumes/Untitled/CMIP5-PMIP3/CESM-LME/mon/PRECC/b.e11.BLMTRC5CN.f19_g16.009.cam.h0.PRECC.085001-184912.nc', '/Volumes/Untitled/CMIP5-PMIP3/CESM-LME/mon/PRECC/b.e11.BLMTRC5CN.f19_g16.009.cam.h0.PRECC.185001-200512.nc']\n"
     ]
    },
    {
     "name": "stderr",
     "output_type": "stream",
     "text": [
      "/Users/ajs/opt/anaconda3/lib/python3.8/site-packages/xarray/core/indexing.py:1369: PerformanceWarning: Slicing with an out-of-order index is generating 578 times more chunks\n",
      "  return self.array[key]\n"
     ]
    },
    {
     "name": "stdout",
     "output_type": "stream",
     "text": [
      "/Volumes/Untitled/CMIP5-PMIP3/CESM-LME/mon/PRECL/\n",
      "Files imported: \n",
      " ['/Volumes/Untitled/CMIP5-PMIP3/CESM-LME/mon/PRECL/b.e11.BRCP85C5CN.f19_g16.LME.009.cam.h0.PRECL.200601-210012.nc']\n",
      "/Volumes/Untitled/CMIP5-PMIP3/CESM-LME/mon/PRECC/\n",
      "Files imported: \n",
      " ['/Volumes/Untitled/CMIP5-PMIP3/CESM-LME/mon/PRECC/b.e11.BRCP85C5CN.f19_g16.LME.009.cam.h0.PRECC.200601-210012.nc']\n"
     ]
    },
    {
     "name": "stderr",
     "output_type": "stream",
     "text": [
      "/Users/ajs/opt/anaconda3/lib/python3.8/site-packages/xarray/core/indexing.py:1369: PerformanceWarning: Slicing with an out-of-order index is generating 417 times more chunks\n",
      "  return self.array[key]\n"
     ]
    },
    {
     "name": "stdout",
     "output_type": "stream",
     "text": [
      "/Volumes/Untitled/CMIP5-PMIP3/CESM-LME/mon/PRECL/\n",
      "Files imported: \n",
      " ['/Volumes/Untitled/CMIP5-PMIP3/CESM-LME/mon/PRECL/b.e11.BLMTRC5CN.f19_g16.010.cam.h0.PRECL.085001-184912.nc', '/Volumes/Untitled/CMIP5-PMIP3/CESM-LME/mon/PRECL/b.e11.BLMTRC5CN.f19_g16.010.cam.h0.PRECL.185001-200512.nc']\n",
      "/Volumes/Untitled/CMIP5-PMIP3/CESM-LME/mon/PRECC/\n",
      "Files imported: \n",
      " ['/Volumes/Untitled/CMIP5-PMIP3/CESM-LME/mon/PRECC/b.e11.BLMTRC5CN.f19_g16.010.cam.h0.PRECC.085001-184912.nc', '/Volumes/Untitled/CMIP5-PMIP3/CESM-LME/mon/PRECC/b.e11.BLMTRC5CN.f19_g16.010.cam.h0.PRECC.185001-200512.nc']\n"
     ]
    },
    {
     "name": "stderr",
     "output_type": "stream",
     "text": [
      "/Users/ajs/opt/anaconda3/lib/python3.8/site-packages/xarray/core/indexing.py:1369: PerformanceWarning: Slicing with an out-of-order index is generating 578 times more chunks\n",
      "  return self.array[key]\n"
     ]
    },
    {
     "name": "stdout",
     "output_type": "stream",
     "text": [
      "/Volumes/Untitled/CMIP5-PMIP3/CESM-LME/mon/PRECL/\n",
      "Files imported: \n",
      " ['/Volumes/Untitled/CMIP5-PMIP3/CESM-LME/mon/PRECL/b.e11.BLMTRC5CN.f19_g16.011.cam.h0.PRECL.085001-184912.nc', '/Volumes/Untitled/CMIP5-PMIP3/CESM-LME/mon/PRECL/b.e11.BLMTRC5CN.f19_g16.011.cam.h0.PRECL.185001-200512.nc']\n",
      "/Volumes/Untitled/CMIP5-PMIP3/CESM-LME/mon/PRECC/\n",
      "Files imported: \n",
      " ['/Volumes/Untitled/CMIP5-PMIP3/CESM-LME/mon/PRECC/b.e11.BLMTRC5CN.f19_g16.011.cam.h0.PRECC.085001-184912.nc', '/Volumes/Untitled/CMIP5-PMIP3/CESM-LME/mon/PRECC/b.e11.BLMTRC5CN.f19_g16.011.cam.h0.PRECC.185001-200512.nc']\n"
     ]
    },
    {
     "name": "stderr",
     "output_type": "stream",
     "text": [
      "/Users/ajs/opt/anaconda3/lib/python3.8/site-packages/xarray/core/indexing.py:1369: PerformanceWarning: Slicing with an out-of-order index is generating 578 times more chunks\n",
      "  return self.array[key]\n"
     ]
    },
    {
     "name": "stdout",
     "output_type": "stream",
     "text": [
      "/Volumes/Untitled/CMIP5-PMIP3/CESM-LME/mon/PRECL/\n",
      "Files imported: \n",
      " ['/Volumes/Untitled/CMIP5-PMIP3/CESM-LME/mon/PRECL/b.e11.BLMTRC5CN.f19_g16.012.cam.h0.PRECL.085001-184912.nc', '/Volumes/Untitled/CMIP5-PMIP3/CESM-LME/mon/PRECL/b.e11.BLMTRC5CN.f19_g16.012.cam.h0.PRECL.185001-200512.nc']\n",
      "/Volumes/Untitled/CMIP5-PMIP3/CESM-LME/mon/PRECC/\n",
      "Files imported: \n",
      " ['/Volumes/Untitled/CMIP5-PMIP3/CESM-LME/mon/PRECC/b.e11.BLMTRC5CN.f19_g16.012.cam.h0.PRECC.085001-184912.nc', '/Volumes/Untitled/CMIP5-PMIP3/CESM-LME/mon/PRECC/b.e11.BLMTRC5CN.f19_g16.012.cam.h0.PRECC.185001-200512.nc']\n"
     ]
    },
    {
     "name": "stderr",
     "output_type": "stream",
     "text": [
      "/Users/ajs/opt/anaconda3/lib/python3.8/site-packages/xarray/core/indexing.py:1369: PerformanceWarning: Slicing with an out-of-order index is generating 578 times more chunks\n",
      "  return self.array[key]\n"
     ]
    },
    {
     "name": "stdout",
     "output_type": "stream",
     "text": [
      "/Volumes/Untitled/CMIP5-PMIP3/CESM-LME/mon/PRECL/\n",
      "Files imported: \n",
      " ['/Volumes/Untitled/CMIP5-PMIP3/CESM-LME/mon/PRECL/b.e11.BLMTRC5CN.f19_g16.013.cam.h0.PRECL.085001-184912.nc', '/Volumes/Untitled/CMIP5-PMIP3/CESM-LME/mon/PRECL/b.e11.BLMTRC5CN.f19_g16.013.cam.h0.PRECL.185001-200512.nc']\n",
      "/Volumes/Untitled/CMIP5-PMIP3/CESM-LME/mon/PRECC/\n",
      "Files imported: \n",
      " ['/Volumes/Untitled/CMIP5-PMIP3/CESM-LME/mon/PRECC/b.e11.BLMTRC5CN.f19_g16.013.cam.h0.PRECC.085001-184912.nc', '/Volumes/Untitled/CMIP5-PMIP3/CESM-LME/mon/PRECC/b.e11.BLMTRC5CN.f19_g16.013.cam.h0.PRECC.185001-200512.nc']\n"
     ]
    },
    {
     "name": "stderr",
     "output_type": "stream",
     "text": [
      "/Users/ajs/opt/anaconda3/lib/python3.8/site-packages/xarray/core/indexing.py:1369: PerformanceWarning: Slicing with an out-of-order index is generating 578 times more chunks\n",
      "  return self.array[key]\n"
     ]
    }
   ],
   "source": [
    "\n",
    "for experiment in _model.cesmFullForcings:\n",
    "    \n",
    "    #load it\n",
    "    preclDa = fh.loadModelData('CESM-LME', 'PRECL', experiment)\n",
    "    preccDa = fh.loadModelData('CESM-LME', 'PRECC', experiment)\n",
    "    prectDa = secondsPerYear*1000*(preclDa.PRECL+preccDa.PRECC)\n",
    "    prectDa.name='prect'\n",
    "    \n",
    "    #anom\n",
    "    anomDa=prectDa.groupby('time.month')-monMeansDa\n",
    "    anomDa.name='precAnom'\n",
    "        \n",
    "    #grab area around Australia\n",
    "    domainDa=anomDa.where(\n",
    "        (anomDa.lat>-50) & (anomDa.lat<0) & (anomDa.lon>100) & (anomDa.lon<170),\n",
    "        drop=True\n",
    "    )\n",
    "    \n",
    "    # convert to mm/year and store\n",
    "    domainDa.to_netcdf('results/cesmMonthlyPrec/'+experiment+'.nc')\n",
    "    \n",
    "     #rcp85 extensions\n",
    "    if experiment in ['002','003', '008', '009']: \n",
    "        \n",
    "        #extensions\n",
    "        preclDa = fh.loadModelData('CESM-LME', 'PRECL', 'LME.'+experiment)\n",
    "        preccDa = fh.loadModelData('CESM-LME', 'PRECC', 'LME.'+experiment)\n",
    "        extPrectDa = secondsPerYear*1000*(preclDa.PRECL+preccDa.PRECC)\n",
    "        extPrectDa.name='prect'\n",
    "        \n",
    "        prectDa = xarray.concat([prectDa, extPrectDa], 'time')\n",
    "\n",
    "\n",
    "        #anom\n",
    "        anomDa=prectDa.groupby('time.month')-monMeansDa\n",
    "        anomDa.name='precAnom'\n",
    "\n",
    "        #grab area around Australia\n",
    "        domainDa=anomDa.where(\n",
    "            (anomDa.lat>-50) & (anomDa.lat<0) & (anomDa.lon>100) & (anomDa.lon<170),\n",
    "            drop=True\n",
    "        )\n",
    "\n",
    "        # convert to mm/year and store\n",
    "        domainDa.to_netcdf('results/cesmMonthlyPrec/LME.'+experiment+'.nc')\n",
    "        \n",
    "    \n",
    "    "
   ]
  },
  {
   "cell_type": "markdown",
   "id": "c21f784d-eff3-4b9b-84e2-800f83343815",
   "metadata": {},
   "source": [
    "# Time averaging for the anomalies"
   ]
  },
  {
   "cell_type": "code",
   "execution_count": 11,
   "id": "07905307-bb27-46f9-ac45-4f38c9bd9c6b",
   "metadata": {},
   "outputs": [],
   "source": [
    "monthlyAnomDa=xarray.concat([\n",
    "    xarray.open_dataset('results/cesmMonthlyPrec/'+iExp+'.nc') for iExp in _model.cesmAll],\n",
    "    'experiment')\n",
    "    \n",
    "\n",
    "monthlyAnomDa=monthlyAnomDa.assign({'experiment':_model.cesmAll})\n",
    "\n",
    "warmSeasonAnomDa=tp.averageForTimePeriod(monthlyAnomDa)\n",
    "\n",
    "warmSeasonAnomDa.to_netcdf('results/cesmPrecAnoms.nc')"
   ]
  },
  {
   "cell_type": "markdown",
   "id": "de603d2f-b848-418d-855d-6762c002721c",
   "metadata": {},
   "source": [
    "# Do that all again for Ts"
   ]
  },
  {
   "cell_type": "code",
   "execution_count": 12,
   "id": "c9b3bca1-9436-4e85-b60b-38224411096b",
   "metadata": {
    "tags": []
   },
   "outputs": [
    {
     "name": "stdout",
     "output_type": "stream",
     "text": [
      "/Volumes/Untitled/CMIP5-PMIP3/CESM-LME/mon/TS/\n",
      "Files imported: \n",
      " ['/Volumes/Untitled/CMIP5-PMIP3/CESM-LME/mon/TS/b.e11.B1850C5CN.f19_g16.0850cntl.001.cam.h0.TS.085001-184912.nc', '/Volumes/Untitled/CMIP5-PMIP3/CESM-LME/mon/TS/b.e11.B1850C5CN.f19_g16.0850cntl.001.cam.h0.TS.185001-200512.nc']\n"
     ]
    },
    {
     "data": {
      "text/html": [
       "<div><svg style=\"position: absolute; width: 0; height: 0; overflow: hidden\">\n",
       "<defs>\n",
       "<symbol id=\"icon-database\" viewBox=\"0 0 32 32\">\n",
       "<path d=\"M16 0c-8.837 0-16 2.239-16 5v4c0 2.761 7.163 5 16 5s16-2.239 16-5v-4c0-2.761-7.163-5-16-5z\"></path>\n",
       "<path d=\"M16 17c-8.837 0-16-2.239-16-5v6c0 2.761 7.163 5 16 5s16-2.239 16-5v-6c0 2.761-7.163 5-16 5z\"></path>\n",
       "<path d=\"M16 26c-8.837 0-16-2.239-16-5v6c0 2.761 7.163 5 16 5s16-2.239 16-5v-6c0 2.761-7.163 5-16 5z\"></path>\n",
       "</symbol>\n",
       "<symbol id=\"icon-file-text2\" viewBox=\"0 0 32 32\">\n",
       "<path d=\"M28.681 7.159c-0.694-0.947-1.662-2.053-2.724-3.116s-2.169-2.030-3.116-2.724c-1.612-1.182-2.393-1.319-2.841-1.319h-15.5c-1.378 0-2.5 1.121-2.5 2.5v27c0 1.378 1.122 2.5 2.5 2.5h23c1.378 0 2.5-1.122 2.5-2.5v-19.5c0-0.448-0.137-1.23-1.319-2.841zM24.543 5.457c0.959 0.959 1.712 1.825 2.268 2.543h-4.811v-4.811c0.718 0.556 1.584 1.309 2.543 2.268zM28 29.5c0 0.271-0.229 0.5-0.5 0.5h-23c-0.271 0-0.5-0.229-0.5-0.5v-27c0-0.271 0.229-0.5 0.5-0.5 0 0 15.499-0 15.5 0v7c0 0.552 0.448 1 1 1h7v19.5z\"></path>\n",
       "<path d=\"M23 26h-14c-0.552 0-1-0.448-1-1s0.448-1 1-1h14c0.552 0 1 0.448 1 1s-0.448 1-1 1z\"></path>\n",
       "<path d=\"M23 22h-14c-0.552 0-1-0.448-1-1s0.448-1 1-1h14c0.552 0 1 0.448 1 1s-0.448 1-1 1z\"></path>\n",
       "<path d=\"M23 18h-14c-0.552 0-1-0.448-1-1s0.448-1 1-1h14c0.552 0 1 0.448 1 1s-0.448 1-1 1z\"></path>\n",
       "</symbol>\n",
       "</defs>\n",
       "</svg>\n",
       "<style>/* CSS stylesheet for displaying xarray objects in jupyterlab.\n",
       " *\n",
       " */\n",
       "\n",
       ":root {\n",
       "  --xr-font-color0: var(--jp-content-font-color0, rgba(0, 0, 0, 1));\n",
       "  --xr-font-color2: var(--jp-content-font-color2, rgba(0, 0, 0, 0.54));\n",
       "  --xr-font-color3: var(--jp-content-font-color3, rgba(0, 0, 0, 0.38));\n",
       "  --xr-border-color: var(--jp-border-color2, #e0e0e0);\n",
       "  --xr-disabled-color: var(--jp-layout-color3, #bdbdbd);\n",
       "  --xr-background-color: var(--jp-layout-color0, white);\n",
       "  --xr-background-color-row-even: var(--jp-layout-color1, white);\n",
       "  --xr-background-color-row-odd: var(--jp-layout-color2, #eeeeee);\n",
       "}\n",
       "\n",
       "html[theme=dark],\n",
       "body.vscode-dark {\n",
       "  --xr-font-color0: rgba(255, 255, 255, 1);\n",
       "  --xr-font-color2: rgba(255, 255, 255, 0.54);\n",
       "  --xr-font-color3: rgba(255, 255, 255, 0.38);\n",
       "  --xr-border-color: #1F1F1F;\n",
       "  --xr-disabled-color: #515151;\n",
       "  --xr-background-color: #111111;\n",
       "  --xr-background-color-row-even: #111111;\n",
       "  --xr-background-color-row-odd: #313131;\n",
       "}\n",
       "\n",
       ".xr-wrap {\n",
       "  display: block;\n",
       "  min-width: 300px;\n",
       "  max-width: 700px;\n",
       "}\n",
       "\n",
       ".xr-text-repr-fallback {\n",
       "  /* fallback to plain text repr when CSS is not injected (untrusted notebook) */\n",
       "  display: none;\n",
       "}\n",
       "\n",
       ".xr-header {\n",
       "  padding-top: 6px;\n",
       "  padding-bottom: 6px;\n",
       "  margin-bottom: 4px;\n",
       "  border-bottom: solid 1px var(--xr-border-color);\n",
       "}\n",
       "\n",
       ".xr-header > div,\n",
       ".xr-header > ul {\n",
       "  display: inline;\n",
       "  margin-top: 0;\n",
       "  margin-bottom: 0;\n",
       "}\n",
       "\n",
       ".xr-obj-type,\n",
       ".xr-array-name {\n",
       "  margin-left: 2px;\n",
       "  margin-right: 10px;\n",
       "}\n",
       "\n",
       ".xr-obj-type {\n",
       "  color: var(--xr-font-color2);\n",
       "}\n",
       "\n",
       ".xr-sections {\n",
       "  padding-left: 0 !important;\n",
       "  display: grid;\n",
       "  grid-template-columns: 150px auto auto 1fr 20px 20px;\n",
       "}\n",
       "\n",
       ".xr-section-item {\n",
       "  display: contents;\n",
       "}\n",
       "\n",
       ".xr-section-item input {\n",
       "  display: none;\n",
       "}\n",
       "\n",
       ".xr-section-item input + label {\n",
       "  color: var(--xr-disabled-color);\n",
       "}\n",
       "\n",
       ".xr-section-item input:enabled + label {\n",
       "  cursor: pointer;\n",
       "  color: var(--xr-font-color2);\n",
       "}\n",
       "\n",
       ".xr-section-item input:enabled + label:hover {\n",
       "  color: var(--xr-font-color0);\n",
       "}\n",
       "\n",
       ".xr-section-summary {\n",
       "  grid-column: 1;\n",
       "  color: var(--xr-font-color2);\n",
       "  font-weight: 500;\n",
       "}\n",
       "\n",
       ".xr-section-summary > span {\n",
       "  display: inline-block;\n",
       "  padding-left: 0.5em;\n",
       "}\n",
       "\n",
       ".xr-section-summary-in:disabled + label {\n",
       "  color: var(--xr-font-color2);\n",
       "}\n",
       "\n",
       ".xr-section-summary-in + label:before {\n",
       "  display: inline-block;\n",
       "  content: '►';\n",
       "  font-size: 11px;\n",
       "  width: 15px;\n",
       "  text-align: center;\n",
       "}\n",
       "\n",
       ".xr-section-summary-in:disabled + label:before {\n",
       "  color: var(--xr-disabled-color);\n",
       "}\n",
       "\n",
       ".xr-section-summary-in:checked + label:before {\n",
       "  content: '▼';\n",
       "}\n",
       "\n",
       ".xr-section-summary-in:checked + label > span {\n",
       "  display: none;\n",
       "}\n",
       "\n",
       ".xr-section-summary,\n",
       ".xr-section-inline-details {\n",
       "  padding-top: 4px;\n",
       "  padding-bottom: 4px;\n",
       "}\n",
       "\n",
       ".xr-section-inline-details {\n",
       "  grid-column: 2 / -1;\n",
       "}\n",
       "\n",
       ".xr-section-details {\n",
       "  display: none;\n",
       "  grid-column: 1 / -1;\n",
       "  margin-bottom: 5px;\n",
       "}\n",
       "\n",
       ".xr-section-summary-in:checked ~ .xr-section-details {\n",
       "  display: contents;\n",
       "}\n",
       "\n",
       ".xr-array-wrap {\n",
       "  grid-column: 1 / -1;\n",
       "  display: grid;\n",
       "  grid-template-columns: 20px auto;\n",
       "}\n",
       "\n",
       ".xr-array-wrap > label {\n",
       "  grid-column: 1;\n",
       "  vertical-align: top;\n",
       "}\n",
       "\n",
       ".xr-preview {\n",
       "  color: var(--xr-font-color3);\n",
       "}\n",
       "\n",
       ".xr-array-preview,\n",
       ".xr-array-data {\n",
       "  padding: 0 5px !important;\n",
       "  grid-column: 2;\n",
       "}\n",
       "\n",
       ".xr-array-data,\n",
       ".xr-array-in:checked ~ .xr-array-preview {\n",
       "  display: none;\n",
       "}\n",
       "\n",
       ".xr-array-in:checked ~ .xr-array-data,\n",
       ".xr-array-preview {\n",
       "  display: inline-block;\n",
       "}\n",
       "\n",
       ".xr-dim-list {\n",
       "  display: inline-block !important;\n",
       "  list-style: none;\n",
       "  padding: 0 !important;\n",
       "  margin: 0;\n",
       "}\n",
       "\n",
       ".xr-dim-list li {\n",
       "  display: inline-block;\n",
       "  padding: 0;\n",
       "  margin: 0;\n",
       "}\n",
       "\n",
       ".xr-dim-list:before {\n",
       "  content: '(';\n",
       "}\n",
       "\n",
       ".xr-dim-list:after {\n",
       "  content: ')';\n",
       "}\n",
       "\n",
       ".xr-dim-list li:not(:last-child):after {\n",
       "  content: ',';\n",
       "  padding-right: 5px;\n",
       "}\n",
       "\n",
       ".xr-has-index {\n",
       "  font-weight: bold;\n",
       "}\n",
       "\n",
       ".xr-var-list,\n",
       ".xr-var-item {\n",
       "  display: contents;\n",
       "}\n",
       "\n",
       ".xr-var-item > div,\n",
       ".xr-var-item label,\n",
       ".xr-var-item > .xr-var-name span {\n",
       "  background-color: var(--xr-background-color-row-even);\n",
       "  margin-bottom: 0;\n",
       "}\n",
       "\n",
       ".xr-var-item > .xr-var-name:hover span {\n",
       "  padding-right: 5px;\n",
       "}\n",
       "\n",
       ".xr-var-list > li:nth-child(odd) > div,\n",
       ".xr-var-list > li:nth-child(odd) > label,\n",
       ".xr-var-list > li:nth-child(odd) > .xr-var-name span {\n",
       "  background-color: var(--xr-background-color-row-odd);\n",
       "}\n",
       "\n",
       ".xr-var-name {\n",
       "  grid-column: 1;\n",
       "}\n",
       "\n",
       ".xr-var-dims {\n",
       "  grid-column: 2;\n",
       "}\n",
       "\n",
       ".xr-var-dtype {\n",
       "  grid-column: 3;\n",
       "  text-align: right;\n",
       "  color: var(--xr-font-color2);\n",
       "}\n",
       "\n",
       ".xr-var-preview {\n",
       "  grid-column: 4;\n",
       "}\n",
       "\n",
       ".xr-var-name,\n",
       ".xr-var-dims,\n",
       ".xr-var-dtype,\n",
       ".xr-preview,\n",
       ".xr-attrs dt {\n",
       "  white-space: nowrap;\n",
       "  overflow: hidden;\n",
       "  text-overflow: ellipsis;\n",
       "  padding-right: 10px;\n",
       "}\n",
       "\n",
       ".xr-var-name:hover,\n",
       ".xr-var-dims:hover,\n",
       ".xr-var-dtype:hover,\n",
       ".xr-attrs dt:hover {\n",
       "  overflow: visible;\n",
       "  width: auto;\n",
       "  z-index: 1;\n",
       "}\n",
       "\n",
       ".xr-var-attrs,\n",
       ".xr-var-data {\n",
       "  display: none;\n",
       "  background-color: var(--xr-background-color) !important;\n",
       "  padding-bottom: 5px !important;\n",
       "}\n",
       "\n",
       ".xr-var-attrs-in:checked ~ .xr-var-attrs,\n",
       ".xr-var-data-in:checked ~ .xr-var-data {\n",
       "  display: block;\n",
       "}\n",
       "\n",
       ".xr-var-data > table {\n",
       "  float: right;\n",
       "}\n",
       "\n",
       ".xr-var-name span,\n",
       ".xr-var-data,\n",
       ".xr-attrs {\n",
       "  padding-left: 25px !important;\n",
       "}\n",
       "\n",
       ".xr-attrs,\n",
       ".xr-var-attrs,\n",
       ".xr-var-data {\n",
       "  grid-column: 1 / -1;\n",
       "}\n",
       "\n",
       "dl.xr-attrs {\n",
       "  padding: 0;\n",
       "  margin: 0;\n",
       "  display: grid;\n",
       "  grid-template-columns: 125px auto;\n",
       "}\n",
       "\n",
       ".xr-attrs dt,\n",
       ".xr-attrs dd {\n",
       "  padding: 0;\n",
       "  margin: 0;\n",
       "  float: left;\n",
       "  padding-right: 10px;\n",
       "  width: auto;\n",
       "}\n",
       "\n",
       ".xr-attrs dt {\n",
       "  font-weight: normal;\n",
       "  grid-column: 1;\n",
       "}\n",
       "\n",
       ".xr-attrs dt:hover span {\n",
       "  display: inline-block;\n",
       "  background: var(--xr-background-color);\n",
       "  padding-right: 10px;\n",
       "}\n",
       "\n",
       ".xr-attrs dd {\n",
       "  grid-column: 2;\n",
       "  white-space: pre-wrap;\n",
       "  word-break: break-all;\n",
       "}\n",
       "\n",
       ".xr-icon-database,\n",
       ".xr-icon-file-text2 {\n",
       "  display: inline-block;\n",
       "  vertical-align: middle;\n",
       "  width: 1em;\n",
       "  height: 1.5em !important;\n",
       "  stroke-width: 0;\n",
       "  stroke: currentColor;\n",
       "  fill: currentColor;\n",
       "}\n",
       "</style><pre class='xr-text-repr-fallback'>&lt;xarray.DataArray &#x27;TS&#x27; (month: 12, lat: 26, lon: 27)&gt;\n",
       "array([[[282.3029 , 282.37982, 282.453  , ..., 285.12256, 285.29666,\n",
       "         284.7596 ],\n",
       "        [283.459  , 283.4972 , 283.5798 , ..., 286.4485 , 286.78424,\n",
       "         286.2769 ],\n",
       "        [284.62888, 284.65228, 284.7156 , ..., 287.77362, 288.0664 ,\n",
       "         287.87802],\n",
       "        ...,\n",
       "        [300.6783 , 297.80142, 301.59268, ..., 302.07162, 302.01572,\n",
       "         301.93628],\n",
       "        [297.66537, 296.9991 , 301.1753 , ..., 301.60736, 301.49063,\n",
       "         301.36142],\n",
       "        [296.50525, 301.20428, 301.6382 , ..., 301.0947 , 300.9362 ,\n",
       "         300.7725 ]],\n",
       "\n",
       "       [[282.7254 , 282.80463, 282.88074, ..., 285.83698, 286.00516,\n",
       "         285.44794],\n",
       "        [283.92322, 283.95853, 284.0398 , ..., 287.20044, 287.55966,\n",
       "         286.83868],\n",
       "        [285.1558 , 285.1732 , 285.2386 , ..., 288.56027, 288.86633,\n",
       "         288.47354],\n",
       "...\n",
       "        [300.4305 , 298.107  , 302.19376, ..., 301.91733, 301.91766,\n",
       "         301.88547],\n",
       "        [297.88455, 297.2016 , 301.8522 , ..., 301.48654, 301.40683,\n",
       "         301.33057],\n",
       "        [296.87653, 302.21036, 302.53326, ..., 301.00912, 300.89197,\n",
       "         300.77475]],\n",
       "\n",
       "       [[281.152  , 281.22144, 281.2946 , ..., 283.62625, 283.7778 ,\n",
       "         283.2848 ],\n",
       "        [282.34995, 282.37405, 282.44168, ..., 284.8917 , 285.18594,\n",
       "         284.7441 ],\n",
       "        [283.42715, 283.44675, 283.4926 , ..., 286.09814, 286.3729 ,\n",
       "         286.20593],\n",
       "        ...,\n",
       "        [300.74658, 297.96945, 302.2252 , ..., 302.01318, 301.9762 ,\n",
       "         301.9234 ],\n",
       "        [297.82126, 297.0872 , 301.7551 , ..., 301.58798, 301.49747,\n",
       "         301.39532],\n",
       "        [296.7144 , 301.92868, 302.28696, ..., 301.1211 , 300.98816,\n",
       "         300.84598]]], dtype=float32)\n",
       "Coordinates:\n",
       "  * lat      (lat) float64 -48.32 -46.42 -44.53 -42.63 ... -4.737 -2.842 -0.9474\n",
       "  * lon      (lon) float64 102.5 105.0 107.5 110.0 ... 160.0 162.5 165.0 167.5\n",
       "  * month    (month) int64 1 2 3 4 5 6 7 8 9 10 11 12</pre><div class='xr-wrap' hidden><div class='xr-header'><div class='xr-obj-type'>xarray.DataArray</div><div class='xr-array-name'>'TS'</div><ul class='xr-dim-list'><li><span class='xr-has-index'>month</span>: 12</li><li><span class='xr-has-index'>lat</span>: 26</li><li><span class='xr-has-index'>lon</span>: 27</li></ul></div><ul class='xr-sections'><li class='xr-section-item'><div class='xr-array-wrap'><input id='section-ca1f34f7-ad5f-4512-bc99-92c2fa74956a' class='xr-array-in' type='checkbox' checked><label for='section-ca1f34f7-ad5f-4512-bc99-92c2fa74956a' title='Show/hide data repr'><svg class='icon xr-icon-database'><use xlink:href='#icon-database'></use></svg></label><div class='xr-array-preview xr-preview'><span>282.3 282.4 282.5 282.5 282.7 282.7 ... 301.4 301.3 301.1 301.0 300.8</span></div><div class='xr-array-data'><pre>array([[[282.3029 , 282.37982, 282.453  , ..., 285.12256, 285.29666,\n",
       "         284.7596 ],\n",
       "        [283.459  , 283.4972 , 283.5798 , ..., 286.4485 , 286.78424,\n",
       "         286.2769 ],\n",
       "        [284.62888, 284.65228, 284.7156 , ..., 287.77362, 288.0664 ,\n",
       "         287.87802],\n",
       "        ...,\n",
       "        [300.6783 , 297.80142, 301.59268, ..., 302.07162, 302.01572,\n",
       "         301.93628],\n",
       "        [297.66537, 296.9991 , 301.1753 , ..., 301.60736, 301.49063,\n",
       "         301.36142],\n",
       "        [296.50525, 301.20428, 301.6382 , ..., 301.0947 , 300.9362 ,\n",
       "         300.7725 ]],\n",
       "\n",
       "       [[282.7254 , 282.80463, 282.88074, ..., 285.83698, 286.00516,\n",
       "         285.44794],\n",
       "        [283.92322, 283.95853, 284.0398 , ..., 287.20044, 287.55966,\n",
       "         286.83868],\n",
       "        [285.1558 , 285.1732 , 285.2386 , ..., 288.56027, 288.86633,\n",
       "         288.47354],\n",
       "...\n",
       "        [300.4305 , 298.107  , 302.19376, ..., 301.91733, 301.91766,\n",
       "         301.88547],\n",
       "        [297.88455, 297.2016 , 301.8522 , ..., 301.48654, 301.40683,\n",
       "         301.33057],\n",
       "        [296.87653, 302.21036, 302.53326, ..., 301.00912, 300.89197,\n",
       "         300.77475]],\n",
       "\n",
       "       [[281.152  , 281.22144, 281.2946 , ..., 283.62625, 283.7778 ,\n",
       "         283.2848 ],\n",
       "        [282.34995, 282.37405, 282.44168, ..., 284.8917 , 285.18594,\n",
       "         284.7441 ],\n",
       "        [283.42715, 283.44675, 283.4926 , ..., 286.09814, 286.3729 ,\n",
       "         286.20593],\n",
       "        ...,\n",
       "        [300.74658, 297.96945, 302.2252 , ..., 302.01318, 301.9762 ,\n",
       "         301.9234 ],\n",
       "        [297.82126, 297.0872 , 301.7551 , ..., 301.58798, 301.49747,\n",
       "         301.39532],\n",
       "        [296.7144 , 301.92868, 302.28696, ..., 301.1211 , 300.98816,\n",
       "         300.84598]]], dtype=float32)</pre></div></div></li><li class='xr-section-item'><input id='section-330aa3e3-9ccc-4925-9f83-670b39d89a56' class='xr-section-summary-in' type='checkbox'  checked><label for='section-330aa3e3-9ccc-4925-9f83-670b39d89a56' class='xr-section-summary' >Coordinates: <span>(3)</span></label><div class='xr-section-inline-details'></div><div class='xr-section-details'><ul class='xr-var-list'><li class='xr-var-item'><div class='xr-var-name'><span class='xr-has-index'>lat</span></div><div class='xr-var-dims'>(lat)</div><div class='xr-var-dtype'>float64</div><div class='xr-var-preview xr-preview'>-48.32 -46.42 ... -2.842 -0.9474</div><input id='attrs-de5db999-555f-42e0-8bb0-23a42130e889' class='xr-var-attrs-in' type='checkbox' ><label for='attrs-de5db999-555f-42e0-8bb0-23a42130e889' title='Show/Hide attributes'><svg class='icon xr-icon-file-text2'><use xlink:href='#icon-file-text2'></use></svg></label><input id='data-7ae68a6f-cce5-4e9f-9aa1-66efc07d610a' class='xr-var-data-in' type='checkbox'><label for='data-7ae68a6f-cce5-4e9f-9aa1-66efc07d610a' title='Show/Hide data repr'><svg class='icon xr-icon-database'><use xlink:href='#icon-database'></use></svg></label><div class='xr-var-attrs'><dl class='xr-attrs'><dt><span>long_name :</span></dt><dd>latitude</dd><dt><span>units :</span></dt><dd>degrees_north</dd></dl></div><div class='xr-var-data'><pre>array([-48.315789, -46.421053, -44.526316, -42.631579, -40.736842, -38.842105,\n",
       "       -36.947368, -35.052632, -33.157895, -31.263158, -29.368421, -27.473684,\n",
       "       -25.578947, -23.684211, -21.789474, -19.894737, -18.      , -16.105263,\n",
       "       -14.210526, -12.315789, -10.421053,  -8.526316,  -6.631579,  -4.736842,\n",
       "        -2.842105,  -0.947368])</pre></div></li><li class='xr-var-item'><div class='xr-var-name'><span class='xr-has-index'>lon</span></div><div class='xr-var-dims'>(lon)</div><div class='xr-var-dtype'>float64</div><div class='xr-var-preview xr-preview'>102.5 105.0 107.5 ... 165.0 167.5</div><input id='attrs-c0e48bc5-d6ea-48fb-8249-36cc9f5e3f8d' class='xr-var-attrs-in' type='checkbox' ><label for='attrs-c0e48bc5-d6ea-48fb-8249-36cc9f5e3f8d' title='Show/Hide attributes'><svg class='icon xr-icon-file-text2'><use xlink:href='#icon-file-text2'></use></svg></label><input id='data-07a18603-510b-48b1-8a87-61621eac0cf0' class='xr-var-data-in' type='checkbox'><label for='data-07a18603-510b-48b1-8a87-61621eac0cf0' title='Show/Hide data repr'><svg class='icon xr-icon-database'><use xlink:href='#icon-database'></use></svg></label><div class='xr-var-attrs'><dl class='xr-attrs'><dt><span>long_name :</span></dt><dd>longitude</dd><dt><span>units :</span></dt><dd>degrees_east</dd></dl></div><div class='xr-var-data'><pre>array([102.5, 105. , 107.5, 110. , 112.5, 115. , 117.5, 120. , 122.5, 125. ,\n",
       "       127.5, 130. , 132.5, 135. , 137.5, 140. , 142.5, 145. , 147.5, 150. ,\n",
       "       152.5, 155. , 157.5, 160. , 162.5, 165. , 167.5])</pre></div></li><li class='xr-var-item'><div class='xr-var-name'><span class='xr-has-index'>month</span></div><div class='xr-var-dims'>(month)</div><div class='xr-var-dtype'>int64</div><div class='xr-var-preview xr-preview'>1 2 3 4 5 6 7 8 9 10 11 12</div><input id='attrs-be5a6928-9c17-4b38-aa4e-d2d88190cb22' class='xr-var-attrs-in' type='checkbox' disabled><label for='attrs-be5a6928-9c17-4b38-aa4e-d2d88190cb22' title='Show/Hide attributes'><svg class='icon xr-icon-file-text2'><use xlink:href='#icon-file-text2'></use></svg></label><input id='data-7d48f1ec-f133-44db-a449-17617cba40dd' class='xr-var-data-in' type='checkbox'><label for='data-7d48f1ec-f133-44db-a449-17617cba40dd' title='Show/Hide data repr'><svg class='icon xr-icon-database'><use xlink:href='#icon-database'></use></svg></label><div class='xr-var-attrs'><dl class='xr-attrs'></dl></div><div class='xr-var-data'><pre>array([ 1,  2,  3,  4,  5,  6,  7,  8,  9, 10, 11, 12])</pre></div></li></ul></div></li><li class='xr-section-item'><input id='section-16466714-e2a2-41a0-a9b8-55e8d54f6104' class='xr-section-summary-in' type='checkbox' disabled ><label for='section-16466714-e2a2-41a0-a9b8-55e8d54f6104' class='xr-section-summary'  title='Expand/collapse section'>Attributes: <span>(0)</span></label><div class='xr-section-inline-details'></div><div class='xr-section-details'><dl class='xr-attrs'></dl></div></li></ul></div></div>"
      ],
      "text/plain": [
       "<xarray.DataArray 'TS' (month: 12, lat: 26, lon: 27)>\n",
       "array([[[282.3029 , 282.37982, 282.453  , ..., 285.12256, 285.29666,\n",
       "         284.7596 ],\n",
       "        [283.459  , 283.4972 , 283.5798 , ..., 286.4485 , 286.78424,\n",
       "         286.2769 ],\n",
       "        [284.62888, 284.65228, 284.7156 , ..., 287.77362, 288.0664 ,\n",
       "         287.87802],\n",
       "        ...,\n",
       "        [300.6783 , 297.80142, 301.59268, ..., 302.07162, 302.01572,\n",
       "         301.93628],\n",
       "        [297.66537, 296.9991 , 301.1753 , ..., 301.60736, 301.49063,\n",
       "         301.36142],\n",
       "        [296.50525, 301.20428, 301.6382 , ..., 301.0947 , 300.9362 ,\n",
       "         300.7725 ]],\n",
       "\n",
       "       [[282.7254 , 282.80463, 282.88074, ..., 285.83698, 286.00516,\n",
       "         285.44794],\n",
       "        [283.92322, 283.95853, 284.0398 , ..., 287.20044, 287.55966,\n",
       "         286.83868],\n",
       "        [285.1558 , 285.1732 , 285.2386 , ..., 288.56027, 288.86633,\n",
       "         288.47354],\n",
       "...\n",
       "        [300.4305 , 298.107  , 302.19376, ..., 301.91733, 301.91766,\n",
       "         301.88547],\n",
       "        [297.88455, 297.2016 , 301.8522 , ..., 301.48654, 301.40683,\n",
       "         301.33057],\n",
       "        [296.87653, 302.21036, 302.53326, ..., 301.00912, 300.89197,\n",
       "         300.77475]],\n",
       "\n",
       "       [[281.152  , 281.22144, 281.2946 , ..., 283.62625, 283.7778 ,\n",
       "         283.2848 ],\n",
       "        [282.34995, 282.37405, 282.44168, ..., 284.8917 , 285.18594,\n",
       "         284.7441 ],\n",
       "        [283.42715, 283.44675, 283.4926 , ..., 286.09814, 286.3729 ,\n",
       "         286.20593],\n",
       "        ...,\n",
       "        [300.74658, 297.96945, 302.2252 , ..., 302.01318, 301.9762 ,\n",
       "         301.9234 ],\n",
       "        [297.82126, 297.0872 , 301.7551 , ..., 301.58798, 301.49747,\n",
       "         301.39532],\n",
       "        [296.7144 , 301.92868, 302.28696, ..., 301.1211 , 300.98816,\n",
       "         300.84598]]], dtype=float32)\n",
       "Coordinates:\n",
       "  * lat      (lat) float64 -48.32 -46.42 -44.53 -42.63 ... -4.737 -2.842 -0.9474\n",
       "  * lon      (lon) float64 102.5 105.0 107.5 110.0 ... 160.0 162.5 165.0 167.5\n",
       "  * month    (month) int64 1 2 3 4 5 6 7 8 9 10 11 12"
      ]
     },
     "execution_count": 12,
     "metadata": {},
     "output_type": "execute_result"
    }
   ],
   "source": [
    "tsDa = fh.loadModelData('CESM-LME', 'TS', _model.cesmCntl)\n",
    "\n",
    "monMeansDa=tsDa.TS.groupby('time.month').mean(dim='time')\n",
    "\n",
    "monMeansDa.where(\n",
    "        (monMeansDa.lat>-50) & (monMeansDa.lat<0) & (monMeansDa.lon>100) & (monMeansDa.lon<170),\n",
    "        drop=True\n",
    "    ).load()"
   ]
  },
  {
   "cell_type": "markdown",
   "id": "9518d353-cd07-4df1-9da0-7799b08e694d",
   "metadata": {},
   "source": [
    "# Carve out an area of interest, and calculate anomalies"
   ]
  },
  {
   "cell_type": "code",
   "execution_count": 14,
   "id": "4c0469dd-6eb2-42a2-8ad9-bd5ae92ff5b7",
   "metadata": {},
   "outputs": [
    {
     "name": "stdout",
     "output_type": "stream",
     "text": [
      "/Volumes/Untitled/CMIP5-PMIP3/CESM-LME/mon/TS/\n",
      "Files imported: \n",
      " ['/Volumes/Untitled/CMIP5-PMIP3/CESM-LME/mon/TS/b.e11.BLMTRC5CN.f19_g16.001.cam.h0.TS.085001-184912.nc', '/Volumes/Untitled/CMIP5-PMIP3/CESM-LME/mon/TS/b.e11.BLMTRC5CN.f19_g16.001.cam.h0.TS.185001-200512.nc']\n"
     ]
    },
    {
     "name": "stderr",
     "output_type": "stream",
     "text": [
      "/Users/ajs/opt/anaconda3/lib/python3.8/site-packages/xarray/core/indexing.py:1369: PerformanceWarning: Slicing with an out-of-order index is generating 578 times more chunks\n",
      "  return self.array[key]\n"
     ]
    },
    {
     "name": "stdout",
     "output_type": "stream",
     "text": [
      "/Volumes/Untitled/CMIP5-PMIP3/CESM-LME/mon/TS/\n",
      "Files imported: \n",
      " ['/Volumes/Untitled/CMIP5-PMIP3/CESM-LME/mon/TS/b.e11.BLMTRC5CN.f19_g16.002.cam.h0.TS.085001-184912.nc', '/Volumes/Untitled/CMIP5-PMIP3/CESM-LME/mon/TS/b.e11.BLMTRC5CN.f19_g16.002.cam.h0.TS.185001-200512.nc']\n"
     ]
    },
    {
     "name": "stderr",
     "output_type": "stream",
     "text": [
      "/Users/ajs/opt/anaconda3/lib/python3.8/site-packages/xarray/core/indexing.py:1369: PerformanceWarning: Slicing with an out-of-order index is generating 578 times more chunks\n",
      "  return self.array[key]\n"
     ]
    },
    {
     "name": "stdout",
     "output_type": "stream",
     "text": [
      "/Volumes/Untitled/CMIP5-PMIP3/CESM-LME/mon/TS/\n",
      "Files imported: \n",
      " ['/Volumes/Untitled/CMIP5-PMIP3/CESM-LME/mon/TS/b.e11.BRCP85C5CN.f19_g16.LME.002.cam.h0.TS.200601-210012.nc']\n"
     ]
    },
    {
     "name": "stderr",
     "output_type": "stream",
     "text": [
      "/Users/ajs/opt/anaconda3/lib/python3.8/site-packages/xarray/core/indexing.py:1369: PerformanceWarning: Slicing with an out-of-order index is generating 417 times more chunks\n",
      "  return self.array[key]\n"
     ]
    },
    {
     "name": "stdout",
     "output_type": "stream",
     "text": [
      "/Volumes/Untitled/CMIP5-PMIP3/CESM-LME/mon/TS/\n",
      "Files imported: \n",
      " ['/Volumes/Untitled/CMIP5-PMIP3/CESM-LME/mon/TS/b.e11.BLMTRC5CN.f19_g16.003.cam.h0.TS.085001-184912.nc', '/Volumes/Untitled/CMIP5-PMIP3/CESM-LME/mon/TS/b.e11.BLMTRC5CN.f19_g16.003.cam.h0.TS.185001-200512.nc']\n"
     ]
    },
    {
     "name": "stderr",
     "output_type": "stream",
     "text": [
      "/Users/ajs/opt/anaconda3/lib/python3.8/site-packages/xarray/core/indexing.py:1369: PerformanceWarning: Slicing with an out-of-order index is generating 578 times more chunks\n",
      "  return self.array[key]\n"
     ]
    },
    {
     "name": "stdout",
     "output_type": "stream",
     "text": [
      "/Volumes/Untitled/CMIP5-PMIP3/CESM-LME/mon/TS/\n",
      "Files imported: \n",
      " ['/Volumes/Untitled/CMIP5-PMIP3/CESM-LME/mon/TS/b.e11.BRCP85C5CN.f19_g16.LME.003.cam.h0.TS.200601-210012.nc']\n"
     ]
    },
    {
     "name": "stderr",
     "output_type": "stream",
     "text": [
      "/Users/ajs/opt/anaconda3/lib/python3.8/site-packages/xarray/core/indexing.py:1369: PerformanceWarning: Slicing with an out-of-order index is generating 417 times more chunks\n",
      "  return self.array[key]\n"
     ]
    },
    {
     "name": "stdout",
     "output_type": "stream",
     "text": [
      "/Volumes/Untitled/CMIP5-PMIP3/CESM-LME/mon/TS/\n",
      "Files imported: \n",
      " ['/Volumes/Untitled/CMIP5-PMIP3/CESM-LME/mon/TS/b.e11.BLMTRC5CN.f19_g16.004.cam.h0.TS.085001-184912.nc', '/Volumes/Untitled/CMIP5-PMIP3/CESM-LME/mon/TS/b.e11.BLMTRC5CN.f19_g16.004.cam.h0.TS.185001-200512.nc']\n"
     ]
    },
    {
     "name": "stderr",
     "output_type": "stream",
     "text": [
      "/Users/ajs/opt/anaconda3/lib/python3.8/site-packages/xarray/core/indexing.py:1369: PerformanceWarning: Slicing with an out-of-order index is generating 578 times more chunks\n",
      "  return self.array[key]\n"
     ]
    },
    {
     "name": "stdout",
     "output_type": "stream",
     "text": [
      "/Volumes/Untitled/CMIP5-PMIP3/CESM-LME/mon/TS/\n",
      "Files imported: \n",
      " ['/Volumes/Untitled/CMIP5-PMIP3/CESM-LME/mon/TS/b.e11.BLMTRC5CN.f19_g16.005.cam.h0.TS.085001-184912.nc', '/Volumes/Untitled/CMIP5-PMIP3/CESM-LME/mon/TS/b.e11.BLMTRC5CN.f19_g16.005.cam.h0.TS.185001-200512.nc']\n"
     ]
    },
    {
     "name": "stderr",
     "output_type": "stream",
     "text": [
      "/Users/ajs/opt/anaconda3/lib/python3.8/site-packages/xarray/core/indexing.py:1369: PerformanceWarning: Slicing with an out-of-order index is generating 578 times more chunks\n",
      "  return self.array[key]\n"
     ]
    },
    {
     "name": "stdout",
     "output_type": "stream",
     "text": [
      "/Volumes/Untitled/CMIP5-PMIP3/CESM-LME/mon/TS/\n",
      "Files imported: \n",
      " ['/Volumes/Untitled/CMIP5-PMIP3/CESM-LME/mon/TS/b.e11.BLMTRC5CN.f19_g16.006.cam.h0.TS.085001-184912.nc', '/Volumes/Untitled/CMIP5-PMIP3/CESM-LME/mon/TS/b.e11.BLMTRC5CN.f19_g16.006.cam.h0.TS.185001-200512.nc']\n"
     ]
    },
    {
     "name": "stderr",
     "output_type": "stream",
     "text": [
      "/Users/ajs/opt/anaconda3/lib/python3.8/site-packages/xarray/core/indexing.py:1369: PerformanceWarning: Slicing with an out-of-order index is generating 578 times more chunks\n",
      "  return self.array[key]\n"
     ]
    },
    {
     "name": "stdout",
     "output_type": "stream",
     "text": [
      "/Volumes/Untitled/CMIP5-PMIP3/CESM-LME/mon/TS/\n",
      "Files imported: \n",
      " ['/Volumes/Untitled/CMIP5-PMIP3/CESM-LME/mon/TS/b.e11.BLMTRC5CN.f19_g16.007.cam.h0.TS.085001-184912.nc', '/Volumes/Untitled/CMIP5-PMIP3/CESM-LME/mon/TS/b.e11.BLMTRC5CN.f19_g16.007.cam.h0.TS.185001-200512.nc']\n"
     ]
    },
    {
     "name": "stderr",
     "output_type": "stream",
     "text": [
      "/Users/ajs/opt/anaconda3/lib/python3.8/site-packages/xarray/core/indexing.py:1369: PerformanceWarning: Slicing with an out-of-order index is generating 578 times more chunks\n",
      "  return self.array[key]\n"
     ]
    },
    {
     "name": "stdout",
     "output_type": "stream",
     "text": [
      "/Volumes/Untitled/CMIP5-PMIP3/CESM-LME/mon/TS/\n",
      "Files imported: \n",
      " ['/Volumes/Untitled/CMIP5-PMIP3/CESM-LME/mon/TS/b.e11.BLMTRC5CN.f19_g16.008.cam.h0.TS.085001-184912.nc', '/Volumes/Untitled/CMIP5-PMIP3/CESM-LME/mon/TS/b.e11.BLMTRC5CN.f19_g16.008.cam.h0.TS.185001-200512.nc']\n"
     ]
    },
    {
     "name": "stderr",
     "output_type": "stream",
     "text": [
      "/Users/ajs/opt/anaconda3/lib/python3.8/site-packages/xarray/core/indexing.py:1369: PerformanceWarning: Slicing with an out-of-order index is generating 578 times more chunks\n",
      "  return self.array[key]\n"
     ]
    },
    {
     "name": "stdout",
     "output_type": "stream",
     "text": [
      "/Volumes/Untitled/CMIP5-PMIP3/CESM-LME/mon/TS/\n",
      "Files imported: \n",
      " ['/Volumes/Untitled/CMIP5-PMIP3/CESM-LME/mon/TS/b.e11.BRCP85C5CN.f19_g16.LME.008.cam.h0.TS.200601-210012.nc']\n"
     ]
    },
    {
     "name": "stderr",
     "output_type": "stream",
     "text": [
      "/Users/ajs/opt/anaconda3/lib/python3.8/site-packages/xarray/core/indexing.py:1369: PerformanceWarning: Slicing with an out-of-order index is generating 417 times more chunks\n",
      "  return self.array[key]\n"
     ]
    },
    {
     "name": "stdout",
     "output_type": "stream",
     "text": [
      "/Volumes/Untitled/CMIP5-PMIP3/CESM-LME/mon/TS/\n",
      "Files imported: \n",
      " ['/Volumes/Untitled/CMIP5-PMIP3/CESM-LME/mon/TS/b.e11.BLMTRC5CN.f19_g16.009.cam.h0.TS.085001-184912.nc', '/Volumes/Untitled/CMIP5-PMIP3/CESM-LME/mon/TS/b.e11.BLMTRC5CN.f19_g16.009.cam.h0.TS.185001-200512.nc']\n"
     ]
    },
    {
     "name": "stderr",
     "output_type": "stream",
     "text": [
      "/Users/ajs/opt/anaconda3/lib/python3.8/site-packages/xarray/core/indexing.py:1369: PerformanceWarning: Slicing with an out-of-order index is generating 578 times more chunks\n",
      "  return self.array[key]\n"
     ]
    },
    {
     "name": "stdout",
     "output_type": "stream",
     "text": [
      "/Volumes/Untitled/CMIP5-PMIP3/CESM-LME/mon/TS/\n",
      "Files imported: \n",
      " ['/Volumes/Untitled/CMIP5-PMIP3/CESM-LME/mon/TS/b.e11.BRCP85C5CN.f19_g16.LME.009.cam.h0.TS.200601-210012.nc']\n"
     ]
    },
    {
     "name": "stderr",
     "output_type": "stream",
     "text": [
      "/Users/ajs/opt/anaconda3/lib/python3.8/site-packages/xarray/core/indexing.py:1369: PerformanceWarning: Slicing with an out-of-order index is generating 417 times more chunks\n",
      "  return self.array[key]\n"
     ]
    },
    {
     "name": "stdout",
     "output_type": "stream",
     "text": [
      "/Volumes/Untitled/CMIP5-PMIP3/CESM-LME/mon/TS/\n",
      "Files imported: \n",
      " ['/Volumes/Untitled/CMIP5-PMIP3/CESM-LME/mon/TS/b.e11.BLMTRC5CN.f19_g16.010.cam.h0.TS.085001-184912.nc', '/Volumes/Untitled/CMIP5-PMIP3/CESM-LME/mon/TS/b.e11.BLMTRC5CN.f19_g16.010.cam.h0.TS.185001-200512.nc']\n"
     ]
    },
    {
     "name": "stderr",
     "output_type": "stream",
     "text": [
      "/Users/ajs/opt/anaconda3/lib/python3.8/site-packages/xarray/core/indexing.py:1369: PerformanceWarning: Slicing with an out-of-order index is generating 578 times more chunks\n",
      "  return self.array[key]\n"
     ]
    },
    {
     "name": "stdout",
     "output_type": "stream",
     "text": [
      "/Volumes/Untitled/CMIP5-PMIP3/CESM-LME/mon/TS/\n",
      "Files imported: \n",
      " ['/Volumes/Untitled/CMIP5-PMIP3/CESM-LME/mon/TS/b.e11.BLMTRC5CN.f19_g16.011.cam.h0.TS.085001-184912.nc', '/Volumes/Untitled/CMIP5-PMIP3/CESM-LME/mon/TS/b.e11.BLMTRC5CN.f19_g16.011.cam.h0.TS.185001-200512.nc']\n"
     ]
    },
    {
     "name": "stderr",
     "output_type": "stream",
     "text": [
      "/Users/ajs/opt/anaconda3/lib/python3.8/site-packages/xarray/core/indexing.py:1369: PerformanceWarning: Slicing with an out-of-order index is generating 578 times more chunks\n",
      "  return self.array[key]\n"
     ]
    },
    {
     "name": "stdout",
     "output_type": "stream",
     "text": [
      "/Volumes/Untitled/CMIP5-PMIP3/CESM-LME/mon/TS/\n",
      "Files imported: \n",
      " ['/Volumes/Untitled/CMIP5-PMIP3/CESM-LME/mon/TS/b.e11.BLMTRC5CN.f19_g16.012.cam.h0.TS.085001-184912.nc', '/Volumes/Untitled/CMIP5-PMIP3/CESM-LME/mon/TS/b.e11.BLMTRC5CN.f19_g16.012.cam.h0.TS.185001-200512.nc']\n"
     ]
    },
    {
     "name": "stderr",
     "output_type": "stream",
     "text": [
      "/Users/ajs/opt/anaconda3/lib/python3.8/site-packages/xarray/core/indexing.py:1369: PerformanceWarning: Slicing with an out-of-order index is generating 578 times more chunks\n",
      "  return self.array[key]\n"
     ]
    },
    {
     "name": "stdout",
     "output_type": "stream",
     "text": [
      "/Volumes/Untitled/CMIP5-PMIP3/CESM-LME/mon/TS/\n",
      "Files imported: \n",
      " ['/Volumes/Untitled/CMIP5-PMIP3/CESM-LME/mon/TS/b.e11.BLMTRC5CN.f19_g16.013.cam.h0.TS.085001-184912.nc', '/Volumes/Untitled/CMIP5-PMIP3/CESM-LME/mon/TS/b.e11.BLMTRC5CN.f19_g16.013.cam.h0.TS.185001-200512.nc']\n"
     ]
    },
    {
     "name": "stderr",
     "output_type": "stream",
     "text": [
      "/Users/ajs/opt/anaconda3/lib/python3.8/site-packages/xarray/core/indexing.py:1369: PerformanceWarning: Slicing with an out-of-order index is generating 578 times more chunks\n",
      "  return self.array[key]\n"
     ]
    }
   ],
   "source": [
    "\n",
    "for experiment in _model.cesmFullForcings:\n",
    "    \n",
    "    #load it\n",
    "    tsDa = fh.loadModelData('CESM-LME', 'TS', experiment).TS\n",
    "    \n",
    "    #anom\n",
    "    anomDa=tsDa.groupby('time.month')-monMeansDa\n",
    "    anomDa.name='tsAnom'\n",
    "        \n",
    "    #grab area around Australia\n",
    "    domainDa=anomDa.where(\n",
    "        (anomDa.lat>-50) & (anomDa.lat<0) & (anomDa.lon>100) & (anomDa.lon<170),\n",
    "        drop=True\n",
    "    )\n",
    "    \n",
    "    # convert to mm/year and store\n",
    "    domainDa.to_netcdf('results/cesmMonthlyTs/'+experiment+'.nc')\n",
    "    \n",
    "     #rcp85 extensions\n",
    "    if experiment in ['002','003', '008', '009']: \n",
    "        \n",
    "        #extensions\n",
    "        extTsDa = fh.loadModelData('CESM-LME', 'TS', 'LME.'+experiment)\n",
    "        tsDa=xarray.concat([tsDa, extTsDa.TS], 'time')\n",
    "\n",
    "        #anom\n",
    "        anomDa=tsDa.groupby('time.month')-monMeansDa\n",
    "        anomDa.name='tsAnom'\n",
    "\n",
    "        #grab area around Australia\n",
    "        domainDa=anomDa.where(\n",
    "            (anomDa.lat>-50) & (anomDa.lat<0) & (anomDa.lon>100) & (anomDa.lon<170),\n",
    "            drop=True\n",
    "        )\n",
    "\n",
    "        # convert to mm/year and store\n",
    "        domainDa.to_netcdf('results/cesmMonthlyTs/LME.'+experiment+'.nc')\n",
    "        \n",
    "    \n",
    "    "
   ]
  },
  {
   "cell_type": "markdown",
   "id": "bdd3ab43-c893-4240-9ff3-f066aacce9e2",
   "metadata": {},
   "source": [
    "# Time averaging for the anomalies"
   ]
  },
  {
   "cell_type": "code",
   "execution_count": 15,
   "id": "16dd9fb3-7f1f-4a4c-9bf0-50ae73a9eed2",
   "metadata": {},
   "outputs": [],
   "source": [
    "monthlyAnomDa=xarray.concat([\n",
    "    xarray.open_dataset('results/cesmMonthlyTs/'+iExp+'.nc') for iExp in _model.cesmAll],\n",
    "    'experiment')\n",
    "    \n",
    "\n",
    "monthlyAnomDa=monthlyAnomDa.assign({'experiment':_model.cesmAll})\n",
    "\n",
    "warmSeasonAnomDa=tp.averageForTimePeriod(monthlyAnomDa)\n",
    "\n",
    "warmSeasonAnomDa.to_netcdf('results/cesmTsAnoms.nc')"
   ]
  },
  {
   "cell_type": "code",
   "execution_count": null,
   "id": "a716deeb-a8bb-4d6e-b97d-1af985974330",
   "metadata": {},
   "outputs": [],
   "source": []
  }
 ],
 "metadata": {
  "kernelspec": {
   "display_name": "Python 3",
   "language": "python",
   "name": "python3"
  },
  "language_info": {
   "codemirror_mode": {
    "name": "ipython",
    "version": 3
   },
   "file_extension": ".py",
   "mimetype": "text/x-python",
   "name": "python",
   "nbconvert_exporter": "python",
   "pygments_lexer": "ipython3",
   "version": "3.8.8"
  }
 },
 "nbformat": 4,
 "nbformat_minor": 5
}
