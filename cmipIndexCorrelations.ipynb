{
 "cells": [
  {
   "cell_type": "code",
   "execution_count": 16,
   "id": "1aa167f7-2946-4265-a591-6bf07dc77476",
   "metadata": {},
   "outputs": [],
   "source": [
    "import xarray\n",
    "import matplotlib.pyplot as plt"
   ]
  },
  {
   "cell_type": "code",
   "execution_count": 26,
   "id": "0afd7aa2-fb55-42fe-98c7-e942fa0cb45a",
   "metadata": {},
   "outputs": [],
   "source": [
    "indexXr=xarray.merge([\n",
    "    xarray.open_dataset('results/cmip6EcIndex.nc').sel(year=slice(1850,2098),experiment='ssp585',drop='True'),\n",
    "    xarray.open_dataset('results/cmip6ssp585TradIndecesTos.nc').sel(year=slice(1850,2098))\n",
    "])\n"
   ]
  },
  {
   "cell_type": "code",
   "execution_count": 232,
   "id": "c46ee199-a6df-4e91-8ea7-13899f703551",
   "metadata": {},
   "outputs": [],
   "source": [
    "obsXr=xarray.open_dataset('results/obsIndeces.nc')"
   ]
  },
  {
   "cell_type": "code",
   "execution_count": 38,
   "id": "33d99fd6-813d-4cdc-8eef-1f97a6ce6b80",
   "metadata": {},
   "outputs": [],
   "source": [
    "from scipy.stats import pearsonr\n",
    "import numpy as np"
   ]
  },
  {
   "cell_type": "code",
   "execution_count": 235,
   "id": "82d600fa-aa99-43e6-94f9-b9a2afd521f6",
   "metadata": {},
   "outputs": [],
   "source": [
    "modCorLs=list()\n",
    "for iMod in indexXr.model:\n",
    "\n",
    "    modelXr=indexXr.sel(model=iMod,drop=True)\n",
    "    \n",
    "    years=np.arange(1865,2085)\n",
    "    rLs=list()\n",
    "    pLs=list()\n",
    "    for iYear in years:\n",
    "\n",
    "\n",
    "        r,p=pearsonr(\n",
    "            modelXr['cIndex'].sel(year=slice(iYear-15,iYear+14)),\n",
    "            modelXr['dmi'].sel(year=slice(iYear-15,iYear+14))\n",
    "        )\n",
    "        rLs.append(r)\n",
    "        pLs.append(p)\n",
    "\n",
    "    modCorLs.append(\n",
    "        xarray.DataArray([rLs,pLs],\n",
    "                     dims=['data','year'],\n",
    "                     coords={\n",
    "                         'data':['r','p'],\n",
    "                         'year':years,\n",
    "                         'model':iMod\n",
    "                     }\n",
    "                    ).to_dataset('data')\n",
    "    )\n",
    "\n",
    "\n",
    "correlationsXr=xarray.concat(modCorLs,'model')"
   ]
  },
  {
   "cell_type": "code",
   "execution_count": 236,
   "id": "9f5b421f-6dab-4bda-ab5d-80249c598958",
   "metadata": {},
   "outputs": [],
   "source": [
    "years=np.arange(1957+15,2000)\n",
    "rLs=list()\n",
    "pLs=list()\n",
    "for iYear in years:\n",
    "\n",
    "\n",
    "    r,p=pearsonr(\n",
    "        obsXr['cIndex'].sel(year=slice(iYear-15,iYear+14)),\n",
    "        obsXr['dmi'].sel(year=slice(iYear-15,iYear+14))\n",
    "    )\n",
    "    rLs.append(r)\n",
    "    pLs.append(p)\n",
    "\n",
    "obsCorXr=(\n",
    "    xarray.DataArray([rLs,pLs],\n",
    "                 dims=['data','year'],\n",
    "                 coords={\n",
    "                     'data':['r','p'],\n",
    "                     'year':years,\n",
    "                 }\n",
    "                ).to_dataset('data')\n",
    ")\n"
   ]
  },
  {
   "cell_type": "code",
   "execution_count": 239,
   "id": "5b2deaae-48ce-4bcc-a61e-a9d73267e811",
   "metadata": {},
   "outputs": [
    {
     "data": {
      "text/plain": [
       "[<matplotlib.lines.Line2D at 0x14bf028af670>]"
      ]
     },
     "execution_count": 239,
     "metadata": {},
     "output_type": "execute_result"
    },
    {
     "data": {
      "image/png": "[encoded data removed]",
      "text/plain": [
       "<Figure size 432x288 with 1 Axes>"
      ]
     },
     "metadata": {
      "needs_background": "light"
     },
     "output_type": "display_data"
    }
   ],
   "source": [
    "plotData=correlationsXr['r']\n",
    "\n",
    "#blue line for multi-experiment mean, and light blue shading between min and max\n",
    "plt.plot(\n",
    "    plotData.year.values, \n",
    "    plotData.mean('model').values, \n",
    "    #label=indexToPlot[i], \n",
    "    #color=mainColor[i], \n",
    ")\n",
    "plt.fill_between(\n",
    "    plotData.year.values, \n",
    "    plotData.min('model').values, \n",
    "    plotData.max('model').values, \n",
    "#    color=mainColor[i], \n",
    "    alpha=0.1\n",
    ")\n",
    "\n",
    "plt.plot(\n",
    "    obsCorXr.year.values, \n",
    "    obsCorXr.r.values, \n",
    "    #label=indexToPlot[i], \n",
    "    #color=mainColor[i], \n",
    ")\n",
    "\n"
   ]
  },
  {
   "cell_type": "code",
   "execution_count": null,
   "id": "1f12983a-ab11-4928-8d6a-24ed091d04ce",
   "metadata": {},
   "outputs": [],
   "source": []
  }
 ],
 "metadata": {
  "kernelspec": {
   "display_name": "Python 3",
   "language": "python",
   "name": "python3"
  },
  "language_info": {
   "codemirror_mode": {
    "name": "ipython",
    "version": 3
   },
   "file_extension": ".py",
   "mimetype": "text/x-python",
   "name": "python",
   "nbconvert_exporter": "python",
   "pygments_lexer": "ipython3",
   "version": "3.8.10"
  }
 },
 "nbformat": 4,
 "nbformat_minor": 5
}
