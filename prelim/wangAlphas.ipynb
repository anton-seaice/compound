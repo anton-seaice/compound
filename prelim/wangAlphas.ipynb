{
 "cells": [
  {
   "cell_type": "markdown",
   "metadata": {},
   "source": [
    "# Test E & C Index calcs"
   ]
  },
  {
   "cell_type": "code",
   "execution_count": 1,
   "metadata": {
    "tags": []
   },
   "outputs": [],
   "source": [
    "import sys\n",
    "sys.path.append('../')\n",
    "\n",
    "#import my functions\n",
    "import helpers.fileHandler as fh\n",
    "import utils._modelDefinitions as _model\n",
    "import utils._indexDefinitions as _index\n",
    "import utils.timePeriod as tp"
   ]
  },
  {
   "cell_type": "code",
   "execution_count": 2,
   "metadata": {
    "tags": []
   },
   "outputs": [],
   "source": [
    "import xarray\n",
    "import numpy\n",
    "import matplotlib.pyplot as plt\n",
    "import cartopy.crs as ccrs\n",
    "import cartopy.feature as cfeature\n"
   ]
  },
  {
   "cell_type": "code",
   "execution_count": 3,
   "metadata": {},
   "outputs": [],
   "source": [
    "import warnings\n",
    "warnings.filterwarnings('ignore')"
   ]
  },
  {
   "cell_type": "code",
   "execution_count": 4,
   "metadata": {},
   "outputs": [
    {
     "data": {
      "text/plain": [
       "<dask.config.set at 0x154226136400>"
      ]
     },
     "execution_count": 4,
     "metadata": {},
     "output_type": "execute_result"
    }
   ],
   "source": [
    "import dask.config\n",
    "dask.config.set({\"array.slicing.split_large_chunks\": True})"
   ]
  },
  {
   "cell_type": "code",
   "execution_count": null,
   "metadata": {},
   "outputs": [],
   "source": []
  },
  {
   "cell_type": "code",
   "execution_count": 5,
   "metadata": {},
   "outputs": [
    {
     "name": "stdout",
     "output_type": "stream",
     "text": [
      "<Client: 'tcp://127.0.0.1:43531' processes=1 threads=1, memory=4.29 GB>\n"
     ]
    }
   ],
   "source": [
    "from dask.distributed import Client, LocalCluster\n",
    "client = Client()\n",
    "print(client)"
   ]
  },
  {
   "cell_type": "code",
   "execution_count": 6,
   "metadata": {},
   "outputs": [
    {
     "data": {
      "text/html": [
       "<table style=\"border: 2px solid white;\">\n",
       "<tr>\n",
       "<td style=\"vertical-align: top; border: 0px solid white\">\n",
       "<h3 style=\"text-align: left;\">Client</h3>\n",
       "<ul style=\"text-align: left; list-style: none; margin: 0; padding: 0;\">\n",
       "  <li><b>Scheduler: </b>tcp://127.0.0.1:43531</li>\n",
       "  <li><b>Dashboard: </b><a href='/proxy/8787/status' target='_blank'>/proxy/8787/status</a></li>\n",
       "</ul>\n",
       "</td>\n",
       "<td style=\"vertical-align: top; border: 0px solid white\">\n",
       "<h3 style=\"text-align: left;\">Cluster</h3>\n",
       "<ul style=\"text-align: left; list-style:none; margin: 0; padding: 0;\">\n",
       "  <li><b>Workers: </b>1</li>\n",
       "  <li><b>Cores: </b>1</li>\n",
       "  <li><b>Memory: </b>4.29 GB</li>\n",
       "</ul>\n",
       "</td>\n",
       "</tr>\n",
       "</table>"
      ],
      "text/plain": [
       "<Client: 'tcp://127.0.0.1:43531' processes=1 threads=1, memory=4.29 GB>"
      ]
     },
     "execution_count": 6,
     "metadata": {},
     "output_type": "execute_result"
    }
   ],
   "source": [
    "client"
   ]
  },
  {
   "cell_type": "code",
   "execution_count": 7,
   "metadata": {},
   "outputs": [],
   "source": [
    "#load the full model set\n",
    "modelSet=_model.scenarioMip"
   ]
  },
  {
   "cell_type": "markdown",
   "metadata": {},
   "source": [
    "This is the models which have alpha less than -0.15 from the Wang 2020"
   ]
  },
  {
   "cell_type": "code",
   "execution_count": 8,
   "metadata": {},
   "outputs": [],
   "source": [
    "expectedToUse = modelSet[[4,9,11,12,15,17,30,29,22,31,32,33,21,6,7,35,36,20,8],:]\n",
    "#expectedToUse = modelSet[[6,7],:]"
   ]
  },
  {
   "cell_type": "code",
   "execution_count": 9,
   "metadata": {},
   "outputs": [
    {
     "data": {
      "text/plain": [
       "array([['CAMS', 'CAMS-CSM1-0', 'r1i1p1f1', 'r1i1p1f1'],\n",
       "       ['CMCC', 'CMCC-CM2-SR5', 'r1i1p1f1', 'r1i1p1f1'],\n",
       "       ['CNRM-CERFACS', 'CNRM-CM6-1', 'r1i1p1f2_gn', 'r1i1p1f2_gn'],\n",
       "       ['CNRM-CERFACS', 'CNRM-ESM2-1', 'r1i1p1f2_gn', 'r1i1p1f2_gn'],\n",
       "       ['EC-Earth-Consortium', 'EC-Earth3', 'r1i1p1f1', 'r1i1p1f1'],\n",
       "       ['EC-Earth-Consortium', 'EC-Earth3-Veg', 'r1i1p1f1', 'r1i1p1f1'],\n",
       "       ['MIROC', 'MIROC6', 'r1i1p1f1', 'r1i1p1f1'],\n",
       "       ['MIROC', 'MIROC-ES2L', 'r1i1p1f2_gn', 'r1i1p1f2_gn'],\n",
       "       ['MOHC', 'HadGEM3-GC31-LL', 'r1i1p1f1', 'r1i1p1f3'],\n",
       "       ['MPI-M', 'MPI-ESM1-2-HR', 'r1i1p1f1', 'r1i1p1f1'],\n",
       "       ['MPI-M', 'MPI-ESM1-2-LR', 'r1i1p1f1', 'r1i1p1f1'],\n",
       "       ['MRI', 'MRI-ESM2-0', 'r1i1p1f1', 'r1i1p1f1'],\n",
       "       ['NASA-GISS', 'GISS-E2-1-G', 'r1i1p1f2', 'r1i1p1f2'],\n",
       "       ['NCAR', 'CESM2', 'r1i1p1f1', 'r10i1p1f1'],\n",
       "       ['NCAR', 'CESM2-WACCM', 'r1i1p1f1', 'r1i1p1f1'],\n",
       "       ['NCC', 'NorESM2-LM', 'r1i1p1f1', 'r1i1p1f1'],\n",
       "       ['NCC', 'NorESM2-MM', 'r1i1p1f1', 'r1i1p1f1'],\n",
       "       ['NOAA-GFDL', 'GFDL-ESM4', 'r1i1p1f1', 'r1i1p1f1'],\n",
       "       ['THU', 'CIESM', 'r1i1p1f1', 'r1i1p1f1']], dtype='<U19')"
      ]
     },
     "execution_count": 9,
     "metadata": {},
     "output_type": "execute_result"
    }
   ],
   "source": [
    "expectedToUse"
   ]
  },
  {
   "cell_type": "code",
   "execution_count": 10,
   "metadata": {},
   "outputs": [
    {
     "data": {
      "text/plain": [
       "19"
      ]
     },
     "execution_count": 10,
     "metadata": {},
     "output_type": "execute_result"
    }
   ],
   "source": [
    "len(expectedToUse)"
   ]
  },
  {
   "cell_type": "markdown",
   "metadata": {},
   "source": [
    "For all the models, calculate the alphas"
   ]
  },
  {
   "cell_type": "code",
   "execution_count": null,
   "metadata": {},
   "outputs": [
    {
     "name": "stdout",
     "output_type": "stream",
     "text": [
      "BCC-CSM2-MR\n",
      "Warning: could not replace latitude with lat\n",
      "Warning: could not replace latitude with lat\n"
     ]
    }
   ],
   "source": [
    "%run ../utils/ecIndex.ipynb\n",
    "\n",
    "\n",
    "for iModel in modelSet[3:,:]:\n",
    "    try:\n",
    "        print(iModel[1])\n",
    "        \n",
    "        tsXr = xarray.concat([fh.loadModelData(iModel[1], 'tos_Omon', 'historical', iModel[3], \n",
    "                                              ).tos, \n",
    "                              fh.loadModelData(iModel[1], 'tos_Omon', 'ssp585', iModel[3], \n",
    "                                              ).tos], \n",
    "                             dim='time')\n",
    "\n",
    "        sstAnomXr=sstAnoms(tsXr)\n",
    "\n",
    "        sstAnomXr.to_netcdf('results/wangAlphas/sstAnom'+iModel[1]+'.nc')\n",
    "        \n",
    "        sstAnomXr.close()\n",
    "        \n",
    "    except Exception as e:\n",
    "        print(e)\n",
    "        "
   ]
  },
  {
   "cell_type": "code",
   "execution_count": null,
   "metadata": {},
   "outputs": [],
   "source": [
    "alphas=list()\n",
    "\n",
    "\n",
    "for iModel in expectedToUse:\n",
    "    try:\n",
    "        sstAnomXr=xarray.open_dataset('results/wangAlphas/sstAnom'+iModel[1]+'.nc')\n",
    "        \n",
    "        indeces, pFit, eofsXr = ecIndex(sstAnomXr)\n",
    "        \n",
    "        fig=plt.figure(figsize=(18,12))\n",
    "\n",
    "        for mode in [0,1]:\n",
    "            ax=fig.add_subplot(1,2,mode+1,\n",
    "                           projection=ccrs.Miller(central_longitude=210))\n",
    "\n",
    "            ensoPlotter(eofsXr.sel(mode=mode), ax)\n",
    "\n",
    "            plt.title(\"mode \" + str(mode))\n",
    "\n",
    "        plt.show()\n",
    "\n",
    "        print(str(indeces.alpha.values) + ' ... ' + str(indeces.alphaDjf.values))\n",
    "        alphas.append(indeces.alpha.values)\n",
    "        fig = plt.figure()\n",
    "\n",
    "        plt.scatter(indeces.pc1, indeces.pc2)\n",
    "\n",
    "        plt.plot(*pFit.linspace(), 'r')\n",
    "        \n",
    "        plt.show()\n",
    "        \n",
    "    except Exception as e:\n",
    "        print(e)"
   ]
  },
  {
   "cell_type": "code",
   "execution_count": null,
   "metadata": {},
   "outputs": [],
   "source": [
    "wangsAnswers=[-0.2902,-0.4055,-0.1662, -0.1687, -0.2662, -0.2665, -0.3198, -0.3466, -0.1785, -0.2660, \n",
    "             -0.2338, -0.3387, -0.3644, -0.3216, -0.2436, -0.2505, -.2077, -.1931, -.01886]"
   ]
  },
  {
   "cell_type": "code",
   "execution_count": null,
   "metadata": {},
   "outputs": [],
   "source": [
    "print(alphas)"
   ]
  },
  {
   "cell_type": "code",
   "execution_count": null,
   "metadata": {},
   "outputs": [],
   "source": [
    "len(alphas)"
   ]
  },
  {
   "cell_type": "code",
   "execution_count": null,
   "metadata": {},
   "outputs": [],
   "source": [
    "array=numpy.array(alphas)"
   ]
  },
  {
   "cell_type": "code",
   "execution_count": null,
   "metadata": {},
   "outputs": [],
   "source": [
    "array-wangsAnswers"
   ]
  },
  {
   "cell_type": "code",
   "execution_count": null,
   "metadata": {},
   "outputs": [],
   "source": [
    "print('model         calculated           expected')\n",
    "for i in range(0, len(expectedToUse)):\n",
    "    iModel=expectedToUse[i,1]\n",
    "    print(str(iModel) + ' : ' + str(alphas[i]) + '   ' + str(wangsAnswers[i]))"
   ]
  },
  {
   "cell_type": "code",
   "execution_count": null,
   "metadata": {},
   "outputs": [],
   "source": [
    "alpha"
   ]
  },
  {
   "cell_type": "markdown",
   "metadata": {},
   "source": [
    "# Full example /sandbox"
   ]
  },
  {
   "cell_type": "markdown",
   "metadata": {},
   "source": [
    "Climatology and piControl:"
   ]
  },
  {
   "cell_type": "code",
   "execution_count": null,
   "metadata": {},
   "outputs": [],
   "source": [
    "for iModel in [modelSet[29]]:\n",
    "    \n",
    "    print(iModel)\n",
    "    \n",
    "    try: \n",
    "            \n",
    "        #to replicate Wang 2020\n",
    "        tsXr = xarray.concat([fh.loadModelData(iModel[1], 'tos_Omon', 'historical', iModel[3], \n",
    "                                               chunks={'time':120}).tos, \n",
    "                              fh.loadModelData(iModel[1], 'tos_Omon', 'ssp585', iModel[3], \n",
    "                                               chunks={'time':120}).tos], \n",
    "                             dim='time')\n",
    "\n",
    "        #tsXr = tsXr.where((tsXr.time.dt.year>=1900) * (tsXr.time.dt.year<2100), \n",
    "        #    drop=True)\n",
    "\n",
    "        \n",
    "    except Exception as e:\n",
    "        print(iModel[1] + \"Climatology did not calculate\")\n",
    "        print(e)\n",
    " "
   ]
  },
  {
   "cell_type": "code",
   "execution_count": null,
   "metadata": {},
   "outputs": [],
   "source": [
    "(((tsXr.lon + 360) % 360))"
   ]
  },
  {
   "cell_type": "code",
   "execution_count": null,
   "metadata": {},
   "outputs": [],
   "source": [
    "tsXr.lon"
   ]
  },
  {
   "cell_type": "code",
   "execution_count": null,
   "metadata": {},
   "outputs": [],
   "source": [
    "tsXr.assign_coords({\"lon\": (((tsXr.lon + 180) % 360) - 180)})"
   ]
  },
  {
   "cell_type": "code",
   "execution_count": null,
   "metadata": {},
   "outputs": [],
   "source": [
    "(tsXr.where(tsXr.lat==0).lon<0).any()"
   ]
  },
  {
   "cell_type": "markdown",
   "metadata": {},
   "source": [
    "Cut it into the area of interest"
   ]
  },
  {
   "cell_type": "code",
   "execution_count": null,
   "metadata": {},
   "outputs": [],
   "source": [
    "tsXr=tsXr.where(\n",
    "    (tsXr.lat>=-15) & (tsXr.lat<=15) &\n",
    "    (tsXr.lon>=140) & (tsXr.lon<=280),\n",
    "    drop=True\n",
    ")"
   ]
  },
  {
   "cell_type": "code",
   "execution_count": null,
   "metadata": {},
   "outputs": [],
   "source": [
    "tsXr"
   ]
  },
  {
   "cell_type": "code",
   "execution_count": null,
   "metadata": {},
   "outputs": [],
   "source": [
    "tsXr=tsXr.where(\n",
    "    (tsXr.time.dt.year>=1900) * (tsXr.time.dt.year<2100), \n",
    "    drop=True\n",
    ")\n"
   ]
  },
  {
   "cell_type": "code",
   "execution_count": null,
   "metadata": {
    "tags": []
   },
   "outputs": [],
   "source": [
    "tsXr "
   ]
  },
  {
   "cell_type": "code",
   "execution_count": null,
   "metadata": {},
   "outputs": [],
   "source": [
    "from eofs.xarray import Eof\n",
    "\n"
   ]
  },
  {
   "cell_type": "raw",
   "metadata": {},
   "source": [
    "Monthly anomalies referenced to the climatology of the first 100 years\n",
    "were constructed and quadratically de-trended."
   ]
  },
  {
   "cell_type": "code",
   "execution_count": null,
   "metadata": {},
   "outputs": [],
   "source": [
    "trendXr = tsXr.polyfit('time', 2)"
   ]
  },
  {
   "cell_type": "code",
   "execution_count": null,
   "metadata": {},
   "outputs": [],
   "source": [
    "trendXr"
   ]
  },
  {
   "cell_type": "code",
   "execution_count": null,
   "metadata": {},
   "outputs": [],
   "source": [
    "trendXr = xarray.polyval(tsXr.time, trendXr.polyfit_coefficients, 'degree')\n"
   ]
  },
  {
   "cell_type": "code",
   "execution_count": null,
   "metadata": {},
   "outputs": [],
   "source": [
    "detrendXr=tsXr-trendXr"
   ]
  },
  {
   "cell_type": "code",
   "execution_count": null,
   "metadata": {},
   "outputs": [],
   "source": [
    "detrendXr"
   ]
  },
  {
   "cell_type": "raw",
   "metadata": {
    "tags": []
   },
   "source": [
    "We use a multivariate\n",
    "signal-processing method referred to as EOF analysis in an equatorial\n",
    "domain (15° S–15° N, 140° E–80° W) to de-convolve spatio-temporal variability\n",
    "into orthogonal modes"
   ]
  },
  {
   "cell_type": "code",
   "execution_count": null,
   "metadata": {
    "tags": []
   },
   "outputs": [],
   "source": [
    "sstMeanXr=detrendXr.where((detrendXr.time.dt.year>=1900) * (detrendXr.time.dt.year<2000), \n",
    "            drop=True).groupby('time.month').mean(dim='time')"
   ]
  },
  {
   "cell_type": "code",
   "execution_count": null,
   "metadata": {},
   "outputs": [],
   "source": [
    "sstMeanXr"
   ]
  },
  {
   "cell_type": "code",
   "execution_count": null,
   "metadata": {},
   "outputs": [],
   "source": [
    "sstAnomXr=detrendXr.groupby('time.month')-sstMeanXr"
   ]
  },
  {
   "cell_type": "code",
   "execution_count": null,
   "metadata": {},
   "outputs": [],
   "source": [
    "#sstAnomXr=sstAnomXr.drop('month')"
   ]
  },
  {
   "cell_type": "markdown",
   "metadata": {},
   "source": [
    "\n",
    "trendXr.isel(x=0,y=0).plot()\n",
    "\n",
    "detrendXr.isel(x=0,y=0).plot()\n",
    "\n",
    "sstAnomXr.isel(x=0,y=0).plot()"
   ]
  },
  {
   "cell_type": "code",
   "execution_count": null,
   "metadata": {
    "tags": []
   },
   "outputs": [],
   "source": [
    "import cartopy.crs as ccrs\n"
   ]
  },
  {
   "cell_type": "code",
   "execution_count": null,
   "metadata": {
    "tags": []
   },
   "outputs": [],
   "source": [
    "#there seems to be a bug in the Eof solver that doesn't handle dask very well,so pre calculating the result makes it work\n",
    "sstAnomXr.load()"
   ]
  },
  {
   "cell_type": "code",
   "execution_count": null,
   "metadata": {
    "tags": []
   },
   "outputs": [],
   "source": [
    "def myFunc(xr):\n",
    "\n",
    "    #although they don't really say this, I've applied an area weighting.\n",
    "\n",
    "    weights = numpy.cos(numpy.deg2rad(xr.lat)\n",
    "                    ).values[..., numpy.newaxis]\n",
    "\n",
    "    solver=Eof(xr) #, weights=weights)\n",
    "\n",
    "    #each described by a principal spatial pattern and an associated\n",
    "    #principal component (PC) time series.\n",
    "\n",
    "    pcXr = solver.pcs(pcscaling=1, npcs=2)\n",
    "   \n",
    "    return pcXr"
   ]
  },
  {
   "cell_type": "code",
   "execution_count": null,
   "metadata": {},
   "outputs": [],
   "source": [
    "#dcfAnomsXr=tp.averageForTimePeriod(sstAnomXr.rename('enso').to_dataset()).enso\n",
    "#dcfAnomsXr=dcfAnomsXr.rename({'year':'time'})"
   ]
  },
  {
   "cell_type": "code",
   "execution_count": null,
   "metadata": {},
   "outputs": [],
   "source": [
    "#dcfAnomsXr=sstAnomXr.where(\n",
    "#    (sstAnomXr.time.dt.month==12)+(sstAnomXr.time.dt.month==1)+(sstAnomXr.time.dt.month==2), drop=True)"
   ]
  },
  {
   "cell_type": "code",
   "execution_count": null,
   "metadata": {},
   "outputs": [],
   "source": [
    "pcTimeXr=myFunc(sstAnomXr)"
   ]
  },
  {
   "cell_type": "code",
   "execution_count": null,
   "metadata": {},
   "outputs": [],
   "source": [
    "pcTimeXr"
   ]
  },
  {
   "cell_type": "code",
   "execution_count": null,
   "metadata": {},
   "outputs": [],
   "source": [
    "def ensoPlotter(da, ax):\n",
    "    cs=plt.contourf(da.lon, da.lat, da.values,  \n",
    "                    transform=ccrs.PlateCarree(), \n",
    "                   center=True)\n",
    "\n",
    "    gl=ax.gridlines(draw_labels=True, linewidth=1, color='gray', alpha=0.5, linestyle=':')\n",
    "    ax.coastlines(color='black')\n",
    "    gl.top_labels=False\n",
    "    #gl.left_labels=False\n",
    "\n",
    "        #bottom legend\n",
    "    cbar=plt.colorbar(orientation='horizontal', fraction=0.05, pad=0.05)"
   ]
  },
  {
   "cell_type": "raw",
   "metadata": {},
   "source": [
    "The PC time series is scaled to have\n",
    "a standard deviation of one."
   ]
  },
  {
   "cell_type": "code",
   "execution_count": null,
   "metadata": {},
   "outputs": [],
   "source": [
    "pcTimeXr.std('time')"
   ]
  },
  {
   "cell_type": "code",
   "execution_count": null,
   "metadata": {},
   "outputs": [],
   "source": [
    "pcTimeXr.mean('time')"
   ]
  },
  {
   "cell_type": "raw",
   "metadata": {},
   "source": [
    "The\n",
    "CP-ENSO and EP-ENSO regimes were reconstructed using EOF1 and EOF2 such\n",
    "that their temporal variability can be described by a C-index ((PC1+PC2)/ 2)\n",
    "and an E-index ((PC1−PC2)/ 2), respectively."
   ]
  },
  {
   "cell_type": "raw",
   "metadata": {},
   "source": [
    "Nonlinear relationship between the first and second\n",
    "principal components (PC1 and PC2) of SST anomalies averaged over\n",
    "December–February"
   ]
  },
  {
   "cell_type": "code",
   "execution_count": null,
   "metadata": {},
   "outputs": [],
   "source": []
  },
  {
   "cell_type": "code",
   "execution_count": null,
   "metadata": {},
   "outputs": [],
   "source": [
    "dcfTimeXr=pcTimeXr.where((pcTimeXr.time.dt.month==12)+(\n",
    "    pcTimeXr.time.dt.month==1)+(pcTimeXr.time.dt.month==2), drop=True)"
   ]
  },
  {
   "cell_type": "code",
   "execution_count": null,
   "metadata": {},
   "outputs": [],
   "source": [
    "#pc1 = tp.averageForTimePeriod(pcTimeXr.sel(mode=0).rename('enso').to_dataset()).enso\n",
    "#pc2 = tp.averageForTimePeriod(pcTimeXr.sel(mode=1).rename('enso').to_dataset()).enso\n",
    "\n",
    "pc1 = dcfTimeXr.sel(mode=0)\n",
    "pc2 = dcfTimeXr.sel(mode=1)"
   ]
  },
  {
   "cell_type": "code",
   "execution_count": null,
   "metadata": {},
   "outputs": [],
   "source": [
    "pc1"
   ]
  },
  {
   "cell_type": "code",
   "execution_count": null,
   "metadata": {
    "tags": []
   },
   "outputs": [],
   "source": [
    "import numpy.polynomial as poly"
   ]
  },
  {
   "cell_type": "code",
   "execution_count": null,
   "metadata": {},
   "outputs": [],
   "source": [
    "pFit = poly.Polynomial.fit(pc1, pc2, 2)\n",
    "\n"
   ]
  },
  {
   "cell_type": "code",
   "execution_count": null,
   "metadata": {},
   "outputs": [],
   "source": [
    "pFit"
   ]
  },
  {
   "cell_type": "code",
   "execution_count": null,
   "metadata": {
    "tags": []
   },
   "outputs": [],
   "source": [
    "pFit.convert()"
   ]
  },
  {
   "cell_type": "code",
   "execution_count": null,
   "metadata": {},
   "outputs": [],
   "source": [
    "alpha = pFit.convert().coef[2]"
   ]
  },
  {
   "cell_type": "code",
   "execution_count": null,
   "metadata": {},
   "outputs": [],
   "source": [
    "alpha"
   ]
  },
  {
   "cell_type": "code",
   "execution_count": null,
   "metadata": {
    "tags": []
   },
   "outputs": [],
   "source": [
    "fig = plt.figure()\n",
    "\n",
    "plt.scatter(pc1, pc2)\n",
    "\n",
    "plt.plot(*pFit.linspace())"
   ]
  },
  {
   "cell_type": "code",
   "execution_count": null,
   "metadata": {},
   "outputs": [],
   "source": [
    "cXr=(pc1+pc2)/numpy.sqrt(2)\n",
    "eXr=(pc1-pc2)/numpy.sqrt(2)"
   ]
  },
  {
   "cell_type": "code",
   "execution_count": null,
   "metadata": {},
   "outputs": [],
   "source": [
    "cXr.plot()"
   ]
  },
  {
   "cell_type": "code",
   "execution_count": null,
   "metadata": {},
   "outputs": [],
   "source": [
    "fig = plt.figure()\n",
    "\n",
    "plt.scatter(cXr.values, eXr.values)"
   ]
  },
  {
   "cell_type": "code",
   "execution_count": null,
   "metadata": {},
   "outputs": [],
   "source": []
  },
  {
   "cell_type": "code",
   "execution_count": null,
   "metadata": {
    "tags": []
   },
   "outputs": [],
   "source": []
  },
  {
   "cell_type": "code",
   "execution_count": null,
   "metadata": {},
   "outputs": [],
   "source": []
  }
 ],
 "metadata": {
  "kernelspec": {
   "display_name": "Python 3",
   "language": "python",
   "name": "python3"
  },
  "language_info": {
   "codemirror_mode": {
    "name": "ipython",
    "version": 3
   },
   "file_extension": ".py",
   "mimetype": "text/x-python",
   "name": "python",
   "nbconvert_exporter": "python",
   "pygments_lexer": "ipython3",
   "version": "3.8.6"
  }
 },
 "nbformat": 4,
 "nbformat_minor": 4
}
