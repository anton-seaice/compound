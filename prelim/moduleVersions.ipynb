{
 "cells": [
  {
   "cell_type": "code",
   "execution_count": 1,
   "id": "7b7cd759-3ecc-425b-83fb-1a98592924cd",
   "metadata": {},
   "outputs": [],
   "source": [
    "import xarray"
   ]
  },
  {
   "cell_type": "code",
   "execution_count": 3,
   "id": "6d8647c2-1589-4520-905f-096adff1f9ef",
   "metadata": {},
   "outputs": [
    {
     "data": {
      "text/plain": [
       "'0.18.2'"
      ]
     },
     "execution_count": 3,
     "metadata": {},
     "output_type": "execute_result"
    }
   ],
   "source": [
    "xarray.__version__"
   ]
  },
  {
   "cell_type": "code",
   "execution_count": 16,
   "id": "00a10503-be07-4615-8ad2-765b2237afaf",
   "metadata": {},
   "outputs": [],
   "source": [
    "import pandas"
   ]
  },
  {
   "cell_type": "code",
   "execution_count": 17,
   "id": "794fd467-ca18-401c-bc83-529e6acb3669",
   "metadata": {},
   "outputs": [
    {
     "data": {
      "text/plain": [
       "'1.2.5'"
      ]
     },
     "execution_count": 17,
     "metadata": {},
     "output_type": "execute_result"
    }
   ],
   "source": [
    "pandas.__version__"
   ]
  },
  {
   "cell_type": "code",
   "execution_count": 6,
   "id": "7bfb474b-0004-445b-a7b8-fe921ec6010b",
   "metadata": {},
   "outputs": [],
   "source": [
    "import numpy"
   ]
  },
  {
   "cell_type": "code",
   "execution_count": 7,
   "id": "2a58f88e-3489-4a85-ab4c-dc5743ba10e3",
   "metadata": {},
   "outputs": [
    {
     "data": {
      "text/plain": [
       "'1.21.0'"
      ]
     },
     "execution_count": 7,
     "metadata": {},
     "output_type": "execute_result"
    }
   ],
   "source": [
    "numpy.__version__"
   ]
  },
  {
   "cell_type": "code",
   "execution_count": 8,
   "id": "09c9ad2a-d0ca-4404-bc7e-61470110921e",
   "metadata": {},
   "outputs": [],
   "source": [
    "import xesmf"
   ]
  },
  {
   "cell_type": "code",
   "execution_count": 9,
   "id": "c1893bbc-19bf-4f51-b122-04ce989b84c0",
   "metadata": {},
   "outputs": [
    {
     "data": {
      "text/plain": [
       "'0.5.3'"
      ]
     },
     "execution_count": 9,
     "metadata": {},
     "output_type": "execute_result"
    }
   ],
   "source": [
    "xesmf.__version__"
   ]
  },
  {
   "cell_type": "code",
   "execution_count": 10,
   "id": "6eec2680-e1f0-454e-98a2-9f8d66a99e01",
   "metadata": {},
   "outputs": [],
   "source": [
    "import matplotlib"
   ]
  },
  {
   "cell_type": "code",
   "execution_count": 11,
   "id": "6fd30d65-0e91-4910-a989-d5398819b5d5",
   "metadata": {},
   "outputs": [
    {
     "data": {
      "text/plain": [
       "'3.4.2'"
      ]
     },
     "execution_count": 11,
     "metadata": {},
     "output_type": "execute_result"
    }
   ],
   "source": [
    "matplotlib.__version__"
   ]
  },
  {
   "cell_type": "code",
   "execution_count": 12,
   "id": "f286fdba-a0e0-4631-bc02-4fc7bbd7462f",
   "metadata": {},
   "outputs": [],
   "source": [
    "import cartopy"
   ]
  },
  {
   "cell_type": "code",
   "execution_count": 13,
   "id": "8cebc1fa-05c3-4ba9-a901-ede4340f022a",
   "metadata": {},
   "outputs": [
    {
     "data": {
      "text/plain": [
       "'0.18.0'"
      ]
     },
     "execution_count": 13,
     "metadata": {},
     "output_type": "execute_result"
    }
   ],
   "source": [
    "cartopy.__version__"
   ]
  },
  {
   "cell_type": "code",
   "execution_count": 14,
   "id": "eed07c22-2c45-452d-8dd0-c22c3ec50e3e",
   "metadata": {},
   "outputs": [],
   "source": [
    "import nc_time_axis"
   ]
  },
  {
   "cell_type": "code",
   "execution_count": 15,
   "id": "868e568e-4a99-44b1-80dc-dc7b684adfa1",
   "metadata": {},
   "outputs": [
    {
     "data": {
      "text/plain": [
       "'1.3.1'"
      ]
     },
     "execution_count": 15,
     "metadata": {},
     "output_type": "execute_result"
    }
   ],
   "source": [
    "nc_time_axis.__version__"
   ]
  },
  {
   "cell_type": "code",
   "execution_count": 41,
   "id": "d27d7b51-9696-4afd-a5df-fe141b137863",
   "metadata": {},
   "outputs": [],
   "source": [
    "import jupyterlab"
   ]
  },
  {
   "cell_type": "code",
   "execution_count": 43,
   "id": "a385c462-68a4-4ae5-984e-a77126cb67e8",
   "metadata": {},
   "outputs": [
    {
     "data": {
      "text/plain": [
       "'3.0.16'"
      ]
     },
     "execution_count": 43,
     "metadata": {},
     "output_type": "execute_result"
    }
   ],
   "source": [
    "jupyterlab.__version__"
   ]
  },
  {
   "cell_type": "code",
   "execution_count": 44,
   "id": "cce9b653-bf0d-44ce-812e-c395b2630290",
   "metadata": {},
   "outputs": [],
   "source": [
    "import eofs"
   ]
  },
  {
   "cell_type": "code",
   "execution_count": 46,
   "id": "01c5eab5-3061-4170-b562-f0c027b56e2c",
   "metadata": {},
   "outputs": [
    {
     "data": {
      "text/plain": [
       "'1.4.0'"
      ]
     },
     "execution_count": 46,
     "metadata": {},
     "output_type": "execute_result"
    }
   ],
   "source": [
    "eofs.__version__"
   ]
  },
  {
   "cell_type": "code",
   "execution_count": null,
   "id": "6ae08dee-62b4-4f69-95a5-54be61c1f58c",
   "metadata": {},
   "outputs": [],
   "source": []
  }
 ],
 "metadata": {
  "kernelspec": {
   "display_name": "Python 3",
   "language": "python",
   "name": "python3"
  },
  "language_info": {
   "codemirror_mode": {
    "name": "ipython",
    "version": 3
   },
   "file_extension": ".py",
   "mimetype": "text/x-python",
   "name": "python",
   "nbconvert_exporter": "python",
   "pygments_lexer": "ipython3",
   "version": "3.8.10"
  }
 },
 "nbformat": 4,
 "nbformat_minor": 5
}
