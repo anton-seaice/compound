{
 "cells": [
  {
   "cell_type": "markdown",
   "id": "d4d91a68-c7ee-41ba-bb44-06b4920427c4",
   "metadata": {},
   "source": [
    "# CESM Control vs Forcing Runs"
   ]
  },
  {
   "cell_type": "markdown",
   "id": "b4c0e3af-442b-4eb5-b8d4-2996ddd22421",
   "metadata": {},
   "source": [
    "How appropriate is it to use the control run as a climatology"
   ]
  },
  {
   "cell_type": "code",
   "execution_count": 4,
   "id": "c2a42983-75bc-4d4f-b69e-d685056fea8f",
   "metadata": {},
   "outputs": [],
   "source": [
    "#import my functions\n",
    "import sys\n",
    "sys.path.append('../')\n",
    "\n",
    "import utils._modelDefinitions as _model\n"
   ]
  },
  {
   "cell_type": "code",
   "execution_count": 24,
   "id": "8545d1c6-85d8-4944-9e02-8eadc3aa80d8",
   "metadata": {},
   "outputs": [],
   "source": [
    "import xarray\n",
    "import matplotlib.pyplot as plt\n",
    "import numpy\n",
    "import scipy.stats\n",
    "\n",
    "%matplotlib inline"
   ]
  },
  {
   "cell_type": "code",
   "execution_count": 7,
   "id": "6446af8b-99da-49e0-abad-a6ebf7fa9468",
   "metadata": {},
   "outputs": [
    {
     "data": {
      "text/plain": [
       "array(['LME.002', 'LME.003', 'LME.008', 'LME.009', '0850cntl.001', '001',\n",
       "       '002', '003', '004', '005', '006', '007', '008', '009', '010',\n",
       "       '011', '012', '013'], dtype=object)"
      ]
     },
     "execution_count": 7,
     "metadata": {},
     "output_type": "execute_result"
    }
   ],
   "source": [
    "# Here is the data\n",
    "indecesXr = xarray.load_dataset('../results/cesmTradIndeces.nc')\n",
    "\n",
    "indecesXr.experiment.values"
   ]
  },
  {
   "cell_type": "code",
   "execution_count": 8,
   "id": "f2299d8c-cd8c-4631-808a-eaccc0ee3e03",
   "metadata": {},
   "outputs": [
    {
     "data": {
      "text/html": [
       "<div><svg style=\"position: absolute; width: 0; height: 0; overflow: hidden\">\n",
       "<defs>\n",
       "<symbol id=\"icon-database\" viewBox=\"0 0 32 32\">\n",
       "<path d=\"M16 0c-8.837 0-16 2.239-16 5v4c0 2.761 7.163 5 16 5s16-2.239 16-5v-4c0-2.761-7.163-5-16-5z\"></path>\n",
       "<path d=\"M16 17c-8.837 0-16-2.239-16-5v6c0 2.761 7.163 5 16 5s16-2.239 16-5v-6c0 2.761-7.163 5-16 5z\"></path>\n",
       "<path d=\"M16 26c-8.837 0-16-2.239-16-5v6c0 2.761 7.163 5 16 5s16-2.239 16-5v-6c0 2.761-7.163 5-16 5z\"></path>\n",
       "</symbol>\n",
       "<symbol id=\"icon-file-text2\" viewBox=\"0 0 32 32\">\n",
       "<path d=\"M28.681 7.159c-0.694-0.947-1.662-2.053-2.724-3.116s-2.169-2.030-3.116-2.724c-1.612-1.182-2.393-1.319-2.841-1.319h-15.5c-1.378 0-2.5 1.121-2.5 2.5v27c0 1.378 1.122 2.5 2.5 2.5h23c1.378 0 2.5-1.122 2.5-2.5v-19.5c0-0.448-0.137-1.23-1.319-2.841zM24.543 5.457c0.959 0.959 1.712 1.825 2.268 2.543h-4.811v-4.811c0.718 0.556 1.584 1.309 2.543 2.268zM28 29.5c0 0.271-0.229 0.5-0.5 0.5h-23c-0.271 0-0.5-0.229-0.5-0.5v-27c0-0.271 0.229-0.5 0.5-0.5 0 0 15.499-0 15.5 0v7c0 0.552 0.448 1 1 1h7v19.5z\"></path>\n",
       "<path d=\"M23 26h-14c-0.552 0-1-0.448-1-1s0.448-1 1-1h14c0.552 0 1 0.448 1 1s-0.448 1-1 1z\"></path>\n",
       "<path d=\"M23 22h-14c-0.552 0-1-0.448-1-1s0.448-1 1-1h14c0.552 0 1 0.448 1 1s-0.448 1-1 1z\"></path>\n",
       "<path d=\"M23 18h-14c-0.552 0-1-0.448-1-1s0.448-1 1-1h14c0.552 0 1 0.448 1 1s-0.448 1-1 1z\"></path>\n",
       "</symbol>\n",
       "</defs>\n",
       "</svg>\n",
       "<style>/* CSS stylesheet for displaying xarray objects in jupyterlab.\n",
       " *\n",
       " */\n",
       "\n",
       ":root {\n",
       "  --xr-font-color0: var(--jp-content-font-color0, rgba(0, 0, 0, 1));\n",
       "  --xr-font-color2: var(--jp-content-font-color2, rgba(0, 0, 0, 0.54));\n",
       "  --xr-font-color3: var(--jp-content-font-color3, rgba(0, 0, 0, 0.38));\n",
       "  --xr-border-color: var(--jp-border-color2, #e0e0e0);\n",
       "  --xr-disabled-color: var(--jp-layout-color3, #bdbdbd);\n",
       "  --xr-background-color: var(--jp-layout-color0, white);\n",
       "  --xr-background-color-row-even: var(--jp-layout-color1, white);\n",
       "  --xr-background-color-row-odd: var(--jp-layout-color2, #eeeeee);\n",
       "}\n",
       "\n",
       "html[theme=dark],\n",
       "body.vscode-dark {\n",
       "  --xr-font-color0: rgba(255, 255, 255, 1);\n",
       "  --xr-font-color2: rgba(255, 255, 255, 0.54);\n",
       "  --xr-font-color3: rgba(255, 255, 255, 0.38);\n",
       "  --xr-border-color: #1F1F1F;\n",
       "  --xr-disabled-color: #515151;\n",
       "  --xr-background-color: #111111;\n",
       "  --xr-background-color-row-even: #111111;\n",
       "  --xr-background-color-row-odd: #313131;\n",
       "}\n",
       "\n",
       ".xr-wrap {\n",
       "  display: block;\n",
       "  min-width: 300px;\n",
       "  max-width: 700px;\n",
       "}\n",
       "\n",
       ".xr-text-repr-fallback {\n",
       "  /* fallback to plain text repr when CSS is not injected (untrusted notebook) */\n",
       "  display: none;\n",
       "}\n",
       "\n",
       ".xr-header {\n",
       "  padding-top: 6px;\n",
       "  padding-bottom: 6px;\n",
       "  margin-bottom: 4px;\n",
       "  border-bottom: solid 1px var(--xr-border-color);\n",
       "}\n",
       "\n",
       ".xr-header > div,\n",
       ".xr-header > ul {\n",
       "  display: inline;\n",
       "  margin-top: 0;\n",
       "  margin-bottom: 0;\n",
       "}\n",
       "\n",
       ".xr-obj-type,\n",
       ".xr-array-name {\n",
       "  margin-left: 2px;\n",
       "  margin-right: 10px;\n",
       "}\n",
       "\n",
       ".xr-obj-type {\n",
       "  color: var(--xr-font-color2);\n",
       "}\n",
       "\n",
       ".xr-sections {\n",
       "  padding-left: 0 !important;\n",
       "  display: grid;\n",
       "  grid-template-columns: 150px auto auto 1fr 20px 20px;\n",
       "}\n",
       "\n",
       ".xr-section-item {\n",
       "  display: contents;\n",
       "}\n",
       "\n",
       ".xr-section-item input {\n",
       "  display: none;\n",
       "}\n",
       "\n",
       ".xr-section-item input + label {\n",
       "  color: var(--xr-disabled-color);\n",
       "}\n",
       "\n",
       ".xr-section-item input:enabled + label {\n",
       "  cursor: pointer;\n",
       "  color: var(--xr-font-color2);\n",
       "}\n",
       "\n",
       ".xr-section-item input:enabled + label:hover {\n",
       "  color: var(--xr-font-color0);\n",
       "}\n",
       "\n",
       ".xr-section-summary {\n",
       "  grid-column: 1;\n",
       "  color: var(--xr-font-color2);\n",
       "  font-weight: 500;\n",
       "}\n",
       "\n",
       ".xr-section-summary > span {\n",
       "  display: inline-block;\n",
       "  padding-left: 0.5em;\n",
       "}\n",
       "\n",
       ".xr-section-summary-in:disabled + label {\n",
       "  color: var(--xr-font-color2);\n",
       "}\n",
       "\n",
       ".xr-section-summary-in + label:before {\n",
       "  display: inline-block;\n",
       "  content: '►';\n",
       "  font-size: 11px;\n",
       "  width: 15px;\n",
       "  text-align: center;\n",
       "}\n",
       "\n",
       ".xr-section-summary-in:disabled + label:before {\n",
       "  color: var(--xr-disabled-color);\n",
       "}\n",
       "\n",
       ".xr-section-summary-in:checked + label:before {\n",
       "  content: '▼';\n",
       "}\n",
       "\n",
       ".xr-section-summary-in:checked + label > span {\n",
       "  display: none;\n",
       "}\n",
       "\n",
       ".xr-section-summary,\n",
       ".xr-section-inline-details {\n",
       "  padding-top: 4px;\n",
       "  padding-bottom: 4px;\n",
       "}\n",
       "\n",
       ".xr-section-inline-details {\n",
       "  grid-column: 2 / -1;\n",
       "}\n",
       "\n",
       ".xr-section-details {\n",
       "  display: none;\n",
       "  grid-column: 1 / -1;\n",
       "  margin-bottom: 5px;\n",
       "}\n",
       "\n",
       ".xr-section-summary-in:checked ~ .xr-section-details {\n",
       "  display: contents;\n",
       "}\n",
       "\n",
       ".xr-array-wrap {\n",
       "  grid-column: 1 / -1;\n",
       "  display: grid;\n",
       "  grid-template-columns: 20px auto;\n",
       "}\n",
       "\n",
       ".xr-array-wrap > label {\n",
       "  grid-column: 1;\n",
       "  vertical-align: top;\n",
       "}\n",
       "\n",
       ".xr-preview {\n",
       "  color: var(--xr-font-color3);\n",
       "}\n",
       "\n",
       ".xr-array-preview,\n",
       ".xr-array-data {\n",
       "  padding: 0 5px !important;\n",
       "  grid-column: 2;\n",
       "}\n",
       "\n",
       ".xr-array-data,\n",
       ".xr-array-in:checked ~ .xr-array-preview {\n",
       "  display: none;\n",
       "}\n",
       "\n",
       ".xr-array-in:checked ~ .xr-array-data,\n",
       ".xr-array-preview {\n",
       "  display: inline-block;\n",
       "}\n",
       "\n",
       ".xr-dim-list {\n",
       "  display: inline-block !important;\n",
       "  list-style: none;\n",
       "  padding: 0 !important;\n",
       "  margin: 0;\n",
       "}\n",
       "\n",
       ".xr-dim-list li {\n",
       "  display: inline-block;\n",
       "  padding: 0;\n",
       "  margin: 0;\n",
       "}\n",
       "\n",
       ".xr-dim-list:before {\n",
       "  content: '(';\n",
       "}\n",
       "\n",
       ".xr-dim-list:after {\n",
       "  content: ')';\n",
       "}\n",
       "\n",
       ".xr-dim-list li:not(:last-child):after {\n",
       "  content: ',';\n",
       "  padding-right: 5px;\n",
       "}\n",
       "\n",
       ".xr-has-index {\n",
       "  font-weight: bold;\n",
       "}\n",
       "\n",
       ".xr-var-list,\n",
       ".xr-var-item {\n",
       "  display: contents;\n",
       "}\n",
       "\n",
       ".xr-var-item > div,\n",
       ".xr-var-item label,\n",
       ".xr-var-item > .xr-var-name span {\n",
       "  background-color: var(--xr-background-color-row-even);\n",
       "  margin-bottom: 0;\n",
       "}\n",
       "\n",
       ".xr-var-item > .xr-var-name:hover span {\n",
       "  padding-right: 5px;\n",
       "}\n",
       "\n",
       ".xr-var-list > li:nth-child(odd) > div,\n",
       ".xr-var-list > li:nth-child(odd) > label,\n",
       ".xr-var-list > li:nth-child(odd) > .xr-var-name span {\n",
       "  background-color: var(--xr-background-color-row-odd);\n",
       "}\n",
       "\n",
       ".xr-var-name {\n",
       "  grid-column: 1;\n",
       "}\n",
       "\n",
       ".xr-var-dims {\n",
       "  grid-column: 2;\n",
       "}\n",
       "\n",
       ".xr-var-dtype {\n",
       "  grid-column: 3;\n",
       "  text-align: right;\n",
       "  color: var(--xr-font-color2);\n",
       "}\n",
       "\n",
       ".xr-var-preview {\n",
       "  grid-column: 4;\n",
       "}\n",
       "\n",
       ".xr-var-name,\n",
       ".xr-var-dims,\n",
       ".xr-var-dtype,\n",
       ".xr-preview,\n",
       ".xr-attrs dt {\n",
       "  white-space: nowrap;\n",
       "  overflow: hidden;\n",
       "  text-overflow: ellipsis;\n",
       "  padding-right: 10px;\n",
       "}\n",
       "\n",
       ".xr-var-name:hover,\n",
       ".xr-var-dims:hover,\n",
       ".xr-var-dtype:hover,\n",
       ".xr-attrs dt:hover {\n",
       "  overflow: visible;\n",
       "  width: auto;\n",
       "  z-index: 1;\n",
       "}\n",
       "\n",
       ".xr-var-attrs,\n",
       ".xr-var-data {\n",
       "  display: none;\n",
       "  background-color: var(--xr-background-color) !important;\n",
       "  padding-bottom: 5px !important;\n",
       "}\n",
       "\n",
       ".xr-var-attrs-in:checked ~ .xr-var-attrs,\n",
       ".xr-var-data-in:checked ~ .xr-var-data {\n",
       "  display: block;\n",
       "}\n",
       "\n",
       ".xr-var-data > table {\n",
       "  float: right;\n",
       "}\n",
       "\n",
       ".xr-var-name span,\n",
       ".xr-var-data,\n",
       ".xr-attrs {\n",
       "  padding-left: 25px !important;\n",
       "}\n",
       "\n",
       ".xr-attrs,\n",
       ".xr-var-attrs,\n",
       ".xr-var-data {\n",
       "  grid-column: 1 / -1;\n",
       "}\n",
       "\n",
       "dl.xr-attrs {\n",
       "  padding: 0;\n",
       "  margin: 0;\n",
       "  display: grid;\n",
       "  grid-template-columns: 125px auto;\n",
       "}\n",
       "\n",
       ".xr-attrs dt,\n",
       ".xr-attrs dd {\n",
       "  padding: 0;\n",
       "  margin: 0;\n",
       "  float: left;\n",
       "  padding-right: 10px;\n",
       "  width: auto;\n",
       "}\n",
       "\n",
       ".xr-attrs dt {\n",
       "  font-weight: normal;\n",
       "  grid-column: 1;\n",
       "}\n",
       "\n",
       ".xr-attrs dt:hover span {\n",
       "  display: inline-block;\n",
       "  background: var(--xr-background-color);\n",
       "  padding-right: 10px;\n",
       "}\n",
       "\n",
       ".xr-attrs dd {\n",
       "  grid-column: 2;\n",
       "  white-space: pre-wrap;\n",
       "  word-break: break-all;\n",
       "}\n",
       "\n",
       ".xr-icon-database,\n",
       ".xr-icon-file-text2 {\n",
       "  display: inline-block;\n",
       "  vertical-align: middle;\n",
       "  width: 1em;\n",
       "  height: 1.5em !important;\n",
       "  stroke-width: 0;\n",
       "  stroke: currentColor;\n",
       "  fill: currentColor;\n",
       "}\n",
       "</style><pre class='xr-text-repr-fallback'>&lt;xarray.Dataset&gt;\n",
       "Dimensions:          (experiment: 18, year: 1250)\n",
       "Coordinates:\n",
       "  * year             (year) int64 850 851 852 853 854 ... 2096 2097 2098 2099\n",
       "  * experiment       (experiment) object &#x27;LME.002&#x27; &#x27;LME.003&#x27; ... &#x27;012&#x27; &#x27;013&#x27;\n",
       "Data variables:\n",
       "    dmi              (experiment, year) float64 0.9455 1.903 -0.352 ... nan nan\n",
       "    eastIO           (experiment, year) float64 -0.4062 -1.1 0.428 ... nan nan\n",
       "    nino34NoDetrend  (experiment, year) float64 0.5649 -0.5219 ... nan nan\n",
       "    nino34           (experiment, year) float64 0.4477 -0.447 ... nan nan\n",
       "    sam              (experiment, year) float64 -1.059 0.2726 0.2454 ... nan nan\n",
       "    nino4NoDetrend   (experiment, year) float64 0.6418 -0.3102 ... nan nan\n",
       "    nino4            (experiment, year) float64 0.5246 -0.2353 ... nan nan\n",
       "    eastIONoDetrend  (experiment, year) float64 -0.3048 -1.163 ... nan nan\n",
       "Attributes:\n",
       "    nino34NoDetrend:  [ 7 15]\n",
       "    nino4NoDetrend:   [ 7 15]\n",
       "    eastIONoDetrend:  [ 7 12]\n",
       "    dmi:              [ 7 12]\n",
       "    nino34:           [ 7 15]\n",
       "    nino4:            [ 7 15]\n",
       "    eastIO:           [ 7 12]\n",
       "    sam:              [10 15]\n",
       "    lat1:             [10 15]\n",
       "    lat2:             [10 15]\n",
       "    precAnom:         [ 9 15]\n",
       "    tsAnom:           [ 9 15]</pre><div class='xr-wrap' hidden><div class='xr-header'><div class='xr-obj-type'>xarray.Dataset</div></div><ul class='xr-sections'><li class='xr-section-item'><input id='section-283527da-81a1-435a-9933-6edbbd919264' class='xr-section-summary-in' type='checkbox' disabled ><label for='section-283527da-81a1-435a-9933-6edbbd919264' class='xr-section-summary'  title='Expand/collapse section'>Dimensions:</label><div class='xr-section-inline-details'><ul class='xr-dim-list'><li><span class='xr-has-index'>experiment</span>: 18</li><li><span class='xr-has-index'>year</span>: 1250</li></ul></div><div class='xr-section-details'></div></li><li class='xr-section-item'><input id='section-9d263381-ef62-43ec-8562-aa4b62ba654e' class='xr-section-summary-in' type='checkbox'  checked><label for='section-9d263381-ef62-43ec-8562-aa4b62ba654e' class='xr-section-summary' >Coordinates: <span>(2)</span></label><div class='xr-section-inline-details'></div><div class='xr-section-details'><ul class='xr-var-list'><li class='xr-var-item'><div class='xr-var-name'><span class='xr-has-index'>year</span></div><div class='xr-var-dims'>(year)</div><div class='xr-var-dtype'>int64</div><div class='xr-var-preview xr-preview'>850 851 852 853 ... 2097 2098 2099</div><input id='attrs-39b2d033-6253-467d-84e9-aabf2db24dd5' class='xr-var-attrs-in' type='checkbox' disabled><label for='attrs-39b2d033-6253-467d-84e9-aabf2db24dd5' title='Show/Hide attributes'><svg class='icon xr-icon-file-text2'><use xlink:href='#icon-file-text2'></use></svg></label><input id='data-77c27470-08ff-4887-9900-a29255bd767f' class='xr-var-data-in' type='checkbox'><label for='data-77c27470-08ff-4887-9900-a29255bd767f' title='Show/Hide data repr'><svg class='icon xr-icon-database'><use xlink:href='#icon-database'></use></svg></label><div class='xr-var-attrs'><dl class='xr-attrs'></dl></div><div class='xr-var-data'><pre>array([ 850,  851,  852, ..., 2097, 2098, 2099])</pre></div></li><li class='xr-var-item'><div class='xr-var-name'><span class='xr-has-index'>experiment</span></div><div class='xr-var-dims'>(experiment)</div><div class='xr-var-dtype'>object</div><div class='xr-var-preview xr-preview'>&#x27;LME.002&#x27; &#x27;LME.003&#x27; ... &#x27;012&#x27; &#x27;013&#x27;</div><input id='attrs-5eebd9de-b0fc-4995-87de-36b011d5ed48' class='xr-var-attrs-in' type='checkbox' disabled><label for='attrs-5eebd9de-b0fc-4995-87de-36b011d5ed48' title='Show/Hide attributes'><svg class='icon xr-icon-file-text2'><use xlink:href='#icon-file-text2'></use></svg></label><input id='data-c19699b4-1152-442a-b542-69189f54a706' class='xr-var-data-in' type='checkbox'><label for='data-c19699b4-1152-442a-b542-69189f54a706' title='Show/Hide data repr'><svg class='icon xr-icon-database'><use xlink:href='#icon-database'></use></svg></label><div class='xr-var-attrs'><dl class='xr-attrs'></dl></div><div class='xr-var-data'><pre>array([&#x27;LME.002&#x27;, &#x27;LME.003&#x27;, &#x27;LME.008&#x27;, &#x27;LME.009&#x27;, &#x27;0850cntl.001&#x27;, &#x27;001&#x27;,\n",
       "       &#x27;002&#x27;, &#x27;003&#x27;, &#x27;004&#x27;, &#x27;005&#x27;, &#x27;006&#x27;, &#x27;007&#x27;, &#x27;008&#x27;, &#x27;009&#x27;, &#x27;010&#x27;, &#x27;011&#x27;,\n",
       "       &#x27;012&#x27;, &#x27;013&#x27;], dtype=object)</pre></div></li></ul></div></li><li class='xr-section-item'><input id='section-b9ee0182-7cee-439f-8749-0b5759677b89' class='xr-section-summary-in' type='checkbox'  checked><label for='section-b9ee0182-7cee-439f-8749-0b5759677b89' class='xr-section-summary' >Data variables: <span>(8)</span></label><div class='xr-section-inline-details'></div><div class='xr-section-details'><ul class='xr-var-list'><li class='xr-var-item'><div class='xr-var-name'><span>dmi</span></div><div class='xr-var-dims'>(experiment, year)</div><div class='xr-var-dtype'>float64</div><div class='xr-var-preview xr-preview'>0.9455 1.903 -0.352 ... nan nan nan</div><input id='attrs-fb697ea9-f2f4-408f-8dc3-1379061da51f' class='xr-var-attrs-in' type='checkbox' disabled><label for='attrs-fb697ea9-f2f4-408f-8dc3-1379061da51f' title='Show/Hide attributes'><svg class='icon xr-icon-file-text2'><use xlink:href='#icon-file-text2'></use></svg></label><input id='data-c0ac1392-1a74-4a2d-a9a5-12aad7ebdfc9' class='xr-var-data-in' type='checkbox'><label for='data-c0ac1392-1a74-4a2d-a9a5-12aad7ebdfc9' title='Show/Hide data repr'><svg class='icon xr-icon-database'><use xlink:href='#icon-database'></use></svg></label><div class='xr-var-attrs'><dl class='xr-attrs'></dl></div><div class='xr-var-data'><pre>array([[ 0.94548132,  1.90348072, -0.351992  , ...,  2.18185595,\n",
       "        -0.37506688, -1.81015243],\n",
       "       [ 1.87895115,  2.07395095,  0.27569944, ..., -0.51867599,\n",
       "        -1.2960707 , -1.53771384],\n",
       "       [-0.21771513,  1.33201867,  1.02150092, ...,  0.39429694,\n",
       "         0.56295783,  2.45050735],\n",
       "       ...,\n",
       "       [ 1.79906976,  0.96282876,  1.07263347, ...,         nan,\n",
       "                nan,         nan],\n",
       "       [ 0.70103759,  1.09901428, -0.59686607, ...,         nan,\n",
       "                nan,         nan],\n",
       "       [ 0.91778214,  1.49608647, -0.47933969, ...,         nan,\n",
       "                nan,         nan]])</pre></div></li><li class='xr-var-item'><div class='xr-var-name'><span>eastIO</span></div><div class='xr-var-dims'>(experiment, year)</div><div class='xr-var-dtype'>float64</div><div class='xr-var-preview xr-preview'>-0.4062 -1.1 0.428 ... nan nan nan</div><input id='attrs-8223b8ef-c935-4c8f-8e8e-e0466c2e9cd4' class='xr-var-attrs-in' type='checkbox' disabled><label for='attrs-8223b8ef-c935-4c8f-8e8e-e0466c2e9cd4' title='Show/Hide attributes'><svg class='icon xr-icon-file-text2'><use xlink:href='#icon-file-text2'></use></svg></label><input id='data-8e606b84-01f9-45ec-9e05-17e6d9dc4b63' class='xr-var-data-in' type='checkbox'><label for='data-8e606b84-01f9-45ec-9e05-17e6d9dc4b63' title='Show/Hide data repr'><svg class='icon xr-icon-database'><use xlink:href='#icon-database'></use></svg></label><div class='xr-var-attrs'><dl class='xr-attrs'></dl></div><div class='xr-var-data'><pre>array([[-0.40616436, -1.09993313,  0.42804666, ..., -1.96766615,\n",
       "         1.0873277 ,  1.56525319],\n",
       "       [-1.32941939, -1.63000718, -0.07104712, ...,  0.89017488,\n",
       "         1.41212215,  1.46287381],\n",
       "       [ 0.01961514, -1.23058871, -1.08104452, ...,  0.28867395,\n",
       "        -0.27565237, -1.99013027],\n",
       "       ...,\n",
       "       [-1.42928573, -0.51677058, -0.64837675, ...,         nan,\n",
       "                nan,         nan],\n",
       "       [-0.59870599, -0.98426787,  0.64616391, ...,         nan,\n",
       "                nan,         nan],\n",
       "       [-0.67776912, -0.84109509,  0.45650675, ...,         nan,\n",
       "                nan,         nan]])</pre></div></li><li class='xr-var-item'><div class='xr-var-name'><span>nino34NoDetrend</span></div><div class='xr-var-dims'>(experiment, year)</div><div class='xr-var-dtype'>float64</div><div class='xr-var-preview xr-preview'>0.5649 -0.5219 -0.8239 ... nan nan</div><input id='attrs-f32c6e3e-42f3-4693-ac05-170b030a92da' class='xr-var-attrs-in' type='checkbox' disabled><label for='attrs-f32c6e3e-42f3-4693-ac05-170b030a92da' title='Show/Hide attributes'><svg class='icon xr-icon-file-text2'><use xlink:href='#icon-file-text2'></use></svg></label><input id='data-f4c703d6-89a5-4bb9-aa14-49903852bf3d' class='xr-var-data-in' type='checkbox'><label for='data-f4c703d6-89a5-4bb9-aa14-49903852bf3d' title='Show/Hide data repr'><svg class='icon xr-icon-database'><use xlink:href='#icon-database'></use></svg></label><div class='xr-var-attrs'><dl class='xr-attrs'></dl></div><div class='xr-var-data'><pre>array([[ 0.56489564, -0.52189864, -0.82387401, ...,  6.21917299,\n",
       "         2.16968197,  2.23494946],\n",
       "       [ 1.91364928,  2.26464121, -0.54628116, ...,  1.91622356,\n",
       "         2.45796638,  2.48377426],\n",
       "       [ 1.26899365,  0.88269978,  1.57748295, ...,  2.99726301,\n",
       "         4.93036319,  6.47919541],\n",
       "       ...,\n",
       "       [ 2.24267497,  1.65433381,  0.22236873, ...,         nan,\n",
       "                nan,         nan],\n",
       "       [ 2.2498983 ,  3.45495731, -1.1524984 , ...,         nan,\n",
       "                nan,         nan],\n",
       "       [ 1.28820205, -0.6064628 , -0.77963882, ...,         nan,\n",
       "                nan,         nan]])</pre></div></li><li class='xr-var-item'><div class='xr-var-name'><span>nino34</span></div><div class='xr-var-dims'>(experiment, year)</div><div class='xr-var-dtype'>float64</div><div class='xr-var-preview xr-preview'>0.4477 -0.447 -0.6352 ... nan nan</div><input id='attrs-43de04ca-6a72-4ba9-aa18-2217bf94801d' class='xr-var-attrs-in' type='checkbox' disabled><label for='attrs-43de04ca-6a72-4ba9-aa18-2217bf94801d' title='Show/Hide attributes'><svg class='icon xr-icon-file-text2'><use xlink:href='#icon-file-text2'></use></svg></label><input id='data-1e1c1b35-a238-4d1d-8834-2052721311d1' class='xr-var-data-in' type='checkbox'><label for='data-1e1c1b35-a238-4d1d-8834-2052721311d1' title='Show/Hide data repr'><svg class='icon xr-icon-database'><use xlink:href='#icon-database'></use></svg></label><div class='xr-var-attrs'><dl class='xr-attrs'></dl></div><div class='xr-var-data'><pre>array([[ 0.44768837, -0.44695067, -0.63517015, ...,  2.67886847,\n",
       "        -1.05058186, -0.71856688],\n",
       "       [ 1.63235507,  1.85100227, -0.64572757, ..., -0.99999201,\n",
       "        -0.47435939, -0.51267057],\n",
       "       [ 1.04461281,  0.70030508,  1.15634637, ..., -0.07066639,\n",
       "         1.575705  ,  2.69963602],\n",
       "       ...,\n",
       "       [ 1.87891752,  1.19067576,  0.02616973, ...,         nan,\n",
       "                nan,         nan],\n",
       "       [ 1.89915377,  2.58660574, -1.40650357, ...,         nan,\n",
       "                nan,         nan],\n",
       "       [ 1.04063451, -0.60248744, -0.62750245, ...,         nan,\n",
       "                nan,         nan]])</pre></div></li><li class='xr-var-item'><div class='xr-var-name'><span>sam</span></div><div class='xr-var-dims'>(experiment, year)</div><div class='xr-var-dtype'>float64</div><div class='xr-var-preview xr-preview'>-1.059 0.2726 0.2454 ... nan nan</div><input id='attrs-ab6d1c6e-9fbf-4456-8231-d7e269081e6e' class='xr-var-attrs-in' type='checkbox' disabled><label for='attrs-ab6d1c6e-9fbf-4456-8231-d7e269081e6e' title='Show/Hide attributes'><svg class='icon xr-icon-file-text2'><use xlink:href='#icon-file-text2'></use></svg></label><input id='data-dd0f7e92-faff-4412-95a9-b8da2206ef2d' class='xr-var-data-in' type='checkbox'><label for='data-dd0f7e92-faff-4412-95a9-b8da2206ef2d' title='Show/Hide data repr'><svg class='icon xr-icon-database'><use xlink:href='#icon-database'></use></svg></label><div class='xr-var-attrs'><dl class='xr-attrs'></dl></div><div class='xr-var-data'><pre>array([[-1.05913781,  0.27259859,  0.24537125, ...,  2.28590201,\n",
       "         1.95488545,  2.91891506],\n",
       "       [ 0.00719795, -0.81249646, -0.02617606, ...,  2.21003709,\n",
       "         2.23265752,  2.0922096 ],\n",
       "       [ 1.62240629, -0.8098359 , -1.39284999, ...,  2.99116435,\n",
       "         2.56868207,  1.26824222],\n",
       "       ...,\n",
       "       [-3.04135649, -3.33247009,  0.03650127, ...,         nan,\n",
       "                nan,         nan],\n",
       "       [-2.30938413, -3.21829023, -1.65372363, ...,         nan,\n",
       "                nan,         nan],\n",
       "       [ 1.07090288,  2.10737237,  1.05586198, ...,         nan,\n",
       "                nan,         nan]])</pre></div></li><li class='xr-var-item'><div class='xr-var-name'><span>nino4NoDetrend</span></div><div class='xr-var-dims'>(experiment, year)</div><div class='xr-var-dtype'>float64</div><div class='xr-var-preview xr-preview'>0.6418 -0.3102 -0.7607 ... nan nan</div><input id='attrs-f12a832d-ad75-4ff4-a545-26628a328725' class='xr-var-attrs-in' type='checkbox' disabled><label for='attrs-f12a832d-ad75-4ff4-a545-26628a328725' title='Show/Hide attributes'><svg class='icon xr-icon-file-text2'><use xlink:href='#icon-file-text2'></use></svg></label><input id='data-4a8c65fe-2d75-423e-ac00-e5cac868ef96' class='xr-var-data-in' type='checkbox'><label for='data-4a8c65fe-2d75-423e-ac00-e5cac868ef96' title='Show/Hide data repr'><svg class='icon xr-icon-database'><use xlink:href='#icon-database'></use></svg></label><div class='xr-var-attrs'><dl class='xr-attrs'></dl></div><div class='xr-var-data'><pre>array([[ 0.64176114, -0.31021488, -0.76070974, ...,  4.13535914,\n",
       "         1.95987606,  2.15853915],\n",
       "       [ 1.72275008,  1.7958792 ,  0.03264722, ...,  1.84254328,\n",
       "         2.48768779,  2.51111753],\n",
       "       [ 1.38497609,  1.20364425,  1.5822231 , ...,  3.02991825,\n",
       "         4.86212757,  4.22292223],\n",
       "       ...,\n",
       "       [ 1.81161445,  1.53952097,  0.57297868, ...,         nan,\n",
       "                nan,         nan],\n",
       "       [ 1.87618292,  1.2972538 , -0.90510007, ...,         nan,\n",
       "                nan,         nan],\n",
       "       [ 1.38659408, -0.41875404, -0.60278521, ...,         nan,\n",
       "                nan,         nan]])</pre></div></li><li class='xr-var-item'><div class='xr-var-name'><span>nino4</span></div><div class='xr-var-dims'>(experiment, year)</div><div class='xr-var-dtype'>float64</div><div class='xr-var-preview xr-preview'>0.5246 -0.2353 -0.572 ... nan nan</div><input id='attrs-e13e2742-fe71-42ef-88cb-2ddba47df815' class='xr-var-attrs-in' type='checkbox' disabled><label for='attrs-e13e2742-fe71-42ef-88cb-2ddba47df815' title='Show/Hide attributes'><svg class='icon xr-icon-file-text2'><use xlink:href='#icon-file-text2'></use></svg></label><input id='data-1b143bac-9016-4f69-bf72-cbf493b3e152' class='xr-var-data-in' type='checkbox'><label for='data-1b143bac-9016-4f69-bf72-cbf493b3e152' title='Show/Hide data repr'><svg class='icon xr-icon-database'><use xlink:href='#icon-database'></use></svg></label><div class='xr-var-attrs'><dl class='xr-attrs'></dl></div><div class='xr-var-data'><pre>array([[ 0.52455387, -0.23526691, -0.57200588, ...,  0.59505463,\n",
       "        -1.26038777, -0.7949772 ],\n",
       "       [ 1.44145587,  1.38224026, -0.06679919, ..., -1.07367229,\n",
       "        -0.44463798, -0.4853273 ],\n",
       "       [ 1.16059524,  1.02124955,  1.16108652, ..., -0.03801115,\n",
       "         1.50746939,  0.44336284],\n",
       "       ...,\n",
       "       [ 1.447857  ,  1.07586293,  0.37677968, ...,         nan,\n",
       "                nan,         nan],\n",
       "       [ 1.52543839,  0.42890223, -1.15910524, ...,         nan,\n",
       "                nan,         nan],\n",
       "       [ 1.13902654, -0.41477868, -0.45064884, ...,         nan,\n",
       "                nan,         nan]])</pre></div></li><li class='xr-var-item'><div class='xr-var-name'><span>eastIONoDetrend</span></div><div class='xr-var-dims'>(experiment, year)</div><div class='xr-var-dtype'>float64</div><div class='xr-var-preview xr-preview'>-0.3048 -1.163 0.2372 ... nan nan</div><input id='attrs-9f5d1472-0e5d-4e78-ad10-f7b15e8cbee8' class='xr-var-attrs-in' type='checkbox' disabled><label for='attrs-9f5d1472-0e5d-4e78-ad10-f7b15e8cbee8' title='Show/Hide attributes'><svg class='icon xr-icon-file-text2'><use xlink:href='#icon-file-text2'></use></svg></label><input id='data-2b288018-4ec2-4a8e-b28f-a1cd4f1bb285' class='xr-var-data-in' type='checkbox'><label for='data-2b288018-4ec2-4a8e-b28f-a1cd4f1bb285' title='Show/Hide data repr'><svg class='icon xr-icon-database'><use xlink:href='#icon-database'></use></svg></label><div class='xr-var-attrs'><dl class='xr-attrs'></dl></div><div class='xr-var-data'><pre>array([[-0.30476275, -1.16269557,  0.23723554, ...,  1.48651556,\n",
       "         4.37207135,  4.4668777 ],\n",
       "       [-1.09211576, -1.24271005,  0.08027052, ...,  3.76073059,\n",
       "         4.35078706,  4.41647582],\n",
       "       [ 0.17185089, -1.09804856, -0.69087441, ...,  3.34191163,\n",
       "         3.02094713,  1.73645078],\n",
       "       ...,\n",
       "       [-1.13731038, -0.0355409 , -0.48059761, ...,         nan,\n",
       "                nan,         nan],\n",
       "       [-0.36164796, -0.14718295,  0.99619915, ...,         nan,\n",
       "                nan,         nan],\n",
       "       [-0.45498775, -0.79957398,  0.29995851, ...,         nan,\n",
       "                nan,         nan]])</pre></div></li></ul></div></li><li class='xr-section-item'><input id='section-b4427b43-5809-4a5e-9b73-f2810a3eccae' class='xr-section-summary-in' type='checkbox'  ><label for='section-b4427b43-5809-4a5e-9b73-f2810a3eccae' class='xr-section-summary' >Attributes: <span>(12)</span></label><div class='xr-section-inline-details'></div><div class='xr-section-details'><dl class='xr-attrs'><dt><span>nino34NoDetrend :</span></dt><dd>[ 7 15]</dd><dt><span>nino4NoDetrend :</span></dt><dd>[ 7 15]</dd><dt><span>eastIONoDetrend :</span></dt><dd>[ 7 12]</dd><dt><span>dmi :</span></dt><dd>[ 7 12]</dd><dt><span>nino34 :</span></dt><dd>[ 7 15]</dd><dt><span>nino4 :</span></dt><dd>[ 7 15]</dd><dt><span>eastIO :</span></dt><dd>[ 7 12]</dd><dt><span>sam :</span></dt><dd>[10 15]</dd><dt><span>lat1 :</span></dt><dd>[10 15]</dd><dt><span>lat2 :</span></dt><dd>[10 15]</dd><dt><span>precAnom :</span></dt><dd>[ 9 15]</dd><dt><span>tsAnom :</span></dt><dd>[ 9 15]</dd></dl></div></li></ul></div></div>"
      ],
      "text/plain": [
       "<xarray.Dataset>\n",
       "Dimensions:          (experiment: 18, year: 1250)\n",
       "Coordinates:\n",
       "  * year             (year) int64 850 851 852 853 854 ... 2096 2097 2098 2099\n",
       "  * experiment       (experiment) object 'LME.002' 'LME.003' ... '012' '013'\n",
       "Data variables:\n",
       "    dmi              (experiment, year) float64 0.9455 1.903 -0.352 ... nan nan\n",
       "    eastIO           (experiment, year) float64 -0.4062 -1.1 0.428 ... nan nan\n",
       "    nino34NoDetrend  (experiment, year) float64 0.5649 -0.5219 ... nan nan\n",
       "    nino34           (experiment, year) float64 0.4477 -0.447 ... nan nan\n",
       "    sam              (experiment, year) float64 -1.059 0.2726 0.2454 ... nan nan\n",
       "    nino4NoDetrend   (experiment, year) float64 0.6418 -0.3102 ... nan nan\n",
       "    nino4            (experiment, year) float64 0.5246 -0.2353 ... nan nan\n",
       "    eastIONoDetrend  (experiment, year) float64 -0.3048 -1.163 ... nan nan\n",
       "Attributes:\n",
       "    nino34NoDetrend:  [ 7 15]\n",
       "    nino4NoDetrend:   [ 7 15]\n",
       "    eastIONoDetrend:  [ 7 12]\n",
       "    dmi:              [ 7 12]\n",
       "    nino34:           [ 7 15]\n",
       "    nino4:            [ 7 15]\n",
       "    eastIO:           [ 7 12]\n",
       "    sam:              [10 15]\n",
       "    lat1:             [10 15]\n",
       "    lat2:             [10 15]\n",
       "    precAnom:         [ 9 15]\n",
       "    tsAnom:           [ 9 15]"
      ]
     },
     "execution_count": 8,
     "metadata": {},
     "output_type": "execute_result"
    }
   ],
   "source": [
    "indecesXr"
   ]
  },
  {
   "cell_type": "code",
   "execution_count": 62,
   "id": "44648aa1-6282-46f9-b34a-8fb706e5f770",
   "metadata": {},
   "outputs": [
    {
     "data": {
      "text/plain": [
       "['dmi',\n",
       " 'eastIO',\n",
       " 'nino34NoDetrend',\n",
       " 'nino34',\n",
       " 'sam',\n",
       " 'nino4NoDetrend',\n",
       " 'nino4',\n",
       " 'eastIONoDetrend']"
      ]
     },
     "execution_count": 62,
     "metadata": {},
     "output_type": "execute_result"
    }
   ],
   "source": [
    "list(indecesXr.data_vars)"
   ]
  },
  {
   "cell_type": "code",
   "execution_count": 68,
   "id": "345daec1-8cef-497d-9fd0-03f290a9c8e8",
   "metadata": {},
   "outputs": [
    {
     "data": {
      "text/plain": [
       "array([-2.5, -2. , -1.5, -1. , -0.5,  0. ,  0.5,  1. ,  1.5,  2. ,  2.5])"
      ]
     },
     "execution_count": 68,
     "metadata": {},
     "output_type": "execute_result"
    }
   ],
   "source": [
    "cntlHist[1]"
   ]
  },
  {
   "cell_type": "code",
   "execution_count": 69,
   "id": "09e25943-67f9-4780-9759-fc257f1010d5",
   "metadata": {},
   "outputs": [
    {
     "name": "stdout",
     "output_type": "stream",
     "text": [
      "dmi\n"
     ]
    },
    {
     "data": {
      "image/png": "[encoded data removed]",
      "text/plain": [
       "<Figure size 432x288 with 1 Axes>"
      ]
     },
     "metadata": {
      "needs_background": "light"
     },
     "output_type": "display_data"
    },
    {
     "data": {
      "image/png": "[encoded data removed]",
      "text/plain": [
       "<Figure size 432x288 with 1 Axes>"
      ]
     },
     "metadata": {
      "needs_background": "light"
     },
     "output_type": "display_data"
    },
    {
     "name": "stdout",
     "output_type": "stream",
     "text": [
      "Power_divergenceResult(statistic=0.018078886301158583, pvalue=0.9999999999879616)\n",
      "eastIO\n"
     ]
    },
    {
     "data": {
      "image/png": "[encoded data removed]",
      "text/plain": [
       "<Figure size 432x288 with 1 Axes>"
      ]
     },
     "metadata": {
      "needs_background": "light"
     },
     "output_type": "display_data"
    },
    {
     "data": {
      "image/png": "[encoded data removed]",
      "text/plain": [
       "<Figure size 432x288 with 1 Axes>"
      ]
     },
     "metadata": {
      "needs_background": "light"
     },
     "output_type": "display_data"
    },
    {
     "name": "stdout",
     "output_type": "stream",
     "text": [
      "Power_divergenceResult(statistic=0.013713483921921753, pvalue=0.9999999999965228)\n",
      "nino34NoDetrend\n"
     ]
    },
    {
     "data": {
      "image/png": "[encoded data removed]",
      "text/plain": [
       "<Figure size 432x288 with 1 Axes>"
      ]
     },
     "metadata": {
      "needs_background": "light"
     },
     "output_type": "display_data"
    },
    {
     "data": {
      "image/png": "[encoded data removed]",
      "text/plain": [
       "<Figure size 432x288 with 1 Axes>"
      ]
     },
     "metadata": {
      "needs_background": "light"
     },
     "output_type": "display_data"
    },
    {
     "name": "stdout",
     "output_type": "stream",
     "text": [
      "Power_divergenceResult(statistic=0.020076206596581332, pvalue=0.9999999999807243)\n",
      "nino34\n"
     ]
    },
    {
     "data": {
      "image/png": "[encoded data removed]",
      "text/plain": [
       "<Figure size 432x288 with 1 Axes>"
      ]
     },
     "metadata": {
      "needs_background": "light"
     },
     "output_type": "display_data"
    },
    {
     "data": {
      "image/png": "[encoded data removed]",
      "text/plain": [
       "<Figure size 432x288 with 1 Axes>"
      ]
     },
     "metadata": {
      "needs_background": "light"
     },
     "output_type": "display_data"
    },
    {
     "name": "stdout",
     "output_type": "stream",
     "text": [
      "Power_divergenceResult(statistic=0.014454297836823006, pvalue=0.9999999999955952)\n",
      "sam\n"
     ]
    },
    {
     "data": {
      "image/png": "[encoded data removed]",
      "text/plain": [
       "<Figure size 432x288 with 1 Axes>"
      ]
     },
     "metadata": {
      "needs_background": "light"
     },
     "output_type": "display_data"
    },
    {
     "data": {
      "image/png": "[encoded data removed]",
      "text/plain": [
       "<Figure size 432x288 with 1 Axes>"
      ]
     },
     "metadata": {
      "needs_background": "light"
     },
     "output_type": "display_data"
    },
    {
     "name": "stdout",
     "output_type": "stream",
     "text": [
      "Power_divergenceResult(statistic=0.013296489527632818, pvalue=0.9999999999969733)\n",
      "nino4NoDetrend\n"
     ]
    },
    {
     "data": {
      "image/png": "[encoded data removed]",
      "text/plain": [
       "<Figure size 432x288 with 1 Axes>"
      ]
     },
     "metadata": {
      "needs_background": "light"
     },
     "output_type": "display_data"
    },
    {
     "data": {
      "image/png": "[encoded data removed]",
      "text/plain": [
       "<Figure size 432x288 with 1 Axes>"
      ]
     },
     "metadata": {
      "needs_background": "light"
     },
     "output_type": "display_data"
    },
    {
     "name": "stdout",
     "output_type": "stream",
     "text": [
      "Power_divergenceResult(statistic=0.04634278757931104, pvalue=0.9999999991773841)\n",
      "nino4\n"
     ]
    },
    {
     "data": {
      "image/png": "[encoded data removed]",
      "text/plain": [
       "<Figure size 432x288 with 1 Axes>"
      ]
     },
     "metadata": {
      "needs_background": "light"
     },
     "output_type": "display_data"
    },
    {
     "data": {
      "image/png": "[encoded data removed]",
      "text/plain": [
       "<Figure size 432x288 with 1 Axes>"
      ]
     },
     "metadata": {
      "needs_background": "light"
     },
     "output_type": "display_data"
    },
    {
     "name": "stdout",
     "output_type": "stream",
     "text": [
      "Power_divergenceResult(statistic=0.011949217282238196, pvalue=0.9999999999981275)\n",
      "eastIONoDetrend\n"
     ]
    },
    {
     "data": {
      "image/png": "[encoded data removed]",
      "text/plain": [
       "<Figure size 432x288 with 1 Axes>"
      ]
     },
     "metadata": {
      "needs_background": "light"
     },
     "output_type": "display_data"
    },
    {
     "data": {
      "image/png": "[encoded data removed]",
      "text/plain": [
       "<Figure size 432x288 with 1 Axes>"
      ]
     },
     "metadata": {
      "needs_background": "light"
     },
     "output_type": "display_data"
    },
    {
     "name": "stdout",
     "output_type": "stream",
     "text": [
      "Power_divergenceResult(statistic=0.06069223672406207, pvalue=0.9999999972468553)\n"
     ]
    }
   ],
   "source": [
    "for iIndex in list(indecesXr.data_vars):\n",
    "    \n",
    "    print(iIndex)\n",
    "    \n",
    "    plt.figure()\n",
    "    \n",
    "    cntlHist = indecesXr[iIndex].sel(\n",
    "        experiment=_model.cesmCntl, year=slice(850,1850)\n",
    "             ).plot.hist()\n",
    "    \n",
    "    plt.show()\n",
    "    \n",
    "    plt.figure()\n",
    "\n",
    "    meanHist = indecesXr[iIndex].sel(\n",
    "        experiment=_model.cesmFullForcings, year=slice(850,1850)\n",
    "                 ).plot.hist(bins=cntlHist[1])\n",
    "\n",
    "    plt.show()\n",
    "    \n",
    "    cntlHist[0]/cntlHist[0].sum()\n",
    "\n",
    "    meanHist[0]/meanHist[0].sum()\n",
    "\n",
    "    print(\n",
    "        scipy.stats.chisquare(cntlHist[0]/cntlHist[0].sum(), \n",
    "                          f_exp=meanHist[0]/meanHist[0].sum())\n",
    "    )"
   ]
  },
  {
   "cell_type": "code",
   "execution_count": null,
   "id": "d572c761-6bbe-41d6-abf6-8166ef7bc99c",
   "metadata": {},
   "outputs": [],
   "source": []
  }
 ],
 "metadata": {
  "kernelspec": {
   "display_name": "Python 3",
   "language": "python",
   "name": "python3"
  },
  "language_info": {
   "codemirror_mode": {
    "name": "ipython",
    "version": 3
   },
   "file_extension": ".py",
   "mimetype": "text/x-python",
   "name": "python",
   "nbconvert_exporter": "python",
   "pygments_lexer": "ipython3",
   "version": "3.8.8"
  }
 },
 "nbformat": 4,
 "nbformat_minor": 5
}
