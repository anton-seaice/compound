{
 "cells": [
  {
   "cell_type": "markdown",
   "id": "d4d91a68-c7ee-41ba-bb44-06b4920427c4",
   "metadata": {},
   "source": [
    "# CESM Control vs Forcing Runs"
   ]
  },
  {
   "cell_type": "markdown",
   "id": "b4c0e3af-442b-4eb5-b8d4-2996ddd22421",
   "metadata": {},
   "source": [
    "How appropriate is it to use the control run as a climatology"
   ]
  },
  {
   "cell_type": "code",
   "execution_count": 1,
   "id": "c2a42983-75bc-4d4f-b69e-d685056fea8f",
   "metadata": {},
   "outputs": [],
   "source": [
    "#import my functions\n",
    "import sys\n",
    "sys.path.append('../')\n",
    "\n",
    "import utils._modelDefinitions as _model\n"
   ]
  },
  {
   "cell_type": "code",
   "execution_count": 2,
   "id": "8545d1c6-85d8-4944-9e02-8eadc3aa80d8",
   "metadata": {},
   "outputs": [],
   "source": [
    "import xarray\n",
    "import matplotlib.pyplot as plt\n",
    "import numpy\n",
    "import scipy.stats\n",
    "\n",
    "%matplotlib inline"
   ]
  },
  {
   "cell_type": "code",
   "execution_count": 3,
   "id": "6446af8b-99da-49e0-abad-a6ebf7fa9468",
   "metadata": {},
   "outputs": [
    {
     "data": {
      "text/plain": [
       "array(['LME.002', 'LME.003', 'LME.008', 'LME.009', '0850cntl.001', '001',\n",
       "       '002', '003', '004', '005', '006', '007', '008', '009', '010',\n",
       "       '011', '012', '013'], dtype=object)"
      ]
     },
     "execution_count": 3,
     "metadata": {},
     "output_type": "execute_result"
    }
   ],
   "source": [
    "# Here is the data\n",
    "indecesXr = xarray.open_dataset('../results/cesmTradIndeces.nc')\n",
    "\n",
    "indecesXr.experiment.values"
   ]
  },
  {
   "cell_type": "code",
   "execution_count": 4,
   "id": "f2299d8c-cd8c-4631-808a-eaccc0ee3e03",
   "metadata": {},
   "outputs": [
    {
     "data": {
      "text/html": [
       "<div><svg style=\"position: absolute; width: 0; height: 0; overflow: hidden\">\n",
       "<defs>\n",
       "<symbol id=\"icon-database\" viewBox=\"0 0 32 32\">\n",
       "<path d=\"M16 0c-8.837 0-16 2.239-16 5v4c0 2.761 7.163 5 16 5s16-2.239 16-5v-4c0-2.761-7.163-5-16-5z\"></path>\n",
       "<path d=\"M16 17c-8.837 0-16-2.239-16-5v6c0 2.761 7.163 5 16 5s16-2.239 16-5v-6c0 2.761-7.163 5-16 5z\"></path>\n",
       "<path d=\"M16 26c-8.837 0-16-2.239-16-5v6c0 2.761 7.163 5 16 5s16-2.239 16-5v-6c0 2.761-7.163 5-16 5z\"></path>\n",
       "</symbol>\n",
       "<symbol id=\"icon-file-text2\" viewBox=\"0 0 32 32\">\n",
       "<path d=\"M28.681 7.159c-0.694-0.947-1.662-2.053-2.724-3.116s-2.169-2.030-3.116-2.724c-1.612-1.182-2.393-1.319-2.841-1.319h-15.5c-1.378 0-2.5 1.121-2.5 2.5v27c0 1.378 1.122 2.5 2.5 2.5h23c1.378 0 2.5-1.122 2.5-2.5v-19.5c0-0.448-0.137-1.23-1.319-2.841zM24.543 5.457c0.959 0.959 1.712 1.825 2.268 2.543h-4.811v-4.811c0.718 0.556 1.584 1.309 2.543 2.268zM28 29.5c0 0.271-0.229 0.5-0.5 0.5h-23c-0.271 0-0.5-0.229-0.5-0.5v-27c0-0.271 0.229-0.5 0.5-0.5 0 0 15.499-0 15.5 0v7c0 0.552 0.448 1 1 1h7v19.5z\"></path>\n",
       "<path d=\"M23 26h-14c-0.552 0-1-0.448-1-1s0.448-1 1-1h14c0.552 0 1 0.448 1 1s-0.448 1-1 1z\"></path>\n",
       "<path d=\"M23 22h-14c-0.552 0-1-0.448-1-1s0.448-1 1-1h14c0.552 0 1 0.448 1 1s-0.448 1-1 1z\"></path>\n",
       "<path d=\"M23 18h-14c-0.552 0-1-0.448-1-1s0.448-1 1-1h14c0.552 0 1 0.448 1 1s-0.448 1-1 1z\"></path>\n",
       "</symbol>\n",
       "</defs>\n",
       "</svg>\n",
       "<style>/* CSS stylesheet for displaying xarray objects in jupyterlab.\n",
       " *\n",
       " */\n",
       "\n",
       ":root {\n",
       "  --xr-font-color0: var(--jp-content-font-color0, rgba(0, 0, 0, 1));\n",
       "  --xr-font-color2: var(--jp-content-font-color2, rgba(0, 0, 0, 0.54));\n",
       "  --xr-font-color3: var(--jp-content-font-color3, rgba(0, 0, 0, 0.38));\n",
       "  --xr-border-color: var(--jp-border-color2, #e0e0e0);\n",
       "  --xr-disabled-color: var(--jp-layout-color3, #bdbdbd);\n",
       "  --xr-background-color: var(--jp-layout-color0, white);\n",
       "  --xr-background-color-row-even: var(--jp-layout-color1, white);\n",
       "  --xr-background-color-row-odd: var(--jp-layout-color2, #eeeeee);\n",
       "}\n",
       "\n",
       "html[theme=dark],\n",
       "body.vscode-dark {\n",
       "  --xr-font-color0: rgba(255, 255, 255, 1);\n",
       "  --xr-font-color2: rgba(255, 255, 255, 0.54);\n",
       "  --xr-font-color3: rgba(255, 255, 255, 0.38);\n",
       "  --xr-border-color: #1F1F1F;\n",
       "  --xr-disabled-color: #515151;\n",
       "  --xr-background-color: #111111;\n",
       "  --xr-background-color-row-even: #111111;\n",
       "  --xr-background-color-row-odd: #313131;\n",
       "}\n",
       "\n",
       ".xr-wrap {\n",
       "  display: block;\n",
       "  min-width: 300px;\n",
       "  max-width: 700px;\n",
       "}\n",
       "\n",
       ".xr-text-repr-fallback {\n",
       "  /* fallback to plain text repr when CSS is not injected (untrusted notebook) */\n",
       "  display: none;\n",
       "}\n",
       "\n",
       ".xr-header {\n",
       "  padding-top: 6px;\n",
       "  padding-bottom: 6px;\n",
       "  margin-bottom: 4px;\n",
       "  border-bottom: solid 1px var(--xr-border-color);\n",
       "}\n",
       "\n",
       ".xr-header > div,\n",
       ".xr-header > ul {\n",
       "  display: inline;\n",
       "  margin-top: 0;\n",
       "  margin-bottom: 0;\n",
       "}\n",
       "\n",
       ".xr-obj-type,\n",
       ".xr-array-name {\n",
       "  margin-left: 2px;\n",
       "  margin-right: 10px;\n",
       "}\n",
       "\n",
       ".xr-obj-type {\n",
       "  color: var(--xr-font-color2);\n",
       "}\n",
       "\n",
       ".xr-sections {\n",
       "  padding-left: 0 !important;\n",
       "  display: grid;\n",
       "  grid-template-columns: 150px auto auto 1fr 20px 20px;\n",
       "}\n",
       "\n",
       ".xr-section-item {\n",
       "  display: contents;\n",
       "}\n",
       "\n",
       ".xr-section-item input {\n",
       "  display: none;\n",
       "}\n",
       "\n",
       ".xr-section-item input + label {\n",
       "  color: var(--xr-disabled-color);\n",
       "}\n",
       "\n",
       ".xr-section-item input:enabled + label {\n",
       "  cursor: pointer;\n",
       "  color: var(--xr-font-color2);\n",
       "}\n",
       "\n",
       ".xr-section-item input:enabled + label:hover {\n",
       "  color: var(--xr-font-color0);\n",
       "}\n",
       "\n",
       ".xr-section-summary {\n",
       "  grid-column: 1;\n",
       "  color: var(--xr-font-color2);\n",
       "  font-weight: 500;\n",
       "}\n",
       "\n",
       ".xr-section-summary > span {\n",
       "  display: inline-block;\n",
       "  padding-left: 0.5em;\n",
       "}\n",
       "\n",
       ".xr-section-summary-in:disabled + label {\n",
       "  color: var(--xr-font-color2);\n",
       "}\n",
       "\n",
       ".xr-section-summary-in + label:before {\n",
       "  display: inline-block;\n",
       "  content: '►';\n",
       "  font-size: 11px;\n",
       "  width: 15px;\n",
       "  text-align: center;\n",
       "}\n",
       "\n",
       ".xr-section-summary-in:disabled + label:before {\n",
       "  color: var(--xr-disabled-color);\n",
       "}\n",
       "\n",
       ".xr-section-summary-in:checked + label:before {\n",
       "  content: '▼';\n",
       "}\n",
       "\n",
       ".xr-section-summary-in:checked + label > span {\n",
       "  display: none;\n",
       "}\n",
       "\n",
       ".xr-section-summary,\n",
       ".xr-section-inline-details {\n",
       "  padding-top: 4px;\n",
       "  padding-bottom: 4px;\n",
       "}\n",
       "\n",
       ".xr-section-inline-details {\n",
       "  grid-column: 2 / -1;\n",
       "}\n",
       "\n",
       ".xr-section-details {\n",
       "  display: none;\n",
       "  grid-column: 1 / -1;\n",
       "  margin-bottom: 5px;\n",
       "}\n",
       "\n",
       ".xr-section-summary-in:checked ~ .xr-section-details {\n",
       "  display: contents;\n",
       "}\n",
       "\n",
       ".xr-array-wrap {\n",
       "  grid-column: 1 / -1;\n",
       "  display: grid;\n",
       "  grid-template-columns: 20px auto;\n",
       "}\n",
       "\n",
       ".xr-array-wrap > label {\n",
       "  grid-column: 1;\n",
       "  vertical-align: top;\n",
       "}\n",
       "\n",
       ".xr-preview {\n",
       "  color: var(--xr-font-color3);\n",
       "}\n",
       "\n",
       ".xr-array-preview,\n",
       ".xr-array-data {\n",
       "  padding: 0 5px !important;\n",
       "  grid-column: 2;\n",
       "}\n",
       "\n",
       ".xr-array-data,\n",
       ".xr-array-in:checked ~ .xr-array-preview {\n",
       "  display: none;\n",
       "}\n",
       "\n",
       ".xr-array-in:checked ~ .xr-array-data,\n",
       ".xr-array-preview {\n",
       "  display: inline-block;\n",
       "}\n",
       "\n",
       ".xr-dim-list {\n",
       "  display: inline-block !important;\n",
       "  list-style: none;\n",
       "  padding: 0 !important;\n",
       "  margin: 0;\n",
       "}\n",
       "\n",
       ".xr-dim-list li {\n",
       "  display: inline-block;\n",
       "  padding: 0;\n",
       "  margin: 0;\n",
       "}\n",
       "\n",
       ".xr-dim-list:before {\n",
       "  content: '(';\n",
       "}\n",
       "\n",
       ".xr-dim-list:after {\n",
       "  content: ')';\n",
       "}\n",
       "\n",
       ".xr-dim-list li:not(:last-child):after {\n",
       "  content: ',';\n",
       "  padding-right: 5px;\n",
       "}\n",
       "\n",
       ".xr-has-index {\n",
       "  font-weight: bold;\n",
       "}\n",
       "\n",
       ".xr-var-list,\n",
       ".xr-var-item {\n",
       "  display: contents;\n",
       "}\n",
       "\n",
       ".xr-var-item > div,\n",
       ".xr-var-item label,\n",
       ".xr-var-item > .xr-var-name span {\n",
       "  background-color: var(--xr-background-color-row-even);\n",
       "  margin-bottom: 0;\n",
       "}\n",
       "\n",
       ".xr-var-item > .xr-var-name:hover span {\n",
       "  padding-right: 5px;\n",
       "}\n",
       "\n",
       ".xr-var-list > li:nth-child(odd) > div,\n",
       ".xr-var-list > li:nth-child(odd) > label,\n",
       ".xr-var-list > li:nth-child(odd) > .xr-var-name span {\n",
       "  background-color: var(--xr-background-color-row-odd);\n",
       "}\n",
       "\n",
       ".xr-var-name {\n",
       "  grid-column: 1;\n",
       "}\n",
       "\n",
       ".xr-var-dims {\n",
       "  grid-column: 2;\n",
       "}\n",
       "\n",
       ".xr-var-dtype {\n",
       "  grid-column: 3;\n",
       "  text-align: right;\n",
       "  color: var(--xr-font-color2);\n",
       "}\n",
       "\n",
       ".xr-var-preview {\n",
       "  grid-column: 4;\n",
       "}\n",
       "\n",
       ".xr-var-name,\n",
       ".xr-var-dims,\n",
       ".xr-var-dtype,\n",
       ".xr-preview,\n",
       ".xr-attrs dt {\n",
       "  white-space: nowrap;\n",
       "  overflow: hidden;\n",
       "  text-overflow: ellipsis;\n",
       "  padding-right: 10px;\n",
       "}\n",
       "\n",
       ".xr-var-name:hover,\n",
       ".xr-var-dims:hover,\n",
       ".xr-var-dtype:hover,\n",
       ".xr-attrs dt:hover {\n",
       "  overflow: visible;\n",
       "  width: auto;\n",
       "  z-index: 1;\n",
       "}\n",
       "\n",
       ".xr-var-attrs,\n",
       ".xr-var-data {\n",
       "  display: none;\n",
       "  background-color: var(--xr-background-color) !important;\n",
       "  padding-bottom: 5px !important;\n",
       "}\n",
       "\n",
       ".xr-var-attrs-in:checked ~ .xr-var-attrs,\n",
       ".xr-var-data-in:checked ~ .xr-var-data {\n",
       "  display: block;\n",
       "}\n",
       "\n",
       ".xr-var-data > table {\n",
       "  float: right;\n",
       "}\n",
       "\n",
       ".xr-var-name span,\n",
       ".xr-var-data,\n",
       ".xr-attrs {\n",
       "  padding-left: 25px !important;\n",
       "}\n",
       "\n",
       ".xr-attrs,\n",
       ".xr-var-attrs,\n",
       ".xr-var-data {\n",
       "  grid-column: 1 / -1;\n",
       "}\n",
       "\n",
       "dl.xr-attrs {\n",
       "  padding: 0;\n",
       "  margin: 0;\n",
       "  display: grid;\n",
       "  grid-template-columns: 125px auto;\n",
       "}\n",
       "\n",
       ".xr-attrs dt,\n",
       ".xr-attrs dd {\n",
       "  padding: 0;\n",
       "  margin: 0;\n",
       "  float: left;\n",
       "  padding-right: 10px;\n",
       "  width: auto;\n",
       "}\n",
       "\n",
       ".xr-attrs dt {\n",
       "  font-weight: normal;\n",
       "  grid-column: 1;\n",
       "}\n",
       "\n",
       ".xr-attrs dt:hover span {\n",
       "  display: inline-block;\n",
       "  background: var(--xr-background-color);\n",
       "  padding-right: 10px;\n",
       "}\n",
       "\n",
       ".xr-attrs dd {\n",
       "  grid-column: 2;\n",
       "  white-space: pre-wrap;\n",
       "  word-break: break-all;\n",
       "}\n",
       "\n",
       ".xr-icon-database,\n",
       ".xr-icon-file-text2 {\n",
       "  display: inline-block;\n",
       "  vertical-align: middle;\n",
       "  width: 1em;\n",
       "  height: 1.5em !important;\n",
       "  stroke-width: 0;\n",
       "  stroke: currentColor;\n",
       "  fill: currentColor;\n",
       "}\n",
       "</style><pre class='xr-text-repr-fallback'>&lt;xarray.Dataset&gt;\n",
       "Dimensions:          (experiment: 18, year: 1250)\n",
       "Coordinates:\n",
       "  * year             (year) int64 850 851 852 853 854 ... 2096 2097 2098 2099\n",
       "  * experiment       (experiment) object &#x27;LME.002&#x27; &#x27;LME.003&#x27; ... &#x27;012&#x27; &#x27;013&#x27;\n",
       "Data variables:\n",
       "    dmi              (experiment, year) float64 0.9455 1.903 -0.352 ... nan nan\n",
       "    eastIO           (experiment, year) float64 -0.4062 -1.1 0.428 ... nan nan\n",
       "    nino34NoDetrend  (experiment, year) float64 0.5649 -0.5219 ... nan nan\n",
       "    nino34           (experiment, year) float64 0.4477 -0.447 ... nan nan\n",
       "    sam              (experiment, year) float64 -1.059 0.2726 0.2454 ... nan nan\n",
       "    nino4NoDetrend   (experiment, year) float64 0.6418 -0.3102 ... nan nan\n",
       "    nino4            (experiment, year) float64 0.5246 -0.2353 ... nan nan\n",
       "    eastIONoDetrend  (experiment, year) float64 -0.3048 -1.163 ... nan nan\n",
       "Attributes:\n",
       "    nino34NoDetrend:  [ 7 15]\n",
       "    nino4NoDetrend:   [ 7 15]\n",
       "    eastIONoDetrend:  [ 7 12]\n",
       "    dmi:              [ 7 12]\n",
       "    nino34:           [ 7 15]\n",
       "    nino4:            [ 7 15]\n",
       "    eastIO:           [ 7 12]\n",
       "    sam:              [10 15]\n",
       "    lat1:             [10 15]\n",
       "    lat2:             [10 15]\n",
       "    precAnom:         [ 9 15]\n",
       "    tsAnom:           [ 9 15]</pre><div class='xr-wrap' hidden><div class='xr-header'><div class='xr-obj-type'>xarray.Dataset</div></div><ul class='xr-sections'><li class='xr-section-item'><input id='section-94fb7e74-c394-4d72-8888-506184d8c7e5' class='xr-section-summary-in' type='checkbox' disabled ><label for='section-94fb7e74-c394-4d72-8888-506184d8c7e5' class='xr-section-summary'  title='Expand/collapse section'>Dimensions:</label><div class='xr-section-inline-details'><ul class='xr-dim-list'><li><span class='xr-has-index'>experiment</span>: 18</li><li><span class='xr-has-index'>year</span>: 1250</li></ul></div><div class='xr-section-details'></div></li><li class='xr-section-item'><input id='section-f4db0743-1a11-435d-86d1-eeb1b3309b1a' class='xr-section-summary-in' type='checkbox'  checked><label for='section-f4db0743-1a11-435d-86d1-eeb1b3309b1a' class='xr-section-summary' >Coordinates: <span>(2)</span></label><div class='xr-section-inline-details'></div><div class='xr-section-details'><ul class='xr-var-list'><li class='xr-var-item'><div class='xr-var-name'><span class='xr-has-index'>year</span></div><div class='xr-var-dims'>(year)</div><div class='xr-var-dtype'>int64</div><div class='xr-var-preview xr-preview'>850 851 852 853 ... 2097 2098 2099</div><input id='attrs-1629a27e-e3ea-4031-8a6f-3c0c80acc6fa' class='xr-var-attrs-in' type='checkbox' disabled><label for='attrs-1629a27e-e3ea-4031-8a6f-3c0c80acc6fa' title='Show/Hide attributes'><svg class='icon xr-icon-file-text2'><use xlink:href='#icon-file-text2'></use></svg></label><input id='data-4275ab96-ec34-427e-a9a0-ae3ec94072c3' class='xr-var-data-in' type='checkbox'><label for='data-4275ab96-ec34-427e-a9a0-ae3ec94072c3' title='Show/Hide data repr'><svg class='icon xr-icon-database'><use xlink:href='#icon-database'></use></svg></label><div class='xr-var-attrs'><dl class='xr-attrs'></dl></div><div class='xr-var-data'><pre>array([ 850,  851,  852, ..., 2097, 2098, 2099])</pre></div></li><li class='xr-var-item'><div class='xr-var-name'><span class='xr-has-index'>experiment</span></div><div class='xr-var-dims'>(experiment)</div><div class='xr-var-dtype'>object</div><div class='xr-var-preview xr-preview'>&#x27;LME.002&#x27; &#x27;LME.003&#x27; ... &#x27;012&#x27; &#x27;013&#x27;</div><input id='attrs-7e91cdd7-849b-45eb-9f7d-96ac66e836de' class='xr-var-attrs-in' type='checkbox' disabled><label for='attrs-7e91cdd7-849b-45eb-9f7d-96ac66e836de' title='Show/Hide attributes'><svg class='icon xr-icon-file-text2'><use xlink:href='#icon-file-text2'></use></svg></label><input id='data-f72b64fb-1d17-4377-9070-c0eb7243237b' class='xr-var-data-in' type='checkbox'><label for='data-f72b64fb-1d17-4377-9070-c0eb7243237b' title='Show/Hide data repr'><svg class='icon xr-icon-database'><use xlink:href='#icon-database'></use></svg></label><div class='xr-var-attrs'><dl class='xr-attrs'></dl></div><div class='xr-var-data'><pre>array([&#x27;LME.002&#x27;, &#x27;LME.003&#x27;, &#x27;LME.008&#x27;, &#x27;LME.009&#x27;, &#x27;0850cntl.001&#x27;, &#x27;001&#x27;,\n",
       "       &#x27;002&#x27;, &#x27;003&#x27;, &#x27;004&#x27;, &#x27;005&#x27;, &#x27;006&#x27;, &#x27;007&#x27;, &#x27;008&#x27;, &#x27;009&#x27;, &#x27;010&#x27;, &#x27;011&#x27;,\n",
       "       &#x27;012&#x27;, &#x27;013&#x27;], dtype=object)</pre></div></li></ul></div></li><li class='xr-section-item'><input id='section-9abed1b0-bfee-4d0d-8419-46aacdc915e7' class='xr-section-summary-in' type='checkbox'  checked><label for='section-9abed1b0-bfee-4d0d-8419-46aacdc915e7' class='xr-section-summary' >Data variables: <span>(8)</span></label><div class='xr-section-inline-details'></div><div class='xr-section-details'><ul class='xr-var-list'><li class='xr-var-item'><div class='xr-var-name'><span>dmi</span></div><div class='xr-var-dims'>(experiment, year)</div><div class='xr-var-dtype'>float64</div><div class='xr-var-preview xr-preview'>...</div><input id='attrs-4cce32b2-e561-454a-8a16-c90a0a0f2a50' class='xr-var-attrs-in' type='checkbox' disabled><label for='attrs-4cce32b2-e561-454a-8a16-c90a0a0f2a50' title='Show/Hide attributes'><svg class='icon xr-icon-file-text2'><use xlink:href='#icon-file-text2'></use></svg></label><input id='data-8cb3c8be-576f-4130-9e2e-749750db2257' class='xr-var-data-in' type='checkbox'><label for='data-8cb3c8be-576f-4130-9e2e-749750db2257' title='Show/Hide data repr'><svg class='icon xr-icon-database'><use xlink:href='#icon-database'></use></svg></label><div class='xr-var-attrs'><dl class='xr-attrs'></dl></div><div class='xr-var-data'><pre>array([[ 0.945481,  1.903481, -0.351992, ...,  2.181856, -0.375067, -1.810152],\n",
       "       [ 1.878951,  2.073951,  0.275699, ..., -0.518676, -1.296071, -1.537714],\n",
       "       [-0.217715,  1.332019,  1.021501, ...,  0.394297,  0.562958,  2.450507],\n",
       "       ...,\n",
       "       [ 1.79907 ,  0.962829,  1.072633, ...,       nan,       nan,       nan],\n",
       "       [ 0.701038,  1.099014, -0.596866, ...,       nan,       nan,       nan],\n",
       "       [ 0.917782,  1.496086, -0.47934 , ...,       nan,       nan,       nan]])</pre></div></li><li class='xr-var-item'><div class='xr-var-name'><span>eastIO</span></div><div class='xr-var-dims'>(experiment, year)</div><div class='xr-var-dtype'>float64</div><div class='xr-var-preview xr-preview'>...</div><input id='attrs-94a3d60f-3a2d-4d36-b714-d822d5794c71' class='xr-var-attrs-in' type='checkbox' disabled><label for='attrs-94a3d60f-3a2d-4d36-b714-d822d5794c71' title='Show/Hide attributes'><svg class='icon xr-icon-file-text2'><use xlink:href='#icon-file-text2'></use></svg></label><input id='data-8e9a845f-ddf3-4a4e-adb6-673fce6dc06c' class='xr-var-data-in' type='checkbox'><label for='data-8e9a845f-ddf3-4a4e-adb6-673fce6dc06c' title='Show/Hide data repr'><svg class='icon xr-icon-database'><use xlink:href='#icon-database'></use></svg></label><div class='xr-var-attrs'><dl class='xr-attrs'></dl></div><div class='xr-var-data'><pre>array([[-0.406164, -1.099933,  0.428047, ..., -1.967666,  1.087328,  1.565253],\n",
       "       [-1.329419, -1.630007, -0.071047, ...,  0.890175,  1.412122,  1.462874],\n",
       "       [ 0.019615, -1.230589, -1.081045, ...,  0.288674, -0.275652, -1.99013 ],\n",
       "       ...,\n",
       "       [-1.429286, -0.516771, -0.648377, ...,       nan,       nan,       nan],\n",
       "       [-0.598706, -0.984268,  0.646164, ...,       nan,       nan,       nan],\n",
       "       [-0.677769, -0.841095,  0.456507, ...,       nan,       nan,       nan]])</pre></div></li><li class='xr-var-item'><div class='xr-var-name'><span>nino34NoDetrend</span></div><div class='xr-var-dims'>(experiment, year)</div><div class='xr-var-dtype'>float64</div><div class='xr-var-preview xr-preview'>...</div><input id='attrs-834ecc8b-65ec-4e71-b92f-f41bae3af839' class='xr-var-attrs-in' type='checkbox' disabled><label for='attrs-834ecc8b-65ec-4e71-b92f-f41bae3af839' title='Show/Hide attributes'><svg class='icon xr-icon-file-text2'><use xlink:href='#icon-file-text2'></use></svg></label><input id='data-3df289fa-3f3b-4608-bd61-a9a3d9e193b2' class='xr-var-data-in' type='checkbox'><label for='data-3df289fa-3f3b-4608-bd61-a9a3d9e193b2' title='Show/Hide data repr'><svg class='icon xr-icon-database'><use xlink:href='#icon-database'></use></svg></label><div class='xr-var-attrs'><dl class='xr-attrs'></dl></div><div class='xr-var-data'><pre>array([[ 0.564896, -0.521899, -0.823874, ...,  6.219173,  2.169682,  2.234949],\n",
       "       [ 1.913649,  2.264641, -0.546281, ...,  1.916224,  2.457966,  2.483774],\n",
       "       [ 1.268994,  0.8827  ,  1.577483, ...,  2.997263,  4.930363,  6.479195],\n",
       "       ...,\n",
       "       [ 2.242675,  1.654334,  0.222369, ...,       nan,       nan,       nan],\n",
       "       [ 2.249898,  3.454957, -1.152498, ...,       nan,       nan,       nan],\n",
       "       [ 1.288202, -0.606463, -0.779639, ...,       nan,       nan,       nan]])</pre></div></li><li class='xr-var-item'><div class='xr-var-name'><span>nino34</span></div><div class='xr-var-dims'>(experiment, year)</div><div class='xr-var-dtype'>float64</div><div class='xr-var-preview xr-preview'>...</div><input id='attrs-b5bbdcd3-4cb0-4203-8a67-6fa6324f16b0' class='xr-var-attrs-in' type='checkbox' disabled><label for='attrs-b5bbdcd3-4cb0-4203-8a67-6fa6324f16b0' title='Show/Hide attributes'><svg class='icon xr-icon-file-text2'><use xlink:href='#icon-file-text2'></use></svg></label><input id='data-d26ff074-32b1-4cda-981d-344a8dc48f54' class='xr-var-data-in' type='checkbox'><label for='data-d26ff074-32b1-4cda-981d-344a8dc48f54' title='Show/Hide data repr'><svg class='icon xr-icon-database'><use xlink:href='#icon-database'></use></svg></label><div class='xr-var-attrs'><dl class='xr-attrs'></dl></div><div class='xr-var-data'><pre>array([[ 0.447688, -0.446951, -0.63517 , ...,  2.678868, -1.050582, -0.718567],\n",
       "       [ 1.632355,  1.851002, -0.645728, ..., -0.999992, -0.474359, -0.512671],\n",
       "       [ 1.044613,  0.700305,  1.156346, ..., -0.070666,  1.575705,  2.699636],\n",
       "       ...,\n",
       "       [ 1.878918,  1.190676,  0.02617 , ...,       nan,       nan,       nan],\n",
       "       [ 1.899154,  2.586606, -1.406504, ...,       nan,       nan,       nan],\n",
       "       [ 1.040635, -0.602487, -0.627502, ...,       nan,       nan,       nan]])</pre></div></li><li class='xr-var-item'><div class='xr-var-name'><span>sam</span></div><div class='xr-var-dims'>(experiment, year)</div><div class='xr-var-dtype'>float64</div><div class='xr-var-preview xr-preview'>...</div><input id='attrs-ebe1cdaf-743d-42db-b32b-ec2c6dfe4717' class='xr-var-attrs-in' type='checkbox' disabled><label for='attrs-ebe1cdaf-743d-42db-b32b-ec2c6dfe4717' title='Show/Hide attributes'><svg class='icon xr-icon-file-text2'><use xlink:href='#icon-file-text2'></use></svg></label><input id='data-e9f80ff9-cbe2-49cc-87d3-1547f850b366' class='xr-var-data-in' type='checkbox'><label for='data-e9f80ff9-cbe2-49cc-87d3-1547f850b366' title='Show/Hide data repr'><svg class='icon xr-icon-database'><use xlink:href='#icon-database'></use></svg></label><div class='xr-var-attrs'><dl class='xr-attrs'></dl></div><div class='xr-var-data'><pre>array([[-1.059138,  0.272599,  0.245371, ...,  2.285902,  1.954885,  2.918915],\n",
       "       [ 0.007198, -0.812496, -0.026176, ...,  2.210037,  2.232658,  2.09221 ],\n",
       "       [ 1.622406, -0.809836, -1.39285 , ...,  2.991164,  2.568682,  1.268242],\n",
       "       ...,\n",
       "       [-3.041356, -3.33247 ,  0.036501, ...,       nan,       nan,       nan],\n",
       "       [-2.309384, -3.21829 , -1.653724, ...,       nan,       nan,       nan],\n",
       "       [ 1.070903,  2.107372,  1.055862, ...,       nan,       nan,       nan]])</pre></div></li><li class='xr-var-item'><div class='xr-var-name'><span>nino4NoDetrend</span></div><div class='xr-var-dims'>(experiment, year)</div><div class='xr-var-dtype'>float64</div><div class='xr-var-preview xr-preview'>...</div><input id='attrs-da9e0d61-eb56-46bc-bc1a-3997a8e489a9' class='xr-var-attrs-in' type='checkbox' disabled><label for='attrs-da9e0d61-eb56-46bc-bc1a-3997a8e489a9' title='Show/Hide attributes'><svg class='icon xr-icon-file-text2'><use xlink:href='#icon-file-text2'></use></svg></label><input id='data-edc011f7-af07-4d3a-b13e-eded49ba624e' class='xr-var-data-in' type='checkbox'><label for='data-edc011f7-af07-4d3a-b13e-eded49ba624e' title='Show/Hide data repr'><svg class='icon xr-icon-database'><use xlink:href='#icon-database'></use></svg></label><div class='xr-var-attrs'><dl class='xr-attrs'></dl></div><div class='xr-var-data'><pre>array([[ 0.641761, -0.310215, -0.76071 , ...,  4.135359,  1.959876,  2.158539],\n",
       "       [ 1.72275 ,  1.795879,  0.032647, ...,  1.842543,  2.487688,  2.511118],\n",
       "       [ 1.384976,  1.203644,  1.582223, ...,  3.029918,  4.862128,  4.222922],\n",
       "       ...,\n",
       "       [ 1.811614,  1.539521,  0.572979, ...,       nan,       nan,       nan],\n",
       "       [ 1.876183,  1.297254, -0.9051  , ...,       nan,       nan,       nan],\n",
       "       [ 1.386594, -0.418754, -0.602785, ...,       nan,       nan,       nan]])</pre></div></li><li class='xr-var-item'><div class='xr-var-name'><span>nino4</span></div><div class='xr-var-dims'>(experiment, year)</div><div class='xr-var-dtype'>float64</div><div class='xr-var-preview xr-preview'>...</div><input id='attrs-648f1e80-082e-4dc4-b87f-1bca1dfe3e80' class='xr-var-attrs-in' type='checkbox' disabled><label for='attrs-648f1e80-082e-4dc4-b87f-1bca1dfe3e80' title='Show/Hide attributes'><svg class='icon xr-icon-file-text2'><use xlink:href='#icon-file-text2'></use></svg></label><input id='data-14628456-8dc1-4bc7-b990-46b5a815db76' class='xr-var-data-in' type='checkbox'><label for='data-14628456-8dc1-4bc7-b990-46b5a815db76' title='Show/Hide data repr'><svg class='icon xr-icon-database'><use xlink:href='#icon-database'></use></svg></label><div class='xr-var-attrs'><dl class='xr-attrs'></dl></div><div class='xr-var-data'><pre>array([[ 0.524554, -0.235267, -0.572006, ...,  0.595055, -1.260388, -0.794977],\n",
       "       [ 1.441456,  1.38224 , -0.066799, ..., -1.073672, -0.444638, -0.485327],\n",
       "       [ 1.160595,  1.02125 ,  1.161087, ..., -0.038011,  1.507469,  0.443363],\n",
       "       ...,\n",
       "       [ 1.447857,  1.075863,  0.37678 , ...,       nan,       nan,       nan],\n",
       "       [ 1.525438,  0.428902, -1.159105, ...,       nan,       nan,       nan],\n",
       "       [ 1.139027, -0.414779, -0.450649, ...,       nan,       nan,       nan]])</pre></div></li><li class='xr-var-item'><div class='xr-var-name'><span>eastIONoDetrend</span></div><div class='xr-var-dims'>(experiment, year)</div><div class='xr-var-dtype'>float64</div><div class='xr-var-preview xr-preview'>...</div><input id='attrs-86448716-c43d-4603-8fd4-b2d988d6c54a' class='xr-var-attrs-in' type='checkbox' disabled><label for='attrs-86448716-c43d-4603-8fd4-b2d988d6c54a' title='Show/Hide attributes'><svg class='icon xr-icon-file-text2'><use xlink:href='#icon-file-text2'></use></svg></label><input id='data-61e55e03-6a42-4c07-9b0c-38388b4c81bd' class='xr-var-data-in' type='checkbox'><label for='data-61e55e03-6a42-4c07-9b0c-38388b4c81bd' title='Show/Hide data repr'><svg class='icon xr-icon-database'><use xlink:href='#icon-database'></use></svg></label><div class='xr-var-attrs'><dl class='xr-attrs'></dl></div><div class='xr-var-data'><pre>array([[-0.304763, -1.162696,  0.237236, ...,  1.486516,  4.372071,  4.466878],\n",
       "       [-1.092116, -1.24271 ,  0.080271, ...,  3.760731,  4.350787,  4.416476],\n",
       "       [ 0.171851, -1.098049, -0.690874, ...,  3.341912,  3.020947,  1.736451],\n",
       "       ...,\n",
       "       [-1.13731 , -0.035541, -0.480598, ...,       nan,       nan,       nan],\n",
       "       [-0.361648, -0.147183,  0.996199, ...,       nan,       nan,       nan],\n",
       "       [-0.454988, -0.799574,  0.299959, ...,       nan,       nan,       nan]])</pre></div></li></ul></div></li><li class='xr-section-item'><input id='section-bb665caf-e32d-4757-ab7b-db0b957dbcab' class='xr-section-summary-in' type='checkbox'  ><label for='section-bb665caf-e32d-4757-ab7b-db0b957dbcab' class='xr-section-summary' >Attributes: <span>(12)</span></label><div class='xr-section-inline-details'></div><div class='xr-section-details'><dl class='xr-attrs'><dt><span>nino34NoDetrend :</span></dt><dd>[ 7 15]</dd><dt><span>nino4NoDetrend :</span></dt><dd>[ 7 15]</dd><dt><span>eastIONoDetrend :</span></dt><dd>[ 7 12]</dd><dt><span>dmi :</span></dt><dd>[ 7 12]</dd><dt><span>nino34 :</span></dt><dd>[ 7 15]</dd><dt><span>nino4 :</span></dt><dd>[ 7 15]</dd><dt><span>eastIO :</span></dt><dd>[ 7 12]</dd><dt><span>sam :</span></dt><dd>[10 15]</dd><dt><span>lat1 :</span></dt><dd>[10 15]</dd><dt><span>lat2 :</span></dt><dd>[10 15]</dd><dt><span>precAnom :</span></dt><dd>[ 9 15]</dd><dt><span>tsAnom :</span></dt><dd>[ 9 15]</dd></dl></div></li></ul></div></div>"
      ],
      "text/plain": [
       "<xarray.Dataset>\n",
       "Dimensions:          (experiment: 18, year: 1250)\n",
       "Coordinates:\n",
       "  * year             (year) int64 850 851 852 853 854 ... 2096 2097 2098 2099\n",
       "  * experiment       (experiment) object 'LME.002' 'LME.003' ... '012' '013'\n",
       "Data variables:\n",
       "    dmi              (experiment, year) float64 ...\n",
       "    eastIO           (experiment, year) float64 ...\n",
       "    nino34NoDetrend  (experiment, year) float64 ...\n",
       "    nino34           (experiment, year) float64 ...\n",
       "    sam              (experiment, year) float64 ...\n",
       "    nino4NoDetrend   (experiment, year) float64 ...\n",
       "    nino4            (experiment, year) float64 ...\n",
       "    eastIONoDetrend  (experiment, year) float64 ...\n",
       "Attributes:\n",
       "    nino34NoDetrend:  [ 7 15]\n",
       "    nino4NoDetrend:   [ 7 15]\n",
       "    eastIONoDetrend:  [ 7 12]\n",
       "    dmi:              [ 7 12]\n",
       "    nino34:           [ 7 15]\n",
       "    nino4:            [ 7 15]\n",
       "    eastIO:           [ 7 12]\n",
       "    sam:              [10 15]\n",
       "    lat1:             [10 15]\n",
       "    lat2:             [10 15]\n",
       "    precAnom:         [ 9 15]\n",
       "    tsAnom:           [ 9 15]"
      ]
     },
     "execution_count": 4,
     "metadata": {},
     "output_type": "execute_result"
    }
   ],
   "source": [
    "indecesXr"
   ]
  },
  {
   "cell_type": "code",
   "execution_count": 128,
   "id": "91052408-4e93-453c-9866-94b896fb505c",
   "metadata": {},
   "outputs": [],
   "source": []
  },
  {
   "cell_type": "code",
   "execution_count": 165,
   "id": "d9ee7489-aa8a-4bf5-8d8a-caff4e7c9852",
   "metadata": {},
   "outputs": [
    {
     "data": {
      "text/plain": [
       "array([-1.05913781,  0.27259859,  0.24537125, ...,         nan,\n",
       "               nan,         nan])"
      ]
     },
     "execution_count": 165,
     "metadata": {},
     "output_type": "execute_result"
    }
   ],
   "source": [
    "indecesXr['sam'].values.flatten()"
   ]
  },
  {
   "cell_type": "code",
   "execution_count": 220,
   "id": "09e25943-67f9-4780-9759-fc257f1010d5",
   "metadata": {
    "tags": []
   },
   "outputs": [],
   "source": [
    "def chi2Index(indecesXr):\n",
    "    \n",
    "    # This should calculate stds for all indeces\n",
    "    stdXr = indecesXr.sel(experiment=_model.cesmCntl).std(dim='year')\n",
    "    \n",
    "    for iIndex in list(indecesXr.data_vars):\n",
    "    \n",
    "        print(iIndex)\n",
    "\n",
    "        std=stdXr[iIndex]\n",
    "        bins=numpy.arange(-2*std, 2.1*std, 0.25*std)\n",
    "        \n",
    "        plt.figure()\n",
    "\n",
    "        cntlHist = indecesXr[iIndex].sel(\n",
    "            experiment=_model.cesmCntl, year=slice(850,1849)\n",
    "                 ).plot.hist(bins=9)\n",
    "\n",
    "        plt.show()\n",
    "\n",
    "        plt.figure()\n",
    "\n",
    "        meanHist = indecesXr[iIndex].sel(\n",
    "            experiment=_model.cesmFullForcings, year=slice(850,1849)\n",
    "                     ).plot.hist(bins=cntlHist[1])\n",
    "\n",
    "        plt.show()\n",
    "\n",
    "        cntlHist[0]/cntlHist[0].sum()\n",
    "\n",
    "        meanHist[0]/meanHist[0].sum()\n",
    "\n",
    "        print(\n",
    "            scipy.stats.f_oneway(indecesXr[iIndex].sel(\n",
    "                experiment=_model.cesmCntl, year=slice(850,1849)\n",
    "            ).values.flatten(), \n",
    "                                 indecesXr[iIndex].sel(\n",
    "            experiment=_model.cesmFullForcings, year=slice(850,1849)\n",
    "                                 ).values.flatten()\n",
    "                     )\n",
    "        )\n",
    "        "
   ]
  },
  {
   "cell_type": "code",
   "execution_count": 221,
   "id": "f87314cd-809a-4363-b98f-1fd0178178a0",
   "metadata": {},
   "outputs": [
    {
     "name": "stdout",
     "output_type": "stream",
     "text": [
      "dmi\n"
     ]
    },
    {
     "data": {
      "image/png": "[encoded data removed]",
      "text/plain": [
       "<Figure size 432x288 with 1 Axes>"
      ]
     },
     "metadata": {
      "needs_background": "light"
     },
     "output_type": "display_data"
    },
    {
     "data": {
      "image/png": "[encoded data removed]",
      "text/plain": [
       "<Figure size 432x288 with 1 Axes>"
      ]
     },
     "metadata": {
      "needs_background": "light"
     },
     "output_type": "display_data"
    },
    {
     "name": "stdout",
     "output_type": "stream",
     "text": [
      "F_onewayResult(statistic=4.273439209084943, pvalue=0.038730839719232496)\n",
      "nino34\n"
     ]
    },
    {
     "data": {
      "image/png": "[encoded data removed]",
      "text/plain": [
       "<Figure size 432x288 with 1 Axes>"
      ]
     },
     "metadata": {
      "needs_background": "light"
     },
     "output_type": "display_data"
    },
    {
     "data": {
      "image/png": "[encoded data removed]",
      "text/plain": [
       "<Figure size 432x288 with 1 Axes>"
      ]
     },
     "metadata": {
      "needs_background": "light"
     },
     "output_type": "display_data"
    },
    {
     "name": "stdout",
     "output_type": "stream",
     "text": [
      "F_onewayResult(statistic=0.6931987155334439, pvalue=0.40509270960520516)\n",
      "sam\n"
     ]
    },
    {
     "data": {
      "image/png": "[encoded data removed]",
      "text/plain": [
       "<Figure size 432x288 with 1 Axes>"
      ]
     },
     "metadata": {
      "needs_background": "light"
     },
     "output_type": "display_data"
    },
    {
     "data": {
      "image/png": "[encoded data removed]",
      "text/plain": [
       "<Figure size 432x288 with 1 Axes>"
      ]
     },
     "metadata": {
      "needs_background": "light"
     },
     "output_type": "display_data"
    },
    {
     "name": "stdout",
     "output_type": "stream",
     "text": [
      "F_onewayResult(statistic=3.0338907065804057, pvalue=0.08156423290606128)\n"
     ]
    }
   ],
   "source": [
    "chi2Index(indecesXr[['dmi', 'nino34', 'sam']])"
   ]
  },
  {
   "cell_type": "markdown",
   "id": "e8100931-fa57-46ed-898d-4c42443e07e1",
   "metadata": {},
   "source": [
    "And again for the compounds"
   ]
  },
  {
   "cell_type": "code",
   "execution_count": null,
   "id": "bee57786-e11d-4d8d-89c9-3d36fdbe3e41",
   "metadata": {},
   "outputs": [],
   "source": []
  },
  {
   "cell_type": "code",
   "execution_count": 208,
   "id": "0e12549e-03c5-4cff-aae2-676c3e9d18b3",
   "metadata": {},
   "outputs": [],
   "source": [
    "#The data\n",
    "firePos=xarray.open_dataset('../results/cesmFirePos.nc')\n",
    "fireNeg=xarray.open_dataset('../results/cesmFireNeg.nc')"
   ]
  },
  {
   "cell_type": "code",
   "execution_count": 216,
   "id": "ca2fb6ab-c40b-4dac-9c20-8fdf40ba17eb",
   "metadata": {},
   "outputs": [],
   "source": [
    "def chi2Event(xr, x):\n",
    "\n",
    "    firePosSum = xr.sel(year=slice(850,1850)).to_array().sum(dim=['year'])\n",
    "    \n",
    "    cntl=firePosSum.sel(variable=x).sel(\n",
    "        experiment=_model.cesmCntl).values\n",
    "    fullForcing=firePosSum.sel(variable=x).sel(\n",
    "        experiment=_model.cesmFullForcings).sum(dim='experiment')/13\n",
    "\n",
    "    plt.bar(x, cntl, \n",
    "            align='edge', width=-.3, label='cntl'\n",
    "           )\n",
    "\n",
    "\n",
    "    plt.bar(x, fullForcing, \n",
    "            align='edge', width=0.3, label='fullForcing'\n",
    "           )\n",
    "\n",
    "    plt.legend()\n",
    "\n",
    "    print( scipy.stats.chisquare(cntl, f_exp=fullForcing ) )\n"
   ]
  },
  {
   "cell_type": "code",
   "execution_count": 217,
   "id": "459a2834-4c12-498d-af34-4edd6c2d551e",
   "metadata": {},
   "outputs": [
    {
     "name": "stdout",
     "output_type": "stream",
     "text": [
      "Power_divergenceResult(statistic=3.4606427306260956, pvalue=0.17722744606357144)\n"
     ]
    },
    {
     "data": {
      "image/png": "[encoded data removed]",
      "text/plain": [
       "<Figure size 432x288 with 1 Axes>"
      ]
     },
     "metadata": {
      "needs_background": "light"
     },
     "output_type": "display_data"
    }
   ],
   "source": [
    "chi2Event(firePos, [*firePos.indeces]) #, *firePos.pairs, 'all3'])"
   ]
  },
  {
   "cell_type": "code",
   "execution_count": 218,
   "id": "38b04e91-b4a0-4f4e-966f-ac70b9592012",
   "metadata": {},
   "outputs": [
    {
     "name": "stdout",
     "output_type": "stream",
     "text": [
      "Power_divergenceResult(statistic=13.546330306564343, pvalue=0.00114406776426417)\n"
     ]
    },
    {
     "data": {
      "image/png": "[encoded data removed]",
      "text/plain": [
       "<Figure size 432x288 with 1 Axes>"
      ]
     },
     "metadata": {
      "needs_background": "light"
     },
     "output_type": "display_data"
    }
   ],
   "source": [
    "chi2Event(firePos, [*firePos.pairs])"
   ]
  },
  {
   "cell_type": "code",
   "execution_count": 219,
   "id": "29fdc454-9611-4769-bf9a-981fd7979ecc",
   "metadata": {
    "tags": []
   },
   "outputs": [
    {
     "name": "stdout",
     "output_type": "stream",
     "text": [
      "Power_divergenceResult(statistic=7.750816020208709, pvalue=0.25693350472441395)\n"
     ]
    },
    {
     "data": {
      "image/png": "[encoded data removed]",
      "text/plain": [
       "<Figure size 432x288 with 1 Axes>"
      ]
     },
     "metadata": {
      "needs_background": "light"
     },
     "output_type": "display_data"
    }
   ],
   "source": [
    "chi2Event(fireNeg, [*fireNeg.indeces, *fireNeg.pairs, 'all3'])"
   ]
  },
  {
   "cell_type": "code",
   "execution_count": null,
   "id": "0e6a83f0-f4fa-4719-bec1-10084675d1b0",
   "metadata": {},
   "outputs": [],
   "source": []
  },
  {
   "cell_type": "code",
   "execution_count": null,
   "id": "a81e527d-31c9-48e5-a93e-392a1a732216",
   "metadata": {},
   "outputs": [],
   "source": []
  }
 ],
 "metadata": {
  "kernelspec": {
   "display_name": "Python 3",
   "language": "python",
   "name": "python3"
  },
  "language_info": {
   "codemirror_mode": {
    "name": "ipython",
    "version": 3
   },
   "file_extension": ".py",
   "mimetype": "text/x-python",
   "name": "python",
   "nbconvert_exporter": "python",
   "pygments_lexer": "ipython3",
   "version": "3.8.8"
  }
 },
 "nbformat": 4,
 "nbformat_minor": 5
}
