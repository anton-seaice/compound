{
 "cells": [
  {
   "cell_type": "markdown",
   "metadata": {},
   "source": [
    "# Calculate CESM Indeces"
   ]
  },
  {
   "cell_type": "markdown",
   "metadata": {},
   "source": [
    "This file just calculates all the indeces for all months for all cesmFullForcingFiles.\n",
    "\n",
    "Could be generalised if desired."
   ]
  },
  {
   "cell_type": "code",
   "execution_count": 21,
   "metadata": {},
   "outputs": [],
   "source": [
    "#import my functions\n",
    "import utils._modelDefinitions as _model\n",
    "\n",
    "%run '../utils/timePeriod.ipynb'"
   ]
  },
  {
   "cell_type": "code",
   "execution_count": 22,
   "metadata": {},
   "outputs": [],
   "source": [
    "import xarray"
   ]
  },
  {
   "cell_type": "code",
   "execution_count": null,
   "metadata": {},
   "outputs": [],
   "source": [
    "indeces =xarray.Dataset()\n",
    "\n",
    "#for experiment in _model.cesmLmeFullForcings:\n",
    "experiment='001'\n",
    "print(experiment)\n",
    "indeces.load_dataset('results/cesmFullForcingMonthlyIndeces/' + experiment + '.nc')\n",
    "\n",
    "results = averageForTimePeriod(indeces)\n",
    "# just dropping that into an xarray for consistency, probably no need thou?"
   ]
  },
  {
   "cell_type": "code",
   "execution_count": null,
   "metadata": {},
   "outputs": [],
   "source": [
    "#so probably here i could plot three indices and see if its interesting?\n",
    "#I also could define some criteria (+- sigma and do something with that.)"
   ]
  }
 ],
 "metadata": {
  "kernelspec": {
   "display_name": "Python 3",
   "language": "python",
   "name": "python3"
  },
  "language_info": {
   "codemirror_mode": {
    "name": "ipython",
    "version": 3
   },
   "file_extension": ".py",
   "mimetype": "text/x-python",
   "name": "python",
   "nbconvert_exporter": "python",
   "pygments_lexer": "ipython3",
   "version": "3.8.3"
  }
 },
 "nbformat": 4,
 "nbformat_minor": 4
}
