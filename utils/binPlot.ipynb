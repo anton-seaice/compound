{
 "cells": [
  {
   "cell_type": "code",
   "execution_count": 1,
   "id": "e34b9681-a2bd-4bfd-a338-5cf1ce6cff75",
   "metadata": {},
   "outputs": [],
   "source": [
    "\n",
    "def binPlot(da, ax):\n",
    "    import matplotlib.pyplot as plt\n",
    "    \n",
    "    toPlot=['enso+iod', 'enso+sam', 'iod+sam','all3']\n",
    "    colors=['orange', 'purple', 'green','blue']\n",
    "    \n",
    "    dims = list(da.coords)\n",
    "    dims.remove('year')\n",
    "    \n",
    "    for counter in range(0,len(toPlot)):\n",
    "        plt.vlines(\n",
    "            x=da.year-len(toPlot)+1.5*counter, \n",
    "            ymin=0,\n",
    "            ymax=da[toPlot[counter]].mean(dims),\n",
    "            label=toPlot[counter],\n",
    "            color=colors[counter]\n",
    "        )\n",
    "\n",
    "    plt.legend(['ENSO+IOD','ENSO+SAM','IOD+SAM','ALL3'],loc='upper left')\n",
    "    plt.xticks(ticks=da.year)\n",
    "    plt.ylim(0,8)\n",
    "    plt.ylabel('Number of Events (Mean)')\n",
    "    plt.minorticks_on()"
   ]
  },
  {
   "cell_type": "code",
   "execution_count": null,
   "id": "8a6df65e-0679-414a-aaf2-b3ecc57e8cc7",
   "metadata": {},
   "outputs": [],
   "source": []
  }
 ],
 "metadata": {
  "kernelspec": {
   "display_name": "Python 3",
   "language": "python",
   "name": "python3"
  },
  "language_info": {
   "codemirror_mode": {
    "name": "ipython",
    "version": 3
   },
   "file_extension": ".py",
   "mimetype": "text/x-python",
   "name": "python",
   "nbconvert_exporter": "python",
   "pygments_lexer": "ipython3",
   "version": "3.8.10"
  }
 },
 "nbformat": 4,
 "nbformat_minor": 5
}
