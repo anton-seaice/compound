{
 "cells": [
  {
   "cell_type": "code",
   "execution_count": 4,
   "metadata": {},
   "outputs": [],
   "source": [
    "#import my functions\n",
    "import sys\n",
    "sys.path.append('../')\n",
    "import utils._indexDefinitions as _index\n"
   ]
  },
  {
   "cell_type": "code",
   "execution_count": 5,
   "metadata": {},
   "outputs": [],
   "source": [
    "import xarray\n",
    "import numpy\n",
    "import cftime\n",
    "import pandas"
   ]
  },
  {
   "cell_type": "code",
   "execution_count": 3,
   "metadata": {},
   "outputs": [],
   "source": [
    "def averageForTimePeriod(indexXr):\n",
    "    \"\"\"calculates the averages for the period of interest defined in _indexDefitions for the indeces in _indexDefinitions\n",
    "    \n",
    "    \n",
    "    indexXr is a xarray\n",
    "    \n",
    "    returns a pandas Dataframe. (You can cast this into an xarray is desired pretty easily: xarray.Dataset(result))\"\"\"\n",
    "    #Figuring out the first and last year in the data set is more complicated than it should be. Here goes.\n",
    "\n",
    "    firstYear = indexXr.time[0].dt.year\n",
    "    lastYear = indexXr.time[-1].dt.year\n",
    "    yearRange = numpy.arange(indexXr.time[0].dt.year,indexXr.time[-1].dt.year)\n",
    "    \n",
    "   \n",
    "\n",
    "    #get a list of index names to iterate, \n",
    "    indexNames = list(_index.monthsOfInterest.keys())\n",
    "\n",
    "    #ds = xarray.Dataset()\n",
    "    results = pandas.DataFrame(index=yearRange)\n",
    "    results.index.name='year'\n",
    "\n",
    "    for keys in _index.monthsOfInterest:\n",
    "        #get the first and last month from _indexDefinitions\n",
    "        months=_index.monthsOfInterest[keys]\n",
    "        \n",
    "        #a list to populate in the next loop. First append everything to this list, and then add to the output dataframe\n",
    "        answer = list()\n",
    "        \n",
    "        # if the period is within one year\n",
    "        if months[1]<12:\n",
    "            for year in yearRange:\n",
    "                periodOfInterest=xarray.cftime_range(start=cftime.DatetimeNoLeap(year,months[0],1), \n",
    "                    end= cftime.DatetimeNoLeap(year,months[1]+1,1), \n",
    "                                                     freq='M')\n",
    "                answer.append(float(indexXr[keys].sel(time=periodOfInterest).mean().values))\n",
    "        # if the period goes over two years\n",
    "        else:\n",
    "            for year in yearRange:\n",
    "                periodOfInterest=xarray.cftime_range(start=cftime.DatetimeNoLeap(year,months[0],1), \n",
    "                    end= cftime.DatetimeNoLeap(year+1,months[1]-12+1,1), \n",
    "                                                     freq='M')\n",
    "                answer.append(float(indexXr[keys].sel(time=periodOfInterest).mean().values))\n",
    "        \n",
    "        # write the list into the dataframe\n",
    "        results[keys]=answer\n",
    "\n",
    "    return results\n",
    "    "
   ]
  },
  {
   "cell_type": "code",
   "execution_count": null,
   "metadata": {},
   "outputs": [],
   "source": []
  }
 ],
 "metadata": {
  "kernelspec": {
   "display_name": "Python 3",
   "language": "python",
   "name": "python3"
  },
  "language_info": {
   "codemirror_mode": {
    "name": "ipython",
    "version": 3
   },
   "file_extension": ".py",
   "mimetype": "text/x-python",
   "name": "python",
   "nbconvert_exporter": "python",
   "pygments_lexer": "ipython3",
   "version": "3.8.3"
  }
 },
 "nbformat": 4,
 "nbformat_minor": 4
}
