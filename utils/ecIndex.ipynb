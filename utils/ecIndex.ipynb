{
 "cells": [
  {
   "cell_type": "code",
   "execution_count": 1,
   "id": "98c73c34-6c59-4ff4-a8fc-cc6c95aa1f65",
   "metadata": {
    "tags": []
   },
   "outputs": [],
   "source": [
    "#import my functions\n",
    "import helpers.fileHandler as fh\n",
    "import utils._modelDefinitions as _model\n",
    "import utils._indexDefinitions as _index"
   ]
  },
  {
   "cell_type": "code",
   "execution_count": 2,
   "id": "41b70865-913c-4a65-a520-94b6feeb021e",
   "metadata": {
    "tags": []
   },
   "outputs": [],
   "source": [
    "import xarray\n",
    "import numpy\n"
   ]
  },
  {
   "cell_type": "code",
   "execution_count": 10,
   "id": "f8f6ea6d-86b4-4da7-8ac5-7a1dd1dc1925",
   "metadata": {},
   "outputs": [],
   "source": [
    "from eofs.xarray import Eof"
   ]
  },
  {
   "cell_type": "code",
   "execution_count": 5,
   "id": "79761062-03f9-440a-9e2f-42897c2c399c",
   "metadata": {},
   "outputs": [],
   "source": [
    "def sstAnoms(iModel):\n",
    "    #sst\n",
    "    controlXr = fh.loadModelData(iModel[1], 'ts_Amon', 'piControl', iModel[2])\n",
    "    tsXr = fh.loadModelData(iModel[1], 'ts_Amon', 'historical', iModel[3])\n",
    "    tradIndecesXr = xarray.open_dataset('results/cmipMonthlyIndeces/'+iModel[1]+'_historical.nc')\n",
    "\n",
    "    \n",
    "    sstMeanXr=controlXr.where(\n",
    "        (controlXr.lat>-15) & (controlXr.lat<15) &\n",
    "        (controlXr.lon>140) & (controlXr.lon<280),\n",
    "        drop=True\n",
    "        ).ts.groupby('time.month').mean(dim='time')\n",
    "\n",
    "    sstAnomXr=tsXr.where(\n",
    "        (tsXr.lat>-15) & (tsXr.lat<15) &\n",
    "        (tsXr.lon>140) & (tsXr.lon<280),\n",
    "        drop=True\n",
    "        ).ts.groupby('time.month'\n",
    "                )-sstMeanXr-tradIndecesXr['backgroundSstNoDetrend']\n",
    "    \n",
    "    return sstAnomXr\n",
    "    \n"
   ]
  },
  {
   "cell_type": "code",
   "execution_count": null,
   "id": "0472c2bf-f481-4667-9a40-1babcbf93a58",
   "metadata": {},
   "outputs": [],
   "source": [
    "def solverDCF(iModel): \n",
    "    \n",
    "    sstAnomXr = sstAnoms(iModel)\n",
    "    \n",
    "    sstAnomXr=sstAnomXr.where(\n",
    "                    (sstAnomXr.month==1) + (sstAnomXr.month==2) + (sstAnomXr.month==12),\n",
    "                drop=True)\n",
    "    \n",
    "    sstAnomXr.load()\n",
    "    \n",
    "    weights = numpy.cos(numpy.deg2rad(sstAnomXr.lat)\n",
    "                ).values[..., numpy.newaxis]\n",
    "    \n",
    "    return Eof(sstAnomXr, weights=weights)"
   ]
  },
  {
   "cell_type": "code",
   "execution_count": null,
   "id": "de03fb36-50d6-4b44-b0f9-03fbbcba35e8",
   "metadata": {},
   "outputs": [],
   "source": [
    "def solver(iModel): \n",
    "    \n",
    "    sstAnomXr = sstAnoms(iModel)\n",
    "    \n",
    "    sstAnomXr.load()\n",
    "    \n",
    "    weights = numpy.cos(numpy.deg2rad(sstAnomXr.lat)\n",
    "                ).values[..., numpy.newaxis]\n",
    "    \n",
    "    return Eof(sstAnomXr, weights=weights)"
   ]
  },
  {
   "cell_type": "code",
   "execution_count": null,
   "id": "3646244f-debe-4e6b-8116-49ed6837ecfa",
   "metadata": {},
   "outputs": [],
   "source": []
  },
  {
   "cell_type": "code",
   "execution_count": 3,
   "id": "a3ba0082-e84f-4033-b153-65d5dbe0b263",
   "metadata": {},
   "outputs": [],
   "source": [
    "def ecIndex(solver):\n",
    "    import numpy.polynomial as poly\n",
    "    pcTimeXr=solver.pcs(pcscaling=1, npcs=2)\n",
    "    pc1 = pcTimeXr.sel(mode=0)\n",
    "    pc2 = pcTimeXr.sel(mode=1)\n",
    "    pFit = poly.Polynomial.fit(pc1, pc2, 2)\n",
    "    alpha = pFit.convert(domain=(-1, 1)).coef[2]\n",
    "    cXr=(pc1+pc2)/numpy.sqrt(2)\n",
    "    eXr=(pc1-pc2)/numpy.sqrt(2)\n",
    "    \n",
    "    indeces = xarray.merge([eXr.rename('eIndex'),cXr.rename('cIndex')])\n",
    "    indeces['alpha']=alpha\n",
    "    \n",
    "    \n",
    "    return indeces"
   ]
  },
  {
   "cell_type": "code",
   "execution_count": null,
   "id": "2a030708-db93-4ac6-b120-47c89c11e641",
   "metadata": {},
   "outputs": [],
   "source": []
  }
 ],
 "metadata": {
  "kernelspec": {
   "display_name": "Python 3",
   "language": "python",
   "name": "python3"
  },
  "language_info": {
   "codemirror_mode": {
    "name": "ipython",
    "version": 3
   },
   "file_extension": ".py",
   "mimetype": "text/x-python",
   "name": "python",
   "nbconvert_exporter": "python",
   "pygments_lexer": "ipython3",
   "version": "3.9.5"
  }
 },
 "nbformat": 4,
 "nbformat_minor": 5
}
