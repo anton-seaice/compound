{
 "cells": [
  {
   "cell_type": "code",
   "execution_count": null,
   "id": "6d436bfc",
   "metadata": {
    "tags": []
   },
   "outputs": [],
   "source": [
    "#import my functions\n",
    "import helpers.fileHandler as fh\n",
    "import utils.timePeriod as tp\n",
    "import utils._modelDefinitions as _model\n",
    "import utils._indexDefinitions as _index"
   ]
  },
  {
   "cell_type": "code",
   "execution_count": 2,
   "id": "2bc3c810",
   "metadata": {},
   "outputs": [],
   "source": [
    "import xarray\n",
    "import numpy\n",
    "\n",
    "\n",
    "from eofs.xarray import Eof"
   ]
  },
  {
   "cell_type": "code",
   "execution_count": null,
   "id": "bb485dbe",
   "metadata": {},
   "outputs": [],
   "source": [
    "def anoms(xr):\n",
    "    mean=xr.where((xr.time.dt.year>=1900) * (xr.time.dt.year<2000), \n",
    "                             drop=True).mean(dim='time')\n",
    "    return xr-mean"
   ]
  },
  {
   "cell_type": "code",
   "execution_count": null,
   "id": "f9d0a16d",
   "metadata": {},
   "outputs": [],
   "source": [
    "def sstAnoms(tsXr):\n",
    "    \n",
    "    tsXr=tsXr.where(\n",
    "        (tsXr.lat>=-15) & (tsXr.lat<=15) &\n",
    "        (tsXr.lon>=140) & (tsXr.lon<=280),\n",
    "        drop=True\n",
    "    )\n",
    "    \n",
    "    tsXr=tsXr.chunk(-1, 'auto', 'auto')\n",
    "    \n",
    "    trendXr = tsXr.polyfit('time', 2)\n",
    "    \n",
    "    trendXr = xarray.polyval(tsXr.time, trendXr.polyfit_coefficients, 'degree')\n",
    "    \n",
    "    detrendXr=tsXr-trendXr\n",
    "    \n",
    "    #climatXr=detrendXr.where((detrendXr.time.dt.year>=1900) * (detrendXr.time.dt.year<2000), \n",
    "    #                         drop=True)\n",
    "\n",
    "    \n",
    "    #sstMeanXr=climatXr.groupby('time.month').mean(dim='time').load()\n",
    "    \n",
    "    sstAnomXr=detrendXr.groupby('time.month').apply(anoms)\n",
    "    \n",
    "    return sstAnomXr\n",
    "    \n"
   ]
  },
  {
   "cell_type": "code",
   "execution_count": null,
   "id": "1b279b18",
   "metadata": {},
   "outputs": [],
   "source": [
    "def eofSolver(sstAnomXr): \n",
    "    \n",
    "    sstAnomXr.load()\n",
    "    \n",
    "    weights = numpy.cos(numpy.deg2rad(sstAnomXr.lat)\n",
    "                ).values[..., numpy.newaxis]\n",
    "    \n",
    "    return Eof(sstAnomXr) #, weights=weights)"
   ]
  },
  {
   "cell_type": "code",
   "execution_count": null,
   "id": "7dc51a89",
   "metadata": {},
   "outputs": [],
   "source": [
    "def ecIndex(sstAnomXr):\n",
    "    import numpy.polynomial as poly\n",
    "    \n",
    "    \n",
    "    solver=eofSolver(sstAnomXr)\n",
    "    pcTimeXr=solver.pcs(npcs=2, pcscaling=1)\n",
    "    \n",
    "    djfAnomXr=tp.averageForTimePeriod(\n",
    "            sstAnomXr.to_dataset(name='enso')).rename({'year':'time'}).enso\n",
    "\n",
    "    solver=eofSolver(djfAnomXr)\n",
    "    djfPcXr=solver.pcs(npcs=2, pcscaling=1)\n",
    "    \n",
    "    \n",
    "    pc1 = pcTimeXr.sel(mode=0)\n",
    "    pc2 = pcTimeXr.sel(mode=1)\n",
    "    \n",
    "    pFit = poly.Polynomial.fit(pc1, pc2, 2)\n",
    "    alpha = pFit.convert().coef[2]\n",
    "    \n",
    "    eofsXr = solver.eofsAsCorrelation()\n",
    "    \n",
    "    pFitDjf = poly.Polynomial.fit(djfPcXr.sel(mode=0), djfPcXr.sel(mode=1), 2)\n",
    "    alphaDjf = pFitDjf.convert().coef[2]\n",
    "    \n",
    "    if alpha >0:\n",
    "        pc1=pc1*-1\n",
    "        pc2 = pc2*-1\n",
    "        pFit = poly.Polynomial.fit(pc1, pc2, 2)\n",
    "        alpha = pFit.convert().coef[2]\n",
    "        pcTimeXr = xarray.concat([-1*pcTimeXr.sel(mode=0), \n",
    "                               -1*pcTimeXr.sel(mode=1)], \n",
    "                               'mode')\n",
    "        eofsXr = xarray.concat([-1*eofsXr.sel(mode=0), \n",
    "                               -1*eofsXr.sel(mode=1)], \n",
    "                               'mode')\n",
    "        \n",
    "        pFitDjf = poly.Polynomial.fit(-1*djfPcXr.sel(mode=0), -1*djfPcXr.sel(mode=1), 2)\n",
    "        alphaDjf = pFitDjf.convert().coef[2]\n",
    "        \n",
    "    cXr=(pcTimeXr.sel(mode=0)+pcTimeXr.sel(mode=1))/numpy.sqrt(2)\n",
    "    eXr=(pcTimeXr.sel(mode=0)-pcTimeXr.sel(mode=1))/numpy.sqrt(2)\n",
    "        \n",
    "    indeces = xarray.merge([pcTimeXr.sel(mode=0).drop('mode').rename('pc1'),\n",
    "                            pcTimeXr.sel(mode=1).drop('mode').rename('pc2'), \n",
    "                            eXr.rename('eIndex'),\n",
    "                            cXr.rename('cIndex')])\n",
    "    indeces['alpha']=alpha\n",
    "    indeces['alphaDjf']=alphaDjf\n",
    "    \n",
    "    return indeces, pFit, eofsXr"
   ]
  },
  {
   "cell_type": "code",
   "execution_count": null,
   "id": "a847e433",
   "metadata": {},
   "outputs": [],
   "source": [
    "def ensoPlotter(da, ax):\n",
    "    import cartopy.crs as ccrs\n",
    "    import cartopy.feature as cfeature\n",
    "    import matplotlib.pyplot as plt \n",
    "    \n",
    "    cs=plt.contourf(da.lon, da.lat, da.values,  \n",
    "                    transform=ccrs.PlateCarree(), \n",
    "                   center=True)\n",
    "\n",
    "    gl=ax.gridlines(draw_labels=True, linewidth=1, color='gray', alpha=0.5, linestyle=':')\n",
    "    ax.coastlines(color='black')\n",
    "    gl.top_labels=False\n",
    "    #gl.left_labels=False\n",
    "\n",
    "        #bottom legend\n",
    "    cbar=plt.colorbar(orientation='horizontal', fraction=0.05, pad=0.05)"
   ]
  }
 ],
 "metadata": {
  "kernelspec": {
   "display_name": "Python 3",
   "language": "python",
   "name": "python3"
  },
  "language_info": {
   "codemirror_mode": {
    "name": "ipython",
    "version": 3
   },
   "file_extension": ".py",
   "mimetype": "text/x-python",
   "name": "python",
   "nbconvert_exporter": "python",
   "pygments_lexer": "ipython3",
   "version": "3.9.5"
  }
 },
 "nbformat": 4,
 "nbformat_minor": 5
}
