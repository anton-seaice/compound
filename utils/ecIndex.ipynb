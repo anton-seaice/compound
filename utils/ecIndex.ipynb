{
 "cells": [
  {
   "cell_type": "code",
   "execution_count": null,
   "id": "98c73c34-6c59-4ff4-a8fc-cc6c95aa1f65",
   "metadata": {
    "tags": []
   },
   "outputs": [],
   "source": [
    "#import my functions\n",
    "import helpers.fileHandler as fh\n",
    "import utils.timePeriod as tp\n",
    "import utils._modelDefinitions as _model\n",
    "import utils._indexDefinitions as _index"
   ]
  },
  {
   "cell_type": "code",
   "execution_count": 2,
   "id": "aead9f8c-d555-4ec3-94a5-ed203ab1fdcb",
   "metadata": {},
   "outputs": [],
   "source": [
    "import xarray\n",
    "import numpy\n",
    "\n",
    "\n",
    "from eofs.xarray import Eof"
   ]
  },
  {
   "cell_type": "code",
   "execution_count": null,
   "id": "79761062-03f9-440a-9e2f-42897c2c399c",
   "metadata": {},
   "outputs": [],
   "source": [
    "def sstAnoms(tsXr, climatXr):\n",
    "    \n",
    "    tsXr=tsXr.where(\n",
    "        (tsXr.lat>=-15) & (tsXr.lat<=15) &\n",
    "        (tsXr.lon>=140) & (tsXr.lon<=280),\n",
    "        drop=True\n",
    "    )\n",
    "    \n",
    "    climatXr=climatXr.where(\n",
    "        (climatXr.lat>=-15) & (climatXr.lat<=15) &\n",
    "        (climatXr.lon>=140) & (climatXr.lon<=280),\n",
    "        drop=True\n",
    "    )\n",
    "\n",
    "\n",
    "    trendXr = tsXr.polyfit('time', 2)\n",
    "    \n",
    "    trendXr = xarray.polyval(tsXr.time, trendXr.polyfit_coefficients, 'degree')\n",
    "    \n",
    "    detrendXr=tsXr-trendXr\n",
    "    \n",
    "    sstMeanXr=climatXr.groupby('time.month').mean(dim='time')\n",
    "    \n",
    "    sstAnomXr=detrendXr.groupby('time.month')-sstMeanXr\n",
    "    \n",
    "    return sstAnomXr\n",
    "    \n"
   ]
  },
  {
   "cell_type": "code",
   "execution_count": null,
   "id": "de03fb36-50d6-4b44-b0f9-03fbbcba35e8",
   "metadata": {},
   "outputs": [],
   "source": [
    "def eofSolver(sstAnomXr): \n",
    "    \n",
    "    sstAnomXr.load()\n",
    "    \n",
    "    weights = numpy.cos(numpy.deg2rad(sstAnomXr.lat)\n",
    "                ).values[..., numpy.newaxis]\n",
    "    \n",
    "    return Eof(sstAnomXr) #, weights=weights)"
   ]
  },
  {
   "cell_type": "code",
   "execution_count": null,
   "id": "a3ba0082-e84f-4033-b153-65d5dbe0b263",
   "metadata": {},
   "outputs": [],
   "source": [
    "def ecIndex(tsXr, climatXr):\n",
    "    import numpy.polynomial as poly\n",
    "    \n",
    "    \n",
    "    sstAnomXr=sstAnoms(tsXr, climatXr)\n",
    "    solver=eofSolver(sstAnomXr)\n",
    "    pcTimeXr=solver.pcs(npcs=2, pcscaling=1)\n",
    "    \n",
    "    djfAnomXr=tp.averageForTimePeriod(\n",
    "            sstAnomXr.to_dataset(name='enso')).rename({'year':'time'}).to_array()\n",
    "    solver=eofSolver(djfAnomXr)\n",
    "    djfPcXr=solver.pcs(npcs=2, pcscaling=1)\n",
    "    \n",
    "    \n",
    "    pc1 = pcTimeXr.sel(mode=0)\n",
    "    pc2 = pcTimeXr.sel(mode=1)\n",
    "    \n",
    "    pFit = poly.Polynomial.fit(pc1, pc2, 2)\n",
    "    alpha = pFit.convert().coef[2]\n",
    "    \n",
    "    eofsXr = solver.eofsAsCorrelation()\n",
    "    \n",
    "    pFitDjf = poly.Polynomial.fit(djfPcXr.sel(mode=0), djfPcXr.sel(mode=1), 2)\n",
    "    alphaDjf = pFitDjf.convert().coef[2]\n",
    "    \n",
    "    if alpha >0:\n",
    "        pc1=pc1*-1\n",
    "        pc2 = pc2*-1\n",
    "        pFit = poly.Polynomial.fit(pc1, pc2, 2)\n",
    "        alpha = pFit.convert().coef[2]\n",
    "        pcTimeXr = xarray.concat([-1*pcTimeXr.sel(mode=0), \n",
    "                               -1*pcTimeXr.sel(mode=1)], \n",
    "                               'mode')\n",
    "        eofsXr = xarray.concat([-1*eofsXr.sel(mode=0), \n",
    "                               -1*eofsXr.sel(mode=1)], \n",
    "                               'mode')\n",
    "        \n",
    "        pFitDjf = poly.Polynomial.fit(-1*djfPcXr.sel(mode=0), -1*djfPcXr.sel(mode=1), 2)\n",
    "        alphaDjf = pFitDjf.convert().coef[2]\n",
    "        \n",
    "    cXr=(pcTimeXr.sel(mode=0)+pcTimeXr.sel(mode=1))/numpy.sqrt(2)\n",
    "    eXr=(pcTimeXr.sel(mode=0)-pcTimeXr.sel(mode=1))/numpy.sqrt(2)\n",
    "        \n",
    "    indeces = xarray.merge([pcTimeXr.sel(mode=0).drop('mode').rename('pc1'),\n",
    "                            pcTimeXr.sel(mode=1).drop('mode').rename('pc2'), \n",
    "                            eXr.rename('eIndex'),\n",
    "                            cXr.rename('cIndex')])\n",
    "    indeces['alpha']=alpha\n",
    "    indeces['alphaDjf']=alphaDjf\n",
    "    \n",
    "    return indeces, pFit, eofsXr"
   ]
  },
  {
   "cell_type": "code",
   "execution_count": null,
   "id": "2a030708-db93-4ac6-b120-47c89c11e641",
   "metadata": {},
   "outputs": [],
   "source": [
    "def ensoPlotter(da, ax):\n",
    "    import cartopy.crs as ccrs\n",
    "    import cartopy.feature as cfeature\n",
    "    import matplotlib.pyplot as plt \n",
    "    \n",
    "    cs=plt.contourf(da.lon, da.lat, da.values,  \n",
    "                    transform=ccrs.PlateCarree(), \n",
    "                   center=True)\n",
    "\n",
    "    gl=ax.gridlines(draw_labels=True, linewidth=1, color='gray', alpha=0.5, linestyle=':')\n",
    "    ax.coastlines(color='black')\n",
    "    gl.top_labels=False\n",
    "    #gl.left_labels=False\n",
    "\n",
    "        #bottom legend\n",
    "    cbar=plt.colorbar(orientation='horizontal', fraction=0.05, pad=0.05)"
   ]
  }
 ],
 "metadata": {
  "kernelspec": {
   "display_name": "Python 3",
   "language": "python",
   "name": "python3"
  },
  "language_info": {
   "codemirror_mode": {
    "name": "ipython",
    "version": 3
   },
   "file_extension": ".py",
   "mimetype": "text/x-python",
   "name": "python",
   "nbconvert_exporter": "python",
   "pygments_lexer": "ipython3",
   "version": "3.9.5"
  }
 },
 "nbformat": 4,
 "nbformat_minor": 5
}
