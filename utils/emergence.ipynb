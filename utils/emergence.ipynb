{
 "cells": [
  {
   "cell_type": "code",
   "execution_count": null,
   "id": "26fc3871-8eb7-4ca6-80c3-3c7302198dcc",
   "metadata": {},
   "outputs": [],
   "source": []
  },
  {
   "cell_type": "code",
   "execution_count": 1,
   "id": "b480e00c-dbeb-44c5-8e52-0c5a3b3bc2e3",
   "metadata": {},
   "outputs": [],
   "source": [
    "def emergePlot(binnedXr, climatXr):\n",
    "\n",
    "    # plot indeces for multi-experiment mean, and add some lines for CI\n",
    "    \n",
    "    # multi-experiment mean state (by index and time)\n",
    "    meanXr=climatXr.mean()\n",
    "    \n",
    "    dims=list(climatXr.coords)\n",
    "    dims.remove('year') #this is normall experiment (for CESM) or model (for CMIP)\n",
    "    \n",
    "    stdXr=climatXr.mean('year').std(dims)\n",
    "    \n",
    "    #Z = 1.645 #Z-score for a 90% CI\n",
    "    Z=1.96 #Z-score for a 95% CI\n",
    "\n",
    "    #these are the variable/index names to plot\n",
    "    #all variables that not empty\n",
    "    indexToPlot = list(binnedXr.where(binnedXr.isnull().all()==False).data_vars)\n",
    "    \n",
    "    nIndices=len(indexToPlot)\n",
    "\n",
    "    # define somewhere to plot\n",
    "    fig = plt.figure(figsize=(18,3*nIndices))\n",
    "\n",
    "    # for each variable number\n",
    "    for i in range(nIndices):\n",
    "\n",
    "        #create a subplot (row, column, size)\n",
    "        fig.add_subplot(nIndices,1,i+1)\n",
    "\n",
    "        # plot the actual data\n",
    "        plotData=binnedXr[indexToPlot[i]]\n",
    "\n",
    "        #blue line for multi-experiment mean, and light blue shading between min and max\n",
    "        plt.plot(plotData.year, \n",
    "                 plotData.mean(dims).values, \n",
    "                 label=indexToPlot[i])\n",
    "        plt.fill_between(plotData.year, \n",
    "                         plotData.min(dims).values, plotData.max(dims).values, \n",
    "                         color='lightblue')\n",
    "\n",
    "\n",
    "        # draw some horizontal lines for criteria\n",
    "        plt.axhline(y=meanXr[indexToPlot[i]]+Z*stdXr[indexToPlot[i]], dashes=(5,5), color='black')\n",
    "        plt.axhline(y=meanXr[indexToPlot[i]]-Z*stdXr[indexToPlot[i]], dashes=(5,5), color='black')\n",
    "\n",
    "        plt.axvline(x=1995)\n",
    "        \n",
    "        #Tidy up a bit\n",
    "        plt.xlabel('year')\n",
    "        plt.ylabel('number of events/30 years')\n",
    "        #plt.xlim(1000,2100)\n",
    "        #plt.ylim(0,20)\n",
    "        plt.minorticks_on()\n",
    "        plt.legend()\n"
   ]
  }
 ],
 "metadata": {
  "kernelspec": {
   "display_name": "Python 3",
   "language": "python",
   "name": "python3"
  },
  "language_info": {
   "codemirror_mode": {
    "name": "ipython",
    "version": 3
   },
   "file_extension": ".py",
   "mimetype": "text/x-python",
   "name": "python",
   "nbconvert_exporter": "python",
   "pygments_lexer": "ipython3",
   "version": "3.8.10"
  }
 },
 "nbformat": 4,
 "nbformat_minor": 5
}
