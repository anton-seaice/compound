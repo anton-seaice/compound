{
 "cells": [
  {
   "cell_type": "code",
   "execution_count": 21,
   "id": "03304ee3-a146-4aa6-b357-0569606acdf1",
   "metadata": {},
   "outputs": [],
   "source": [
    "import xarray\n",
    "\n",
    "import sys\n",
    "sys.path.append('../')\n",
    "import utils._indexDefinitions as _index"
   ]
  },
  {
   "cell_type": "code",
   "execution_count": 19,
   "id": "bf6c0c32-8387-4b1a-ab7b-1cec9ebcc5a1",
   "metadata": {},
   "outputs": [],
   "source": [
    "def applyCriteria(indexDa, critDa):\n",
    "    \"\"\"This function applies the criteria to the indeces provided to determine if the events are negative or positive events.\n",
    "    \n",
    "    Then it sums events which are fire promoting or not-fire promoting.\n",
    "    \n",
    "    Should return two dataArrays with the count of fire Promoting and non fire Promoting modes for the model and year ranges in the input data.\n",
    "    \n",
    "    \"\"\"\n",
    "\n",
    "    #events are greater than or less than the criteria\n",
    "\n",
    "    #enso and iod events are positive, sam events are negative\n",
    "\n",
    "    indexNames=list(critDa.index.values)\n",
    "    firePos=list(set(_index.firePos).intersection(indexNames))\n",
    "    fireNeg=list(set(_index.fireNeg).intersection(indexNames))\n",
    "    \n",
    "    posEvents=xarray.concat(\n",
    "        (\n",
    "            [\n",
    "            (indexDa>critDa).sel(index=iNam)\n",
    "            for iNam in indexNames\n",
    "            ]\n",
    "            #(indecesDa>criteriaDa).sel(index=['nino34','dmi']),\n",
    "            #(indecesDa<-criteriaDa).sel(index='sam')\n",
    "        ),\n",
    "        'index'\n",
    "    )\n",
    "\n",
    "    negEvents=xarray.concat(\n",
    "        (\n",
    "            [\n",
    "            (indexDa<-1*critDa).sel(index=iNam)\n",
    "            for iNam in indexNames\n",
    "            ]\n",
    "        ),\n",
    "        'index'\n",
    "    ) \n",
    "    \n",
    "       \n",
    "    # amazingly you can sum booleans\n",
    "    firePosDa=xarray.concat(\n",
    "        (posEvents.sel(index=firePos), negEvents.sel(index=fireNeg)\n",
    "        ),\n",
    "        'index')\n",
    "    \n",
    "    fireNegDa=xarray.concat(\n",
    "        (negEvents.sel(index=firePos),posEvents.sel(index=fireNeg)\n",
    "        ),\n",
    "        'index')\n",
    "    \n",
    "    return firePosDa, fireNegDa    "
   ]
  },
  {
   "cell_type": "code",
   "execution_count": null,
   "id": "fb7b8ce5-26eb-4f6d-97ed-9bd45f08f255",
   "metadata": {},
   "outputs": [],
   "source": []
  }
 ],
 "metadata": {
  "kernelspec": {
   "display_name": "Python 3",
   "language": "python",
   "name": "python3"
  },
  "language_info": {
   "codemirror_mode": {
    "name": "ipython",
    "version": 3
   },
   "file_extension": ".py",
   "mimetype": "text/x-python",
   "name": "python",
   "nbconvert_exporter": "python",
   "pygments_lexer": "ipython3",
   "version": "3.8.8"
  }
 },
 "nbformat": 4,
 "nbformat_minor": 5
}
