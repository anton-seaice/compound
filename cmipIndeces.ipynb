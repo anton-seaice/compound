{
 "cells": [
  {
   "cell_type": "markdown",
   "metadata": {},
   "source": [
    "# Calculate CMIP Indeces"
   ]
  },
  {
   "cell_type": "markdown",
   "metadata": {},
   "source": [
    "This file \n",
    "1. calculates all the indeces for all months for all cesmFullForcingFiles.\n",
    "\n"
   ]
  },
  {
   "cell_type": "code",
   "execution_count": 1,
   "metadata": {
    "tags": []
   },
   "outputs": [],
   "source": [
    "#import my functions\n",
    "import helpers.fileHandler as fh\n",
    "import utils._modelDefinitions as _model\n",
    "import utils._indexDefinitions as _index\n",
    "import utils.sstIndex as sst\n",
    "import utils.pslIndex as psl\n",
    "import utils.timePeriod as tp\n",
    "\n"
   ]
  },
  {
   "cell_type": "code",
   "execution_count": 2,
   "metadata": {},
   "outputs": [],
   "source": [
    "import xarray\n",
    "import numpy\n",
    "import matplotlib.pyplot as plt"
   ]
  },
  {
   "cell_type": "code",
   "execution_count": 3,
   "metadata": {},
   "outputs": [],
   "source": [
    "import warnings\n",
    "warnings.filterwarnings('ignore')"
   ]
  },
  {
   "cell_type": "markdown",
   "metadata": {},
   "source": [
    "# 1. Calculate CESM Indeces"
   ]
  },
  {
   "cell_type": "markdown",
   "metadata": {},
   "source": [
    "import warnings\n",
    "warnings.filterwarnings('ignore')"
   ]
  },
  {
   "cell_type": "markdown",
   "metadata": {},
   "source": [
    "For each experiment in historical, calculate indices"
   ]
  },
  {
   "cell_type": "code",
   "execution_count": 4,
   "metadata": {},
   "outputs": [],
   "source": [
    "deckSet=['piControl', 'historical']\n",
    "scenarioSet=['ssp126', 'ssp245', 'ssp370','ssp585']\n",
    "experimentSet=[*deckSet, *scenarioSet]"
   ]
  },
  {
   "cell_type": "code",
   "execution_count": 5,
   "metadata": {},
   "outputs": [],
   "source": [
    "#need to double check about the model run used!\n",
    "#modelSet=_model.scenarioMIP[:,1]\n",
    "modelSet=numpy.array([\n",
    "    #['CSIRO-ARCCSS', 'ACCESS-CM2', 'r1i1p1f1', 'r1i1p1f1'],\n",
    "    #['CSIRO', 'ACCESS-ESM1-5', 'r1i1p1f1', 'r1i1p1f1'],\n",
    "    #['AWI', 'AWI-CM-1-1-MR', 'r1i1p1f1', 'r1i1p1f1'],\n",
    "    #['BCC', 'BCC-CSM2-MR', 'r1i1p1f1', 'r1i1p1f1'],\n",
    "    #['CAMS', 'CAMS-CSM1-0', 'r1i1p1f1', 'r1i1p1f1'],\n",
    "    #['CAS', 'CAS-ESM2-0', 'r1i1p1f1', 'r1i1p1f1'],\n",
    "    #['NCAR', 'CESM2', 'r1i1p1f1', 'r10i1p1f1'],\n",
    "    #['NCAR', 'CESM2-WACCM', 'r1i1p1f1', 'r1i1p1f1'],\n",
    "    #['THU', 'CIESM', 'r1i1p1f1', 'r1i1p1f1'],\n",
    "    #['CMCC', 'CMCC-CM2-SR5', 'r1i1p1f1', 'r1i1p1f1'],\n",
    "    ['CMCC', 'CMCC-ESM2', 'r1i1p1f1', 'r1i1p1f1'],\n",
    "    ['CNRM-CERFACS', 'CNRM-CM6-1', 'r1i1p1f2', 'r1i1p1f2'],\n",
    "    ['CNRM-CERFACS', 'CNRM-CM6-1-HR', 'r1i1p1f2', 'r1i1p1f2'],\n",
    "    ['CNRM-CERFACS', 'CNRM-ESM2-1', 'r1i1p1f2', 'r1i1p1f2'],\n",
    "    #['CCCma', 'CanESM5', 'r1i1p1f1', 'r1i1p1f1'],\n",
    "    ['CCCma', 'CanESM5-CanOE', 'r1i1p2f1', 'r1i1p2f1'],\n",
    "    ['E3SM-Project', 'E3SM-1-1', 'r1i1p1f1', 'r1i1p1f1'],\n",
    "    ['EC-Earth-Consortium', 'EC-Earth3', 'r1i1p1f1', 'r1i1p1f1'],\n",
    "    ['EC-Earth-Consortium', 'EC-Earth3-CC', 'r1i1p1f1', 'r1i1p1f1'],\n",
    "    ['EC-Earth-Consortium', 'EC-Earth3-Veg', 'r1i1p1f1', 'r1i1p1f1'],\n",
    "    ['EC-Earth-Consortium', 'EC-Earth3-Veg-LR', 'r1i1p1f1', 'r1i1p1f1'],\n",
    "    ['FIO-QLNM', 'FIO-ESM-2-0', 'r1i1p1f1', 'r1i1p1f1'],\n",
    "    ['NOAA-GFDL', 'GFDL-CM4', 'r1i1p1f1', 'r1i1p1f1'],\n",
    "    ['NOAA-GFDL', 'GFDL-ESM4', 'r1i1p1f1', 'r1i1p1f1'],\n",
    "    ['NASA-GISS', 'GISS-E2-1-G', 'r1i1p1f1', 'r1i1p1f1'],\n",
    "    ['MOHC', 'HadGEM3-GC31-LL', 'r1i1p1f1', 'r1i1p1f1'],\n",
    "    ['MOHC', 'HadGEM3-GC31-MM', 'r1i1p1f1', 'r1i1p1f1'],\n",
    "    ['CCCR-IITM', 'IITM-ESM', 'r1i1p1f1', 'r1i1p1f1'],\n",
    "    ['INM', 'INM-CM4-8', 'r1i1p1f1', 'r1i1p1f1'],\n",
    "    ['INM', 'INM-CM5-0', 'r1i1p1f1', 'r1i1p1f1'],\n",
    "    ['IPSL', 'IPSL-CM5A2-INCA', 'r1i1p1f1', 'r1i1p1f1'],\n",
    "    #['IPSL', 'IPSL-CM6A-LR', 'r1i1p1f1', 'r1i1p1f1'],\n",
    "    ['NIMS-KMA', 'KACE-1-0-G', 'r1i1p1f1', 'r1i1p1f1'],\n",
    "    ['KIOST', 'KIOST-ESM', 'r1i1p1f1', 'r1i1p1f1'],\n",
    "    ['UA', 'MCM-UA-1-0', 'r1i1p1f1', 'r1i1p1f1'],\n",
    "    ['MIROC', 'MIROC-ES2L', 'r1i1p1f1', 'r1i1p1f1'],\n",
    "    ['MIROC', 'MIROC6', 'r1i1p1f1', 'r1i1p1f1'],\n",
    "    ['HAMMOZ-Consortium', 'MPI-ESM-1-2-HAM', 'r1i1p1f1', 'r1i1p1f1'],\n",
    "    #['MPI-M', 'MPI-ESM1-2-HR', 'r1i1p1f1', 'r1i1p1f1'],\n",
    "    ['MPI-M', 'MPI-ESM1-2-LR', 'r1i1p1f1', 'r1i1p1f1'],\n",
    "    ['MRI', 'MRI-ESM2-0', 'r1i1p1f1', 'r1i1p1f1'],\n",
    "    ['NUIST', 'NESM3', 'r1i1p1f1', 'r1i1p1f1'],\n",
    "    ['NCC', 'NorESM2-LM', 'r1i1p1f1', 'r1i1p1f1'],\n",
    "    ['NCC', 'NorESM2-MM', 'r1i1p1f1', 'r1i1p1f1'],\n",
    "    ['MOHC', 'UKESM1-0-LL', 'r1i1p1f1', 'r1i1p1f1']\n",
    "])\n",
    "\n",
    "##SSP370 Only\n",
    "    #['EC-Earth-Consortium', 'EC-Earth3-AerChem', 'r1i1p1f1', 'r1i1p1f1'],"
   ]
  },
  {
   "cell_type": "code",
   "execution_count": 6,
   "metadata": {},
   "outputs": [],
   "source": [
    "def indecesCalc(variant):\n",
    "    tsDs = fh.loadModelData(iModel[1], 'ts_Amon', experiment, variant).ts.to_dataset()\n",
    "    #sstDs = xarray.merge([tsDs.ts, fxDs.areacella])\n",
    "    sstDs=tsDs.assign_attrs({'project_id':'CMIP'})\n",
    "\n",
    "    sstIndex = sst.calculateIndex(sstDs, sstClimat) #(reducing the model set at this step could save time?)\n",
    "\n",
    "    pslDs = fh.loadModelData(iModel[1], 'psl_Amon', experiment,variant)\n",
    "    pslIndex, junk = psl.calculateSamIndex(pslDs, pslClimat)\n",
    "    indeces = xarray.merge([pslIndex, sstIndex])\n",
    "    indeces.assign_attrs(climatology='full length of pi Control')\n",
    "    #print(indeces)\n",
    "    tp.averageForTimePeriod(indeces).to_netcdf('results/cmipWarmSeasonIndeces/'+iModel[1]+'_'+experiment + '.nc')\n"
   ]
  },
  {
   "cell_type": "code",
   "execution_count": null,
   "metadata": {},
   "outputs": [
    {
     "name": "stdout",
     "output_type": "stream",
     "text": [
      "['CMCC' 'CMCC-ESM2' 'r1i1p1f1' 'r1i1p1f1']\n",
      "CMCC-ESM2 starting\n"
     ]
    }
   ],
   "source": [
    "%logstart -ot warmSeasonIndeces.log rotate\n",
    "\n",
    "for iModel in modelSet:\n",
    "    \n",
    "    print(iModel)\n",
    "    \n",
    "    try: \n",
    "        print(iModel[1] + ' starting')\n",
    "        #fxDs = fh.loadModelData(model, 'areacella_fx', 'piControl') \n",
    "        #SST\n",
    "        tsDs = fh.loadModelData(iModel[1], 'ts_Amon', 'piControl', iModel[2]).ts.to_dataset()\n",
    "        #controlDs=xarray.merge([tsDs.ts, fxDs.areacella])\n",
    "        controlDs=tsDs.assign_attrs({'project_id':'CMIP'})\n",
    "\n",
    "        sstClimat=sst.calculateClimatology(controlDs)\n",
    "\n",
    "        pslControlDs=fh.loadModelData(iModel[1], 'psl_Amon', 'piControl', iModel[2])\n",
    "        pslClimat=psl.calculateClimatology(pslControlDs)\n",
    "\n",
    "        for experiment in deckSet: \n",
    "\n",
    "            try:\n",
    "                indecesCalc(iModel[2])\n",
    "\n",
    "            except Exception as e:\n",
    "                print(iModel[1] + experiment + \" not completed: \" )\n",
    "                print(e)\n",
    "\n",
    "            else:\n",
    "                print(iModel[1] + experiment + ' complete')  \n",
    "                \n",
    "        for experiment in scenarioSet: \n",
    "            \n",
    "            try:\n",
    "                indecesCalc(iModel[3])\n",
    "                \n",
    "            except Exception as e:\n",
    "                print(iModel[1] + experiment + \" not completed: \")\n",
    "\n",
    "                \n",
    "            else:\n",
    "                print(iModel[1] + experiment + ' complete')  \n",
    "            \n",
    "    except Exception as e:\n",
    "        print(iModel[1] + \"Climatology did not calculate\")\n",
    "        print(e)\n",
    "        \n",
    "    else:\n",
    "        print(iModel[1] + ' finished')\n",
    "    \n",
    "%logstop"
   ]
  },
  {
   "cell_type": "markdown",
   "metadata": {},
   "source": [
    "This grabs the monthly CESM indeces, and calculates the averages for the time periods of interest (aka the warm season), as set in the _indexDefitionions file\n",
    "\n",
    "Theres a few examples of output at the bottom to sanity check this is meaningful"
   ]
  },
  {
   "cell_type": "markdown",
   "metadata": {},
   "source": [
    "The indeces for each month have already been calculated. So loading up the saved versions, and putting them into a single xarray."
   ]
  },
  {
   "cell_type": "code",
   "execution_count": null,
   "metadata": {},
   "outputs": [],
   "source": [
    "for experiment in experimentSet: \n",
    "    print(experiment)\n",
    "    timePIndeces=list()\n",
    "\n",
    "    for model in modelSet[1,:]:\n",
    "        print(model)\n",
    "        indecesDs = xarray.open_dataset('results/cmipWarmSeasonIndeces/' + model +'_'+ experiment + '.nc')\n",
    "\n",
    "        timePIndeces.append(indecesDs)\n",
    "\n",
    "    results=xarray.concat(timePIndeces, 'model')\n",
    "\n",
    "    results['model']=modelSet\n",
    "\n",
    "    results=results.assign_attrs({'experiment':experiment,**indecesDs.attrs,**_index.monthsOfInterest})\n",
    "\n",
    "    results.to_netcdf('results/cmip6'+experiment+'TradIndeces.nc')"
   ]
  },
  {
   "cell_type": "code",
   "execution_count": null,
   "metadata": {},
   "outputs": [],
   "source": [
    "results"
   ]
  },
  {
   "cell_type": "markdown",
   "metadata": {},
   "source": [
    "Some sanity checks to see if it looks ok:\n"
   ]
  },
  {
   "cell_type": "code",
   "execution_count": null,
   "metadata": {},
   "outputs": [],
   "source": [
    "results=xarray.open_dataset('results/cmip5piControlTradIndeces.nc')"
   ]
  },
  {
   "cell_type": "code",
   "execution_count": null,
   "metadata": {},
   "outputs": [],
   "source": [
    "# plotSomething\n",
    "fig = plt.figure(figsize=(12,8))\n",
    "ax = fig.add_subplot(1,1,1)\n",
    "\n",
    "results.nino34.plot(label='nino34')\n",
    "results.nino34NoDetrend.plot(label='No Detrend')\n",
    "\n",
    "#Tidy up a bit\n",
    "plt.title(\"CMIP Past 1000 Nino34\")\n",
    "plt.ylim(-4,4)\n",
    "plt.minorticks_on()\n",
    "plt.legend()"
   ]
  },
  {
   "cell_type": "code",
   "execution_count": null,
   "metadata": {},
   "outputs": [],
   "source": [
    "# A multi-experiment mean?\n",
    "\n",
    "mean = results.sam.mean(dim='experiment')\n",
    "std = results.sam.std(dim='experiment')"
   ]
  },
  {
   "cell_type": "code",
   "execution_count": null,
   "metadata": {},
   "outputs": [],
   "source": [
    "plt.figure()\n",
    "mean.plot()\n",
    "std.plot()"
   ]
  },
  {
   "cell_type": "code",
   "execution_count": null,
   "metadata": {},
   "outputs": [],
   "source": [
    "# why limit yourself to one index?\n",
    "\n",
    "mean = results.mean(dim='experiment')\n",
    "std = results.std(dim='experiment')"
   ]
  },
  {
   "cell_type": "code",
   "execution_count": null,
   "metadata": {},
   "outputs": [],
   "source": [
    "std"
   ]
  },
  {
   "cell_type": "markdown",
   "metadata": {},
   "source": [
    "# 2. Calculate Compound Years for CESM"
   ]
  },
  {
   "cell_type": "code",
   "execution_count": null,
   "metadata": {},
   "outputs": [],
   "source": [
    "# Here is the data\n",
    "indecesDs = xarray.open_dataset('results/cmip'+experiment+'TradIndeces.nc')\n",
    "\n",
    "indecesDs.experiment.values"
   ]
  },
  {
   "cell_type": "code",
   "execution_count": null,
   "metadata": {},
   "outputs": [],
   "source": [
    "indecesDs"
   ]
  },
  {
   "cell_type": "markdown",
   "metadata": {},
   "source": [
    "# Define a criteria to determine events"
   ]
  },
  {
   "cell_type": "markdown",
   "metadata": {},
   "source": [
    "So we are going to define events as follows:\n",
    "- For SST indeces (aka Enso and Iod), this is 1 sigma above/below mean\n",
    "- For PSL indeces (aka Sam) this is 0.5 sigma above/below mean\n",
    "\n",
    "For now, using a 850-1850 climatology"
   ]
  },
  {
   "cell_type": "code",
   "execution_count": null,
   "metadata": {},
   "outputs": [],
   "source": [
    "# This should calculate stds for all experiments and all indeces\n",
    "stdDa = indecesDs.std(dim='year')\n",
    "\n",
    "# define some criteria that we want to use to identifiy it thats an event\n",
    "criteriaDa= xarray.merge(\n",
    "    (stdDa[['nino34','dmi']], stdDa['sam']/2)\n",
    ")"
   ]
  },
  {
   "cell_type": "markdown",
   "metadata": {},
   "source": [
    "# Calculate the compounding years and plot an example"
   ]
  },
  {
   "cell_type": "code",
   "execution_count": null,
   "metadata": {},
   "outputs": [],
   "source": [
    "%run utils/compound.ipynb\n",
    "\n",
    "\n",
    "\n",
    "firePos, fireNeg = applyCriteria(indecesDs, criteriaDa)\n",
    "\n",
    "firePos=compound(firePos)\n",
    "\n",
    "fireNeg=compound(fireNeg)\n",
    "\n",
    "firePos.to_netcdf('results/cmip'+experiment+'FirePos.nc')\n",
    "\n",
    "fireNeg.to_netcdf('results/cmip'+experiment+'FireNeg.nc')"
   ]
  },
  {
   "cell_type": "code",
   "execution_count": null,
   "metadata": {},
   "outputs": [],
   "source": [
    "firePos"
   ]
  },
  {
   "cell_type": "code",
   "execution_count": null,
   "metadata": {},
   "outputs": [],
   "source": [
    "expToPlot = 'LME.002'\n",
    "\n",
    "toPlot=3*firePos.all3.sel(experiment=expToPlot)\n",
    "\n",
    "plt.figure(figsize=(12,12))\n",
    "\n",
    "plt.vlines(\n",
    "    x=firePos.year, \n",
    "    ymin=0,\n",
    "    ymax=toPlot,\n",
    "    label='all3'\n",
    ")\n",
    "\n",
    "colors=['orange', 'purple', 'green']\n",
    "iCol = 0\n",
    "\n",
    "for iPair in firePos.attrs['pairs']:\n",
    "    plt.vlines(\n",
    "        x=firePos.year, \n",
    "        ymin=0,\n",
    "        ymax=2*firePos[iPair].sel(experiment=expToPlot),\n",
    "        color=colors[iCol],\n",
    "        label=iPair\n",
    "    )\n",
    "    iCol+=1\n",
    "plt.legend()\n",
    "plt.xlim(1700,2100)\n",
    "plt.title(expToPlot+': Pairs and all-three compounds for individal years')"
   ]
  },
  {
   "cell_type": "code",
   "execution_count": null,
   "metadata": {},
   "outputs": [],
   "source": []
  },
  {
   "cell_type": "code",
   "execution_count": null,
   "metadata": {},
   "outputs": [],
   "source": []
  }
 ],
 "metadata": {
  "kernelspec": {
   "display_name": "Python 3",
   "language": "python",
   "name": "python3"
  },
  "language_info": {
   "codemirror_mode": {
    "name": "ipython",
    "version": 3
   },
   "file_extension": ".py",
   "mimetype": "text/x-python",
   "name": "python",
   "nbconvert_exporter": "python",
   "pygments_lexer": "ipython3",
   "version": "3.9.5"
  }
 },
 "nbformat": 4,
 "nbformat_minor": 4
}
