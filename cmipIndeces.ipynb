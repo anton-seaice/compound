{
 "cells": [
  {
   "cell_type": "markdown",
   "metadata": {},
   "source": [
    "# Calculate CMIP Indeces"
   ]
  },
  {
   "cell_type": "markdown",
   "metadata": {},
   "source": [
    "This file \n",
    "1. calculates all the indeces for all months for all cesmFullForcingFiles.\n",
    "\n"
   ]
  },
  {
   "cell_type": "code",
   "execution_count": 1,
   "metadata": {
    "tags": []
   },
   "outputs": [],
   "source": [
    "#import my functions\n",
    "import helpers.fileHandler as fh\n",
    "import utils._modelDefinitions as _model\n",
    "import utils._indexDefinitions as _index\n",
    "import utils.sstIndex as sst\n",
    "import utils.pslIndex as psl\n",
    "import utils.timePeriod as tp\n",
    "import utils.compound as compound\n"
   ]
  },
  {
   "cell_type": "code",
   "execution_count": 2,
   "metadata": {
    "tags": []
   },
   "outputs": [],
   "source": [
    "import xarray\n",
    "import numpy\n",
    "import matplotlib.pyplot as plt"
   ]
  },
  {
   "cell_type": "code",
   "execution_count": 3,
   "metadata": {},
   "outputs": [],
   "source": [
    "import warnings\n",
    "#warnings.filterwarnings('ignore')"
   ]
  },
  {
   "cell_type": "markdown",
   "metadata": {},
   "source": [
    "# 1. Calculate CMIP Indeces"
   ]
  },
  {
   "cell_type": "markdown",
   "metadata": {},
   "source": [
    "For each experiment in historical, calculate indices"
   ]
  },
  {
   "cell_type": "code",
   "execution_count": 4,
   "metadata": {},
   "outputs": [],
   "source": [
    "deckSet=['piControl','historical']\n",
    "scenarioSet=['ssp126', 'ssp245', 'ssp370','ssp585']\n",
    "experimentSet=[*deckSet, *scenarioSet]"
   ]
  },
  {
   "cell_type": "raw",
   "metadata": {},
   "source": [
    "#modelSet=numpy.array([\n",
    "    0#['CSIRO-ARCCSS', 'ACCESS-CM2', 'r1i1p1f1', 'r1i1p1f1'],\n",
    "    1#['CSIRO', 'ACCESS-ESM1-5', 'r1i1p1f1', 'r1i1p1f1'],\n",
    "    2#['AWI', 'AWI-CM-1-1-MR', 'r1i1p1f1', 'r1i1p1f1'],\n",
    "    3#['BCC', 'BCC-CSM2-MR', 'r1i1p1f1', 'r1i1p1f1'],\n",
    "    4#['CAMS', 'CAMS-CSM1-0', 'r1i1p1f1', 'r1i1p1f1'],\n",
    "    5#['CAS', 'CAS-ESM2-0', 'r1i1p1f1', 'r1i1p1f1'],\n",
    "    6#['NCAR', 'CESM2', 'r1i1p1f1', 'r10i1p1f1'],\n",
    "    7#['NCAR', 'CESM2-WACCM', 'r1i1p1f1', 'r1i1p1f1'],\n",
    "    8#['THU', 'CIESM', 'r1i1p1f1', 'r1i1p1f1'],\n",
    "    9#['CMCC', 'CMCC-CM2-SR5', 'r1i1p1f1', 'r1i1p1f1'],\n",
    "    10#['CMCC', 'CMCC-ESM2', 'r1i1p1f1', 'r1i1p1f1'],\n",
    "    11#['CNRM-CERFACS', 'CNRM-CM6-1', 'r1i1p1f2', 'r1i1p1f2'],\n",
    "    12#['CNRM-CERFACS', 'CNRM-CM6-1-HR', 'r1i1p1f2', 'r1i1p1f2'],\n",
    "    13#['CNRM-CERFACS', 'CNRM-ESM2-1', 'r1i1p1f2', 'r1i1p1f2'],\n",
    "    14#['CCCma', 'CanESM5', 'r1i1p1f1', 'r1i1p1f1'],\n",
    "    15#['CCCma', 'CanESM5-CanOE', 'r1i1p2f1', 'r1i1p2f1'],\n",
    "    16#['E3SM-Project', 'E3SM-1-1', 'r1i1p1f1', 'r1i1p1f1'],\n",
    "    17#['EC-Earth-Consortium', 'EC-Earth3', 'r1i1p1f1', 'r1i1p1f1'],\n",
    "    18#['EC-Earth-Consortium', 'EC-Earth3-CC', 'r1i1p1f1', 'r1i1p1f1'],\n",
    "    19#['EC-Earth-Consortium', 'EC-Earth3-Veg', 'r1i1p1f1', 'r1i1p1f1'],\n",
    "    20#['EC-Earth-Consortium', 'EC-Earth3-Veg-LR', 'r1i1p1f1', 'r1i1p1f1'],\n",
    "    21#['FIO-QLNM', 'FIO-ESM-2-0', 'r1i1p1f1', 'r1i1p1f1'],\n",
    "    22#['NOAA-GFDL', 'GFDL-CM4', 'r1i1p1f1', 'r1i1p1f1'],\n",
    "    23#['NOAA-GFDL', 'GFDL-ESM4', 'r1i1p1f1', 'r1i1p1f1'], #where is piControl?\n",
    "    24#['NASA-GISS', 'GISS-E2-1-G', 'r1i1p1f2', 'r1i1p1f2'],\n",
    "    25#['MOHC', 'HadGEM3-GC31-LL', 'r1i1p1f1', 'r1i1p1f3'], #NB the piControl used a slightly older version of the forcings.\n",
    "    26#['MOHC', 'HadGEM3-GC31-MM', 'r1i1p1f1', 'r1i1p1f3'],\n",
    "    27#['CCCR-IITM', 'IITM-ESM', 'r1i1p1f1', 'r1i1p1f1'],\n",
    "    28#['INM', 'INM-CM4-8', 'r1i1p1f1', 'r1i1p1f1'],\n",
    "    29#['INM', 'INM-CM5-0', 'r1i1p1f1', 'r1i1p1f1'],\n",
    "    30#['IPSL', 'IPSL-CM6A-LR', 'r1i1p1f1', 'r1i1p1f1'],\n",
    "    31#['NIMS-KMA', 'KACE-1-0-G', 'r1i1p1f1', 'r1i1p1f1'],\n",
    "    32#['KIOST', 'KIOST-ESM', 'r1i1p1f1', 'r1i1p1f1'],\n",
    "    33#['UA', 'MCM-UA-1-0', 'r1i1p1f1', 'r1i1p1f2'],\n",
    "    34#['MIROC', 'MIROC-ES2L', 'r1i1p1f2', 'r1i1p1f2'],\n",
    "    35#['MIROC', 'MIROC6', 'r1i1p1f1', 'r1i1p1f1'],\n",
    "    36#['MPI-M', 'MPI-ESM1-2-HR', 'r1i1p1f1', 'r1i1p1f1'],\n",
    "    37#['MPI-M', 'MPI-ESM1-2-LR', 'r1i1p1f1', 'r1i1p1f2'],\n",
    "    38#['MRI', 'MRI-ESM2-0', 'r1i1p1f1', 'r1i1p1f1'],\n",
    "    39#['NUIST', 'NESM3', 'r1i1p1f1', 'r1i1p1f1'],\n",
    "    40#['NCC', 'NorESM2-LM', 'r1i1p1f1', 'r1i1p1f1'],\n",
    "    41#['NCC', 'NorESM2-MM', 'r1i1p1f1', 'r1i1p1f1'],\n",
    "    42#['MOHC', 'UKESM1-0-LL', 'r1i1p1f2', 'r1i1p1f2']\n",
    "#])\n",
    "\n",
    "##no SSP 585\n",
    "    #['EC-Earth-Consortium', 'EC-Earth3-AerChem', 'r1i1p1f1', 'r1i1p1f1'],\n",
    "    #['IPSL', 'IPSL-CM5A2-INCA', 'r1i1p1f1', 'r1i1p1f1'],\n",
    "    #['HAMMOZ-Consortium', 'MPI-ESM-1-2-HAM', 'r1i1p1f1', 'r1i1p1f1'],"
   ]
  },
  {
   "cell_type": "code",
   "execution_count": 6,
   "metadata": {},
   "outputs": [],
   "source": [
    "modelSet=_model.scenarioMip[[2,12,14,18,42],:]"
   ]
  },
  {
   "cell_type": "code",
   "execution_count": 7,
   "metadata": {},
   "outputs": [
    {
     "data": {
      "text/plain": [
       "array([['AWI', 'AWI-CM-1-1-MR', 'r1i1p1f1', 'r1i1p1f1'],\n",
       "       ['CNRM-CERFACS', 'CNRM-CM6-1-HR', 'r1i1p1f2', 'r1i1p1f2'],\n",
       "       ['CCCma', 'CanESM5', 'r1i1p1f1', 'r1i1p1f1'],\n",
       "       ['EC-Earth-Consortium', 'EC-Earth3-CC', 'r1i1p1f1', 'r1i1p1f1'],\n",
       "       ['MOHC', 'UKESM1-0-LL', 'r1i1p1f2', 'r1i1p1f2']], dtype='<U19')"
      ]
     },
     "execution_count": 7,
     "metadata": {},
     "output_type": "execute_result"
    }
   ],
   "source": [
    "modelSet"
   ]
  },
  {
   "cell_type": "code",
   "execution_count": 8,
   "metadata": {},
   "outputs": [],
   "source": [
    "sstIndeces = _index.sstIndex.keys()\n",
    "pslIndeces = _index.pslIndex"
   ]
  },
  {
   "cell_type": "code",
   "execution_count": 9,
   "metadata": {},
   "outputs": [
    {
     "data": {
      "text/plain": [
       "5"
      ]
     },
     "execution_count": 9,
     "metadata": {},
     "output_type": "execute_result"
    }
   ],
   "source": [
    "len(modelSet)"
   ]
  },
  {
   "cell_type": "markdown",
   "metadata": {},
   "source": [
    "Climatology and piControl:"
   ]
  },
  {
   "cell_type": "code",
   "execution_count": null,
   "metadata": {},
   "outputs": [
    {
     "name": "stdout",
     "output_type": "stream",
     "text": [
      "['AWI' 'AWI-CM-1-1-MR' 'r1i1p1f1' 'r1i1p1f1']\n",
      "AWI-CM-1-1-MR starting\n"
     ]
    },
    {
     "name": "stderr",
     "output_type": "stream",
     "text": [
      "/Users/ajs/opt/anaconda3/lib/python3.8/site-packages/xarray/core/indexing.py:1387: PerformanceWarning: Slicing is producing a large chunk. To accept the large\n",
      "chunk and silence this warning, set the option\n",
      "    >>> with dask.config.set(**{'array.slicing.split_large_chunks': False}):\n",
      "    ...     array[indexer]\n",
      "\n",
      "To avoid creating the large chunks, set the option\n",
      "    >>> with dask.config.set(**{'array.slicing.split_large_chunks': True}):\n",
      "    ...     array[indexer]\n",
      "  value = value[(slice(None),) * axis + (subkey,)]\n"
     ]
    },
    {
     "name": "stdout",
     "output_type": "stream",
     "text": [
      "CMIP6.CMIP.AWI.AWI-CM-1-1-MR.piControl.r1i1p1f1.Amon.psl.gn.v20181218|esgf3.dkrz.de downloading\n"
     ]
    }
   ],
   "source": [
    "for iModel in modelSet:\n",
    "    \n",
    "    print(iModel)\n",
    "    \n",
    "    try: \n",
    "        #calculate climatology\n",
    "        \n",
    "        print(iModel[1] + ' starting')\n",
    "        #SST\n",
    "        tsDs = fh.loadModelData(iModel[1], 'ts_Amon', 'piControl', iModel[2]).ts.to_dataset()\n",
    "        controlDs=tsDs.assign_attrs({'project_id':'CMIP'})\n",
    "        sstClimat=sst.calculateClimatology(controlDs)\n",
    "\n",
    "        [sstClimat[i].to_netcdf('results/cmipMonthlyIndeces/sstClimat'+iModel[1]+i+'.nc')\n",
    "             for i in sstIndeces]\n",
    "\n",
    "        pslControlDs=fh.loadModelData(iModel[1], 'psl_Amon', 'piControl', iModel[2])\n",
    "        pslClimat=psl.calculateClimatology(pslControlDs)\n",
    "\n",
    "        pslClimat.to_netcdf('results/cmipMonthlyIndeces/pslClimat'+iModel[1]+'.nc')\n",
    "\n",
    "    except Exception as e:\n",
    "        print(iModel[1] + \"Climatology did not calculate\")\n",
    "        print(e)\n",
    " "
   ]
  },
  {
   "cell_type": "code",
   "execution_count": null,
   "metadata": {},
   "outputs": [],
   "source": [
    "for iModel in modelSet:\n",
    "    \n",
    "    try:\n",
    "        sstClimat=dict()\n",
    "\n",
    "        for i in sstIndeces:\n",
    "            sstClimat[i]=xarray.open_dataarray('results/cmipMonthlyIndeces/sstClimat'+iModel[1]+i+'.nc')\n",
    "        pslClimat=xarray.open_dataset('results/cmipMonthlyIndeces/pslClimat'+iModel[1]+'.nc')\n",
    "        \n",
    "        #the piControl\n",
    "        sstIndex = sst.calculateIndex(controlDs, sstClimat) \n",
    "        pslIndex, junk = psl.calculateSamIndex(pslControlDs, pslClimat)\n",
    "        indeces = xarray.merge([pslIndex, sstIndex])\n",
    "        indeces.assign_attrs(climatology='full length of pi Control')\n",
    "        print('Caclulating control ...')\n",
    "        tp.averageForTimePeriod(indeces).to_netcdf(\n",
    "            'results/cmipWarmSeasonIndeces/'+iModel[1]+'_piControl.nc')\n",
    "        \n",
    "    except Exception as e:\n",
    "        print(iModel[1] + \"piControl did not calculate\")\n",
    "        print(e)"
   ]
  },
  {
   "cell_type": "markdown",
   "metadata": {},
   "source": [
    "Historical Indeces"
   ]
  },
  {
   "cell_type": "code",
   "execution_count": null,
   "metadata": {},
   "outputs": [],
   "source": [
    "for iModel in modelSet:\n",
    "    \n",
    "    print(iModel)\n",
    "    \n",
    "    #try:    \n",
    "\n",
    "    sstClimat=dict()\n",
    "\n",
    "    for i in sstIndeces:\n",
    "        sstClimat[i]=xarray.open_dataarray('results/cmipMonthlyIndeces/sstClimat'+iModel[1]+i+'.nc')\n",
    "    pslClimat=xarray.open_dataset('results/cmipMonthlyIndeces/pslClimat'+iModel[1]+'.nc')\n",
    "\n",
    "    #historical\n",
    "    tsDs = fh.loadModelData(iModel[1], 'ts_Amon', 'historical', iModel[3]).ts.to_dataset()\n",
    "    #sstDs = xarray.merge([tsDs.ts, fxDs.areacella])\n",
    "    sstDs=tsDs.assign_attrs({'project_id':'CMIP'})\n",
    "\n",
    "    sstIndex = sst.calculateIndex(sstDs, sstClimat) #(reducing the model set at this step could save time?)\n",
    "\n",
    "    pslDs = fh.loadModelData(iModel[1], 'psl_Amon', 'historical',iModel[3])\n",
    "    pslIndex, junk = psl.calculateSamIndex(pslDs, pslClimat)\n",
    "    indeces = xarray.merge([pslIndex, sstIndex])\n",
    "    indeces.assign_attrs(climatology='full length of pi Control')\n",
    "    #print(indeces)\n",
    "    print('Caclulating historical ...')\n",
    "\n",
    "    #save the results to file\n",
    "    indeces.to_netcdf('results/cmipMonthlyIndeces/'+iModel[1]+'_historical.nc')\n",
    "    tp.averageForTimePeriod(indeces).to_netcdf('results/cmipWarmSeasonIndeces/'+iModel[1]+'_historical.nc')\n",
    "\n",
    "    #except Exception as e:\n",
    "    #    print(iModel[1] + \"historical did not calculate\")\n",
    "    #    print(e)\n",
    "        "
   ]
  },
  {
   "cell_type": "markdown",
   "metadata": {},
   "source": [
    "Scenario Indeces"
   ]
  },
  {
   "cell_type": "code",
   "execution_count": null,
   "metadata": {},
   "outputs": [],
   "source": [
    "for iModel in modelSet:\n",
    "    \n",
    "    print(iModel)\n",
    "    \n",
    "    try: \n",
    "\n",
    "#ref to the saved files\n",
    "        historicalIndeces = xarray.open_dataset('results/cmipMonthlyIndeces/'+iModel[1]+'_historical.nc')\n",
    "        \n",
    "        sstClimat=dict()\n",
    "        \n",
    "        for i in sstIndeces:\n",
    "            sstClimat[i]=xarray.open_dataarray('results/cmipMonthlyIndeces/sstClimat'+iModel[1]+i+'.nc')\n",
    "        pslClimat=xarray.open_dataset('results/cmipMonthlyIndeces/pslClimat'+iModel[1]+'.nc')\n",
    "        \n",
    "        for experiment in scenarioSet: \n",
    "            try:\n",
    "                variant = iModel[3]\n",
    "                \n",
    "                tsDs = fh.loadModelData(iModel[1], 'ts_Amon', experiment, variant).ts.to_dataset()\n",
    "                #sstDs = xarray.merge([tsDs.ts, fxDs.areacella])\n",
    "                sstDs=tsDs.assign_attrs({'project_id':'CMIP'})\n",
    "\n",
    "                sstIndex = sst.calculateIndex(sstDs, sstClimat) #(reducing the model set at this step could save time?)\n",
    "\n",
    "                pslDs = fh.loadModelData(iModel[1], 'psl_Amon', experiment,variant)\n",
    "                pslIndex, junk = psl.calculateSamIndex(pslDs, pslClimat)\n",
    "\n",
    "                indeces = xarray.concat([\n",
    "                    historicalIndeces, \n",
    "                                         xarray.merge([pslIndex, sstIndex])\n",
    "                    ], 'time')\n",
    "\n",
    "                indeces.assign_attrs(climatology='full length of pi Control')\n",
    "                #print(indeces)\n",
    "                print('Caclulating ...')\n",
    "                tp.averageForTimePeriod(indeces).to_netcdf('results/cmipWarmSeasonIndeces/'+iModel[1]+'_'+experiment + '.nc')\n",
    "\n",
    "            except Exception as e:\n",
    "                print(iModel[1] + experiment + \" not completed: \")\n",
    "                print(e)\n",
    "                \n",
    "            else:\n",
    "                print(iModel[1] + experiment + ' complete')  \n",
    "\n",
    "    except Exception as e:\n",
    "        print(iModel[1] + \"Climatology did not calculate\")\n",
    "        print(e)\n",
    "        \n",
    "    else:\n",
    "        print(iModel[1] + ' finished')"
   ]
  },
  {
   "cell_type": "markdown",
   "metadata": {},
   "source": [
    "This grabs the monthly CESM indeces, and calculates the averages for the time periods of interest (aka the warm season), as set in the _indexDefitionions file\n",
    "\n",
    "Theres a few examples of output at the bottom to sanity check this is meaningful"
   ]
  },
  {
   "cell_type": "markdown",
   "metadata": {},
   "source": [
    "The indeces for each month have already been calculated. So loading up the saved versions, and putting them into a single xarray."
   ]
  },
  {
   "cell_type": "code",
   "execution_count": null,
   "metadata": {},
   "outputs": [],
   "source": [
    "for experiment in experimentSet: \n",
    "    print(experiment)\n",
    "    timePIndeces=list()\n",
    "\n",
    "    for model in _model.scenarioMip[:,1]:\n",
    "        try:\n",
    "            indecesDs = xarray.open_dataset('results/cmipWarmSeasonIndeces/' + model +'_'+ experiment + '.nc')\n",
    "            indecesDs['model']=model\n",
    "            timePIndeces.append(indecesDs)\n",
    "        except Exception as e:\n",
    "            print(e) \n",
    "    results=xarray.merge(timePIndeces)\n",
    "\n",
    "    results=results.assign_attrs({'experiment':experiment,**indecesDs.attrs,**_index.monthsOfInterest})\n",
    "\n",
    "    results.to_netcdf('results/cmip6'+experiment+'TradIndeces.nc')"
   ]
  },
  {
   "cell_type": "code",
   "execution_count": null,
   "metadata": {},
   "outputs": [],
   "source": [
    "results.sel(year=slice(1850,2099))"
   ]
  },
  {
   "cell_type": "markdown",
   "metadata": {},
   "source": [
    "Some sanity checks to see if it looks ok:\n"
   ]
  },
  {
   "cell_type": "code",
   "execution_count": null,
   "metadata": {},
   "outputs": [],
   "source": [
    "results=xarray.open_dataset('results/cmip6ssp585TradIndeces.nc').sel(year=slice(1850,2099))"
   ]
  },
  {
   "cell_type": "code",
   "execution_count": null,
   "metadata": {},
   "outputs": [],
   "source": [
    "str(results.isel(model=6).model.values)"
   ]
  },
  {
   "cell_type": "code",
   "execution_count": null,
   "metadata": {},
   "outputs": [],
   "source": [
    "# plotSomething\n",
    "fig = plt.figure(figsize=(12,8))\n",
    "ax = fig.add_subplot(1,1,1)\n",
    "\n",
    "results.isel(model=5).nino34.plot(label='nino34')\n",
    "results.isel(model=5).nino34NoDetrend.plot(label='No Detrend')\n",
    "\n",
    "#Tidy up a bit\n",
    "plt.title(str(results.isel(model=5).model.values) + \" Historical Nino34\")\n",
    "plt.ylim(-4,4)\n",
    "plt.minorticks_on()\n",
    "plt.legend()"
   ]
  },
  {
   "cell_type": "code",
   "execution_count": null,
   "metadata": {},
   "outputs": [],
   "source": [
    "# A multi-model mean?\n",
    "\n",
    "mean = results.sam.mean(dim='model')\n",
    "std = results.sam.std(dim='model')"
   ]
  },
  {
   "cell_type": "code",
   "execution_count": null,
   "metadata": {},
   "outputs": [],
   "source": [
    "plt.figure()\n",
    "mean.plot()\n",
    "std.plot()"
   ]
  },
  {
   "cell_type": "code",
   "execution_count": null,
   "metadata": {},
   "outputs": [],
   "source": [
    "# why limit yourself to one index?\n",
    "\n",
    "mean = results.mean(dim='model')\n",
    "std = results.std(dim='model')"
   ]
  },
  {
   "cell_type": "code",
   "execution_count": null,
   "metadata": {},
   "outputs": [],
   "source": [
    "std"
   ]
  },
  {
   "cell_type": "markdown",
   "metadata": {},
   "source": [
    "# 2. Calculate Compound Years for CESM6"
   ]
  },
  {
   "cell_type": "markdown",
   "metadata": {},
   "source": [
    "# Define a criteria to determine events"
   ]
  },
  {
   "cell_type": "markdown",
   "metadata": {},
   "source": [
    "So we are going to define events as follows:\n",
    "- For SST indeces (aka Enso and Iod), this is 1 sigma above/below mean\n",
    "- For PSL indeces (aka Sam) this is 0.5 sigma above/below mean\n",
    "\n",
    "Using a piControl climatology"
   ]
  },
  {
   "cell_type": "code",
   "execution_count": null,
   "metadata": {},
   "outputs": [],
   "source": [
    "piControlXr=xarray.open_dataset('results/cmip6piControlTradIndeces.nc')\n",
    "\n",
    "piControlXr.model.values"
   ]
  },
  {
   "cell_type": "code",
   "execution_count": null,
   "metadata": {},
   "outputs": [],
   "source": [
    "# This should calculate stds for all experiments and all indeces\n",
    "stdXr = piControlXr.std(dim='year')\n",
    "\n",
    "# define some criteria that we want to use to identifiy it thats an event\n",
    "criteriaXr= xarray.merge(\n",
    "    (stdXr[['nino34','dmi']], stdXr['sam']/2)\n",
    ")"
   ]
  },
  {
   "cell_type": "code",
   "execution_count": null,
   "metadata": {},
   "outputs": [],
   "source": [
    "criteriaXr"
   ]
  },
  {
   "cell_type": "markdown",
   "metadata": {},
   "source": [
    "# Calculate the compounding years and plot an example"
   ]
  },
  {
   "cell_type": "code",
   "execution_count": null,
   "metadata": {},
   "outputs": [],
   "source": [
    "for experiment in scenarioSet:\n",
    "\n",
    "    # Here is the data\n",
    "    indecesXr = xarray.open_dataset('results/cmip6'+experiment+'TradIndeces.nc')\n",
    "\n",
    "    firePos, fireNeg = compound.applyCriteria(indecesXr, criteriaXr)\n",
    "\n",
    "    firePos=compound.compound(firePos)\n",
    "\n",
    "    fireNeg=compound.compound(fireNeg)\n",
    "\n",
    "    firePos.to_netcdf('results/cmip6'+experiment+'FirePos.nc')\n",
    "\n",
    "    fireNeg.to_netcdf('results/cmip6'+experiment+'FireNeg.nc')"
   ]
  },
  {
   "cell_type": "code",
   "execution_count": null,
   "metadata": {},
   "outputs": [],
   "source": [
    "indecesXr.sel(year=2014)"
   ]
  },
  {
   "cell_type": "code",
   "execution_count": null,
   "metadata": {},
   "outputs": [],
   "source": [
    "firePos"
   ]
  },
  {
   "cell_type": "code",
   "execution_count": null,
   "metadata": {},
   "outputs": [],
   "source": [
    "modToPlot = 'CESM2'\n",
    "\n",
    "toPlot=3*firePos.all3.sel(model=modToPlot)\n",
    "\n",
    "plt.figure(figsize=(12,12))\n",
    "\n",
    "plt.vlines(\n",
    "    x=firePos.year, \n",
    "    ymin=0,\n",
    "    ymax=toPlot,\n",
    "    label='all3'\n",
    ")\n",
    "\n",
    "colors=['orange', 'purple', 'green']\n",
    "iCol = 0\n",
    "\n",
    "for iPair in firePos.attrs['pairs']:\n",
    "    plt.vlines(\n",
    "        x=firePos.year, \n",
    "        ymin=0,\n",
    "        ymax=2*firePos[iPair].sel(model=modToPlot),\n",
    "        color=colors[iCol],\n",
    "        label=iPair\n",
    "    )\n",
    "    iCol+=1\n",
    "plt.legend()\n",
    "plt.xlim(1850,2100)\n",
    "plt.title(modToPlot+': Pairs and all-three compounds for individal years')"
   ]
  },
  {
   "cell_type": "code",
   "execution_count": null,
   "metadata": {},
   "outputs": [],
   "source": []
  },
  {
   "cell_type": "code",
   "execution_count": null,
   "metadata": {},
   "outputs": [],
   "source": []
  },
  {
   "cell_type": "code",
   "execution_count": null,
   "metadata": {},
   "outputs": [],
   "source": []
  }
 ],
 "metadata": {
  "kernelspec": {
   "display_name": "Python 3",
   "language": "python",
   "name": "python3"
  },
  "language_info": {
   "codemirror_mode": {
    "name": "ipython",
    "version": 3
   },
   "file_extension": ".py",
   "mimetype": "text/x-python",
   "name": "python",
   "nbconvert_exporter": "python",
   "pygments_lexer": "ipython3",
   "version": "3.8.8"
  }
 },
 "nbformat": 4,
 "nbformat_minor": 4
}
