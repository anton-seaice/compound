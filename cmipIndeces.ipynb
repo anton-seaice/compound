{
 "cells": [
  {
   "cell_type": "markdown",
   "metadata": {},
   "source": [
    "# Calculate CMIP Indeces"
   ]
  },
  {
   "cell_type": "markdown",
   "metadata": {},
   "source": [
    "This file \n",
    "1. calculates all the indeces for all months for all cesmFullForcingFiles.\n",
    "\n"
   ]
  },
  {
   "cell_type": "code",
   "execution_count": 1,
   "metadata": {
    "tags": []
   },
   "outputs": [],
   "source": [
    "#import my functions\n",
    "import helpers.fileHandler as fh\n",
    "import utils._modelDefinitions as _model\n",
    "import utils.sstIndex as sst\n",
    "import utils.pslIndex as psl\n",
    "import utils.timePeriod as tp\n",
    "\n"
   ]
  },
  {
   "cell_type": "code",
   "execution_count": 2,
   "metadata": {},
   "outputs": [],
   "source": [
    "import xarray\n",
    "import matplotlib.pyplot as plt"
   ]
  },
  {
   "cell_type": "markdown",
   "metadata": {},
   "source": [
    "# 1. Calculate CESM Indeces"
   ]
  },
  {
   "cell_type": "markdown",
   "metadata": {},
   "source": [
    "import warnings\n",
    "warnings.filterwarnings('ignore')"
   ]
  },
  {
   "cell_type": "markdown",
   "metadata": {},
   "source": [
    "For each experiment in historical, calculate indices"
   ]
  },
  {
   "cell_type": "code",
   "execution_count": 3,
   "metadata": {},
   "outputs": [
    {
     "name": "stdout",
     "output_type": "stream",
     "text": [
      "past1000\n",
      "/Volumes/Untitled/CMIP5-PMIP3/CMIP5/areacella_fx/\n"
     ]
    },
    {
     "ename": "ValueError",
     "evalue": "Could not find any dimension coordinates to use to order the datasets for concatenation",
     "output_type": "error",
     "traceback": [
      "\u001b[0;31m---------------------------------------------------------------------------\u001b[0m",
      "\u001b[0;31mValueError\u001b[0m                                Traceback (most recent call last)",
      "\u001b[0;32m<ipython-input-3-51c6a0d56fb8>\u001b[0m in \u001b[0;36m<module>\u001b[0;34m\u001b[0m\n\u001b[1;32m      6\u001b[0m     \u001b[0mprint\u001b[0m\u001b[0;34m(\u001b[0m\u001b[0mexperiment\u001b[0m\u001b[0;34m)\u001b[0m\u001b[0;34m\u001b[0m\u001b[0;34m\u001b[0m\u001b[0m\n\u001b[1;32m      7\u001b[0m \u001b[0;34m\u001b[0m\u001b[0m\n\u001b[0;32m----> 8\u001b[0;31m     \u001b[0mfxDs\u001b[0m \u001b[0;34m=\u001b[0m \u001b[0mfh\u001b[0m\u001b[0;34m.\u001b[0m\u001b[0mloadModelData\u001b[0m\u001b[0;34m(\u001b[0m\u001b[0mmodel\u001b[0m\u001b[0;34m,\u001b[0m \u001b[0;34m'areacella_fx'\u001b[0m\u001b[0;34m,\u001b[0m \u001b[0;34m''\u001b[0m\u001b[0;34m)\u001b[0m \u001b[0;31m#is the resolution the same in all th experiments?\u001b[0m\u001b[0;34m\u001b[0m\u001b[0;34m\u001b[0m\u001b[0m\n\u001b[0m\u001b[1;32m      9\u001b[0m     \u001b[0;31m#SST\u001b[0m\u001b[0;34m\u001b[0m\u001b[0;34m\u001b[0m\u001b[0;34m\u001b[0m\u001b[0m\n\u001b[1;32m     10\u001b[0m     \u001b[0mtsDs\u001b[0m \u001b[0;34m=\u001b[0m \u001b[0mfh\u001b[0m\u001b[0;34m.\u001b[0m\u001b[0mloadModelData\u001b[0m\u001b[0;34m(\u001b[0m\u001b[0mmodel\u001b[0m\u001b[0;34m,\u001b[0m \u001b[0;34m'ts'\u001b[0m\u001b[0;34m,\u001b[0m \u001b[0;34m'piControl'\u001b[0m\u001b[0;34m)\u001b[0m\u001b[0;34m\u001b[0m\u001b[0;34m\u001b[0m\u001b[0m\n",
      "\u001b[0;32m~/compound/helpers/fileHandler.py\u001b[0m in \u001b[0;36mloadModelData\u001b[0;34m(model, variable, test, **kargs)\u001b[0m\n\u001b[1;32m    175\u001b[0m     \u001b[0;32melse\u001b[0m\u001b[0;34m:\u001b[0m\u001b[0;34m\u001b[0m\u001b[0;34m\u001b[0m\u001b[0m\n\u001b[1;32m    176\u001b[0m         \u001b[0;31m# basically a place holder for other model types.\u001b[0m\u001b[0;34m\u001b[0m\u001b[0;34m\u001b[0m\u001b[0;34m\u001b[0m\u001b[0m\n\u001b[0;32m--> 177\u001b[0;31m         \u001b[0mresult\u001b[0m \u001b[0;34m=\u001b[0m \u001b[0mxarray\u001b[0m\u001b[0;34m.\u001b[0m\u001b[0mopen_mfdataset\u001b[0m\u001b[0;34m(\u001b[0m\u001b[0mpaths\u001b[0m\u001b[0;34m,\u001b[0m \u001b[0mparallel\u001b[0m\u001b[0;34m=\u001b[0m\u001b[0;32mTrue\u001b[0m\u001b[0;34m,\u001b[0m \u001b[0;34m**\u001b[0m\u001b[0mkargs\u001b[0m\u001b[0;34m)\u001b[0m\u001b[0;34m\u001b[0m\u001b[0;34m\u001b[0m\u001b[0m\n\u001b[0m\u001b[1;32m    178\u001b[0m \u001b[0;34m\u001b[0m\u001b[0m\n\u001b[1;32m    179\u001b[0m         \u001b[0mtimeRe\u001b[0m\u001b[0;34m=\u001b[0m\u001b[0mre\u001b[0m\u001b[0;34m.\u001b[0m\u001b[0mcompile\u001b[0m\u001b[0;34m(\u001b[0m\u001b[0;34m'time'\u001b[0m\u001b[0;34m)\u001b[0m\u001b[0;34m\u001b[0m\u001b[0;34m\u001b[0m\u001b[0m\n",
      "\u001b[0;32m~/opt/anaconda3/lib/python3.8/site-packages/xarray/backends/api.py\u001b[0m in \u001b[0;36mopen_mfdataset\u001b[0;34m(paths, chunks, concat_dim, compat, preprocess, engine, data_vars, coords, combine, parallel, join, attrs_file, combine_attrs, **kwargs)\u001b[0m\n\u001b[1;32m    944\u001b[0m             \u001b[0;31m# Redo ordering from coordinates, ignoring how they were ordered\u001b[0m\u001b[0;34m\u001b[0m\u001b[0;34m\u001b[0m\u001b[0;34m\u001b[0m\u001b[0m\n\u001b[1;32m    945\u001b[0m             \u001b[0;31m# previously\u001b[0m\u001b[0;34m\u001b[0m\u001b[0;34m\u001b[0m\u001b[0;34m\u001b[0m\u001b[0m\n\u001b[0;32m--> 946\u001b[0;31m             combined = combine_by_coords(\n\u001b[0m\u001b[1;32m    947\u001b[0m                 \u001b[0mdatasets\u001b[0m\u001b[0;34m,\u001b[0m\u001b[0;34m\u001b[0m\u001b[0;34m\u001b[0m\u001b[0m\n\u001b[1;32m    948\u001b[0m                 \u001b[0mcompat\u001b[0m\u001b[0;34m=\u001b[0m\u001b[0mcompat\u001b[0m\u001b[0;34m,\u001b[0m\u001b[0;34m\u001b[0m\u001b[0;34m\u001b[0m\u001b[0m\n",
      "\u001b[0;32m~/opt/anaconda3/lib/python3.8/site-packages/xarray/core/combine.py\u001b[0m in \u001b[0;36mcombine_by_coords\u001b[0;34m(datasets, compat, data_vars, coords, fill_value, join, combine_attrs)\u001b[0m\n\u001b[1;32m    777\u001b[0m     \u001b[0mconcatenated_grouped_by_data_vars\u001b[0m \u001b[0;34m=\u001b[0m \u001b[0;34m[\u001b[0m\u001b[0;34m]\u001b[0m\u001b[0;34m\u001b[0m\u001b[0;34m\u001b[0m\u001b[0m\n\u001b[1;32m    778\u001b[0m     \u001b[0;32mfor\u001b[0m \u001b[0mvars\u001b[0m\u001b[0;34m,\u001b[0m \u001b[0mdatasets_with_same_vars\u001b[0m \u001b[0;32min\u001b[0m \u001b[0mgrouped_by_vars\u001b[0m\u001b[0;34m:\u001b[0m\u001b[0;34m\u001b[0m\u001b[0;34m\u001b[0m\u001b[0m\n\u001b[0;32m--> 779\u001b[0;31m         combined_ids, concat_dims = _infer_concat_order_from_coords(\n\u001b[0m\u001b[1;32m    780\u001b[0m             \u001b[0mlist\u001b[0m\u001b[0;34m(\u001b[0m\u001b[0mdatasets_with_same_vars\u001b[0m\u001b[0;34m)\u001b[0m\u001b[0;34m\u001b[0m\u001b[0;34m\u001b[0m\u001b[0m\n\u001b[1;32m    781\u001b[0m         )\n",
      "\u001b[0;32m~/opt/anaconda3/lib/python3.8/site-packages/xarray/core/combine.py\u001b[0m in \u001b[0;36m_infer_concat_order_from_coords\u001b[0;34m(datasets)\u001b[0m\n\u001b[1;32m    122\u001b[0m \u001b[0;34m\u001b[0m\u001b[0m\n\u001b[1;32m    123\u001b[0m     \u001b[0;32mif\u001b[0m \u001b[0mlen\u001b[0m\u001b[0;34m(\u001b[0m\u001b[0mdatasets\u001b[0m\u001b[0;34m)\u001b[0m \u001b[0;34m>\u001b[0m \u001b[0;36m1\u001b[0m \u001b[0;32mand\u001b[0m \u001b[0;32mnot\u001b[0m \u001b[0mconcat_dims\u001b[0m\u001b[0;34m:\u001b[0m\u001b[0;34m\u001b[0m\u001b[0;34m\u001b[0m\u001b[0m\n\u001b[0;32m--> 124\u001b[0;31m         raise ValueError(\n\u001b[0m\u001b[1;32m    125\u001b[0m             \u001b[0;34m\"Could not find any dimension coordinates to use to \"\u001b[0m\u001b[0;34m\u001b[0m\u001b[0;34m\u001b[0m\u001b[0m\n\u001b[1;32m    126\u001b[0m             \u001b[0;34m\"order the datasets for concatenation\"\u001b[0m\u001b[0;34m\u001b[0m\u001b[0;34m\u001b[0m\u001b[0m\n",
      "\u001b[0;31mValueError\u001b[0m: Could not find any dimension coordinates to use to order the datasets for concatenation"
     ]
    }
   ],
   "source": [
    "timePIndeces=dict()\n",
    "experiment='past1000'\n",
    "\n",
    "\n",
    "for model in _model.past1000:\n",
    "    print(experiment)\n",
    "    \n",
    "    fxDs = fh.loadModelData(model, 'areacella_fx', '') #is the resolution the same in all th experiments?\n",
    "    #SST\n",
    "    tsDs = fh.loadModelData(model, 'ts', 'piControl')\n",
    "    controlDs=xarray.merge([tsDs.ts, fxDs.areacella])\n",
    "    controlDs=controlDs.assign_attrs({'project_id':'CMIP5'})\n",
    "    \n",
    "    sstClimat=sst.calculateClimatology(controlDs)\n",
    "    \n",
    "    tsDs = fh.loadModelData(model, 'ts', experiment)\n",
    "    sstDs = xarray.merge([tsDs.ts, fxDs.areacella])\n",
    "    sstDs=sstDs.assign_attrs({'project_id':'CMIP5'})\n",
    "\n",
    "    sstIndex = sst.calculateIndex(sstDs, sstClimat) #(reducing the model set at this step could save time?)\n",
    "    \n",
    "    #psl\n",
    "    \n",
    "    pslDs = fh.loadModelData(model, 'psl', experiment)\n",
    "    pslIndex, junk = psl.calculateSamIndex(pslDs, pslClimat)\n",
    "    indeces = xarray.merge([pslIndex, sstIndex])\n",
    "    indeces.assign_attrs(climatology='calculated based on 850-2005 climatology from the control run')\n",
    "    indeces\n",
    "    #indeces.to_netcdf('results/cmipMonthlyIndeces/' + experiment + '.nc')\n",
    "\n",
    "    \n",
    "\n",
    "    \n"
   ]
  },
  {
   "cell_type": "code",
   "execution_count": null,
   "metadata": {},
   "outputs": [],
   "source": [
    "#loading both those things\n",
    "for keys in sstClimat:\n",
    "    sstClimat[keys].close()\n",
    "    \n",
    "pslClimat.close()"
   ]
  },
  {
   "cell_type": "markdown",
   "metadata": {},
   "source": [
    "This grabs the monthly CESM indeces, and calculates the averages for the time periods of interest (aka the warm season), as set in the _indexDefitionions file\n",
    "\n",
    "Theres a few examples of output at the bottom to sanity check this is meaningful"
   ]
  },
  {
   "cell_type": "code",
   "execution_count": null,
   "metadata": {},
   "outputs": [],
   "source": [
    "#experimentSet = ['LME.002']\n",
    "experimentSet = _model.cesmAll"
   ]
  },
  {
   "cell_type": "markdown",
   "metadata": {},
   "source": [
    "The indeces for each month have already been calculated. So loading up the saved versions, and putting them into a single xarray."
   ]
  },
  {
   "cell_type": "code",
   "execution_count": null,
   "metadata": {},
   "outputs": [],
   "source": [
    "timePIndeces=list()\n",
    "\n",
    "for experiment in experimentSet:\n",
    "    print(experiment)\n",
    "    indecesDs = xarray.open_dataset('results/cesmMonthlyIndeces/' + experiment + '.nc')\n",
    "\n",
    "    timePIndeces.append(tp.averageForTimePeriod(indecesDs))\n",
    "\n",
    "\n",
    "results=xarray.concat(timePIndeces, 'experiment')\n",
    "\n",
    "\n",
    "results['experiment']=experimentSet\n",
    "\n",
    "results=results.assign_attrs({**indecesDs.attrs,**_index.monthsOfInterest})"
   ]
  },
  {
   "cell_type": "raw",
   "metadata": {},
   "source": [
    "results=xarray.concat(\n",
    "    [\n",
    "        xarray.DataArray(timePIndeces[experiment], \n",
    "                         dims=['year','index'], \n",
    "                         coords={\n",
    "                             'year':timePIndeces[experiment].index,\n",
    "                             'index':timePIndeces[experiment].columns,\n",
    "                             'experiment': experiment})\n",
    "    for experiment in experimentSet \n",
    "    ],\n",
    "    dim='experiment'\n",
    ")\n",
    "\n",
    "results.assign_attrs({indeces.attrs,_index.monthsOfInterest})\n",
    "\n"
   ]
  },
  {
   "cell_type": "markdown",
   "metadata": {},
   "source": [
    "Save the result for use later"
   ]
  },
  {
   "cell_type": "code",
   "execution_count": null,
   "metadata": {},
   "outputs": [],
   "source": [
    "results.to_netcdf('results/cesmTradIndeces.nc')"
   ]
  },
  {
   "cell_type": "markdown",
   "metadata": {},
   "source": [
    "Some sanity checks to see if it looks ok:\n"
   ]
  },
  {
   "cell_type": "code",
   "execution_count": null,
   "metadata": {},
   "outputs": [],
   "source": [
    "results"
   ]
  },
  {
   "cell_type": "code",
   "execution_count": null,
   "metadata": {},
   "outputs": [],
   "source": [
    "# plotSomething\n",
    "fig = plt.figure(figsize=(12,8))\n",
    "ax = fig.add_subplot(1,1,1)\n",
    "\n",
    "#results.sel(experiment='001', index='nino34').plot(label='001')\n",
    "results.nino34.sel(experiment='LME.002').plot(label='LME.001')\n",
    "results.nino34NoDetrend.sel(experiment='LME.002').plot(label='LME.001')\n",
    "\n",
    "#Tidy up a bit\n",
    "plt.title(\"CESM Full Forcing Nino34 Ensemble\")\n",
    "plt.ylim(-4,4)\n",
    "plt.minorticks_on()\n",
    "plt.legend()"
   ]
  },
  {
   "cell_type": "code",
   "execution_count": null,
   "metadata": {},
   "outputs": [],
   "source": [
    "# A multi-experiment mean?\n",
    "\n",
    "mean = results.sam.mean(dim='experiment')\n",
    "std = results.sam.std(dim='experiment')"
   ]
  },
  {
   "cell_type": "code",
   "execution_count": null,
   "metadata": {},
   "outputs": [],
   "source": [
    "plt.figure()\n",
    "mean.plot()\n",
    "std.plot()"
   ]
  },
  {
   "cell_type": "code",
   "execution_count": null,
   "metadata": {},
   "outputs": [],
   "source": [
    "# why limit yourself to one index?\n",
    "\n",
    "mean = results.mean(dim='experiment')\n",
    "std = results.std(dim='experiment')"
   ]
  },
  {
   "cell_type": "code",
   "execution_count": null,
   "metadata": {},
   "outputs": [],
   "source": [
    "std"
   ]
  },
  {
   "cell_type": "markdown",
   "metadata": {},
   "source": [
    "# 2. Calculate Compound Years for CESM"
   ]
  },
  {
   "cell_type": "code",
   "execution_count": null,
   "metadata": {},
   "outputs": [],
   "source": [
    "# Here is the data\n",
    "indecesDs = xarray.open_dataset('results/cesmTradIndeces.nc')\n",
    "\n",
    "indecesDs.experiment.values"
   ]
  },
  {
   "cell_type": "code",
   "execution_count": null,
   "metadata": {},
   "outputs": [],
   "source": [
    "indecesDs"
   ]
  },
  {
   "cell_type": "markdown",
   "metadata": {},
   "source": [
    "# Define a criteria to determine events"
   ]
  },
  {
   "cell_type": "markdown",
   "metadata": {},
   "source": [
    "So we are going to define events as follows:\n",
    "- For SST indeces (aka Enso and Iod), this is 1 sigma above/below mean\n",
    "- For PSL indeces (aka Sam) this is 0.5 sigma above/below mean\n",
    "\n",
    "For now, using a 850-1850 climatology"
   ]
  },
  {
   "cell_type": "code",
   "execution_count": null,
   "metadata": {},
   "outputs": [],
   "source": [
    "# This should calculate stds for all experiments and all indeces\n",
    "stdDa = indecesDs.std(dim='year')\n",
    "\n",
    "# define some criteria that we want to use to identifiy it thats an event\n",
    "criteriaDa= xarray.merge(\n",
    "    (stdDa[['nino34','dmi']], stdDa['sam']/2)\n",
    ")"
   ]
  },
  {
   "cell_type": "markdown",
   "metadata": {},
   "source": [
    "# Calculate the compounding years and plot an example"
   ]
  },
  {
   "cell_type": "code",
   "execution_count": null,
   "metadata": {},
   "outputs": [],
   "source": [
    "%run utils/compound.ipynb\n",
    "\n",
    "\n",
    "\n",
    "firePos, fireNeg = applyCriteria(indecesDs, criteriaDa)\n",
    "\n",
    "firePos=compound(firePos)\n",
    "\n",
    "fireNeg=compound(fireNeg)\n",
    "\n",
    "firePos.to_netcdf('results/cesmFirePos.nc')\n",
    "\n",
    "fireNeg.to_netcdf('results/cesmFireNeg.nc')"
   ]
  },
  {
   "cell_type": "code",
   "execution_count": null,
   "metadata": {},
   "outputs": [],
   "source": [
    "firePos"
   ]
  },
  {
   "cell_type": "code",
   "execution_count": null,
   "metadata": {},
   "outputs": [],
   "source": [
    "expToPlot = 'LME.002'\n",
    "\n",
    "toPlot=3*firePos.all3.sel(experiment=expToPlot)\n",
    "\n",
    "plt.figure(figsize=(12,12))\n",
    "\n",
    "plt.vlines(\n",
    "    x=firePos.year, \n",
    "    ymin=0,\n",
    "    ymax=toPlot,\n",
    "    label='all3'\n",
    ")\n",
    "\n",
    "colors=['orange', 'purple', 'green']\n",
    "iCol = 0\n",
    "\n",
    "for iPair in firePos.attrs['pairs']:\n",
    "    plt.vlines(\n",
    "        x=firePos.year, \n",
    "        ymin=0,\n",
    "        ymax=2*firePos[iPair].sel(experiment=expToPlot),\n",
    "        color=colors[iCol],\n",
    "        label=iPair\n",
    "    )\n",
    "    iCol+=1\n",
    "plt.legend()\n",
    "plt.xlim(1700,2100)\n",
    "plt.title(expToPlot+': Pairs and all-three compounds for individal years')"
   ]
  },
  {
   "cell_type": "code",
   "execution_count": null,
   "metadata": {},
   "outputs": [],
   "source": []
  }
 ],
 "metadata": {
  "kernelspec": {
   "display_name": "Python 3",
   "language": "python",
   "name": "python3"
  },
  "language_info": {
   "codemirror_mode": {
    "name": "ipython",
    "version": 3
   },
   "file_extension": ".py",
   "mimetype": "text/x-python",
   "name": "python",
   "nbconvert_exporter": "python",
   "pygments_lexer": "ipython3",
   "version": "3.8.8"
  }
 },
 "nbformat": 4,
 "nbformat_minor": 4
}
