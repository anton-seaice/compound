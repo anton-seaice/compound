{
 "cells": [
  {
   "cell_type": "markdown",
   "metadata": {},
   "source": [
    "# Calculate CMIP Indeces"
   ]
  },
  {
   "cell_type": "markdown",
   "metadata": {},
   "source": [
    "This file \n",
    "1. calculates all the indeces for all months for all cesmFullForcingFiles.\n",
    "\n"
   ]
  },
  {
   "cell_type": "code",
   "execution_count": 2,
   "metadata": {
    "tags": []
   },
   "outputs": [],
   "source": [
    "#import my functions\n",
    "import helpers.fileHandler as fh\n",
    "import utils._modelDefinitions as _model\n",
    "import utils._indexDefinitions as _index\n",
    "import utils.sstIndex as sst\n",
    "import utils.pslIndex as psl\n",
    "import utils.timePeriod as tp\n",
    "import utils.compound as compound\n"
   ]
  },
  {
   "cell_type": "code",
   "execution_count": 3,
   "metadata": {
    "tags": []
   },
   "outputs": [],
   "source": [
    "import xarray\n",
    "import numpy\n",
    "import matplotlib.pyplot as plt"
   ]
  },
  {
   "cell_type": "code",
   "execution_count": 4,
   "metadata": {},
   "outputs": [],
   "source": [
    "import warnings\n",
    "warnings.filterwarnings('ignore')"
   ]
  },
  {
   "cell_type": "markdown",
   "metadata": {},
   "source": [
    "# 1. Calculate CMIP Indeces"
   ]
  },
  {
   "cell_type": "markdown",
   "metadata": {},
   "source": [
    "For each experiment in historical, calculate indices"
   ]
  },
  {
   "cell_type": "code",
   "execution_count": 5,
   "metadata": {},
   "outputs": [],
   "source": [
    "deckSet=['piControl','historical']\n",
    "scenarioSet=['ssp126', 'ssp245', 'ssp370','ssp585']\n",
    "experimentSet=[*deckSet, *scenarioSet]"
   ]
  },
  {
   "cell_type": "code",
   "execution_count": 6,
   "metadata": {},
   "outputs": [],
   "source": [
    "modelSet=_model.scenarioMip"
   ]
  },
  {
   "cell_type": "code",
   "execution_count": 7,
   "metadata": {},
   "outputs": [],
   "source": [
    "sstIndeces = _index.sstIndex.keys()\n",
    "pslIndeces = _index.pslIndex"
   ]
  },
  {
   "cell_type": "code",
   "execution_count": 8,
   "metadata": {},
   "outputs": [
    {
     "data": {
      "text/plain": [
       "38"
      ]
     },
     "execution_count": 8,
     "metadata": {},
     "output_type": "execute_result"
    }
   ],
   "source": [
    "len(modelSet)"
   ]
  },
  {
   "cell_type": "markdown",
   "metadata": {},
   "source": [
    "Climatology and piControl:"
   ]
  },
  {
   "cell_type": "code",
   "execution_count": null,
   "metadata": {},
   "outputs": [
    {
     "name": "stdout",
     "output_type": "stream",
     "text": [
      "['NOAA-GFDL' 'GFDL-ESM4' 'r1i1p1f1' 'r1i1p1f1']\n",
      "GFDL-ESM4 starting\n",
      "['NASA-GISS' 'GISS-E2-1-G' 'r1i1p1f2' 'r1i1p1f2']\n",
      "GISS-E2-1-G starting\n",
      "['MOHC' 'HadGEM3-GC31-LL' 'r1i1p1f1' 'r1i1p1f3']\n",
      "HadGEM3-GC31-LL starting\n",
      "['MOHC' 'HadGEM3-GC31-MM' 'r1i1p1f1' 'r1i1p1f3']\n",
      "HadGEM3-GC31-MM starting\n"
     ]
    }
   ],
   "source": [
    "for iModel in modelSet[20:,:]:\n",
    "    \n",
    "    print(iModel)\n",
    "    \n",
    "    try: \n",
    "        #calculate climatology\n",
    "        \n",
    "        print(iModel[1] + ' starting') \n",
    "        #SST\n",
    "        tsDs = fh.loadModelData(iModel[1], 'tos_Omon', 'piControl', iModel[2]).tos.to_dataset()\n",
    "        controlDs=tsDs.assign_attrs({'project_id':'CMIP'})\n",
    "        sstClimat=sst.calculateClimatology(controlDs)\n",
    "\n",
    "        [sstClimat[i].to_netcdf('results/cmipMonthlyIndeces/sstTosClimat'+iModel[1]+i+'.nc')\n",
    "             for i in sstIndeces]\n",
    "\n",
    "        pslControlDs=fh.loadModelData(iModel[1], 'psl_Amon', 'piControl', iModel[2])\n",
    "        pslClimat=psl.calculateClimatology(pslControlDs)\n",
    "\n",
    "        pslClimat.to_netcdf('results/cmipMonthlyIndeces/pslClimat'+iModel[1]+'.nc')\n",
    "\n",
    "    except Exception as e:\n",
    "        print(iModel[1] + \"Climatology did not calculate\")\n",
    "        print(e)\n",
    " "
   ]
  },
  {
   "cell_type": "code",
   "execution_count": null,
   "metadata": {},
   "outputs": [],
   "source": [
    "for iModel in modelSet:\n",
    "    \n",
    "    print(iModel)\n",
    "    \n",
    "    try:\n",
    "        sstClimat=dict()\n",
    "\n",
    "        for i in sstIndeces:\n",
    "            sstClimat[i]=xarray.open_dataarray('results/cmipMonthlyIndeces/sstTosClimat'+iModel[1]+i+'.nc')\n",
    "        #the piControl\n",
    "        tsDs = fh.loadModelData(iModel[1], 'tos_Omon', 'piControl', iModel[2]).tos.to_dataset()\n",
    "        controlDs=tsDs.assign_attrs({'project_id':'CMIP'})\n",
    "        sstIndex = sst.calculateIndex(controlDs, sstClimat) \n",
    "        \n",
    "        pslClimat=xarray.open_dataset('results/cmipMonthlyIndeces/pslClimat'+iModel[1]+'.nc')\n",
    "        pslControlDs=fh.loadModelData(iModel[1], 'psl_Amon', 'piControl', iModel[2])\n",
    "        pslIndex, junk = psl.calculateSamIndex(pslControlDs, pslClimat)\n",
    "        \n",
    "        indeces = xarray.merge([pslIndex, sstIndex])\n",
    "        indeces.assign_attrs(climatology='full length of pi Control')\n",
    "        print('Caclulating control ...')\n",
    "        tp.averageForTimePeriod(indeces).to_netcdf(\n",
    "            'results/cmipWarmSeasonIndeces/'+iModel[1]+'tospiControl.nc')\n",
    "        \n",
    "    except Exception as e:\n",
    "        print(iModel[1] + \"piControl did not calculate\")\n",
    "        print(e)"
   ]
  },
  {
   "cell_type": "markdown",
   "metadata": {},
   "source": [
    "Historical Indeces"
   ]
  },
  {
   "cell_type": "code",
   "execution_count": null,
   "metadata": {},
   "outputs": [],
   "source": [
    "for iModel in modelSet:\n",
    "    \n",
    "    print(iModel)\n",
    "    \n",
    "    try:    \n",
    "\n",
    "        sstClimat=dict()\n",
    "\n",
    "        for i in sstIndeces:\n",
    "            sstClimat[i]=xarray.open_dataarray('results/cmipMonthlyIndeces/sstTosClimat'+iModel[1]+i+'.nc')\n",
    "        pslClimat=xarray.open_dataset('results/cmipMonthlyIndeces/pslClimat'+iModel[1]+'.nc')\n",
    "\n",
    "        #historical\n",
    "        tsDs = fh.loadModelData(iModel[1], 'tos_Omon', 'historical', iModel[3]).tos.to_dataset()\n",
    "        #sstDs = xarray.merge([tsDs.ts, fxDs.areacella])\n",
    "        sstDs=tsDs.assign_attrs({'project_id':'CMIP'})\n",
    "\n",
    "        sstIndex = sst.calculateIndex(sstDs, sstClimat) #(reducing the model set at this step could save time?)\n",
    "\n",
    "        pslDs = fh.loadModelData(iModel[1], 'psl_Amon', 'historical',iModel[3])\n",
    "        pslIndex, junk = psl.calculateSamIndex(pslDs, pslClimat)\n",
    "        indeces = xarray.merge([pslIndex, sstIndex])\n",
    "        indeces.assign_attrs(climatology='full length of pi Control')\n",
    "        #print(indeces)\n",
    "        print('Caclulating historical ...')\n",
    "\n",
    "        #save the results to file\n",
    "        indeces.to_netcdf('results/cmipMonthlyIndeces/'+iModel[1]+'toshistorical.nc')\n",
    "        tp.averageForTimePeriod(indeces).to_netcdf('results/cmipWarmSeasonIndeces/'+iModel[1]+'toshistorical.nc')\n",
    "\n",
    "    except Exception as e:\n",
    "        print(iModel[1] + \"historical did not calculate\")\n",
    "        print(e)\n",
    "        "
   ]
  },
  {
   "cell_type": "markdown",
   "metadata": {},
   "source": [
    "Scenario Indeces"
   ]
  },
  {
   "cell_type": "code",
   "execution_count": null,
   "metadata": {},
   "outputs": [],
   "source": [
    "for iModel in modelSet:\n",
    "    \n",
    "    print(iModel)\n",
    "    \n",
    "    try: \n",
    "\n",
    "#ref to the saved files\n",
    "        historicalIndeces = xarray.open_dataset('results/cmipMonthlyIndeces/'+iModel[1]+'toshistorical.nc')\n",
    "        \n",
    "        sstClimat=dict()\n",
    "        \n",
    "        for i in sstIndeces:\n",
    "            sstClimat[i]=xarray.open_dataarray('results/cmipMonthlyIndeces/sstClimat'+iModel[1]+i+'.nc')\n",
    "        pslClimat=xarray.open_dataset('results/cmipMonthlyIndeces/pslClimat'+iModel[1]+'.nc')\n",
    "        \n",
    "        for experiment in scenarioSet: \n",
    "            try:\n",
    "                variant = iModel[3]\n",
    "                \n",
    "                tsDs = fh.loadModelData(iModel[1], 'tos_Omon', experiment, variant).tos.to_dataset()\n",
    "                #sstDs = xarray.merge([tsDs.ts, fxDs.areacella])\n",
    "                sstDs=tsDs.assign_attrs({'project_id':'CMIP'})\n",
    "\n",
    "                sstIndex = sst.calculateIndex(sstDs, sstClimat) #(reducing the model set at this step could save time?)\n",
    "\n",
    "                pslDs = fh.loadModelData(iModel[1], 'psl_Amon', experiment,variant)\n",
    "                pslIndex, junk = psl.calculateSamIndex(pslDs, pslClimat)\n",
    "\n",
    "                indeces = xarray.concat([\n",
    "                    historicalIndeces, \n",
    "                                         xarray.merge([pslIndex, sstIndex])\n",
    "                    ], 'time')\n",
    "\n",
    "                indeces.assign_attrs(climatology='full length of pi Control')\n",
    "                #print(indeces)\n",
    "                print('Caclulating ...')\n",
    "                tp.averageForTimePeriod(indeces).to_netcdf('results/cmipWarmSeasonIndeces/'+iModel[1]+'tos'+experiment + '.nc')\n",
    "\n",
    "            except Exception as e:\n",
    "                print(iModel[1] + experiment + \" not completed: \")\n",
    "                print(e)\n",
    "                \n",
    "            else:\n",
    "                print(iModel[1] + experiment + ' complete')  \n",
    "\n",
    "    except Exception as e:\n",
    "        print(e)\n",
    "        \n",
    "    else:\n",
    "        print(iModel[1] + ' finished')"
   ]
  },
  {
   "cell_type": "markdown",
   "metadata": {},
   "source": [
    "This grabs the monthly CESM indeces, and calculates the averages for the time periods of interest (aka the warm season), as set in the _indexDefitionions file\n",
    "\n",
    "Theres a few examples of output at the bottom to sanity check this is meaningful"
   ]
  },
  {
   "cell_type": "markdown",
   "metadata": {},
   "source": [
    "The indeces for each month have already been calculated. So loading up the saved versions, and putting them into a single xarray."
   ]
  },
  {
   "cell_type": "code",
   "execution_count": null,
   "metadata": {},
   "outputs": [],
   "source": [
    "for experiment in experimentSet: \n",
    "    print(experiment)\n",
    "    timePIndeces=list()\n",
    "\n",
    "    for model in _model.scenarioMip[:,1]:\n",
    "        try:\n",
    "            indecesDs = xarray.open_dataset('results/cmipWarmSeasonIndeces/' + model +'tos'+ experiment + '.nc')\n",
    "            indecesDs['model']=model\n",
    "            timePIndeces.append(indecesDs)\n",
    "        except Exception as e:\n",
    "            print('skipping' + model + experiment) \n",
    "    results=xarray.concat(timePIndeces, 'model')\n",
    "\n",
    "    results=results.assign_attrs({'experiment':experiment,**indecesDs.attrs,**_index.monthsOfInterest})\n",
    "\n",
    "    results.to_netcdf('results/cmip6'+experiment+'TradIndecestos.nc')"
   ]
  },
  {
   "cell_type": "markdown",
   "metadata": {},
   "source": [
    "Some sanity checks to see if it looks ok:\n"
   ]
  },
  {
   "cell_type": "code",
   "execution_count": null,
   "metadata": {},
   "outputs": [],
   "source": [
    "results=xarray.open_dataset('results/cmip6ssp585TradIndecestos.nc').sel(year=slice(1850,2099))"
   ]
  },
  {
   "cell_type": "code",
   "execution_count": null,
   "metadata": {},
   "outputs": [],
   "source": [
    "str(results.isel(model=6).model.values)"
   ]
  },
  {
   "cell_type": "code",
   "execution_count": null,
   "metadata": {},
   "outputs": [],
   "source": [
    "# plotSomething\n",
    "fig = plt.figure(figsize=(12,8))\n",
    "ax = fig.add_subplot(1,1,1)\n",
    "\n",
    "results.isel(model=5).nino34.plot(label='nino34')\n",
    "results.isel(model=5).nino34NoDetrend.plot(label='No Detrend')\n",
    "\n",
    "#Tidy up a bit\n",
    "plt.title(str(results.isel(model=5).model.values) + \" Historical Nino34\")\n",
    "plt.ylim(-4,4)\n",
    "plt.minorticks_on()\n",
    "plt.legend()"
   ]
  },
  {
   "cell_type": "code",
   "execution_count": null,
   "metadata": {},
   "outputs": [],
   "source": [
    "# A multi-model mean?\n",
    "\n",
    "mean = results.sam.mean(dim='model')\n",
    "std = results.sam.std(dim='model')"
   ]
  },
  {
   "cell_type": "code",
   "execution_count": null,
   "metadata": {},
   "outputs": [],
   "source": [
    "plt.figure()\n",
    "mean.plot()\n",
    "std.plot()"
   ]
  },
  {
   "cell_type": "markdown",
   "metadata": {},
   "source": [
    "# 2. Calculate Compound Years for CESM6"
   ]
  },
  {
   "cell_type": "markdown",
   "metadata": {},
   "source": [
    "# Define a criteria to determine events"
   ]
  },
  {
   "cell_type": "markdown",
   "metadata": {},
   "source": [
    "So we are going to define events as follows:\n",
    "- For SST indeces (aka Enso and Iod), this is 1 sigma above/below mean\n",
    "- For PSL indeces (aka Sam) this is 0.5 sigma above/below mean\n",
    "\n",
    "Using a piControl climatology"
   ]
  },
  {
   "cell_type": "code",
   "execution_count": null,
   "metadata": {},
   "outputs": [],
   "source": [
    "piControlXr=xarray.open_dataset('results/cmip6piControlTradIndeces.nc')\n",
    "\n",
    "piControlXr.model.values"
   ]
  },
  {
   "cell_type": "code",
   "execution_count": null,
   "metadata": {},
   "outputs": [],
   "source": [
    "# This should calculate stds for all experiments and all indeces\n",
    "stdXr = piControlXr.std(dim='year')\n",
    "\n",
    "# define some criteria that we want to use to identifiy it thats an event\n",
    "criteriaXr= xarray.merge(\n",
    "    (stdXr[['nino34','dmi']], stdXr['sam']/2)\n",
    ")"
   ]
  },
  {
   "cell_type": "code",
   "execution_count": null,
   "metadata": {},
   "outputs": [],
   "source": [
    "criteriaXr"
   ]
  },
  {
   "cell_type": "markdown",
   "metadata": {},
   "source": [
    "# Calculate the compounding years and plot an example"
   ]
  },
  {
   "cell_type": "code",
   "execution_count": null,
   "metadata": {},
   "outputs": [],
   "source": [
    "for experiment in scenarioSet:\n",
    "\n",
    "    # Here is the data\n",
    "    indecesXr = xarray.open_dataset('results/cmip6'+experiment+'TradIndeces.nc')\n",
    "\n",
    "    firePos, fireNeg = compound.applyCriteria(indecesXr, criteriaXr)\n",
    "\n",
    "    firePos=compound.compound(firePos)\n",
    "\n",
    "    fireNeg=compound.compound(fireNeg)\n",
    "\n",
    "    firePos.to_netcdf('results/cmip6'+experiment+'FirePos.nc')\n",
    "\n",
    "    fireNeg.to_netcdf('results/cmip6'+experiment+'FireNeg.nc')"
   ]
  },
  {
   "cell_type": "code",
   "execution_count": null,
   "metadata": {},
   "outputs": [],
   "source": [
    "indecesXr.sel(year=2014)"
   ]
  },
  {
   "cell_type": "code",
   "execution_count": null,
   "metadata": {},
   "outputs": [],
   "source": [
    "firePos"
   ]
  },
  {
   "cell_type": "code",
   "execution_count": null,
   "metadata": {},
   "outputs": [],
   "source": [
    "modToPlot = 'CESM2'\n",
    "\n",
    "toPlot=3*firePos.all3.sel(model=modToPlot)\n",
    "\n",
    "plt.figure(figsize=(12,12))\n",
    "\n",
    "plt.vlines(\n",
    "    x=firePos.year, \n",
    "    ymin=0,\n",
    "    ymax=toPlot,\n",
    "    label='all3'\n",
    ")\n",
    "\n",
    "colors=['orange', 'purple', 'green']\n",
    "iCol = 0\n",
    "\n",
    "for iPair in firePos.attrs['pairs']:\n",
    "    plt.vlines(\n",
    "        x=firePos.year, \n",
    "        ymin=0,\n",
    "        ymax=2*firePos[iPair].sel(model=modToPlot),\n",
    "        color=colors[iCol],\n",
    "        label=iPair\n",
    "    )\n",
    "    iCol+=1\n",
    "plt.legend()\n",
    "plt.xlim(1850,2100)\n",
    "plt.title(modToPlot+': Pairs and all-three compounds for individal years')"
   ]
  },
  {
   "cell_type": "code",
   "execution_count": null,
   "metadata": {},
   "outputs": [],
   "source": []
  }
 ],
 "metadata": {
  "kernelspec": {
   "display_name": "Python 3",
   "language": "python",
   "name": "python3"
  },
  "language_info": {
   "codemirror_mode": {
    "name": "ipython",
    "version": 3
   },
   "file_extension": ".py",
   "mimetype": "text/x-python",
   "name": "python",
   "nbconvert_exporter": "python",
   "pygments_lexer": "ipython3",
   "version": "3.9.5"
  }
 },
 "nbformat": 4,
 "nbformat_minor": 4
}
