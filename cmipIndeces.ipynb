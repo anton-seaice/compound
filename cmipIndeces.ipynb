{
 "cells": [
  {
   "cell_type": "markdown",
   "metadata": {},
   "source": [
    "# Calculate CMIP Indeces"
   ]
  },
  {
   "cell_type": "markdown",
   "metadata": {},
   "source": [
    "This file \n",
    "1. calculates all the indeces for all months for all cesmFullForcingFiles.\n",
    "\n"
   ]
  },
  {
   "cell_type": "code",
   "execution_count": 1,
   "metadata": {
    "tags": []
   },
   "outputs": [],
   "source": [
    "#import my functions\n",
    "import helpers.fileHandler as fh\n",
    "import utils._modelDefinitions as _model\n",
    "import utils._indexDefinitions as _index\n",
    "import utils.sstIndex as sst\n",
    "import utils.pslIndex as psl\n",
    "import utils.timePeriod as tp\n",
    "\n"
   ]
  },
  {
   "cell_type": "code",
   "execution_count": 2,
   "metadata": {},
   "outputs": [],
   "source": [
    "import xarray\n",
    "import matplotlib.pyplot as plt"
   ]
  },
  {
   "cell_type": "markdown",
   "metadata": {},
   "source": [
    "# 1. Calculate CESM Indeces"
   ]
  },
  {
   "cell_type": "markdown",
   "metadata": {},
   "source": [
    "import warnings\n",
    "warnings.filterwarnings('ignore')"
   ]
  },
  {
   "cell_type": "markdown",
   "metadata": {},
   "source": [
    "For each experiment in historical, calculate indices"
   ]
  },
  {
   "cell_type": "code",
   "execution_count": 3,
   "metadata": {},
   "outputs": [],
   "source": [
    "experimentSet=['piControl', 'historical', 'ssp585']\n"
   ]
  },
  {
   "cell_type": "code",
   "execution_count": null,
   "metadata": {},
   "outputs": [
    {
     "name": "stdout",
     "output_type": "stream",
     "text": [
      "AWI-CM-1-1-MR\n",
      "E:/CMIP5-PMIP3/CMIP6/\n",
      "file not found on AWS\n",
      "Did Not Finish\n",
      "Files (filter term: areacella_fx_.*?AWI-CM-1-1-MR_piControl.*?\\.nc ) not found, possibly test name is wrong\n",
      "BCC-CSM2-MR\n",
      "E:/CMIP5-PMIP3/CMIP6/\n",
      "file not found on AWS\n",
      "Did Not Finish\n",
      "Files (filter term: areacella_fx_.*?BCC-CSM2-MR_piControl.*?\\.nc ) not found, possibly test name is wrong\n",
      "CAMS-CSM1-0\n",
      "E:/CMIP5-PMIP3/CMIP6/\n",
      "file not found on AWS\n",
      "Did Not Finish\n",
      "Files (filter term: areacella_fx_.*?CAMS-CSM1-0_piControl.*?\\.nc ) not found, possibly test name is wrong\n",
      "CAS-ESM2-0\n",
      "E:/CMIP5-PMIP3/CMIP6/\n",
      "file not found on AWS\n",
      "Did Not Finish\n",
      "Files (filter term: areacella_fx_.*?CAS-ESM2-0_piControl.*?\\.nc ) not found, possibly test name is wrong\n",
      "CESM2\n",
      "E:/CMIP5-PMIP3/CMIP6/\n",
      "Files imported: \n",
      " ['E:/CMIP5-PMIP3/CMIP6/areacella_fx_CESM2_piControl_r1i1p1f1_gn.nc']\n",
      "E:/CMIP5-PMIP3/CMIP6/\n",
      "Did Not Finish\n",
      "[Errno -101] NetCDF: HDF error: b'E:\\\\CMIP5-PMIP3\\\\CMIP6\\\\ts_Amon_CESM2_piControl_r1i1p1f1_gn_000101-009912.nc'\n",
      "CESM2-WACCM\n",
      "E:/CMIP5-PMIP3/CMIP6/\n",
      "Files imported: \n",
      " ['E:/CMIP5-PMIP3/CMIP6/areacella_fx_CESM2-WACCM_piControl_r1i1p1f1_gn.nc']\n",
      "E:/CMIP5-PMIP3/CMIP6/\n",
      "Did Not Finish\n",
      "[Errno -101] NetCDF: HDF error: b'E:\\\\CMIP5-PMIP3\\\\CMIP6\\\\ts_Amon_CESM2-WACCM_piControl_r1i1p1f1_gn_000101-009912.nc'\n",
      "CIESM\n",
      "E:/CMIP5-PMIP3/CMIP6/\n"
     ]
    },
    {
     "name": "stderr",
     "output_type": "stream",
     "text": [
      "C:\\Anaconda3\\lib\\site-packages\\xarray\\conventions.py:492: SerializationWarning: variable 'areacella' has multiple fill values {1e+20, 1e+20}, decoding all values to NaN.\n",
      "  new_vars[k] = decode_cf_variable(\n"
     ]
    },
    {
     "name": "stdout",
     "output_type": "stream",
     "text": [
      "file not found on AWS\n",
      "Did Not Finish\n",
      "Files (filter term: areacella_fx_.*?CIESM_piControl.*?\\.nc ) not found, possibly test name is wrong\n",
      "CMCC-CM2-SR5\n",
      "E:/CMIP5-PMIP3/CMIP6/\n",
      "Files imported: \n",
      " ['E:/CMIP5-PMIP3/CMIP6/areacella_fx_CMCC-CM2-SR5_piControl_r1i1p1f1_gn.nc']\n",
      "E:/CMIP5-PMIP3/CMIP6/\n",
      "file not found on AWS\n",
      "Did Not Finish\n",
      "Files (filter term: ts_Amon_.*?CMCC-CM2-SR5_piControl.*?\\.nc ) not found, possibly test name is wrong\n",
      "CMCC-ESM2\n",
      "E:/CMIP5-PMIP3/CMIP6/\n",
      "Files imported: \n",
      " ['E:/CMIP5-PMIP3/CMIP6/areacella_fx_CMCC-ESM2_piControl_r1i1p1f1_gn.nc']\n",
      "E:/CMIP5-PMIP3/CMIP6/\n",
      "file not found on AWS\n",
      "Did Not Finish\n",
      "Files (filter term: ts_Amon_.*?CMCC-ESM2_piControl.*?\\.nc ) not found, possibly test name is wrong\n",
      "CNRM-CM6-1\n",
      "E:/CMIP5-PMIP3/CMIP6/\n",
      "Files imported: \n",
      " ['E:/CMIP5-PMIP3/CMIP6/areacella_fx_CNRM-CM6-1_piControl_r1i1p1f2_gr.nc']\n",
      "E:/CMIP5-PMIP3/CMIP6/\n",
      "file not found on AWS\n",
      "Did Not Finish\n",
      "Files (filter term: ts_Amon_.*?CNRM-CM6-1_piControl.*?\\.nc ) not found, possibly test name is wrong\n",
      "CNRM-CM6-1-HR\n",
      "E:/CMIP5-PMIP3/CMIP6/\n",
      "Files imported: \n",
      " ['E:/CMIP5-PMIP3/CMIP6/areacella_fx_CNRM-CM6-1-HR_piControl_r1i1p1f2_gr.nc']\n",
      "E:/CMIP5-PMIP3/CMIP6/\n",
      "file not found on AWS\n",
      "Did Not Finish\n",
      "Files (filter term: ts_Amon_.*?CNRM-CM6-1-HR_piControl.*?\\.nc ) not found, possibly test name is wrong\n",
      "CNRM-ESM2-1\n",
      "E:/CMIP5-PMIP3/CMIP6/\n",
      "Files imported: \n",
      " ['E:/CMIP5-PMIP3/CMIP6/areacella_fx_CNRM-ESM2-1_piControl_r1i1p1f2_gr.nc']\n",
      "E:/CMIP5-PMIP3/CMIP6/\n",
      "file not found on AWS\n",
      "Did Not Finish\n",
      "Files (filter term: ts_Amon_.*?CNRM-ESM2-1_piControl.*?\\.nc ) not found, possibly test name is wrong\n",
      "CanESM5\n",
      "E:/CMIP5-PMIP3/CMIP6/\n",
      "Did Not Finish\n",
      "Could not find any dimension coordinates to use to order the datasets for concatenation\n",
      "CanESM5-CanOE\n",
      "E:/CMIP5-PMIP3/CMIP6/\n",
      "Files imported: \n",
      " ['E:/CMIP5-PMIP3/CMIP6/areacella_fx_CanESM5-CanOE_piControl_r1i1p2f1_gn.nc']\n",
      "E:/CMIP5-PMIP3/CMIP6/\n",
      "Did Not Finish\n",
      "'NoneType' object is not iterable\n",
      "E3SM-1-1\n",
      "E:/CMIP5-PMIP3/CMIP6/\n",
      "Files imported: \n",
      " ['E:/CMIP5-PMIP3/CMIP6/areacella_fx_E3SM-1-1_piControl_r1i1p1f1_gr.nc']\n",
      "E:/CMIP5-PMIP3/CMIP6/\n",
      "Did Not Finish\n",
      "[Errno -51] NetCDF: Unknown file format: b'E:\\\\CMIP5-PMIP3\\\\CMIP6\\\\ts_Amon_E3SM-1-1_piControl_r1i1p1f1_gr_185001-187412.nc'\n",
      "EC-Earth3\n",
      "E:/CMIP5-PMIP3/CMIP6/\n",
      "file not found on AWS\n",
      "Did Not Finish\n",
      "Files (filter term: areacella_fx_.*?EC-Earth3_piControl.*?\\.nc ) not found, possibly test name is wrong\n",
      "EC-Earth3-AerChem\n",
      "E:/CMIP5-PMIP3/CMIP6/\n",
      "Files imported: \n",
      " ['E:/CMIP5-PMIP3/CMIP6/areacella_fx_EC-Earth3-AerChem_piControl_r1i1p1f1_gr.nc']\n",
      "E:/CMIP5-PMIP3/CMIP6/\n",
      "file not found on AWS\n",
      "Did Not Finish\n",
      "Files (filter term: ts_Amon_.*?EC-Earth3-AerChem_piControl.*?\\.nc ) not found, possibly test name is wrong\n",
      "EC-Earth3-CC\n",
      "E:/CMIP5-PMIP3/CMIP6/\n",
      "Files imported: \n",
      " ['E:/CMIP5-PMIP3/CMIP6/areacella_fx_EC-Earth3-CC_piControl_r1i1p1f1_gr.nc']\n",
      "E:/CMIP5-PMIP3/CMIP6/\n",
      "file not found on AWS\n",
      "Did Not Finish\n",
      "Files (filter term: ts_Amon_.*?EC-Earth3-CC_piControl.*?\\.nc ) not found, possibly test name is wrong\n",
      "EC-Earth3-Veg\n",
      "E:/CMIP5-PMIP3/CMIP6/\n",
      "file not found on AWS\n",
      "Did Not Finish\n",
      "Files (filter term: areacella_fx_.*?EC-Earth3-Veg_piControl.*?\\.nc ) not found, possibly test name is wrong\n",
      "EC-Earth3-Veg-LR\n",
      "E:/CMIP5-PMIP3/CMIP6/\n",
      "file not found on AWS\n",
      "Did Not Finish\n",
      "Files (filter term: areacella_fx_.*?EC-Earth3-Veg-LR_piControl.*?\\.nc ) not found, possibly test name is wrong\n",
      "FIO-ESM-2-0\n",
      "E:/CMIP5-PMIP3/CMIP6/\n",
      "file not found on AWS\n",
      "Did Not Finish\n",
      "Files (filter term: areacella_fx_.*?FIO-ESM-2-0_piControl.*?\\.nc ) not found, possibly test name is wrong\n",
      "GFDL-CM4\n",
      "E:/CMIP5-PMIP3/CMIP6/\n",
      "Did Not Finish\n",
      "Resulting object does not have monotonic global indexes along dimension lon\n",
      "GFDL-ESM4\n",
      "E:/CMIP5-PMIP3/CMIP6/\n",
      "Files imported: \n",
      " ['E:/CMIP5-PMIP3/CMIP6/areacella_fx_GFDL-ESM4_piControl_r1i1p1f1_gr1.nc']\n",
      "E:/CMIP5-PMIP3/CMIP6/\n",
      "Did Not Finish\n",
      "[Errno -101] NetCDF: HDF error: b'E:\\\\CMIP5-PMIP3\\\\CMIP6\\\\ts_Amon_GFDL-ESM4_piControl_r1i1p1f1_gr1_000101-010012.nc'\n",
      "GISS-E2-1-G\n",
      "E:/CMIP5-PMIP3/CMIP6/\n",
      "Did Not Finish\n",
      "Could not find any dimension coordinates to use to order the datasets for concatenation\n",
      "HadGEM3-GC31-LL\n",
      "E:/CMIP5-PMIP3/CMIP6/\n",
      "Files imported: \n",
      " ['E:/CMIP5-PMIP3/CMIP6/areacella_fx_HadGEM3-GC31-LL_piControl_r1i1p1f1_gn.nc']\n",
      "E:/CMIP5-PMIP3/CMIP6/\n",
      "Downloading ts_Amon_HadGEM3-GC31-LL_piControl_r1i1p1f1_gn_185001-194912.nc\n",
      "Downloading ts_Amon_HadGEM3-GC31-LL_piControl_r1i1p1f1_gn_195001-204912.nc\n",
      "Downloading ts_Amon_HadGEM3-GC31-LL_piControl_r1i1p1f1_gn_205001-214912.nc\n",
      "Downloading ts_Amon_HadGEM3-GC31-LL_piControl_r1i1p1f1_gn_215001-224912.nc\n",
      "Downloading ts_Amon_HadGEM3-GC31-LL_piControl_r1i1p1f1_gn_225001-234912.nc\n",
      "Files imported: \n",
      " ['E:/CMIP5-PMIP3/CMIP6/ts_Amon_HadGEM3-GC31-LL_piControl_r1i1p1f1_gn_185001-194912.nc', 'E:/CMIP5-PMIP3/CMIP6/ts_Amon_HadGEM3-GC31-LL_piControl_r1i1p1f1_gn_195001-204912.nc', 'E:/CMIP5-PMIP3/CMIP6/ts_Amon_HadGEM3-GC31-LL_piControl_r1i1p1f1_gn_205001-214912.nc', 'E:/CMIP5-PMIP3/CMIP6/ts_Amon_HadGEM3-GC31-LL_piControl_r1i1p1f1_gn_215001-224912.nc', 'E:/CMIP5-PMIP3/CMIP6/ts_Amon_HadGEM3-GC31-LL_piControl_r1i1p1f1_gn_225001-234912.nc']\n",
      "Ds looks like CMIP\n",
      "E:/CMIP5-PMIP3/CMIP6/\n",
      "Files imported: \n",
      " ['E:/CMIP5-PMIP3/CMIP6/psl_Amon_HadGEM3-GC31-LL_piControl_r1i1p1f1_gn_225001-234912.nc']\n",
      "Ds looks like CMIP6\n",
      "piControl\n",
      "E:/CMIP5-PMIP3/CMIP6/\n",
      "Files imported: \n",
      " ['E:/CMIP5-PMIP3/CMIP6/ts_Amon_HadGEM3-GC31-LL_piControl_r1i1p1f1_gn_185001-194912.nc', 'E:/CMIP5-PMIP3/CMIP6/ts_Amon_HadGEM3-GC31-LL_piControl_r1i1p1f1_gn_195001-204912.nc', 'E:/CMIP5-PMIP3/CMIP6/ts_Amon_HadGEM3-GC31-LL_piControl_r1i1p1f1_gn_205001-214912.nc', 'E:/CMIP5-PMIP3/CMIP6/ts_Amon_HadGEM3-GC31-LL_piControl_r1i1p1f1_gn_215001-224912.nc', 'E:/CMIP5-PMIP3/CMIP6/ts_Amon_HadGEM3-GC31-LL_piControl_r1i1p1f1_gn_225001-234912.nc']\n",
      "Ds looks like CMIP\n"
     ]
    },
    {
     "name": "stderr",
     "output_type": "stream",
     "text": [
      "C:\\Anaconda3\\lib\\site-packages\\xarray\\core\\indexing.py:1369: PerformanceWarning: Slicing with an out-of-order index is generating 100 times more chunks\n",
      "  return self.array[key]\n",
      "C:\\Anaconda3\\lib\\site-packages\\xarray\\core\\indexing.py:1369: PerformanceWarning: Slicing with an out-of-order index is generating 100 times more chunks\n",
      "  return self.array[key]\n",
      "C:\\Anaconda3\\lib\\site-packages\\xarray\\core\\indexing.py:1369: PerformanceWarning: Slicing with an out-of-order index is generating 100 times more chunks\n",
      "  return self.array[key]\n",
      "C:\\Anaconda3\\lib\\site-packages\\xarray\\core\\indexing.py:1369: PerformanceWarning: Slicing with an out-of-order index is generating 100 times more chunks\n",
      "  return self.array[key]\n",
      "C:\\Anaconda3\\lib\\site-packages\\xarray\\core\\indexing.py:1369: PerformanceWarning: Slicing with an out-of-order index is generating 100 times more chunks\n",
      "  return self.array[key]\n"
     ]
    },
    {
     "name": "stdout",
     "output_type": "stream",
     "text": [
      "E:/CMIP5-PMIP3/CMIP6/\n",
      "Files imported: \n",
      " ['E:/CMIP5-PMIP3/CMIP6/psl_Amon_HadGEM3-GC31-LL_piControl_r1i1p1f1_gn_225001-234912.nc']\n",
      "Ds looks like CMIP6\n"
     ]
    },
    {
     "name": "stderr",
     "output_type": "stream",
     "text": [
      "C:\\Anaconda3\\lib\\site-packages\\xarray\\core\\indexing.py:1369: PerformanceWarning: Slicing with an out-of-order index is generating 100 times more chunks\n",
      "  return self.array[key]\n",
      "C:\\Anaconda3\\lib\\site-packages\\xarray\\core\\indexing.py:1369: PerformanceWarning: Slicing with an out-of-order index is generating 100 times more chunks\n",
      "  return self.array[key]\n"
     ]
    },
    {
     "name": "stdout",
     "output_type": "stream",
     "text": [
      "<xarray.Dataset>\n",
      "Dimensions:                 (time: 6000)\n",
      "Coordinates:\n",
      "  * time                    (time) object 1850-01-16 00:00:00 ... 2349-12-16 ...\n",
      "    month                   (time) float64 1.0 2.0 3.0 4.0 ... 10.0 11.0 12.0\n",
      "Data variables:\n",
      "    sam                     (time) float32 dask.array<chunksize=(4801,), meta=np.ndarray>\n",
      "    nino34NoDetrend         (time) float32 dask.array<chunksize=(1,), meta=np.ndarray>\n",
      "    nino4NoDetrend          (time) float32 dask.array<chunksize=(1,), meta=np.ndarray>\n",
      "    westIONoDetrend         (time) float32 dask.array<chunksize=(1,), meta=np.ndarray>\n",
      "    eastIONoDetrend         (time) float32 dask.array<chunksize=(1,), meta=np.ndarray>\n",
      "    backgroundSstNoDetrend  (time) float32 dask.array<chunksize=(1,), meta=np.ndarray>\n",
      "    dmi                     (time) float32 dask.array<chunksize=(1,), meta=np.ndarray>\n",
      "    nino34                  (time) float32 dask.array<chunksize=(1,), meta=np.ndarray>\n",
      "    nino4                   (time) float32 dask.array<chunksize=(1,), meta=np.ndarray>\n",
      "    westIO                  (time) float32 dask.array<chunksize=(1,), meta=np.ndarray>\n",
      "    eastIO                  (time) float32 dask.array<chunksize=(1,), meta=np.ndarray>\n",
      "    backgroundSst           (time) float32 dask.array<chunksize=(1,), meta=np.ndarray>\n"
     ]
    },
    {
     "name": "stderr",
     "output_type": "stream",
     "text": [
      "C:\\Anaconda3\\lib\\site-packages\\dask\\array\\numpy_compat.py:41: RuntimeWarning: invalid value encountered in true_divide\n",
      "  x = np.divide(x1, x2, out)\n"
     ]
    },
    {
     "name": "stdout",
     "output_type": "stream",
     "text": [
      "historical\n",
      "E:/CMIP5-PMIP3/CMIP6/\n",
      "file not found on AWS\n",
      "Did Not Finish\n",
      "Files (filter term: ts_Amon_.*?HadGEM3-GC31-LL_historical.*?\\.nc ) not found, possibly test name is wrong\n",
      "HadGEM3-GC31-MM\n",
      "E:/CMIP5-PMIP3/CMIP6/\n",
      "Files imported: \n",
      " ['E:/CMIP5-PMIP3/CMIP6/areacella_fx_HadGEM3-GC31-MM_piControl_r1i1p1f1_gn.nc']\n",
      "E:/CMIP5-PMIP3/CMIP6/\n",
      "Downloading ts_Amon_HadGEM3-GC31-MM_piControl_r1i1p1f1_gn_185001-186912.nc\n",
      "Downloading ts_Amon_HadGEM3-GC31-MM_piControl_r1i1p1f1_gn_187001-188912.nc\n",
      "Downloading ts_Amon_HadGEM3-GC31-MM_piControl_r1i1p1f1_gn_189001-190912.nc\n",
      "Downloading ts_Amon_HadGEM3-GC31-MM_piControl_r1i1p1f1_gn_193001-194912.nc\n",
      "Downloading ts_Amon_HadGEM3-GC31-MM_piControl_r1i1p1f1_gn_195001-196912.nc\n",
      "Downloading ts_Amon_HadGEM3-GC31-MM_piControl_r1i1p1f1_gn_197001-198912.nc\n",
      "Downloading ts_Amon_HadGEM3-GC31-MM_piControl_r1i1p1f1_gn_199001-200912.nc\n",
      "Downloading ts_Amon_HadGEM3-GC31-MM_piControl_r1i1p1f1_gn_201001-202912.nc\n",
      "Downloading ts_Amon_HadGEM3-GC31-MM_piControl_r1i1p1f1_gn_203001-204912.nc\n",
      "Downloading ts_Amon_HadGEM3-GC31-MM_piControl_r1i1p1f1_gn_207001-208912.nc\n"
     ]
    }
   ],
   "source": [
    "for model in _model.scenarioMIP[2:,1]:\n",
    "\n",
    "\n",
    "    \n",
    "    try: \n",
    "        print(model)\n",
    "        fxDs = fh.loadModelData(model, 'areacella_fx', 'piControl') #is the resolution the same in all th experiments?\n",
    "        #SST\n",
    "        tsDs = fh.loadModelData(model, 'ts_Amon', 'piControl')\n",
    "        controlDs=xarray.merge([tsDs.ts, fxDs.areacella])\n",
    "        controlDs=controlDs.assign_attrs({'project_id':'CMIP'})\n",
    "\n",
    "        sstClimat=sst.calculateClimatology(controlDs)\n",
    "\n",
    "        pslControlDs=fh.loadModelData(model, 'psl_Amon', 'piControl')\n",
    "        pslClimat=psl.calculateClimatology(pslControlDs)\n",
    "\n",
    "        for experiment in experimentSet: \n",
    "            print(experiment)\n",
    "            tsDs = fh.loadModelData(model, 'ts_Amon', experiment)\n",
    "            sstDs = xarray.merge([tsDs.ts, fxDs.areacella])\n",
    "            sstDs=sstDs.assign_attrs({'project_id':'CMIP'})\n",
    "\n",
    "            sstIndex = sst.calculateIndex(sstDs, sstClimat) #(reducing the model set at this step could save time?)\n",
    "\n",
    "            pslDs = fh.loadModelData(model, 'psl_Amon', experiment)\n",
    "            pslIndex, junk = psl.calculateSamIndex(pslDs, pslClimat)\n",
    "            indeces = xarray.merge([pslIndex, sstIndex])\n",
    "            indeces.assign_attrs(climatology='full length of pi Control')\n",
    "            print(indeces)\n",
    "            tp.averageForTimePeriod(indeces).to_netcdf('results/cmipMonthlyIndeces/'+model+'_'+experiment + '.nc')\n",
    "\n",
    "    except Exception as e:\n",
    "        print (\"Did Not Finish\")\n",
    "        print (e)\n",
    "        \n",
    "    else:\n",
    "        print (\"Success. Indeces Calculated\")\n",
    "\n",
    "    "
   ]
  },
  {
   "cell_type": "markdown",
   "metadata": {},
   "source": [
    "This grabs the monthly CESM indeces, and calculates the averages for the time periods of interest (aka the warm season), as set in the _indexDefitionions file\n",
    "\n",
    "Theres a few examples of output at the bottom to sanity check this is meaningful"
   ]
  },
  {
   "cell_type": "markdown",
   "metadata": {},
   "source": [
    "The indeces for each month have already been calculated. So loading up the saved versions, and putting them into a single xarray."
   ]
  },
  {
   "cell_type": "code",
   "execution_count": null,
   "metadata": {},
   "outputs": [],
   "source": [
    "for experiment in experimentSet: \n",
    "    print(experiment)\n",
    "    timePIndeces=list()\n",
    "\n",
    "    for model in modelSet:\n",
    "        print(model)\n",
    "        indecesDs = xarray.open_dataset('results/cmipMonthlyIndeces/' + model +'_'+ experiment + '.nc')\n",
    "\n",
    "        timePIndeces.append(indecesDs)\n",
    "\n",
    "    results=xarray.concat(timePIndeces, 'model')\n",
    "\n",
    "    results['model']=modelSet\n",
    "\n",
    "    results=results.assign_attrs({'experiment':experiment,**indecesDs.attrs,**_index.monthsOfInterest})\n",
    "\n",
    "    results.to_netcdf('results/cmip6'+experiment+'TradIndeces.nc')"
   ]
  },
  {
   "cell_type": "code",
   "execution_count": null,
   "metadata": {},
   "outputs": [],
   "source": [
    "results"
   ]
  },
  {
   "cell_type": "markdown",
   "metadata": {},
   "source": [
    "Some sanity checks to see if it looks ok:\n"
   ]
  },
  {
   "cell_type": "code",
   "execution_count": null,
   "metadata": {},
   "outputs": [],
   "source": [
    "results=xarray.open_dataset('results/cmip5piControlTradIndeces.nc')"
   ]
  },
  {
   "cell_type": "code",
   "execution_count": null,
   "metadata": {},
   "outputs": [],
   "source": [
    "# plotSomething\n",
    "fig = plt.figure(figsize=(12,8))\n",
    "ax = fig.add_subplot(1,1,1)\n",
    "\n",
    "results.nino34.plot(label='nino34')\n",
    "results.nino34NoDetrend.plot(label='No Detrend')\n",
    "\n",
    "#Tidy up a bit\n",
    "plt.title(\"CMIP Past 1000 Nino34\")\n",
    "plt.ylim(-4,4)\n",
    "plt.minorticks_on()\n",
    "plt.legend()"
   ]
  },
  {
   "cell_type": "code",
   "execution_count": null,
   "metadata": {},
   "outputs": [],
   "source": [
    "# A multi-experiment mean?\n",
    "\n",
    "mean = results.sam.mean(dim='experiment')\n",
    "std = results.sam.std(dim='experiment')"
   ]
  },
  {
   "cell_type": "code",
   "execution_count": null,
   "metadata": {},
   "outputs": [],
   "source": [
    "plt.figure()\n",
    "mean.plot()\n",
    "std.plot()"
   ]
  },
  {
   "cell_type": "code",
   "execution_count": null,
   "metadata": {},
   "outputs": [],
   "source": [
    "# why limit yourself to one index?\n",
    "\n",
    "mean = results.mean(dim='experiment')\n",
    "std = results.std(dim='experiment')"
   ]
  },
  {
   "cell_type": "code",
   "execution_count": null,
   "metadata": {},
   "outputs": [],
   "source": [
    "std"
   ]
  },
  {
   "cell_type": "markdown",
   "metadata": {},
   "source": [
    "# 2. Calculate Compound Years for CESM"
   ]
  },
  {
   "cell_type": "code",
   "execution_count": null,
   "metadata": {},
   "outputs": [],
   "source": [
    "# Here is the data\n",
    "indecesDs = xarray.open_dataset('results/cmip'+experiment+'TradIndeces.nc')\n",
    "\n",
    "indecesDs.experiment.values"
   ]
  },
  {
   "cell_type": "code",
   "execution_count": null,
   "metadata": {},
   "outputs": [],
   "source": [
    "indecesDs"
   ]
  },
  {
   "cell_type": "markdown",
   "metadata": {},
   "source": [
    "# Define a criteria to determine events"
   ]
  },
  {
   "cell_type": "markdown",
   "metadata": {},
   "source": [
    "So we are going to define events as follows:\n",
    "- For SST indeces (aka Enso and Iod), this is 1 sigma above/below mean\n",
    "- For PSL indeces (aka Sam) this is 0.5 sigma above/below mean\n",
    "\n",
    "For now, using a 850-1850 climatology"
   ]
  },
  {
   "cell_type": "code",
   "execution_count": null,
   "metadata": {},
   "outputs": [],
   "source": [
    "# This should calculate stds for all experiments and all indeces\n",
    "stdDa = indecesDs.std(dim='year')\n",
    "\n",
    "# define some criteria that we want to use to identifiy it thats an event\n",
    "criteriaDa= xarray.merge(\n",
    "    (stdDa[['nino34','dmi']], stdDa['sam']/2)\n",
    ")"
   ]
  },
  {
   "cell_type": "markdown",
   "metadata": {},
   "source": [
    "# Calculate the compounding years and plot an example"
   ]
  },
  {
   "cell_type": "code",
   "execution_count": null,
   "metadata": {},
   "outputs": [],
   "source": [
    "%run utils/compound.ipynb\n",
    "\n",
    "\n",
    "\n",
    "firePos, fireNeg = applyCriteria(indecesDs, criteriaDa)\n",
    "\n",
    "firePos=compound(firePos)\n",
    "\n",
    "fireNeg=compound(fireNeg)\n",
    "\n",
    "firePos.to_netcdf('results/cmip'+experiment+'FirePos.nc')\n",
    "\n",
    "fireNeg.to_netcdf('results/cmip'+experiment+'FireNeg.nc')"
   ]
  },
  {
   "cell_type": "code",
   "execution_count": null,
   "metadata": {},
   "outputs": [],
   "source": [
    "firePos"
   ]
  },
  {
   "cell_type": "code",
   "execution_count": null,
   "metadata": {},
   "outputs": [],
   "source": [
    "expToPlot = 'LME.002'\n",
    "\n",
    "toPlot=3*firePos.all3.sel(experiment=expToPlot)\n",
    "\n",
    "plt.figure(figsize=(12,12))\n",
    "\n",
    "plt.vlines(\n",
    "    x=firePos.year, \n",
    "    ymin=0,\n",
    "    ymax=toPlot,\n",
    "    label='all3'\n",
    ")\n",
    "\n",
    "colors=['orange', 'purple', 'green']\n",
    "iCol = 0\n",
    "\n",
    "for iPair in firePos.attrs['pairs']:\n",
    "    plt.vlines(\n",
    "        x=firePos.year, \n",
    "        ymin=0,\n",
    "        ymax=2*firePos[iPair].sel(experiment=expToPlot),\n",
    "        color=colors[iCol],\n",
    "        label=iPair\n",
    "    )\n",
    "    iCol+=1\n",
    "plt.legend()\n",
    "plt.xlim(1700,2100)\n",
    "plt.title(expToPlot+': Pairs and all-three compounds for individal years')"
   ]
  },
  {
   "cell_type": "code",
   "execution_count": null,
   "metadata": {},
   "outputs": [],
   "source": []
  }
 ],
 "metadata": {
  "kernelspec": {
   "display_name": "Python 3",
   "language": "python",
   "name": "python3"
  },
  "language_info": {
   "codemirror_mode": {
    "name": "ipython",
    "version": 3
   },
   "file_extension": ".py",
   "mimetype": "text/x-python",
   "name": "python",
   "nbconvert_exporter": "python",
   "pygments_lexer": "ipython3",
   "version": "3.8.5"
  }
 },
 "nbformat": 4,
 "nbformat_minor": 4
}
