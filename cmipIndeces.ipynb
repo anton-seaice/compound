{
 "cells": [
  {
   "cell_type": "markdown",
   "metadata": {},
   "source": [
    "# Calculate CMIP Indeces"
   ]
  },
  {
   "cell_type": "markdown",
   "metadata": {},
   "source": [
    "This file \n",
    "1. calculates all the indeces for all months for all cesmFullForcingFiles.\n",
    "\n"
   ]
  },
  {
   "cell_type": "code",
   "execution_count": 1,
   "metadata": {
    "tags": []
   },
   "outputs": [],
   "source": [
    "#import my functions\n",
    "import helpers.fileHandler as fh\n",
    "import utils._modelDefinitions as _model\n",
    "import utils._indexDefinitions as _index\n",
    "import utils.sstIndex as sst\n",
    "import utils.pslIndex as psl\n",
    "import utils.timePeriod as tp\n",
    "\n"
   ]
  },
  {
   "cell_type": "code",
   "execution_count": 2,
   "metadata": {},
   "outputs": [],
   "source": [
    "import xarray\n",
    "import numpy\n",
    "import matplotlib.pyplot as plt"
   ]
  },
  {
   "cell_type": "markdown",
   "metadata": {},
   "source": [
    "# 1. Calculate CESM Indeces"
   ]
  },
  {
   "cell_type": "markdown",
   "metadata": {},
   "source": [
    "import warnings\n",
    "warnings.filterwarnings('ignore')"
   ]
  },
  {
   "cell_type": "markdown",
   "metadata": {},
   "source": [
    "For each experiment in historical, calculate indices"
   ]
  },
  {
   "cell_type": "code",
   "execution_count": 3,
   "metadata": {},
   "outputs": [],
   "source": [
    "experimentSet=['piControl', 'historical', 'ssp126', 'ssp245', 'ssp370','ssp585']\n"
   ]
  },
  {
   "cell_type": "code",
   "execution_count": 4,
   "metadata": {},
   "outputs": [],
   "source": [
    "#need to double check about the model run used!\n",
    "#modelSet=_model.scenarioMIP[:,1]\n",
    "modelSet=numpy.array([\n",
    "    #['CSIRO-ARCCSS', 'ACCESS-CM2'],\n",
    "    #['CSIRO', 'ACCESS-ESM1-5'],\n",
    "    ['AWI', 'AWI-CM-1-1-MR'],\n",
    "    #['BCC', 'BCC-CSM2-MR'],\n",
    "    ['CAMS', 'CAMS-CSM1-0'],\n",
    "    ['CAS', 'CAS-ESM2-0'],\n",
    "    ['NCAR', 'CESM2'],\n",
    "    ['NCAR', 'CESM2-WACCM'],\n",
    "    ['THU', 'CIESM'],\n",
    "    ['CMCC', 'CMCC-CM2-SR5'],\n",
    "    ['CMCC', 'CMCC-ESM2'],\n",
    "    ['CNRM-CERFACS', 'CNRM-CM6-1'],\n",
    "    ['CNRM-CERFACS', 'CNRM-CM6-1-HR'],\n",
    "    ['CNRM-CERFACS', 'CNRM-ESM2-1'],\n",
    "    ['CCCma', 'CanESM5'],\n",
    "    ['CCCma', 'CanESM5-CanOE'],\n",
    "    ['E3SM-Project', 'E3SM-1-1'],\n",
    "    ['EC-Earth-Consortium', 'EC-Earth3'],\n",
    "    ['EC-Earth-Consortium', 'EC-Earth3-AerChem'],\n",
    "    ['EC-Earth-Consortium', 'EC-Earth3-CC'],\n",
    "    ['EC-Earth-Consortium', 'EC-Earth3-Veg'],\n",
    "    ['EC-Earth-Consortium', 'EC-Earth3-Veg-LR'],\n",
    "    ['FIO-QLNM', 'FIO-ESM-2-0'],\n",
    "    ['NOAA-GFDL', 'GFDL-CM4'],\n",
    "    ['NOAA-GFDL', 'GFDL-ESM4'],\n",
    "    ['NASA-GISS', 'GISS-E2-1-G'],\n",
    "    ['MOHC', 'HadGEM3-GC31-LL'],\n",
    "    ['MOHC', 'HadGEM3-GC31-MM'],\n",
    "    ['CCCR-IITM', 'IITM-ESM'],\n",
    "    ['INM', 'INM-CM4-8'],\n",
    "    ['INM', 'INM-CM5-0'],\n",
    "    ['IPSL', 'IPSL-CM5A2-INCA'],\n",
    "    ['IPSL', 'IPSL-CM6A-LR'],\n",
    "    ['NIMS-KMA', 'KACE-1-0-G'],\n",
    "    ['KIOST', 'KIOST-ESM'],\n",
    "    ['UA', 'MCM-UA-1-0'],\n",
    "    ['MIROC', 'MIROC-ES2L'],\n",
    "    ['MIROC', 'MIROC6'],\n",
    "    ['HAMMOZ-Consortium', 'MPI-ESM-1-2-HAM'],\n",
    "    ['MPI-M', 'MPI-ESM1-2-HR'],\n",
    "    ['MPI-M', 'MPI-ESM1-2-LR'],\n",
    "    ['MRI', 'MRI-ESM2-0'],\n",
    "    ['NUIST', 'NESM3'],\n",
    "    ['NCC', 'NorESM2-LM'],\n",
    "    ['NCC', 'NorESM2-MM'],\n",
    "    ['MOHC', 'UKESM1-0-LL']\n",
    "])"
   ]
  },
  {
   "cell_type": "code",
   "execution_count": 5,
   "metadata": {},
   "outputs": [
    {
     "name": "stdout",
     "output_type": "stream",
     "text": [
      "AWI-CM-1-1-MR\n"
     ]
    },
    {
     "name": "stderr",
     "output_type": "stream",
     "text": [
      "C:\\Anaconda3\\lib\\site-packages\\xarray\\core\\indexing.py:1375: PerformanceWarning: Slicing is producing a large chunk. To accept the large\n",
      "chunk and silence this warning, set the option\n",
      "    >>> with dask.config.set(**{'array.slicing.split_large_chunks': False}):\n",
      "    ...     array[indexer]\n",
      "\n",
      "To avoid creating the large chunks, set the option\n",
      "    >>> with dask.config.set(**{'array.slicing.split_large_chunks': True}):\n",
      "    ...     array[indexer]\n",
      "  value = value[(slice(None),) * axis + (subkey,)]\n"
     ]
    },
    {
     "name": "stdout",
     "output_type": "stream",
     "text": [
      "Ds looks like CMIP6\n"
     ]
    },
    {
     "name": "stderr",
     "output_type": "stream",
     "text": [
      "C:\\Anaconda3\\lib\\site-packages\\xarray\\core\\indexing.py:1375: PerformanceWarning: Slicing is producing a large chunk. To accept the large\n",
      "chunk and silence this warning, set the option\n",
      "    >>> with dask.config.set(**{'array.slicing.split_large_chunks': False}):\n",
      "    ...     array[indexer]\n",
      "\n",
      "To avoid creating the large chunks, set the option\n",
      "    >>> with dask.config.set(**{'array.slicing.split_large_chunks': True}):\n",
      "    ...     array[indexer]\n",
      "  value = value[(slice(None),) * axis + (subkey,)]\n",
      "C:\\Anaconda3\\lib\\site-packages\\dask\\array\\numpy_compat.py:41: RuntimeWarning: invalid value encountered in true_divide\n",
      "  x = np.divide(x1, x2, out)\n"
     ]
    },
    {
     "name": "stdout",
     "output_type": "stream",
     "text": [
      "piControl complete\n",
      "historical complete\n",
      "ssp126 complete\n",
      "ssp245 complete\n"
     ]
    },
    {
     "name": "stderr",
     "output_type": "stream",
     "text": [
      "C:\\Anaconda3\\lib\\site-packages\\dask\\array\\numpy_compat.py:41: RuntimeWarning: invalid value encountered in true_divide\n",
      "  x = np.divide(x1, x2, out)\n"
     ]
    },
    {
     "name": "stdout",
     "output_type": "stream",
     "text": [
      "ssp370 complete\n",
      "Experiment not completed\n",
      "CAMS-CSM1-0\n"
     ]
    },
    {
     "name": "stderr",
     "output_type": "stream",
     "text": [
      "C:\\Anaconda3\\lib\\site-packages\\xarray\\core\\indexing.py:1375: PerformanceWarning: Slicing is producing a large chunk. To accept the large\n",
      "chunk and silence this warning, set the option\n",
      "    >>> with dask.config.set(**{'array.slicing.split_large_chunks': False}):\n",
      "    ...     array[indexer]\n",
      "\n",
      "To avoid creating the large chunks, set the option\n",
      "    >>> with dask.config.set(**{'array.slicing.split_large_chunks': True}):\n",
      "    ...     array[indexer]\n",
      "  value = value[(slice(None),) * axis + (subkey,)]\n"
     ]
    },
    {
     "name": "stdout",
     "output_type": "stream",
     "text": [
      "Ds looks like CMIP6\n"
     ]
    },
    {
     "name": "stderr",
     "output_type": "stream",
     "text": [
      "C:\\Anaconda3\\lib\\site-packages\\xarray\\core\\indexing.py:1369: PerformanceWarning: Slicing with an out-of-order index is generating 250 times more chunks\n",
      "  return self.array[key]\n",
      "C:\\Anaconda3\\lib\\site-packages\\xarray\\core\\indexing.py:1369: PerformanceWarning: Slicing with an out-of-order index is generating 250 times more chunks\n",
      "  return self.array[key]\n",
      "C:\\Anaconda3\\lib\\site-packages\\xarray\\core\\indexing.py:1369: PerformanceWarning: Slicing with an out-of-order index is generating 250 times more chunks\n",
      "  return self.array[key]\n",
      "C:\\Anaconda3\\lib\\site-packages\\xarray\\core\\indexing.py:1369: PerformanceWarning: Slicing with an out-of-order index is generating 250 times more chunks\n",
      "  return self.array[key]\n",
      "C:\\Anaconda3\\lib\\site-packages\\xarray\\core\\indexing.py:1375: PerformanceWarning: Slicing is producing a large chunk. To accept the large\n",
      "chunk and silence this warning, set the option\n",
      "    >>> with dask.config.set(**{'array.slicing.split_large_chunks': False}):\n",
      "    ...     array[indexer]\n",
      "\n",
      "To avoid creating the large chunks, set the option\n",
      "    >>> with dask.config.set(**{'array.slicing.split_large_chunks': True}):\n",
      "    ...     array[indexer]\n",
      "  value = value[(slice(None),) * axis + (subkey,)]\n",
      "C:\\Anaconda3\\lib\\site-packages\\xarray\\core\\indexing.py:1369: PerformanceWarning: Slicing with an out-of-order index is generating 250 times more chunks\n",
      "  return self.array[key]\n",
      "C:\\Anaconda3\\lib\\site-packages\\xarray\\core\\indexing.py:1369: PerformanceWarning: Slicing with an out-of-order index is generating 250 times more chunks\n",
      "  return self.array[key]\n",
      "C:\\Anaconda3\\lib\\site-packages\\xarray\\core\\indexing.py:1369: PerformanceWarning: Slicing with an out-of-order index is generating 250 times more chunks\n",
      "  return self.array[key]\n"
     ]
    },
    {
     "name": "stdout",
     "output_type": "stream",
     "text": [
      "piControl complete\n"
     ]
    },
    {
     "name": "stderr",
     "output_type": "stream",
     "text": [
      "C:\\Anaconda3\\lib\\site-packages\\xarray\\core\\indexing.py:1369: PerformanceWarning: Slicing with an out-of-order index is generating 165 times more chunks\n",
      "  return self.array[key]\n",
      "C:\\Anaconda3\\lib\\site-packages\\xarray\\core\\indexing.py:1369: PerformanceWarning: Slicing with an out-of-order index is generating 165 times more chunks\n",
      "  return self.array[key]\n",
      "C:\\Anaconda3\\lib\\site-packages\\xarray\\core\\indexing.py:1369: PerformanceWarning: Slicing with an out-of-order index is generating 165 times more chunks\n",
      "  return self.array[key]\n",
      "C:\\Anaconda3\\lib\\site-packages\\xarray\\core\\indexing.py:1369: PerformanceWarning: Slicing with an out-of-order index is generating 165 times more chunks\n",
      "  return self.array[key]\n",
      "C:\\Anaconda3\\lib\\site-packages\\xarray\\core\\indexing.py:1369: PerformanceWarning: Slicing with an out-of-order index is generating 165 times more chunks\n",
      "  return self.array[key]\n"
     ]
    },
    {
     "name": "stdout",
     "output_type": "stream",
     "text": [
      "CMIP6/CMIP/CAMS/CAMS-CSM1-0/historical/r1i1p1f1\n",
      "file not found on AWS\n",
      "Experiment not completed\n"
     ]
    },
    {
     "name": "stderr",
     "output_type": "stream",
     "text": [
      "C:\\Anaconda3\\lib\\site-packages\\xarray\\core\\indexing.py:1369: PerformanceWarning: Slicing with an out-of-order index is generating 85 times more chunks\n",
      "  return self.array[key]\n",
      "C:\\Anaconda3\\lib\\site-packages\\xarray\\core\\indexing.py:1369: PerformanceWarning: Slicing with an out-of-order index is generating 85 times more chunks\n",
      "  return self.array[key]\n",
      "C:\\Anaconda3\\lib\\site-packages\\xarray\\core\\indexing.py:1369: PerformanceWarning: Slicing with an out-of-order index is generating 85 times more chunks\n",
      "  return self.array[key]\n",
      "C:\\Anaconda3\\lib\\site-packages\\xarray\\core\\indexing.py:1369: PerformanceWarning: Slicing with an out-of-order index is generating 85 times more chunks\n",
      "  return self.array[key]\n",
      "C:\\Anaconda3\\lib\\site-packages\\xarray\\core\\indexing.py:1369: PerformanceWarning: Slicing with an out-of-order index is generating 85 times more chunks\n",
      "  return self.array[key]\n",
      "C:\\Anaconda3\\lib\\site-packages\\xarray\\core\\indexing.py:1369: PerformanceWarning: Slicing with an out-of-order index is generating 85 times more chunks\n",
      "  return self.array[key]\n",
      "C:\\Anaconda3\\lib\\site-packages\\xarray\\core\\indexing.py:1369: PerformanceWarning: Slicing with an out-of-order index is generating 85 times more chunks\n",
      "  return self.array[key]\n"
     ]
    },
    {
     "name": "stdout",
     "output_type": "stream",
     "text": [
      "ssp126 complete\n"
     ]
    },
    {
     "name": "stderr",
     "output_type": "stream",
     "text": [
      "C:\\Anaconda3\\lib\\site-packages\\xarray\\core\\indexing.py:1369: PerformanceWarning: Slicing with an out-of-order index is generating 85 times more chunks\n",
      "  return self.array[key]\n",
      "C:\\Anaconda3\\lib\\site-packages\\xarray\\core\\indexing.py:1369: PerformanceWarning: Slicing with an out-of-order index is generating 85 times more chunks\n",
      "  return self.array[key]\n",
      "C:\\Anaconda3\\lib\\site-packages\\xarray\\core\\indexing.py:1369: PerformanceWarning: Slicing with an out-of-order index is generating 85 times more chunks\n",
      "  return self.array[key]\n",
      "C:\\Anaconda3\\lib\\site-packages\\xarray\\core\\indexing.py:1369: PerformanceWarning: Slicing with an out-of-order index is generating 85 times more chunks\n",
      "  return self.array[key]\n",
      "C:\\Anaconda3\\lib\\site-packages\\xarray\\core\\indexing.py:1369: PerformanceWarning: Slicing with an out-of-order index is generating 85 times more chunks\n",
      "  return self.array[key]\n",
      "C:\\Anaconda3\\lib\\site-packages\\xarray\\core\\indexing.py:1369: PerformanceWarning: Slicing with an out-of-order index is generating 85 times more chunks\n",
      "  return self.array[key]\n",
      "C:\\Anaconda3\\lib\\site-packages\\xarray\\core\\indexing.py:1369: PerformanceWarning: Slicing with an out-of-order index is generating 85 times more chunks\n",
      "  return self.array[key]\n"
     ]
    },
    {
     "name": "stdout",
     "output_type": "stream",
     "text": [
      "ssp245 complete\n"
     ]
    },
    {
     "name": "stderr",
     "output_type": "stream",
     "text": [
      "C:\\Anaconda3\\lib\\site-packages\\xarray\\core\\indexing.py:1369: PerformanceWarning: Slicing with an out-of-order index is generating 85 times more chunks\n",
      "  return self.array[key]\n",
      "C:\\Anaconda3\\lib\\site-packages\\xarray\\core\\indexing.py:1369: PerformanceWarning: Slicing with an out-of-order index is generating 85 times more chunks\n",
      "  return self.array[key]\n",
      "C:\\Anaconda3\\lib\\site-packages\\xarray\\core\\indexing.py:1369: PerformanceWarning: Slicing with an out-of-order index is generating 85 times more chunks\n",
      "  return self.array[key]\n",
      "C:\\Anaconda3\\lib\\site-packages\\xarray\\core\\indexing.py:1369: PerformanceWarning: Slicing with an out-of-order index is generating 85 times more chunks\n",
      "  return self.array[key]\n",
      "C:\\Anaconda3\\lib\\site-packages\\xarray\\core\\indexing.py:1369: PerformanceWarning: Slicing with an out-of-order index is generating 85 times more chunks\n",
      "  return self.array[key]\n",
      "C:\\Anaconda3\\lib\\site-packages\\xarray\\core\\indexing.py:1369: PerformanceWarning: Slicing with an out-of-order index is generating 85 times more chunks\n",
      "  return self.array[key]\n",
      "C:\\Anaconda3\\lib\\site-packages\\xarray\\core\\indexing.py:1369: PerformanceWarning: Slicing with an out-of-order index is generating 85 times more chunks\n",
      "  return self.array[key]\n"
     ]
    },
    {
     "name": "stdout",
     "output_type": "stream",
     "text": [
      "ssp370 complete\n"
     ]
    },
    {
     "name": "stderr",
     "output_type": "stream",
     "text": [
      "C:\\Anaconda3\\lib\\site-packages\\xarray\\core\\indexing.py:1369: PerformanceWarning: Slicing with an out-of-order index is generating 85 times more chunks\n",
      "  return self.array[key]\n",
      "C:\\Anaconda3\\lib\\site-packages\\xarray\\core\\indexing.py:1369: PerformanceWarning: Slicing with an out-of-order index is generating 85 times more chunks\n",
      "  return self.array[key]\n",
      "C:\\Anaconda3\\lib\\site-packages\\xarray\\core\\indexing.py:1369: PerformanceWarning: Slicing with an out-of-order index is generating 85 times more chunks\n",
      "  return self.array[key]\n",
      "C:\\Anaconda3\\lib\\site-packages\\xarray\\core\\indexing.py:1369: PerformanceWarning: Slicing with an out-of-order index is generating 85 times more chunks\n",
      "  return self.array[key]\n",
      "C:\\Anaconda3\\lib\\site-packages\\xarray\\core\\indexing.py:1369: PerformanceWarning: Slicing with an out-of-order index is generating 85 times more chunks\n",
      "  return self.array[key]\n"
     ]
    },
    {
     "name": "stdout",
     "output_type": "stream",
     "text": [
      "CMIP6/ScenarioMIP/CAMS/CAMS-CSM1-0/ssp585/r1i1p1f1\n",
      "file not found on AWS\n",
      "Experiment not completed\n",
      "CAS-ESM2-0\n",
      "CMIP6/CMIP/CAS/CAS-ESM2-0/piControl/r1i1p1f1\n",
      "file not found on AWS\n",
      "Climatology did not calculate\n",
      "Files (filter term: ts_Amon_.*?CAS-ESM2-0_piControl_r1i1p1f1_.*?\\.nc ) not found, possibly test name is wrong\n",
      "CESM2\n"
     ]
    },
    {
     "name": "stderr",
     "output_type": "stream",
     "text": [
      "C:\\Anaconda3\\lib\\site-packages\\xarray\\conventions.py:492: SerializationWarning: variable 'ts' has multiple fill values {1e+20, 1e+20}, decoding all values to NaN.\n",
      "  new_vars[k] = decode_cf_variable(\n",
      "C:\\Anaconda3\\lib\\site-packages\\xarray\\core\\indexing.py:1375: PerformanceWarning: Slicing is producing a large chunk. To accept the large\n",
      "chunk and silence this warning, set the option\n",
      "    >>> with dask.config.set(**{'array.slicing.split_large_chunks': False}):\n",
      "    ...     array[indexer]\n",
      "\n",
      "To avoid creating the large chunks, set the option\n",
      "    >>> with dask.config.set(**{'array.slicing.split_large_chunks': True}):\n",
      "    ...     array[indexer]\n",
      "  value = value[(slice(None),) * axis + (subkey,)]\n",
      "C:\\Anaconda3\\lib\\site-packages\\xarray\\conventions.py:492: SerializationWarning: variable 'psl' has multiple fill values {1e+20, 1e+20}, decoding all values to NaN.\n",
      "  new_vars[k] = decode_cf_variable(\n"
     ]
    },
    {
     "name": "stdout",
     "output_type": "stream",
     "text": [
      "Ds looks like CMIP6\n"
     ]
    },
    {
     "name": "stderr",
     "output_type": "stream",
     "text": [
      "C:\\Anaconda3\\lib\\site-packages\\xarray\\conventions.py:492: SerializationWarning: variable 'ts' has multiple fill values {1e+20, 1e+20}, decoding all values to NaN.\n",
      "  new_vars[k] = decode_cf_variable(\n",
      "C:\\Anaconda3\\lib\\site-packages\\xarray\\core\\indexing.py:1369: PerformanceWarning: Slicing with an out-of-order index is generating 100 times more chunks\n",
      "  return self.array[key]\n",
      "C:\\Anaconda3\\lib\\site-packages\\xarray\\core\\indexing.py:1369: PerformanceWarning: Slicing with an out-of-order index is generating 100 times more chunks\n",
      "  return self.array[key]\n",
      "C:\\Anaconda3\\lib\\site-packages\\xarray\\core\\indexing.py:1369: PerformanceWarning: Slicing with an out-of-order index is generating 100 times more chunks\n",
      "  return self.array[key]\n",
      "C:\\Anaconda3\\lib\\site-packages\\xarray\\core\\indexing.py:1369: PerformanceWarning: Slicing with an out-of-order index is generating 100 times more chunks\n",
      "  return self.array[key]\n",
      "C:\\Anaconda3\\lib\\site-packages\\xarray\\core\\indexing.py:1375: PerformanceWarning: Slicing is producing a large chunk. To accept the large\n",
      "chunk and silence this warning, set the option\n",
      "    >>> with dask.config.set(**{'array.slicing.split_large_chunks': False}):\n",
      "    ...     array[indexer]\n",
      "\n",
      "To avoid creating the large chunks, set the option\n",
      "    >>> with dask.config.set(**{'array.slicing.split_large_chunks': True}):\n",
      "    ...     array[indexer]\n",
      "  value = value[(slice(None),) * axis + (subkey,)]\n",
      "C:\\Anaconda3\\lib\\site-packages\\xarray\\core\\indexing.py:1369: PerformanceWarning: Slicing with an out-of-order index is generating 100 times more chunks\n",
      "  return self.array[key]\n",
      "C:\\Anaconda3\\lib\\site-packages\\xarray\\conventions.py:492: SerializationWarning: variable 'psl' has multiple fill values {1e+20, 1e+20}, decoding all values to NaN.\n",
      "  new_vars[k] = decode_cf_variable(\n",
      "C:\\Anaconda3\\lib\\site-packages\\xarray\\core\\indexing.py:1369: PerformanceWarning: Slicing with an out-of-order index is generating 100 times more chunks\n",
      "  return self.array[key]\n",
      "C:\\Anaconda3\\lib\\site-packages\\xarray\\core\\indexing.py:1369: PerformanceWarning: Slicing with an out-of-order index is generating 100 times more chunks\n",
      "  return self.array[key]\n"
     ]
    },
    {
     "name": "stdout",
     "output_type": "stream",
     "text": [
      "piControl complete\n"
     ]
    },
    {
     "name": "stderr",
     "output_type": "stream",
     "text": [
      "C:\\Anaconda3\\lib\\site-packages\\xarray\\conventions.py:492: SerializationWarning: variable 'ts' has multiple fill values {1e+20, 1e+20}, decoding all values to NaN.\n",
      "  new_vars[k] = decode_cf_variable(\n",
      "C:\\Anaconda3\\lib\\site-packages\\xarray\\core\\indexing.py:1369: PerformanceWarning: Slicing with an out-of-order index is generating 165 times more chunks\n",
      "  return self.array[key]\n",
      "C:\\Anaconda3\\lib\\site-packages\\xarray\\core\\indexing.py:1369: PerformanceWarning: Slicing with an out-of-order index is generating 165 times more chunks\n",
      "  return self.array[key]\n",
      "C:\\Anaconda3\\lib\\site-packages\\xarray\\core\\indexing.py:1369: PerformanceWarning: Slicing with an out-of-order index is generating 165 times more chunks\n",
      "  return self.array[key]\n",
      "C:\\Anaconda3\\lib\\site-packages\\xarray\\core\\indexing.py:1369: PerformanceWarning: Slicing with an out-of-order index is generating 165 times more chunks\n",
      "  return self.array[key]\n",
      "C:\\Anaconda3\\lib\\site-packages\\xarray\\core\\indexing.py:1369: PerformanceWarning: Slicing with an out-of-order index is generating 165 times more chunks\n",
      "  return self.array[key]\n",
      "C:\\Anaconda3\\lib\\site-packages\\xarray\\conventions.py:492: SerializationWarning: variable 'psl' has multiple fill values {1e+20, 1e+20}, decoding all values to NaN.\n",
      "  new_vars[k] = decode_cf_variable(\n",
      "C:\\Anaconda3\\lib\\site-packages\\xarray\\core\\indexing.py:1369: PerformanceWarning: Slicing with an out-of-order index is generating 165 times more chunks\n",
      "  return self.array[key]\n",
      "C:\\Anaconda3\\lib\\site-packages\\xarray\\core\\indexing.py:1369: PerformanceWarning: Slicing with an out-of-order index is generating 165 times more chunks\n",
      "  return self.array[key]\n"
     ]
    },
    {
     "name": "stdout",
     "output_type": "stream",
     "text": [
      "historical complete\n",
      "CMIP6/ScenarioMIP/NCAR/CESM2/ssp126/r1i1p1f1\n",
      "file not found on AWS\n",
      "Experiment not completed\n",
      "CMIP6/ScenarioMIP/NCAR/CESM2/ssp245/r1i1p1f1\n",
      "file not found on AWS\n",
      "Experiment not completed\n",
      "CMIP6/ScenarioMIP/NCAR/CESM2/ssp370/r1i1p1f1\n",
      "file not found on AWS\n",
      "Experiment not completed\n"
     ]
    },
    {
     "name": "stderr",
     "output_type": "stream",
     "text": [
      "C:\\Anaconda3\\lib\\site-packages\\xarray\\conventions.py:492: SerializationWarning: variable 'ts' has multiple fill values {1e+20, 1e+20}, decoding all values to NaN.\n",
      "  new_vars[k] = decode_cf_variable(\n",
      "C:\\Anaconda3\\lib\\site-packages\\xarray\\core\\indexing.py:1369: PerformanceWarning: Slicing with an out-of-order index is generating 43 times more chunks\n",
      "  return self.array[key]\n",
      "C:\\Anaconda3\\lib\\site-packages\\xarray\\core\\indexing.py:1369: PerformanceWarning: Slicing with an out-of-order index is generating 43 times more chunks\n",
      "  return self.array[key]\n",
      "C:\\Anaconda3\\lib\\site-packages\\xarray\\core\\indexing.py:1369: PerformanceWarning: Slicing with an out-of-order index is generating 43 times more chunks\n",
      "  return self.array[key]\n",
      "C:\\Anaconda3\\lib\\site-packages\\xarray\\core\\indexing.py:1369: PerformanceWarning: Slicing with an out-of-order index is generating 43 times more chunks\n",
      "  return self.array[key]\n",
      "C:\\Anaconda3\\lib\\site-packages\\xarray\\core\\indexing.py:1369: PerformanceWarning: Slicing with an out-of-order index is generating 43 times more chunks\n",
      "  return self.array[key]\n",
      "C:\\Anaconda3\\lib\\site-packages\\xarray\\conventions.py:492: SerializationWarning: variable 'psl' has multiple fill values {1e+20, 1e+20}, decoding all values to NaN.\n",
      "  new_vars[k] = decode_cf_variable(\n",
      "C:\\Anaconda3\\lib\\site-packages\\xarray\\core\\indexing.py:1369: PerformanceWarning: Slicing with an out-of-order index is generating 43 times more chunks\n",
      "  return self.array[key]\n",
      "C:\\Anaconda3\\lib\\site-packages\\xarray\\core\\indexing.py:1369: PerformanceWarning: Slicing with an out-of-order index is generating 43 times more chunks\n",
      "  return self.array[key]\n"
     ]
    },
    {
     "name": "stdout",
     "output_type": "stream",
     "text": [
      "ssp585 complete\n",
      "CESM2-WACCM\n"
     ]
    },
    {
     "name": "stderr",
     "output_type": "stream",
     "text": [
      "C:\\Anaconda3\\lib\\site-packages\\xarray\\conventions.py:492: SerializationWarning: variable 'ts' has multiple fill values {1e+20, 1e+20}, decoding all values to NaN.\n",
      "  new_vars[k] = decode_cf_variable(\n",
      "C:\\Anaconda3\\lib\\site-packages\\xarray\\core\\indexing.py:1375: PerformanceWarning: Slicing is producing a large chunk. To accept the large\n",
      "chunk and silence this warning, set the option\n",
      "    >>> with dask.config.set(**{'array.slicing.split_large_chunks': False}):\n",
      "    ...     array[indexer]\n",
      "\n",
      "To avoid creating the large chunks, set the option\n",
      "    >>> with dask.config.set(**{'array.slicing.split_large_chunks': True}):\n",
      "    ...     array[indexer]\n",
      "  value = value[(slice(None),) * axis + (subkey,)]\n",
      "C:\\Anaconda3\\lib\\site-packages\\xarray\\conventions.py:492: SerializationWarning: variable 'psl' has multiple fill values {1e+20, 1e+20}, decoding all values to NaN.\n",
      "  new_vars[k] = decode_cf_variable(\n"
     ]
    },
    {
     "name": "stdout",
     "output_type": "stream",
     "text": [
      "Ds looks like CMIP6\n"
     ]
    },
    {
     "name": "stderr",
     "output_type": "stream",
     "text": [
      "C:\\Anaconda3\\lib\\site-packages\\xarray\\conventions.py:492: SerializationWarning: variable 'ts' has multiple fill values {1e+20, 1e+20}, decoding all values to NaN.\n",
      "  new_vars[k] = decode_cf_variable(\n",
      "C:\\Anaconda3\\lib\\site-packages\\xarray\\core\\indexing.py:1369: PerformanceWarning: Slicing with an out-of-order index is generating 72 times more chunks\n",
      "  return self.array[key]\n",
      "C:\\Anaconda3\\lib\\site-packages\\xarray\\core\\indexing.py:1369: PerformanceWarning: Slicing with an out-of-order index is generating 72 times more chunks\n",
      "  return self.array[key]\n",
      "C:\\Anaconda3\\lib\\site-packages\\xarray\\core\\indexing.py:1369: PerformanceWarning: Slicing with an out-of-order index is generating 72 times more chunks\n",
      "  return self.array[key]\n",
      "C:\\Anaconda3\\lib\\site-packages\\xarray\\core\\indexing.py:1369: PerformanceWarning: Slicing with an out-of-order index is generating 72 times more chunks\n",
      "  return self.array[key]\n",
      "C:\\Anaconda3\\lib\\site-packages\\xarray\\core\\indexing.py:1375: PerformanceWarning: Slicing is producing a large chunk. To accept the large\n",
      "chunk and silence this warning, set the option\n",
      "    >>> with dask.config.set(**{'array.slicing.split_large_chunks': False}):\n",
      "    ...     array[indexer]\n",
      "\n",
      "To avoid creating the large chunks, set the option\n",
      "    >>> with dask.config.set(**{'array.slicing.split_large_chunks': True}):\n",
      "    ...     array[indexer]\n",
      "  value = value[(slice(None),) * axis + (subkey,)]\n",
      "C:\\Anaconda3\\lib\\site-packages\\xarray\\core\\indexing.py:1369: PerformanceWarning: Slicing with an out-of-order index is generating 72 times more chunks\n",
      "  return self.array[key]\n",
      "C:\\Anaconda3\\lib\\site-packages\\xarray\\conventions.py:492: SerializationWarning: variable 'psl' has multiple fill values {1e+20, 1e+20}, decoding all values to NaN.\n",
      "  new_vars[k] = decode_cf_variable(\n",
      "C:\\Anaconda3\\lib\\site-packages\\xarray\\core\\indexing.py:1369: PerformanceWarning: Slicing with an out-of-order index is generating 72 times more chunks\n",
      "  return self.array[key]\n",
      "C:\\Anaconda3\\lib\\site-packages\\xarray\\core\\indexing.py:1369: PerformanceWarning: Slicing with an out-of-order index is generating 72 times more chunks\n",
      "  return self.array[key]\n"
     ]
    },
    {
     "name": "stdout",
     "output_type": "stream",
     "text": [
      "piControl complete\n"
     ]
    },
    {
     "name": "stderr",
     "output_type": "stream",
     "text": [
      "C:\\Anaconda3\\lib\\site-packages\\xarray\\conventions.py:492: SerializationWarning: variable 'ts' has multiple fill values {1e+20, 1e+20}, decoding all values to NaN.\n",
      "  new_vars[k] = decode_cf_variable(\n",
      "C:\\Anaconda3\\lib\\site-packages\\xarray\\core\\indexing.py:1369: PerformanceWarning: Slicing with an out-of-order index is generating 165 times more chunks\n",
      "  return self.array[key]\n",
      "C:\\Anaconda3\\lib\\site-packages\\xarray\\core\\indexing.py:1369: PerformanceWarning: Slicing with an out-of-order index is generating 165 times more chunks\n",
      "  return self.array[key]\n",
      "C:\\Anaconda3\\lib\\site-packages\\xarray\\core\\indexing.py:1369: PerformanceWarning: Slicing with an out-of-order index is generating 165 times more chunks\n",
      "  return self.array[key]\n",
      "C:\\Anaconda3\\lib\\site-packages\\xarray\\core\\indexing.py:1369: PerformanceWarning: Slicing with an out-of-order index is generating 165 times more chunks\n",
      "  return self.array[key]\n",
      "C:\\Anaconda3\\lib\\site-packages\\xarray\\core\\indexing.py:1369: PerformanceWarning: Slicing with an out-of-order index is generating 165 times more chunks\n",
      "  return self.array[key]\n",
      "C:\\Anaconda3\\lib\\site-packages\\xarray\\conventions.py:492: SerializationWarning: variable 'psl' has multiple fill values {1e+20, 1e+20}, decoding all values to NaN.\n",
      "  new_vars[k] = decode_cf_variable(\n",
      "C:\\Anaconda3\\lib\\site-packages\\xarray\\core\\indexing.py:1369: PerformanceWarning: Slicing with an out-of-order index is generating 165 times more chunks\n",
      "  return self.array[key]\n",
      "C:\\Anaconda3\\lib\\site-packages\\xarray\\core\\indexing.py:1369: PerformanceWarning: Slicing with an out-of-order index is generating 165 times more chunks\n",
      "  return self.array[key]\n"
     ]
    },
    {
     "name": "stdout",
     "output_type": "stream",
     "text": [
      "historical complete\n"
     ]
    },
    {
     "name": "stderr",
     "output_type": "stream",
     "text": [
      "C:\\Anaconda3\\lib\\site-packages\\xarray\\conventions.py:492: SerializationWarning: variable 'ts' has multiple fill values {1e+20, 1e+20}, decoding all values to NaN.\n",
      "  new_vars[k] = decode_cf_variable(\n",
      "C:\\Anaconda3\\lib\\site-packages\\xarray\\core\\indexing.py:1369: PerformanceWarning: Slicing with an out-of-order index is generating 50 times more chunks\n",
      "  return self.array[key]\n",
      "C:\\Anaconda3\\lib\\site-packages\\xarray\\core\\indexing.py:1369: PerformanceWarning: Slicing with an out-of-order index is generating 50 times more chunks\n",
      "  return self.array[key]\n",
      "C:\\Anaconda3\\lib\\site-packages\\xarray\\core\\indexing.py:1369: PerformanceWarning: Slicing with an out-of-order index is generating 50 times more chunks\n",
      "  return self.array[key]\n",
      "C:\\Anaconda3\\lib\\site-packages\\xarray\\core\\indexing.py:1369: PerformanceWarning: Slicing with an out-of-order index is generating 50 times more chunks\n",
      "  return self.array[key]\n",
      "C:\\Anaconda3\\lib\\site-packages\\xarray\\core\\indexing.py:1369: PerformanceWarning: Slicing with an out-of-order index is generating 50 times more chunks\n",
      "  return self.array[key]\n",
      "C:\\Anaconda3\\lib\\site-packages\\xarray\\conventions.py:492: SerializationWarning: variable 'psl' has multiple fill values {1e+20, 1e+20}, decoding all values to NaN.\n",
      "  new_vars[k] = decode_cf_variable(\n",
      "C:\\Anaconda3\\lib\\site-packages\\xarray\\core\\indexing.py:1369: PerformanceWarning: Slicing with an out-of-order index is generating 48 times more chunks\n",
      "  return self.array[key]\n",
      "C:\\Anaconda3\\lib\\site-packages\\xarray\\core\\indexing.py:1369: PerformanceWarning: Slicing with an out-of-order index is generating 48 times more chunks\n",
      "  return self.array[key]\n",
      "C:\\Anaconda3\\lib\\site-packages\\dask\\array\\numpy_compat.py:41: RuntimeWarning: invalid value encountered in true_divide\n",
      "  x = np.divide(x1, x2, out)\n"
     ]
    },
    {
     "name": "stdout",
     "output_type": "stream",
     "text": [
      "ssp126 complete\n",
      "CMIP6/ScenarioMIP/NCAR/CESM2-WACCM/ssp245/r1i1p1f1\n",
      "file not found on AWS\n",
      "Experiment not completed\n"
     ]
    },
    {
     "name": "stderr",
     "output_type": "stream",
     "text": [
      "C:\\Anaconda3\\lib\\site-packages\\xarray\\conventions.py:492: SerializationWarning: variable 'ts' has multiple fill values {1e+20, 1e+20}, decoding all values to NaN.\n",
      "  new_vars[k] = decode_cf_variable(\n",
      "C:\\Anaconda3\\lib\\site-packages\\xarray\\core\\indexing.py:1369: PerformanceWarning: Slicing with an out-of-order index is generating 50 times more chunks\n",
      "  return self.array[key]\n",
      "C:\\Anaconda3\\lib\\site-packages\\xarray\\core\\indexing.py:1369: PerformanceWarning: Slicing with an out-of-order index is generating 50 times more chunks\n",
      "  return self.array[key]\n",
      "C:\\Anaconda3\\lib\\site-packages\\xarray\\core\\indexing.py:1369: PerformanceWarning: Slicing with an out-of-order index is generating 50 times more chunks\n",
      "  return self.array[key]\n",
      "C:\\Anaconda3\\lib\\site-packages\\xarray\\core\\indexing.py:1369: PerformanceWarning: Slicing with an out-of-order index is generating 50 times more chunks\n",
      "  return self.array[key]\n",
      "C:\\Anaconda3\\lib\\site-packages\\xarray\\core\\indexing.py:1369: PerformanceWarning: Slicing with an out-of-order index is generating 50 times more chunks\n",
      "  return self.array[key]\n",
      "C:\\Anaconda3\\lib\\site-packages\\xarray\\conventions.py:492: SerializationWarning: variable 'psl' has multiple fill values {1e+20, 1e+20}, decoding all values to NaN.\n",
      "  new_vars[k] = decode_cf_variable(\n",
      "C:\\Anaconda3\\lib\\site-packages\\xarray\\core\\indexing.py:1369: PerformanceWarning: Slicing with an out-of-order index is generating 43 times more chunks\n",
      "  return self.array[key]\n",
      "C:\\Anaconda3\\lib\\site-packages\\xarray\\core\\indexing.py:1369: PerformanceWarning: Slicing with an out-of-order index is generating 43 times more chunks\n",
      "  return self.array[key]\n",
      "C:\\Anaconda3\\lib\\site-packages\\dask\\array\\numpy_compat.py:41: RuntimeWarning: invalid value encountered in true_divide\n",
      "  x = np.divide(x1, x2, out)\n"
     ]
    },
    {
     "name": "stdout",
     "output_type": "stream",
     "text": [
      "ssp370 complete\n"
     ]
    },
    {
     "name": "stderr",
     "output_type": "stream",
     "text": [
      "C:\\Anaconda3\\lib\\site-packages\\xarray\\conventions.py:492: SerializationWarning: variable 'ts' has multiple fill values {1e+20, 1e+20}, decoding all values to NaN.\n",
      "  new_vars[k] = decode_cf_variable(\n",
      "C:\\Anaconda3\\lib\\site-packages\\xarray\\core\\indexing.py:1369: PerformanceWarning: Slicing with an out-of-order index is generating 50 times more chunks\n",
      "  return self.array[key]\n",
      "C:\\Anaconda3\\lib\\site-packages\\xarray\\core\\indexing.py:1369: PerformanceWarning: Slicing with an out-of-order index is generating 50 times more chunks\n",
      "  return self.array[key]\n",
      "C:\\Anaconda3\\lib\\site-packages\\xarray\\core\\indexing.py:1369: PerformanceWarning: Slicing with an out-of-order index is generating 50 times more chunks\n",
      "  return self.array[key]\n",
      "C:\\Anaconda3\\lib\\site-packages\\xarray\\core\\indexing.py:1369: PerformanceWarning: Slicing with an out-of-order index is generating 50 times more chunks\n",
      "  return self.array[key]\n",
      "C:\\Anaconda3\\lib\\site-packages\\xarray\\core\\indexing.py:1369: PerformanceWarning: Slicing with an out-of-order index is generating 50 times more chunks\n",
      "  return self.array[key]\n",
      "C:\\Anaconda3\\lib\\site-packages\\xarray\\conventions.py:492: SerializationWarning: variable 'psl' has multiple fill values {1e+20, 1e+20}, decoding all values to NaN.\n",
      "  new_vars[k] = decode_cf_variable(\n",
      "C:\\Anaconda3\\lib\\site-packages\\xarray\\core\\indexing.py:1369: PerformanceWarning: Slicing with an out-of-order index is generating 50 times more chunks\n",
      "  return self.array[key]\n",
      "C:\\Anaconda3\\lib\\site-packages\\xarray\\core\\indexing.py:1369: PerformanceWarning: Slicing with an out-of-order index is generating 50 times more chunks\n",
      "  return self.array[key]\n",
      "C:\\Anaconda3\\lib\\site-packages\\dask\\array\\numpy_compat.py:41: RuntimeWarning: invalid value encountered in true_divide\n",
      "  x = np.divide(x1, x2, out)\n"
     ]
    },
    {
     "name": "stdout",
     "output_type": "stream",
     "text": [
      "ssp585 complete\n",
      "CIESM\n"
     ]
    },
    {
     "name": "stderr",
     "output_type": "stream",
     "text": [
      "C:\\Anaconda3\\lib\\site-packages\\xarray\\core\\indexing.py:1375: PerformanceWarning: Slicing is producing a large chunk. To accept the large\n",
      "chunk and silence this warning, set the option\n",
      "    >>> with dask.config.set(**{'array.slicing.split_large_chunks': False}):\n",
      "    ...     array[indexer]\n",
      "\n",
      "To avoid creating the large chunks, set the option\n",
      "    >>> with dask.config.set(**{'array.slicing.split_large_chunks': True}):\n",
      "    ...     array[indexer]\n",
      "  value = value[(slice(None),) * axis + (subkey,)]\n"
     ]
    },
    {
     "name": "stdout",
     "output_type": "stream",
     "text": [
      "Ds looks like CMIP6\n"
     ]
    },
    {
     "name": "stderr",
     "output_type": "stream",
     "text": [
      "C:\\Anaconda3\\lib\\site-packages\\xarray\\core\\indexing.py:1369: PerformanceWarning: Slicing with an out-of-order index is generating 50 times more chunks\n",
      "  return self.array[key]\n",
      "C:\\Anaconda3\\lib\\site-packages\\xarray\\core\\indexing.py:1369: PerformanceWarning: Slicing with an out-of-order index is generating 50 times more chunks\n",
      "  return self.array[key]\n",
      "C:\\Anaconda3\\lib\\site-packages\\xarray\\core\\indexing.py:1369: PerformanceWarning: Slicing with an out-of-order index is generating 50 times more chunks\n",
      "  return self.array[key]\n",
      "C:\\Anaconda3\\lib\\site-packages\\xarray\\core\\indexing.py:1369: PerformanceWarning: Slicing with an out-of-order index is generating 50 times more chunks\n",
      "  return self.array[key]\n",
      "C:\\Anaconda3\\lib\\site-packages\\xarray\\core\\indexing.py:1375: PerformanceWarning: Slicing is producing a large chunk. To accept the large\n",
      "chunk and silence this warning, set the option\n",
      "    >>> with dask.config.set(**{'array.slicing.split_large_chunks': False}):\n",
      "    ...     array[indexer]\n",
      "\n",
      "To avoid creating the large chunks, set the option\n",
      "    >>> with dask.config.set(**{'array.slicing.split_large_chunks': True}):\n",
      "    ...     array[indexer]\n",
      "  value = value[(slice(None),) * axis + (subkey,)]\n",
      "C:\\Anaconda3\\lib\\site-packages\\xarray\\core\\indexing.py:1369: PerformanceWarning: Slicing with an out-of-order index is generating 50 times more chunks\n",
      "  return self.array[key]\n",
      "C:\\Anaconda3\\lib\\site-packages\\xarray\\core\\indexing.py:1369: PerformanceWarning: Slicing with an out-of-order index is generating 50 times more chunks\n",
      "  return self.array[key]\n",
      "C:\\Anaconda3\\lib\\site-packages\\xarray\\core\\indexing.py:1369: PerformanceWarning: Slicing with an out-of-order index is generating 50 times more chunks\n",
      "  return self.array[key]\n"
     ]
    },
    {
     "name": "stdout",
     "output_type": "stream",
     "text": [
      "piControl complete\n"
     ]
    },
    {
     "name": "stderr",
     "output_type": "stream",
     "text": [
      "C:\\Anaconda3\\lib\\site-packages\\xarray\\core\\indexing.py:1369: PerformanceWarning: Slicing with an out-of-order index is generating 165 times more chunks\n",
      "  return self.array[key]\n",
      "C:\\Anaconda3\\lib\\site-packages\\xarray\\core\\indexing.py:1369: PerformanceWarning: Slicing with an out-of-order index is generating 165 times more chunks\n",
      "  return self.array[key]\n",
      "C:\\Anaconda3\\lib\\site-packages\\xarray\\core\\indexing.py:1369: PerformanceWarning: Slicing with an out-of-order index is generating 165 times more chunks\n",
      "  return self.array[key]\n",
      "C:\\Anaconda3\\lib\\site-packages\\xarray\\core\\indexing.py:1369: PerformanceWarning: Slicing with an out-of-order index is generating 165 times more chunks\n",
      "  return self.array[key]\n",
      "C:\\Anaconda3\\lib\\site-packages\\xarray\\core\\indexing.py:1369: PerformanceWarning: Slicing with an out-of-order index is generating 165 times more chunks\n",
      "  return self.array[key]\n",
      "C:\\Anaconda3\\lib\\site-packages\\xarray\\core\\indexing.py:1369: PerformanceWarning: Slicing with an out-of-order index is generating 165 times more chunks\n",
      "  return self.array[key]\n",
      "C:\\Anaconda3\\lib\\site-packages\\xarray\\core\\indexing.py:1369: PerformanceWarning: Slicing with an out-of-order index is generating 165 times more chunks\n",
      "  return self.array[key]\n"
     ]
    },
    {
     "name": "stdout",
     "output_type": "stream",
     "text": [
      "historical complete\n",
      "CMIP6/ScenarioMIP/THU/CIESM/ssp126/r1i1p1f1\n",
      "file not found on AWS\n",
      "Experiment not completed\n",
      "CMIP6/ScenarioMIP/THU/CIESM/ssp245/r1i1p1f1\n",
      "file not found on AWS\n",
      "Experiment not completed\n",
      "CMIP6/ScenarioMIP/THU/CIESM/ssp370/r1i1p1f1\n",
      "Experiment not completed\n"
     ]
    },
    {
     "name": "stderr",
     "output_type": "stream",
     "text": [
      "C:\\Anaconda3\\lib\\site-packages\\xarray\\core\\indexing.py:1369: PerformanceWarning: Slicing with an out-of-order index is generating 86 times more chunks\n",
      "  return self.array[key]\n",
      "C:\\Anaconda3\\lib\\site-packages\\xarray\\core\\indexing.py:1369: PerformanceWarning: Slicing with an out-of-order index is generating 86 times more chunks\n",
      "  return self.array[key]\n",
      "C:\\Anaconda3\\lib\\site-packages\\xarray\\core\\indexing.py:1369: PerformanceWarning: Slicing with an out-of-order index is generating 86 times more chunks\n",
      "  return self.array[key]\n",
      "C:\\Anaconda3\\lib\\site-packages\\xarray\\core\\indexing.py:1369: PerformanceWarning: Slicing with an out-of-order index is generating 86 times more chunks\n",
      "  return self.array[key]\n",
      "C:\\Anaconda3\\lib\\site-packages\\xarray\\core\\indexing.py:1369: PerformanceWarning: Slicing with an out-of-order index is generating 86 times more chunks\n",
      "  return self.array[key]\n"
     ]
    },
    {
     "name": "stdout",
     "output_type": "stream",
     "text": [
      "CMIP6/ScenarioMIP/THU/CIESM/ssp585/r1i1p1f1\n",
      "file not found on AWS\n",
      "Experiment not completed\n",
      "CMCC-CM2-SR5\n",
      "CMIP6/CMIP/CMCC/CMCC-CM2-SR5/piControl/r1i1p1f1\n",
      "file not found on AWS\n",
      "Climatology did not calculate\n",
      "Files (filter term: ts_Amon_.*?CMCC-CM2-SR5_piControl_r1i1p1f1_.*?\\.nc ) not found, possibly test name is wrong\n",
      "CMCC-ESM2\n",
      "CMIP6/CMIP/CMCC/CMCC-ESM2/piControl/r1i1p1f1\n",
      "file not found on AWS\n",
      "Climatology did not calculate\n",
      "Files (filter term: ts_Amon_.*?CMCC-ESM2_piControl_r1i1p1f1_.*?\\.nc ) not found, possibly test name is wrong\n",
      "CNRM-CM6-1\n",
      "CMIP6/CMIP/CNRM-CERFACS/CNRM-CM6-1/piControl/r1i1p1f1\n",
      "Climatology did not calculate\n",
      "'NoneType' object is not iterable\n",
      "CNRM-CM6-1-HR\n",
      "CMIP6/CMIP/CNRM-CERFACS/CNRM-CM6-1-HR/piControl/r1i1p1f1\n",
      "Climatology did not calculate\n",
      "'NoneType' object is not iterable\n",
      "CNRM-ESM2-1\n",
      "CMIP6/CMIP/CNRM-CERFACS/CNRM-ESM2-1/piControl/r1i1p1f1\n",
      "Climatology did not calculate\n",
      "'NoneType' object is not iterable\n",
      "CanESM5\n",
      "Ds looks like CMIP6\n"
     ]
    },
    {
     "name": "stderr",
     "output_type": "stream",
     "text": [
      "C:\\Anaconda3\\lib\\site-packages\\xarray\\core\\indexing.py:1369: PerformanceWarning: Slicing with an out-of-order index is generating 200 times more chunks\n",
      "  return self.array[key]\n",
      "C:\\Anaconda3\\lib\\site-packages\\xarray\\core\\indexing.py:1369: PerformanceWarning: Slicing with an out-of-order index is generating 200 times more chunks\n",
      "  return self.array[key]\n",
      "C:\\Anaconda3\\lib\\site-packages\\xarray\\core\\indexing.py:1369: PerformanceWarning: Slicing with an out-of-order index is generating 200 times more chunks\n",
      "  return self.array[key]\n",
      "C:\\Anaconda3\\lib\\site-packages\\xarray\\core\\indexing.py:1369: PerformanceWarning: Slicing with an out-of-order index is generating 200 times more chunks\n",
      "  return self.array[key]\n",
      "C:\\Anaconda3\\lib\\site-packages\\xarray\\core\\indexing.py:1369: PerformanceWarning: Slicing with an out-of-order index is generating 200 times more chunks\n",
      "  return self.array[key]\n",
      "C:\\Anaconda3\\lib\\site-packages\\xarray\\core\\indexing.py:1369: PerformanceWarning: Slicing with an out-of-order index is generating 200 times more chunks\n",
      "  return self.array[key]\n",
      "C:\\Anaconda3\\lib\\site-packages\\xarray\\core\\indexing.py:1369: PerformanceWarning: Slicing with an out-of-order index is generating 200 times more chunks\n",
      "  return self.array[key]\n",
      "C:\\Anaconda3\\lib\\site-packages\\dask\\array\\numpy_compat.py:41: RuntimeWarning: invalid value encountered in true_divide\n",
      "  x = np.divide(x1, x2, out)\n"
     ]
    },
    {
     "name": "stdout",
     "output_type": "stream",
     "text": [
      "piControl complete\n"
     ]
    },
    {
     "name": "stderr",
     "output_type": "stream",
     "text": [
      "C:\\Anaconda3\\lib\\site-packages\\xarray\\core\\indexing.py:1369: PerformanceWarning: Slicing with an out-of-order index is generating 165 times more chunks\n",
      "  return self.array[key]\n",
      "C:\\Anaconda3\\lib\\site-packages\\xarray\\core\\indexing.py:1369: PerformanceWarning: Slicing with an out-of-order index is generating 165 times more chunks\n",
      "  return self.array[key]\n",
      "C:\\Anaconda3\\lib\\site-packages\\xarray\\core\\indexing.py:1369: PerformanceWarning: Slicing with an out-of-order index is generating 165 times more chunks\n",
      "  return self.array[key]\n",
      "C:\\Anaconda3\\lib\\site-packages\\xarray\\core\\indexing.py:1369: PerformanceWarning: Slicing with an out-of-order index is generating 165 times more chunks\n",
      "  return self.array[key]\n",
      "C:\\Anaconda3\\lib\\site-packages\\xarray\\core\\indexing.py:1369: PerformanceWarning: Slicing with an out-of-order index is generating 165 times more chunks\n",
      "  return self.array[key]\n",
      "C:\\Anaconda3\\lib\\site-packages\\xarray\\core\\indexing.py:1369: PerformanceWarning: Slicing with an out-of-order index is generating 165 times more chunks\n",
      "  return self.array[key]\n",
      "C:\\Anaconda3\\lib\\site-packages\\xarray\\core\\indexing.py:1369: PerformanceWarning: Slicing with an out-of-order index is generating 165 times more chunks\n",
      "  return self.array[key]\n"
     ]
    },
    {
     "name": "stdout",
     "output_type": "stream",
     "text": [
      "historical complete\n",
      "Experiment not completed\n",
      "Experiment not completed\n",
      "Experiment not completed\n"
     ]
    },
    {
     "name": "stderr",
     "output_type": "stream",
     "text": [
      "C:\\Anaconda3\\lib\\site-packages\\xarray\\core\\indexing.py:1369: PerformanceWarning: Slicing with an out-of-order index is generating 96 times more chunks\n",
      "  return self.array[key]\n",
      "C:\\Anaconda3\\lib\\site-packages\\xarray\\core\\indexing.py:1369: PerformanceWarning: Slicing with an out-of-order index is generating 96 times more chunks\n",
      "  return self.array[key]\n",
      "C:\\Anaconda3\\lib\\site-packages\\xarray\\core\\indexing.py:1369: PerformanceWarning: Slicing with an out-of-order index is generating 96 times more chunks\n",
      "  return self.array[key]\n",
      "C:\\Anaconda3\\lib\\site-packages\\xarray\\core\\indexing.py:1369: PerformanceWarning: Slicing with an out-of-order index is generating 96 times more chunks\n",
      "  return self.array[key]\n",
      "C:\\Anaconda3\\lib\\site-packages\\xarray\\core\\indexing.py:1369: PerformanceWarning: Slicing with an out-of-order index is generating 96 times more chunks\n",
      "  return self.array[key]\n",
      "C:\\Anaconda3\\lib\\site-packages\\xarray\\core\\indexing.py:1369: PerformanceWarning: Slicing with an out-of-order index is generating 96 times more chunks\n",
      "  return self.array[key]\n",
      "C:\\Anaconda3\\lib\\site-packages\\xarray\\core\\indexing.py:1369: PerformanceWarning: Slicing with an out-of-order index is generating 96 times more chunks\n",
      "  return self.array[key]\n"
     ]
    },
    {
     "name": "stdout",
     "output_type": "stream",
     "text": [
      "ssp585 complete\n",
      "CanESM5-CanOE\n",
      "CMIP6/CMIP/CCCma/CanESM5-CanOE/piControl/r1i1p1f1\n",
      "Climatology did not calculate\n",
      "'NoneType' object is not iterable\n",
      "E3SM-1-1\n",
      "Climatology did not calculate\n",
      "[Errno -51] NetCDF: Unknown file format: b'E:\\\\CMIP5-PMIP3\\\\CMIP6\\\\ts_Amon_E3SM-1-1_piControl_r1i1p1f1_gr_185001-187412.nc'\n",
      "EC-Earth3\n",
      "CMIP6/CMIP/EC-Earth-Consortium/EC-Earth3/piControl/r1i1p1f1\n",
      "file not found on AWS\n",
      "Climatology did not calculate\n",
      "Files (filter term: ts_Amon_.*?EC-Earth3_piControl_r1i1p1f1_.*?\\.nc ) not found, possibly test name is wrong\n",
      "EC-Earth3-AerChem\n",
      "CMIP6/CMIP/EC-Earth-Consortium/EC-Earth3-AerChem/piControl/r1i1p1f1\n",
      "file not found on AWS\n",
      "Climatology did not calculate\n",
      "Files (filter term: ts_Amon_.*?EC-Earth3-AerChem_piControl_r1i1p1f1_.*?\\.nc ) not found, possibly test name is wrong\n",
      "EC-Earth3-CC\n",
      "CMIP6/CMIP/EC-Earth-Consortium/EC-Earth3-CC/piControl/r1i1p1f1\n",
      "file not found on AWS\n",
      "Climatology did not calculate\n",
      "Files (filter term: ts_Amon_.*?EC-Earth3-CC_piControl_r1i1p1f1_.*?\\.nc ) not found, possibly test name is wrong\n",
      "EC-Earth3-Veg\n",
      "CMIP6/CMIP/EC-Earth-Consortium/EC-Earth3-Veg/piControl/r1i1p1f1\n",
      "file not found on AWS\n",
      "Climatology did not calculate\n",
      "Files (filter term: ts_Amon_.*?EC-Earth3-Veg_piControl_r1i1p1f1_.*?\\.nc ) not found, possibly test name is wrong\n",
      "EC-Earth3-Veg-LR\n",
      "CMIP6/CMIP/EC-Earth-Consortium/EC-Earth3-Veg-LR/piControl/r1i1p1f1\n",
      "file not found on AWS\n",
      "Climatology did not calculate\n",
      "Files (filter term: ts_Amon_.*?EC-Earth3-Veg-LR_piControl_r1i1p1f1_.*?\\.nc ) not found, possibly test name is wrong\n",
      "FIO-ESM-2-0\n"
     ]
    },
    {
     "name": "stderr",
     "output_type": "stream",
     "text": [
      "C:\\Anaconda3\\lib\\site-packages\\xarray\\core\\indexing.py:1375: PerformanceWarning: Slicing is producing a large chunk. To accept the large\n",
      "chunk and silence this warning, set the option\n",
      "    >>> with dask.config.set(**{'array.slicing.split_large_chunks': False}):\n",
      "    ...     array[indexer]\n",
      "\n",
      "To avoid creating the large chunks, set the option\n",
      "    >>> with dask.config.set(**{'array.slicing.split_large_chunks': True}):\n",
      "    ...     array[indexer]\n",
      "  value = value[(slice(None),) * axis + (subkey,)]\n"
     ]
    },
    {
     "name": "stdout",
     "output_type": "stream",
     "text": [
      "CMIP6/CMIP/FIO-QLNM/FIO-ESM-2-0/piControl/r1i1p1f1\n",
      "file not found on AWS\n",
      "Climatology did not calculate\n",
      "Files (filter term: psl_Amon_.*?FIO-ESM-2-0_piControl_r1i1p1f1_.*?\\.nc ) not found, possibly test name is wrong\n",
      "GFDL-CM4\n",
      "Ds looks like CMIP6\n"
     ]
    },
    {
     "name": "stderr",
     "output_type": "stream",
     "text": [
      "C:\\Anaconda3\\lib\\site-packages\\xarray\\core\\indexing.py:1369: PerformanceWarning: Slicing with an out-of-order index is generating 100 times more chunks\n",
      "  return self.array[key]\n",
      "C:\\Anaconda3\\lib\\site-packages\\xarray\\core\\indexing.py:1369: PerformanceWarning: Slicing with an out-of-order index is generating 100 times more chunks\n",
      "  return self.array[key]\n",
      "C:\\Anaconda3\\lib\\site-packages\\xarray\\core\\indexing.py:1369: PerformanceWarning: Slicing with an out-of-order index is generating 100 times more chunks\n",
      "  return self.array[key]\n",
      "C:\\Anaconda3\\lib\\site-packages\\xarray\\core\\indexing.py:1369: PerformanceWarning: Slicing with an out-of-order index is generating 100 times more chunks\n",
      "  return self.array[key]\n",
      "C:\\Anaconda3\\lib\\site-packages\\xarray\\core\\indexing.py:1369: PerformanceWarning: Slicing with an out-of-order index is generating 100 times more chunks\n",
      "  return self.array[key]\n",
      "C:\\Anaconda3\\lib\\site-packages\\xarray\\core\\indexing.py:1369: PerformanceWarning: Slicing with an out-of-order index is generating 100 times more chunks\n",
      "  return self.array[key]\n",
      "C:\\Anaconda3\\lib\\site-packages\\xarray\\core\\indexing.py:1369: PerformanceWarning: Slicing with an out-of-order index is generating 100 times more chunks\n",
      "  return self.array[key]\n"
     ]
    },
    {
     "name": "stdout",
     "output_type": "stream",
     "text": [
      "piControl complete\n"
     ]
    },
    {
     "name": "stderr",
     "output_type": "stream",
     "text": [
      "C:\\Anaconda3\\lib\\site-packages\\xarray\\core\\indexing.py:1369: PerformanceWarning: Slicing with an out-of-order index is generating 83 times more chunks\n",
      "  return self.array[key]\n",
      "C:\\Anaconda3\\lib\\site-packages\\xarray\\core\\indexing.py:1369: PerformanceWarning: Slicing with an out-of-order index is generating 83 times more chunks\n",
      "  return self.array[key]\n",
      "C:\\Anaconda3\\lib\\site-packages\\xarray\\core\\indexing.py:1369: PerformanceWarning: Slicing with an out-of-order index is generating 83 times more chunks\n",
      "  return self.array[key]\n",
      "C:\\Anaconda3\\lib\\site-packages\\xarray\\core\\indexing.py:1369: PerformanceWarning: Slicing with an out-of-order index is generating 83 times more chunks\n",
      "  return self.array[key]\n",
      "C:\\Anaconda3\\lib\\site-packages\\xarray\\core\\indexing.py:1369: PerformanceWarning: Slicing with an out-of-order index is generating 83 times more chunks\n",
      "  return self.array[key]\n",
      "C:\\Anaconda3\\lib\\site-packages\\xarray\\core\\indexing.py:1369: PerformanceWarning: Slicing with an out-of-order index is generating 83 times more chunks\n",
      "  return self.array[key]\n",
      "C:\\Anaconda3\\lib\\site-packages\\xarray\\core\\indexing.py:1369: PerformanceWarning: Slicing with an out-of-order index is generating 83 times more chunks\n",
      "  return self.array[key]\n"
     ]
    },
    {
     "name": "stdout",
     "output_type": "stream",
     "text": [
      "historical complete\n",
      "CMIP6/ScenarioMIP/NOAA-GFDL/GFDL-CM4/ssp126/r1i1p1f1\n",
      "Experiment not completed\n",
      "CMIP6/ScenarioMIP/NOAA-GFDL/GFDL-CM4/ssp245/r1i1p1f1\n",
      "Downloading ts_Amon_GFDL-CM4_ssp245_r1i1p1f1_gr1_201501-210012.nc\n"
     ]
    },
    {
     "name": "stderr",
     "output_type": "stream",
     "text": [
      "C:\\Anaconda3\\lib\\site-packages\\xarray\\core\\indexing.py:1369: PerformanceWarning: Slicing with an out-of-order index is generating 86 times more chunks\n",
      "  return self.array[key]\n",
      "C:\\Anaconda3\\lib\\site-packages\\xarray\\core\\indexing.py:1369: PerformanceWarning: Slicing with an out-of-order index is generating 86 times more chunks\n",
      "  return self.array[key]\n",
      "C:\\Anaconda3\\lib\\site-packages\\xarray\\core\\indexing.py:1369: PerformanceWarning: Slicing with an out-of-order index is generating 86 times more chunks\n",
      "  return self.array[key]\n",
      "C:\\Anaconda3\\lib\\site-packages\\xarray\\core\\indexing.py:1369: PerformanceWarning: Slicing with an out-of-order index is generating 86 times more chunks\n",
      "  return self.array[key]\n",
      "C:\\Anaconda3\\lib\\site-packages\\xarray\\core\\indexing.py:1369: PerformanceWarning: Slicing with an out-of-order index is generating 86 times more chunks\n",
      "  return self.array[key]\n"
     ]
    },
    {
     "name": "stdout",
     "output_type": "stream",
     "text": [
      "CMIP6/ScenarioMIP/NOAA-GFDL/GFDL-CM4/ssp245/r1i1p1f1\n",
      "Downloading psl_Amon_GFDL-CM4_ssp245_r1i1p1f1_gr1_201501-210012.nc\n"
     ]
    },
    {
     "name": "stderr",
     "output_type": "stream",
     "text": [
      "C:\\Anaconda3\\lib\\site-packages\\xarray\\core\\indexing.py:1369: PerformanceWarning: Slicing with an out-of-order index is generating 86 times more chunks\n",
      "  return self.array[key]\n",
      "C:\\Anaconda3\\lib\\site-packages\\xarray\\core\\indexing.py:1369: PerformanceWarning: Slicing with an out-of-order index is generating 86 times more chunks\n",
      "  return self.array[key]\n"
     ]
    },
    {
     "name": "stdout",
     "output_type": "stream",
     "text": [
      "ssp245 complete\n",
      "CMIP6/ScenarioMIP/NOAA-GFDL/GFDL-CM4/ssp370/r1i1p1f1\n",
      "Experiment not completed\n",
      "CMIP6/ScenarioMIP/NOAA-GFDL/GFDL-CM4/ssp585/r1i1p1f1\n",
      "Downloading ts_Amon_GFDL-CM4_ssp585_r1i1p1f1_gr1_201501-210012.nc\n"
     ]
    },
    {
     "name": "stderr",
     "output_type": "stream",
     "text": [
      "C:\\Anaconda3\\lib\\site-packages\\xarray\\core\\indexing.py:1369: PerformanceWarning: Slicing with an out-of-order index is generating 86 times more chunks\n",
      "  return self.array[key]\n",
      "C:\\Anaconda3\\lib\\site-packages\\xarray\\core\\indexing.py:1369: PerformanceWarning: Slicing with an out-of-order index is generating 86 times more chunks\n",
      "  return self.array[key]\n",
      "C:\\Anaconda3\\lib\\site-packages\\xarray\\core\\indexing.py:1369: PerformanceWarning: Slicing with an out-of-order index is generating 86 times more chunks\n",
      "  return self.array[key]\n",
      "C:\\Anaconda3\\lib\\site-packages\\xarray\\core\\indexing.py:1369: PerformanceWarning: Slicing with an out-of-order index is generating 86 times more chunks\n",
      "  return self.array[key]\n",
      "C:\\Anaconda3\\lib\\site-packages\\xarray\\core\\indexing.py:1369: PerformanceWarning: Slicing with an out-of-order index is generating 86 times more chunks\n",
      "  return self.array[key]\n"
     ]
    },
    {
     "name": "stdout",
     "output_type": "stream",
     "text": [
      "CMIP6/ScenarioMIP/NOAA-GFDL/GFDL-CM4/ssp585/r1i1p1f1\n",
      "Downloading psl_Amon_GFDL-CM4_ssp585_r1i1p1f1_gr1_201501-210012.nc\n"
     ]
    },
    {
     "name": "stderr",
     "output_type": "stream",
     "text": [
      "C:\\Anaconda3\\lib\\site-packages\\xarray\\core\\indexing.py:1369: PerformanceWarning: Slicing with an out-of-order index is generating 86 times more chunks\n",
      "  return self.array[key]\n",
      "C:\\Anaconda3\\lib\\site-packages\\xarray\\core\\indexing.py:1369: PerformanceWarning: Slicing with an out-of-order index is generating 86 times more chunks\n",
      "  return self.array[key]\n"
     ]
    },
    {
     "name": "stdout",
     "output_type": "stream",
     "text": [
      "ssp585 complete\n",
      "GFDL-ESM4\n",
      "Climatology did not calculate\n",
      "[Errno -101] NetCDF: HDF error: b'E:\\\\CMIP5-PMIP3\\\\CMIP6\\\\ts_Amon_GFDL-ESM4_piControl_r1i1p1f1_gr1_000101-010012.nc'\n",
      "GISS-E2-1-G\n",
      "Ds looks like CMIP6\n"
     ]
    },
    {
     "name": "stderr",
     "output_type": "stream",
     "text": [
      "C:\\Anaconda3\\lib\\site-packages\\xarray\\core\\indexing.py:1369: PerformanceWarning: Slicing with an out-of-order index is generating 51 times more chunks\n",
      "  return self.array[key]\n",
      "C:\\Anaconda3\\lib\\site-packages\\xarray\\core\\indexing.py:1369: PerformanceWarning: Slicing with an out-of-order index is generating 51 times more chunks\n",
      "  return self.array[key]\n",
      "C:\\Anaconda3\\lib\\site-packages\\xarray\\core\\indexing.py:1369: PerformanceWarning: Slicing with an out-of-order index is generating 51 times more chunks\n",
      "  return self.array[key]\n",
      "C:\\Anaconda3\\lib\\site-packages\\xarray\\core\\indexing.py:1369: PerformanceWarning: Slicing with an out-of-order index is generating 51 times more chunks\n",
      "  return self.array[key]\n",
      "C:\\Anaconda3\\lib\\site-packages\\xarray\\core\\indexing.py:1369: PerformanceWarning: Slicing with an out-of-order index is generating 51 times more chunks\n",
      "  return self.array[key]\n",
      "C:\\Anaconda3\\lib\\site-packages\\xarray\\core\\indexing.py:1369: PerformanceWarning: Slicing with an out-of-order index is generating 51 times more chunks\n",
      "  return self.array[key]\n",
      "C:\\Anaconda3\\lib\\site-packages\\xarray\\core\\indexing.py:1369: PerformanceWarning: Slicing with an out-of-order index is generating 51 times more chunks\n",
      "  return self.array[key]\n"
     ]
    },
    {
     "name": "stdout",
     "output_type": "stream",
     "text": [
      "piControl complete\n"
     ]
    },
    {
     "name": "stderr",
     "output_type": "stream",
     "text": [
      "C:\\Anaconda3\\lib\\site-packages\\xarray\\core\\indexing.py:1369: PerformanceWarning: Slicing with an out-of-order index is generating 42 times more chunks\n",
      "  return self.array[key]\n",
      "C:\\Anaconda3\\lib\\site-packages\\xarray\\core\\indexing.py:1369: PerformanceWarning: Slicing with an out-of-order index is generating 42 times more chunks\n",
      "  return self.array[key]\n",
      "C:\\Anaconda3\\lib\\site-packages\\xarray\\core\\indexing.py:1369: PerformanceWarning: Slicing with an out-of-order index is generating 42 times more chunks\n",
      "  return self.array[key]\n",
      "C:\\Anaconda3\\lib\\site-packages\\xarray\\core\\indexing.py:1369: PerformanceWarning: Slicing with an out-of-order index is generating 42 times more chunks\n",
      "  return self.array[key]\n",
      "C:\\Anaconda3\\lib\\site-packages\\xarray\\core\\indexing.py:1369: PerformanceWarning: Slicing with an out-of-order index is generating 42 times more chunks\n",
      "  return self.array[key]\n",
      "C:\\Anaconda3\\lib\\site-packages\\xarray\\core\\indexing.py:1369: PerformanceWarning: Slicing with an out-of-order index is generating 42 times more chunks\n",
      "  return self.array[key]\n",
      "C:\\Anaconda3\\lib\\site-packages\\xarray\\core\\indexing.py:1369: PerformanceWarning: Slicing with an out-of-order index is generating 42 times more chunks\n",
      "  return self.array[key]\n"
     ]
    },
    {
     "name": "stdout",
     "output_type": "stream",
     "text": [
      "historical complete\n",
      "CMIP6/ScenarioMIP/NASA-GISS/GISS-E2-1-G/ssp126/r1i1p1f1\n",
      "Experiment not completed\n",
      "CMIP6/ScenarioMIP/NASA-GISS/GISS-E2-1-G/ssp245/r1i1p1f1\n",
      "Experiment not completed\n",
      "CMIP6/ScenarioMIP/NASA-GISS/GISS-E2-1-G/ssp370/r1i1p1f1\n",
      "Experiment not completed\n",
      "CMIP6/ScenarioMIP/NASA-GISS/GISS-E2-1-G/ssp585/r1i1p1f1\n",
      "Experiment not completed\n",
      "HadGEM3-GC31-LL\n",
      "Ds looks like CMIP6\n"
     ]
    },
    {
     "name": "stderr",
     "output_type": "stream",
     "text": [
      "C:\\Anaconda3\\lib\\site-packages\\xarray\\core\\indexing.py:1369: PerformanceWarning: Slicing with an out-of-order index is generating 100 times more chunks\n",
      "  return self.array[key]\n",
      "C:\\Anaconda3\\lib\\site-packages\\xarray\\core\\indexing.py:1369: PerformanceWarning: Slicing with an out-of-order index is generating 100 times more chunks\n",
      "  return self.array[key]\n",
      "C:\\Anaconda3\\lib\\site-packages\\xarray\\core\\indexing.py:1369: PerformanceWarning: Slicing with an out-of-order index is generating 100 times more chunks\n",
      "  return self.array[key]\n",
      "C:\\Anaconda3\\lib\\site-packages\\xarray\\core\\indexing.py:1369: PerformanceWarning: Slicing with an out-of-order index is generating 100 times more chunks\n",
      "  return self.array[key]\n",
      "C:\\Anaconda3\\lib\\site-packages\\xarray\\core\\indexing.py:1369: PerformanceWarning: Slicing with an out-of-order index is generating 100 times more chunks\n",
      "  return self.array[key]\n",
      "C:\\Anaconda3\\lib\\site-packages\\xarray\\core\\indexing.py:1369: PerformanceWarning: Slicing with an out-of-order index is generating 100 times more chunks\n",
      "  return self.array[key]\n",
      "C:\\Anaconda3\\lib\\site-packages\\xarray\\core\\indexing.py:1369: PerformanceWarning: Slicing with an out-of-order index is generating 100 times more chunks\n",
      "  return self.array[key]\n",
      "C:\\Anaconda3\\lib\\site-packages\\dask\\array\\numpy_compat.py:41: RuntimeWarning: invalid value encountered in true_divide\n",
      "  x = np.divide(x1, x2, out)\n"
     ]
    },
    {
     "name": "stdout",
     "output_type": "stream",
     "text": [
      "piControl complete\n",
      "CMIP6/CMIP/MOHC/HadGEM3-GC31-LL/historical/r1i1p1f1\n",
      "Experiment not completed\n",
      "CMIP6/ScenarioMIP/MOHC/HadGEM3-GC31-LL/ssp126/r1i1p1f1\n",
      "Experiment not completed\n",
      "CMIP6/ScenarioMIP/MOHC/HadGEM3-GC31-LL/ssp245/r1i1p1f1\n",
      "Experiment not completed\n",
      "CMIP6/ScenarioMIP/MOHC/HadGEM3-GC31-LL/ssp370/r1i1p1f1\n",
      "Experiment not completed\n",
      "CMIP6/ScenarioMIP/MOHC/HadGEM3-GC31-LL/ssp585/r1i1p1f1\n",
      "Experiment not completed\n",
      "HadGEM3-GC31-MM\n",
      "CMIP6/CMIP/MOHC/HadGEM3-GC31-MM/piControl/r1i1p1f1\n",
      "file not found on AWS\n",
      "Climatology did not calculate\n",
      "Files (filter term: psl_Amon_.*?HadGEM3-GC31-MM_piControl_r1i1p1f1_.*?\\.nc ) not found, possibly test name is wrong\n",
      "IITM-ESM\n",
      "Ds looks like CMIP6\n"
     ]
    },
    {
     "name": "stderr",
     "output_type": "stream",
     "text": [
      "C:\\Anaconda3\\lib\\site-packages\\dask\\array\\numpy_compat.py:41: RuntimeWarning: invalid value encountered in true_divide\n",
      "  x = np.divide(x1, x2, out)\n"
     ]
    },
    {
     "name": "stdout",
     "output_type": "stream",
     "text": [
      "piControl complete\n",
      "CMIP6/CMIP/CCCR-IITM/IITM-ESM/historical/r1i1p1f1\n",
      "file not found on AWS\n",
      "Experiment not completed\n",
      "CMIP6/ScenarioMIP/CCCR-IITM/IITM-ESM/ssp126/r1i1p1f1\n",
      "file not found on AWS\n",
      "Experiment not completed\n",
      "CMIP6/ScenarioMIP/CCCR-IITM/IITM-ESM/ssp245/r1i1p1f1\n",
      "file not found on AWS\n",
      "Experiment not completed\n",
      "CMIP6/ScenarioMIP/CCCR-IITM/IITM-ESM/ssp370/r1i1p1f1\n",
      "Experiment not completed\n",
      "CMIP6/ScenarioMIP/CCCR-IITM/IITM-ESM/ssp585/r1i1p1f1\n",
      "file not found on AWS\n",
      "Experiment not completed\n",
      "INM-CM4-8\n",
      "Ds looks like CMIP6\n"
     ]
    },
    {
     "name": "stderr",
     "output_type": "stream",
     "text": [
      "C:\\Anaconda3\\lib\\site-packages\\xarray\\core\\indexing.py:1369: PerformanceWarning: Slicing with an out-of-order index is generating 83 times more chunks\n",
      "  return self.array[key]\n",
      "C:\\Anaconda3\\lib\\site-packages\\xarray\\core\\indexing.py:1369: PerformanceWarning: Slicing with an out-of-order index is generating 83 times more chunks\n",
      "  return self.array[key]\n",
      "C:\\Anaconda3\\lib\\site-packages\\xarray\\core\\indexing.py:1369: PerformanceWarning: Slicing with an out-of-order index is generating 83 times more chunks\n",
      "  return self.array[key]\n",
      "C:\\Anaconda3\\lib\\site-packages\\xarray\\core\\indexing.py:1369: PerformanceWarning: Slicing with an out-of-order index is generating 83 times more chunks\n",
      "  return self.array[key]\n",
      "C:\\Anaconda3\\lib\\site-packages\\xarray\\core\\indexing.py:1369: PerformanceWarning: Slicing with an out-of-order index is generating 83 times more chunks\n",
      "  return self.array[key]\n",
      "C:\\Anaconda3\\lib\\site-packages\\xarray\\core\\indexing.py:1369: PerformanceWarning: Slicing with an out-of-order index is generating 100 times more chunks\n",
      "  return self.array[key]\n",
      "C:\\Anaconda3\\lib\\site-packages\\xarray\\core\\indexing.py:1369: PerformanceWarning: Slicing with an out-of-order index is generating 100 times more chunks\n",
      "  return self.array[key]\n",
      "C:\\Anaconda3\\lib\\site-packages\\dask\\array\\numpy_compat.py:41: RuntimeWarning: invalid value encountered in true_divide\n",
      "  x = np.divide(x1, x2, out)\n"
     ]
    },
    {
     "name": "stdout",
     "output_type": "stream",
     "text": [
      "piControl complete\n"
     ]
    },
    {
     "name": "stderr",
     "output_type": "stream",
     "text": [
      "C:\\Anaconda3\\lib\\site-packages\\xarray\\core\\indexing.py:1369: PerformanceWarning: Slicing with an out-of-order index is generating 55 times more chunks\n",
      "  return self.array[key]\n",
      "C:\\Anaconda3\\lib\\site-packages\\xarray\\core\\indexing.py:1369: PerformanceWarning: Slicing with an out-of-order index is generating 55 times more chunks\n",
      "  return self.array[key]\n",
      "C:\\Anaconda3\\lib\\site-packages\\xarray\\core\\indexing.py:1369: PerformanceWarning: Slicing with an out-of-order index is generating 55 times more chunks\n",
      "  return self.array[key]\n",
      "C:\\Anaconda3\\lib\\site-packages\\xarray\\core\\indexing.py:1369: PerformanceWarning: Slicing with an out-of-order index is generating 55 times more chunks\n",
      "  return self.array[key]\n",
      "C:\\Anaconda3\\lib\\site-packages\\xarray\\core\\indexing.py:1369: PerformanceWarning: Slicing with an out-of-order index is generating 55 times more chunks\n",
      "  return self.array[key]\n"
     ]
    },
    {
     "name": "stdout",
     "output_type": "stream",
     "text": [
      "CMIP6/CMIP/INM/INM-CM4-8/historical/r1i1p1f1\n",
      "file not found on AWS\n",
      "Experiment not completed\n",
      "CMIP6/ScenarioMIP/INM/INM-CM4-8/ssp126/r1i1p1f1\n",
      "file not found on AWS\n",
      "Experiment not completed\n",
      "CMIP6/ScenarioMIP/INM/INM-CM4-8/ssp245/r1i1p1f1\n",
      "file not found on AWS\n",
      "Experiment not completed\n",
      "CMIP6/ScenarioMIP/INM/INM-CM4-8/ssp370/r1i1p1f1\n",
      "file not found on AWS\n",
      "Experiment not completed\n",
      "CMIP6/ScenarioMIP/INM/INM-CM4-8/ssp585/r1i1p1f1\n",
      "Downloading ts_Amon_INM-CM4-8_ssp585_r1i1p1f1_gr1_201501-210012.nc\n"
     ]
    },
    {
     "name": "stderr",
     "output_type": "stream",
     "text": [
      "C:\\Anaconda3\\lib\\site-packages\\xarray\\core\\indexing.py:1369: PerformanceWarning: Slicing with an out-of-order index is generating 86 times more chunks\n",
      "  return self.array[key]\n",
      "C:\\Anaconda3\\lib\\site-packages\\xarray\\core\\indexing.py:1369: PerformanceWarning: Slicing with an out-of-order index is generating 86 times more chunks\n",
      "  return self.array[key]\n",
      "C:\\Anaconda3\\lib\\site-packages\\xarray\\core\\indexing.py:1369: PerformanceWarning: Slicing with an out-of-order index is generating 86 times more chunks\n",
      "  return self.array[key]\n",
      "C:\\Anaconda3\\lib\\site-packages\\xarray\\core\\indexing.py:1369: PerformanceWarning: Slicing with an out-of-order index is generating 86 times more chunks\n",
      "  return self.array[key]\n",
      "C:\\Anaconda3\\lib\\site-packages\\xarray\\core\\indexing.py:1369: PerformanceWarning: Slicing with an out-of-order index is generating 86 times more chunks\n",
      "  return self.array[key]\n"
     ]
    },
    {
     "name": "stdout",
     "output_type": "stream",
     "text": [
      "CMIP6/ScenarioMIP/INM/INM-CM4-8/ssp585/r1i1p1f1\n",
      "file not found on AWS\n",
      "Experiment not completed\n",
      "INM-CM5-0\n"
     ]
    },
    {
     "name": "stderr",
     "output_type": "stream",
     "text": [
      "C:\\Anaconda3\\lib\\site-packages\\xarray\\core\\indexing.py:1375: PerformanceWarning: Slicing is producing a large chunk. To accept the large\n",
      "chunk and silence this warning, set the option\n",
      "    >>> with dask.config.set(**{'array.slicing.split_large_chunks': False}):\n",
      "    ...     array[indexer]\n",
      "\n",
      "To avoid creating the large chunks, set the option\n",
      "    >>> with dask.config.set(**{'array.slicing.split_large_chunks': True}):\n",
      "    ...     array[indexer]\n",
      "  value = value[(slice(None),) * axis + (subkey,)]\n"
     ]
    },
    {
     "name": "stdout",
     "output_type": "stream",
     "text": [
      "Ds looks like CMIP6\n"
     ]
    },
    {
     "name": "stderr",
     "output_type": "stream",
     "text": [
      "C:\\Anaconda3\\lib\\site-packages\\xarray\\core\\indexing.py:1369: PerformanceWarning: Slicing with an out-of-order index is generating 70 times more chunks\n",
      "  return self.array[key]\n",
      "C:\\Anaconda3\\lib\\site-packages\\xarray\\core\\indexing.py:1369: PerformanceWarning: Slicing with an out-of-order index is generating 70 times more chunks\n",
      "  return self.array[key]\n",
      "C:\\Anaconda3\\lib\\site-packages\\xarray\\core\\indexing.py:1369: PerformanceWarning: Slicing with an out-of-order index is generating 70 times more chunks\n",
      "  return self.array[key]\n",
      "C:\\Anaconda3\\lib\\site-packages\\xarray\\core\\indexing.py:1369: PerformanceWarning: Slicing with an out-of-order index is generating 70 times more chunks\n",
      "  return self.array[key]\n",
      "C:\\Anaconda3\\lib\\site-packages\\xarray\\core\\indexing.py:1375: PerformanceWarning: Slicing is producing a large chunk. To accept the large\n",
      "chunk and silence this warning, set the option\n",
      "    >>> with dask.config.set(**{'array.slicing.split_large_chunks': False}):\n",
      "    ...     array[indexer]\n",
      "\n",
      "To avoid creating the large chunks, set the option\n",
      "    >>> with dask.config.set(**{'array.slicing.split_large_chunks': True}):\n",
      "    ...     array[indexer]\n",
      "  value = value[(slice(None),) * axis + (subkey,)]\n",
      "C:\\Anaconda3\\lib\\site-packages\\xarray\\core\\indexing.py:1369: PerformanceWarning: Slicing with an out-of-order index is generating 70 times more chunks\n",
      "  return self.array[key]\n",
      "C:\\Anaconda3\\lib\\site-packages\\xarray\\core\\indexing.py:1369: PerformanceWarning: Slicing with an out-of-order index is generating 49 times more chunks\n",
      "  return self.array[key]\n",
      "C:\\Anaconda3\\lib\\site-packages\\xarray\\core\\indexing.py:1369: PerformanceWarning: Slicing with an out-of-order index is generating 49 times more chunks\n",
      "  return self.array[key]\n",
      "C:\\Anaconda3\\lib\\site-packages\\dask\\array\\numpy_compat.py:41: RuntimeWarning: invalid value encountered in true_divide\n",
      "  x = np.divide(x1, x2, out)\n"
     ]
    },
    {
     "name": "stdout",
     "output_type": "stream",
     "text": [
      "piControl complete\n"
     ]
    },
    {
     "name": "stderr",
     "output_type": "stream",
     "text": [
      "C:\\Anaconda3\\lib\\site-packages\\xarray\\core\\indexing.py:1369: PerformanceWarning: Slicing with an out-of-order index is generating 83 times more chunks\n",
      "  return self.array[key]\n",
      "C:\\Anaconda3\\lib\\site-packages\\xarray\\core\\indexing.py:1369: PerformanceWarning: Slicing with an out-of-order index is generating 83 times more chunks\n",
      "  return self.array[key]\n",
      "C:\\Anaconda3\\lib\\site-packages\\xarray\\core\\indexing.py:1369: PerformanceWarning: Slicing with an out-of-order index is generating 83 times more chunks\n",
      "  return self.array[key]\n",
      "C:\\Anaconda3\\lib\\site-packages\\xarray\\core\\indexing.py:1369: PerformanceWarning: Slicing with an out-of-order index is generating 83 times more chunks\n",
      "  return self.array[key]\n",
      "C:\\Anaconda3\\lib\\site-packages\\xarray\\core\\indexing.py:1369: PerformanceWarning: Slicing with an out-of-order index is generating 83 times more chunks\n",
      "  return self.array[key]\n"
     ]
    },
    {
     "name": "stdout",
     "output_type": "stream",
     "text": [
      "CMIP6/CMIP/INM/INM-CM5-0/historical/r1i1p1f1\n",
      "file not found on AWS\n",
      "Experiment not completed\n",
      "CMIP6/ScenarioMIP/INM/INM-CM5-0/ssp126/r1i1p1f1\n",
      "file not found on AWS\n",
      "Experiment not completed\n",
      "CMIP6/ScenarioMIP/INM/INM-CM5-0/ssp245/r1i1p1f1\n",
      "file not found on AWS\n",
      "Experiment not completed\n",
      "CMIP6/ScenarioMIP/INM/INM-CM5-0/ssp370/r1i1p1f1\n",
      "file not found on AWS\n",
      "Experiment not completed\n",
      "CMIP6/ScenarioMIP/INM/INM-CM5-0/ssp585/r1i1p1f1\n",
      "Downloading ts_Amon_INM-CM5-0_ssp585_r1i1p1f1_gr1_201501-210012.nc\n"
     ]
    },
    {
     "name": "stderr",
     "output_type": "stream",
     "text": [
      "C:\\Anaconda3\\lib\\site-packages\\xarray\\core\\indexing.py:1369: PerformanceWarning: Slicing with an out-of-order index is generating 86 times more chunks\n",
      "  return self.array[key]\n",
      "C:\\Anaconda3\\lib\\site-packages\\xarray\\core\\indexing.py:1369: PerformanceWarning: Slicing with an out-of-order index is generating 86 times more chunks\n",
      "  return self.array[key]\n",
      "C:\\Anaconda3\\lib\\site-packages\\xarray\\core\\indexing.py:1369: PerformanceWarning: Slicing with an out-of-order index is generating 86 times more chunks\n",
      "  return self.array[key]\n",
      "C:\\Anaconda3\\lib\\site-packages\\xarray\\core\\indexing.py:1369: PerformanceWarning: Slicing with an out-of-order index is generating 86 times more chunks\n",
      "  return self.array[key]\n",
      "C:\\Anaconda3\\lib\\site-packages\\xarray\\core\\indexing.py:1369: PerformanceWarning: Slicing with an out-of-order index is generating 86 times more chunks\n",
      "  return self.array[key]\n"
     ]
    },
    {
     "name": "stdout",
     "output_type": "stream",
     "text": [
      "CMIP6/ScenarioMIP/INM/INM-CM5-0/ssp585/r1i1p1f1\n",
      "file not found on AWS\n",
      "Experiment not completed\n",
      "IPSL-CM5A2-INCA\n",
      "CMIP6/CMIP/IPSL/IPSL-CM5A2-INCA/piControl/r1i1p1f1\n",
      "file not found on AWS\n",
      "Climatology did not calculate\n",
      "Files (filter term: ts_Amon_.*?IPSL-CM5A2-INCA_piControl_r1i1p1f1_.*?\\.nc ) not found, possibly test name is wrong\n",
      "IPSL-CM6A-LR\n"
     ]
    },
    {
     "name": "stderr",
     "output_type": "stream",
     "text": [
      "C:\\Anaconda3\\lib\\site-packages\\xarray\\core\\indexing.py:1375: PerformanceWarning: Slicing is producing a large chunk. To accept the large\n",
      "chunk and silence this warning, set the option\n",
      "    >>> with dask.config.set(**{'array.slicing.split_large_chunks': False}):\n",
      "    ...     array[indexer]\n",
      "\n",
      "To avoid creating the large chunks, set the option\n",
      "    >>> with dask.config.set(**{'array.slicing.split_large_chunks': True}):\n",
      "    ...     array[indexer]\n",
      "  value = value[(slice(None),) * axis + (subkey,)]\n"
     ]
    },
    {
     "name": "stdout",
     "output_type": "stream",
     "text": [
      "Ds looks like CMIP6\n"
     ]
    },
    {
     "name": "stderr",
     "output_type": "stream",
     "text": [
      "C:\\Anaconda3\\lib\\site-packages\\xarray\\core\\indexing.py:1369: PerformanceWarning: Slicing with an out-of-order index is generating 400 times more chunks\n",
      "  return self.array[key]\n",
      "C:\\Anaconda3\\lib\\site-packages\\xarray\\core\\indexing.py:1369: PerformanceWarning: Slicing with an out-of-order index is generating 400 times more chunks\n",
      "  return self.array[key]\n",
      "C:\\Anaconda3\\lib\\site-packages\\xarray\\core\\indexing.py:1369: PerformanceWarning: Slicing with an out-of-order index is generating 400 times more chunks\n",
      "  return self.array[key]\n",
      "C:\\Anaconda3\\lib\\site-packages\\xarray\\core\\indexing.py:1369: PerformanceWarning: Slicing with an out-of-order index is generating 400 times more chunks\n",
      "  return self.array[key]\n",
      "C:\\Anaconda3\\lib\\site-packages\\xarray\\core\\indexing.py:1375: PerformanceWarning: Slicing is producing a large chunk. To accept the large\n",
      "chunk and silence this warning, set the option\n",
      "    >>> with dask.config.set(**{'array.slicing.split_large_chunks': False}):\n",
      "    ...     array[indexer]\n",
      "\n",
      "To avoid creating the large chunks, set the option\n",
      "    >>> with dask.config.set(**{'array.slicing.split_large_chunks': True}):\n",
      "    ...     array[indexer]\n",
      "  value = value[(slice(None),) * axis + (subkey,)]\n",
      "C:\\Anaconda3\\lib\\site-packages\\xarray\\core\\indexing.py:1369: PerformanceWarning: Slicing with an out-of-order index is generating 400 times more chunks\n",
      "  return self.array[key]\n",
      "C:\\Anaconda3\\lib\\site-packages\\xarray\\core\\indexing.py:1369: PerformanceWarning: Slicing with an out-of-order index is generating 400 times more chunks\n",
      "  return self.array[key]\n",
      "C:\\Anaconda3\\lib\\site-packages\\xarray\\core\\indexing.py:1369: PerformanceWarning: Slicing with an out-of-order index is generating 400 times more chunks\n",
      "  return self.array[key]\n"
     ]
    },
    {
     "name": "stdout",
     "output_type": "stream",
     "text": [
      "piControl complete\n"
     ]
    },
    {
     "name": "stderr",
     "output_type": "stream",
     "text": [
      "C:\\Anaconda3\\lib\\site-packages\\xarray\\core\\indexing.py:1369: PerformanceWarning: Slicing with an out-of-order index is generating 165 times more chunks\n",
      "  return self.array[key]\n",
      "C:\\Anaconda3\\lib\\site-packages\\xarray\\core\\indexing.py:1369: PerformanceWarning: Slicing with an out-of-order index is generating 165 times more chunks\n",
      "  return self.array[key]\n",
      "C:\\Anaconda3\\lib\\site-packages\\xarray\\core\\indexing.py:1369: PerformanceWarning: Slicing with an out-of-order index is generating 165 times more chunks\n",
      "  return self.array[key]\n",
      "C:\\Anaconda3\\lib\\site-packages\\xarray\\core\\indexing.py:1369: PerformanceWarning: Slicing with an out-of-order index is generating 165 times more chunks\n",
      "  return self.array[key]\n",
      "C:\\Anaconda3\\lib\\site-packages\\xarray\\core\\indexing.py:1369: PerformanceWarning: Slicing with an out-of-order index is generating 165 times more chunks\n",
      "  return self.array[key]\n",
      "C:\\Anaconda3\\lib\\site-packages\\xarray\\core\\indexing.py:1369: PerformanceWarning: Slicing with an out-of-order index is generating 165 times more chunks\n",
      "  return self.array[key]\n",
      "C:\\Anaconda3\\lib\\site-packages\\xarray\\core\\indexing.py:1369: PerformanceWarning: Slicing with an out-of-order index is generating 165 times more chunks\n",
      "  return self.array[key]\n"
     ]
    },
    {
     "name": "stdout",
     "output_type": "stream",
     "text": [
      "historical complete\n"
     ]
    },
    {
     "name": "stderr",
     "output_type": "stream",
     "text": [
      "C:\\Anaconda3\\lib\\site-packages\\xarray\\core\\indexing.py:1369: PerformanceWarning: Slicing with an out-of-order index is generating 143 times more chunks\n",
      "  return self.array[key]\n",
      "C:\\Anaconda3\\lib\\site-packages\\xarray\\core\\indexing.py:1369: PerformanceWarning: Slicing with an out-of-order index is generating 143 times more chunks\n",
      "  return self.array[key]\n",
      "C:\\Anaconda3\\lib\\site-packages\\xarray\\core\\indexing.py:1369: PerformanceWarning: Slicing with an out-of-order index is generating 143 times more chunks\n",
      "  return self.array[key]\n",
      "C:\\Anaconda3\\lib\\site-packages\\xarray\\core\\indexing.py:1369: PerformanceWarning: Slicing with an out-of-order index is generating 143 times more chunks\n",
      "  return self.array[key]\n",
      "C:\\Anaconda3\\lib\\site-packages\\xarray\\core\\indexing.py:1369: PerformanceWarning: Slicing with an out-of-order index is generating 143 times more chunks\n",
      "  return self.array[key]\n",
      "C:\\Anaconda3\\lib\\site-packages\\xarray\\core\\indexing.py:1369: PerformanceWarning: Slicing with an out-of-order index is generating 143 times more chunks\n",
      "  return self.array[key]\n",
      "C:\\Anaconda3\\lib\\site-packages\\xarray\\core\\indexing.py:1369: PerformanceWarning: Slicing with an out-of-order index is generating 143 times more chunks\n",
      "  return self.array[key]\n"
     ]
    },
    {
     "name": "stdout",
     "output_type": "stream",
     "text": [
      "ssp126 complete\n"
     ]
    },
    {
     "name": "stderr",
     "output_type": "stream",
     "text": [
      "C:\\Anaconda3\\lib\\site-packages\\xarray\\core\\indexing.py:1369: PerformanceWarning: Slicing with an out-of-order index is generating 86 times more chunks\n",
      "  return self.array[key]\n",
      "C:\\Anaconda3\\lib\\site-packages\\xarray\\core\\indexing.py:1369: PerformanceWarning: Slicing with an out-of-order index is generating 86 times more chunks\n",
      "  return self.array[key]\n",
      "C:\\Anaconda3\\lib\\site-packages\\xarray\\core\\indexing.py:1369: PerformanceWarning: Slicing with an out-of-order index is generating 86 times more chunks\n",
      "  return self.array[key]\n",
      "C:\\Anaconda3\\lib\\site-packages\\xarray\\core\\indexing.py:1369: PerformanceWarning: Slicing with an out-of-order index is generating 86 times more chunks\n",
      "  return self.array[key]\n",
      "C:\\Anaconda3\\lib\\site-packages\\xarray\\core\\indexing.py:1369: PerformanceWarning: Slicing with an out-of-order index is generating 86 times more chunks\n",
      "  return self.array[key]\n",
      "C:\\Anaconda3\\lib\\site-packages\\xarray\\core\\indexing.py:1369: PerformanceWarning: Slicing with an out-of-order index is generating 86 times more chunks\n",
      "  return self.array[key]\n",
      "C:\\Anaconda3\\lib\\site-packages\\xarray\\core\\indexing.py:1369: PerformanceWarning: Slicing with an out-of-order index is generating 86 times more chunks\n",
      "  return self.array[key]\n"
     ]
    },
    {
     "name": "stdout",
     "output_type": "stream",
     "text": [
      "ssp245 complete\n"
     ]
    },
    {
     "name": "stderr",
     "output_type": "stream",
     "text": [
      "C:\\Anaconda3\\lib\\site-packages\\xarray\\core\\indexing.py:1369: PerformanceWarning: Slicing with an out-of-order index is generating 86 times more chunks\n",
      "  return self.array[key]\n",
      "C:\\Anaconda3\\lib\\site-packages\\xarray\\core\\indexing.py:1369: PerformanceWarning: Slicing with an out-of-order index is generating 86 times more chunks\n",
      "  return self.array[key]\n",
      "C:\\Anaconda3\\lib\\site-packages\\xarray\\core\\indexing.py:1369: PerformanceWarning: Slicing with an out-of-order index is generating 86 times more chunks\n",
      "  return self.array[key]\n",
      "C:\\Anaconda3\\lib\\site-packages\\xarray\\core\\indexing.py:1369: PerformanceWarning: Slicing with an out-of-order index is generating 86 times more chunks\n",
      "  return self.array[key]\n",
      "C:\\Anaconda3\\lib\\site-packages\\xarray\\core\\indexing.py:1369: PerformanceWarning: Slicing with an out-of-order index is generating 86 times more chunks\n",
      "  return self.array[key]\n",
      "C:\\Anaconda3\\lib\\site-packages\\xarray\\core\\indexing.py:1369: PerformanceWarning: Slicing with an out-of-order index is generating 86 times more chunks\n",
      "  return self.array[key]\n",
      "C:\\Anaconda3\\lib\\site-packages\\xarray\\core\\indexing.py:1369: PerformanceWarning: Slicing with an out-of-order index is generating 86 times more chunks\n",
      "  return self.array[key]\n"
     ]
    },
    {
     "name": "stdout",
     "output_type": "stream",
     "text": [
      "ssp370 complete\n"
     ]
    },
    {
     "name": "stderr",
     "output_type": "stream",
     "text": [
      "C:\\Anaconda3\\lib\\site-packages\\xarray\\core\\indexing.py:1369: PerformanceWarning: Slicing with an out-of-order index is generating 143 times more chunks\n",
      "  return self.array[key]\n",
      "C:\\Anaconda3\\lib\\site-packages\\xarray\\core\\indexing.py:1369: PerformanceWarning: Slicing with an out-of-order index is generating 143 times more chunks\n",
      "  return self.array[key]\n",
      "C:\\Anaconda3\\lib\\site-packages\\xarray\\core\\indexing.py:1369: PerformanceWarning: Slicing with an out-of-order index is generating 143 times more chunks\n",
      "  return self.array[key]\n",
      "C:\\Anaconda3\\lib\\site-packages\\xarray\\core\\indexing.py:1369: PerformanceWarning: Slicing with an out-of-order index is generating 143 times more chunks\n",
      "  return self.array[key]\n",
      "C:\\Anaconda3\\lib\\site-packages\\xarray\\core\\indexing.py:1369: PerformanceWarning: Slicing with an out-of-order index is generating 143 times more chunks\n",
      "  return self.array[key]\n",
      "C:\\Anaconda3\\lib\\site-packages\\xarray\\core\\indexing.py:1369: PerformanceWarning: Slicing with an out-of-order index is generating 143 times more chunks\n",
      "  return self.array[key]\n",
      "C:\\Anaconda3\\lib\\site-packages\\xarray\\core\\indexing.py:1369: PerformanceWarning: Slicing with an out-of-order index is generating 143 times more chunks\n",
      "  return self.array[key]\n"
     ]
    },
    {
     "name": "stdout",
     "output_type": "stream",
     "text": [
      "ssp585 complete\n",
      "KACE-1-0-G\n",
      "CMIP6/CMIP/NIMS-KMA/KACE-1-0-G/piControl/r1i1p1f1\n",
      "Climatology did not calculate\n",
      "'NoneType' object is not iterable\n",
      "KIOST-ESM\n",
      "CMIP6/CMIP/KIOST/KIOST-ESM/piControl/r1i1p1f1\n",
      "file not found on AWS\n",
      "Climatology did not calculate\n",
      "Files (filter term: ts_Amon_.*?KIOST-ESM_piControl_r1i1p1f1_.*?\\.nc ) not found, possibly test name is wrong\n",
      "MCM-UA-1-0\n",
      "Climatology did not calculate\n",
      "cannot rename 'lat' because it is not a dimension in this dataset\n",
      "MIROC-ES2L\n",
      "CMIP6/CMIP/MIROC/MIROC-ES2L/piControl/r1i1p1f1\n",
      "Climatology did not calculate\n",
      "'NoneType' object is not iterable\n",
      "MIROC6\n"
     ]
    },
    {
     "name": "stderr",
     "output_type": "stream",
     "text": [
      "C:\\Anaconda3\\lib\\site-packages\\xarray\\core\\indexing.py:1375: PerformanceWarning: Slicing is producing a large chunk. To accept the large\n",
      "chunk and silence this warning, set the option\n",
      "    >>> with dask.config.set(**{'array.slicing.split_large_chunks': False}):\n",
      "    ...     array[indexer]\n",
      "\n",
      "To avoid creating the large chunks, set the option\n",
      "    >>> with dask.config.set(**{'array.slicing.split_large_chunks': True}):\n",
      "    ...     array[indexer]\n",
      "  value = value[(slice(None),) * axis + (subkey,)]\n"
     ]
    },
    {
     "name": "stdout",
     "output_type": "stream",
     "text": [
      "Ds looks like CMIP6\n"
     ]
    },
    {
     "name": "stderr",
     "output_type": "stream",
     "text": [
      "C:\\Anaconda3\\lib\\site-packages\\xarray\\core\\indexing.py:1369: PerformanceWarning: Slicing with an out-of-order index is generating 100 times more chunks\n",
      "  return self.array[key]\n",
      "C:\\Anaconda3\\lib\\site-packages\\xarray\\core\\indexing.py:1369: PerformanceWarning: Slicing with an out-of-order index is generating 100 times more chunks\n",
      "  return self.array[key]\n",
      "C:\\Anaconda3\\lib\\site-packages\\xarray\\core\\indexing.py:1369: PerformanceWarning: Slicing with an out-of-order index is generating 100 times more chunks\n",
      "  return self.array[key]\n",
      "C:\\Anaconda3\\lib\\site-packages\\xarray\\core\\indexing.py:1369: PerformanceWarning: Slicing with an out-of-order index is generating 100 times more chunks\n",
      "  return self.array[key]\n",
      "C:\\Anaconda3\\lib\\site-packages\\xarray\\core\\indexing.py:1375: PerformanceWarning: Slicing is producing a large chunk. To accept the large\n",
      "chunk and silence this warning, set the option\n",
      "    >>> with dask.config.set(**{'array.slicing.split_large_chunks': False}):\n",
      "    ...     array[indexer]\n",
      "\n",
      "To avoid creating the large chunks, set the option\n",
      "    >>> with dask.config.set(**{'array.slicing.split_large_chunks': True}):\n",
      "    ...     array[indexer]\n",
      "  value = value[(slice(None),) * axis + (subkey,)]\n",
      "C:\\Anaconda3\\lib\\site-packages\\xarray\\core\\indexing.py:1369: PerformanceWarning: Slicing with an out-of-order index is generating 100 times more chunks\n",
      "  return self.array[key]\n",
      "C:\\Anaconda3\\lib\\site-packages\\xarray\\core\\indexing.py:1369: PerformanceWarning: Slicing with an out-of-order index is generating 100 times more chunks\n",
      "  return self.array[key]\n",
      "C:\\Anaconda3\\lib\\site-packages\\xarray\\core\\indexing.py:1369: PerformanceWarning: Slicing with an out-of-order index is generating 100 times more chunks\n",
      "  return self.array[key]\n"
     ]
    },
    {
     "name": "stdout",
     "output_type": "stream",
     "text": [
      "piControl complete\n"
     ]
    },
    {
     "name": "stderr",
     "output_type": "stream",
     "text": [
      "C:\\Anaconda3\\lib\\site-packages\\xarray\\core\\indexing.py:1369: PerformanceWarning: Slicing with an out-of-order index is generating 83 times more chunks\n",
      "  return self.array[key]\n",
      "C:\\Anaconda3\\lib\\site-packages\\xarray\\core\\indexing.py:1369: PerformanceWarning: Slicing with an out-of-order index is generating 83 times more chunks\n",
      "  return self.array[key]\n",
      "C:\\Anaconda3\\lib\\site-packages\\xarray\\core\\indexing.py:1369: PerformanceWarning: Slicing with an out-of-order index is generating 83 times more chunks\n",
      "  return self.array[key]\n",
      "C:\\Anaconda3\\lib\\site-packages\\xarray\\core\\indexing.py:1369: PerformanceWarning: Slicing with an out-of-order index is generating 83 times more chunks\n",
      "  return self.array[key]\n",
      "C:\\Anaconda3\\lib\\site-packages\\xarray\\core\\indexing.py:1369: PerformanceWarning: Slicing with an out-of-order index is generating 83 times more chunks\n",
      "  return self.array[key]\n",
      "C:\\Anaconda3\\lib\\site-packages\\xarray\\core\\indexing.py:1369: PerformanceWarning: Slicing with an out-of-order index is generating 83 times more chunks\n",
      "  return self.array[key]\n",
      "C:\\Anaconda3\\lib\\site-packages\\xarray\\core\\indexing.py:1369: PerformanceWarning: Slicing with an out-of-order index is generating 83 times more chunks\n",
      "  return self.array[key]\n"
     ]
    },
    {
     "name": "stdout",
     "output_type": "stream",
     "text": [
      "historical complete\n"
     ]
    },
    {
     "name": "stderr",
     "output_type": "stream",
     "text": [
      "C:\\Anaconda3\\lib\\site-packages\\xarray\\core\\indexing.py:1369: PerformanceWarning: Slicing with an out-of-order index is generating 86 times more chunks\n",
      "  return self.array[key]\n",
      "C:\\Anaconda3\\lib\\site-packages\\xarray\\core\\indexing.py:1369: PerformanceWarning: Slicing with an out-of-order index is generating 86 times more chunks\n",
      "  return self.array[key]\n",
      "C:\\Anaconda3\\lib\\site-packages\\xarray\\core\\indexing.py:1369: PerformanceWarning: Slicing with an out-of-order index is generating 86 times more chunks\n",
      "  return self.array[key]\n",
      "C:\\Anaconda3\\lib\\site-packages\\xarray\\core\\indexing.py:1369: PerformanceWarning: Slicing with an out-of-order index is generating 86 times more chunks\n",
      "  return self.array[key]\n",
      "C:\\Anaconda3\\lib\\site-packages\\xarray\\core\\indexing.py:1369: PerformanceWarning: Slicing with an out-of-order index is generating 86 times more chunks\n",
      "  return self.array[key]\n",
      "C:\\Anaconda3\\lib\\site-packages\\xarray\\core\\indexing.py:1369: PerformanceWarning: Slicing with an out-of-order index is generating 86 times more chunks\n",
      "  return self.array[key]\n",
      "C:\\Anaconda3\\lib\\site-packages\\xarray\\core\\indexing.py:1369: PerformanceWarning: Slicing with an out-of-order index is generating 86 times more chunks\n",
      "  return self.array[key]\n"
     ]
    },
    {
     "name": "stdout",
     "output_type": "stream",
     "text": [
      "ssp126 complete\n",
      "CMIP6/ScenarioMIP/MIROC/MIROC6/ssp245/r1i1p1f1\n",
      "file not found on AWS\n",
      "Experiment not completed\n"
     ]
    },
    {
     "name": "stderr",
     "output_type": "stream",
     "text": [
      "C:\\Anaconda3\\lib\\site-packages\\xarray\\core\\indexing.py:1369: PerformanceWarning: Slicing with an out-of-order index is generating 86 times more chunks\n",
      "  return self.array[key]\n",
      "C:\\Anaconda3\\lib\\site-packages\\xarray\\core\\indexing.py:1369: PerformanceWarning: Slicing with an out-of-order index is generating 86 times more chunks\n",
      "  return self.array[key]\n",
      "C:\\Anaconda3\\lib\\site-packages\\xarray\\core\\indexing.py:1369: PerformanceWarning: Slicing with an out-of-order index is generating 86 times more chunks\n",
      "  return self.array[key]\n",
      "C:\\Anaconda3\\lib\\site-packages\\xarray\\core\\indexing.py:1369: PerformanceWarning: Slicing with an out-of-order index is generating 86 times more chunks\n",
      "  return self.array[key]\n",
      "C:\\Anaconda3\\lib\\site-packages\\xarray\\core\\indexing.py:1369: PerformanceWarning: Slicing with an out-of-order index is generating 86 times more chunks\n",
      "  return self.array[key]\n",
      "C:\\Anaconda3\\lib\\site-packages\\xarray\\core\\indexing.py:1369: PerformanceWarning: Slicing with an out-of-order index is generating 86 times more chunks\n",
      "  return self.array[key]\n",
      "C:\\Anaconda3\\lib\\site-packages\\xarray\\core\\indexing.py:1369: PerformanceWarning: Slicing with an out-of-order index is generating 86 times more chunks\n",
      "  return self.array[key]\n"
     ]
    },
    {
     "name": "stdout",
     "output_type": "stream",
     "text": [
      "ssp370 complete\n"
     ]
    },
    {
     "name": "stderr",
     "output_type": "stream",
     "text": [
      "C:\\Anaconda3\\lib\\site-packages\\xarray\\core\\indexing.py:1369: PerformanceWarning: Slicing with an out-of-order index is generating 86 times more chunks\n",
      "  return self.array[key]\n",
      "C:\\Anaconda3\\lib\\site-packages\\xarray\\core\\indexing.py:1369: PerformanceWarning: Slicing with an out-of-order index is generating 86 times more chunks\n",
      "  return self.array[key]\n",
      "C:\\Anaconda3\\lib\\site-packages\\xarray\\core\\indexing.py:1369: PerformanceWarning: Slicing with an out-of-order index is generating 86 times more chunks\n",
      "  return self.array[key]\n",
      "C:\\Anaconda3\\lib\\site-packages\\xarray\\core\\indexing.py:1369: PerformanceWarning: Slicing with an out-of-order index is generating 86 times more chunks\n",
      "  return self.array[key]\n",
      "C:\\Anaconda3\\lib\\site-packages\\xarray\\core\\indexing.py:1369: PerformanceWarning: Slicing with an out-of-order index is generating 86 times more chunks\n",
      "  return self.array[key]\n",
      "C:\\Anaconda3\\lib\\site-packages\\xarray\\core\\indexing.py:1369: PerformanceWarning: Slicing with an out-of-order index is generating 86 times more chunks\n",
      "  return self.array[key]\n",
      "C:\\Anaconda3\\lib\\site-packages\\xarray\\core\\indexing.py:1369: PerformanceWarning: Slicing with an out-of-order index is generating 86 times more chunks\n",
      "  return self.array[key]\n"
     ]
    },
    {
     "name": "stdout",
     "output_type": "stream",
     "text": [
      "ssp585 complete\n",
      "MPI-ESM-1-2-HAM\n"
     ]
    },
    {
     "name": "stderr",
     "output_type": "stream",
     "text": [
      "C:\\Anaconda3\\lib\\site-packages\\xarray\\core\\indexing.py:1375: PerformanceWarning: Slicing is producing a large chunk. To accept the large\n",
      "chunk and silence this warning, set the option\n",
      "    >>> with dask.config.set(**{'array.slicing.split_large_chunks': False}):\n",
      "    ...     array[indexer]\n",
      "\n",
      "To avoid creating the large chunks, set the option\n",
      "    >>> with dask.config.set(**{'array.slicing.split_large_chunks': True}):\n",
      "    ...     array[indexer]\n",
      "  value = value[(slice(None),) * axis + (subkey,)]\n"
     ]
    },
    {
     "name": "stdout",
     "output_type": "stream",
     "text": [
      "CMIP6/CMIP/HAMMOZ-Consortium/MPI-ESM-1-2-HAM/piControl/r1i1p1f1\n",
      "file not found on AWS\n",
      "Climatology did not calculate\n",
      "Files (filter term: psl_Amon_.*?MPI-ESM-1-2-HAM_piControl_r1i1p1f1_.*?\\.nc ) not found, possibly test name is wrong\n",
      "MPI-ESM1-2-HR\n"
     ]
    },
    {
     "name": "stderr",
     "output_type": "stream",
     "text": [
      "C:\\Anaconda3\\lib\\site-packages\\xarray\\core\\indexing.py:1375: PerformanceWarning: Slicing is producing a large chunk. To accept the large\n",
      "chunk and silence this warning, set the option\n",
      "    >>> with dask.config.set(**{'array.slicing.split_large_chunks': False}):\n",
      "    ...     array[indexer]\n",
      "\n",
      "To avoid creating the large chunks, set the option\n",
      "    >>> with dask.config.set(**{'array.slicing.split_large_chunks': True}):\n",
      "    ...     array[indexer]\n",
      "  value = value[(slice(None),) * axis + (subkey,)]\n"
     ]
    },
    {
     "name": "stdout",
     "output_type": "stream",
     "text": [
      "Ds looks like CMIP6\n"
     ]
    },
    {
     "name": "stderr",
     "output_type": "stream",
     "text": [
      "C:\\Anaconda3\\lib\\site-packages\\xarray\\core\\indexing.py:1375: PerformanceWarning: Slicing is producing a large chunk. To accept the large\n",
      "chunk and silence this warning, set the option\n",
      "    >>> with dask.config.set(**{'array.slicing.split_large_chunks': False}):\n",
      "    ...     array[indexer]\n",
      "\n",
      "To avoid creating the large chunks, set the option\n",
      "    >>> with dask.config.set(**{'array.slicing.split_large_chunks': True}):\n",
      "    ...     array[indexer]\n",
      "  value = value[(slice(None),) * axis + (subkey,)]\n",
      "C:\\Anaconda3\\lib\\site-packages\\dask\\array\\numpy_compat.py:41: RuntimeWarning: invalid value encountered in true_divide\n",
      "  x = np.divide(x1, x2, out)\n"
     ]
    },
    {
     "name": "stdout",
     "output_type": "stream",
     "text": [
      "piControl complete\n",
      "CMIP6/CMIP/MPI-M/MPI-ESM1-2-HR/historical/r1i1p1f1\n",
      "file not found on AWS\n",
      "Experiment not completed\n",
      "CMIP6/ScenarioMIP/MPI-M/MPI-ESM1-2-HR/ssp126/r1i1p1f1\n",
      "Experiment not completed\n",
      "CMIP6/ScenarioMIP/MPI-M/MPI-ESM1-2-HR/ssp245/r1i1p1f1\n",
      "Experiment not completed\n",
      "CMIP6/ScenarioMIP/MPI-M/MPI-ESM1-2-HR/ssp370/r1i1p1f1\n",
      "Experiment not completed\n",
      "CMIP6/ScenarioMIP/MPI-M/MPI-ESM1-2-HR/ssp585/r1i1p1f1\n",
      "Experiment not completed\n",
      "MPI-ESM1-2-LR\n",
      "CMIP6/CMIP/MPI-M/MPI-ESM1-2-LR/piControl/r1i1p1f1\n",
      "file not found on AWS\n",
      "Climatology did not calculate\n",
      "Files (filter term: ts_Amon_.*?MPI-ESM1-2-LR_piControl_r1i1p1f1_.*?\\.nc ) not found, possibly test name is wrong\n",
      "MRI-ESM2-0\n"
     ]
    },
    {
     "name": "stderr",
     "output_type": "stream",
     "text": [
      "C:\\Anaconda3\\lib\\site-packages\\xarray\\core\\indexing.py:1375: PerformanceWarning: Slicing is producing a large chunk. To accept the large\n",
      "chunk and silence this warning, set the option\n",
      "    >>> with dask.config.set(**{'array.slicing.split_large_chunks': False}):\n",
      "    ...     array[indexer]\n",
      "\n",
      "To avoid creating the large chunks, set the option\n",
      "    >>> with dask.config.set(**{'array.slicing.split_large_chunks': True}):\n",
      "    ...     array[indexer]\n",
      "  value = value[(slice(None),) * axis + (subkey,)]\n"
     ]
    },
    {
     "name": "stdout",
     "output_type": "stream",
     "text": [
      "Ds looks like CMIP6\n"
     ]
    },
    {
     "name": "stderr",
     "output_type": "stream",
     "text": [
      "C:\\Anaconda3\\lib\\site-packages\\xarray\\core\\indexing.py:1369: PerformanceWarning: Slicing with an out-of-order index is generating 701 times more chunks\n",
      "  return self.array[key]\n",
      "C:\\Anaconda3\\lib\\site-packages\\xarray\\core\\indexing.py:1369: PerformanceWarning: Slicing with an out-of-order index is generating 701 times more chunks\n",
      "  return self.array[key]\n",
      "C:\\Anaconda3\\lib\\site-packages\\xarray\\core\\indexing.py:1369: PerformanceWarning: Slicing with an out-of-order index is generating 701 times more chunks\n",
      "  return self.array[key]\n",
      "C:\\Anaconda3\\lib\\site-packages\\xarray\\core\\indexing.py:1369: PerformanceWarning: Slicing with an out-of-order index is generating 701 times more chunks\n",
      "  return self.array[key]\n",
      "C:\\Anaconda3\\lib\\site-packages\\xarray\\core\\indexing.py:1375: PerformanceWarning: Slicing is producing a large chunk. To accept the large\n",
      "chunk and silence this warning, set the option\n",
      "    >>> with dask.config.set(**{'array.slicing.split_large_chunks': False}):\n",
      "    ...     array[indexer]\n",
      "\n",
      "To avoid creating the large chunks, set the option\n",
      "    >>> with dask.config.set(**{'array.slicing.split_large_chunks': True}):\n",
      "    ...     array[indexer]\n",
      "  value = value[(slice(None),) * axis + (subkey,)]\n",
      "C:\\Anaconda3\\lib\\site-packages\\xarray\\core\\indexing.py:1369: PerformanceWarning: Slicing with an out-of-order index is generating 701 times more chunks\n",
      "  return self.array[key]\n",
      "C:\\Anaconda3\\lib\\site-packages\\xarray\\core\\indexing.py:1369: PerformanceWarning: Slicing with an out-of-order index is generating 701 times more chunks\n",
      "  return self.array[key]\n",
      "C:\\Anaconda3\\lib\\site-packages\\xarray\\core\\indexing.py:1369: PerformanceWarning: Slicing with an out-of-order index is generating 701 times more chunks\n",
      "  return self.array[key]\n"
     ]
    },
    {
     "name": "stdout",
     "output_type": "stream",
     "text": [
      "piControl complete\n"
     ]
    },
    {
     "name": "stderr",
     "output_type": "stream",
     "text": [
      "C:\\Anaconda3\\lib\\site-packages\\xarray\\core\\indexing.py:1369: PerformanceWarning: Slicing with an out-of-order index is generating 165 times more chunks\n",
      "  return self.array[key]\n",
      "C:\\Anaconda3\\lib\\site-packages\\xarray\\core\\indexing.py:1369: PerformanceWarning: Slicing with an out-of-order index is generating 165 times more chunks\n",
      "  return self.array[key]\n",
      "C:\\Anaconda3\\lib\\site-packages\\xarray\\core\\indexing.py:1369: PerformanceWarning: Slicing with an out-of-order index is generating 165 times more chunks\n",
      "  return self.array[key]\n",
      "C:\\Anaconda3\\lib\\site-packages\\xarray\\core\\indexing.py:1369: PerformanceWarning: Slicing with an out-of-order index is generating 165 times more chunks\n",
      "  return self.array[key]\n",
      "C:\\Anaconda3\\lib\\site-packages\\xarray\\core\\indexing.py:1369: PerformanceWarning: Slicing with an out-of-order index is generating 165 times more chunks\n",
      "  return self.array[key]\n",
      "C:\\Anaconda3\\lib\\site-packages\\xarray\\core\\indexing.py:1369: PerformanceWarning: Slicing with an out-of-order index is generating 165 times more chunks\n",
      "  return self.array[key]\n",
      "C:\\Anaconda3\\lib\\site-packages\\xarray\\core\\indexing.py:1369: PerformanceWarning: Slicing with an out-of-order index is generating 165 times more chunks\n",
      "  return self.array[key]\n"
     ]
    },
    {
     "name": "stdout",
     "output_type": "stream",
     "text": [
      "historical complete\n",
      "CMIP6/ScenarioMIP/MRI/MRI-ESM2-0/ssp126/r1i1p1f1\n",
      "file not found on AWS\n",
      "Experiment not completed\n"
     ]
    },
    {
     "name": "stderr",
     "output_type": "stream",
     "text": [
      "C:\\Anaconda3\\lib\\site-packages\\xarray\\core\\indexing.py:1369: PerformanceWarning: Slicing with an out-of-order index is generating 86 times more chunks\n",
      "  return self.array[key]\n",
      "C:\\Anaconda3\\lib\\site-packages\\xarray\\core\\indexing.py:1369: PerformanceWarning: Slicing with an out-of-order index is generating 86 times more chunks\n",
      "  return self.array[key]\n",
      "C:\\Anaconda3\\lib\\site-packages\\xarray\\core\\indexing.py:1369: PerformanceWarning: Slicing with an out-of-order index is generating 86 times more chunks\n",
      "  return self.array[key]\n",
      "C:\\Anaconda3\\lib\\site-packages\\xarray\\core\\indexing.py:1369: PerformanceWarning: Slicing with an out-of-order index is generating 86 times more chunks\n",
      "  return self.array[key]\n",
      "C:\\Anaconda3\\lib\\site-packages\\xarray\\core\\indexing.py:1369: PerformanceWarning: Slicing with an out-of-order index is generating 86 times more chunks\n",
      "  return self.array[key]\n"
     ]
    },
    {
     "name": "stdout",
     "output_type": "stream",
     "text": [
      "CMIP6/ScenarioMIP/MRI/MRI-ESM2-0/ssp245/r1i1p1f1\n",
      "Downloading psl_Amon_MRI-ESM2-0_ssp245_r1i1p1f1_gn_201501-210012.nc\n"
     ]
    },
    {
     "name": "stderr",
     "output_type": "stream",
     "text": [
      "C:\\Anaconda3\\lib\\site-packages\\xarray\\core\\indexing.py:1369: PerformanceWarning: Slicing with an out-of-order index is generating 86 times more chunks\n",
      "  return self.array[key]\n",
      "C:\\Anaconda3\\lib\\site-packages\\xarray\\core\\indexing.py:1369: PerformanceWarning: Slicing with an out-of-order index is generating 86 times more chunks\n",
      "  return self.array[key]\n"
     ]
    },
    {
     "name": "stdout",
     "output_type": "stream",
     "text": [
      "ssp245 complete\n"
     ]
    },
    {
     "name": "stderr",
     "output_type": "stream",
     "text": [
      "C:\\Anaconda3\\lib\\site-packages\\xarray\\core\\indexing.py:1369: PerformanceWarning: Slicing with an out-of-order index is generating 86 times more chunks\n",
      "  return self.array[key]\n",
      "C:\\Anaconda3\\lib\\site-packages\\xarray\\core\\indexing.py:1369: PerformanceWarning: Slicing with an out-of-order index is generating 86 times more chunks\n",
      "  return self.array[key]\n",
      "C:\\Anaconda3\\lib\\site-packages\\xarray\\core\\indexing.py:1369: PerformanceWarning: Slicing with an out-of-order index is generating 86 times more chunks\n",
      "  return self.array[key]\n",
      "C:\\Anaconda3\\lib\\site-packages\\xarray\\core\\indexing.py:1369: PerformanceWarning: Slicing with an out-of-order index is generating 86 times more chunks\n",
      "  return self.array[key]\n",
      "C:\\Anaconda3\\lib\\site-packages\\xarray\\core\\indexing.py:1369: PerformanceWarning: Slicing with an out-of-order index is generating 86 times more chunks\n",
      "  return self.array[key]\n",
      "C:\\Anaconda3\\lib\\site-packages\\xarray\\core\\indexing.py:1369: PerformanceWarning: Slicing with an out-of-order index is generating 86 times more chunks\n",
      "  return self.array[key]\n",
      "C:\\Anaconda3\\lib\\site-packages\\xarray\\core\\indexing.py:1369: PerformanceWarning: Slicing with an out-of-order index is generating 86 times more chunks\n",
      "  return self.array[key]\n"
     ]
    },
    {
     "name": "stdout",
     "output_type": "stream",
     "text": [
      "ssp370 complete\n"
     ]
    },
    {
     "name": "stderr",
     "output_type": "stream",
     "text": [
      "C:\\Anaconda3\\lib\\site-packages\\xarray\\core\\indexing.py:1369: PerformanceWarning: Slicing with an out-of-order index is generating 143 times more chunks\n",
      "  return self.array[key]\n",
      "C:\\Anaconda3\\lib\\site-packages\\xarray\\core\\indexing.py:1369: PerformanceWarning: Slicing with an out-of-order index is generating 143 times more chunks\n",
      "  return self.array[key]\n",
      "C:\\Anaconda3\\lib\\site-packages\\xarray\\core\\indexing.py:1369: PerformanceWarning: Slicing with an out-of-order index is generating 143 times more chunks\n",
      "  return self.array[key]\n",
      "C:\\Anaconda3\\lib\\site-packages\\xarray\\core\\indexing.py:1369: PerformanceWarning: Slicing with an out-of-order index is generating 143 times more chunks\n",
      "  return self.array[key]\n",
      "C:\\Anaconda3\\lib\\site-packages\\xarray\\core\\indexing.py:1375: PerformanceWarning: Slicing is producing a large chunk. To accept the large\n",
      "chunk and silence this warning, set the option\n",
      "    >>> with dask.config.set(**{'array.slicing.split_large_chunks': False}):\n",
      "    ...     array[indexer]\n",
      "\n",
      "To avoid creating the large chunks, set the option\n",
      "    >>> with dask.config.set(**{'array.slicing.split_large_chunks': True}):\n",
      "    ...     array[indexer]\n",
      "  value = value[(slice(None),) * axis + (subkey,)]\n",
      "C:\\Anaconda3\\lib\\site-packages\\xarray\\core\\indexing.py:1369: PerformanceWarning: Slicing with an out-of-order index is generating 143 times more chunks\n",
      "  return self.array[key]\n",
      "C:\\Anaconda3\\lib\\site-packages\\xarray\\core\\indexing.py:1369: PerformanceWarning: Slicing with an out-of-order index is generating 143 times more chunks\n",
      "  return self.array[key]\n",
      "C:\\Anaconda3\\lib\\site-packages\\xarray\\core\\indexing.py:1369: PerformanceWarning: Slicing with an out-of-order index is generating 143 times more chunks\n",
      "  return self.array[key]\n"
     ]
    },
    {
     "name": "stdout",
     "output_type": "stream",
     "text": [
      "ssp585 complete\n",
      "NESM3\n",
      "CMIP6/CMIP/NUIST/NESM3/piControl/r1i1p1f1\n",
      "file not found on AWS\n",
      "Climatology did not calculate\n",
      "Files (filter term: psl_Amon_.*?NESM3_piControl_r1i1p1f1_.*?\\.nc ) not found, possibly test name is wrong\n",
      "NorESM2-LM\n",
      "CMIP6/CMIP/NCC/NorESM2-LM/piControl/r1i1p1f1\n",
      "file not found on AWS\n",
      "Climatology did not calculate\n",
      "Files (filter term: psl_Amon_.*?NorESM2-LM_piControl_r1i1p1f1_.*?\\.nc ) not found, possibly test name is wrong\n",
      "NorESM2-MM\n"
     ]
    },
    {
     "name": "stderr",
     "output_type": "stream",
     "text": [
      "C:\\Anaconda3\\lib\\site-packages\\xarray\\core\\indexing.py:1375: PerformanceWarning: Slicing is producing a large chunk. To accept the large\n",
      "chunk and silence this warning, set the option\n",
      "    >>> with dask.config.set(**{'array.slicing.split_large_chunks': False}):\n",
      "    ...     array[indexer]\n",
      "\n",
      "To avoid creating the large chunks, set the option\n",
      "    >>> with dask.config.set(**{'array.slicing.split_large_chunks': True}):\n",
      "    ...     array[indexer]\n",
      "  value = value[(slice(None),) * axis + (subkey,)]\n"
     ]
    },
    {
     "name": "stdout",
     "output_type": "stream",
     "text": [
      "CMIP6/CMIP/NCC/NorESM2-MM/piControl/r1i1p1f1\n",
      "file not found on AWS\n",
      "Climatology did not calculate\n",
      "Files (filter term: psl_Amon_.*?NorESM2-MM_piControl_r1i1p1f1_.*?\\.nc ) not found, possibly test name is wrong\n",
      "UKESM1-0-LL\n",
      "CMIP6/CMIP/MOHC/UKESM1-0-LL/piControl/r1i1p1f1\n",
      "Climatology did not calculate\n",
      "'NoneType' object is not iterable\n"
     ]
    }
   ],
   "source": [
    "for model in modelSet[:,1]: #_model.scenarioMIP[:,1]:\n",
    "    \n",
    "    try: \n",
    "        print(model)\n",
    "        #fxDs = fh.loadModelData(model, 'areacella_fx', 'piControl') \n",
    "        #SST\n",
    "        tsDs = fh.loadModelData(model, 'ts_Amon', 'piControl').ts.to_dataset()\n",
    "        #controlDs=xarray.merge([tsDs.ts, fxDs.areacella])\n",
    "        controlDs=tsDs.assign_attrs({'project_id':'CMIP'})\n",
    "\n",
    "        sstClimat=sst.calculateClimatology(controlDs)\n",
    "\n",
    "        pslControlDs=fh.loadModelData(model, 'psl_Amon', 'piControl')\n",
    "        pslClimat=psl.calculateClimatology(pslControlDs)\n",
    "\n",
    "        for experiment in experimentSet: \n",
    "            \n",
    "            try:\n",
    "\n",
    "                tsDs = fh.loadModelData(model, 'ts_Amon', experiment).ts.to_dataset()\n",
    "                #sstDs = xarray.merge([tsDs.ts, fxDs.areacella])\n",
    "                sstDs=tsDs.assign_attrs({'project_id':'CMIP'})\n",
    "\n",
    "                sstIndex = sst.calculateIndex(sstDs, sstClimat) #(reducing the model set at this step could save time?)\n",
    "\n",
    "                pslDs = fh.loadModelData(model, 'psl_Amon', experiment)\n",
    "                pslIndex, junk = psl.calculateSamIndex(pslDs, pslClimat)\n",
    "                indeces = xarray.merge([pslIndex, sstIndex])\n",
    "                indeces.assign_attrs(climatology='full length of pi Control')\n",
    "                #print(indeces)\n",
    "                tp.averageForTimePeriod(indeces).to_netcdf('results/cmipWarmSeasonIndeces/'+model+'_'+experiment + '.nc')\n",
    "\n",
    "            except Exception as e:\n",
    "                print(experiment + \"not completed\")\n",
    "                print(e)\n",
    "                \n",
    "            else:\n",
    "                print(experiment + ' complete')  \n",
    "            \n",
    "    except Exception as e:\n",
    "        print(\"Climatology did not calculate\")\n",
    "        print(e)\n",
    "        \n",
    "\n",
    "    "
   ]
  },
  {
   "cell_type": "markdown",
   "metadata": {},
   "source": [
    "This grabs the monthly CESM indeces, and calculates the averages for the time periods of interest (aka the warm season), as set in the _indexDefitionions file\n",
    "\n",
    "Theres a few examples of output at the bottom to sanity check this is meaningful"
   ]
  },
  {
   "cell_type": "markdown",
   "metadata": {},
   "source": [
    "The indeces for each month have already been calculated. So loading up the saved versions, and putting them into a single xarray."
   ]
  },
  {
   "cell_type": "code",
   "execution_count": null,
   "metadata": {},
   "outputs": [],
   "source": [
    "for experiment in experimentSet: \n",
    "    print(experiment)\n",
    "    timePIndeces=list()\n",
    "\n",
    "    for model in modelSet:\n",
    "        print(model)\n",
    "        indecesDs = xarray.open_dataset('results/cmipWarmSeasonIndeces/' + model +'_'+ experiment + '.nc')\n",
    "\n",
    "        timePIndeces.append(indecesDs)\n",
    "\n",
    "    results=xarray.concat(timePIndeces, 'model')\n",
    "\n",
    "    results['model']=modelSet\n",
    "\n",
    "    results=results.assign_attrs({'experiment':experiment,**indecesDs.attrs,**_index.monthsOfInterest})\n",
    "\n",
    "    results.to_netcdf('results/cmip6'+experiment+'TradIndeces.nc')"
   ]
  },
  {
   "cell_type": "code",
   "execution_count": null,
   "metadata": {},
   "outputs": [],
   "source": [
    "results"
   ]
  },
  {
   "cell_type": "markdown",
   "metadata": {},
   "source": [
    "Some sanity checks to see if it looks ok:\n"
   ]
  },
  {
   "cell_type": "code",
   "execution_count": null,
   "metadata": {},
   "outputs": [],
   "source": [
    "results=xarray.open_dataset('results/cmip5piControlTradIndeces.nc')"
   ]
  },
  {
   "cell_type": "code",
   "execution_count": null,
   "metadata": {},
   "outputs": [],
   "source": [
    "# plotSomething\n",
    "fig = plt.figure(figsize=(12,8))\n",
    "ax = fig.add_subplot(1,1,1)\n",
    "\n",
    "results.nino34.plot(label='nino34')\n",
    "results.nino34NoDetrend.plot(label='No Detrend')\n",
    "\n",
    "#Tidy up a bit\n",
    "plt.title(\"CMIP Past 1000 Nino34\")\n",
    "plt.ylim(-4,4)\n",
    "plt.minorticks_on()\n",
    "plt.legend()"
   ]
  },
  {
   "cell_type": "code",
   "execution_count": null,
   "metadata": {},
   "outputs": [],
   "source": [
    "# A multi-experiment mean?\n",
    "\n",
    "mean = results.sam.mean(dim='experiment')\n",
    "std = results.sam.std(dim='experiment')"
   ]
  },
  {
   "cell_type": "code",
   "execution_count": null,
   "metadata": {},
   "outputs": [],
   "source": [
    "plt.figure()\n",
    "mean.plot()\n",
    "std.plot()"
   ]
  },
  {
   "cell_type": "code",
   "execution_count": null,
   "metadata": {},
   "outputs": [],
   "source": [
    "# why limit yourself to one index?\n",
    "\n",
    "mean = results.mean(dim='experiment')\n",
    "std = results.std(dim='experiment')"
   ]
  },
  {
   "cell_type": "code",
   "execution_count": null,
   "metadata": {},
   "outputs": [],
   "source": [
    "std"
   ]
  },
  {
   "cell_type": "markdown",
   "metadata": {},
   "source": [
    "# 2. Calculate Compound Years for CESM"
   ]
  },
  {
   "cell_type": "code",
   "execution_count": null,
   "metadata": {},
   "outputs": [],
   "source": [
    "# Here is the data\n",
    "indecesDs = xarray.open_dataset('results/cmip'+experiment+'TradIndeces.nc')\n",
    "\n",
    "indecesDs.experiment.values"
   ]
  },
  {
   "cell_type": "code",
   "execution_count": null,
   "metadata": {},
   "outputs": [],
   "source": [
    "indecesDs"
   ]
  },
  {
   "cell_type": "markdown",
   "metadata": {},
   "source": [
    "# Define a criteria to determine events"
   ]
  },
  {
   "cell_type": "markdown",
   "metadata": {},
   "source": [
    "So we are going to define events as follows:\n",
    "- For SST indeces (aka Enso and Iod), this is 1 sigma above/below mean\n",
    "- For PSL indeces (aka Sam) this is 0.5 sigma above/below mean\n",
    "\n",
    "For now, using a 850-1850 climatology"
   ]
  },
  {
   "cell_type": "code",
   "execution_count": null,
   "metadata": {},
   "outputs": [],
   "source": [
    "# This should calculate stds for all experiments and all indeces\n",
    "stdDa = indecesDs.std(dim='year')\n",
    "\n",
    "# define some criteria that we want to use to identifiy it thats an event\n",
    "criteriaDa= xarray.merge(\n",
    "    (stdDa[['nino34','dmi']], stdDa['sam']/2)\n",
    ")"
   ]
  },
  {
   "cell_type": "markdown",
   "metadata": {},
   "source": [
    "# Calculate the compounding years and plot an example"
   ]
  },
  {
   "cell_type": "code",
   "execution_count": null,
   "metadata": {},
   "outputs": [],
   "source": [
    "%run utils/compound.ipynb\n",
    "\n",
    "\n",
    "\n",
    "firePos, fireNeg = applyCriteria(indecesDs, criteriaDa)\n",
    "\n",
    "firePos=compound(firePos)\n",
    "\n",
    "fireNeg=compound(fireNeg)\n",
    "\n",
    "firePos.to_netcdf('results/cmip'+experiment+'FirePos.nc')\n",
    "\n",
    "fireNeg.to_netcdf('results/cmip'+experiment+'FireNeg.nc')"
   ]
  },
  {
   "cell_type": "code",
   "execution_count": null,
   "metadata": {},
   "outputs": [],
   "source": [
    "firePos"
   ]
  },
  {
   "cell_type": "code",
   "execution_count": null,
   "metadata": {},
   "outputs": [],
   "source": [
    "expToPlot = 'LME.002'\n",
    "\n",
    "toPlot=3*firePos.all3.sel(experiment=expToPlot)\n",
    "\n",
    "plt.figure(figsize=(12,12))\n",
    "\n",
    "plt.vlines(\n",
    "    x=firePos.year, \n",
    "    ymin=0,\n",
    "    ymax=toPlot,\n",
    "    label='all3'\n",
    ")\n",
    "\n",
    "colors=['orange', 'purple', 'green']\n",
    "iCol = 0\n",
    "\n",
    "for iPair in firePos.attrs['pairs']:\n",
    "    plt.vlines(\n",
    "        x=firePos.year, \n",
    "        ymin=0,\n",
    "        ymax=2*firePos[iPair].sel(experiment=expToPlot),\n",
    "        color=colors[iCol],\n",
    "        label=iPair\n",
    "    )\n",
    "    iCol+=1\n",
    "plt.legend()\n",
    "plt.xlim(1700,2100)\n",
    "plt.title(expToPlot+': Pairs and all-three compounds for individal years')"
   ]
  },
  {
   "cell_type": "code",
   "execution_count": null,
   "metadata": {},
   "outputs": [],
   "source": []
  }
 ],
 "metadata": {
  "kernelspec": {
   "display_name": "Python 3",
   "language": "python",
   "name": "python3"
  },
  "language_info": {
   "codemirror_mode": {
    "name": "ipython",
    "version": 3
   },
   "file_extension": ".py",
   "mimetype": "text/x-python",
   "name": "python",
   "nbconvert_exporter": "python",
   "pygments_lexer": "ipython3",
   "version": "3.8.5"
  }
 },
 "nbformat": 4,
 "nbformat_minor": 4
}
