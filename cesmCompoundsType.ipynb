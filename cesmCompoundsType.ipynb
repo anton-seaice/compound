{
 "cells": [
  {
   "cell_type": "markdown",
   "metadata": {},
   "source": [
    "# Plot Compound Years for CESM"
   ]
  },
  {
   "cell_type": "markdown",
   "metadata": {},
   "source": [
    "This file grabs the warm season indeces and sees if this shows us anything\n",
    "\n",
    "\n",
    "You need to run cesmIndeces.ipnyb first"
   ]
  },
  {
   "cell_type": "code",
   "execution_count": 1,
   "metadata": {},
   "outputs": [],
   "source": [
    "#For plots of a single experiment to demonstrate things, plot this one:\n",
    "\n",
    "expToPlot = 'LME.002'"
   ]
  },
  {
   "cell_type": "code",
   "execution_count": 2,
   "metadata": {},
   "outputs": [],
   "source": [
    "#import my functions\n",
    "import sys\n",
    "sys.path.append('../')\n",
    "\n",
    "#import my functions\n",
    "import utils._modelDefinitions as _model\n",
    "import utils._indexDefinitions as _index\n",
    "from utils.timePeriod import averageForTimePeriod\n",
    "\n",
    "%run \"utils/compound.ipynb\""
   ]
  },
  {
   "cell_type": "code",
   "execution_count": 3,
   "metadata": {},
   "outputs": [],
   "source": [
    "import xarray\n",
    "import matplotlib.pyplot as plt\n",
    "import numpy\n",
    "import pandas\n",
    "import scipy.stats\n",
    "\n",
    "%matplotlib inline"
   ]
  },
  {
   "cell_type": "code",
   "execution_count": 4,
   "metadata": {},
   "outputs": [],
   "source": [
    "firePos=xarray.open_dataset('results/cesmFirePos.nc')\n",
    "\n",
    "fireNeg=xarray.open_dataset('results/cesmFireNeg.nc')"
   ]
  },
  {
   "cell_type": "markdown",
   "metadata": {},
   "source": [
    "# In non-overlapping 30 year bins"
   ]
  },
  {
   "cell_type": "markdown",
   "metadata": {},
   "source": [
    "Calculate non-overlapping 30 year bins, and sum the number of events in them"
   ]
  },
  {
   "cell_type": "code",
   "execution_count": 5,
   "metadata": {
    "tags": []
   },
   "outputs": [],
   "source": [
    "yearBins=numpy.arange(860, 2100, 30)\n",
    "\n",
    "binMid=numpy.arange(875, 2086, 30)\n",
    "\n",
    "#binnedFirePos=firePos.groupby_bins('year', yearBins, labels=binMid).sum() #This line is a bit problematic. If you have all nans in the bin, it will give you a sum of 0. It is probably more useful to return a nan\n",
    "\n",
    "#Do the sum for each interval, but only it there are no Nans.\n",
    "binnedFirePos=firePos.groupby_bins('year', yearBins, labels=binMid).map(\n",
    "    lambda ds : ds.sum(dim='year').where(ds.isnull().any(dim='year')!=True)\n",
    ")\n",
    "binnedFirePos=binnedFirePos.rename({'year_bins':'year'})\n"
   ]
  },
  {
   "cell_type": "code",
   "execution_count": 6,
   "metadata": {},
   "outputs": [
    {
     "data": {
      "text/html": [
       "<div><svg style=\"position: absolute; width: 0; height: 0; overflow: hidden\">\n",
       "<defs>\n",
       "<symbol id=\"icon-database\" viewBox=\"0 0 32 32\">\n",
       "<path d=\"M16 0c-8.837 0-16 2.239-16 5v4c0 2.761 7.163 5 16 5s16-2.239 16-5v-4c0-2.761-7.163-5-16-5z\"></path>\n",
       "<path d=\"M16 17c-8.837 0-16-2.239-16-5v6c0 2.761 7.163 5 16 5s16-2.239 16-5v-6c0 2.761-7.163 5-16 5z\"></path>\n",
       "<path d=\"M16 26c-8.837 0-16-2.239-16-5v6c0 2.761 7.163 5 16 5s16-2.239 16-5v-6c0 2.761-7.163 5-16 5z\"></path>\n",
       "</symbol>\n",
       "<symbol id=\"icon-file-text2\" viewBox=\"0 0 32 32\">\n",
       "<path d=\"M28.681 7.159c-0.694-0.947-1.662-2.053-2.724-3.116s-2.169-2.030-3.116-2.724c-1.612-1.182-2.393-1.319-2.841-1.319h-15.5c-1.378 0-2.5 1.121-2.5 2.5v27c0 1.378 1.122 2.5 2.5 2.5h23c1.378 0 2.5-1.122 2.5-2.5v-19.5c0-0.448-0.137-1.23-1.319-2.841zM24.543 5.457c0.959 0.959 1.712 1.825 2.268 2.543h-4.811v-4.811c0.718 0.556 1.584 1.309 2.543 2.268zM28 29.5c0 0.271-0.229 0.5-0.5 0.5h-23c-0.271 0-0.5-0.229-0.5-0.5v-27c0-0.271 0.229-0.5 0.5-0.5 0 0 15.499-0 15.5 0v7c0 0.552 0.448 1 1 1h7v19.5z\"></path>\n",
       "<path d=\"M23 26h-14c-0.552 0-1-0.448-1-1s0.448-1 1-1h14c0.552 0 1 0.448 1 1s-0.448 1-1 1z\"></path>\n",
       "<path d=\"M23 22h-14c-0.552 0-1-0.448-1-1s0.448-1 1-1h14c0.552 0 1 0.448 1 1s-0.448 1-1 1z\"></path>\n",
       "<path d=\"M23 18h-14c-0.552 0-1-0.448-1-1s0.448-1 1-1h14c0.552 0 1 0.448 1 1s-0.448 1-1 1z\"></path>\n",
       "</symbol>\n",
       "</defs>\n",
       "</svg>\n",
       "<style>/* CSS stylesheet for displaying xarray objects in jupyterlab.\n",
       " *\n",
       " */\n",
       "\n",
       ":root {\n",
       "  --xr-font-color0: var(--jp-content-font-color0, rgba(0, 0, 0, 1));\n",
       "  --xr-font-color2: var(--jp-content-font-color2, rgba(0, 0, 0, 0.54));\n",
       "  --xr-font-color3: var(--jp-content-font-color3, rgba(0, 0, 0, 0.38));\n",
       "  --xr-border-color: var(--jp-border-color2, #e0e0e0);\n",
       "  --xr-disabled-color: var(--jp-layout-color3, #bdbdbd);\n",
       "  --xr-background-color: var(--jp-layout-color0, white);\n",
       "  --xr-background-color-row-even: var(--jp-layout-color1, white);\n",
       "  --xr-background-color-row-odd: var(--jp-layout-color2, #eeeeee);\n",
       "}\n",
       "\n",
       "html[theme=dark],\n",
       "body.vscode-dark {\n",
       "  --xr-font-color0: rgba(255, 255, 255, 1);\n",
       "  --xr-font-color2: rgba(255, 255, 255, 0.54);\n",
       "  --xr-font-color3: rgba(255, 255, 255, 0.38);\n",
       "  --xr-border-color: #1F1F1F;\n",
       "  --xr-disabled-color: #515151;\n",
       "  --xr-background-color: #111111;\n",
       "  --xr-background-color-row-even: #111111;\n",
       "  --xr-background-color-row-odd: #313131;\n",
       "}\n",
       "\n",
       ".xr-wrap {\n",
       "  display: block;\n",
       "  min-width: 300px;\n",
       "  max-width: 700px;\n",
       "}\n",
       "\n",
       ".xr-text-repr-fallback {\n",
       "  /* fallback to plain text repr when CSS is not injected (untrusted notebook) */\n",
       "  display: none;\n",
       "}\n",
       "\n",
       ".xr-header {\n",
       "  padding-top: 6px;\n",
       "  padding-bottom: 6px;\n",
       "  margin-bottom: 4px;\n",
       "  border-bottom: solid 1px var(--xr-border-color);\n",
       "}\n",
       "\n",
       ".xr-header > div,\n",
       ".xr-header > ul {\n",
       "  display: inline;\n",
       "  margin-top: 0;\n",
       "  margin-bottom: 0;\n",
       "}\n",
       "\n",
       ".xr-obj-type,\n",
       ".xr-array-name {\n",
       "  margin-left: 2px;\n",
       "  margin-right: 10px;\n",
       "}\n",
       "\n",
       ".xr-obj-type {\n",
       "  color: var(--xr-font-color2);\n",
       "}\n",
       "\n",
       ".xr-sections {\n",
       "  padding-left: 0 !important;\n",
       "  display: grid;\n",
       "  grid-template-columns: 150px auto auto 1fr 20px 20px;\n",
       "}\n",
       "\n",
       ".xr-section-item {\n",
       "  display: contents;\n",
       "}\n",
       "\n",
       ".xr-section-item input {\n",
       "  display: none;\n",
       "}\n",
       "\n",
       ".xr-section-item input + label {\n",
       "  color: var(--xr-disabled-color);\n",
       "}\n",
       "\n",
       ".xr-section-item input:enabled + label {\n",
       "  cursor: pointer;\n",
       "  color: var(--xr-font-color2);\n",
       "}\n",
       "\n",
       ".xr-section-item input:enabled + label:hover {\n",
       "  color: var(--xr-font-color0);\n",
       "}\n",
       "\n",
       ".xr-section-summary {\n",
       "  grid-column: 1;\n",
       "  color: var(--xr-font-color2);\n",
       "  font-weight: 500;\n",
       "}\n",
       "\n",
       ".xr-section-summary > span {\n",
       "  display: inline-block;\n",
       "  padding-left: 0.5em;\n",
       "}\n",
       "\n",
       ".xr-section-summary-in:disabled + label {\n",
       "  color: var(--xr-font-color2);\n",
       "}\n",
       "\n",
       ".xr-section-summary-in + label:before {\n",
       "  display: inline-block;\n",
       "  content: '►';\n",
       "  font-size: 11px;\n",
       "  width: 15px;\n",
       "  text-align: center;\n",
       "}\n",
       "\n",
       ".xr-section-summary-in:disabled + label:before {\n",
       "  color: var(--xr-disabled-color);\n",
       "}\n",
       "\n",
       ".xr-section-summary-in:checked + label:before {\n",
       "  content: '▼';\n",
       "}\n",
       "\n",
       ".xr-section-summary-in:checked + label > span {\n",
       "  display: none;\n",
       "}\n",
       "\n",
       ".xr-section-summary,\n",
       ".xr-section-inline-details {\n",
       "  padding-top: 4px;\n",
       "  padding-bottom: 4px;\n",
       "}\n",
       "\n",
       ".xr-section-inline-details {\n",
       "  grid-column: 2 / -1;\n",
       "}\n",
       "\n",
       ".xr-section-details {\n",
       "  display: none;\n",
       "  grid-column: 1 / -1;\n",
       "  margin-bottom: 5px;\n",
       "}\n",
       "\n",
       ".xr-section-summary-in:checked ~ .xr-section-details {\n",
       "  display: contents;\n",
       "}\n",
       "\n",
       ".xr-array-wrap {\n",
       "  grid-column: 1 / -1;\n",
       "  display: grid;\n",
       "  grid-template-columns: 20px auto;\n",
       "}\n",
       "\n",
       ".xr-array-wrap > label {\n",
       "  grid-column: 1;\n",
       "  vertical-align: top;\n",
       "}\n",
       "\n",
       ".xr-preview {\n",
       "  color: var(--xr-font-color3);\n",
       "}\n",
       "\n",
       ".xr-array-preview,\n",
       ".xr-array-data {\n",
       "  padding: 0 5px !important;\n",
       "  grid-column: 2;\n",
       "}\n",
       "\n",
       ".xr-array-data,\n",
       ".xr-array-in:checked ~ .xr-array-preview {\n",
       "  display: none;\n",
       "}\n",
       "\n",
       ".xr-array-in:checked ~ .xr-array-data,\n",
       ".xr-array-preview {\n",
       "  display: inline-block;\n",
       "}\n",
       "\n",
       ".xr-dim-list {\n",
       "  display: inline-block !important;\n",
       "  list-style: none;\n",
       "  padding: 0 !important;\n",
       "  margin: 0;\n",
       "}\n",
       "\n",
       ".xr-dim-list li {\n",
       "  display: inline-block;\n",
       "  padding: 0;\n",
       "  margin: 0;\n",
       "}\n",
       "\n",
       ".xr-dim-list:before {\n",
       "  content: '(';\n",
       "}\n",
       "\n",
       ".xr-dim-list:after {\n",
       "  content: ')';\n",
       "}\n",
       "\n",
       ".xr-dim-list li:not(:last-child):after {\n",
       "  content: ',';\n",
       "  padding-right: 5px;\n",
       "}\n",
       "\n",
       ".xr-has-index {\n",
       "  font-weight: bold;\n",
       "}\n",
       "\n",
       ".xr-var-list,\n",
       ".xr-var-item {\n",
       "  display: contents;\n",
       "}\n",
       "\n",
       ".xr-var-item > div,\n",
       ".xr-var-item label,\n",
       ".xr-var-item > .xr-var-name span {\n",
       "  background-color: var(--xr-background-color-row-even);\n",
       "  margin-bottom: 0;\n",
       "}\n",
       "\n",
       ".xr-var-item > .xr-var-name:hover span {\n",
       "  padding-right: 5px;\n",
       "}\n",
       "\n",
       ".xr-var-list > li:nth-child(odd) > div,\n",
       ".xr-var-list > li:nth-child(odd) > label,\n",
       ".xr-var-list > li:nth-child(odd) > .xr-var-name span {\n",
       "  background-color: var(--xr-background-color-row-odd);\n",
       "}\n",
       "\n",
       ".xr-var-name {\n",
       "  grid-column: 1;\n",
       "}\n",
       "\n",
       ".xr-var-dims {\n",
       "  grid-column: 2;\n",
       "}\n",
       "\n",
       ".xr-var-dtype {\n",
       "  grid-column: 3;\n",
       "  text-align: right;\n",
       "  color: var(--xr-font-color2);\n",
       "}\n",
       "\n",
       ".xr-var-preview {\n",
       "  grid-column: 4;\n",
       "}\n",
       "\n",
       ".xr-var-name,\n",
       ".xr-var-dims,\n",
       ".xr-var-dtype,\n",
       ".xr-preview,\n",
       ".xr-attrs dt {\n",
       "  white-space: nowrap;\n",
       "  overflow: hidden;\n",
       "  text-overflow: ellipsis;\n",
       "  padding-right: 10px;\n",
       "}\n",
       "\n",
       ".xr-var-name:hover,\n",
       ".xr-var-dims:hover,\n",
       ".xr-var-dtype:hover,\n",
       ".xr-attrs dt:hover {\n",
       "  overflow: visible;\n",
       "  width: auto;\n",
       "  z-index: 1;\n",
       "}\n",
       "\n",
       ".xr-var-attrs,\n",
       ".xr-var-data {\n",
       "  display: none;\n",
       "  background-color: var(--xr-background-color) !important;\n",
       "  padding-bottom: 5px !important;\n",
       "}\n",
       "\n",
       ".xr-var-attrs-in:checked ~ .xr-var-attrs,\n",
       ".xr-var-data-in:checked ~ .xr-var-data {\n",
       "  display: block;\n",
       "}\n",
       "\n",
       ".xr-var-data > table {\n",
       "  float: right;\n",
       "}\n",
       "\n",
       ".xr-var-name span,\n",
       ".xr-var-data,\n",
       ".xr-attrs {\n",
       "  padding-left: 25px !important;\n",
       "}\n",
       "\n",
       ".xr-attrs,\n",
       ".xr-var-attrs,\n",
       ".xr-var-data {\n",
       "  grid-column: 1 / -1;\n",
       "}\n",
       "\n",
       "dl.xr-attrs {\n",
       "  padding: 0;\n",
       "  margin: 0;\n",
       "  display: grid;\n",
       "  grid-template-columns: 125px auto;\n",
       "}\n",
       "\n",
       ".xr-attrs dt,\n",
       ".xr-attrs dd {\n",
       "  padding: 0;\n",
       "  margin: 0;\n",
       "  float: left;\n",
       "  padding-right: 10px;\n",
       "  width: auto;\n",
       "}\n",
       "\n",
       ".xr-attrs dt {\n",
       "  font-weight: normal;\n",
       "  grid-column: 1;\n",
       "}\n",
       "\n",
       ".xr-attrs dt:hover span {\n",
       "  display: inline-block;\n",
       "  background: var(--xr-background-color);\n",
       "  padding-right: 10px;\n",
       "}\n",
       "\n",
       ".xr-attrs dd {\n",
       "  grid-column: 2;\n",
       "  white-space: pre-wrap;\n",
       "  word-break: break-all;\n",
       "}\n",
       "\n",
       ".xr-icon-database,\n",
       ".xr-icon-file-text2 {\n",
       "  display: inline-block;\n",
       "  vertical-align: middle;\n",
       "  width: 1em;\n",
       "  height: 1.5em !important;\n",
       "  stroke-width: 0;\n",
       "  stroke: currentColor;\n",
       "  fill: currentColor;\n",
       "}\n",
       "</style><pre class='xr-text-repr-fallback'>&lt;xarray.Dataset&gt;\n",
       "Dimensions:     (year: 41)\n",
       "Coordinates:\n",
       "  * year        (year) int64 875 905 935 965 995 ... 1955 1985 2015 2045 2075\n",
       "    experiment  &lt;U7 &#x27;LME.002&#x27;\n",
       "Data variables:\n",
       "    dmi         (year) float64 9.0 4.0 7.0 7.0 8.0 6.0 ... 4.0 7.0 8.0 6.0 12.0\n",
       "    nino34      (year) float64 5.0 3.0 5.0 4.0 6.0 2.0 ... 7.0 5.0 5.0 7.0 7.0\n",
       "    sam         (year) float64 12.0 9.0 5.0 12.0 6.0 6.0 ... 7.0 0.0 1.0 1.0 0.0\n",
       "    nEvents     (year) float64 26.0 16.0 17.0 23.0 20.0 ... 12.0 14.0 14.0 19.0\n",
       "    all3        (year) float64 5.0 2.0 1.0 1.0 1.0 0.0 ... 1.0 0.0 0.0 0.0 0.0\n",
       "    nino34+dmi  (year) float64 0.0 0.0 4.0 2.0 3.0 0.0 ... 3.0 4.0 5.0 4.0 7.0\n",
       "    nino34+sam  (year) float64 0.0 1.0 0.0 1.0 0.0 1.0 ... 1.0 0.0 0.0 0.0 0.0\n",
       "    dmi+sam     (year) float64 1.0 1.0 0.0 1.0 1.0 1.0 ... 0.0 0.0 0.0 0.0 0.0</pre><div class='xr-wrap' hidden><div class='xr-header'><div class='xr-obj-type'>xarray.Dataset</div></div><ul class='xr-sections'><li class='xr-section-item'><input id='section-1e24e85f-d699-4a55-bee2-228b072876f6' class='xr-section-summary-in' type='checkbox' disabled ><label for='section-1e24e85f-d699-4a55-bee2-228b072876f6' class='xr-section-summary'  title='Expand/collapse section'>Dimensions:</label><div class='xr-section-inline-details'><ul class='xr-dim-list'><li><span class='xr-has-index'>year</span>: 41</li></ul></div><div class='xr-section-details'></div></li><li class='xr-section-item'><input id='section-b5389e70-b966-4f50-8dca-cb337c79b51c' class='xr-section-summary-in' type='checkbox'  checked><label for='section-b5389e70-b966-4f50-8dca-cb337c79b51c' class='xr-section-summary' >Coordinates: <span>(2)</span></label><div class='xr-section-inline-details'></div><div class='xr-section-details'><ul class='xr-var-list'><li class='xr-var-item'><div class='xr-var-name'><span class='xr-has-index'>year</span></div><div class='xr-var-dims'>(year)</div><div class='xr-var-dtype'>int64</div><div class='xr-var-preview xr-preview'>875 905 935 965 ... 2015 2045 2075</div><input id='attrs-47008386-a561-499a-aa24-c965bbc3c27a' class='xr-var-attrs-in' type='checkbox' disabled><label for='attrs-47008386-a561-499a-aa24-c965bbc3c27a' title='Show/Hide attributes'><svg class='icon xr-icon-file-text2'><use xlink:href='#icon-file-text2'></use></svg></label><input id='data-3806c370-2e68-4b81-90be-093c94cbad58' class='xr-var-data-in' type='checkbox'><label for='data-3806c370-2e68-4b81-90be-093c94cbad58' title='Show/Hide data repr'><svg class='icon xr-icon-database'><use xlink:href='#icon-database'></use></svg></label><div class='xr-var-attrs'><dl class='xr-attrs'></dl></div><div class='xr-var-data'><pre>array([ 875,  905,  935,  965,  995, 1025, 1055, 1085, 1115, 1145, 1175, 1205,\n",
       "       1235, 1265, 1295, 1325, 1355, 1385, 1415, 1445, 1475, 1505, 1535, 1565,\n",
       "       1595, 1625, 1655, 1685, 1715, 1745, 1775, 1805, 1835, 1865, 1895, 1925,\n",
       "       1955, 1985, 2015, 2045, 2075], dtype=int64)</pre></div></li><li class='xr-var-item'><div class='xr-var-name'><span>experiment</span></div><div class='xr-var-dims'>()</div><div class='xr-var-dtype'>&lt;U7</div><div class='xr-var-preview xr-preview'>&#x27;LME.002&#x27;</div><input id='attrs-3710bda5-30b5-4d0e-974f-156b0a22f05d' class='xr-var-attrs-in' type='checkbox' disabled><label for='attrs-3710bda5-30b5-4d0e-974f-156b0a22f05d' title='Show/Hide attributes'><svg class='icon xr-icon-file-text2'><use xlink:href='#icon-file-text2'></use></svg></label><input id='data-75224f1a-e8f4-4367-9144-f92120043cfa' class='xr-var-data-in' type='checkbox'><label for='data-75224f1a-e8f4-4367-9144-f92120043cfa' title='Show/Hide data repr'><svg class='icon xr-icon-database'><use xlink:href='#icon-database'></use></svg></label><div class='xr-var-attrs'><dl class='xr-attrs'></dl></div><div class='xr-var-data'><pre>array(&#x27;LME.002&#x27;, dtype=&#x27;&lt;U7&#x27;)</pre></div></li></ul></div></li><li class='xr-section-item'><input id='section-b7452e2f-73fe-4551-adeb-c733e19f1447' class='xr-section-summary-in' type='checkbox'  checked><label for='section-b7452e2f-73fe-4551-adeb-c733e19f1447' class='xr-section-summary' >Data variables: <span>(8)</span></label><div class='xr-section-inline-details'></div><div class='xr-section-details'><ul class='xr-var-list'><li class='xr-var-item'><div class='xr-var-name'><span>dmi</span></div><div class='xr-var-dims'>(year)</div><div class='xr-var-dtype'>float64</div><div class='xr-var-preview xr-preview'>9.0 4.0 7.0 7.0 ... 8.0 6.0 12.0</div><input id='attrs-0653dadc-f87a-4f4a-b2b5-276eb43a256b' class='xr-var-attrs-in' type='checkbox' disabled><label for='attrs-0653dadc-f87a-4f4a-b2b5-276eb43a256b' title='Show/Hide attributes'><svg class='icon xr-icon-file-text2'><use xlink:href='#icon-file-text2'></use></svg></label><input id='data-cb473431-713c-410f-b397-8116e69daf63' class='xr-var-data-in' type='checkbox'><label for='data-cb473431-713c-410f-b397-8116e69daf63' title='Show/Hide data repr'><svg class='icon xr-icon-database'><use xlink:href='#icon-database'></use></svg></label><div class='xr-var-attrs'><dl class='xr-attrs'></dl></div><div class='xr-var-data'><pre>array([ 9.,  4.,  7.,  7.,  8.,  6.,  3.,  8.,  7.,  5.,  8.,  7.,  6.,\n",
       "        6.,  8.,  6.,  3.,  5.,  8.,  7.,  6., 10.,  6.,  7.,  3.,  8.,\n",
       "        7.,  4.,  7.,  6.,  6.,  4.,  5.,  6.,  7.,  7.,  4.,  7.,  8.,\n",
       "        6., 12.])</pre></div></li><li class='xr-var-item'><div class='xr-var-name'><span>nino34</span></div><div class='xr-var-dims'>(year)</div><div class='xr-var-dtype'>float64</div><div class='xr-var-preview xr-preview'>5.0 3.0 5.0 4.0 ... 5.0 5.0 7.0 7.0</div><input id='attrs-d3a2776d-151d-4543-8bb9-82182d1442f3' class='xr-var-attrs-in' type='checkbox' disabled><label for='attrs-d3a2776d-151d-4543-8bb9-82182d1442f3' title='Show/Hide attributes'><svg class='icon xr-icon-file-text2'><use xlink:href='#icon-file-text2'></use></svg></label><input id='data-04cffd61-08df-428d-889f-4eea99d9cd2c' class='xr-var-data-in' type='checkbox'><label for='data-04cffd61-08df-428d-889f-4eea99d9cd2c' title='Show/Hide data repr'><svg class='icon xr-icon-database'><use xlink:href='#icon-database'></use></svg></label><div class='xr-var-attrs'><dl class='xr-attrs'></dl></div><div class='xr-var-data'><pre>array([5., 3., 5., 4., 6., 2., 3., 4., 3., 2., 6., 4., 5., 5., 4., 3., 3.,\n",
       "       6., 4., 4., 4., 5., 7., 2., 7., 4., 5., 4., 4., 2., 5., 3., 4., 5.,\n",
       "       6., 7., 7., 5., 5., 7., 7.])</pre></div></li><li class='xr-var-item'><div class='xr-var-name'><span>sam</span></div><div class='xr-var-dims'>(year)</div><div class='xr-var-dtype'>float64</div><div class='xr-var-preview xr-preview'>12.0 9.0 5.0 12.0 ... 1.0 1.0 0.0</div><input id='attrs-6019633e-3b3e-4d1d-a362-2096542341e1' class='xr-var-attrs-in' type='checkbox' disabled><label for='attrs-6019633e-3b3e-4d1d-a362-2096542341e1' title='Show/Hide attributes'><svg class='icon xr-icon-file-text2'><use xlink:href='#icon-file-text2'></use></svg></label><input id='data-02496f90-7015-4707-bd62-cba9d3377345' class='xr-var-data-in' type='checkbox'><label for='data-02496f90-7015-4707-bd62-cba9d3377345' title='Show/Hide data repr'><svg class='icon xr-icon-database'><use xlink:href='#icon-database'></use></svg></label><div class='xr-var-attrs'><dl class='xr-attrs'></dl></div><div class='xr-var-data'><pre>array([12.,  9.,  5., 12.,  6.,  6., 10.,  6.,  6.,  7.,  3., 10.,  7.,\n",
       "       12., 10.,  9.,  9., 10.,  8.,  9., 11.,  8.,  9.,  9.,  6.,  7.,\n",
       "       10.,  7.,  9.,  8.,  9., 12.,  7.,  7.,  4.,  7.,  7.,  0.,  1.,\n",
       "        1.,  0.])</pre></div></li><li class='xr-var-item'><div class='xr-var-name'><span>nEvents</span></div><div class='xr-var-dims'>(year)</div><div class='xr-var-dtype'>float64</div><div class='xr-var-preview xr-preview'>26.0 16.0 17.0 ... 14.0 14.0 19.0</div><input id='attrs-a2a9e4ac-7b7f-4004-b620-5fd193cf7ac7' class='xr-var-attrs-in' type='checkbox' disabled><label for='attrs-a2a9e4ac-7b7f-4004-b620-5fd193cf7ac7' title='Show/Hide attributes'><svg class='icon xr-icon-file-text2'><use xlink:href='#icon-file-text2'></use></svg></label><input id='data-cfdf6340-d06c-43aa-a8f9-2014c676749b' class='xr-var-data-in' type='checkbox'><label for='data-cfdf6340-d06c-43aa-a8f9-2014c676749b' title='Show/Hide data repr'><svg class='icon xr-icon-database'><use xlink:href='#icon-database'></use></svg></label><div class='xr-var-attrs'><dl class='xr-attrs'></dl></div><div class='xr-var-data'><pre>array([26., 16., 17., 23., 20., 14., 16., 18., 16., 14., 17., 21., 18.,\n",
       "       23., 22., 18., 15., 21., 20., 20., 21., 23., 22., 18., 16., 19.,\n",
       "       22., 15., 20., 16., 20., 19., 16., 18., 17., 21., 18., 12., 14.,\n",
       "       14., 19.])</pre></div></li><li class='xr-var-item'><div class='xr-var-name'><span>all3</span></div><div class='xr-var-dims'>(year)</div><div class='xr-var-dtype'>float64</div><div class='xr-var-preview xr-preview'>5.0 2.0 1.0 1.0 ... 0.0 0.0 0.0 0.0</div><input id='attrs-30dca468-b292-4b1c-ba8f-985bcf98bdd0' class='xr-var-attrs-in' type='checkbox' disabled><label for='attrs-30dca468-b292-4b1c-ba8f-985bcf98bdd0' title='Show/Hide attributes'><svg class='icon xr-icon-file-text2'><use xlink:href='#icon-file-text2'></use></svg></label><input id='data-6d53181f-fe5c-4724-8111-8dab002b14a0' class='xr-var-data-in' type='checkbox'><label for='data-6d53181f-fe5c-4724-8111-8dab002b14a0' title='Show/Hide data repr'><svg class='icon xr-icon-database'><use xlink:href='#icon-database'></use></svg></label><div class='xr-var-attrs'><dl class='xr-attrs'></dl></div><div class='xr-var-data'><pre>array([5., 2., 1., 1., 1., 0., 2., 3., 0., 0., 1., 3., 2., 1., 2., 1., 0.,\n",
       "       3., 2., 2., 3., 3., 4., 0., 0., 1., 3., 1., 2., 1., 1., 0., 2., 2.,\n",
       "       0., 1., 1., 0., 0., 0., 0.])</pre></div></li><li class='xr-var-item'><div class='xr-var-name'><span>nino34+dmi</span></div><div class='xr-var-dims'>(year)</div><div class='xr-var-dtype'>float64</div><div class='xr-var-preview xr-preview'>0.0 0.0 4.0 2.0 ... 4.0 5.0 4.0 7.0</div><input id='attrs-b0bafdbb-e398-409a-9c46-5aaddd368193' class='xr-var-attrs-in' type='checkbox' disabled><label for='attrs-b0bafdbb-e398-409a-9c46-5aaddd368193' title='Show/Hide attributes'><svg class='icon xr-icon-file-text2'><use xlink:href='#icon-file-text2'></use></svg></label><input id='data-db26ac1d-069e-4f22-9c8a-179c09829b3d' class='xr-var-data-in' type='checkbox'><label for='data-db26ac1d-069e-4f22-9c8a-179c09829b3d' title='Show/Hide data repr'><svg class='icon xr-icon-database'><use xlink:href='#icon-database'></use></svg></label><div class='xr-var-attrs'><dl class='xr-attrs'></dl></div><div class='xr-var-data'><pre>array([0., 0., 4., 2., 3., 0., 0., 0., 1., 1., 4., 1., 1., 2., 2., 0., 1.,\n",
       "       1., 2., 2., 1., 1., 1., 1., 3., 2., 1., 3., 1., 1., 3., 0., 1., 3.,\n",
       "       5., 5., 3., 4., 5., 4., 7.])</pre></div></li><li class='xr-var-item'><div class='xr-var-name'><span>nino34+sam</span></div><div class='xr-var-dims'>(year)</div><div class='xr-var-dtype'>float64</div><div class='xr-var-preview xr-preview'>0.0 1.0 0.0 1.0 ... 0.0 0.0 0.0 0.0</div><input id='attrs-69ae7a9d-524e-46f0-969c-d574fac9ee5f' class='xr-var-attrs-in' type='checkbox' disabled><label for='attrs-69ae7a9d-524e-46f0-969c-d574fac9ee5f' title='Show/Hide attributes'><svg class='icon xr-icon-file-text2'><use xlink:href='#icon-file-text2'></use></svg></label><input id='data-c5f3546d-7483-4b4f-a475-f0be66eb7282' class='xr-var-data-in' type='checkbox'><label for='data-c5f3546d-7483-4b4f-a475-f0be66eb7282' title='Show/Hide data repr'><svg class='icon xr-icon-database'><use xlink:href='#icon-database'></use></svg></label><div class='xr-var-attrs'><dl class='xr-attrs'></dl></div><div class='xr-var-data'><pre>array([0., 1., 0., 1., 0., 1., 1., 0., 0., 0., 0., 0., 2., 1., 0., 1., 2.,\n",
       "       2., 0., 0., 0., 1., 1., 1., 2., 1., 1., 0., 1., 0., 1., 2., 1., 0.,\n",
       "       0., 1., 1., 0., 0., 0., 0.])</pre></div></li><li class='xr-var-item'><div class='xr-var-name'><span>dmi+sam</span></div><div class='xr-var-dims'>(year)</div><div class='xr-var-dtype'>float64</div><div class='xr-var-preview xr-preview'>1.0 1.0 0.0 1.0 ... 0.0 0.0 0.0 0.0</div><input id='attrs-eb88df6e-c9f9-4ae0-889b-c5d14d67714b' class='xr-var-attrs-in' type='checkbox' disabled><label for='attrs-eb88df6e-c9f9-4ae0-889b-c5d14d67714b' title='Show/Hide attributes'><svg class='icon xr-icon-file-text2'><use xlink:href='#icon-file-text2'></use></svg></label><input id='data-37b26e87-5651-461c-bd7c-086fa1ffffc2' class='xr-var-data-in' type='checkbox'><label for='data-37b26e87-5651-461c-bd7c-086fa1ffffc2' title='Show/Hide data repr'><svg class='icon xr-icon-database'><use xlink:href='#icon-database'></use></svg></label><div class='xr-var-attrs'><dl class='xr-attrs'></dl></div><div class='xr-var-data'><pre>array([1., 1., 0., 1., 1., 1., 0., 1., 2., 0., 0., 1., 0., 1., 1., 1., 1.,\n",
       "       1., 1., 1., 2., 2., 0., 1., 0., 2., 0., 0., 2., 0., 0., 2., 0., 0.,\n",
       "       0., 1., 0., 0., 0., 0., 0.])</pre></div></li></ul></div></li><li class='xr-section-item'><input id='section-d437d91e-de33-43de-a799-6d9912d30225' class='xr-section-summary-in' type='checkbox' disabled ><label for='section-d437d91e-de33-43de-a799-6d9912d30225' class='xr-section-summary'  title='Expand/collapse section'>Attributes: <span>(0)</span></label><div class='xr-section-inline-details'></div><div class='xr-section-details'><dl class='xr-attrs'></dl></div></li></ul></div></div>"
      ],
      "text/plain": [
       "<xarray.Dataset>\n",
       "Dimensions:     (year: 41)\n",
       "Coordinates:\n",
       "  * year        (year) int64 875 905 935 965 995 ... 1955 1985 2015 2045 2075\n",
       "    experiment  <U7 'LME.002'\n",
       "Data variables:\n",
       "    dmi         (year) float64 9.0 4.0 7.0 7.0 8.0 6.0 ... 4.0 7.0 8.0 6.0 12.0\n",
       "    nino34      (year) float64 5.0 3.0 5.0 4.0 6.0 2.0 ... 7.0 5.0 5.0 7.0 7.0\n",
       "    sam         (year) float64 12.0 9.0 5.0 12.0 6.0 6.0 ... 7.0 0.0 1.0 1.0 0.0\n",
       "    nEvents     (year) float64 26.0 16.0 17.0 23.0 20.0 ... 12.0 14.0 14.0 19.0\n",
       "    all3        (year) float64 5.0 2.0 1.0 1.0 1.0 0.0 ... 1.0 0.0 0.0 0.0 0.0\n",
       "    nino34+dmi  (year) float64 0.0 0.0 4.0 2.0 3.0 0.0 ... 3.0 4.0 5.0 4.0 7.0\n",
       "    nino34+sam  (year) float64 0.0 1.0 0.0 1.0 0.0 1.0 ... 1.0 0.0 0.0 0.0 0.0\n",
       "    dmi+sam     (year) float64 1.0 1.0 0.0 1.0 1.0 1.0 ... 0.0 0.0 0.0 0.0 0.0"
      ]
     },
     "execution_count": 6,
     "metadata": {},
     "output_type": "execute_result"
    }
   ],
   "source": [
    "binnedFirePos.sel(experiment='LME.002')"
   ]
  },
  {
   "cell_type": "markdown",
   "metadata": {},
   "source": [
    "Plot the mean in each bin for the full forcing ensemble and the rcp85 extensions"
   ]
  },
  {
   "cell_type": "code",
   "execution_count": 28,
   "metadata": {
    "tags": []
   },
   "outputs": [],
   "source": [
    "pairs=firePos.attrs['pairs']\n",
    "toPlot=[*pairs,'all3']\n",
    "colors=['orange', 'purple', 'green','blue']\n",
    "\n",
    "def binPlot(da, expSet):\n",
    "\n",
    "    plt.figure(figsize=(18,6))\n",
    "\n",
    "    for counter in [0,1,2,3]:\n",
    "        plt.vlines(\n",
    "            x=da.year-3+1.5*counter, \n",
    "            ymin=0,\n",
    "            ymax=da[toPlot[counter]].sel(experiment=expSet).mean(dim='experiment'),\n",
    "            label=toPlot[counter],\n",
    "            color=colors[counter]\n",
    "        )\n",
    "\n",
    "    plt.legend(loc='upper left')\n",
    "    plt.xticks(ticks=da.year)\n",
    "    plt.xlim(1700,2100)\n",
    "    plt.xlabel('Mid-point of 30 year bin')\n",
    "    plt.ylim(0,8)\n",
    "    plt.ylabel('Number of events (mean)')\n",
    "    plt.title('Pairs and all-three for runs with ' + str(expSet))\n",
    "    plt.minorticks_on()"
   ]
  },
  {
   "cell_type": "code",
   "execution_count": 29,
   "metadata": {},
   "outputs": [
    {
     "data": {
      "image/png": "[encoded data removed]",
      "text/plain": [
       "<Figure size 1296x432 with 1 Axes>"
      ]
     },
     "metadata": {
      "needs_background": "light"
     },
     "output_type": "display_data"
    },
    {
     "data": {
      "image/png": "[encoded data removed]",
      "text/plain": [
       "<Figure size 1296x432 with 1 Axes>"
      ]
     },
     "metadata": {
      "needs_background": "light"
     },
     "output_type": "display_data"
    }
   ],
   "source": [
    "binPlot(binnedFirePos.where(binnedFirePos.year<=1985, drop=True), _model.cesmFullForcings)\n",
    "\n",
    "binPlot(binnedFirePos, _model.cesmRcp85)"
   ]
  },
  {
   "cell_type": "markdown",
   "metadata": {},
   "source": [
    "Group into three time periods: pre 1850, 1850-2005 and 2005 to 2100"
   ]
  },
  {
   "cell_type": "code",
   "execution_count": 30,
   "metadata": {},
   "outputs": [],
   "source": [
    "groupA = binnedFirePos.sel(experiment=_model.cesmNoRepeats, year=slice(850,1850))\n",
    "groupB = binnedFirePos.sel(experiment=_model.cesmNoRepeats, year=slice(1850,2006))\n",
    "groupC = binnedFirePos.sel(experiment=_model.cesmNoRepeats, year=slice(2006,2100))"
   ]
  },
  {
   "cell_type": "code",
   "execution_count": 31,
   "metadata": {},
   "outputs": [
    {
     "data": {
      "text/plain": [
       "array([ 5.,  3.,  6.,  5., nan, nan, nan, nan, nan, nan, nan, nan, nan,\n",
       "        7.,  5.,  6.,  7., nan, nan, nan, nan, nan, nan, nan, nan, nan,\n",
       "        7., 11., 10.,  8., nan, nan, nan, nan, nan, nan, nan, nan, nan])"
      ]
     },
     "execution_count": 31,
     "metadata": {},
     "output_type": "execute_result"
    }
   ],
   "source": [
    "groupC.nino34.values.flatten()"
   ]
  },
  {
   "cell_type": "code",
   "execution_count": 32,
   "metadata": {},
   "outputs": [
    {
     "name": "stdout",
     "output_type": "stream",
     "text": [
      "nino34+dmi\n",
      "F_onewayResult(statistic=nan, pvalue=nan)\n",
      "nino34+sam\n",
      "F_onewayResult(statistic=nan, pvalue=nan)\n",
      "dmi+sam\n",
      "F_onewayResult(statistic=nan, pvalue=nan)\n",
      "all3\n",
      "F_onewayResult(statistic=nan, pvalue=nan)\n"
     ]
    }
   ],
   "source": [
    "for iInd in toPlot:\n",
    "    print(iInd)\n",
    "    print(\n",
    "        scipy.stats.f_oneway(\n",
    "        groupA[iInd].values.flatten() , \n",
    "        groupB[iInd].values.flatten(), \n",
    "        groupC[iInd].values.flatten()\n",
    "        )\n",
    "    )"
   ]
  },
  {
   "cell_type": "code",
   "execution_count": 33,
   "metadata": {},
   "outputs": [
    {
     "name": "stdout",
     "output_type": "stream",
     "text": [
      "nino34+dmi\n",
      "Ttest_indResult(statistic=-4.4526780215668795, pvalue=1.0503432709625514e-05)\n",
      "nino34+sam\n",
      "Ttest_indResult(statistic=1.6404297310381832, pvalue=0.10155497189791542)\n",
      "dmi+sam\n",
      "Ttest_indResult(statistic=2.90410928047, pvalue=0.0038486082556662368)\n",
      "all3\n",
      "Ttest_indResult(statistic=3.6173225295063376, pvalue=0.0003284142289977348)\n"
     ]
    }
   ],
   "source": [
    "for iInd in toPlot:\n",
    "    print(iInd)\n",
    "    print(\n",
    "        scipy.stats.ttest_ind(groupA[iInd].values.flatten() , \n",
    "        groupB[iInd].values.flatten())\n",
    "    )\n",
    "    "
   ]
  },
  {
   "cell_type": "code",
   "execution_count": 34,
   "metadata": {},
   "outputs": [
    {
     "name": "stdout",
     "output_type": "stream",
     "text": [
      "nino34+dmi\n",
      "Ttest_indResult(statistic=nan, pvalue=nan)\n",
      "nino34+sam\n",
      "Ttest_indResult(statistic=nan, pvalue=nan)\n",
      "dmi+sam\n",
      "Ttest_indResult(statistic=nan, pvalue=nan)\n",
      "all3\n",
      "Ttest_indResult(statistic=nan, pvalue=nan)\n"
     ]
    }
   ],
   "source": [
    "for iInd in toPlot:\n",
    "    print(iInd)\n",
    "    print(\n",
    "        scipy.stats.ttest_ind(groupA[iInd].values.flatten() , \n",
    "        groupC[iInd].values.flatten())\n",
    "    )\n",
    "    "
   ]
  },
  {
   "cell_type": "code",
   "execution_count": 35,
   "metadata": {},
   "outputs": [],
   "source": [
    "def mySlowFunction(input):\n",
    "    y=input[0]\n",
    "    if y<1850:\n",
    "        result='A'\n",
    "    elif y<2006:\n",
    "        result='B'\n",
    "    else:\n",
    "        result='C'\n",
    "        \n",
    "    return result"
   ]
  },
  {
   "cell_type": "code",
   "execution_count": 36,
   "metadata": {
    "tags": []
   },
   "outputs": [
    {
     "data": {
      "text/plain": [
       "<AxesSubplot:title={'center':'nino34'}, xlabel='[<function mySlowFunction at 0x0000026BF201BF70>]'>"
      ]
     },
     "execution_count": 36,
     "metadata": {},
     "output_type": "execute_result"
    },
    {
     "data": {
      "image/png": "[encoded data removed]",
      "text/plain": [
       "<Figure size 432x288 with 1 Axes>"
      ]
     },
     "metadata": {
      "needs_background": "light"
     },
     "output_type": "display_data"
    }
   ],
   "source": [
    "binnedFirePos.sel(experiment=_model.cesmNoRepeats).nino34.to_dataframe().boxplot(by=mySlowFunction)\n"
   ]
  },
  {
   "cell_type": "markdown",
   "metadata": {},
   "source": [
    "# In overlapping 30 year bins"
   ]
  },
  {
   "cell_type": "code",
   "execution_count": 37,
   "metadata": {
    "tags": []
   },
   "outputs": [],
   "source": [
    "%run \"utils/compound.ipynb\"\n",
    "\n",
    "overBinFirePos = overlappingBinSum(firePos)"
   ]
  },
  {
   "cell_type": "code",
   "execution_count": 38,
   "metadata": {
    "tags": []
   },
   "outputs": [
    {
     "data": {
      "image/png": "[encoded data removed]",
      "text/plain": [
       "<Figure size 1296x432 with 1 Axes>"
      ]
     },
     "metadata": {
      "needs_background": "light"
     },
     "output_type": "display_data"
    },
    {
     "data": {
      "image/png": "[encoded data removed]",
      "text/plain": [
       "<Figure size 1296x432 with 1 Axes>"
      ]
     },
     "metadata": {
      "needs_background": "light"
     },
     "output_type": "display_data"
    }
   ],
   "source": [
    "binPlot(overBinFirePos, _model.cesmFullForcings)\n",
    "\n",
    "binPlot(overBinFirePos, _model.cesmRcp85)"
   ]
  },
  {
   "cell_type": "code",
   "execution_count": null,
   "metadata": {},
   "outputs": [],
   "source": []
  }
 ],
 "metadata": {
  "kernelspec": {
   "display_name": "Python 3",
   "language": "python",
   "name": "python3"
  },
  "language_info": {
   "codemirror_mode": {
    "name": "ipython",
    "version": 3
   },
   "file_extension": ".py",
   "mimetype": "text/x-python",
   "name": "python",
   "nbconvert_exporter": "python",
   "pygments_lexer": "ipython3",
   "version": "3.8.5"
  }
 },
 "nbformat": 4,
 "nbformat_minor": 4
}
