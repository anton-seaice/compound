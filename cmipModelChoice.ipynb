{
 "cells": [
  {
   "cell_type": "code",
   "execution_count": 1,
   "metadata": {},
   "outputs": [],
   "source": [
    "#Choose CMIP Models bsed on ENSO diversity"
   ]
  },
  {
   "cell_type": "code",
   "execution_count": 2,
   "metadata": {
    "tags": []
   },
   "outputs": [],
   "source": [
    "#import my functions\n",
    "import helpers.fileHandler as fh\n",
    "import utils._modelDefinitions as _model\n",
    "import utils._indexDefinitions as _index"
   ]
  },
  {
   "cell_type": "code",
   "execution_count": 3,
   "metadata": {
    "tags": []
   },
   "outputs": [],
   "source": [
    "import xarray\n",
    "import numpy\n",
    "import matplotlib.pyplot as plt\n",
    "import cartopy.crs as ccrs\n",
    "\n",
    "from eofs.xarray import Eof"
   ]
  },
  {
   "cell_type": "code",
   "execution_count": 4,
   "metadata": {},
   "outputs": [],
   "source": [
    "import warnings\n",
    "warnings.filterwarnings('ignore')"
   ]
  },
  {
   "cell_type": "markdown",
   "metadata": {},
   "source": [
    "For all models, calculate the alpha, and plot eof 1 and 2. The alpha is based on monthly eof1/2 for Dec-Jan-Feb only\n",
    "\n"
   ]
  },
  {
   "cell_type": "code",
   "execution_count": 5,
   "metadata": {},
   "outputs": [],
   "source": [
    "#modelSet=_model.scenarioMip[[4,6,7,29,30,31,32,33,34,36,37],:]"
   ]
  },
  {
   "cell_type": "code",
   "execution_count": 6,
   "metadata": {},
   "outputs": [],
   "source": [
    "modelSet=_model.scenarioMip"
   ]
  },
  {
   "cell_type": "code",
   "execution_count": 7,
   "metadata": {},
   "outputs": [
    {
     "data": {
      "text/plain": [
       "array([['CSIRO-ARCCSS', 'ACCESS-CM2', 'r1i1p1f1', 'r1i1p1f1'],\n",
       "       ['CSIRO', 'ACCESS-ESM1-5', 'r1i1p1f1', 'r1i1p1f1'],\n",
       "       ['AWI', 'AWI-CM-1-1-MR', 'r1i1p1f1', 'r1i1p1f1'],\n",
       "       ['BCC', 'BCC-CSM2-MR', 'r1i1p1f1', 'r1i1p1f1'],\n",
       "       ['CAMS', 'CAMS-CSM1-0', 'r1i1p1f1', 'r1i1p1f1'],\n",
       "       ['CAS', 'CAS-ESM2-0', 'r1i1p1f1', 'r1i1p1f1'],\n",
       "       ['NCAR', 'CESM2', 'r1i1p1f1', 'r10i1p1f1'],\n",
       "       ['NCAR', 'CESM2-WACCM', 'r1i1p1f1', 'r1i1p1f1'],\n",
       "       ['THU', 'CIESM', 'r1i1p1f1', 'r1i1p1f1'],\n",
       "       ['CMCC', 'CMCC-CM2-SR5', 'r1i1p1f1', 'r1i1p1f1'],\n",
       "       ['CMCC', 'CMCC-ESM2', 'r1i1p1f1', 'r1i1p1f1'],\n",
       "       ['CNRM-CERFACS', 'CNRM-CM6-1', 'r1i1p1f2', 'r1i1p1f2'],\n",
       "       ['CNRM-CERFACS', 'CNRM-ESM2-1', 'r1i1p1f2', 'r1i1p1f2'],\n",
       "       ['CCCma', 'CanESM5', 'r1i1p1f1', 'r1i1p1f1'],\n",
       "       ['CCCma', 'CanESM5-CanOE', 'r1i1p2f1', 'r1i1p2f1'],\n",
       "       ['EC-Earth-Consortium', 'EC-Earth3', 'r1i1p1f1', 'r1i1p1f1'],\n",
       "       ['EC-Earth-Consortium', 'EC-Earth3-CC', 'r1i1p1f1', 'r1i1p1f1'],\n",
       "       ['EC-Earth-Consortium', 'EC-Earth3-Veg', 'r1i1p1f1', 'r1i1p1f1'],\n",
       "       ['EC-Earth-Consortium', 'EC-Earth3-Veg-LR', 'r1i1p1f1',\n",
       "        'r1i1p1f1'],\n",
       "       ['NOAA-GFDL', 'GFDL-CM4', 'r1i1p1f1', 'r1i1p1f1'],\n",
       "       ['NOAA-GFDL', 'GFDL-ESM4', 'r1i1p1f1', 'r1i1p1f1'],\n",
       "       ['NASA-GISS', 'GISS-E2-1-G', 'r1i1p1f2', 'r1i1p1f2'],\n",
       "       ['MOHC', 'HadGEM3-GC31-LL', 'r1i1p1f1', 'r1i1p1f3'],\n",
       "       ['MOHC', 'HadGEM3-GC31-MM', 'r1i1p1f1', 'r1i1p1f3'],\n",
       "       ['INM', 'INM-CM4-8', 'r1i1p1f1', 'r1i1p1f1'],\n",
       "       ['INM', 'INM-CM5-0', 'r1i1p1f1', 'r1i1p1f1'],\n",
       "       ['IPSL', 'IPSL-CM6A-LR', 'r1i1p1f1', 'r1i1p1f1'],\n",
       "       ['NIMS-KMA', 'KACE-1-0-G', 'r1i1p1f1', 'r1i1p1f1'],\n",
       "       ['UA', 'MCM-UA-1-0', 'r1i1p1f1', 'r1i1p1f2'],\n",
       "       ['MIROC', 'MIROC-ES2L', 'r1i1p1f2', 'r1i1p1f2'],\n",
       "       ['MIROC', 'MIROC6', 'r1i1p1f1', 'r1i1p1f1'],\n",
       "       ['MPI-M', 'MPI-ESM1-2-HR', 'r1i1p1f1', 'r1i1p1f1'],\n",
       "       ['MPI-M', 'MPI-ESM1-2-LR', 'r1i1p1f1', 'r1i1p1f1'],\n",
       "       ['MRI', 'MRI-ESM2-0', 'r1i1p1f1', 'r1i1p1f1'],\n",
       "       ['NUIST', 'NESM3', 'r1i1p1f1', 'r1i1p1f1'],\n",
       "       ['NCC', 'NorESM2-LM', 'r1i1p1f1', 'r1i1p1f1'],\n",
       "       ['NCC', 'NorESM2-MM', 'r1i1p1f1', 'r1i1p1f1'],\n",
       "       ['MOHC', 'UKESM1-0-LL', 'r1i1p1f2', 'r1i1p1f2']], dtype='<U19')"
      ]
     },
     "execution_count": 7,
     "metadata": {},
     "output_type": "execute_result"
    }
   ],
   "source": [
    "modelSet"
   ]
  },
  {
   "cell_type": "code",
   "execution_count": null,
   "metadata": {},
   "outputs": [
    {
     "name": "stdout",
     "output_type": "stream",
     "text": [
      "ACCESS-CM2\n",
      "/g/data/oi10/replicas/CMIP6/CMIP/\n",
      "tos_Omon_.*?ACCESS-CM2_historical_r1i1p1f1_.*?_.*\n",
      "Files (filter term: tos_Omon_.*?ACCESS-CM2_historical_r1i1p1f1_.*?_.* ) not found, possibly test name is wrong\n",
      "ACCESS-ESM1-5\n",
      "/g/data/oi10/replicas/CMIP6/CMIP/\n",
      "tos_Omon_.*?ACCESS-ESM1-5_historical_r1i1p1f1_.*?_.*\n",
      "Files (filter term: tos_Omon_.*?ACCESS-ESM1-5_historical_r1i1p1f1_.*?_.* ) not found, possibly test name is wrong\n",
      "AWI-CM-1-1-MR\n",
      "/g/data/oi10/replicas/CMIP6/CMIP/\n",
      "tos_Omon_.*?AWI-CM-1-1-MR_historical_r1i1p1f1_.*?_.*\n",
      "['/g/data/oi10/replicas/CMIP6/CMIP//AWI/AWI-CM-1-1-MR/historical/r1i1p1f1/Omon/tos/gn/v20181218/tos_Omon_AWI-CM-1-1-MR_historical_r1i1p1f1_gn_188101-189012.nc', '/g/data/oi10/replicas/CMIP6/CMIP//AWI/AWI-CM-1-1-MR/historical/r1i1p1f1/Omon/tos/gn/v20181218/tos_Omon_AWI-CM-1-1-MR_historical_r1i1p1f1_gn_186101-187012.nc', '/g/data/oi10/replicas/CMIP6/CMIP//AWI/AWI-CM-1-1-MR/historical/r1i1p1f1/Omon/tos/gn/v20181218/tos_Omon_AWI-CM-1-1-MR_historical_r1i1p1f1_gn_195101-196012.nc', '/g/data/oi10/replicas/CMIP6/CMIP//AWI/AWI-CM-1-1-MR/historical/r1i1p1f1/Omon/tos/gn/v20181218/tos_Omon_AWI-CM-1-1-MR_historical_r1i1p1f1_gn_196101-197012.nc', '/g/data/oi10/replicas/CMIP6/CMIP//AWI/AWI-CM-1-1-MR/historical/r1i1p1f1/Omon/tos/gn/v20181218/tos_Omon_AWI-CM-1-1-MR_historical_r1i1p1f1_gn_198101-199012.nc', '/g/data/oi10/replicas/CMIP6/CMIP//AWI/AWI-CM-1-1-MR/historical/r1i1p1f1/Omon/tos/gn/v20181218/tos_Omon_AWI-CM-1-1-MR_historical_r1i1p1f1_gn_201101-201412.nc', '/g/data/oi10/replicas/CMIP6/CMIP//AWI/AWI-CM-1-1-MR/historical/r1i1p1f1/Omon/tos/gn/v20181218/tos_Omon_AWI-CM-1-1-MR_historical_r1i1p1f1_gn_200101-201012.nc', '/g/data/oi10/replicas/CMIP6/CMIP//AWI/AWI-CM-1-1-MR/historical/r1i1p1f1/Omon/tos/gn/v20181218/tos_Omon_AWI-CM-1-1-MR_historical_r1i1p1f1_gn_185101-186012.nc', '/g/data/oi10/replicas/CMIP6/CMIP//AWI/AWI-CM-1-1-MR/historical/r1i1p1f1/Omon/tos/gn/v20181218/tos_Omon_AWI-CM-1-1-MR_historical_r1i1p1f1_gn_197101-198012.nc', '/g/data/oi10/replicas/CMIP6/CMIP//AWI/AWI-CM-1-1-MR/historical/r1i1p1f1/Omon/tos/gn/v20181218/tos_Omon_AWI-CM-1-1-MR_historical_r1i1p1f1_gn_187101-188012.nc', '/g/data/oi10/replicas/CMIP6/CMIP//AWI/AWI-CM-1-1-MR/historical/r1i1p1f1/Omon/tos/gn/v20181218/tos_Omon_AWI-CM-1-1-MR_historical_r1i1p1f1_gn_199101-200012.nc', '/g/data/oi10/replicas/CMIP6/CMIP//AWI/AWI-CM-1-1-MR/historical/r1i1p1f1/Omon/tos/gn/v20181218/tos_Omon_AWI-CM-1-1-MR_historical_r1i1p1f1_gn_189101-190012.nc', '/g/data/oi10/replicas/CMIP6/CMIP//AWI/AWI-CM-1-1-MR/historical/r1i1p1f1/Omon/tos/gn/v20181218/tos_Omon_AWI-CM-1-1-MR_historical_r1i1p1f1_gn_193101-194012.nc', '/g/data/oi10/replicas/CMIP6/CMIP//AWI/AWI-CM-1-1-MR/historical/r1i1p1f1/Omon/tos/gn/v20181218/tos_Omon_AWI-CM-1-1-MR_historical_r1i1p1f1_gn_194101-195012.nc', '/g/data/oi10/replicas/CMIP6/CMIP//AWI/AWI-CM-1-1-MR/historical/r1i1p1f1/Omon/tos/gn/v20181218/tos_Omon_AWI-CM-1-1-MR_historical_r1i1p1f1_gn_185001-185012.nc', '/g/data/oi10/replicas/CMIP6/CMIP//AWI/AWI-CM-1-1-MR/historical/r1i1p1f1/Omon/tos/gn/v20181218/tos_Omon_AWI-CM-1-1-MR_historical_r1i1p1f1_gn_192101-193012.nc', '/g/data/oi10/replicas/CMIP6/CMIP//AWI/AWI-CM-1-1-MR/historical/r1i1p1f1/Omon/tos/gn/v20181218/tos_Omon_AWI-CM-1-1-MR_historical_r1i1p1f1_gn_191101-192012.nc', '/g/data/oi10/replicas/CMIP6/CMIP//AWI/AWI-CM-1-1-MR/historical/r1i1p1f1/Omon/tos/gn/v20181218/tos_Omon_AWI-CM-1-1-MR_historical_r1i1p1f1_gn_190101-191012.nc']\n",
      "/g/data/oi10/replicas/CMIP6/ScenarioMIP/\n",
      "tos_Omon_.*?AWI-CM-1-1-MR_ssp585_r1i1p1f1_.*?_.*\n",
      "['/g/data/oi10/replicas/CMIP6/ScenarioMIP//AWI/AWI-CM-1-1-MR/ssp585/r1i1p1f1/Omon/tos/gn/v20181218/tos_Omon_AWI-CM-1-1-MR_ssp585_r1i1p1f1_gn_204101-205012.nc', '/g/data/oi10/replicas/CMIP6/ScenarioMIP//AWI/AWI-CM-1-1-MR/ssp585/r1i1p1f1/Omon/tos/gn/v20181218/tos_Omon_AWI-CM-1-1-MR_ssp585_r1i1p1f1_gn_203101-204012.nc', '/g/data/oi10/replicas/CMIP6/ScenarioMIP//AWI/AWI-CM-1-1-MR/ssp585/r1i1p1f1/Omon/tos/gn/v20181218/tos_Omon_AWI-CM-1-1-MR_ssp585_r1i1p1f1_gn_207101-208012.nc', '/g/data/oi10/replicas/CMIP6/ScenarioMIP//AWI/AWI-CM-1-1-MR/ssp585/r1i1p1f1/Omon/tos/gn/v20181218/tos_Omon_AWI-CM-1-1-MR_ssp585_r1i1p1f1_gn_209101-210012.nc', '/g/data/oi10/replicas/CMIP6/ScenarioMIP//AWI/AWI-CM-1-1-MR/ssp585/r1i1p1f1/Omon/tos/gn/v20181218/tos_Omon_AWI-CM-1-1-MR_ssp585_r1i1p1f1_gn_206101-207012.nc', '/g/data/oi10/replicas/CMIP6/ScenarioMIP//AWI/AWI-CM-1-1-MR/ssp585/r1i1p1f1/Omon/tos/gn/v20181218/tos_Omon_AWI-CM-1-1-MR_ssp585_r1i1p1f1_gn_208101-209012.nc', '/g/data/oi10/replicas/CMIP6/ScenarioMIP//AWI/AWI-CM-1-1-MR/ssp585/r1i1p1f1/Omon/tos/gn/v20181218/tos_Omon_AWI-CM-1-1-MR_ssp585_r1i1p1f1_gn_205101-206012.nc', '/g/data/oi10/replicas/CMIP6/ScenarioMIP//AWI/AWI-CM-1-1-MR/ssp585/r1i1p1f1/Omon/tos/gn/v20181218/tos_Omon_AWI-CM-1-1-MR_ssp585_r1i1p1f1_gn_201501-202012.nc', '/g/data/oi10/replicas/CMIP6/ScenarioMIP//AWI/AWI-CM-1-1-MR/ssp585/r1i1p1f1/Omon/tos/gn/v20181218/tos_Omon_AWI-CM-1-1-MR_ssp585_r1i1p1f1_gn_202101-203012.nc']\n"
     ]
    }
   ],
   "source": [
    "%run utils/ecIndex.ipynb\n",
    "\n",
    "eofList = list()\n",
    "\n",
    "for iModel in modelSet:\n",
    "    try:\n",
    "        print(iModel[1])\n",
    "        \n",
    "        tsXr = xarray.concat([fh.loadModelData(iModel[1], 'tos_Omon', 'historical', iModel[3], \n",
    "                                               chunks={'time':120}).tos, \n",
    "                              fh.loadModelData(iModel[1], 'tos_Omon', 'ssp585', iModel[3], \n",
    "                                               chunks={'time':120}).tos], \n",
    "                             dim='time')\n",
    "\n",
    "        djfTsXr=tp.averageForTimePeriod(\n",
    "            tsXr.to_dataset(name='enso')).rename({'year':'time'})\n",
    "\n",
    "        indeces, pFit, eofsXr = ecIndex(tsXr)\n",
    "        \n",
    "        eofList.append(indeces)\n",
    "        \n",
    "        fig=plt.figure(figsize=(18,12))\n",
    "\n",
    "        for mode in [0,1]:\n",
    "            ax=fig.add_subplot(1,2,mode+1,\n",
    "                           projection=ccrs.Miller(central_longitude=210))\n",
    "\n",
    "            ensoPlotter(eofsXr.sel(mode=mode), ax)\n",
    "\n",
    "            plt.title(\"mode \" + str(mode))\n",
    "\n",
    "        plt.show()\n",
    "\n",
    "        #indecesDjf, pFit, eofsXr = ecIndex(djfTsXr)\n",
    "        \n",
    "        print(str(indeces.alpha.values)) #+ ' ... ' + str(indecesDjf.alpha.values))\n",
    "        alphas.append(indeces.alpha.values)\n",
    "        fig = plt.figure()\n",
    "\n",
    "        plt.scatter(indeces.pc1, indeces.pc2)\n",
    "\n",
    "        plt.plot(*pFit.linspace(), 'r')\n",
    "        \n",
    "        plt.show()\n",
    "        \n",
    "    except Exception as e:\n",
    "        print(e)"
   ]
  },
  {
   "cell_type": "markdown",
   "metadata": {},
   "source": [
    "Models can be chosen on some criteria\n",
    "\n",
    "alpha < -0.15 looks appropriate from Cai et al 2018, however as the methodology doesn't match exactly, this is probably not right and should be calculated from observations."
   ]
  },
  {
   "cell_type": "code",
   "execution_count": 9,
   "metadata": {},
   "outputs": [
    {
     "ename": "ValueError",
     "evalue": "must supply at least one object to concatenate",
     "output_type": "error",
     "traceback": [
      "\u001b[0;31m---------------------------------------------------------------------------\u001b[0m",
      "\u001b[0;31mStopIteration\u001b[0m                             Traceback (most recent call last)",
      "\u001b[0;32m/g/data3/hh5/public/apps/miniconda3/envs/analysis3-21.01/lib/python3.8/site-packages/xarray/core/concat.py\u001b[0m in \u001b[0;36mconcat\u001b[0;34m(objs, dim, data_vars, coords, compat, positions, fill_value, join, combine_attrs)\u001b[0m\n\u001b[1;32m    219\u001b[0m     \u001b[0;32mtry\u001b[0m\u001b[0;34m:\u001b[0m\u001b[0;34m\u001b[0m\u001b[0;34m\u001b[0m\u001b[0m\n\u001b[0;32m--> 220\u001b[0;31m         \u001b[0mfirst_obj\u001b[0m\u001b[0;34m,\u001b[0m \u001b[0mobjs\u001b[0m \u001b[0;34m=\u001b[0m \u001b[0mutils\u001b[0m\u001b[0;34m.\u001b[0m\u001b[0mpeek_at\u001b[0m\u001b[0;34m(\u001b[0m\u001b[0mobjs\u001b[0m\u001b[0;34m)\u001b[0m\u001b[0;34m\u001b[0m\u001b[0;34m\u001b[0m\u001b[0m\n\u001b[0m\u001b[1;32m    221\u001b[0m     \u001b[0;32mexcept\u001b[0m \u001b[0mStopIteration\u001b[0m\u001b[0;34m:\u001b[0m\u001b[0;34m\u001b[0m\u001b[0;34m\u001b[0m\u001b[0m\n",
      "\u001b[0;32m/g/data3/hh5/public/apps/miniconda3/envs/analysis3-21.01/lib/python3.8/site-packages/xarray/core/utils.py\u001b[0m in \u001b[0;36mpeek_at\u001b[0;34m(iterable)\u001b[0m\n\u001b[1;32m    193\u001b[0m     \u001b[0mgen\u001b[0m \u001b[0;34m=\u001b[0m \u001b[0miter\u001b[0m\u001b[0;34m(\u001b[0m\u001b[0miterable\u001b[0m\u001b[0;34m)\u001b[0m\u001b[0;34m\u001b[0m\u001b[0;34m\u001b[0m\u001b[0m\n\u001b[0;32m--> 194\u001b[0;31m     \u001b[0mpeek\u001b[0m \u001b[0;34m=\u001b[0m \u001b[0mnext\u001b[0m\u001b[0;34m(\u001b[0m\u001b[0mgen\u001b[0m\u001b[0;34m)\u001b[0m\u001b[0;34m\u001b[0m\u001b[0;34m\u001b[0m\u001b[0m\n\u001b[0m\u001b[1;32m    195\u001b[0m     \u001b[0;32mreturn\u001b[0m \u001b[0mpeek\u001b[0m\u001b[0;34m,\u001b[0m \u001b[0mitertools\u001b[0m\u001b[0;34m.\u001b[0m\u001b[0mchain\u001b[0m\u001b[0;34m(\u001b[0m\u001b[0;34m[\u001b[0m\u001b[0mpeek\u001b[0m\u001b[0;34m]\u001b[0m\u001b[0;34m,\u001b[0m \u001b[0mgen\u001b[0m\u001b[0;34m)\u001b[0m\u001b[0;34m\u001b[0m\u001b[0;34m\u001b[0m\u001b[0m\n",
      "\u001b[0;31mStopIteration\u001b[0m: ",
      "\nDuring handling of the above exception, another exception occurred:\n",
      "\u001b[0;31mValueError\u001b[0m                                Traceback (most recent call last)",
      "\u001b[0;32m<ipython-input-9-25aaba74861d>\u001b[0m in \u001b[0;36m<module>\u001b[0;34m\u001b[0m\n\u001b[0;32m----> 1\u001b[0;31m \u001b[0mecXr\u001b[0m\u001b[0;34m=\u001b[0m\u001b[0mxarray\u001b[0m\u001b[0;34m.\u001b[0m\u001b[0mconcat\u001b[0m\u001b[0;34m(\u001b[0m\u001b[0meofList\u001b[0m\u001b[0;34m,\u001b[0m \u001b[0;34m'model'\u001b[0m\u001b[0;34m)\u001b[0m\u001b[0;34m\u001b[0m\u001b[0;34m\u001b[0m\u001b[0m\n\u001b[0m",
      "\u001b[0;32m/g/data3/hh5/public/apps/miniconda3/envs/analysis3-21.01/lib/python3.8/site-packages/xarray/core/concat.py\u001b[0m in \u001b[0;36mconcat\u001b[0;34m(objs, dim, data_vars, coords, compat, positions, fill_value, join, combine_attrs)\u001b[0m\n\u001b[1;32m    220\u001b[0m         \u001b[0mfirst_obj\u001b[0m\u001b[0;34m,\u001b[0m \u001b[0mobjs\u001b[0m \u001b[0;34m=\u001b[0m \u001b[0mutils\u001b[0m\u001b[0;34m.\u001b[0m\u001b[0mpeek_at\u001b[0m\u001b[0;34m(\u001b[0m\u001b[0mobjs\u001b[0m\u001b[0;34m)\u001b[0m\u001b[0;34m\u001b[0m\u001b[0;34m\u001b[0m\u001b[0m\n\u001b[1;32m    221\u001b[0m     \u001b[0;32mexcept\u001b[0m \u001b[0mStopIteration\u001b[0m\u001b[0;34m:\u001b[0m\u001b[0;34m\u001b[0m\u001b[0;34m\u001b[0m\u001b[0m\n\u001b[0;32m--> 222\u001b[0;31m         \u001b[0;32mraise\u001b[0m \u001b[0mValueError\u001b[0m\u001b[0;34m(\u001b[0m\u001b[0;34m\"must supply at least one object to concatenate\"\u001b[0m\u001b[0;34m)\u001b[0m\u001b[0;34m\u001b[0m\u001b[0;34m\u001b[0m\u001b[0m\n\u001b[0m\u001b[1;32m    223\u001b[0m \u001b[0;34m\u001b[0m\u001b[0m\n\u001b[1;32m    224\u001b[0m     \u001b[0;32mif\u001b[0m \u001b[0mcompat\u001b[0m \u001b[0;32mnot\u001b[0m \u001b[0;32min\u001b[0m \u001b[0m_VALID_COMPAT\u001b[0m\u001b[0;34m:\u001b[0m\u001b[0;34m\u001b[0m\u001b[0;34m\u001b[0m\u001b[0m\n",
      "\u001b[0;31mValueError\u001b[0m: must supply at least one object to concatenate"
     ]
    }
   ],
   "source": [
    "ecXr=xarray.concat(eofList, 'model')"
   ]
  },
  {
   "cell_type": "code",
   "execution_count": null,
   "metadata": {},
   "outputs": [],
   "source": [
    "ecXr.model.values"
   ]
  },
  {
   "cell_type": "code",
   "execution_count": null,
   "metadata": {},
   "outputs": [],
   "source": [
    "for i in range(0,30):\n",
    "    ds=ecXr.isel(model=i)\n",
    "    print(str(ds.model.values) + ' : ' + str(ds.alpha.values))"
   ]
  },
  {
   "cell_type": "code",
   "execution_count": null,
   "metadata": {},
   "outputs": [],
   "source": [
    "wangAnswer=modelSet[[4,9,#11,\n",
    "                     12,15,17,30,29,22,31,32,33,21,6,7,35,36,#20,\n",
    "                     8],:]"
   ]
  },
  {
   "cell_type": "code",
   "execution_count": null,
   "metadata": {},
   "outputs": [],
   "source": [
    "for i in wangAnswer:\n",
    "    ds=ecXr.sel(model=i[1])\n",
    "    print(str(ds.model.values) + ' : ' + str(ds.alpha.values) + '   ' + i[3])"
   ]
  },
  {
   "cell_type": "code",
   "execution_count": null,
   "metadata": {},
   "outputs": [],
   "source": []
  }
 ],
 "metadata": {
  "kernelspec": {
   "display_name": "Python 3",
   "language": "python",
   "name": "python3"
  },
  "language_info": {
   "codemirror_mode": {
    "name": "ipython",
    "version": 3
   },
   "file_extension": ".py",
   "mimetype": "text/x-python",
   "name": "python",
   "nbconvert_exporter": "python",
   "pygments_lexer": "ipython3",
   "version": "3.8.6"
  }
 },
 "nbformat": 4,
 "nbformat_minor": 5
}
